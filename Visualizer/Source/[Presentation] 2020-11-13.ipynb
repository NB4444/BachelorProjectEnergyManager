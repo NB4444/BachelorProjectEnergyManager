{
 "cells": [
  {
   "cell_type": "code",
   "execution_count": 1,
   "metadata": {},
   "outputs": [
    {
     "ename": "OperationalError",
     "evalue": "no such table: ProfilerSession",
     "output_type": "error",
     "traceback": [
      "\u001b[0;31m\u001b[0m",
      "\u001b[0;31mOperationalError\u001b[0mTraceback (most recent call last)",
      "\u001b[0;32m<ipython-input-1-7193e54ec433>\u001b[0m in \u001b[0;36m<module>\u001b[0;34m\u001b[0m\n\u001b[1;32m     10\u001b[0m \u001b[0;31m# Load the complete data set\u001b[0m\u001b[0;34m\u001b[0m\u001b[0;34m\u001b[0m\u001b[0;34m\u001b[0m\u001b[0m\n\u001b[1;32m     11\u001b[0m \u001b[0mdatabase\u001b[0m \u001b[0;34m=\u001b[0m \u001b[0;34mf\"{os.environ.get('HOME')}/EnergyManager-Resources/OldDatabase.sqlite\"\u001b[0m\u001b[0;34m\u001b[0m\u001b[0;34m\u001b[0m\u001b[0m\n\u001b[0;32m---> 12\u001b[0;31m \u001b[0mcomplete_data_set\u001b[0m \u001b[0;34m=\u001b[0m \u001b[0mDataSet\u001b[0m\u001b[0;34m(\u001b[0m\u001b[0mProfilerSession\u001b[0m\u001b[0;34m.\u001b[0m\u001b[0mload_all\u001b[0m\u001b[0;34m(\u001b[0m\u001b[0mdatabase\u001b[0m\u001b[0;34m)\u001b[0m\u001b[0;34m)\u001b[0m\u001b[0;34m\u001b[0m\u001b[0;34m\u001b[0m\u001b[0m\n\u001b[0m\u001b[1;32m     13\u001b[0m \u001b[0;34m\u001b[0m\u001b[0m\n\u001b[1;32m     14\u001b[0m \u001b[0;31m# Load the individual data sets per application type and configuration\u001b[0m\u001b[0;34m\u001b[0m\u001b[0;34m\u001b[0m\u001b[0;34m\u001b[0m\u001b[0m\n",
      "\u001b[0;32m/data/Cloud/Nextcloud/Development/Projects/EnergyManager/Visualizer/Source/Visualizer/Monitoring/Persistence/ProfilerSession.py\u001b[0m in \u001b[0;36mload_all\u001b[0;34m(cls, database_file)\u001b[0m\n\u001b[1;32m     16\u001b[0m     \u001b[0;34m@\u001b[0m\u001b[0mclassmethod\u001b[0m\u001b[0;34m\u001b[0m\u001b[0;34m\u001b[0m\u001b[0m\n\u001b[1;32m     17\u001b[0m     \u001b[0;32mdef\u001b[0m \u001b[0mload_all\u001b[0m\u001b[0;34m(\u001b[0m\u001b[0mcls\u001b[0m\u001b[0;34m,\u001b[0m \u001b[0mdatabase_file\u001b[0m\u001b[0;34m:\u001b[0m \u001b[0mstr\u001b[0m\u001b[0;34m)\u001b[0m\u001b[0;34m:\u001b[0m\u001b[0;34m\u001b[0m\u001b[0;34m\u001b[0m\u001b[0m\n\u001b[0;32m---> 18\u001b[0;31m         \u001b[0;32mreturn\u001b[0m \u001b[0mcls\u001b[0m\u001b[0;34m.\u001b[0m\u001b[0m_load\u001b[0m\u001b[0;34m(\u001b[0m\u001b[0mdatabase_file\u001b[0m\u001b[0;34m)\u001b[0m\u001b[0;34m\u001b[0m\u001b[0;34m\u001b[0m\u001b[0m\n\u001b[0m\u001b[1;32m     19\u001b[0m \u001b[0;34m\u001b[0m\u001b[0m\n\u001b[1;32m     20\u001b[0m     \u001b[0;34m@\u001b[0m\u001b[0mclassmethod\u001b[0m\u001b[0;34m\u001b[0m\u001b[0;34m\u001b[0m\u001b[0m\n",
      "\u001b[0;32m/data/Cloud/Nextcloud/Development/Projects/EnergyManager/Visualizer/Source/Visualizer/Monitoring/Persistence/ProfilerSession.py\u001b[0m in \u001b[0;36m_load\u001b[0;34m(cls, database_file, conditions)\u001b[0m\n\u001b[1;32m     25\u001b[0m     \u001b[0;32mdef\u001b[0m \u001b[0m_load\u001b[0m\u001b[0;34m(\u001b[0m\u001b[0mcls\u001b[0m\u001b[0;34m,\u001b[0m \u001b[0mdatabase_file\u001b[0m\u001b[0;34m:\u001b[0m \u001b[0mstr\u001b[0m\u001b[0;34m,\u001b[0m \u001b[0mconditions\u001b[0m\u001b[0;34m:\u001b[0m \u001b[0mstr\u001b[0m \u001b[0;34m=\u001b[0m \u001b[0;32mNone\u001b[0m\u001b[0;34m)\u001b[0m\u001b[0;34m:\u001b[0m\u001b[0;34m\u001b[0m\u001b[0;34m\u001b[0m\u001b[0m\n\u001b[1;32m     26\u001b[0m         \u001b[0mprofiler_sessions\u001b[0m \u001b[0;34m=\u001b[0m \u001b[0;34m[\u001b[0m\u001b[0;34m]\u001b[0m\u001b[0;34m\u001b[0m\u001b[0;34m\u001b[0m\u001b[0m\n\u001b[0;32m---> 27\u001b[0;31m         \u001b[0;32mfor\u001b[0m \u001b[0mrow\u001b[0m \u001b[0;32min\u001b[0m \u001b[0mEntity\u001b[0m\u001b[0;34m(\u001b[0m\u001b[0mdatabase_file\u001b[0m\u001b[0;34m)\u001b[0m\u001b[0;34m.\u001b[0m\u001b[0m_select\u001b[0m\u001b[0;34m(\u001b[0m\u001b[0;34m\"ProfilerSession\"\u001b[0m\u001b[0;34m,\u001b[0m \u001b[0;34m[\u001b[0m\u001b[0;34m\"id\"\u001b[0m\u001b[0;34m,\u001b[0m \u001b[0;34m\"label\"\u001b[0m\u001b[0;34m]\u001b[0m\u001b[0;34m,\u001b[0m \u001b[0mconditions\u001b[0m\u001b[0;34m)\u001b[0m\u001b[0;34m:\u001b[0m\u001b[0;34m\u001b[0m\u001b[0;34m\u001b[0m\u001b[0m\n\u001b[0m\u001b[1;32m     28\u001b[0m             \u001b[0mid\u001b[0m \u001b[0;34m=\u001b[0m \u001b[0mrow\u001b[0m\u001b[0;34m[\u001b[0m\u001b[0;36m0\u001b[0m\u001b[0;34m]\u001b[0m\u001b[0;34m\u001b[0m\u001b[0;34m\u001b[0m\u001b[0m\n\u001b[1;32m     29\u001b[0m             \u001b[0mlabel\u001b[0m \u001b[0;34m=\u001b[0m \u001b[0mrow\u001b[0m\u001b[0;34m[\u001b[0m\u001b[0;36m1\u001b[0m\u001b[0;34m]\u001b[0m\u001b[0;34m\u001b[0m\u001b[0;34m\u001b[0m\u001b[0m\n",
      "\u001b[0;32m/data/Cloud/Nextcloud/Development/Projects/EnergyManager/Visualizer/Source/Visualizer/Persistence/Entity.py\u001b[0m in \u001b[0;36m_select\u001b[0;34m(self, table, columns, conditions, order)\u001b[0m\n\u001b[1;32m     57\u001b[0m \u001b[0;34m\u001b[0m\u001b[0m\n\u001b[1;32m     58\u001b[0m     \u001b[0;32mdef\u001b[0m \u001b[0m_select\u001b[0m\u001b[0;34m(\u001b[0m\u001b[0mself\u001b[0m\u001b[0;34m,\u001b[0m \u001b[0mtable\u001b[0m\u001b[0;34m:\u001b[0m \u001b[0mstr\u001b[0m\u001b[0;34m,\u001b[0m \u001b[0mcolumns\u001b[0m\u001b[0;34m:\u001b[0m \u001b[0mList\u001b[0m\u001b[0;34m[\u001b[0m\u001b[0mstr\u001b[0m\u001b[0;34m]\u001b[0m\u001b[0;34m,\u001b[0m \u001b[0mconditions\u001b[0m\u001b[0;34m:\u001b[0m \u001b[0mstr\u001b[0m \u001b[0;34m=\u001b[0m \u001b[0;32mNone\u001b[0m\u001b[0;34m,\u001b[0m \u001b[0morder\u001b[0m\u001b[0;34m:\u001b[0m \u001b[0mstr\u001b[0m \u001b[0;34m=\u001b[0m \u001b[0;32mNone\u001b[0m\u001b[0;34m)\u001b[0m\u001b[0;34m:\u001b[0m\u001b[0;34m\u001b[0m\u001b[0;34m\u001b[0m\u001b[0m\n\u001b[0;32m---> 59\u001b[0;31m         return self._execute_sql(\n\u001b[0m\u001b[1;32m     60\u001b[0m             f\"SELECT {','.join(columns)} FROM {table}\" + (f\" WHERE {conditions}\" if conditions is not None else \"\") + (\n\u001b[1;32m     61\u001b[0m                 f\" ORDER BY {order}\" if order is not None else \"\") + \";\")\n",
      "\u001b[0;32m/data/Cloud/Nextcloud/Development/Projects/EnergyManager/Visualizer/Source/Visualizer/Persistence/Entity.py\u001b[0m in \u001b[0;36m_execute_sql\u001b[0;34m(self, statement)\u001b[0m\n\u001b[1;32m     13\u001b[0m \u001b[0;34m\u001b[0m\u001b[0m\n\u001b[1;32m     14\u001b[0m         \u001b[0mcursor\u001b[0m \u001b[0;34m=\u001b[0m \u001b[0mself\u001b[0m\u001b[0;34m.\u001b[0m\u001b[0mdatabase\u001b[0m\u001b[0;34m.\u001b[0m\u001b[0mcursor\u001b[0m\u001b[0;34m(\u001b[0m\u001b[0;34m)\u001b[0m\u001b[0;34m\u001b[0m\u001b[0;34m\u001b[0m\u001b[0m\n\u001b[0;32m---> 15\u001b[0;31m         \u001b[0mcursor\u001b[0m\u001b[0;34m.\u001b[0m\u001b[0mexecute\u001b[0m\u001b[0;34m(\u001b[0m\u001b[0mstatement\u001b[0m\u001b[0;34m)\u001b[0m\u001b[0;34m\u001b[0m\u001b[0;34m\u001b[0m\u001b[0m\n\u001b[0m\u001b[1;32m     16\u001b[0m \u001b[0;34m\u001b[0m\u001b[0m\n\u001b[1;32m     17\u001b[0m         \u001b[0;32mreturn\u001b[0m \u001b[0mcursor\u001b[0m\u001b[0;34m.\u001b[0m\u001b[0mfetchall\u001b[0m\u001b[0;34m(\u001b[0m\u001b[0;34m)\u001b[0m\u001b[0;34m\u001b[0m\u001b[0;34m\u001b[0m\u001b[0m\n",
      "\u001b[0;31mOperationalError\u001b[0m: no such table: ProfilerSession"
     ]
    }
   ],
   "source": [
    "%matplotlib widget\n",
    "\n",
    "import os\n",
    "import pprint\n",
    "\n",
    "from Visualizer.ControlledDataSet import ControlComparison, ControlledDataSet\n",
    "from Visualizer.DataSet import DataSet\n",
    "from Visualizer.Monitoring.Persistence.ProfilerSession import ProfilerSession\n",
    "\n",
    "# Load the complete data set\n",
    "database = f\"{os.environ.get('HOME')}/EnergyManager-Resources/OldDatabase.sqlite\"\n",
    "complete_data_set = DataSet(ProfilerSession.load_all(database))\n",
    "\n",
    "# Load the individual data sets per application type and configuration\n",
    "fixed_frequency_matrix_multiply_data_set = DataSet([profiler_session for profiler_session in complete_data_set.data if profiler_session.label == \"Fixed Frequency Matrix Multiply\" and profiler_session.profile.get(\"matrixAWidth\") == 32 * 30 and \"iterations\" not in profiler_session.profile])\n",
    "matrix_multiply_data_set = DataSet([profiler_session for profiler_session in complete_data_set.data if profiler_session.label == \"Matrix Multiply\" and profiler_session.profile.get(\"matrixAWidth\") == 32 * 30 and \"iterations\" not in profiler_session.profile])\n",
    "fixed_frequency_long_matrix_multiply_data_set = DataSet([profiler_session for profiler_session in complete_data_set.data if profiler_session.label == \"Fixed Frequency Matrix Multiply\" and profiler_session.profile.get(\"matrixAWidth\") == 32 * 30 and profiler_session.profile.get(\"iterations\") == 4])\n",
    "long_matrix_multiply_data_set = DataSet([profiler_session for profiler_session in complete_data_set.data if profiler_session.label == \"Matrix Multiply\" and profiler_session.profile.get(\"matrixAWidth\") == 32 * 30 and profiler_session.profile.get(\"iterations\") == 4])\n",
    "\n",
    "fixed_frequency_kmeans_data_set = DataSet([profiler_session for profiler_session in complete_data_set.data if profiler_session.label == \"Fixed Frequency KMeans\" and \"file\" in profiler_session.profile and profiler_session.profile[\"file\"].endswith(\"kdd_cup\") and \"iterations\" not in profiler_session.profile])\n",
    "kmeans_data_set = DataSet([profiler_session for profiler_session in complete_data_set.data if profiler_session.label == \"KMeans\" and \"file\" in profiler_session.profile and profiler_session.profile[\"file\"].endswith(\"kdd_cup\") and \"iterations\" not in profiler_session.profile])\n",
    "fixed_frequency_long_kmeans_data_set = DataSet([profiler_session for profiler_session in complete_data_set.data if profiler_session.label == \"Fixed Frequency KMeans\" and \"file\" in profiler_session.profile and profiler_session.profile[\"file\"].endswith(\"kdd_cup\") and profiler_session.profile.get(\"iterations\") == 4])\n",
    "long_kmeans_data_set = DataSet([profiler_session for profiler_session in complete_data_set.data if profiler_session.label == \"KMeans\" and \"file\" in profiler_session.profile and profiler_session.profile[\"file\"].endswith(\"kdd_cup\") and profiler_session.profile.get(\"iterations\") == 4])\n",
    "\n",
    "# Convert the data sets to separate sets of data and associated control data\n",
    "matrix_multiply_controlled_data_set = ControlledDataSet(\n",
    "    data_set=fixed_frequency_matrix_multiply_data_set,\n",
    "    control_data_set=matrix_multiply_data_set\n",
    ")\n",
    "long_matrix_multiply_controlled_data_set = ControlledDataSet(\n",
    "    data_set=fixed_frequency_long_matrix_multiply_data_set,\n",
    "    control_data_set=long_matrix_multiply_data_set\n",
    ")\n",
    "\n",
    "kmeans_controlled_data_set = ControlledDataSet(\n",
    "    data_set=fixed_frequency_kmeans_data_set,\n",
    "    control_data_set=kmeans_data_set\n",
    ")\n",
    "long_kmeans_controlled_data_set = ControlledDataSet(\n",
    "    data_set=fixed_frequency_long_kmeans_data_set,\n",
    "    control_data_set=long_kmeans_data_set\n",
    ")"
   ]
  },
  {
   "cell_type": "markdown",
   "metadata": {},
   "source": [
    "# [Presentation] 2020-11-3"
   ]
  },
  {
   "cell_type": "markdown",
   "metadata": {},
   "source": [
    "## Effects of CPU and GPU Frequency on Runtime and Energy Consumption"
   ]
  },
  {
   "cell_type": "markdown",
   "metadata": {},
   "source": [
    "### Matrix Multiply\n",
    "\n",
    "- Performed using the samples from **CUDA 10.1**\n",
    "- Uses a matrix size of `960`"
   ]
  },
  {
   "cell_type": "markdown",
   "metadata": {},
   "source": [
    "#### Control Data\n",
    "\n",
    "- Plot shows runs of matrix multiply with default configuration\n",
    "    - Device **frequencies unrestricted**\n",
    "- Runtime averages about `0.55 seconds`\n",
    "- Energy consumption averages about `80 joules`"
   ]
  },
  {
   "cell_type": "code",
   "execution_count": null,
   "metadata": {},
   "outputs": [],
   "source": [
    "matrix_multiply_data_set.energy_consumption_vs_runtime_scatter_plot(normalized=False).plot()"
   ]
  },
  {
   "cell_type": "markdown",
   "metadata": {},
   "source": [
    "#### Experimental Data\n",
    "\n",
    "- This plot shows runs of **matrix multiply** where the **frequencies have been restricted**\n",
    "- **Similar colors** have **similar frequency restrictions**\n",
    "- **Runtime** mostly dominated by **GPU frequency**\n",
    "- **Energy consumption** dominated by **CPU frequency**\n",
    "- Different frequency restrictions result in similar runtimes and different energy consumptions\n",
    "    - **Changing the frequency** can **save energy without increasing runtime**"
   ]
  },
  {
   "cell_type": "code",
   "execution_count": null,
   "metadata": {},
   "outputs": [],
   "source": [
    "fixed_frequency_matrix_multiply_data_set.energy_consumption_vs_runtime_scatter_plot(normalized=False).plot()"
   ]
  },
  {
   "cell_type": "markdown",
   "metadata": {},
   "source": [
    "- This next plot shows the same data, but instead each point is **compared to the average of the control data**\n",
    "- This results in the **energy savings** and **runtime increase** for each run compared to control data"
   ]
  },
  {
   "cell_type": "code",
   "execution_count": null,
   "metadata": {},
   "outputs": [],
   "source": [
    "matrix_multiply_controlled_data_set.energy_savings_vs_runtime_increase_plot(normalized=False, control_comparison=ControlComparison.MEAN).plot()"
   ]
  },
  {
   "cell_type": "markdown",
   "metadata": {},
   "source": [
    "- The most interesting portion is everything in the **top left corner**\n",
    "    - These are runs that **save energy and time** compared to the control data\n",
    "- For most of these points, **GPU frequency is at or near the maximum**\n",
    "    - This also suggests that **changing GPU frequencies** for **GPU bound applications** does **not** lead to **energy savings**\n",
    "    - **CPU frequency** seems to be the **major factor** in **determining energy savings** for **GPU bound applications**"
   ]
  },
  {
   "cell_type": "code",
   "execution_count": null,
   "metadata": {},
   "outputs": [],
   "source": [
    "plot = matrix_multiply_controlled_data_set.energy_savings_vs_runtime_increase_plot(normalized=False, control_comparison=ControlComparison.MEAN)\n",
    "plot.x_max = 0\n",
    "plot.y_min = 0\n",
    "plot.plot()"
   ]
  },
  {
   "cell_type": "markdown",
   "metadata": {},
   "source": [
    "- Plot shows the **effect of different CPU and GPU frequencies on runtime**\n",
    "- Different **CPU frequencies have a minor impact**\n",
    "- **Low GPU frequencies have a major impact**\n",
    "    - Impact becomes smaller as the clock rate increases\n",
    "    - Again points to the application being **GPU bound**"
   ]
  },
  {
   "cell_type": "code",
   "execution_count": null,
   "metadata": {},
   "outputs": [],
   "source": [
    "fixed_frequency_matrix_multiply_data_set.core_clock_rate_vs_gpu_clock_rate_vs_runtime_scatter_plot().plot()"
   ]
  },
  {
   "cell_type": "markdown",
   "metadata": {},
   "source": [
    "- This graph plots the same data, but **compared to the average control data**\n",
    "- Runs that save time are on the upper end of the frequency spectrum as expected"
   ]
  },
  {
   "cell_type": "code",
   "execution_count": null,
   "metadata": {},
   "outputs": [],
   "source": [
    "matrix_multiply_controlled_data_set.core_clock_rate_vs_gpu_clock_rate_vs_runtime_increase_scatter_plot(control_comparison=ControlComparison.MEAN).plot()"
   ]
  },
  {
   "cell_type": "markdown",
   "metadata": {},
   "source": [
    "- The next graph plots the **effects on energy consumption**\n",
    "- **Low GPU frequencies** seem to **increase energy consumption by a lot**\n",
    "    - Probably due to the observed **increase in runtime**\n",
    "    - Beyond `1 GHz` the impact of GPU frequency is minimal\n",
    "- **Low CPU frequencies reduce** the **energy consumption**\n",
    "    - GPU bound applications have the CPU waiting for the GPU\n",
    "    - **Lowering the CPU frequency decreases idle time on the CPU** while the GPU is busy\n",
    "    - In contrast to GPU frequency, **lower frequencies save energy**"
   ]
  },
  {
   "cell_type": "code",
   "execution_count": null,
   "metadata": {},
   "outputs": [],
   "source": [
    "fixed_frequency_matrix_multiply_data_set.core_clock_rate_vs_gpu_clock_rate_vs_energy_consumption_scatter_plot().plot()"
   ]
  },
  {
   "cell_type": "markdown",
   "metadata": {},
   "source": [
    "- This graph plots the same data, but again **compared to the average control data**\n",
    "- **Runs that save energy** compared to the control data tend to have a **high GPU frequency** and a **low to medium CPU frequency**"
   ]
  },
  {
   "cell_type": "code",
   "execution_count": null,
   "metadata": {},
   "outputs": [],
   "source": [
    "matrix_multiply_controlled_data_set.core_clock_rate_vs_gpu_clock_rate_vs_energy_savings_scatter_plot(control_comparison=ControlComparison.MEAN).plot()"
   ]
  },
  {
   "cell_type": "markdown",
   "metadata": {},
   "source": [
    "### K-Means\n",
    "\n",
    "- Performed with Rodinia 3.1\n",
    "- Used `kdd_cup` data set"
   ]
  },
  {
   "cell_type": "markdown",
   "metadata": {},
   "source": [
    "#### Control Data\n",
    "\n",
    "- Plot shows runs of **k-means** with **unrestricted frequencies**\n",
    "- Runtime averages about `0.68 seconds`\n",
    "- Energy consumption averages about `65 joules`"
   ]
  },
  {
   "cell_type": "code",
   "execution_count": null,
   "metadata": {},
   "outputs": [],
   "source": [
    "kmeans_data_set.energy_consumption_vs_runtime_scatter_plot(normalized=False).plot()"
   ]
  },
  {
   "cell_type": "markdown",
   "metadata": {},
   "source": [
    "#### Experimental Data\n",
    "\n",
    "- This plot shows runs of matrix multiply where the frequencies have been restricted\n",
    "- **Runtime** mostly dominated by **CPU frequency**\n",
    "- **Energy consumption** dominated by **GPU frequency**\n",
    "- Application seems to be **CPU bound**\n",
    "- Different frequency restrictions result in similar runtimes and different energy consumptions\n",
    "    - Changing the frequency can save energy without increasing runtime"
   ]
  },
  {
   "cell_type": "code",
   "execution_count": null,
   "metadata": {},
   "outputs": [],
   "source": [
    "fixed_frequency_kmeans_data_set.energy_consumption_vs_runtime_scatter_plot(normalized=False).plot()"
   ]
  },
  {
   "cell_type": "markdown",
   "metadata": {},
   "source": [
    "- This next plot again shows the same data **compared to the average of the control data**\n",
    "- In contrast to matrix multiply, k-means has **no runs where runtime is decreased**"
   ]
  },
  {
   "cell_type": "code",
   "execution_count": null,
   "metadata": {},
   "outputs": [],
   "source": [
    "kmeans_controlled_data_set.energy_savings_vs_runtime_increase_plot(normalized=False, control_comparison=ControlComparison.MEAN).plot()"
   ]
  },
  {
   "cell_type": "markdown",
   "metadata": {},
   "source": [
    "- However, there are a few runs that **save energy**, but **not many** in the entire data set\n",
    "- This suggests that **CPU bound** applications offer **less opportunities** to **save energy**"
   ]
  },
  {
   "cell_type": "code",
   "execution_count": null,
   "metadata": {},
   "outputs": [],
   "source": [
    "plot = kmeans_controlled_data_set.energy_savings_vs_runtime_increase_plot(normalized=False, control_comparison=ControlComparison.MEAN)\n",
    "plot.y_min = 0\n",
    "plot.plot()"
   ]
  },
  {
   "cell_type": "markdown",
   "metadata": {},
   "source": [
    "- Plot shows the **effect of different CPU and GPU frequencies on runtime**\n",
    "- Different **GPU frequencies have no impact**\n",
    "- **Low GPU frequencies have a major impact**\n",
    "    - Impact becomes smaller as the clock rate increases\n",
    "    - Again points to the application being **CPU bound**"
   ]
  },
  {
   "cell_type": "code",
   "execution_count": null,
   "metadata": {},
   "outputs": [],
   "source": [
    "fixed_frequency_kmeans_data_set.core_clock_rate_vs_gpu_clock_rate_vs_runtime_scatter_plot().plot()"
   ]
  },
  {
   "cell_type": "markdown",
   "metadata": {},
   "source": [
    "- This graph plots the same data, but **compared to the average control data**\n",
    "- As shown in the previous graphs, **no runs save time**"
   ]
  },
  {
   "cell_type": "code",
   "execution_count": null,
   "metadata": {},
   "outputs": [],
   "source": [
    "kmeans_controlled_data_set.core_clock_rate_vs_gpu_clock_rate_vs_runtime_increase_scatter_plot(control_comparison=ControlComparison.MEAN).plot()"
   ]
  },
  {
   "cell_type": "markdown",
   "metadata": {},
   "source": [
    "- The next graph plots the **effects on energy consumption**\n",
    "- **Low CPU frequencies** seem to **increase energy consumption by a lot**\n",
    "    - Probably due to the observed **increase in runtime**\n",
    "    - Beyond `0.4 GHz` the impact of CPU frequency is minimal\n",
    "- **GPU frequencies** have a **minimal impact** on **energy consumption**\n",
    "    - CPU bound applications have the GPU waiting for the CPU\n",
    "    - Apparently, **reducing GPU frequency** does **not lead** to **major energy savings** for **CPU bound** applications"
   ]
  },
  {
   "cell_type": "code",
   "execution_count": null,
   "metadata": {},
   "outputs": [],
   "source": [
    "fixed_frequency_kmeans_data_set.core_clock_rate_vs_gpu_clock_rate_vs_energy_consumption_scatter_plot().plot()"
   ]
  },
  {
   "cell_type": "markdown",
   "metadata": {},
   "source": [
    "- This graph plots the same data, but again **compared to the average control data**\n",
    "- The few **runs that save energy** seem to have **higher CPU frequencies** and **lower GPU frequencies** but the data is **inconclusive**"
   ]
  },
  {
   "cell_type": "code",
   "execution_count": null,
   "metadata": {},
   "outputs": [],
   "source": [
    "kmeans_controlled_data_set.core_clock_rate_vs_gpu_clock_rate_vs_energy_savings_scatter_plot(control_comparison=ControlComparison.MEAN).plot()"
   ]
  },
  {
   "cell_type": "markdown",
   "metadata": {},
   "source": [
    "## Effects of CPU and GPU Frequency on Workload Patterns"
   ]
  },
  {
   "cell_type": "markdown",
   "metadata": {},
   "source": [
    "### Matrix Multiply\n",
    "\n",
    "- Performed using the samples from **CUDA 10.1**\n",
    "- Uses a matrix size of `960`\n",
    "- All runs pinned to `core 0`\n",
    "- Each run contains `4 executions` of matrix multiply to clearly show **periodic behavior**"
   ]
  },
  {
   "cell_type": "markdown",
   "metadata": {},
   "source": [
    "#### Data Overview\n",
    "\n",
    "- The next plots shows the **occurrence of different CPU utilization rates** in the control data set\n",
    "- The average **CPU utilization rate** seems to be around `40%`"
   ]
  },
  {
   "cell_type": "code",
   "execution_count": null,
   "metadata": {},
   "outputs": [],
   "source": [
    "for histogram_plot in matrix_multiply_controlled_data_set.data_set.utilization_rate_histogram_plots(bins=30, title_filter=\"CPUCoreMonitor.0.\"):\n",
    "    histogram_plot.plot()"
   ]
  },
  {
   "cell_type": "markdown",
   "metadata": {},
   "source": [
    "- The next plots shows the **occurrence of different GPU utilization rates** in the entire control data set\n",
    "- The average **GPU utilization rate** is spread evenly"
   ]
  },
  {
   "cell_type": "code",
   "execution_count": null,
   "metadata": {},
   "outputs": [],
   "source": [
    "for histogram_plot in matrix_multiply_controlled_data_set.data_set.utilization_rate_histogram_plots(bins=30, title_filter=\"GPUMonitor.0.\"):\n",
    "    histogram_plot.plot()"
   ]
  },
  {
   "cell_type": "markdown",
   "metadata": {},
   "source": [
    "#### Usage Pattern\n",
    "\n",
    "- This section shows a run that is representative of the observed utilization pattern\n",
    "- Below information about the system on which the run was performed is shown"
   ]
  },
  {
   "cell_type": "code",
   "execution_count": null,
   "metadata": {},
   "outputs": [],
   "source": [
    "profiler_session = [profiler_session for profiler_session in complete_data_set.data if profiler_session.id == 4809][0]\n",
    "pprint.pprint(profiler_session.summary)"
   ]
  },
  {
   "cell_type": "markdown",
   "metadata": {},
   "source": [
    "- The next plot shows **device utilization rate over time**\n",
    "- The **dips** in **CPU utilization rate** seem to **correlate with the start** of each iteration\n",
    "- The **CPU utilization rate** seems to remain near `100%`\n",
    "    - Possible explanation is the use of `cudaDeviceSynchronize()` on the **CPU**\n",
    "        - This puts the **CPU** in a **busy** loop waiting on the **GPU** to complete all work\n",
    "        - The **busy** loop costs more energy\n",
    "        - `cudaDeviceSynchronize()` is called twice in the code\n",
    "            - Matches the amount of peaks per iteration in the graph"
   ]
  },
  {
   "cell_type": "code",
   "execution_count": null,
   "metadata": {},
   "outputs": [],
   "source": [
    "plot = profiler_session.utilization_rate_timeseries_plot\n",
    "plot.plot_series = { key: plot.plot_series[key] for key in plot.plot_series if key.startswith(\"CPU 0 Core 0\") or key.startswith(\"GPU 0\") }\n",
    "plot.plot()"
   ]
  },
  {
   "cell_type": "markdown",
   "metadata": {},
   "source": [
    "- The following plot shows the **power consumption over time**\n",
    "- As expected, it remains relatively constant since both **CPU and GPU utilization rate** is at `100%`\n",
    "    - Nonetheless, dips can be observed whenever a new iteration starts"
   ]
  },
  {
   "cell_type": "code",
   "execution_count": null,
   "metadata": {},
   "outputs": [],
   "source": [
    "plot = profiler_session.power_consumption_timeseries_plot(plot_limits=False)\n",
    "#plot.plot_series = { key: plot.plot_series[key] for key in plot.plot_series if key.startswith(\"CPU 0 Core 0\") or key.startswith(\"GPU 0\") or key.startswith(\"Node\") }\n",
    "plot.plot()"
   ]
  },
  {
   "cell_type": "markdown",
   "metadata": {},
   "source": [
    "- This graph shows the **memory consumption over time**\n",
    "- The matrices do not consume a lot of memory\n",
    "- Dips can be observed at the start of each iteration"
   ]
  },
  {
   "cell_type": "code",
   "execution_count": null,
   "metadata": {},
   "outputs": [],
   "source": [
    "profiler_session.memory_consumption_timeseries_plot(plot_sizes=False).plot()"
   ]
  },
  {
   "cell_type": "markdown",
   "metadata": {},
   "source": [
    "### K-Means\n",
    "\n",
    "- Performed with **Rodinia 3.1**\n",
    "- Used `kdd_cup` data set\n",
    "- All runs pinned to `core 0`\n",
    "- Each run contains `4 executions` of k-means to clearly show **periodic behavior**"
   ]
  },
  {
   "cell_type": "markdown",
   "metadata": {},
   "source": [
    "#### Data Overview\n",
    "\n",
    "- The next plots shows the **occurrence of different CPU utilization rates** in the control data set\n",
    "- The most common **CPU utilization rates** seems to be spread between `0-50%`"
   ]
  },
  {
   "cell_type": "code",
   "execution_count": null,
   "metadata": {},
   "outputs": [],
   "source": [
    "for histogram_plot in kmeans_controlled_data_set.data_set.utilization_rate_histogram_plots(bins=30, title_filter=\"CPUCoreMonitor.0.\"):\n",
    "    histogram_plot.plot()"
   ]
  },
  {
   "cell_type": "markdown",
   "metadata": {},
   "source": [
    "- The next plots shows the **occurrence of different GPU utilization rates** in the entire control data set\n",
    "- The average **GPU utilization rate** is spread evenly"
   ]
  },
  {
   "cell_type": "code",
   "execution_count": null,
   "metadata": {},
   "outputs": [],
   "source": [
    "for histogram_plot in kmeans_controlled_data_set.data_set.utilization_rate_histogram_plots(bins=30, title_filter=\"GPUMonitor.0.\"):\n",
    "    histogram_plot.plot()"
   ]
  },
  {
   "cell_type": "markdown",
   "metadata": {},
   "source": [
    "#### Usage Pattern\n",
    "\n",
    "- This section shows a run that is representative of the observed utilization pattern\n",
    "- Below information about the system on which the run was performed is shown"
   ]
  },
  {
   "cell_type": "code",
   "execution_count": null,
   "metadata": {},
   "outputs": [],
   "source": [
    "profiler_session = [profiler_session for profiler_session in complete_data_set.data if profiler_session.id == 4861][0]"
   ]
  },
  {
   "cell_type": "markdown",
   "metadata": {},
   "source": [
    "- The next plot shows **device utilization rate over time**\n",
    "- Iterations not readily apparent in the data\n",
    "- The **CPU utilization rate** switches between `0%` and `100%`\n",
    "    - Again, a possible explanation is the use of `cudaDeviceSynchronize()` on the **CPU**\n",
    "- **GPU utilization** moves up and down but does not reach `100%`"
   ]
  },
  {
   "cell_type": "code",
   "execution_count": null,
   "metadata": {},
   "outputs": [],
   "source": [
    "plot = profiler_session.utilization_rate_timeseries_plot\n",
    "plot.plot_series = { key: plot.plot_series[key] for key in plot.plot_series if key.startswith(\"CPU 0 Core 0\") or key.startswith(\"GPU 0\") }\n",
    "plot.plot()"
   ]
  },
  {
   "cell_type": "markdown",
   "metadata": {},
   "source": [
    "- The following plot shows the **power consumption over time**\n",
    "- There is an initial dip, which is probably when **data is being read from disk**\n",
    "    - This data is probably **cached in subsequent iterations**, thus resulting in only one spike\n",
    "- It remains relatively constant over time"
   ]
  },
  {
   "cell_type": "code",
   "execution_count": null,
   "metadata": {},
   "outputs": [],
   "source": [
    "plot = profiler_session.power_consumption_timeseries_plot(plot_limits=False)\n",
    "plot.plot_series = { key: plot.plot_series[key] for key in plot.plot_series if key.startswith(\"CPU 0 Core 0\") or key.startswith(\"GPU 0\") or key.startswith(\"Node\") }\n",
    "plot.plot()"
   ]
  },
  {
   "cell_type": "markdown",
   "metadata": {},
   "source": [
    "- This graph shows the **memory consumption over time**\n",
    "- The data does not consume a lot of memory\n",
    "- Here, dips can be observed at the start of each new iteration"
   ]
  },
  {
   "cell_type": "code",
   "execution_count": null,
   "metadata": {},
   "outputs": [],
   "source": [
    "profiler_session.memory_consumption_timeseries_plot(plot_sizes=False).plot()"
   ]
  },
  {
   "cell_type": "markdown",
   "metadata": {},
   "source": [
    "## Investigating High CPU Usage"
   ]
  },
  {
   "cell_type": "markdown",
   "metadata": {},
   "source": [
    "- Using **matrix multiply**\n",
    "- Performed using the samples from **CUDA 10.1**\n",
    "- Uses a matrix size of `960`\n",
    "- All runs pinned to `core 0`\n",
    "- Each run contains `3 executions` of matrix multiply to show **periodic behavior**"
   ]
  },
  {
   "cell_type": "markdown",
   "metadata": {},
   "source": [
    "### Method\n",
    "\n",
    "- To investigate the **high CPU usage** we looked at `cudaDeviceSynchronize()` as a possible cause\n",
    "- **3 versions** of the source code were tested to observe the **effect on the utilization pattern**\n",
    "    1. A version **without explicit synchronization** calls like `cudaDeviceSynchronize()`\n",
    "        - Will still synchronize on data transfers\n",
    "        - Shows if the device is doing anything besides busy waiting\n",
    "    2. A version with **sleep** calls instead of **explicit synchronization** calls\n",
    "        - Will still synchronize on data transfers\n",
    "        - Shows if the sleep call reduces the time spent at `100%` **CPU utilization**\n",
    "            - That would indicate that the device is in a busy wait loop\n",
    "    3. A version with **sleep** calls and **explicit synchronization** calls\n",
    "        - Tests the impact of the explicit synchronization calls"
   ]
  },
  {
   "cell_type": "markdown",
   "metadata": {},
   "source": [
    "### Without Explicit Synchronization\n",
    "\n",
    "- This section shows a run where all **explicit synchronziation** calls were **removed**"
   ]
  },
  {
   "cell_type": "code",
   "execution_count": null,
   "metadata": {},
   "outputs": [],
   "source": [
    "profiler_session = [profiler_session for profiler_session in complete_data_set.data if profiler_session.id == 5003][0]"
   ]
  },
  {
   "cell_type": "markdown",
   "metadata": {},
   "source": [
    "- The next plot shows **device utilization rate over time**\n",
    "- Simply **removing the explicit synchronization** calls **does not seem to affect the observed behavior**"
   ]
  },
  {
   "cell_type": "code",
   "execution_count": null,
   "metadata": {},
   "outputs": [],
   "source": [
    "plot = profiler_session.utilization_rate_timeseries_plot\n",
    "plot.plot_series = { key: plot.plot_series[key] for key in plot.plot_series if key.startswith(\"CPU 0 Core 0\") or key.startswith(\"GPU 0\") }\n",
    "plot.plot()"
   ]
  },
  {
   "cell_type": "markdown",
   "metadata": {},
   "source": [
    "- The next plot shows the power consumption is also still similar to the version with explicit synchronization"
   ]
  },
  {
   "cell_type": "code",
   "execution_count": null,
   "metadata": {},
   "outputs": [],
   "source": [
    "plot = profiler_session.power_consumption_timeseries_plot(plot_limits=False)\n",
    "plot.plot_series = { key: plot.plot_series[key] for key in plot.plot_series if key.startswith(\"CPU 0 Core 0\") or key.startswith(\"GPU 0\") or key.startswith(\"Node\") }\n",
    "plot.plot()"
   ]
  },
  {
   "cell_type": "markdown",
   "metadata": {},
   "source": [
    "### With Sleep Instead of Explicit Synchronization\n",
    "\n",
    "- This section shows a run where all **explicit synchronziation** calls were **replaced** with **sleep** calls\n",
    "- Each **sleep** call takes `2 seconds`"
   ]
  },
  {
   "cell_type": "code",
   "execution_count": null,
   "metadata": {},
   "outputs": [],
   "source": [
    "profiler_session = [profiler_session for profiler_session in complete_data_set.data if profiler_session.id == 5166][0]"
   ]
  },
  {
   "cell_type": "markdown",
   "metadata": {},
   "source": [
    "- The next plot shows **device utilization rate over time**\n",
    "- The effect of the **sleep** calls is immediately apparent as 2 second long dips in **CPU utilization** at the start of each run\n",
    "    - The time per iteration is still similar, which suggests that our hypothesis is correct\n",
    "    - The high **CPU utilization** seems to be caused by the busy wait loop"
   ]
  },
  {
   "cell_type": "code",
   "execution_count": null,
   "metadata": {},
   "outputs": [],
   "source": [
    "plot = profiler_session.utilization_rate_timeseries_plot\n",
    "plot.plot_series = { key: plot.plot_series[key] for key in plot.plot_series if key.startswith(\"CPU 0 Core 0\") or key.startswith(\"GPU 0\") }\n",
    "plot.plot()"
   ]
  },
  {
   "cell_type": "markdown",
   "metadata": {},
   "source": [
    "- The next plot shows that the **dips in power consumption** at the start of each iteration are now **more pronounced**\n",
    "    - This suggests that by reducing the **CPU frequency** in a **busy loop** we can **save energy**"
   ]
  },
  {
   "cell_type": "code",
   "execution_count": null,
   "metadata": {},
   "outputs": [],
   "source": [
    "plot = profiler_session.power_consumption_timeseries_plot(plot_limits=False)\n",
    "plot.plot_series = { key: plot.plot_series[key] for key in plot.plot_series if key.startswith(\"CPU 0 Core 0\") or key.startswith(\"GPU 0\") or key.startswith(\"Node\") }\n",
    "plot.plot()"
   ]
  },
  {
   "cell_type": "markdown",
   "metadata": {},
   "source": [
    "### With Sleep and Explicit Synchronization\n",
    "\n",
    "- This section shows a run where all **explicit synchronziation** calls **preceded** with **sleep** calls\n",
    "- Each **sleep** call takes `2 seconds`"
   ]
  },
  {
   "cell_type": "code",
   "execution_count": null,
   "metadata": {},
   "outputs": [],
   "source": [
    "profiler_session = [profiler_session for profiler_session in complete_data_set.data if profiler_session.id == 5202][0]"
   ]
  },
  {
   "cell_type": "markdown",
   "metadata": {},
   "source": [
    "- The next plot shows **device utilization rate over time**\n",
    "- The **sleep** calls appear to have the **same effect** as in the previous run\n",
    "    - This seems to confirm the suspicion that **explicit synchronization is not needed**\n",
    "    - Synchronization will occur on memory access when results are copied back to the CPU"
   ]
  },
  {
   "cell_type": "code",
   "execution_count": null,
   "metadata": {},
   "outputs": [],
   "source": [
    "plot = profiler_session.utilization_rate_timeseries_plot\n",
    "plot.plot_series = { key: plot.plot_series[key] for key in plot.plot_series if key.startswith(\"CPU 0 Core 0\") or key.startswith(\"GPU 0\") }\n",
    "plot.plot()"
   ]
  },
  {
   "cell_type": "markdown",
   "metadata": {},
   "source": [
    "- The power consumption pattern seems to be similar to the previous version as well\n",
    "    - The dips for every iteration are slightly less pronounced but still visible"
   ]
  },
  {
   "cell_type": "code",
   "execution_count": null,
   "metadata": {},
   "outputs": [],
   "source": [
    "plot = profiler_session.power_consumption_timeseries_plot(plot_limits=False)\n",
    "plot.plot_series = { key: plot.plot_series[key] for key in plot.plot_series if key.startswith(\"CPU 0 Core 0\") or key.startswith(\"GPU 0\") or key.startswith(\"Node\") }\n",
    "plot.plot()"
   ]
  }
 ],
 "metadata": {
  "kernelspec": {
   "display_name": "Python 3",
   "language": "python",
   "name": "python3"
  },
  "language_info": {
   "codemirror_mode": {
    "name": "ipython",
    "version": 3
   },
   "file_extension": ".py",
   "mimetype": "text/x-python",
   "name": "python",
   "nbconvert_exporter": "python",
   "pygments_lexer": "ipython3",
   "version": "3.8.6"
  },
  "widgets": {
   "application/vnd.jupyter.widget-state+json": {
    "state": {},
    "version_major": 2,
    "version_minor": 0
   }
  }
 },
 "nbformat": 4,
 "nbformat_minor": 4
}
