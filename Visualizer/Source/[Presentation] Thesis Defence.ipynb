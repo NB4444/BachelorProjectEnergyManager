{
 "cells": [
  {
   "cell_type": "code",
   "execution_count": 1,
   "metadata": {},
   "outputs": [
    {
     "ename": "OperationalError",
     "evalue": "no such table: ProfilerSession",
     "output_type": "error",
     "traceback": [
      "\u001b[0;31m\u001b[0m",
      "\u001b[0;31mOperationalError\u001b[0mTraceback (most recent call last)",
      "\u001b[0;32m<ipython-input-1-971d8a899edd>\u001b[0m in \u001b[0;36m<module>\u001b[0;34m\u001b[0m\n\u001b[1;32m     10\u001b[0m \u001b[0;31m# Load the complete data set\u001b[0m\u001b[0;34m\u001b[0m\u001b[0;34m\u001b[0m\u001b[0;34m\u001b[0m\u001b[0m\n\u001b[1;32m     11\u001b[0m \u001b[0mdatabase\u001b[0m \u001b[0;34m=\u001b[0m \u001b[0;34mf\"{os.environ.get('HOME')}/EnergyManager-Resources/OldDatabase.sqlite\"\u001b[0m\u001b[0;34m\u001b[0m\u001b[0;34m\u001b[0m\u001b[0m\n\u001b[0;32m---> 12\u001b[0;31m \u001b[0mcomplete_data_set\u001b[0m \u001b[0;34m=\u001b[0m \u001b[0mDataSet\u001b[0m\u001b[0;34m(\u001b[0m\u001b[0mProfilerSession\u001b[0m\u001b[0;34m.\u001b[0m\u001b[0mload_all\u001b[0m\u001b[0;34m(\u001b[0m\u001b[0mdatabase\u001b[0m\u001b[0;34m)\u001b[0m\u001b[0;34m)\u001b[0m\u001b[0;34m\u001b[0m\u001b[0;34m\u001b[0m\u001b[0m\n\u001b[0m\u001b[1;32m     13\u001b[0m \u001b[0;34m\u001b[0m\u001b[0m\n\u001b[1;32m     14\u001b[0m \u001b[0;31m# Load the individual data sets per application type and configuration\u001b[0m\u001b[0;34m\u001b[0m\u001b[0;34m\u001b[0m\u001b[0;34m\u001b[0m\u001b[0m\n",
      "\u001b[0;32m/data/Cloud/Nextcloud/Development/Projects/EnergyManager/Visualizer/Source/Visualizer/Monitoring/Persistence/ProfilerSession.py\u001b[0m in \u001b[0;36mload_all\u001b[0;34m(cls, database_file)\u001b[0m\n\u001b[1;32m     16\u001b[0m     \u001b[0;34m@\u001b[0m\u001b[0mclassmethod\u001b[0m\u001b[0;34m\u001b[0m\u001b[0;34m\u001b[0m\u001b[0m\n\u001b[1;32m     17\u001b[0m     \u001b[0;32mdef\u001b[0m \u001b[0mload_all\u001b[0m\u001b[0;34m(\u001b[0m\u001b[0mcls\u001b[0m\u001b[0;34m,\u001b[0m \u001b[0mdatabase_file\u001b[0m\u001b[0;34m:\u001b[0m \u001b[0mstr\u001b[0m\u001b[0;34m)\u001b[0m\u001b[0;34m:\u001b[0m\u001b[0;34m\u001b[0m\u001b[0;34m\u001b[0m\u001b[0m\n\u001b[0;32m---> 18\u001b[0;31m         \u001b[0;32mreturn\u001b[0m \u001b[0mcls\u001b[0m\u001b[0;34m.\u001b[0m\u001b[0m_load\u001b[0m\u001b[0;34m(\u001b[0m\u001b[0mdatabase_file\u001b[0m\u001b[0;34m)\u001b[0m\u001b[0;34m\u001b[0m\u001b[0;34m\u001b[0m\u001b[0m\n\u001b[0m\u001b[1;32m     19\u001b[0m \u001b[0;34m\u001b[0m\u001b[0m\n\u001b[1;32m     20\u001b[0m     \u001b[0;34m@\u001b[0m\u001b[0mclassmethod\u001b[0m\u001b[0;34m\u001b[0m\u001b[0;34m\u001b[0m\u001b[0m\n",
      "\u001b[0;32m/data/Cloud/Nextcloud/Development/Projects/EnergyManager/Visualizer/Source/Visualizer/Monitoring/Persistence/ProfilerSession.py\u001b[0m in \u001b[0;36m_load\u001b[0;34m(cls, database_file, conditions)\u001b[0m\n\u001b[1;32m     25\u001b[0m     \u001b[0;32mdef\u001b[0m \u001b[0m_load\u001b[0m\u001b[0;34m(\u001b[0m\u001b[0mcls\u001b[0m\u001b[0;34m,\u001b[0m \u001b[0mdatabase_file\u001b[0m\u001b[0;34m:\u001b[0m \u001b[0mstr\u001b[0m\u001b[0;34m,\u001b[0m \u001b[0mconditions\u001b[0m\u001b[0;34m:\u001b[0m \u001b[0mstr\u001b[0m \u001b[0;34m=\u001b[0m \u001b[0;32mNone\u001b[0m\u001b[0;34m)\u001b[0m\u001b[0;34m:\u001b[0m\u001b[0;34m\u001b[0m\u001b[0;34m\u001b[0m\u001b[0m\n\u001b[1;32m     26\u001b[0m         \u001b[0mprofiler_sessions\u001b[0m \u001b[0;34m=\u001b[0m \u001b[0;34m[\u001b[0m\u001b[0;34m]\u001b[0m\u001b[0;34m\u001b[0m\u001b[0;34m\u001b[0m\u001b[0m\n\u001b[0;32m---> 27\u001b[0;31m         \u001b[0;32mfor\u001b[0m \u001b[0mrow\u001b[0m \u001b[0;32min\u001b[0m \u001b[0mEntity\u001b[0m\u001b[0;34m(\u001b[0m\u001b[0mdatabase_file\u001b[0m\u001b[0;34m)\u001b[0m\u001b[0;34m.\u001b[0m\u001b[0m_select\u001b[0m\u001b[0;34m(\u001b[0m\u001b[0;34m\"ProfilerSession\"\u001b[0m\u001b[0;34m,\u001b[0m \u001b[0;34m[\u001b[0m\u001b[0;34m\"id\"\u001b[0m\u001b[0;34m,\u001b[0m \u001b[0;34m\"label\"\u001b[0m\u001b[0;34m]\u001b[0m\u001b[0;34m,\u001b[0m \u001b[0mconditions\u001b[0m\u001b[0;34m)\u001b[0m\u001b[0;34m:\u001b[0m\u001b[0;34m\u001b[0m\u001b[0;34m\u001b[0m\u001b[0m\n\u001b[0m\u001b[1;32m     28\u001b[0m             \u001b[0mid\u001b[0m \u001b[0;34m=\u001b[0m \u001b[0mrow\u001b[0m\u001b[0;34m[\u001b[0m\u001b[0;36m0\u001b[0m\u001b[0;34m]\u001b[0m\u001b[0;34m\u001b[0m\u001b[0;34m\u001b[0m\u001b[0m\n\u001b[1;32m     29\u001b[0m             \u001b[0mlabel\u001b[0m \u001b[0;34m=\u001b[0m \u001b[0mrow\u001b[0m\u001b[0;34m[\u001b[0m\u001b[0;36m1\u001b[0m\u001b[0;34m]\u001b[0m\u001b[0;34m\u001b[0m\u001b[0;34m\u001b[0m\u001b[0m\n",
      "\u001b[0;32m/data/Cloud/Nextcloud/Development/Projects/EnergyManager/Visualizer/Source/Visualizer/Persistence/Entity.py\u001b[0m in \u001b[0;36m_select\u001b[0;34m(self, table, columns, conditions, order)\u001b[0m\n\u001b[1;32m     57\u001b[0m \u001b[0;34m\u001b[0m\u001b[0m\n\u001b[1;32m     58\u001b[0m     \u001b[0;32mdef\u001b[0m \u001b[0m_select\u001b[0m\u001b[0;34m(\u001b[0m\u001b[0mself\u001b[0m\u001b[0;34m,\u001b[0m \u001b[0mtable\u001b[0m\u001b[0;34m:\u001b[0m \u001b[0mstr\u001b[0m\u001b[0;34m,\u001b[0m \u001b[0mcolumns\u001b[0m\u001b[0;34m:\u001b[0m \u001b[0mList\u001b[0m\u001b[0;34m[\u001b[0m\u001b[0mstr\u001b[0m\u001b[0;34m]\u001b[0m\u001b[0;34m,\u001b[0m \u001b[0mconditions\u001b[0m\u001b[0;34m:\u001b[0m \u001b[0mstr\u001b[0m \u001b[0;34m=\u001b[0m \u001b[0;32mNone\u001b[0m\u001b[0;34m,\u001b[0m \u001b[0morder\u001b[0m\u001b[0;34m:\u001b[0m \u001b[0mstr\u001b[0m \u001b[0;34m=\u001b[0m \u001b[0;32mNone\u001b[0m\u001b[0;34m)\u001b[0m\u001b[0;34m:\u001b[0m\u001b[0;34m\u001b[0m\u001b[0;34m\u001b[0m\u001b[0m\n\u001b[0;32m---> 59\u001b[0;31m         return self._execute_sql(\n\u001b[0m\u001b[1;32m     60\u001b[0m             f\"SELECT {','.join(columns)} FROM {table}\" + (f\" WHERE {conditions}\" if conditions is not None else \"\") + (\n\u001b[1;32m     61\u001b[0m                 f\" ORDER BY {order}\" if order is not None else \"\") + \";\")\n",
      "\u001b[0;32m/data/Cloud/Nextcloud/Development/Projects/EnergyManager/Visualizer/Source/Visualizer/Persistence/Entity.py\u001b[0m in \u001b[0;36m_execute_sql\u001b[0;34m(self, statement)\u001b[0m\n\u001b[1;32m     13\u001b[0m \u001b[0;34m\u001b[0m\u001b[0m\n\u001b[1;32m     14\u001b[0m         \u001b[0mcursor\u001b[0m \u001b[0;34m=\u001b[0m \u001b[0mself\u001b[0m\u001b[0;34m.\u001b[0m\u001b[0mdatabase\u001b[0m\u001b[0;34m.\u001b[0m\u001b[0mcursor\u001b[0m\u001b[0;34m(\u001b[0m\u001b[0;34m)\u001b[0m\u001b[0;34m\u001b[0m\u001b[0;34m\u001b[0m\u001b[0m\n\u001b[0;32m---> 15\u001b[0;31m         \u001b[0mcursor\u001b[0m\u001b[0;34m.\u001b[0m\u001b[0mexecute\u001b[0m\u001b[0;34m(\u001b[0m\u001b[0mstatement\u001b[0m\u001b[0;34m)\u001b[0m\u001b[0;34m\u001b[0m\u001b[0;34m\u001b[0m\u001b[0m\n\u001b[0m\u001b[1;32m     16\u001b[0m \u001b[0;34m\u001b[0m\u001b[0m\n\u001b[1;32m     17\u001b[0m         \u001b[0;32mreturn\u001b[0m \u001b[0mcursor\u001b[0m\u001b[0;34m.\u001b[0m\u001b[0mfetchall\u001b[0m\u001b[0;34m(\u001b[0m\u001b[0;34m)\u001b[0m\u001b[0;34m\u001b[0m\u001b[0;34m\u001b[0m\u001b[0m\n",
      "\u001b[0;31mOperationalError\u001b[0m: no such table: ProfilerSession"
     ]
    }
   ],
   "source": [
    "%matplotlib widget\n",
    "\n",
    "import os\n",
    "import pathlib\n",
    "import pprint\n",
    "\n",
    "from Visualizer.ControlledDataSet import ControlComparison, ControlledDataSet\n",
    "from Visualizer.DataSet import DataSet\n",
    "from Visualizer.Monitoring.Persistence.ProfilerSession import ProfilerSession\n",
    "\n",
    "source_directory = pathlib.Path().parent.absolute()\n",
    "project_directory = f\"{source_directory}/..\"\n",
    "root_directory = f\"{project_directory}/..\"\n",
    "resources_directory = f\"{root_directory}/Resources\"\n",
    "database = f\"{resources_directory}/OldDatabase.sqlite\"\n",
    "\n",
    "# Load the complete data set\n",
    "complete_data_set = DataSet(ProfilerSession.load_all(database))\n",
    "\n",
    "# Load the individual data sets per application type and configuration\n",
    "fixed_frequency_matrix_multiply_data_set = DataSet([\n",
    "    profiler_session for profiler_session in complete_data_set.data\n",
    "    if profiler_session.label == \"Fixed Frequency Matrix Multiply\" and profiler_session.profile.get(\"matrixAWidth\") == 32 * 30 and \"iterations\" not in profiler_session.profile\n",
    "])\n",
    "matrix_multiply_data_set = DataSet([\n",
    "    profiler_session for profiler_session in complete_data_set.data\n",
    "    if profiler_session.label == \"Matrix Multiply\" and profiler_session.profile.get(\"matrixAWidth\") == 32 * 30 and \"iterations\" not in profiler_session.profile\n",
    "])\n",
    "fixed_frequency_long_matrix_multiply_data_set = DataSet([\n",
    "    profiler_session for profiler_session in complete_data_set.data\n",
    "    if profiler_session.label == \"Fixed Frequency Matrix Multiply\" and profiler_session.profile.get(\"matrixAWidth\") == 32 * 30 and profiler_session.profile.get(\"iterations\") == 4\n",
    "])\n",
    "long_matrix_multiply_data_set = DataSet([\n",
    "    profiler_session for profiler_session in complete_data_set.data\n",
    "    if profiler_session.label == \"Matrix Multiply\" and profiler_session.profile.get(\"matrixAWidth\") == 32 * 30 and profiler_session.profile.get(\"iterations\") == 4\n",
    "])\n",
    "\n",
    "fixed_frequency_kmeans_data_set = DataSet([\n",
    "    profiler_session for profiler_session in complete_data_set.data\n",
    "    if profiler_session.label == \"Fixed Frequency KMeans\" and \"file\" in profiler_session.profile and profiler_session.profile[\"file\"].endswith(\"kdd_cup\") and \"iterations\" not in profiler_session.profile\n",
    "])\n",
    "kmeans_data_set = DataSet([\n",
    "    profiler_session for profiler_session in complete_data_set.data\n",
    "    if profiler_session.label == \"KMeans\" and \"file\" in profiler_session.profile and profiler_session.profile[\"file\"].endswith(\"kdd_cup\") and \"iterations\" not in profiler_session.profile\n",
    "])\n",
    "fixed_frequency_long_kmeans_data_set = DataSet([\n",
    "    profiler_session for profiler_session in complete_data_set.data\n",
    "    if profiler_session.label == \"Fixed Frequency KMeans\" and \"file\" in profiler_session.profile and profiler_session.profile[\"file\"].endswith(\"kdd_cup\") and profiler_session.profile.get(\"iterations\") == 4\n",
    "])\n",
    "long_kmeans_data_set = DataSet([\n",
    "    profiler_session for profiler_session in complete_data_set.data\n",
    "    if profiler_session.label == \"KMeans\" and \"file\" in profiler_session.profile and profiler_session.profile[\"file\"].endswith(\"kdd_cup\") and profiler_session.profile.get(\"iterations\") == 4\n",
    "])\n",
    "\n",
    "# Convert the data sets to separate sets of data and associated control data\n",
    "matrix_multiply_controlled_data_set = ControlledDataSet(\n",
    "    data_set=fixed_frequency_matrix_multiply_data_set,\n",
    "    control_data_set=matrix_multiply_data_set\n",
    ")\n",
    "long_matrix_multiply_controlled_data_set = ControlledDataSet(\n",
    "    data_set=fixed_frequency_long_matrix_multiply_data_set,\n",
    "    control_data_set=long_matrix_multiply_data_set\n",
    ")\n",
    "\n",
    "kmeans_controlled_data_set = ControlledDataSet(\n",
    "    data_set=fixed_frequency_kmeans_data_set,\n",
    "    control_data_set=kmeans_data_set\n",
    ")\n",
    "long_kmeans_controlled_data_set = ControlledDataSet(\n",
    "    data_set=fixed_frequency_long_kmeans_data_set,\n",
    "    control_data_set=long_kmeans_data_set\n",
    ")\n",
    "\n",
    "# Load the new complete data set\n",
    "new_database = f\"{project_directory}/../Resources/Data/NewDatabase.sqlite\"\n",
    "new_complete_data_set = DataSet(ProfilerSession.load_all(new_database))\n",
    "\n",
    "# Load the individual data sets per application type and configuration\n",
    "new_matrix_multiply_data_set = DataSet([\n",
    "    profiler_session for profiler_session in new_complete_data_set.data\n",
    "    if profiler_session.label == \"Matrix Multiply\" and profiler_session.profile[\"matrixAWidth\"] == 3 * 512 and profiler_session.profile[\"iterations\"] == 3\n",
    "])\n",
    "new_long_matrix_multiply_data_set = DataSet([\n",
    "    profiler_session for profiler_session in new_complete_data_set.data\n",
    "    if profiler_session.label == \"Matrix Multiply\" and profiler_session.profile[\"matrixAWidth\"] == 3 * 512 and profiler_session.profile[\"iterations\"] == 15\n",
    "])\n",
    "\n",
    "new_kmeans_data_set = DataSet([\n",
    "    profiler_session for profiler_session in new_complete_data_set.data\n",
    "    if profiler_session.label == \"KMeans\" and profiler_session.profile[\"file\"].endswith(\"kdd_cup\") and profiler_session.profile[\"iterations\"] == 15\n",
    "])\n",
    "new_long_kmeans_data_set = DataSet([\n",
    "    profiler_session for profiler_session in new_complete_data_set.data\n",
    "    if profiler_session.label == \"KMeans\" and profiler_session.profile[\"file\"].endswith(\"kdd_cup\") and profiler_session.profile[\"iterations\"] == 75\n",
    "])\n",
    "\n",
    "# Convert the data sets to separate sets of data and associated control data\n",
    "new_matrix_multiply_controlled_data_set = ControlledDataSet(\n",
    "    data_set=None,\n",
    "    control_data_set=new_matrix_multiply_data_set\n",
    ")\n",
    "new_long_matrix_multiply_controlled_data_set = ControlledDataSet(\n",
    "    data_set=None,\n",
    "    control_data_set=new_long_matrix_multiply_data_set\n",
    ")\n",
    "\n",
    "new_kmeans_controlled_data_set = ControlledDataSet(\n",
    "    data_set=None,\n",
    "    control_data_set=new_kmeans_data_set\n",
    ")\n",
    "new_long_kmeans_controlled_data_set = ControlledDataSet(\n",
    "    data_set=None,\n",
    "    control_data_set=new_long_kmeans_data_set\n",
    ")"
   ]
  },
  {
   "cell_type": "markdown",
   "metadata": {},
   "source": [
    "# [Presentation] Thesis Defence"
   ]
  },
  {
   "cell_type": "markdown",
   "metadata": {},
   "source": [
    "## Analyzing Heterogeneous Applications"
   ]
  },
  {
   "cell_type": "markdown",
   "metadata": {},
   "source": [
    "### Matrix Multiply"
   ]
  },
  {
   "cell_type": "code",
   "execution_count": null,
   "metadata": {},
   "outputs": [],
   "source": [
    "#matrix_multiply_data_set.energy_consumption_vs_runtime_scatter_plot(normalized=False).plot()\n",
    "#new_matrix_multiply_data_set.energy_consumption_vs_runtime_scatter_plot(normalized=False).plot()\n",
    "#new_long_matrix_multiply_data_set.energy_consumption_vs_runtime_scatter_plot(normalized=False).plot()\n",
    "\n",
    "profiler_session = [profiler_session for profiler_session in new_complete_data_set.data if profiler_session.id == 101][0]\n",
    "\n",
    "# Utilization rate\n",
    "utilization_rate_timeseries_plot = profiler_session.utilization_rate_timeseries_plot\n",
    "utilization_rate_timeseries_plot.plot_series = { key: utilization_rate_timeseries_plot.plot_series[key] for key in utilization_rate_timeseries_plot.plot_series if key == \"CPU 0\" or key.startswith(\"CPU 0 Core 0\") or key.startswith(\"GPU 0\") or key.startswith(\"Node\")}\n",
    "utilization_rate_timeseries_plot.plot()\n",
    "\n",
    "# Clock rate\n",
    "clock_rate_timeseries_plot = profiler_session.clock_rate_timeseries_plot(plot_limits=True, use_ear=False)\n",
    "clock_rate_timeseries_plot.plot_series = { key: clock_rate_timeseries_plot.plot_series[key] for key in clock_rate_timeseries_plot.plot_series if key == \"CPU 0\" or key.startswith(\"CPU 0 Core 0\") or key.startswith(\"GPU 0 Memory\") or key.startswith(\"GPU 0 Core\") or key.startswith(\"Node\")}\n",
    "clock_rate_timeseries_plot.plot()\n",
    "\n",
    "# Power consumption\n",
    "power_consumption_timeseries_plot = profiler_session.power_consumption_timeseries_plot(plot_limits=False, use_ear=False)\n",
    "power_consumption_timeseries_plot.plot_series = { key: power_consumption_timeseries_plot.plot_series[key] for key in power_consumption_timeseries_plot.plot_series if key == \"CPU 0\" or key.startswith(\"CPU 0 Core 0\") or key.startswith(\"GPU 0\") or key.startswith(\"Node\")}\n",
    "power_consumption_timeseries_plot.plot()\n",
    "\n",
    "# Energy consumption\n",
    "energy_consumption_plot_j = profiler_session.energy_consumption_timeseries_plot(use_ear=False)\n",
    "energy_consumption_plot_j.plot_series = { key: energy_consumption_plot_j.plot_series[key] for key in energy_consumption_plot_j.plot_series if key == \"CPU 0\" or key.startswith(\"CPU 0 Core 0\") or key.startswith(\"GPU 0\") or key.startswith(\"Node\")}\n",
    "energy_consumption_plot_j.plot()"
   ]
  },
  {
   "cell_type": "markdown",
   "metadata": {},
   "source": [
    "### K-Means"
   ]
  },
  {
   "cell_type": "code",
   "execution_count": null,
   "metadata": {},
   "outputs": [],
   "source": [
    "#kmeans_data_set.energy_consumption_vs_runtime_scatter_plot(normalized=False).plot()\n",
    "#new_kmeans_data_set.energy_consumption_vs_runtime_scatter_plot(normalized=False).plot()\n",
    "#new_long_kmeans_data_set.energy_consumption_vs_runtime_scatter_plot(normalized=False).plot()\n",
    "\n",
    "profiler_session = [profiler_session for profiler_session in new_complete_data_set.data if profiler_session.id == 111][0]\n",
    "\n",
    "# Utilization rate\n",
    "utilization_rate_timeseries_plot = profiler_session.utilization_rate_timeseries_plot\n",
    "utilization_rate_timeseries_plot.plot_series = { key: utilization_rate_timeseries_plot.plot_series[key] for key in utilization_rate_timeseries_plot.plot_series if key.startswith(\"CPU 0 Core 0\") or key.startswith(\"GPU 0\") or key.startswith(\"Node\")}\n",
    "utilization_rate_timeseries_plot.plot()\n",
    "\n",
    "# Clock rate\n",
    "clock_rate_timeseries_plot = profiler_session.clock_rate_timeseries_plot(plot_limits=False, use_ear=False)\n",
    "clock_rate_timeseries_plot.plot_series = { key: clock_rate_timeseries_plot.plot_series[key] for key in clock_rate_timeseries_plot.plot_series if key.startswith(\"CPU 0 Core 0\") or key.startswith(\"GPU 0\") or key.startswith(\"Node\")}\n",
    "clock_rate_timeseries_plot.plot()\n",
    "\n",
    "# Power consumption\n",
    "power_consumption_timeseries_plot = profiler_session.power_consumption_timeseries_plot(plot_limits=False, use_ear=False)\n",
    "power_consumption_timeseries_plot.plot_series = { key: power_consumption_timeseries_plot.plot_series[key] for key in power_consumption_timeseries_plot.plot_series if key.startswith(\"CPU 0 Core 0\") or key.startswith(\"GPU 0\") or key.startswith(\"Node\")}\n",
    "power_consumption_timeseries_plot.plot()\n",
    "\n",
    "# Energy consumption\n",
    "energy_consumption_plot_j = profiler_session.energy_consumption_timeseries_plot(use_ear=False)\n",
    "energy_consumption_plot_j.plot_series = { key: energy_consumption_plot_j.plot_series[key] for key in energy_consumption_plot_j.plot_series if key.startswith(\"CPU 0 Core 0\") or key.startswith(\"GPU 0\") or key.startswith(\"Node\")}\n",
    "energy_consumption_plot_j.plot()"
   ]
  },
  {
   "cell_type": "markdown",
   "metadata": {},
   "source": [
    "### Busy Wait"
   ]
  },
  {
   "cell_type": "code",
   "execution_count": null,
   "metadata": {},
   "outputs": [],
   "source": [
    "profiler_session = [profiler_session for profiler_session in new_complete_data_set.data if profiler_session.id == 110][0]\n",
    "\n",
    "# Utilization rate\n",
    "utilization_rate_timeseries_plot = profiler_session.utilization_rate_timeseries_plot\n",
    "utilization_rate_timeseries_plot.plot_series = { key: utilization_rate_timeseries_plot.plot_series[key] for key in utilization_rate_timeseries_plot.plot_series if (key.startswith(\"CPU 0\") and (not key.startswith(\"CPU 0 Core\") or key.startswith(\"CPU 0 Core 0\"))) or key.startswith(\"GPU 0\") or key.startswith(\"Node\")}\n",
    "utilization_rate_timeseries_plot.plot()\n",
    "\n",
    "# Events\n",
    "profiler_session.events_event_plot()[:1][0].plot()"
   ]
  },
  {
   "cell_type": "markdown",
   "metadata": {},
   "source": [
    "### Impact of CPU and GPU Frequency on Energy Consumption"
   ]
  },
  {
   "cell_type": "markdown",
   "metadata": {},
   "source": [
    "#### Matrix Multiply"
   ]
  },
  {
   "cell_type": "code",
   "execution_count": null,
   "metadata": {},
   "outputs": [],
   "source": [
    "fixed_frequency_matrix_multiply_data_set.energy_consumption_vs_runtime_scatter_plot(normalized=False).plot()\n",
    "fixed_frequency_matrix_multiply_data_set.core_clock_rate_vs_gpu_clock_rate_vs_energy_consumption_scatter_plot().plot()\n",
    "matrix_multiply_controlled_data_set.core_clock_rate_vs_gpu_clock_rate_vs_energy_savings_scatter_plot(control_comparison=ControlComparison.MEAN).plot()\n",
    "matrix_multiply_controlled_data_set.data_set.core_clock_rate_vs_gpu_clock_rate_vs_runtime_scatter_plot(use_ear=False).plot()"
   ]
  },
  {
   "cell_type": "markdown",
   "metadata": {},
   "source": [
    "#### K-Means"
   ]
  },
  {
   "cell_type": "code",
   "execution_count": null,
   "metadata": {},
   "outputs": [],
   "source": [
    "fixed_frequency_kmeans_data_set.energy_consumption_vs_runtime_scatter_plot(normalized=False).plot()\n",
    "fixed_frequency_kmeans_data_set.core_clock_rate_vs_gpu_clock_rate_vs_energy_consumption_scatter_plot().plot()\n",
    "kmeans_controlled_data_set.core_clock_rate_vs_gpu_clock_rate_vs_energy_savings_scatter_plot(control_comparison=ControlComparison.MEAN).plot()\n",
    "kmeans_controlled_data_set.data_set.core_clock_rate_vs_gpu_clock_rate_vs_runtime_scatter_plot(use_ear=False).plot()"
   ]
  },
  {
   "cell_type": "markdown",
   "metadata": {},
   "source": [
    "## Detecting Energy Saving Opportunities"
   ]
  },
  {
   "cell_type": "markdown",
   "metadata": {},
   "source": [
    "### Matrix Multiply"
   ]
  },
  {
   "cell_type": "code",
   "execution_count": null,
   "metadata": {},
   "outputs": [],
   "source": [
    "profiler_session = [profiler_session for profiler_session in new_complete_data_set.data if profiler_session.id == 161][0]\n",
    "\n",
    "# Utilization rate\n",
    "utilization_rate_timeseries_plot = profiler_session.utilization_rate_timeseries_plot\n",
    "utilization_rate_timeseries_plot.plot_series = { key: utilization_rate_timeseries_plot.plot_series[key] for key in utilization_rate_timeseries_plot.plot_series if (key.startswith(\"CPU 0\") and (not key.startswith(\"CPU 0 Core\") or key.startswith(\"CPU 0 Core 0\"))) or key.startswith(\"GPU 0\") or key.startswith(\"Node\")}\n",
    "utilization_rate_timeseries_plot.plot()\n",
    "\n",
    "# Events\n",
    "profiler_session.events_event_plot()[:1][0].plot()\n",
    "\n",
    "# States\n",
    "profiler_session.states_event_plot().plot()"
   ]
  },
  {
   "cell_type": "markdown",
   "metadata": {},
   "source": [
    "### K-Means"
   ]
  },
  {
   "cell_type": "code",
   "execution_count": null,
   "metadata": {},
   "outputs": [],
   "source": [
    "profiler_session = [profiler_session for profiler_session in new_complete_data_set.data if profiler_session.id == 162][0]\n",
    "\n",
    "# Utilization rate\n",
    "utilization_rate_timeseries_plot = profiler_session.utilization_rate_timeseries_plot\n",
    "utilization_rate_timeseries_plot.plot_series = { key: utilization_rate_timeseries_plot.plot_series[key] for key in utilization_rate_timeseries_plot.plot_series if (key.startswith(\"CPU 0\") and (not key.startswith(\"CPU 0 Core\") or key.startswith(\"CPU 0 Core 0\"))) or key.startswith(\"GPU 0\") or key.startswith(\"Node\")}\n",
    "utilization_rate_timeseries_plot.plot()\n",
    "\n",
    "# Events\n",
    "profiler_session.events_event_plot()[:1][0].plot()\n",
    "\n",
    "# States\n",
    "profiler_session.states_event_plot().plot()"
   ]
  },
  {
   "cell_type": "markdown",
   "metadata": {},
   "source": [
    "## Applying Energy Saving Policies"
   ]
  },
  {
   "cell_type": "markdown",
   "metadata": {},
   "source": [
    "### Matrix Multiply"
   ]
  },
  {
   "cell_type": "markdown",
   "metadata": {},
   "source": [
    "#### Effects of No Policy"
   ]
  },
  {
   "cell_type": "code",
   "execution_count": null,
   "metadata": {},
   "outputs": [],
   "source": [
    "#profiler_session = [profiler_session for profiler_session in new_complete_data_set.data if profiler_session.id == 101][0]\n",
    "profiler_session = [profiler_session for profiler_session in new_complete_data_set.data if profiler_session.id == 151][0]\n",
    "\n",
    "# Utilization rate\n",
    "utilization_rate_timeseries_plot = profiler_session.utilization_rate_timeseries_plot\n",
    "utilization_rate_timeseries_plot.plot_series = { key: utilization_rate_timeseries_plot.plot_series[key] for key in utilization_rate_timeseries_plot.plot_series if key.startswith(\"CPU 0 Core 0\") or key.startswith(\"GPU 0\") or key.startswith(\"Node\")}\n",
    "utilization_rate_timeseries_plot.plot()\n",
    "\n",
    "# Clock rate\n",
    "clock_rate_timeseries_plot = profiler_session.clock_rate_timeseries_plot(plot_limits=True, use_ear=False)\n",
    "clock_rate_timeseries_plot.plot_series = { key: clock_rate_timeseries_plot.plot_series[key] for key in clock_rate_timeseries_plot.plot_series if key.startswith(\"CPU 0 Core 0\") or key.startswith(\"GPU 0\") or key.startswith(\"Node\")}\n",
    "clock_rate_timeseries_plot.plot()\n",
    "\n",
    "# Power consumption\n",
    "power_consumption_timeseries_plot = profiler_session.power_consumption_timeseries_plot(plot_limits=False, use_ear=False)\n",
    "power_consumption_timeseries_plot.plot_series = { key: power_consumption_timeseries_plot.plot_series[key] for key in power_consumption_timeseries_plot.plot_series if key.startswith(\"CPU 0 Core 0\") or key.startswith(\"GPU 0\") or key.startswith(\"Node\")}\n",
    "power_consumption_timeseries_plot.plot()\n",
    "\n",
    "# Energy consumption\n",
    "energy_consumption_plot_j = profiler_session.energy_consumption_timeseries_plot(use_ear=False)\n",
    "energy_consumption_plot_j.plot_series = { key: energy_consumption_plot_j.plot_series[key] for key in energy_consumption_plot_j.plot_series if key.startswith(\"CPU 0 Core 0\") or key.startswith(\"GPU 0\") or key.startswith(\"Node\")}\n",
    "energy_consumption_plot_j.plot()"
   ]
  },
  {
   "cell_type": "markdown",
   "metadata": {},
   "source": [
    "#### Effects of \"Dumb\" Policy"
   ]
  },
  {
   "cell_type": "code",
   "execution_count": null,
   "metadata": {},
   "outputs": [],
   "source": [
    "#profiler_session = [profiler_session for profiler_session in new_complete_data_set.data if profiler_session.id == 161][0]\n",
    "profiler_session = [profiler_session for profiler_session in new_complete_data_set.data if profiler_session.id == 143][0]\n",
    "\n",
    "# Utilization rate\n",
    "utilization_rate_timeseries_plot = profiler_session.utilization_rate_timeseries_plot\n",
    "utilization_rate_timeseries_plot.plot_series = { key: utilization_rate_timeseries_plot.plot_series[key] for key in utilization_rate_timeseries_plot.plot_series if key.startswith(\"CPU 0 Core 0\") or key.startswith(\"GPU 0\") or key.startswith(\"Node\")}\n",
    "utilization_rate_timeseries_plot.plot()\n",
    "\n",
    "# Events\n",
    "profiler_session.events_event_plot()[:1][0].plot()\n",
    "\n",
    "# States\n",
    "profiler_session.states_event_plot().plot()\n",
    "\n",
    "# Clock rate\n",
    "clock_rate_timeseries_plot = profiler_session.clock_rate_timeseries_plot(plot_limits=True, use_ear=False)\n",
    "clock_rate_timeseries_plot.plot_series = { key: clock_rate_timeseries_plot.plot_series[key] for key in clock_rate_timeseries_plot.plot_series if key.startswith(\"CPU 0 Core 0\") or key.startswith(\"GPU 0\") or key.startswith(\"Node\")}\n",
    "clock_rate_timeseries_plot.plot()\n",
    "\n",
    "# Power consumption\n",
    "power_consumption_timeseries_plot = profiler_session.power_consumption_timeseries_plot(plot_limits=False, use_ear=False)\n",
    "power_consumption_timeseries_plot.plot_series = { key: power_consumption_timeseries_plot.plot_series[key] for key in power_consumption_timeseries_plot.plot_series if key.startswith(\"CPU 0 Core 0\") or key.startswith(\"GPU 0\") or key.startswith(\"Node\")}\n",
    "power_consumption_timeseries_plot.plot()\n",
    "\n",
    "# Energy consumption\n",
    "energy_consumption_plot_j = profiler_session.energy_consumption_timeseries_plot(use_ear=False)\n",
    "energy_consumption_plot_j.plot_series = { key: energy_consumption_plot_j.plot_series[key] for key in energy_consumption_plot_j.plot_series if key.startswith(\"CPU 0 Core 0\") or key.startswith(\"GPU 0\") or key.startswith(\"Node\")}\n",
    "energy_consumption_plot_j.plot()"
   ]
  },
  {
   "cell_type": "markdown",
   "metadata": {},
   "source": [
    "#### Effects of \"Smart\" Policy"
   ]
  },
  {
   "cell_type": "code",
   "execution_count": null,
   "metadata": {},
   "outputs": [],
   "source": [
    "profiler_session = [profiler_session for profiler_session in new_complete_data_set.data if profiler_session.id == 123][0]\n",
    "\n",
    "# Utilization rate\n",
    "utilization_rate_timeseries_plot = profiler_session.utilization_rate_timeseries_plot\n",
    "utilization_rate_timeseries_plot.plot_series = { key: utilization_rate_timeseries_plot.plot_series[key] for key in utilization_rate_timeseries_plot.plot_series if key.startswith(\"CPU 0 Core 0\") or key.startswith(\"GPU 0\") or key.startswith(\"Node\")}\n",
    "utilization_rate_timeseries_plot.plot()\n",
    "\n",
    "# Events\n",
    "profiler_session.events_event_plot()[:1][0].plot()\n",
    "\n",
    "# States\n",
    "profiler_session.states_event_plot().plot()\n",
    "\n",
    "# Clock rate\n",
    "clock_rate_timeseries_plot = profiler_session.clock_rate_timeseries_plot(plot_limits=True, use_ear=False)\n",
    "clock_rate_timeseries_plot.plot_series = { key: clock_rate_timeseries_plot.plot_series[key] for key in clock_rate_timeseries_plot.plot_series if key.startswith(\"CPU 0 Core 0\") or key.startswith(\"GPU 0\") or key.startswith(\"Node\")}\n",
    "clock_rate_timeseries_plot.plot()\n",
    "\n",
    "# Power consumption\n",
    "power_consumption_timeseries_plot = profiler_session.power_consumption_timeseries_plot(plot_limits=False, use_ear=False)\n",
    "power_consumption_timeseries_plot.plot_series = { key: power_consumption_timeseries_plot.plot_series[key] for key in power_consumption_timeseries_plot.plot_series if key.startswith(\"CPU 0 Core 0\") or key.startswith(\"GPU 0\") or key.startswith(\"Node\")}\n",
    "power_consumption_timeseries_plot.plot()\n",
    "\n",
    "# Energy consumption\n",
    "energy_consumption_plot_j = profiler_session.energy_consumption_timeseries_plot(use_ear=False)\n",
    "energy_consumption_plot_j.plot_series = { key: energy_consumption_plot_j.plot_series[key] for key in energy_consumption_plot_j.plot_series if key.startswith(\"CPU 0 Core 0\") or key.startswith(\"GPU 0\") or key.startswith(\"Node\")}\n",
    "energy_consumption_plot_j.plot()"
   ]
  },
  {
   "cell_type": "markdown",
   "metadata": {},
   "source": [
    "### K-Means"
   ]
  },
  {
   "cell_type": "markdown",
   "metadata": {},
   "source": [
    "#### Effects of No Policy"
   ]
  },
  {
   "cell_type": "code",
   "execution_count": null,
   "metadata": {},
   "outputs": [],
   "source": [
    "#profiler_session = [profiler_session for profiler_session in new_complete_data_set.data if profiler_session.id == 111][0]\n",
    "profiler_session = [profiler_session for profiler_session in new_complete_data_set.data if profiler_session.id == 155][0]\n",
    "\n",
    "# Utilization rate\n",
    "utilization_rate_timeseries_plot = profiler_session.utilization_rate_timeseries_plot\n",
    "#utilization_rate_timeseries_plot.plot_series = { key: utilization_rate_timeseries_plot.plot_series[key] for key in utilization_rate_timeseries_plot.plot_series if (key.startswith(\"CPU 0\") and (not key.startswith(\"CPU 0 Core\") or key.startswith(\"CPU 0 Core 0\"))) or key.startswith(\"GPU 0\") or key.startswith(\"Node\")}\n",
    "utilization_rate_timeseries_plot.plot_series = { key: utilization_rate_timeseries_plot.plot_series[key] for key in utilization_rate_timeseries_plot.plot_series if key.startswith(\"CPU 0 Core 0\") or key.startswith(\"GPU 0\") or key.startswith(\"Node\")}\n",
    "utilization_rate_timeseries_plot.plot()\n",
    "\n",
    "# Clock rate\n",
    "clock_rate_timeseries_plot = profiler_session.clock_rate_timeseries_plot(plot_limits=True, use_ear=False)\n",
    "#clock_rate_timeseries_plot.plot_series = { key: clock_rate_timeseries_plot.plot_series[key] for key in clock_rate_timeseries_plot.plot_series if (key.startswith(\"CPU 0\") and (not key.startswith(\"CPU 0 Core\") or key.startswith(\"CPU 0 Core 0\"))) or key.startswith(\"GPU 0\")}\n",
    "clock_rate_timeseries_plot.plot_series = { key: clock_rate_timeseries_plot.plot_series[key] for key in clock_rate_timeseries_plot.plot_series if key.startswith(\"CPU 0 Core 0\") or key.startswith(\"GPU 0\")}\n",
    "clock_rate_timeseries_plot.plot()\n",
    "\n",
    "# Power consumption\n",
    "power_consumption_timeseries_plot = profiler_session.power_consumption_timeseries_plot(plot_limits=False, use_ear=False)\n",
    "#power_consumption_timeseries_plot.plot_series = { key: power_consumption_timeseries_plot.plot_series[key] for key in power_consumption_timeseries_plot.plot_series if (key.startswith(\"CPU 0\") and (not key.startswith(\"CPU 0 Core\") or key.startswith(\"CPU 0 Core 0\"))) or key.startswith(\"GPU 0\") or key.startswith(\"Node\")}\n",
    "power_consumption_timeseries_plot.plot_series = { key: power_consumption_timeseries_plot.plot_series[key] for key in power_consumption_timeseries_plot.plot_series if key.startswith(\"CPU 0 Core 0\") or key.startswith(\"GPU 0\") or key.startswith(\"Node\")}\n",
    "power_consumption_timeseries_plot.plot()\n",
    "\n",
    "# Energy consumption\n",
    "energy_consumption_plot_j = profiler_session.energy_consumption_timeseries_plot(use_ear=False)\n",
    "#energy_consumption_plot_j.plot_series = { key: energy_consumption_plot_j.plot_series[key] for key in energy_consumption_plot_j.plot_series if (key.startswith(\"CPU 0\") and (not key.startswith(\"CPU 0 Core\") or key.startswith(\"CPU 0 Core 0\"))) or key.startswith(\"GPU 0\") or key.startswith(\"Node\")}\n",
    "energy_consumption_plot_j.plot_series = { key: energy_consumption_plot_j.plot_series[key] for key in energy_consumption_plot_j.plot_series if key.startswith(\"CPU 0 Core 0\") or key.startswith(\"GPU 0\") or key.startswith(\"Node\")}\n",
    "energy_consumption_plot_j.plot()"
   ]
  },
  {
   "cell_type": "markdown",
   "metadata": {},
   "source": [
    "#### Effects of \"Dumb\" Policy"
   ]
  },
  {
   "cell_type": "code",
   "execution_count": null,
   "metadata": {},
   "outputs": [],
   "source": [
    "#profiler_session = [profiler_session for profiler_session in new_complete_data_set.data if profiler_session.id == 162][0]\n",
    "profiler_session = [profiler_session for profiler_session in new_complete_data_set.data if profiler_session.id == 147][0]\n",
    "\n",
    "# Utilization rate\n",
    "utilization_rate_timeseries_plot = profiler_session.utilization_rate_timeseries_plot\n",
    "utilization_rate_timeseries_plot.plot_series = { key: utilization_rate_timeseries_plot.plot_series[key] for key in utilization_rate_timeseries_plot.plot_series if key.startswith(\"CPU 0 Core 0\") or key.startswith(\"GPU 0\") or key.startswith(\"Node\")}\n",
    "utilization_rate_timeseries_plot.plot()\n",
    "\n",
    "# Events\n",
    "profiler_session.events_event_plot()[:1][0].plot()\n",
    "\n",
    "# States\n",
    "profiler_session.states_event_plot().plot()\n",
    "\n",
    "# Clock rate\n",
    "clock_rate_timeseries_plot = profiler_session.clock_rate_timeseries_plot(plot_limits=True, use_ear=False)\n",
    "clock_rate_timeseries_plot.plot_series = { key: clock_rate_timeseries_plot.plot_series[key] for key in clock_rate_timeseries_plot.plot_series if key.startswith(\"CPU 0 Core 0\") or key.startswith(\"GPU 0\") or key.startswith(\"Node\")}\n",
    "clock_rate_timeseries_plot.plot()\n",
    "\n",
    "# Power consumption\n",
    "power_consumption_timeseries_plot = profiler_session.power_consumption_timeseries_plot(plot_limits=False, use_ear=False)\n",
    "power_consumption_timeseries_plot.plot_series = { key: power_consumption_timeseries_plot.plot_series[key] for key in power_consumption_timeseries_plot.plot_series if key.startswith(\"CPU 0 Core 0\") or key.startswith(\"GPU 0\") or key.startswith(\"Node\")}\n",
    "power_consumption_timeseries_plot.plot()\n",
    "\n",
    "# Energy consumption\n",
    "energy_consumption_plot_j = profiler_session.energy_consumption_timeseries_plot(use_ear=False)\n",
    "energy_consumption_plot_j.plot_series = { key: energy_consumption_plot_j.plot_series[key] for key in energy_consumption_plot_j.plot_series if key.startswith(\"CPU 0 Core 0\") or key.startswith(\"GPU 0\") or key.startswith(\"Node\")}\n",
    "energy_consumption_plot_j.plot()"
   ]
  },
  {
   "cell_type": "markdown",
   "metadata": {},
   "source": [
    "#### Effects of \"Smart\" Policy"
   ]
  },
  {
   "cell_type": "code",
   "execution_count": null,
   "metadata": {},
   "outputs": [],
   "source": [
    "profiler_session = [profiler_session for profiler_session in new_complete_data_set.data if profiler_session.id == 133][0]\n",
    "\n",
    "# Utilization rate\n",
    "utilization_rate_timeseries_plot = profiler_session.utilization_rate_timeseries_plot\n",
    "utilization_rate_timeseries_plot.plot_series = { key: utilization_rate_timeseries_plot.plot_series[key] for key in utilization_rate_timeseries_plot.plot_series if key.startswith(\"CPU 0 Core 0\") or key.startswith(\"GPU 0\") or key.startswith(\"Node\")}\n",
    "utilization_rate_timeseries_plot.plot()\n",
    "\n",
    "# Events\n",
    "profiler_session.events_event_plot()[:1][0].plot()\n",
    "\n",
    "# States\n",
    "profiler_session.states_event_plot().plot()\n",
    "\n",
    "# Clock rate\n",
    "clock_rate_timeseries_plot = profiler_session.clock_rate_timeseries_plot(plot_limits=True, use_ear=False)\n",
    "clock_rate_timeseries_plot.plot_series = { key: clock_rate_timeseries_plot.plot_series[key] for key in clock_rate_timeseries_plot.plot_series if key.startswith(\"CPU 0 Core 0\") or key.startswith(\"GPU 0\") or key.startswith(\"Node\")}\n",
    "clock_rate_timeseries_plot.plot()\n",
    "\n",
    "# Power consumption\n",
    "power_consumption_timeseries_plot = profiler_session.power_consumption_timeseries_plot(plot_limits=False, use_ear=False)\n",
    "power_consumption_timeseries_plot.plot_series = { key: power_consumption_timeseries_plot.plot_series[key] for key in power_consumption_timeseries_plot.plot_series if key.startswith(\"CPU 0 Core 0\") or key.startswith(\"GPU 0\") or key.startswith(\"Node\")}\n",
    "power_consumption_timeseries_plot.plot()\n",
    "\n",
    "# Energy consumption\n",
    "energy_consumption_plot_j = profiler_session.energy_consumption_timeseries_plot(use_ear=False)\n",
    "energy_consumption_plot_j.plot_series = { key: energy_consumption_plot_j.plot_series[key] for key in energy_consumption_plot_j.plot_series if key.startswith(\"CPU 0 Core 0\") or key.startswith(\"GPU 0\") or key.startswith(\"Node\")}\n",
    "energy_consumption_plot_j.plot()"
   ]
  }
 ],
 "metadata": {
  "kernelspec": {
   "display_name": "Python 3",
   "language": "python",
   "name": "python3"
  },
  "language_info": {
   "codemirror_mode": {
    "name": "ipython",
    "version": 3
   },
   "file_extension": ".py",
   "mimetype": "text/x-python",
   "name": "python",
   "nbconvert_exporter": "python",
   "pygments_lexer": "ipython3",
   "version": "3.8.8"
  },
  "toc-autonumbering": true,
  "widgets": {
   "application/vnd.jupyter.widget-state+json": {
    "state": {},
    "version_major": 2,
    "version_minor": 0
   }
  }
 },
 "nbformat": 4,
 "nbformat_minor": 4
}
