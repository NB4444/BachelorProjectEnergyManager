{
 "cells": [
  {
   "cell_type": "code",
   "execution_count": 1,
   "metadata": {
    "pycharm": {
     "name": "#%%\n"
    }
   },
   "outputs": [],
   "source": [
    "%matplotlib widget\n",
    "\n",
    "import os\n",
    "import pathlib\n",
    "import pprint\n",
    "\n",
    "from Visualizer.DataSet import DataSet\n",
    "from Visualizer.Monitoring.Persistence.ProfilerSession import ProfilerSession\n",
    "from Visualizer.Plotting.Plot import Plot"
   ]
  },
  {
   "cell_type": "markdown",
   "metadata": {},
   "source": [
    "# Single Profiler Session Analyzer\n",
    "\n",
    "This notebook can visualize a specific profiler session."
   ]
  },
  {
   "cell_type": "markdown",
   "metadata": {},
   "source": [
    "## Configuration\n",
    "\n",
    "Configure the project settings below.\n",
    "The default configuration should be okay.\n",
    "Make sure that you have run at least one profiler session with the EnergyManager and have generated a database, otherwise this notebook will fail."
   ]
  },
  {
   "cell_type": "code",
   "execution_count": 2,
   "metadata": {
    "pycharm": {
     "name": "#%%\n"
    }
   },
   "outputs": [],
   "source": [
    "database = f\"{os.environ.get('HOME')}/EnergyManager-Resources/Database.sqlite\"\n",
    "\n",
    "# Load all profiler sessions\n",
    "complete_data_set = DataSet(ProfilerSession.load_all(database))"
   ]
  },
  {
   "cell_type": "markdown",
   "metadata": {},
   "source": [
    "### Profiler Sessions Overview\n",
    "\n",
    "Below all profiler sessions are shown."
   ]
  },
  {
   "cell_type": "code",
   "execution_count": 3,
   "metadata": {
    "pycharm": {
     "name": "#%%\n"
    }
   },
   "outputs": [
    {
     "data": {
      "text/html": [
       "<div>\n",
       "<style scoped>\n",
       "    .dataframe tbody tr th:only-of-type {\n",
       "        vertical-align: middle;\n",
       "    }\n",
       "\n",
       "    .dataframe tbody tr th {\n",
       "        vertical-align: top;\n",
       "    }\n",
       "\n",
       "    .dataframe thead th {\n",
       "        text-align: right;\n",
       "    }\n",
       "</style>\n",
       "<table border=\"1\" class=\"dataframe\">\n",
       "  <thead>\n",
       "    <tr style=\"text-align: right;\">\n",
       "      <th></th>\n",
       "      <th>ID</th>\n",
       "      <th>Label</th>\n",
       "      <th>Profile</th>\n",
       "    </tr>\n",
       "  </thead>\n",
       "  <tbody>\n",
       "    <tr>\n",
       "      <th>0</th>\n",
       "      <td>1</td>\n",
       "      <td>Matrix Multiply</td>\n",
       "      <td>{'core': 0, 'gpu': 0, 'iterations': 15, 'matrixAHeight': 1536, 'matrixAWidth': 1536, 'matrixBHeight': 1536, 'matrixBWidth': 1536, 'maximumCPUClockRate': 2601000000.0, 'maximumGPUClockRate': 1380000000.0, 'minimumCPUClockRate': 2601000000.0, 'minimumGPUClockRate': 1380000000.0}</td>\n",
       "    </tr>\n",
       "    <tr>\n",
       "      <th>1</th>\n",
       "      <td>2</td>\n",
       "      <td>Fixed Frequency Matrix Multiply</td>\n",
       "      <td>{'core': 0, 'gpu': 0, 'iterations': 15, 'matrixAHeight': 1536, 'matrixAWidth': 1536, 'matrixBHeight': 1536, 'matrixBWidth': 1536, 'maximumCPUClockRate': 2601000000.0, 'maximumGPUClockRate': 690500000.0, 'minimumCPUClockRate': 2601000000.0, 'minimumGPUClockRate': 690500000.0}</td>\n",
       "    </tr>\n",
       "    <tr>\n",
       "      <th>2</th>\n",
       "      <td>3</td>\n",
       "      <td>Fixed Frequency Matrix Multiply</td>\n",
       "      <td>{'core': 0, 'gpu': 0, 'iterations': 15, 'matrixAHeight': 1536, 'matrixAWidth': 1536, 'matrixBHeight': 1536, 'matrixBWidth': 1536, 'maximumCPUClockRate': 2601000000.0, 'maximumGPUClockRate': 690500000.0, 'minimumCPUClockRate': 2601000000.0, 'minimumGPUClockRate': 690500000.0}</td>\n",
       "    </tr>\n",
       "    <tr>\n",
       "      <th>3</th>\n",
       "      <td>4</td>\n",
       "      <td>Fixed Frequency Matrix Multiply</td>\n",
       "      <td>{'core': 0, 'gpu': 0, 'iterations': 15, 'matrixAHeight': 1536, 'matrixAWidth': 1536, 'matrixBHeight': 1536, 'matrixBWidth': 1536, 'maximumCPUClockRate': 1000000000.0, 'maximumGPUClockRate': 1000000.0, 'minimumCPUClockRate': 1000000000.0, 'minimumGPUClockRate': 1000000.0}</td>\n",
       "    </tr>\n",
       "    <tr>\n",
       "      <th>4</th>\n",
       "      <td>5</td>\n",
       "      <td>Fixed Frequency Matrix Multiply</td>\n",
       "      <td>{'core': 0, 'gpu': 0, 'iterations': 15, 'matrixAHeight': 1536, 'matrixAWidth': 1536, 'matrixBHeight': 1536, 'matrixBWidth': 1536, 'maximumCPUClockRate': 1000000000.0, 'maximumGPUClockRate': 1000000.0, 'minimumCPUClockRate': 1000000000.0, 'minimumGPUClockRate': 1000000.0}</td>\n",
       "    </tr>\n",
       "    <tr>\n",
       "      <th>5</th>\n",
       "      <td>6</td>\n",
       "      <td>Fixed Frequency Matrix Multiply</td>\n",
       "      <td>{'core': 0, 'gpu': 0, 'iterations': 15, 'matrixAHeight': 1536, 'matrixAWidth': 1536, 'matrixBHeight': 1536, 'matrixBWidth': 1536, 'maximumCPUClockRate': 1800500000.0, 'maximumGPUClockRate': 1380000000.0, 'minimumCPUClockRate': 1800500000.0, 'minimumGPUClockRate': 1380000000.0}</td>\n",
       "    </tr>\n",
       "    <tr>\n",
       "      <th>6</th>\n",
       "      <td>7</td>\n",
       "      <td>Fixed Frequency Matrix Multiply</td>\n",
       "      <td>{'core': 0, 'gpu': 0, 'iterations': 15, 'matrixAHeight': 1536, 'matrixAWidth': 1536, 'matrixBHeight': 1536, 'matrixBWidth': 1536, 'maximumCPUClockRate': 1800500000.0, 'maximumGPUClockRate': 1380000000.0, 'minimumCPUClockRate': 1800500000.0, 'minimumGPUClockRate': 1380000000.0}</td>\n",
       "    </tr>\n",
       "    <tr>\n",
       "      <th>7</th>\n",
       "      <td>8</td>\n",
       "      <td>Fixed Frequency Matrix Multiply</td>\n",
       "      <td>{'core': 0, 'gpu': 0, 'iterations': 15, 'matrixAHeight': 1536, 'matrixAWidth': 1536, 'matrixBHeight': 1536, 'matrixBWidth': 1536, 'maximumCPUClockRate': 1000000000.0, 'maximumGPUClockRate': 690500000.0, 'minimumCPUClockRate': 1000000000.0, 'minimumGPUClockRate': 690500000.0}</td>\n",
       "    </tr>\n",
       "    <tr>\n",
       "      <th>8</th>\n",
       "      <td>9</td>\n",
       "      <td>Fixed Frequency Matrix Multiply</td>\n",
       "      <td>{'core': 0, 'gpu': 0, 'iterations': 15, 'matrixAHeight': 1536, 'matrixAWidth': 1536, 'matrixBHeight': 1536, 'matrixBWidth': 1536, 'maximumCPUClockRate': 1000000000.0, 'maximumGPUClockRate': 690500000.0, 'minimumCPUClockRate': 1000000000.0, 'minimumGPUClockRate': 690500000.0}</td>\n",
       "    </tr>\n",
       "    <tr>\n",
       "      <th>9</th>\n",
       "      <td>10</td>\n",
       "      <td>Fixed Frequency Matrix Multiply</td>\n",
       "      <td>{'core': 0, 'gpu': 0, 'iterations': 15, 'matrixAHeight': 1536, 'matrixAWidth': 1536, 'matrixBHeight': 1536, 'matrixBWidth': 1536, 'maximumCPUClockRate': 1800500000.0, 'maximumGPUClockRate': 690500000.0, 'minimumCPUClockRate': 1800500000.0, 'minimumGPUClockRate': 690500000.0}</td>\n",
       "    </tr>\n",
       "    <tr>\n",
       "      <th>10</th>\n",
       "      <td>11</td>\n",
       "      <td>Fixed Frequency Matrix Multiply</td>\n",
       "      <td>{'core': 0, 'gpu': 0, 'iterations': 15, 'matrixAHeight': 1536, 'matrixAWidth': 1536, 'matrixBHeight': 1536, 'matrixBWidth': 1536, 'maximumCPUClockRate': 1800500000.0, 'maximumGPUClockRate': 690500000.0, 'minimumCPUClockRate': 1800500000.0, 'minimumGPUClockRate': 690500000.0}</td>\n",
       "    </tr>\n",
       "    <tr>\n",
       "      <th>11</th>\n",
       "      <td>12</td>\n",
       "      <td>Fixed Frequency Matrix Multiply</td>\n",
       "      <td>{'core': 0, 'gpu': 0, 'iterations': 15, 'matrixAHeight': 1536, 'matrixAWidth': 1536, 'matrixBHeight': 1536, 'matrixBWidth': 1536, 'maximumCPUClockRate': 2601000000.0, 'maximumGPUClockRate': 1380000000.0, 'minimumCPUClockRate': 2601000000.0, 'minimumGPUClockRate': 1380000000.0}</td>\n",
       "    </tr>\n",
       "    <tr>\n",
       "      <th>12</th>\n",
       "      <td>13</td>\n",
       "      <td>Fixed Frequency Matrix Multiply</td>\n",
       "      <td>{'core': 0, 'gpu': 0, 'iterations': 15, 'matrixAHeight': 1536, 'matrixAWidth': 1536, 'matrixBHeight': 1536, 'matrixBWidth': 1536, 'maximumCPUClockRate': 2601000000.0, 'maximumGPUClockRate': 1380000000.0, 'minimumCPUClockRate': 2601000000.0, 'minimumGPUClockRate': 1380000000.0}</td>\n",
       "    </tr>\n",
       "    <tr>\n",
       "      <th>13</th>\n",
       "      <td>14</td>\n",
       "      <td>Fixed Frequency Matrix Multiply</td>\n",
       "      <td>{'core': 0, 'gpu': 0, 'iterations': 15, 'matrixAHeight': 1536, 'matrixAWidth': 1536, 'matrixBHeight': 1536, 'matrixBWidth': 1536, 'maximumCPUClockRate': 2601000000.0, 'maximumGPUClockRate': 1000000.0, 'minimumCPUClockRate': 2601000000.0, 'minimumGPUClockRate': 1000000.0}</td>\n",
       "    </tr>\n",
       "    <tr>\n",
       "      <th>14</th>\n",
       "      <td>15</td>\n",
       "      <td>Fixed Frequency Matrix Multiply</td>\n",
       "      <td>{'core': 0, 'gpu': 0, 'iterations': 15, 'matrixAHeight': 1536, 'matrixAWidth': 1536, 'matrixBHeight': 1536, 'matrixBWidth': 1536, 'maximumCPUClockRate': 2601000000.0, 'maximumGPUClockRate': 1000000.0, 'minimumCPUClockRate': 2601000000.0, 'minimumGPUClockRate': 1000000.0}</td>\n",
       "    </tr>\n",
       "    <tr>\n",
       "      <th>15</th>\n",
       "      <td>16</td>\n",
       "      <td>Fixed Frequency Matrix Multiply</td>\n",
       "      <td>{'core': 0, 'gpu': 0, 'iterations': 15, 'matrixAHeight': 1536, 'matrixAWidth': 1536, 'matrixBHeight': 1536, 'matrixBWidth': 1536, 'maximumCPUClockRate': 1800500000.0, 'maximumGPUClockRate': 1000000.0, 'minimumCPUClockRate': 1800500000.0, 'minimumGPUClockRate': 1000000.0}</td>\n",
       "    </tr>\n",
       "    <tr>\n",
       "      <th>16</th>\n",
       "      <td>17</td>\n",
       "      <td>Fixed Frequency Matrix Multiply</td>\n",
       "      <td>{'core': 0, 'gpu': 0, 'iterations': 15, 'matrixAHeight': 1536, 'matrixAWidth': 1536, 'matrixBHeight': 1536, 'matrixBWidth': 1536, 'maximumCPUClockRate': 1800500000.0, 'maximumGPUClockRate': 1000000.0, 'minimumCPUClockRate': 1800500000.0, 'minimumGPUClockRate': 1000000.0}</td>\n",
       "    </tr>\n",
       "    <tr>\n",
       "      <th>17</th>\n",
       "      <td>18</td>\n",
       "      <td>Fixed Frequency Matrix Multiply</td>\n",
       "      <td>{'core': 0, 'gpu': 0, 'iterations': 15, 'matrixAHeight': 1536, 'matrixAWidth': 1536, 'matrixBHeight': 1536, 'matrixBWidth': 1536, 'maximumCPUClockRate': 1000000000.0, 'maximumGPUClockRate': 1380000000.0, 'minimumCPUClockRate': 1000000000.0, 'minimumGPUClockRate': 1380000000.0}</td>\n",
       "    </tr>\n",
       "    <tr>\n",
       "      <th>18</th>\n",
       "      <td>19</td>\n",
       "      <td>Fixed Frequency Matrix Multiply</td>\n",
       "      <td>{'core': 0, 'gpu': 0, 'iterations': 15, 'matrixAHeight': 1536, 'matrixAWidth': 1536, 'matrixBHeight': 1536, 'matrixBWidth': 1536, 'maximumCPUClockRate': 1000000000.0, 'maximumGPUClockRate': 1380000000.0, 'minimumCPUClockRate': 1000000000.0, 'minimumGPUClockRate': 1380000000.0}</td>\n",
       "    </tr>\n",
       "    <tr>\n",
       "      <th>19</th>\n",
       "      <td>20</td>\n",
       "      <td>Matrix Multiply (EnergyMonitor Simple)</td>\n",
       "      <td>{'core': 0, 'gpu': 0, 'iterations': 15, 'matrixAHeight': 1536, 'matrixAWidth': 1536, 'matrixBHeight': 1536, 'matrixBWidth': 1536}</td>\n",
       "    </tr>\n",
       "    <tr>\n",
       "      <th>20</th>\n",
       "      <td>21</td>\n",
       "      <td>Matrix Multiply</td>\n",
       "      <td>{'core': 0, 'gpu': 0, 'iterations': 15, 'matrixAHeight': 1536, 'matrixAWidth': 1536, 'matrixBHeight': 1536, 'matrixBWidth': 1536, 'maximumCPUClockRate': 2601000000.0, 'maximumGPUClockRate': 1380000000.0, 'minimumCPUClockRate': 2601000000.0, 'minimumGPUClockRate': 1380000000.0}</td>\n",
       "    </tr>\n",
       "    <tr>\n",
       "      <th>21</th>\n",
       "      <td>22</td>\n",
       "      <td>Matrix Multiply (EnergyMonitor Smart)</td>\n",
       "      <td>{'core': 0, 'gpu': 0, 'iterations': 15, 'matrixAHeight': 1536, 'matrixAWidth': 1536, 'matrixBHeight': 1536, 'matrixBWidth': 1536}</td>\n",
       "    </tr>\n",
       "  </tbody>\n",
       "</table>\n",
       "</div>"
      ],
      "text/plain": [
       "    ID                                   Label  \\\n",
       "0    1                         Matrix Multiply   \n",
       "1    2         Fixed Frequency Matrix Multiply   \n",
       "2    3         Fixed Frequency Matrix Multiply   \n",
       "3    4         Fixed Frequency Matrix Multiply   \n",
       "4    5         Fixed Frequency Matrix Multiply   \n",
       "5    6         Fixed Frequency Matrix Multiply   \n",
       "6    7         Fixed Frequency Matrix Multiply   \n",
       "7    8         Fixed Frequency Matrix Multiply   \n",
       "8    9         Fixed Frequency Matrix Multiply   \n",
       "9   10         Fixed Frequency Matrix Multiply   \n",
       "10  11         Fixed Frequency Matrix Multiply   \n",
       "11  12         Fixed Frequency Matrix Multiply   \n",
       "12  13         Fixed Frequency Matrix Multiply   \n",
       "13  14         Fixed Frequency Matrix Multiply   \n",
       "14  15         Fixed Frequency Matrix Multiply   \n",
       "15  16         Fixed Frequency Matrix Multiply   \n",
       "16  17         Fixed Frequency Matrix Multiply   \n",
       "17  18         Fixed Frequency Matrix Multiply   \n",
       "18  19         Fixed Frequency Matrix Multiply   \n",
       "19  20  Matrix Multiply (EnergyMonitor Simple)   \n",
       "20  21                         Matrix Multiply   \n",
       "21  22   Matrix Multiply (EnergyMonitor Smart)   \n",
       "\n",
       "                                                                                                                                                                                                                                                                                  Profile  \n",
       "0   {'core': 0, 'gpu': 0, 'iterations': 15, 'matrixAHeight': 1536, 'matrixAWidth': 1536, 'matrixBHeight': 1536, 'matrixBWidth': 1536, 'maximumCPUClockRate': 2601000000.0, 'maximumGPUClockRate': 1380000000.0, 'minimumCPUClockRate': 2601000000.0, 'minimumGPUClockRate': 1380000000.0}  \n",
       "1     {'core': 0, 'gpu': 0, 'iterations': 15, 'matrixAHeight': 1536, 'matrixAWidth': 1536, 'matrixBHeight': 1536, 'matrixBWidth': 1536, 'maximumCPUClockRate': 2601000000.0, 'maximumGPUClockRate': 690500000.0, 'minimumCPUClockRate': 2601000000.0, 'minimumGPUClockRate': 690500000.0}  \n",
       "2     {'core': 0, 'gpu': 0, 'iterations': 15, 'matrixAHeight': 1536, 'matrixAWidth': 1536, 'matrixBHeight': 1536, 'matrixBWidth': 1536, 'maximumCPUClockRate': 2601000000.0, 'maximumGPUClockRate': 690500000.0, 'minimumCPUClockRate': 2601000000.0, 'minimumGPUClockRate': 690500000.0}  \n",
       "3         {'core': 0, 'gpu': 0, 'iterations': 15, 'matrixAHeight': 1536, 'matrixAWidth': 1536, 'matrixBHeight': 1536, 'matrixBWidth': 1536, 'maximumCPUClockRate': 1000000000.0, 'maximumGPUClockRate': 1000000.0, 'minimumCPUClockRate': 1000000000.0, 'minimumGPUClockRate': 1000000.0}  \n",
       "4         {'core': 0, 'gpu': 0, 'iterations': 15, 'matrixAHeight': 1536, 'matrixAWidth': 1536, 'matrixBHeight': 1536, 'matrixBWidth': 1536, 'maximumCPUClockRate': 1000000000.0, 'maximumGPUClockRate': 1000000.0, 'minimumCPUClockRate': 1000000000.0, 'minimumGPUClockRate': 1000000.0}  \n",
       "5   {'core': 0, 'gpu': 0, 'iterations': 15, 'matrixAHeight': 1536, 'matrixAWidth': 1536, 'matrixBHeight': 1536, 'matrixBWidth': 1536, 'maximumCPUClockRate': 1800500000.0, 'maximumGPUClockRate': 1380000000.0, 'minimumCPUClockRate': 1800500000.0, 'minimumGPUClockRate': 1380000000.0}  \n",
       "6   {'core': 0, 'gpu': 0, 'iterations': 15, 'matrixAHeight': 1536, 'matrixAWidth': 1536, 'matrixBHeight': 1536, 'matrixBWidth': 1536, 'maximumCPUClockRate': 1800500000.0, 'maximumGPUClockRate': 1380000000.0, 'minimumCPUClockRate': 1800500000.0, 'minimumGPUClockRate': 1380000000.0}  \n",
       "7     {'core': 0, 'gpu': 0, 'iterations': 15, 'matrixAHeight': 1536, 'matrixAWidth': 1536, 'matrixBHeight': 1536, 'matrixBWidth': 1536, 'maximumCPUClockRate': 1000000000.0, 'maximumGPUClockRate': 690500000.0, 'minimumCPUClockRate': 1000000000.0, 'minimumGPUClockRate': 690500000.0}  \n",
       "8     {'core': 0, 'gpu': 0, 'iterations': 15, 'matrixAHeight': 1536, 'matrixAWidth': 1536, 'matrixBHeight': 1536, 'matrixBWidth': 1536, 'maximumCPUClockRate': 1000000000.0, 'maximumGPUClockRate': 690500000.0, 'minimumCPUClockRate': 1000000000.0, 'minimumGPUClockRate': 690500000.0}  \n",
       "9     {'core': 0, 'gpu': 0, 'iterations': 15, 'matrixAHeight': 1536, 'matrixAWidth': 1536, 'matrixBHeight': 1536, 'matrixBWidth': 1536, 'maximumCPUClockRate': 1800500000.0, 'maximumGPUClockRate': 690500000.0, 'minimumCPUClockRate': 1800500000.0, 'minimumGPUClockRate': 690500000.0}  \n",
       "10    {'core': 0, 'gpu': 0, 'iterations': 15, 'matrixAHeight': 1536, 'matrixAWidth': 1536, 'matrixBHeight': 1536, 'matrixBWidth': 1536, 'maximumCPUClockRate': 1800500000.0, 'maximumGPUClockRate': 690500000.0, 'minimumCPUClockRate': 1800500000.0, 'minimumGPUClockRate': 690500000.0}  \n",
       "11  {'core': 0, 'gpu': 0, 'iterations': 15, 'matrixAHeight': 1536, 'matrixAWidth': 1536, 'matrixBHeight': 1536, 'matrixBWidth': 1536, 'maximumCPUClockRate': 2601000000.0, 'maximumGPUClockRate': 1380000000.0, 'minimumCPUClockRate': 2601000000.0, 'minimumGPUClockRate': 1380000000.0}  \n",
       "12  {'core': 0, 'gpu': 0, 'iterations': 15, 'matrixAHeight': 1536, 'matrixAWidth': 1536, 'matrixBHeight': 1536, 'matrixBWidth': 1536, 'maximumCPUClockRate': 2601000000.0, 'maximumGPUClockRate': 1380000000.0, 'minimumCPUClockRate': 2601000000.0, 'minimumGPUClockRate': 1380000000.0}  \n",
       "13        {'core': 0, 'gpu': 0, 'iterations': 15, 'matrixAHeight': 1536, 'matrixAWidth': 1536, 'matrixBHeight': 1536, 'matrixBWidth': 1536, 'maximumCPUClockRate': 2601000000.0, 'maximumGPUClockRate': 1000000.0, 'minimumCPUClockRate': 2601000000.0, 'minimumGPUClockRate': 1000000.0}  \n",
       "14        {'core': 0, 'gpu': 0, 'iterations': 15, 'matrixAHeight': 1536, 'matrixAWidth': 1536, 'matrixBHeight': 1536, 'matrixBWidth': 1536, 'maximumCPUClockRate': 2601000000.0, 'maximumGPUClockRate': 1000000.0, 'minimumCPUClockRate': 2601000000.0, 'minimumGPUClockRate': 1000000.0}  \n",
       "15        {'core': 0, 'gpu': 0, 'iterations': 15, 'matrixAHeight': 1536, 'matrixAWidth': 1536, 'matrixBHeight': 1536, 'matrixBWidth': 1536, 'maximumCPUClockRate': 1800500000.0, 'maximumGPUClockRate': 1000000.0, 'minimumCPUClockRate': 1800500000.0, 'minimumGPUClockRate': 1000000.0}  \n",
       "16        {'core': 0, 'gpu': 0, 'iterations': 15, 'matrixAHeight': 1536, 'matrixAWidth': 1536, 'matrixBHeight': 1536, 'matrixBWidth': 1536, 'maximumCPUClockRate': 1800500000.0, 'maximumGPUClockRate': 1000000.0, 'minimumCPUClockRate': 1800500000.0, 'minimumGPUClockRate': 1000000.0}  \n",
       "17  {'core': 0, 'gpu': 0, 'iterations': 15, 'matrixAHeight': 1536, 'matrixAWidth': 1536, 'matrixBHeight': 1536, 'matrixBWidth': 1536, 'maximumCPUClockRate': 1000000000.0, 'maximumGPUClockRate': 1380000000.0, 'minimumCPUClockRate': 1000000000.0, 'minimumGPUClockRate': 1380000000.0}  \n",
       "18  {'core': 0, 'gpu': 0, 'iterations': 15, 'matrixAHeight': 1536, 'matrixAWidth': 1536, 'matrixBHeight': 1536, 'matrixBWidth': 1536, 'maximumCPUClockRate': 1000000000.0, 'maximumGPUClockRate': 1380000000.0, 'minimumCPUClockRate': 1000000000.0, 'minimumGPUClockRate': 1380000000.0}  \n",
       "19                                                                                                                                                      {'core': 0, 'gpu': 0, 'iterations': 15, 'matrixAHeight': 1536, 'matrixAWidth': 1536, 'matrixBHeight': 1536, 'matrixBWidth': 1536}  \n",
       "20  {'core': 0, 'gpu': 0, 'iterations': 15, 'matrixAHeight': 1536, 'matrixAWidth': 1536, 'matrixBHeight': 1536, 'matrixBWidth': 1536, 'maximumCPUClockRate': 2601000000.0, 'maximumGPUClockRate': 1380000000.0, 'minimumCPUClockRate': 2601000000.0, 'minimumGPUClockRate': 1380000000.0}  \n",
       "21                                                                                                                                                      {'core': 0, 'gpu': 0, 'iterations': 15, 'matrixAHeight': 1536, 'matrixAWidth': 1536, 'matrixBHeight': 1536, 'matrixBWidth': 1536}  "
      ]
     },
     "metadata": {},
     "output_type": "display_data"
    }
   ],
   "source": [
    "# Visualize the profiler session data\n",
    "overview_plot = complete_data_set.table_plot\n",
    "overview_plot.maximum_rows = 50\n",
    "overview_plot.plot()"
   ]
  },
  {
   "cell_type": "markdown",
   "metadata": {},
   "source": [
    "## Analysis\n",
    "\n",
    "Define the ID of the test you wish to visualize below."
   ]
  },
  {
   "cell_type": "code",
   "execution_count": 4,
   "metadata": {
    "pycharm": {
     "name": "#%%\n"
    }
   },
   "outputs": [],
   "source": [
    "#profiler_session_id = complete_data_set.data[-1].id\n",
    "profiler_session_id = 20\n",
    "data_set = DataSet([profiler_session for profiler_session in complete_data_set.data if profiler_session.id == profiler_session_id])"
   ]
  },
  {
   "cell_type": "markdown",
   "metadata": {},
   "source": [
    "### Summary\n",
    "\n",
    "These are the specifications of the system with which the profiler session was performed."
   ]
  },
  {
   "cell_type": "code",
   "execution_count": 5,
   "metadata": {
    "pycharm": {
     "name": "#%%\n"
    }
   },
   "outputs": [
    {
     "name": "stdout",
     "output_type": "stream",
     "text": [
      "{'GPUs': [{'Brand': 'Tesla',\n",
      "           'Compute Capability Major Version': 7,\n",
      "           'Compute Capability Minor Version': 0,\n",
      "           'Default Auto Boosted Clocks Enabled': None,\n",
      "           'Default Power Limit (W)': '250.0',\n",
      "           'Memory Size (B)': '16.9 GB',\n",
      "           'Name': 'Tesla V100-PCIE-16GB',\n",
      "           'PCIe Link Width (B)': '16 Bytes',\n",
      "           'Supported Core Clock Rates (Hz)': [''],\n",
      "           'Supported Memory Clock Rates (Hz)': ['']},\n",
      "          {'Brand': 'Tesla',\n",
      "           'Compute Capability Major Version': 7,\n",
      "           'Compute Capability Minor Version': 0,\n",
      "           'Default Auto Boosted Clocks Enabled': None,\n",
      "           'Default Power Limit (W)': '250.0',\n",
      "           'Memory Size (B)': '16.9 GB',\n",
      "           'Name': 'Tesla V100-PCIE-16GB',\n",
      "           'PCIe Link Width (B)': '16 Bytes',\n",
      "           'Supported Core Clock Rates (Hz)': [''],\n",
      "           'Supported Memory Clock Rates (Hz)': ['']}],\n",
      " 'Label': 'Matrix Multiply (EnergyMonitor Simple)'}\n"
     ]
    }
   ],
   "source": [
    "pprint.pprint(data_set.data[0].summary)"
   ]
  },
  {
   "cell_type": "markdown",
   "metadata": {},
   "source": [
    "### Profile\n",
    "\n",
    "This is the profile with which the profiler session was performed."
   ]
  },
  {
   "cell_type": "code",
   "execution_count": 6,
   "metadata": {
    "pycharm": {
     "name": "#%%\n"
    }
   },
   "outputs": [
    {
     "name": "stdout",
     "output_type": "stream",
     "text": [
      "{'core': 0,\n",
      " 'gpu': 0,\n",
      " 'iterations': 15,\n",
      " 'matrixAHeight': 1536,\n",
      " 'matrixAWidth': 1536,\n",
      " 'matrixBHeight': 1536,\n",
      " 'matrixBWidth': 1536}\n"
     ]
    }
   ],
   "source": [
    "pprint.pprint(data_set.data[0].profile)"
   ]
  },
  {
   "cell_type": "markdown",
   "metadata": {},
   "source": [
    "### Clock Rates\n",
    "\n",
    "The graph below shows the clock rate over time."
   ]
  },
  {
   "cell_type": "code",
   "execution_count": 7,
   "metadata": {
    "pycharm": {
     "name": "#%%\n"
    }
   },
   "outputs": [
    {
     "data": {
      "application/vnd.jupyter.widget-view+json": {
       "model_id": "e5a784c523b9412b8fd45d880fd44085",
       "version_major": 2,
       "version_minor": 0
      },
      "text/plain": [
       "Canvas(toolbar=Toolbar(toolitems=[('Home', 'Reset original view', 'home', 'home'), ('Back', 'Back to previous …"
      ]
     },
     "metadata": {},
     "output_type": "display_data"
    }
   ],
   "source": [
    "clock_rate_timeseries_plot = data_set.data[0].clock_rate_timeseries_plot(plot_limits=False, use_ear=False)\n",
    "clock_rate_timeseries_plot.plot_series = { key: clock_rate_timeseries_plot.plot_series[key] for key in clock_rate_timeseries_plot.plot_series if (key.startswith(\"EAR\") or key.startswith(\"CPU 0\") and (not key.startswith(\"CPU 0 Core\") or key.startswith(\"CPU 0 Core 0\"))) or key.startswith(\"GPU 0\")}\n",
    "clock_rate_timeseries_plot.plot()"
   ]
  },
  {
   "cell_type": "markdown",
   "metadata": {},
   "source": [
    "### Correlations\n",
    "\n",
    "The graphs below shows the Pearson correlation heatmap for each performance variable."
   ]
  },
  {
   "cell_type": "code",
   "execution_count": 8,
   "metadata": {
    "pycharm": {
     "name": "#%%\n"
    }
   },
   "outputs": [],
   "source": [
    "#data_set.data[0].monitor_data_correlations_plot.plot()"
   ]
  },
  {
   "cell_type": "markdown",
   "metadata": {},
   "source": [
    "### Energy Consumption\n",
    "\n",
    "The graphs below shows the total energy consumption over time."
   ]
  },
  {
   "cell_type": "code",
   "execution_count": 9,
   "metadata": {
    "pycharm": {
     "name": "#%%\n"
    }
   },
   "outputs": [
    {
     "data": {
      "application/vnd.jupyter.widget-view+json": {
       "model_id": "a9137f7a68d54f19b948ae30d6211a23",
       "version_major": 2,
       "version_minor": 0
      },
      "text/plain": [
       "Canvas(toolbar=Toolbar(toolitems=[('Home', 'Reset original view', 'home', 'home'), ('Back', 'Back to previous …"
      ]
     },
     "metadata": {},
     "output_type": "display_data"
    },
    {
     "data": {
      "application/vnd.jupyter.widget-view+json": {
       "model_id": "8918d13b86974b6fa59e25615946950b",
       "version_major": 2,
       "version_minor": 0
      },
      "text/plain": [
       "Canvas(toolbar=Toolbar(toolitems=[('Home', 'Reset original view', 'home', 'home'), ('Back', 'Back to previous …"
      ]
     },
     "metadata": {},
     "output_type": "display_data"
    }
   ],
   "source": [
    "# Plot in Joules\n",
    "energy_consumption_plot_j = data_set.data[0].energy_consumption_timeseries_plot(use_ear=False)\n",
    "energy_consumption_plot_j.plot_series = { key: energy_consumption_plot_j.plot_series[key] for key in energy_consumption_plot_j.plot_series if (key.startswith(\"EAR\") or key.startswith(\"CPU 0\") and (not key.startswith(\"CPU 0 Core\") or key.startswith(\"CPU 0 Core 0\"))) or key.startswith(\"GPU 0\") or key.startswith(\"Node\")}\n",
    "energy_consumption_plot_j.plot()\n",
    "\n",
    "# Plot in Watt Hours\n",
    "energy_consumption_plot_wh = data_set.data[0].energy_consumption_timeseries_plot(unit_string=\"Wh\", modifier=Plot.j_to_wh, use_ear=False)\n",
    "energy_consumption_plot_wh.plot_series = { key: energy_consumption_plot_wh.plot_series[key] for key in energy_consumption_plot_wh.plot_series if (key.startswith(\"EAR\") or key.startswith(\"CPU 0\") and (not key.startswith(\"CPU 0 Core\") or key.startswith(\"CPU 0 Core 0\"))) or key.startswith(\"GPU 0\") or key.startswith(\"Node\")}\n",
    "energy_consumption_plot_wh.plot()"
   ]
  },
  {
   "cell_type": "markdown",
   "metadata": {},
   "source": [
    "### Events\n",
    "\n",
    "The graph below shows the events over time."
   ]
  },
  {
   "cell_type": "code",
   "execution_count": 10,
   "metadata": {
    "pycharm": {
     "name": "#%%\n"
    }
   },
   "outputs": [
    {
     "data": {
      "application/vnd.jupyter.widget-view+json": {
       "model_id": "11cb9de22f4a40728aec2d41a806aba8",
       "version_major": 2,
       "version_minor": 0
      },
      "text/plain": [
       "Canvas(toolbar=Toolbar(toolitems=[('Home', 'Reset original view', 'home', 'home'), ('Back', 'Back to previous …"
      ]
     },
     "metadata": {},
     "output_type": "display_data"
    },
    {
     "data": {
      "application/vnd.jupyter.widget-view+json": {
       "model_id": "a3e10a05125b462dae31a0ff0a9258af",
       "version_major": 2,
       "version_minor": 0
      },
      "text/plain": [
       "Canvas(toolbar=Toolbar(toolitems=[('Home', 'Reset original view', 'home', 'home'), ('Back', 'Back to previous …"
      ]
     },
     "metadata": {},
     "output_type": "display_data"
    }
   ],
   "source": [
    "for events_plot in data_set.data[0].events_event_plot()[:1]:\n",
    "    events_plot.plot()"
   ]
  },
  {
   "cell_type": "markdown",
   "metadata": {},
   "source": [
    "### Fan Speed\n",
    "\n",
    "The graphs below shows the fan speed over time."
   ]
  },
  {
   "cell_type": "code",
   "execution_count": 11,
   "metadata": {
    "pycharm": {
     "name": "#%%\n"
    }
   },
   "outputs": [
    {
     "data": {
      "application/vnd.jupyter.widget-view+json": {
       "model_id": "ffcee0dd4db04e319f98fadd95d496f8",
       "version_major": 2,
       "version_minor": 0
      },
      "text/plain": [
       "Canvas(toolbar=Toolbar(toolitems=[('Home', 'Reset original view', 'home', 'home'), ('Back', 'Back to previous …"
      ]
     },
     "metadata": {},
     "output_type": "display_data"
    },
    {
     "name": "stderr",
     "output_type": "stream",
     "text": [
      "No handles with labels found to put in legend.\n"
     ]
    }
   ],
   "source": [
    "data_set.data[0].fan_speed_timeseries_plot.plot()"
   ]
  },
  {
   "cell_type": "markdown",
   "metadata": {},
   "source": [
    "### Instructions Per Cycle\n",
    "\n",
    "The graph below shows the utilization rates over time."
   ]
  },
  {
   "cell_type": "code",
   "execution_count": 12,
   "metadata": {
    "pycharm": {
     "name": "#%%\n"
    }
   },
   "outputs": [
    {
     "data": {
      "application/vnd.jupyter.widget-view+json": {
       "model_id": "5fef3574051f48e9b4aea0ed594a4836",
       "version_major": 2,
       "version_minor": 0
      },
      "text/plain": [
       "Canvas(toolbar=Toolbar(toolitems=[('Home', 'Reset original view', 'home', 'home'), ('Back', 'Back to previous …"
      ]
     },
     "metadata": {},
     "output_type": "display_data"
    },
    {
     "name": "stderr",
     "output_type": "stream",
     "text": [
      "No handles with labels found to put in legend.\n"
     ]
    }
   ],
   "source": [
    "data_set.data[0].instructions_per_cycle_timeseries_plot.plot()"
   ]
  },
  {
   "cell_type": "markdown",
   "metadata": {},
   "source": [
    "### Memory Consumption\n",
    "\n",
    "The graphs below shows the memory consumption over time."
   ]
  },
  {
   "cell_type": "code",
   "execution_count": 13,
   "metadata": {
    "pycharm": {
     "name": "#%%\n"
    }
   },
   "outputs": [
    {
     "data": {
      "application/vnd.jupyter.widget-view+json": {
       "model_id": "645ecb8485dc45cea0696f8a0f9e46ff",
       "version_major": 2,
       "version_minor": 0
      },
      "text/plain": [
       "Canvas(toolbar=Toolbar(toolitems=[('Home', 'Reset original view', 'home', 'home'), ('Back', 'Back to previous …"
      ]
     },
     "metadata": {},
     "output_type": "display_data"
    }
   ],
   "source": [
    "data_set.data[0].memory_consumption_timeseries_plot(plot_sizes=False).plot()"
   ]
  },
  {
   "cell_type": "markdown",
   "metadata": {},
   "source": [
    "### Power Consumption\n",
    "\n",
    "The graphs below shows the power consumption over time."
   ]
  },
  {
   "cell_type": "code",
   "execution_count": 14,
   "metadata": {
    "pycharm": {
     "name": "#%%\n"
    }
   },
   "outputs": [
    {
     "data": {
      "application/vnd.jupyter.widget-view+json": {
       "model_id": "628796afc9014173942038b119973fd7",
       "version_major": 2,
       "version_minor": 0
      },
      "text/plain": [
       "Canvas(toolbar=Toolbar(toolitems=[('Home', 'Reset original view', 'home', 'home'), ('Back', 'Back to previous …"
      ]
     },
     "metadata": {},
     "output_type": "display_data"
    }
   ],
   "source": [
    "power_consumption_timeseries_plot = data_set.data[0].power_consumption_timeseries_plot(plot_limits=False, use_ear=False)\n",
    "#power_consumption_timeseries_plot.plot_series = { key: power_consumption_timeseries_plot.plot_series[key] for key in power_consumption_timeseries_plot.plot_series if (key.startswith(\"CPU 1\") or key.startswith(\"EAR\") or key.startswith(\"CPU 0\") and (not key.startswith(\"CPU 0 Core\") or key.startswith(\"CPU 0 Core 0\"))) or key.startswith(\"GPU 0\") or key.startswith(\"Node\")}\n",
    "power_consumption_timeseries_plot.plot_series = { key: power_consumption_timeseries_plot.plot_series[key] for key in power_consumption_timeseries_plot.plot_series if (key.startswith(\"EAR\") or key.startswith(\"CPU 0\") and (not key.startswith(\"CPU 0 Core\") or key.startswith(\"CPU 0 Core 0\"))) or key.startswith(\"GPU 0\") or key.startswith(\"Node\")}\n",
    "power_consumption_timeseries_plot.plot()"
   ]
  },
  {
   "cell_type": "markdown",
   "metadata": {},
   "source": [
    "### Processes\n",
    "\n",
    "The graphs below shows the amount of processes over time."
   ]
  },
  {
   "cell_type": "code",
   "execution_count": 15,
   "metadata": {
    "pycharm": {
     "name": "#%%\n"
    }
   },
   "outputs": [
    {
     "data": {
      "application/vnd.jupyter.widget-view+json": {
       "model_id": "3443f3efec334910b5a245eac2f01aea",
       "version_major": 2,
       "version_minor": 0
      },
      "text/plain": [
       "Canvas(toolbar=Toolbar(toolitems=[('Home', 'Reset original view', 'home', 'home'), ('Back', 'Back to previous …"
      ]
     },
     "metadata": {},
     "output_type": "display_data"
    }
   ],
   "source": [
    "data_set.data[0].processes_timeseries_plot.plot()"
   ]
  },
  {
   "cell_type": "markdown",
   "metadata": {},
   "source": [
    "### States\n",
    "\n",
    "The graph below shows the states of the EnergyMonitor over time."
   ]
  },
  {
   "cell_type": "code",
   "execution_count": 16,
   "metadata": {
    "pycharm": {
     "name": "#%%\n"
    }
   },
   "outputs": [
    {
     "data": {
      "application/vnd.jupyter.widget-view+json": {
       "model_id": "b1d7805e46314f908f087efd2a3f9519",
       "version_major": 2,
       "version_minor": 0
      },
      "text/plain": [
       "Canvas(toolbar=Toolbar(toolitems=[('Home', 'Reset original view', 'home', 'home'), ('Back', 'Back to previous …"
      ]
     },
     "metadata": {},
     "output_type": "display_data"
    }
   ],
   "source": [
    "data_set.data[0].states_event_plot().plot()"
   ]
  },
  {
   "cell_type": "markdown",
   "metadata": {},
   "source": [
    "### Temperature\n",
    "\n",
    "The graphs below shows the temperature over time."
   ]
  },
  {
   "cell_type": "code",
   "execution_count": 17,
   "metadata": {
    "pycharm": {
     "name": "#%%\n"
    }
   },
   "outputs": [
    {
     "data": {
      "application/vnd.jupyter.widget-view+json": {
       "model_id": "75f1b5a8ea144dbd98f20b4c9866235a",
       "version_major": 2,
       "version_minor": 0
      },
      "text/plain": [
       "Canvas(toolbar=Toolbar(toolitems=[('Home', 'Reset original view', 'home', 'home'), ('Back', 'Back to previous …"
      ]
     },
     "metadata": {},
     "output_type": "display_data"
    }
   ],
   "source": [
    "temperature_timeseries_plot = data_set.data[0].temperature_timeseries_plot\n",
    "temperature_timeseries_plot.plot_series = { key: temperature_timeseries_plot.plot_series[key] for key in temperature_timeseries_plot.plot_series if (key.startswith(\"CPU 0\") and (not key.startswith(\"CPU 0 Core\") or key.startswith(\"CPU 0 Core 0\"))) or key.startswith(\"GPU 0\") or key.startswith(\"Node\")}\n",
    "temperature_timeseries_plot.plot()"
   ]
  },
  {
   "cell_type": "markdown",
   "metadata": {},
   "source": [
    "### Timespan\n",
    "\n",
    "The graphs below shows the time spent on different types of operations over time."
   ]
  },
  {
   "cell_type": "code",
   "execution_count": 18,
   "metadata": {},
   "outputs": [
    {
     "data": {
      "application/vnd.jupyter.widget-view+json": {
       "model_id": "4ebc81306f2e4f4a9fe899813dad5930",
       "version_major": 2,
       "version_minor": 0
      },
      "text/plain": [
       "Canvas(toolbar=Toolbar(toolitems=[('Home', 'Reset original view', 'home', 'home'), ('Back', 'Back to previous …"
      ]
     },
     "metadata": {},
     "output_type": "display_data"
    }
   ],
   "source": [
    "timespan_timeseries_plot = data_set.data[0].timespan_timeseries_plot(use_ear=False)\n",
    "timespan_timeseries_plot.plot_series = { key: timespan_timeseries_plot.plot_series[key] for key in timespan_timeseries_plot.plot_series if (key.startswith(\"Runtime\") or key.startswith(\"EAR\") or key.startswith(\"CPU 0 Core 0\"))}\n",
    "timespan_timeseries_plot.plot()"
   ]
  },
  {
   "cell_type": "markdown",
   "metadata": {},
   "source": [
    "### Utilization Rates\n",
    "\n",
    "The graph below shows the utilization rates over time."
   ]
  },
  {
   "cell_type": "code",
   "execution_count": 19,
   "metadata": {
    "pycharm": {
     "name": "#%%\n"
    }
   },
   "outputs": [
    {
     "data": {
      "application/vnd.jupyter.widget-view+json": {
       "model_id": "a1824a8009c24e62bfbbd3c119438f0f",
       "version_major": 2,
       "version_minor": 0
      },
      "text/plain": [
       "Canvas(toolbar=Toolbar(toolitems=[('Home', 'Reset original view', 'home', 'home'), ('Back', 'Back to previous …"
      ]
     },
     "metadata": {},
     "output_type": "display_data"
    }
   ],
   "source": [
    "utilization_rate_timeseries_plot = data_set.data[0].utilization_rate_timeseries_plot\n",
    "utilization_rate_timeseries_plot.plot_series = { key: utilization_rate_timeseries_plot.plot_series[key] for key in utilization_rate_timeseries_plot.plot_series if (key.startswith(\"CPU 0\") and (not key.startswith(\"CPU 0 Core\") or key.startswith(\"CPU 0 Core 0\"))) or key.startswith(\"GPU 0\") or key.startswith(\"Node\")}\n",
    "utilization_rate_timeseries_plot.plot()"
   ]
  }
 ],
 "metadata": {
  "kernelspec": {
   "display_name": "Python 3",
   "language": "python",
   "name": "python3"
  },
  "language_info": {
   "codemirror_mode": {
    "name": "ipython",
    "version": 3
   },
   "file_extension": ".py",
   "mimetype": "text/x-python",
   "name": "python",
   "nbconvert_exporter": "python",
   "pygments_lexer": "ipython3",
   "version": "3.8.6"
  },
  "widgets": {
   "application/vnd.jupyter.widget-state+json": {
    "state": {
     "105f87c7634d4989befc93e5545f89f6": {
      "model_module": "@jupyter-widgets/base",
      "model_module_version": "1.2.0",
      "model_name": "LayoutModel",
      "state": {}
     },
     "10b3bd6699a74f15932bfe40a9584dd9": {
      "model_module": "@jupyter-widgets/base",
      "model_module_version": "1.2.0",
      "model_name": "LayoutModel",
      "state": {}
     },
     "11cb9de22f4a40728aec2d41a806aba8": {
      "model_module": "jupyter-matplotlib",
      "model_module_version": "^0.8.3",
      "model_name": "MPLCanvasModel",
      "state": {
       "_cursor": "default",
       "_figure_label": "Figure 4",
       "_height": 500,
       "_width": 1500,
       "layout": "IPY_MODEL_59c385287cc543d58838b9f3046257b9",
       "toolbar": "IPY_MODEL_173c24f2251e44ad9765eccd189fd410",
       "toolbar_position": "left"
      }
     },
     "12d21b18f3964ac5915496372ed6511e": {
      "model_module": "@jupyter-widgets/base",
      "model_module_version": "1.2.0",
      "model_name": "LayoutModel",
      "state": {}
     },
     "173c24f2251e44ad9765eccd189fd410": {
      "model_module": "jupyter-matplotlib",
      "model_module_version": "^0.8.3",
      "model_name": "ToolbarModel",
      "state": {
       "layout": "IPY_MODEL_cac916806b994a57934a8d93ffdbf8df",
       "toolitems": [
        [
         "Home",
         "Reset original view",
         "home",
         "home"
        ],
        [
         "Back",
         "Back to previous view",
         "arrow-left",
         "back"
        ],
        [
         "Forward",
         "Forward to next view",
         "arrow-right",
         "forward"
        ],
        [
         "Pan",
         "Left button pans, Right button zooms\nx/y fixes axis, CTRL fixes aspect",
         "arrows",
         "pan"
        ],
        [
         "Zoom",
         "Zoom to rectangle\nx/y fixes axis, CTRL fixes aspect",
         "square-o",
         "zoom"
        ],
        [
         "Download",
         "Download plot",
         "floppy-o",
         "save_figure"
        ]
       ]
      }
     },
     "2c5b15d246094826970302d7d31572e8": {
      "model_module": "jupyter-matplotlib",
      "model_module_version": "^0.8.3",
      "model_name": "ToolbarModel",
      "state": {
       "layout": "IPY_MODEL_6d923e9bcd994da28c9648f4d1eec6c9",
       "toolitems": [
        [
         "Home",
         "Reset original view",
         "home",
         "home"
        ],
        [
         "Back",
         "Back to previous view",
         "arrow-left",
         "back"
        ],
        [
         "Forward",
         "Forward to next view",
         "arrow-right",
         "forward"
        ],
        [
         "Pan",
         "Left button pans, Right button zooms\nx/y fixes axis, CTRL fixes aspect",
         "arrows",
         "pan"
        ],
        [
         "Zoom",
         "Zoom to rectangle\nx/y fixes axis, CTRL fixes aspect",
         "square-o",
         "zoom"
        ],
        [
         "Download",
         "Download plot",
         "floppy-o",
         "save_figure"
        ]
       ]
      }
     },
     "2e1b7340ab7d483dac29bbde3aec6e0c": {
      "model_module": "jupyter-matplotlib",
      "model_module_version": "^0.8.3",
      "model_name": "ToolbarModel",
      "state": {
       "layout": "IPY_MODEL_8c5ac9b609b7464c88bf3eaf467d6fb5",
       "toolitems": [
        [
         "Home",
         "Reset original view",
         "home",
         "home"
        ],
        [
         "Back",
         "Back to previous view",
         "arrow-left",
         "back"
        ],
        [
         "Forward",
         "Forward to next view",
         "arrow-right",
         "forward"
        ],
        [
         "Pan",
         "Left button pans, Right button zooms\nx/y fixes axis, CTRL fixes aspect",
         "arrows",
         "pan"
        ],
        [
         "Zoom",
         "Zoom to rectangle\nx/y fixes axis, CTRL fixes aspect",
         "square-o",
         "zoom"
        ],
        [
         "Download",
         "Download plot",
         "floppy-o",
         "save_figure"
        ]
       ]
      }
     },
     "2eacb412841e4a4c98e65dbdf76d03b5": {
      "model_module": "@jupyter-widgets/base",
      "model_module_version": "1.2.0",
      "model_name": "LayoutModel",
      "state": {}
     },
     "3443f3efec334910b5a245eac2f01aea": {
      "model_module": "jupyter-matplotlib",
      "model_module_version": "^0.8.3",
      "model_name": "MPLCanvasModel",
      "state": {
       "_cursor": "default",
       "_figure_label": "Figure 10",
       "_height": 500,
       "_width": 1500,
       "layout": "IPY_MODEL_8df7c485d81749f880636d83284c066f",
       "toolbar": "IPY_MODEL_dc66ceaaad1a40659b1ea776b7f20cfb",
       "toolbar_position": "left"
      }
     },
     "42eb593488ac403bad180359811cea16": {
      "model_module": "jupyter-matplotlib",
      "model_module_version": "^0.8.3",
      "model_name": "ToolbarModel",
      "state": {
       "layout": "IPY_MODEL_10b3bd6699a74f15932bfe40a9584dd9",
       "toolitems": [
        [
         "Home",
         "Reset original view",
         "home",
         "home"
        ],
        [
         "Back",
         "Back to previous view",
         "arrow-left",
         "back"
        ],
        [
         "Forward",
         "Forward to next view",
         "arrow-right",
         "forward"
        ],
        [
         "Pan",
         "Left button pans, Right button zooms\nx/y fixes axis, CTRL fixes aspect",
         "arrows",
         "pan"
        ],
        [
         "Zoom",
         "Zoom to rectangle\nx/y fixes axis, CTRL fixes aspect",
         "square-o",
         "zoom"
        ],
        [
         "Download",
         "Download plot",
         "floppy-o",
         "save_figure"
        ]
       ]
      }
     },
     "440c091b34334a7bb3c7cd6f6f441377": {
      "model_module": "jupyter-matplotlib",
      "model_module_version": "^0.8.3",
      "model_name": "ToolbarModel",
      "state": {
       "layout": "IPY_MODEL_98defba4b84f4d459dab5cc69654739f",
       "toolitems": [
        [
         "Home",
         "Reset original view",
         "home",
         "home"
        ],
        [
         "Back",
         "Back to previous view",
         "arrow-left",
         "back"
        ],
        [
         "Forward",
         "Forward to next view",
         "arrow-right",
         "forward"
        ],
        [
         "Pan",
         "Left button pans, Right button zooms\nx/y fixes axis, CTRL fixes aspect",
         "arrows",
         "pan"
        ],
        [
         "Zoom",
         "Zoom to rectangle\nx/y fixes axis, CTRL fixes aspect",
         "square-o",
         "zoom"
        ],
        [
         "Download",
         "Download plot",
         "floppy-o",
         "save_figure"
        ]
       ]
      }
     },
     "4d2c4a1e3f3f4598823d0d7bcc5a8d59": {
      "model_module": "@jupyter-widgets/base",
      "model_module_version": "1.2.0",
      "model_name": "LayoutModel",
      "state": {}
     },
     "4ebc81306f2e4f4a9fe899813dad5930": {
      "model_module": "jupyter-matplotlib",
      "model_module_version": "^0.8.3",
      "model_name": "MPLCanvasModel",
      "state": {
       "_cursor": "default",
       "_figure_label": "Figure 13",
       "_height": 500,
       "_width": 1500,
       "layout": "IPY_MODEL_12d21b18f3964ac5915496372ed6511e",
       "toolbar": "IPY_MODEL_d3520de43fbc4ebd914ab1d01044076c",
       "toolbar_position": "left"
      }
     },
     "59c385287cc543d58838b9f3046257b9": {
      "model_module": "@jupyter-widgets/base",
      "model_module_version": "1.2.0",
      "model_name": "LayoutModel",
      "state": {}
     },
     "5a1b648835c14030a91760ce355e0a0a": {
      "model_module": "@jupyter-widgets/base",
      "model_module_version": "1.2.0",
      "model_name": "LayoutModel",
      "state": {}
     },
     "5de217cc706e4562a1dd9af356c4cb35": {
      "model_module": "jupyter-matplotlib",
      "model_module_version": "^0.8.3",
      "model_name": "ToolbarModel",
      "state": {
       "layout": "IPY_MODEL_105f87c7634d4989befc93e5545f89f6",
       "toolitems": [
        [
         "Home",
         "Reset original view",
         "home",
         "home"
        ],
        [
         "Back",
         "Back to previous view",
         "arrow-left",
         "back"
        ],
        [
         "Forward",
         "Forward to next view",
         "arrow-right",
         "forward"
        ],
        [
         "Pan",
         "Left button pans, Right button zooms\nx/y fixes axis, CTRL fixes aspect",
         "arrows",
         "pan"
        ],
        [
         "Zoom",
         "Zoom to rectangle\nx/y fixes axis, CTRL fixes aspect",
         "square-o",
         "zoom"
        ],
        [
         "Download",
         "Download plot",
         "floppy-o",
         "save_figure"
        ]
       ]
      }
     },
     "5fef3574051f48e9b4aea0ed594a4836": {
      "model_module": "jupyter-matplotlib",
      "model_module_version": "^0.8.3",
      "model_name": "MPLCanvasModel",
      "state": {
       "_cursor": "default",
       "_figure_label": "Figure 7",
       "_height": 500,
       "_width": 1500,
       "layout": "IPY_MODEL_d57fdc9c79c0411cbaf3d58c054761b2",
       "toolbar": "IPY_MODEL_68cf7b85529845d1b8c26c727024028f",
       "toolbar_position": "left"
      }
     },
     "61b25c18b2334efe97b165e734b4a732": {
      "model_module": "@jupyter-widgets/base",
      "model_module_version": "1.2.0",
      "model_name": "LayoutModel",
      "state": {}
     },
     "628796afc9014173942038b119973fd7": {
      "model_module": "jupyter-matplotlib",
      "model_module_version": "^0.8.3",
      "model_name": "MPLCanvasModel",
      "state": {
       "_cursor": "default",
       "_figure_label": "Figure 9",
       "_height": 500,
       "_width": 1500,
       "layout": "IPY_MODEL_61b25c18b2334efe97b165e734b4a732",
       "toolbar": "IPY_MODEL_69f1ea9f1df4451b95095a7a034c358f",
       "toolbar_position": "left"
      }
     },
     "645ecb8485dc45cea0696f8a0f9e46ff": {
      "model_module": "jupyter-matplotlib",
      "model_module_version": "^0.8.3",
      "model_name": "MPLCanvasModel",
      "state": {
       "_cursor": "default",
       "_figure_label": "Figure 8",
       "_height": 500,
       "_width": 1500,
       "layout": "IPY_MODEL_67a9f01c572346d48ffa4ddc46cbc031",
       "toolbar": "IPY_MODEL_d75f7ec935364a779d9a1f1127c0b5cc",
       "toolbar_position": "left"
      }
     },
     "65651ee2bce24d5eb79fdb9a478c0551": {
      "model_module": "@jupyter-widgets/base",
      "model_module_version": "1.2.0",
      "model_name": "LayoutModel",
      "state": {}
     },
     "67a9f01c572346d48ffa4ddc46cbc031": {
      "model_module": "@jupyter-widgets/base",
      "model_module_version": "1.2.0",
      "model_name": "LayoutModel",
      "state": {}
     },
     "68cf7b85529845d1b8c26c727024028f": {
      "model_module": "jupyter-matplotlib",
      "model_module_version": "^0.8.3",
      "model_name": "ToolbarModel",
      "state": {
       "layout": "IPY_MODEL_2eacb412841e4a4c98e65dbdf76d03b5",
       "toolitems": [
        [
         "Home",
         "Reset original view",
         "home",
         "home"
        ],
        [
         "Back",
         "Back to previous view",
         "arrow-left",
         "back"
        ],
        [
         "Forward",
         "Forward to next view",
         "arrow-right",
         "forward"
        ],
        [
         "Pan",
         "Left button pans, Right button zooms\nx/y fixes axis, CTRL fixes aspect",
         "arrows",
         "pan"
        ],
        [
         "Zoom",
         "Zoom to rectangle\nx/y fixes axis, CTRL fixes aspect",
         "square-o",
         "zoom"
        ],
        [
         "Download",
         "Download plot",
         "floppy-o",
         "save_figure"
        ]
       ]
      }
     },
     "69f1ea9f1df4451b95095a7a034c358f": {
      "model_module": "jupyter-matplotlib",
      "model_module_version": "^0.8.3",
      "model_name": "ToolbarModel",
      "state": {
       "layout": "IPY_MODEL_65651ee2bce24d5eb79fdb9a478c0551",
       "toolitems": [
        [
         "Home",
         "Reset original view",
         "home",
         "home"
        ],
        [
         "Back",
         "Back to previous view",
         "arrow-left",
         "back"
        ],
        [
         "Forward",
         "Forward to next view",
         "arrow-right",
         "forward"
        ],
        [
         "Pan",
         "Left button pans, Right button zooms\nx/y fixes axis, CTRL fixes aspect",
         "arrows",
         "pan"
        ],
        [
         "Zoom",
         "Zoom to rectangle\nx/y fixes axis, CTRL fixes aspect",
         "square-o",
         "zoom"
        ],
        [
         "Download",
         "Download plot",
         "floppy-o",
         "save_figure"
        ]
       ]
      }
     },
     "6d923e9bcd994da28c9648f4d1eec6c9": {
      "model_module": "@jupyter-widgets/base",
      "model_module_version": "1.2.0",
      "model_name": "LayoutModel",
      "state": {}
     },
     "6f01214f2ab74f2e93076795b0aaa400": {
      "model_module": "@jupyter-widgets/base",
      "model_module_version": "1.2.0",
      "model_name": "LayoutModel",
      "state": {}
     },
     "73e9c7cd746b48fe8165db936ea871ae": {
      "model_module": "@jupyter-widgets/base",
      "model_module_version": "1.2.0",
      "model_name": "LayoutModel",
      "state": {}
     },
     "75f1b5a8ea144dbd98f20b4c9866235a": {
      "model_module": "jupyter-matplotlib",
      "model_module_version": "^0.8.3",
      "model_name": "MPLCanvasModel",
      "state": {
       "_cursor": "default",
       "_figure_label": "Figure 12",
       "_height": 500,
       "_width": 1500,
       "layout": "IPY_MODEL_99e09f1597904a3786b33ebc4a1ad9c1",
       "toolbar": "IPY_MODEL_42eb593488ac403bad180359811cea16",
       "toolbar_position": "left"
      }
     },
     "7e299297768c487ca7ab77f03e27218d": {
      "model_module": "jupyter-matplotlib",
      "model_module_version": "^0.8.3",
      "model_name": "ToolbarModel",
      "state": {
       "layout": "IPY_MODEL_eb1ac43e1ee5484783ed44c4f808c492",
       "toolitems": [
        [
         "Home",
         "Reset original view",
         "home",
         "home"
        ],
        [
         "Back",
         "Back to previous view",
         "arrow-left",
         "back"
        ],
        [
         "Forward",
         "Forward to next view",
         "arrow-right",
         "forward"
        ],
        [
         "Pan",
         "Left button pans, Right button zooms\nx/y fixes axis, CTRL fixes aspect",
         "arrows",
         "pan"
        ],
        [
         "Zoom",
         "Zoom to rectangle\nx/y fixes axis, CTRL fixes aspect",
         "square-o",
         "zoom"
        ],
        [
         "Download",
         "Download plot",
         "floppy-o",
         "save_figure"
        ]
       ]
      }
     },
     "881360e4b3814c96946bab8429739231": {
      "model_module": "@jupyter-widgets/base",
      "model_module_version": "1.2.0",
      "model_name": "LayoutModel",
      "state": {}
     },
     "8918d13b86974b6fa59e25615946950b": {
      "model_module": "jupyter-matplotlib",
      "model_module_version": "^0.8.3",
      "model_name": "MPLCanvasModel",
      "state": {
       "_cursor": "default",
       "_figure_label": "Figure 3",
       "_height": 500,
       "_width": 1500,
       "layout": "IPY_MODEL_9c8f2e1c7d8241bd83c9ffa566b0ede1",
       "toolbar": "IPY_MODEL_440c091b34334a7bb3c7cd6f6f441377",
       "toolbar_position": "left"
      }
     },
     "8c5ac9b609b7464c88bf3eaf467d6fb5": {
      "model_module": "@jupyter-widgets/base",
      "model_module_version": "1.2.0",
      "model_name": "LayoutModel",
      "state": {}
     },
     "8df7c485d81749f880636d83284c066f": {
      "model_module": "@jupyter-widgets/base",
      "model_module_version": "1.2.0",
      "model_name": "LayoutModel",
      "state": {}
     },
     "98defba4b84f4d459dab5cc69654739f": {
      "model_module": "@jupyter-widgets/base",
      "model_module_version": "1.2.0",
      "model_name": "LayoutModel",
      "state": {}
     },
     "99e09f1597904a3786b33ebc4a1ad9c1": {
      "model_module": "@jupyter-widgets/base",
      "model_module_version": "1.2.0",
      "model_name": "LayoutModel",
      "state": {}
     },
     "9c8f2e1c7d8241bd83c9ffa566b0ede1": {
      "model_module": "@jupyter-widgets/base",
      "model_module_version": "1.2.0",
      "model_name": "LayoutModel",
      "state": {}
     },
     "9d20c39712e04b7490cef270609a64e9": {
      "model_module": "@jupyter-widgets/base",
      "model_module_version": "1.2.0",
      "model_name": "LayoutModel",
      "state": {}
     },
     "a1824a8009c24e62bfbbd3c119438f0f": {
      "model_module": "jupyter-matplotlib",
      "model_module_version": "^0.8.3",
      "model_name": "MPLCanvasModel",
      "state": {
       "_cursor": "default",
       "_figure_label": "Figure 14",
       "_height": 500,
       "_width": 1500,
       "layout": "IPY_MODEL_4d2c4a1e3f3f4598823d0d7bcc5a8d59",
       "toolbar": "IPY_MODEL_2e1b7340ab7d483dac29bbde3aec6e0c",
       "toolbar_position": "left"
      }
     },
     "a3e10a05125b462dae31a0ff0a9258af": {
      "model_module": "jupyter-matplotlib",
      "model_module_version": "^0.8.3",
      "model_name": "MPLCanvasModel",
      "state": {
       "_cursor": "default",
       "_figure_label": "Figure 5",
       "_height": 500,
       "_width": 1500,
       "layout": "IPY_MODEL_c3c5600fb5d9484ebdaacabb4e24cf5e",
       "toolbar": "IPY_MODEL_ca11f2df9010417291dea74dc4f44fb1",
       "toolbar_position": "left"
      }
     },
     "a50f31f307624c748f070fef6f0dc6e0": {
      "model_module": "@jupyter-widgets/base",
      "model_module_version": "1.2.0",
      "model_name": "LayoutModel",
      "state": {}
     },
     "a9137f7a68d54f19b948ae30d6211a23": {
      "model_module": "jupyter-matplotlib",
      "model_module_version": "^0.8.3",
      "model_name": "MPLCanvasModel",
      "state": {
       "_cursor": "default",
       "_figure_label": "Figure 2",
       "_height": 500,
       "_width": 1500,
       "layout": "IPY_MODEL_73e9c7cd746b48fe8165db936ea871ae",
       "toolbar": "IPY_MODEL_7e299297768c487ca7ab77f03e27218d",
       "toolbar_position": "left"
      }
     },
     "b1d7805e46314f908f087efd2a3f9519": {
      "model_module": "jupyter-matplotlib",
      "model_module_version": "^0.8.3",
      "model_name": "MPLCanvasModel",
      "state": {
       "_cursor": "default",
       "_figure_label": "Figure 11",
       "_height": 500,
       "_width": 1500,
       "layout": "IPY_MODEL_c2511062e7214280b6188d5c5a9d94e1",
       "toolbar": "IPY_MODEL_2c5b15d246094826970302d7d31572e8",
       "toolbar_position": "left"
      }
     },
     "bc5a4d03bb8144ea94989a0fb2171476": {
      "model_module": "@jupyter-widgets/base",
      "model_module_version": "1.2.0",
      "model_name": "LayoutModel",
      "state": {}
     },
     "c2511062e7214280b6188d5c5a9d94e1": {
      "model_module": "@jupyter-widgets/base",
      "model_module_version": "1.2.0",
      "model_name": "LayoutModel",
      "state": {}
     },
     "c3c5600fb5d9484ebdaacabb4e24cf5e": {
      "model_module": "@jupyter-widgets/base",
      "model_module_version": "1.2.0",
      "model_name": "LayoutModel",
      "state": {}
     },
     "ca11f2df9010417291dea74dc4f44fb1": {
      "model_module": "jupyter-matplotlib",
      "model_module_version": "^0.8.3",
      "model_name": "ToolbarModel",
      "state": {
       "layout": "IPY_MODEL_6f01214f2ab74f2e93076795b0aaa400",
       "toolitems": [
        [
         "Home",
         "Reset original view",
         "home",
         "home"
        ],
        [
         "Back",
         "Back to previous view",
         "arrow-left",
         "back"
        ],
        [
         "Forward",
         "Forward to next view",
         "arrow-right",
         "forward"
        ],
        [
         "Pan",
         "Left button pans, Right button zooms\nx/y fixes axis, CTRL fixes aspect",
         "arrows",
         "pan"
        ],
        [
         "Zoom",
         "Zoom to rectangle\nx/y fixes axis, CTRL fixes aspect",
         "square-o",
         "zoom"
        ],
        [
         "Download",
         "Download plot",
         "floppy-o",
         "save_figure"
        ]
       ]
      }
     },
     "cac916806b994a57934a8d93ffdbf8df": {
      "model_module": "@jupyter-widgets/base",
      "model_module_version": "1.2.0",
      "model_name": "LayoutModel",
      "state": {}
     },
     "d3520de43fbc4ebd914ab1d01044076c": {
      "model_module": "jupyter-matplotlib",
      "model_module_version": "^0.8.3",
      "model_name": "ToolbarModel",
      "state": {
       "layout": "IPY_MODEL_9d20c39712e04b7490cef270609a64e9",
       "toolitems": [
        [
         "Home",
         "Reset original view",
         "home",
         "home"
        ],
        [
         "Back",
         "Back to previous view",
         "arrow-left",
         "back"
        ],
        [
         "Forward",
         "Forward to next view",
         "arrow-right",
         "forward"
        ],
        [
         "Pan",
         "Left button pans, Right button zooms\nx/y fixes axis, CTRL fixes aspect",
         "arrows",
         "pan"
        ],
        [
         "Zoom",
         "Zoom to rectangle\nx/y fixes axis, CTRL fixes aspect",
         "square-o",
         "zoom"
        ],
        [
         "Download",
         "Download plot",
         "floppy-o",
         "save_figure"
        ]
       ]
      }
     },
     "d57fdc9c79c0411cbaf3d58c054761b2": {
      "model_module": "@jupyter-widgets/base",
      "model_module_version": "1.2.0",
      "model_name": "LayoutModel",
      "state": {}
     },
     "d75b08b41a9b4be1872ebda4acbc63b5": {
      "model_module": "@jupyter-widgets/base",
      "model_module_version": "1.2.0",
      "model_name": "LayoutModel",
      "state": {}
     },
     "d75f7ec935364a779d9a1f1127c0b5cc": {
      "model_module": "jupyter-matplotlib",
      "model_module_version": "^0.8.3",
      "model_name": "ToolbarModel",
      "state": {
       "layout": "IPY_MODEL_bc5a4d03bb8144ea94989a0fb2171476",
       "toolitems": [
        [
         "Home",
         "Reset original view",
         "home",
         "home"
        ],
        [
         "Back",
         "Back to previous view",
         "arrow-left",
         "back"
        ],
        [
         "Forward",
         "Forward to next view",
         "arrow-right",
         "forward"
        ],
        [
         "Pan",
         "Left button pans, Right button zooms\nx/y fixes axis, CTRL fixes aspect",
         "arrows",
         "pan"
        ],
        [
         "Zoom",
         "Zoom to rectangle\nx/y fixes axis, CTRL fixes aspect",
         "square-o",
         "zoom"
        ],
        [
         "Download",
         "Download plot",
         "floppy-o",
         "save_figure"
        ]
       ]
      }
     },
     "dc66ceaaad1a40659b1ea776b7f20cfb": {
      "model_module": "jupyter-matplotlib",
      "model_module_version": "^0.8.3",
      "model_name": "ToolbarModel",
      "state": {
       "layout": "IPY_MODEL_5a1b648835c14030a91760ce355e0a0a",
       "toolitems": [
        [
         "Home",
         "Reset original view",
         "home",
         "home"
        ],
        [
         "Back",
         "Back to previous view",
         "arrow-left",
         "back"
        ],
        [
         "Forward",
         "Forward to next view",
         "arrow-right",
         "forward"
        ],
        [
         "Pan",
         "Left button pans, Right button zooms\nx/y fixes axis, CTRL fixes aspect",
         "arrows",
         "pan"
        ],
        [
         "Zoom",
         "Zoom to rectangle\nx/y fixes axis, CTRL fixes aspect",
         "square-o",
         "zoom"
        ],
        [
         "Download",
         "Download plot",
         "floppy-o",
         "save_figure"
        ]
       ]
      }
     },
     "e5a784c523b9412b8fd45d880fd44085": {
      "model_module": "jupyter-matplotlib",
      "model_module_version": "^0.8.3",
      "model_name": "MPLCanvasModel",
      "state": {
       "_cursor": "default",
       "_figure_label": "Figure 1",
       "_height": 500,
       "_message": "x=09:05:07 y=1.581e+09",
       "_width": 1500,
       "layout": "IPY_MODEL_d75b08b41a9b4be1872ebda4acbc63b5",
       "toolbar": "IPY_MODEL_5de217cc706e4562a1dd9af356c4cb35",
       "toolbar_position": "left"
      }
     },
     "eb1ac43e1ee5484783ed44c4f808c492": {
      "model_module": "@jupyter-widgets/base",
      "model_module_version": "1.2.0",
      "model_name": "LayoutModel",
      "state": {}
     },
     "fde2f1b7702b44919cd8fc21b0dc9221": {
      "model_module": "jupyter-matplotlib",
      "model_module_version": "^0.8.3",
      "model_name": "ToolbarModel",
      "state": {
       "layout": "IPY_MODEL_881360e4b3814c96946bab8429739231",
       "toolitems": [
        [
         "Home",
         "Reset original view",
         "home",
         "home"
        ],
        [
         "Back",
         "Back to previous view",
         "arrow-left",
         "back"
        ],
        [
         "Forward",
         "Forward to next view",
         "arrow-right",
         "forward"
        ],
        [
         "Pan",
         "Left button pans, Right button zooms\nx/y fixes axis, CTRL fixes aspect",
         "arrows",
         "pan"
        ],
        [
         "Zoom",
         "Zoom to rectangle\nx/y fixes axis, CTRL fixes aspect",
         "square-o",
         "zoom"
        ],
        [
         "Download",
         "Download plot",
         "floppy-o",
         "save_figure"
        ]
       ]
      }
     },
     "ffcee0dd4db04e319f98fadd95d496f8": {
      "model_module": "jupyter-matplotlib",
      "model_module_version": "^0.8.3",
      "model_name": "MPLCanvasModel",
      "state": {
       "_cursor": "default",
       "_figure_label": "Figure 6",
       "_height": 500,
       "_width": 1500,
       "layout": "IPY_MODEL_a50f31f307624c748f070fef6f0dc6e0",
       "toolbar": "IPY_MODEL_fde2f1b7702b44919cd8fc21b0dc9221",
       "toolbar_position": "left"
      }
     }
    },
    "version_major": 2,
    "version_minor": 0
   }
  }
 },
 "nbformat": 4,
 "nbformat_minor": 4
}
