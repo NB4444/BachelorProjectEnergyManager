{
 "cells": [
  {
   "cell_type": "code",
   "execution_count": 1,
   "metadata": {
    "pycharm": {
     "name": "#%%\n"
    }
   },
   "outputs": [],
   "source": [
    "%matplotlib widget\n",
    "\n",
    "import os\n",
    "import pathlib\n",
    "import pprint\n",
    "\n",
    "from Visualizer.DataSet import DataSet\n",
    "from Visualizer.Monitoring.Persistence.ProfilerSession import ProfilerSession\n",
    "from Visualizer.Plotting.Plot import Plot"
   ]
  },
  {
   "cell_type": "markdown",
   "metadata": {},
   "source": [
    "# [Analyzer] Single Profiler Session\n",
    "\n",
    "This notebook can visualize a specific profiler session."
   ]
  },
  {
   "cell_type": "markdown",
   "metadata": {},
   "source": [
    "## Configuration\n",
    "\n",
    "Configure the project settings below.\n",
    "The default configuration should be okay.\n",
    "Make sure that you have run at least one profiler session with the EnergyManager and have generated a database, otherwise this notebook will fail."
   ]
  },
  {
   "cell_type": "code",
   "execution_count": 2,
   "metadata": {
    "pycharm": {
     "name": "#%%\n"
    }
   },
   "outputs": [],
   "source": [
    "source_directory = pathlib.Path().parent.absolute()\n",
    "project_directory = f\"{source_directory}/..\"\n",
    "root_directory = f\"{project_directory}/..\"\n",
    "resources_directory = f\"{root_directory}/Resources\"\n",
    "database = f\"{resources_directory}/Database.sqlite\"\n",
    "\n",
    "# Load all profiler sessions\n",
    "complete_data_set = DataSet(ProfilerSession.load_all(database))"
   ]
  },
  {
   "cell_type": "markdown",
   "metadata": {},
   "source": [
    "### Profiler Sessions Overview\n",
    "\n",
    "Below all profiler sessions are shown."
   ]
  },
  {
   "cell_type": "code",
   "execution_count": 3,
   "metadata": {
    "pycharm": {
     "name": "#%%\n"
    }
   },
   "outputs": [
    {
     "data": {
      "text/html": [
       "<div>\n",
       "<style scoped>\n",
       "    .dataframe tbody tr th:only-of-type {\n",
       "        vertical-align: middle;\n",
       "    }\n",
       "\n",
       "    .dataframe tbody tr th {\n",
       "        vertical-align: top;\n",
       "    }\n",
       "\n",
       "    .dataframe thead th {\n",
       "        text-align: right;\n",
       "    }\n",
       "</style>\n",
       "<table border=\"1\" class=\"dataframe\">\n",
       "  <thead>\n",
       "    <tr style=\"text-align: right;\">\n",
       "      <th></th>\n",
       "      <th>ID</th>\n",
       "      <th>Label</th>\n",
       "      <th>Profile</th>\n",
       "    </tr>\n",
       "  </thead>\n",
       "  <tbody>\n",
       "    <tr>\n",
       "      <th>0</th>\n",
       "      <td>1</td>\n",
       "      <td>JacobiNoMPIProfiler</td>\n",
       "      <td>{'Ni': 512, 'Nj': 512, 'file': '/applications/jacobi/small', 'iterations': 10000, 'kernel': 1}</td>\n",
       "    </tr>\n",
       "    <tr>\n",
       "      <th>1</th>\n",
       "      <td>2</td>\n",
       "      <td>JacobiNoMPIProfiler</td>\n",
       "      <td>{'Ni': 512, 'Nj': 512, 'file': '/applications/jacobi/small', 'iterations': 10000, 'kernel': 2}</td>\n",
       "    </tr>\n",
       "    <tr>\n",
       "      <th>2</th>\n",
       "      <td>3</td>\n",
       "      <td>JacobiNoMPIProfiler (EnergyMonitor MinMax)</td>\n",
       "      <td>{'Ni': 512, 'Nj': 512, 'file': '/applications/jacobi/small', 'iterations': 10000, 'kernel': 1}</td>\n",
       "    </tr>\n",
       "    <tr>\n",
       "      <th>3</th>\n",
       "      <td>4</td>\n",
       "      <td>JacobiNoMPIProfiler (EnergyMonitor MinMax)</td>\n",
       "      <td>{'Ni': 512, 'Nj': 512, 'file': '/applications/jacobi/small', 'iterations': 10000, 'kernel': 2}</td>\n",
       "    </tr>\n",
       "    <tr>\n",
       "      <th>4</th>\n",
       "      <td>5</td>\n",
       "      <td>JacobiNoMPIProfiler (EnergyMonitor System)</td>\n",
       "      <td>{'Ni': 512, 'Nj': 512, 'file': '/applications/jacobi/small', 'iterations': 10000, 'kernel': 1}</td>\n",
       "    </tr>\n",
       "    <tr>\n",
       "      <th>5</th>\n",
       "      <td>6</td>\n",
       "      <td>JacobiNoMPIProfiler (EnergyMonitor System)</td>\n",
       "      <td>{'Ni': 512, 'Nj': 512, 'file': '/applications/jacobi/small', 'iterations': 10000, 'kernel': 2}</td>\n",
       "    </tr>\n",
       "    <tr>\n",
       "      <th>6</th>\n",
       "      <td>7</td>\n",
       "      <td>JacobiNoMPIProfiler</td>\n",
       "      <td>{'Ni': 512, 'Nj': 512, 'file': '/applications/jacobi/small', 'iterations': 10000, 'kernel': 1}</td>\n",
       "    </tr>\n",
       "    <tr>\n",
       "      <th>7</th>\n",
       "      <td>8</td>\n",
       "      <td>JacobiNoMPIProfiler</td>\n",
       "      <td>{'Ni': 512, 'Nj': 512, 'file': '/applications/jacobi/small', 'iterations': 10000, 'kernel': 2}</td>\n",
       "    </tr>\n",
       "    <tr>\n",
       "      <th>8</th>\n",
       "      <td>9</td>\n",
       "      <td>StreamclusterProfiler</td>\n",
       "      <td>{'chunksize': 65536, 'clustersize': 1000, 'd': 256, 'infile': 'none', 'iterations': 10, 'k1': 10, 'k2': 20, 'n': 65536, 'nproc': 1, 'outfile': 'output.txt'}</td>\n",
       "    </tr>\n",
       "    <tr>\n",
       "      <th>9</th>\n",
       "      <td>10</td>\n",
       "      <td>StreamclusterProfiler (EnergyMonitor MinMax)</td>\n",
       "      <td>{'chunksize': 65536, 'clustersize': 1000, 'd': 256, 'infile': 'none', 'iterations': 10, 'k1': 10, 'k2': 20, 'n': 65536, 'nproc': 1, 'outfile': 'output.txt'}</td>\n",
       "    </tr>\n",
       "    <tr>\n",
       "      <th>10</th>\n",
       "      <td>11</td>\n",
       "      <td>StreamclusterProfiler (EnergyMonitor System)</td>\n",
       "      <td>{'chunksize': 65536, 'clustersize': 1000, 'd': 256, 'infile': 'none', 'iterations': 10, 'k1': 10, 'k2': 20, 'n': 65536, 'nproc': 1, 'outfile': 'output.txt'}</td>\n",
       "    </tr>\n",
       "    <tr>\n",
       "      <th>11</th>\n",
       "      <td>12</td>\n",
       "      <td>StreamclusterProfiler</td>\n",
       "      <td>{'chunksize': 65536, 'clustersize': 1000, 'd': 256, 'infile': 'none', 'iterations': 10, 'k1': 10, 'k2': 20, 'n': 65536, 'nproc': 1, 'outfile': 'output.txt'}</td>\n",
       "    </tr>\n",
       "    <tr>\n",
       "      <th>12</th>\n",
       "      <td>13</td>\n",
       "      <td>StreamclusterProfiler (EnergyMonitor MinMax)</td>\n",
       "      <td>{'chunksize': 65536, 'clustersize': 1000, 'd': 256, 'infile': 'none', 'iterations': 10, 'k1': 10, 'k2': 20, 'n': 65536, 'nproc': 1, 'outfile': 'output.txt'}</td>\n",
       "    </tr>\n",
       "    <tr>\n",
       "      <th>13</th>\n",
       "      <td>14</td>\n",
       "      <td>StreamclusterProfiler (EnergyMonitor System)</td>\n",
       "      <td>{'chunksize': 65536, 'clustersize': 1000, 'd': 256, 'infile': 'none', 'iterations': 10, 'k1': 10, 'k2': 20, 'n': 65536, 'nproc': 1, 'outfile': 'output.txt'}</td>\n",
       "    </tr>\n",
       "    <tr>\n",
       "      <th>14</th>\n",
       "      <td>15</td>\n",
       "      <td>StreamclusterProfiler</td>\n",
       "      <td>{'chunksize': 65536, 'clustersize': 1000, 'd': 256, 'infile': 'none', 'iterations': 10, 'k1': 10, 'k2': 20, 'n': 65536, 'nproc': 1, 'outfile': 'output.txt'}</td>\n",
       "    </tr>\n",
       "    <tr>\n",
       "      <th>15</th>\n",
       "      <td>16</td>\n",
       "      <td>StreamclusterProfiler (EnergyMonitor MinMax)</td>\n",
       "      <td>{'chunksize': 65536, 'clustersize': 1000, 'd': 256, 'infile': 'none', 'iterations': 10, 'k1': 10, 'k2': 20, 'n': 65536, 'nproc': 1, 'outfile': 'output.txt'}</td>\n",
       "    </tr>\n",
       "    <tr>\n",
       "      <th>16</th>\n",
       "      <td>17</td>\n",
       "      <td>StreamclusterProfiler (EnergyMonitor System)</td>\n",
       "      <td>{'chunksize': 65536, 'clustersize': 1000, 'd': 256, 'infile': 'none', 'iterations': 10, 'k1': 10, 'k2': 20, 'n': 65536, 'nproc': 1, 'outfile': 'output.txt'}</td>\n",
       "    </tr>\n",
       "    <tr>\n",
       "      <th>17</th>\n",
       "      <td>18</td>\n",
       "      <td>BFSProfiler</td>\n",
       "      <td>{'core': 0, 'file': '/applications/rodinia/data/bfs/graph1MW_6.txt', 'gpu': 0, 'iterations': 50}</td>\n",
       "    </tr>\n",
       "    <tr>\n",
       "      <th>18</th>\n",
       "      <td>19</td>\n",
       "      <td>BFSProfiler (EnergyMonitor MinMax)</td>\n",
       "      <td>{'core': 0, 'file': '/applications/rodinia/data/bfs/graph1MW_6.txt', 'gpu': 0, 'iterations': 50}</td>\n",
       "    </tr>\n",
       "    <tr>\n",
       "      <th>19</th>\n",
       "      <td>20</td>\n",
       "      <td>BFSProfiler (EnergyMonitor System)</td>\n",
       "      <td>{'core': 0, 'file': '/applications/rodinia/data/bfs/graph1MW_6.txt', 'gpu': 0, 'iterations': 50}</td>\n",
       "    </tr>\n",
       "    <tr>\n",
       "      <th>20</th>\n",
       "      <td>21</td>\n",
       "      <td>MyocyteProfiler</td>\n",
       "      <td>{'iterations': 75, 'method': 0, 'n': 1, 'time': 100}</td>\n",
       "    </tr>\n",
       "    <tr>\n",
       "      <th>21</th>\n",
       "      <td>22</td>\n",
       "      <td>MyocyteProfiler (EnergyMonitor MinMax)</td>\n",
       "      <td>{'iterations': 75, 'method': 0, 'n': 1, 'time': 100}</td>\n",
       "    </tr>\n",
       "    <tr>\n",
       "      <th>22</th>\n",
       "      <td>23</td>\n",
       "      <td>MyocyteProfiler (EnergyMonitor System)</td>\n",
       "      <td>{'iterations': 75, 'method': 0, 'n': 1, 'time': 100}</td>\n",
       "    </tr>\n",
       "    <tr>\n",
       "      <th>23</th>\n",
       "      <td>24</td>\n",
       "      <td>MyocyteProfiler</td>\n",
       "      <td>{'iterations': 75, 'method': 0, 'n': 1, 'time': 100}</td>\n",
       "    </tr>\n",
       "    <tr>\n",
       "      <th>24</th>\n",
       "      <td>25</td>\n",
       "      <td>MyocyteProfiler (EnergyMonitor MinMax)</td>\n",
       "      <td>{'iterations': 75, 'method': 0, 'n': 1, 'time': 100}</td>\n",
       "    </tr>\n",
       "    <tr>\n",
       "      <th>25</th>\n",
       "      <td>26</td>\n",
       "      <td>MyocyteProfiler (EnergyMonitor System)</td>\n",
       "      <td>{'iterations': 75, 'method': 0, 'n': 1, 'time': 100}</td>\n",
       "    </tr>\n",
       "    <tr>\n",
       "      <th>26</th>\n",
       "      <td>27</td>\n",
       "      <td>MyocyteProfiler</td>\n",
       "      <td>{'iterations': 75, 'method': 0, 'n': 1, 'time': 100}</td>\n",
       "    </tr>\n",
       "    <tr>\n",
       "      <th>27</th>\n",
       "      <td>28</td>\n",
       "      <td>MyocyteProfiler (EnergyMonitor MinMax)</td>\n",
       "      <td>{'iterations': 75, 'method': 0, 'n': 1, 'time': 100}</td>\n",
       "    </tr>\n",
       "    <tr>\n",
       "      <th>28</th>\n",
       "      <td>29</td>\n",
       "      <td>MyocyteProfiler (EnergyMonitor System)</td>\n",
       "      <td>{'iterations': 75, 'method': 0, 'n': 1, 'time': 100}</td>\n",
       "    </tr>\n",
       "    <tr>\n",
       "      <th>29</th>\n",
       "      <td>30</td>\n",
       "      <td>MyocyteProfiler</td>\n",
       "      <td>{'iterations': 75, 'method': 0, 'n': 1, 'time': 100}</td>\n",
       "    </tr>\n",
       "    <tr>\n",
       "      <th>30</th>\n",
       "      <td>31</td>\n",
       "      <td>MyocyteProfiler (EnergyMonitor MinMax)</td>\n",
       "      <td>{'iterations': 75, 'method': 0, 'n': 1, 'time': 100}</td>\n",
       "    </tr>\n",
       "    <tr>\n",
       "      <th>31</th>\n",
       "      <td>32</td>\n",
       "      <td>MyocyteProfiler (EnergyMonitor System)</td>\n",
       "      <td>{'iterations': 75, 'method': 0, 'n': 1, 'time': 100}</td>\n",
       "    </tr>\n",
       "    <tr>\n",
       "      <th>32</th>\n",
       "      <td>33</td>\n",
       "      <td>MyocyteProfiler</td>\n",
       "      <td>{'iterations': 75, 'method': 0, 'n': 1, 'time': 100}</td>\n",
       "    </tr>\n",
       "    <tr>\n",
       "      <th>33</th>\n",
       "      <td>34</td>\n",
       "      <td>MyocyteProfiler (EnergyMonitor MinMax)</td>\n",
       "      <td>{'iterations': 75, 'method': 0, 'n': 1, 'time': 100}</td>\n",
       "    </tr>\n",
       "    <tr>\n",
       "      <th>34</th>\n",
       "      <td>35</td>\n",
       "      <td>MyocyteProfiler (EnergyMonitor System)</td>\n",
       "      <td>{'iterations': 75, 'method': 0, 'n': 1, 'time': 100}</td>\n",
       "    </tr>\n",
       "    <tr>\n",
       "      <th>35</th>\n",
       "      <td>36</td>\n",
       "      <td>LavaMDProfiler</td>\n",
       "      <td>{'boxes1d': 10, 'iterations': 150}</td>\n",
       "    </tr>\n",
       "    <tr>\n",
       "      <th>36</th>\n",
       "      <td>37</td>\n",
       "      <td>LavaMDProfiler (EnergyMonitor MinMax)</td>\n",
       "      <td>{'boxes1d': 10, 'iterations': 150}</td>\n",
       "    </tr>\n",
       "    <tr>\n",
       "      <th>37</th>\n",
       "      <td>38</td>\n",
       "      <td>LavaMDProfiler (EnergyMonitor System)</td>\n",
       "      <td>{'boxes1d': 10, 'iterations': 150}</td>\n",
       "    </tr>\n",
       "    <tr>\n",
       "      <th>38</th>\n",
       "      <td>39</td>\n",
       "      <td>LavaMDProfiler</td>\n",
       "      <td>{'boxes1d': 10, 'iterations': 150}</td>\n",
       "    </tr>\n",
       "    <tr>\n",
       "      <th>39</th>\n",
       "      <td>40</td>\n",
       "      <td>LavaMDProfiler (EnergyMonitor MinMax)</td>\n",
       "      <td>{'boxes1d': 10, 'iterations': 150}</td>\n",
       "    </tr>\n",
       "    <tr>\n",
       "      <th>40</th>\n",
       "      <td>41</td>\n",
       "      <td>LavaMDProfiler (EnergyMonitor System)</td>\n",
       "      <td>{'boxes1d': 10, 'iterations': 150}</td>\n",
       "    </tr>\n",
       "    <tr>\n",
       "      <th>41</th>\n",
       "      <td>42</td>\n",
       "      <td>SRAD_V1Profiler</td>\n",
       "      <td>{'coefficient': 0.5, 'columns': 458, 'iterations': 100, 'rows': 502}</td>\n",
       "    </tr>\n",
       "    <tr>\n",
       "      <th>42</th>\n",
       "      <td>43</td>\n",
       "      <td>SRAD_V1Profiler (EnergyMonitor MinMax)</td>\n",
       "      <td>{'coefficient': 0.5, 'columns': 458, 'iterations': 100, 'rows': 502}</td>\n",
       "    </tr>\n",
       "    <tr>\n",
       "      <th>43</th>\n",
       "      <td>44</td>\n",
       "      <td>SRAD_V1Profiler (EnergyMonitor System)</td>\n",
       "      <td>{'coefficient': 0.5, 'columns': 458, 'iterations': 100, 'rows': 502}</td>\n",
       "    </tr>\n",
       "    <tr>\n",
       "      <th>44</th>\n",
       "      <td>45</td>\n",
       "      <td>SRAD_V1Profiler</td>\n",
       "      <td>{'coefficient': 0.5, 'columns': 458, 'iterations': 100, 'rows': 502}</td>\n",
       "    </tr>\n",
       "    <tr>\n",
       "      <th>45</th>\n",
       "      <td>46</td>\n",
       "      <td>SRAD_V1Profiler (EnergyMonitor MinMax)</td>\n",
       "      <td>{'coefficient': 0.5, 'columns': 458, 'iterations': 100, 'rows': 502}</td>\n",
       "    </tr>\n",
       "    <tr>\n",
       "      <th>46</th>\n",
       "      <td>47</td>\n",
       "      <td>SRAD_V1Profiler (EnergyMonitor System)</td>\n",
       "      <td>{'coefficient': 0.5, 'columns': 458, 'iterations': 100, 'rows': 502}</td>\n",
       "    </tr>\n",
       "    <tr>\n",
       "      <th>47</th>\n",
       "      <td>48</td>\n",
       "      <td>SRAD_V1Profiler</td>\n",
       "      <td>{'coefficient': 0.5, 'columns': 458, 'iterations': 100, 'rows': 502}</td>\n",
       "    </tr>\n",
       "    <tr>\n",
       "      <th>48</th>\n",
       "      <td>49</td>\n",
       "      <td>SRAD_V1Profiler (EnergyMonitor MinMax)</td>\n",
       "      <td>{'coefficient': 0.5, 'columns': 458, 'iterations': 100, 'rows': 502}</td>\n",
       "    </tr>\n",
       "    <tr>\n",
       "      <th>49</th>\n",
       "      <td>50</td>\n",
       "      <td>SRAD_V1Profiler (EnergyMonitor System)</td>\n",
       "      <td>{'coefficient': 0.5, 'columns': 458, 'iterations': 100, 'rows': 502}</td>\n",
       "    </tr>\n",
       "    <tr>\n",
       "      <th>50</th>\n",
       "      <td>51</td>\n",
       "      <td>SRAD_V1Profiler</td>\n",
       "      <td>{'coefficient': 0.5, 'columns': 458, 'iterations': 100, 'rows': 502}</td>\n",
       "    </tr>\n",
       "    <tr>\n",
       "      <th>51</th>\n",
       "      <td>52</td>\n",
       "      <td>SRAD_V1Profiler (EnergyMonitor MinMax)</td>\n",
       "      <td>{'coefficient': 0.5, 'columns': 458, 'iterations': 100, 'rows': 502}</td>\n",
       "    </tr>\n",
       "    <tr>\n",
       "      <th>52</th>\n",
       "      <td>53</td>\n",
       "      <td>SRAD_V1Profiler (EnergyMonitor System)</td>\n",
       "      <td>{'coefficient': 0.5, 'columns': 458, 'iterations': 100, 'rows': 502}</td>\n",
       "    </tr>\n",
       "    <tr>\n",
       "      <th>53</th>\n",
       "      <td>54</td>\n",
       "      <td>SRAD_V1Profiler</td>\n",
       "      <td>{'coefficient': 0.5, 'columns': 458, 'iterations': 100, 'rows': 502}</td>\n",
       "    </tr>\n",
       "    <tr>\n",
       "      <th>54</th>\n",
       "      <td>55</td>\n",
       "      <td>SRAD_V1Profiler (EnergyMonitor MinMax)</td>\n",
       "      <td>{'coefficient': 0.5, 'columns': 458, 'iterations': 100, 'rows': 502}</td>\n",
       "    </tr>\n",
       "    <tr>\n",
       "      <th>55</th>\n",
       "      <td>56</td>\n",
       "      <td>SRAD_V1Profiler (EnergyMonitor System)</td>\n",
       "      <td>{'coefficient': 0.5, 'columns': 458, 'iterations': 100, 'rows': 502}</td>\n",
       "    </tr>\n",
       "    <tr>\n",
       "      <th>56</th>\n",
       "      <td>57</td>\n",
       "      <td>NWProfiler</td>\n",
       "      <td>{'iterations': 400, 'length': 2048, 'penalty': 10}</td>\n",
       "    </tr>\n",
       "    <tr>\n",
       "      <th>57</th>\n",
       "      <td>58</td>\n",
       "      <td>NWProfiler (EnergyMonitor MinMax)</td>\n",
       "      <td>{'iterations': 400, 'length': 2048, 'penalty': 10}</td>\n",
       "    </tr>\n",
       "    <tr>\n",
       "      <th>58</th>\n",
       "      <td>59</td>\n",
       "      <td>NWProfiler (EnergyMonitor System)</td>\n",
       "      <td>{'iterations': 400, 'length': 2048, 'penalty': 10}</td>\n",
       "    </tr>\n",
       "    <tr>\n",
       "      <th>59</th>\n",
       "      <td>60</td>\n",
       "      <td>NWProfiler</td>\n",
       "      <td>{'iterations': 400, 'length': 2048, 'penalty': 10}</td>\n",
       "    </tr>\n",
       "    <tr>\n",
       "      <th>60</th>\n",
       "      <td>61</td>\n",
       "      <td>NWProfiler (EnergyMonitor MinMax)</td>\n",
       "      <td>{'iterations': 400, 'length': 2048, 'penalty': 10}</td>\n",
       "    </tr>\n",
       "    <tr>\n",
       "      <th>61</th>\n",
       "      <td>62</td>\n",
       "      <td>NWProfiler (EnergyMonitor System)</td>\n",
       "      <td>{'iterations': 400, 'length': 2048, 'penalty': 10}</td>\n",
       "    </tr>\n",
       "    <tr>\n",
       "      <th>62</th>\n",
       "      <td>63</td>\n",
       "      <td>Particlefilter_floatProfiler</td>\n",
       "      <td>{'iterations': 500, 'np': 1000, 'x': 128, 'y': 128, 'z': 10}</td>\n",
       "    </tr>\n",
       "    <tr>\n",
       "      <th>63</th>\n",
       "      <td>64</td>\n",
       "      <td>Particlefilter_floatProfiler (EnergyMonitor MinMax)</td>\n",
       "      <td>{'iterations': 500, 'np': 1000, 'x': 128, 'y': 128, 'z': 10}</td>\n",
       "    </tr>\n",
       "    <tr>\n",
       "      <th>64</th>\n",
       "      <td>65</td>\n",
       "      <td>Particlefilter_floatProfiler (EnergyMonitor System)</td>\n",
       "      <td>{'iterations': 500, 'np': 1000, 'x': 128, 'y': 128, 'z': 10}</td>\n",
       "    </tr>\n",
       "    <tr>\n",
       "      <th>65</th>\n",
       "      <td>66</td>\n",
       "      <td>Particlefilter_floatProfiler</td>\n",
       "      <td>{'iterations': 500, 'np': 1000, 'x': 128, 'y': 128, 'z': 10}</td>\n",
       "    </tr>\n",
       "    <tr>\n",
       "      <th>66</th>\n",
       "      <td>67</td>\n",
       "      <td>Particlefilter_floatProfiler (EnergyMonitor MinMax)</td>\n",
       "      <td>{'iterations': 500, 'np': 1000, 'x': 128, 'y': 128, 'z': 10}</td>\n",
       "    </tr>\n",
       "    <tr>\n",
       "      <th>67</th>\n",
       "      <td>68</td>\n",
       "      <td>Particlefilter_floatProfiler (EnergyMonitor System)</td>\n",
       "      <td>{'iterations': 500, 'np': 1000, 'x': 128, 'y': 128, 'z': 10}</td>\n",
       "    </tr>\n",
       "    <tr>\n",
       "      <th>68</th>\n",
       "      <td>69</td>\n",
       "      <td>Particlefilter_floatProfiler</td>\n",
       "      <td>{'iterations': 500, 'np': 1000, 'x': 128, 'y': 128, 'z': 10}</td>\n",
       "    </tr>\n",
       "    <tr>\n",
       "      <th>69</th>\n",
       "      <td>70</td>\n",
       "      <td>Particlefilter_floatProfiler (EnergyMonitor MinMax)</td>\n",
       "      <td>{'iterations': 500, 'np': 1000, 'x': 128, 'y': 128, 'z': 10}</td>\n",
       "    </tr>\n",
       "    <tr>\n",
       "      <th>70</th>\n",
       "      <td>71</td>\n",
       "      <td>Particlefilter_floatProfiler (EnergyMonitor System)</td>\n",
       "      <td>{'iterations': 500, 'np': 1000, 'x': 128, 'y': 128, 'z': 10}</td>\n",
       "    </tr>\n",
       "    <tr>\n",
       "      <th>71</th>\n",
       "      <td>72</td>\n",
       "      <td>Particlefilter_floatProfiler</td>\n",
       "      <td>{'iterations': 500, 'np': 1000, 'x': 128, 'y': 128, 'z': 10}</td>\n",
       "    </tr>\n",
       "    <tr>\n",
       "      <th>72</th>\n",
       "      <td>73</td>\n",
       "      <td>Particlefilter_floatProfiler (EnergyMonitor MinMax)</td>\n",
       "      <td>{'iterations': 500, 'np': 1000, 'x': 128, 'y': 128, 'z': 10}</td>\n",
       "    </tr>\n",
       "    <tr>\n",
       "      <th>73</th>\n",
       "      <td>74</td>\n",
       "      <td>Particlefilter_floatProfiler (EnergyMonitor System)</td>\n",
       "      <td>{'iterations': 500, 'np': 1000, 'x': 128, 'y': 128, 'z': 10}</td>\n",
       "    </tr>\n",
       "    <tr>\n",
       "      <th>74</th>\n",
       "      <td>75</td>\n",
       "      <td>KMeans</td>\n",
       "      <td>{'core': 0, 'file': '/applications/rodinia/data/kmeans/kdd_cup', 'gpu': 0, 'iterations': 75}</td>\n",
       "    </tr>\n",
       "    <tr>\n",
       "      <th>75</th>\n",
       "      <td>76</td>\n",
       "      <td>KMeans (EnergyMonitor MinMax)</td>\n",
       "      <td>{'core': 0, 'file': '/applications/rodinia/data/kmeans/kdd_cup', 'gpu': 0, 'iterations': 75}</td>\n",
       "    </tr>\n",
       "    <tr>\n",
       "      <th>76</th>\n",
       "      <td>77</td>\n",
       "      <td>KMeans (EnergyMonitor System)</td>\n",
       "      <td>{'core': 0, 'file': '/applications/rodinia/data/kmeans/kdd_cup', 'gpu': 0, 'iterations': 75}</td>\n",
       "    </tr>\n",
       "    <tr>\n",
       "      <th>77</th>\n",
       "      <td>78</td>\n",
       "      <td>KMeans</td>\n",
       "      <td>{'core': 0, 'file': '/applications/rodinia/data/kmeans/kdd_cup', 'gpu': 0, 'iterations': 75}</td>\n",
       "    </tr>\n",
       "    <tr>\n",
       "      <th>78</th>\n",
       "      <td>79</td>\n",
       "      <td>KMeans (EnergyMonitor MinMax)</td>\n",
       "      <td>{'core': 0, 'file': '/applications/rodinia/data/kmeans/kdd_cup', 'gpu': 0, 'iterations': 75}</td>\n",
       "    </tr>\n",
       "    <tr>\n",
       "      <th>79</th>\n",
       "      <td>80</td>\n",
       "      <td>KMeans (EnergyMonitor System)</td>\n",
       "      <td>{'core': 0, 'file': '/applications/rodinia/data/kmeans/kdd_cup', 'gpu': 0, 'iterations': 75}</td>\n",
       "    </tr>\n",
       "    <tr>\n",
       "      <th>80</th>\n",
       "      <td>81</td>\n",
       "      <td>KMeans</td>\n",
       "      <td>{'core': 0, 'file': '/applications/rodinia/data/kmeans/kdd_cup', 'gpu': 0, 'iterations': 75}</td>\n",
       "    </tr>\n",
       "    <tr>\n",
       "      <th>81</th>\n",
       "      <td>82</td>\n",
       "      <td>KMeans (EnergyMonitor MinMax)</td>\n",
       "      <td>{'core': 0, 'file': '/applications/rodinia/data/kmeans/kdd_cup', 'gpu': 0, 'iterations': 75}</td>\n",
       "    </tr>\n",
       "    <tr>\n",
       "      <th>82</th>\n",
       "      <td>83</td>\n",
       "      <td>KMeans (EnergyMonitor System)</td>\n",
       "      <td>{'core': 0, 'file': '/applications/rodinia/data/kmeans/kdd_cup', 'gpu': 0, 'iterations': 75}</td>\n",
       "    </tr>\n",
       "    <tr>\n",
       "      <th>83</th>\n",
       "      <td>84</td>\n",
       "      <td>KMeans</td>\n",
       "      <td>{'core': 0, 'file': '/applications/rodinia/data/kmeans/kdd_cup', 'gpu': 0, 'iterations': 75}</td>\n",
       "    </tr>\n",
       "    <tr>\n",
       "      <th>84</th>\n",
       "      <td>85</td>\n",
       "      <td>KMeans (EnergyMonitor MinMax)</td>\n",
       "      <td>{'core': 0, 'file': '/applications/rodinia/data/kmeans/kdd_cup', 'gpu': 0, 'iterations': 75}</td>\n",
       "    </tr>\n",
       "    <tr>\n",
       "      <th>85</th>\n",
       "      <td>86</td>\n",
       "      <td>KMeans (EnergyMonitor System)</td>\n",
       "      <td>{'core': 0, 'file': '/applications/rodinia/data/kmeans/kdd_cup', 'gpu': 0, 'iterations': 75}</td>\n",
       "    </tr>\n",
       "    <tr>\n",
       "      <th>86</th>\n",
       "      <td>87</td>\n",
       "      <td>KMeans</td>\n",
       "      <td>{'core': 0, 'file': '/applications/rodinia/data/kmeans/kdd_cup', 'gpu': 0, 'iterations': 75}</td>\n",
       "    </tr>\n",
       "    <tr>\n",
       "      <th>87</th>\n",
       "      <td>88</td>\n",
       "      <td>KMeans (EnergyMonitor MinMax)</td>\n",
       "      <td>{'core': 0, 'file': '/applications/rodinia/data/kmeans/kdd_cup', 'gpu': 0, 'iterations': 75}</td>\n",
       "    </tr>\n",
       "    <tr>\n",
       "      <th>88</th>\n",
       "      <td>89</td>\n",
       "      <td>KMeans (EnergyMonitor System)</td>\n",
       "      <td>{'core': 0, 'file': '/applications/rodinia/data/kmeans/kdd_cup', 'gpu': 0, 'iterations': 75}</td>\n",
       "    </tr>\n",
       "    <tr>\n",
       "      <th>89</th>\n",
       "      <td>90</td>\n",
       "      <td>KMeans</td>\n",
       "      <td>{'core': 0, 'file': '/applications/rodinia/data/kmeans/kdd_cup', 'gpu': 0, 'iterations': 75}</td>\n",
       "    </tr>\n",
       "    <tr>\n",
       "      <th>90</th>\n",
       "      <td>91</td>\n",
       "      <td>KMeans (EnergyMonitor MinMax)</td>\n",
       "      <td>{'core': 0, 'file': '/applications/rodinia/data/kmeans/kdd_cup', 'gpu': 0, 'iterations': 75}</td>\n",
       "    </tr>\n",
       "    <tr>\n",
       "      <th>91</th>\n",
       "      <td>92</td>\n",
       "      <td>KMeans (EnergyMonitor System)</td>\n",
       "      <td>{'core': 0, 'file': '/applications/rodinia/data/kmeans/kdd_cup', 'gpu': 0, 'iterations': 75}</td>\n",
       "    </tr>\n",
       "    <tr>\n",
       "      <th>92</th>\n",
       "      <td>93</td>\n",
       "      <td>BandwidthProfiler</td>\n",
       "      <td>{'iterations': 50}</td>\n",
       "    </tr>\n",
       "    <tr>\n",
       "      <th>93</th>\n",
       "      <td>94</td>\n",
       "      <td>BandwidthProfiler (EnergyMonitor MinMax)</td>\n",
       "      <td>{'iterations': 50}</td>\n",
       "    </tr>\n",
       "    <tr>\n",
       "      <th>94</th>\n",
       "      <td>95</td>\n",
       "      <td>BandwidthProfiler (EnergyMonitor System)</td>\n",
       "      <td>{'iterations': 50}</td>\n",
       "    </tr>\n",
       "    <tr>\n",
       "      <th>95</th>\n",
       "      <td>96</td>\n",
       "      <td>BandwidthProfiler</td>\n",
       "      <td>{'iterations': 50}</td>\n",
       "    </tr>\n",
       "    <tr>\n",
       "      <th>96</th>\n",
       "      <td>97</td>\n",
       "      <td>BandwidthProfiler (EnergyMonitor MinMax)</td>\n",
       "      <td>{'iterations': 50}</td>\n",
       "    </tr>\n",
       "    <tr>\n",
       "      <th>97</th>\n",
       "      <td>98</td>\n",
       "      <td>BandwidthProfiler (EnergyMonitor System)</td>\n",
       "      <td>{'iterations': 50}</td>\n",
       "    </tr>\n",
       "    <tr>\n",
       "      <th>98</th>\n",
       "      <td>99</td>\n",
       "      <td>BandwidthProfiler</td>\n",
       "      <td>{'iterations': 50}</td>\n",
       "    </tr>\n",
       "    <tr>\n",
       "      <th>99</th>\n",
       "      <td>100</td>\n",
       "      <td>BandwidthProfiler (EnergyMonitor MinMax)</td>\n",
       "      <td>{'iterations': 50}</td>\n",
       "    </tr>\n",
       "    <tr>\n",
       "      <th>100</th>\n",
       "      <td>101</td>\n",
       "      <td>BandwidthProfiler (EnergyMonitor System)</td>\n",
       "      <td>{'iterations': 50}</td>\n",
       "    </tr>\n",
       "    <tr>\n",
       "      <th>101</th>\n",
       "      <td>102</td>\n",
       "      <td>BandwidthProfiler</td>\n",
       "      <td>{'iterations': 50}</td>\n",
       "    </tr>\n",
       "    <tr>\n",
       "      <th>102</th>\n",
       "      <td>103</td>\n",
       "      <td>BandwidthProfiler (EnergyMonitor MinMax)</td>\n",
       "      <td>{'iterations': 50}</td>\n",
       "    </tr>\n",
       "    <tr>\n",
       "      <th>103</th>\n",
       "      <td>104</td>\n",
       "      <td>BandwidthProfiler (EnergyMonitor System)</td>\n",
       "      <td>{'iterations': 50}</td>\n",
       "    </tr>\n",
       "    <tr>\n",
       "      <th>104</th>\n",
       "      <td>105</td>\n",
       "      <td>BandwidthProfiler</td>\n",
       "      <td>{'iterations': 50}</td>\n",
       "    </tr>\n",
       "    <tr>\n",
       "      <th>105</th>\n",
       "      <td>106</td>\n",
       "      <td>BandwidthProfiler (EnergyMonitor MinMax)</td>\n",
       "      <td>{'iterations': 50}</td>\n",
       "    </tr>\n",
       "    <tr>\n",
       "      <th>106</th>\n",
       "      <td>107</td>\n",
       "      <td>BandwidthProfiler (EnergyMonitor System)</td>\n",
       "      <td>{'iterations': 50}</td>\n",
       "    </tr>\n",
       "    <tr>\n",
       "      <th>107</th>\n",
       "      <td>108</td>\n",
       "      <td>BandwidthProfiler</td>\n",
       "      <td>{'iterations': 50}</td>\n",
       "    </tr>\n",
       "    <tr>\n",
       "      <th>108</th>\n",
       "      <td>109</td>\n",
       "      <td>BandwidthProfiler (EnergyMonitor MinMax)</td>\n",
       "      <td>{'iterations': 50}</td>\n",
       "    </tr>\n",
       "    <tr>\n",
       "      <th>109</th>\n",
       "      <td>110</td>\n",
       "      <td>BandwidthProfiler (EnergyMonitor System)</td>\n",
       "      <td>{'iterations': 50}</td>\n",
       "    </tr>\n",
       "    <tr>\n",
       "      <th>110</th>\n",
       "      <td>111</td>\n",
       "      <td>UnifiedMemoryPerfProfiler</td>\n",
       "      <td>{'iterations': 3}</td>\n",
       "    </tr>\n",
       "    <tr>\n",
       "      <th>111</th>\n",
       "      <td>112</td>\n",
       "      <td>UnifiedMemoryPerfProfiler (EnergyMonitor MinMax)</td>\n",
       "      <td>{'iterations': 3}</td>\n",
       "    </tr>\n",
       "    <tr>\n",
       "      <th>112</th>\n",
       "      <td>113</td>\n",
       "      <td>UnifiedMemoryPerfProfiler (EnergyMonitor System)</td>\n",
       "      <td>{'iterations': 3}</td>\n",
       "    </tr>\n",
       "    <tr>\n",
       "      <th>113</th>\n",
       "      <td>114</td>\n",
       "      <td>UnifiedMemoryPerfProfiler</td>\n",
       "      <td>{'iterations': 3}</td>\n",
       "    </tr>\n",
       "    <tr>\n",
       "      <th>114</th>\n",
       "      <td>115</td>\n",
       "      <td>UnifiedMemoryPerfProfiler (EnergyMonitor MinMax)</td>\n",
       "      <td>{'iterations': 3}</td>\n",
       "    </tr>\n",
       "    <tr>\n",
       "      <th>115</th>\n",
       "      <td>116</td>\n",
       "      <td>UnifiedMemoryPerfProfiler (EnergyMonitor System)</td>\n",
       "      <td>{'iterations': 3}</td>\n",
       "    </tr>\n",
       "    <tr>\n",
       "      <th>116</th>\n",
       "      <td>117</td>\n",
       "      <td>UnifiedMemoryPerfProfiler</td>\n",
       "      <td>{'iterations': 3}</td>\n",
       "    </tr>\n",
       "    <tr>\n",
       "      <th>117</th>\n",
       "      <td>118</td>\n",
       "      <td>UnifiedMemoryPerfProfiler (EnergyMonitor MinMax)</td>\n",
       "      <td>{'iterations': 3}</td>\n",
       "    </tr>\n",
       "    <tr>\n",
       "      <th>118</th>\n",
       "      <td>119</td>\n",
       "      <td>UnifiedMemoryPerfProfiler (EnergyMonitor System)</td>\n",
       "      <td>{'iterations': 3}</td>\n",
       "    </tr>\n",
       "    <tr>\n",
       "      <th>119</th>\n",
       "      <td>120</td>\n",
       "      <td>UnifiedMemoryPerfProfiler</td>\n",
       "      <td>{'iterations': 3}</td>\n",
       "    </tr>\n",
       "    <tr>\n",
       "      <th>120</th>\n",
       "      <td>121</td>\n",
       "      <td>UnifiedMemoryPerfProfiler</td>\n",
       "      <td>{'iterations': 3}</td>\n",
       "    </tr>\n",
       "    <tr>\n",
       "      <th>121</th>\n",
       "      <td>122</td>\n",
       "      <td>UnifiedMemoryPerfProfiler (EnergyMonitor MinMax)</td>\n",
       "      <td>{'iterations': 3}</td>\n",
       "    </tr>\n",
       "    <tr>\n",
       "      <th>122</th>\n",
       "      <td>123</td>\n",
       "      <td>UnifiedMemoryPerfProfiler (EnergyMonitor System)</td>\n",
       "      <td>{'iterations': 3}</td>\n",
       "    </tr>\n",
       "    <tr>\n",
       "      <th>123</th>\n",
       "      <td>124</td>\n",
       "      <td>Matrix Multiply</td>\n",
       "      <td>{'core': 0, 'gpu': 0, 'iterations': 10, 'matrixAHeight': 1536, 'matrixAWidth': 1536, 'matrixBHeight': 1536, 'matrixBWidth': 1536}</td>\n",
       "    </tr>\n",
       "    <tr>\n",
       "      <th>124</th>\n",
       "      <td>125</td>\n",
       "      <td>Matrix Multiply (EnergyMonitor MinMax)</td>\n",
       "      <td>{'core': 0, 'gpu': 0, 'iterations': 10, 'matrixAHeight': 1536, 'matrixAWidth': 1536, 'matrixBHeight': 1536, 'matrixBWidth': 1536}</td>\n",
       "    </tr>\n",
       "    <tr>\n",
       "      <th>125</th>\n",
       "      <td>126</td>\n",
       "      <td>Matrix Multiply (EnergyMonitor System)</td>\n",
       "      <td>{'core': 0, 'gpu': 0, 'iterations': 10, 'matrixAHeight': 1536, 'matrixAWidth': 1536, 'matrixBHeight': 1536, 'matrixBWidth': 1536}</td>\n",
       "    </tr>\n",
       "    <tr>\n",
       "      <th>126</th>\n",
       "      <td>127</td>\n",
       "      <td>Matrix Multiply</td>\n",
       "      <td>{'core': 0, 'gpu': 0, 'iterations': 10, 'matrixAHeight': 1536, 'matrixAWidth': 1536, 'matrixBHeight': 1536, 'matrixBWidth': 1536}</td>\n",
       "    </tr>\n",
       "    <tr>\n",
       "      <th>127</th>\n",
       "      <td>128</td>\n",
       "      <td>Matrix Multiply (EnergyMonitor MinMax)</td>\n",
       "      <td>{'core': 0, 'gpu': 0, 'iterations': 10, 'matrixAHeight': 1536, 'matrixAWidth': 1536, 'matrixBHeight': 1536, 'matrixBWidth': 1536}</td>\n",
       "    </tr>\n",
       "    <tr>\n",
       "      <th>128</th>\n",
       "      <td>129</td>\n",
       "      <td>Matrix Multiply (EnergyMonitor System)</td>\n",
       "      <td>{'core': 0, 'gpu': 0, 'iterations': 10, 'matrixAHeight': 1536, 'matrixAWidth': 1536, 'matrixBHeight': 1536, 'matrixBWidth': 1536}</td>\n",
       "    </tr>\n",
       "    <tr>\n",
       "      <th>129</th>\n",
       "      <td>130</td>\n",
       "      <td>Matrix Multiply</td>\n",
       "      <td>{'core': 0, 'gpu': 0, 'iterations': 10, 'matrixAHeight': 1536, 'matrixAWidth': 1536, 'matrixBHeight': 1536, 'matrixBWidth': 1536}</td>\n",
       "    </tr>\n",
       "    <tr>\n",
       "      <th>130</th>\n",
       "      <td>131</td>\n",
       "      <td>Matrix Multiply (EnergyMonitor MinMax)</td>\n",
       "      <td>{'core': 0, 'gpu': 0, 'iterations': 10, 'matrixAHeight': 1536, 'matrixAWidth': 1536, 'matrixBHeight': 1536, 'matrixBWidth': 1536}</td>\n",
       "    </tr>\n",
       "    <tr>\n",
       "      <th>131</th>\n",
       "      <td>132</td>\n",
       "      <td>Matrix Multiply (EnergyMonitor System)</td>\n",
       "      <td>{'core': 0, 'gpu': 0, 'iterations': 10, 'matrixAHeight': 1536, 'matrixAWidth': 1536, 'matrixBHeight': 1536, 'matrixBWidth': 1536}</td>\n",
       "    </tr>\n",
       "    <tr>\n",
       "      <th>132</th>\n",
       "      <td>133</td>\n",
       "      <td>Matrix Multiply</td>\n",
       "      <td>{'core': 0, 'gpu': 0, 'iterations': 10, 'matrixAHeight': 1536, 'matrixAWidth': 1536, 'matrixBHeight': 1536, 'matrixBWidth': 1536}</td>\n",
       "    </tr>\n",
       "    <tr>\n",
       "      <th>133</th>\n",
       "      <td>134</td>\n",
       "      <td>Matrix Multiply (EnergyMonitor MinMax)</td>\n",
       "      <td>{'core': 0, 'gpu': 0, 'iterations': 10, 'matrixAHeight': 1536, 'matrixAWidth': 1536, 'matrixBHeight': 1536, 'matrixBWidth': 1536}</td>\n",
       "    </tr>\n",
       "    <tr>\n",
       "      <th>134</th>\n",
       "      <td>135</td>\n",
       "      <td>Matrix Multiply (EnergyMonitor System)</td>\n",
       "      <td>{'core': 0, 'gpu': 0, 'iterations': 10, 'matrixAHeight': 1536, 'matrixAWidth': 1536, 'matrixBHeight': 1536, 'matrixBWidth': 1536}</td>\n",
       "    </tr>\n",
       "    <tr>\n",
       "      <th>135</th>\n",
       "      <td>136</td>\n",
       "      <td>Matrix Multiply</td>\n",
       "      <td>{'core': 0, 'gpu': 0, 'iterations': 10, 'matrixAHeight': 1536, 'matrixAWidth': 1536, 'matrixBHeight': 1536, 'matrixBWidth': 1536}</td>\n",
       "    </tr>\n",
       "    <tr>\n",
       "      <th>136</th>\n",
       "      <td>137</td>\n",
       "      <td>Matrix Multiply (EnergyMonitor MinMax)</td>\n",
       "      <td>{'core': 0, 'gpu': 0, 'iterations': 10, 'matrixAHeight': 1536, 'matrixAWidth': 1536, 'matrixBHeight': 1536, 'matrixBWidth': 1536}</td>\n",
       "    </tr>\n",
       "    <tr>\n",
       "      <th>137</th>\n",
       "      <td>138</td>\n",
       "      <td>Matrix Multiply (EnergyMonitor System)</td>\n",
       "      <td>{'core': 0, 'gpu': 0, 'iterations': 10, 'matrixAHeight': 1536, 'matrixAWidth': 1536, 'matrixBHeight': 1536, 'matrixBWidth': 1536}</td>\n",
       "    </tr>\n",
       "    <tr>\n",
       "      <th>138</th>\n",
       "      <td>139</td>\n",
       "      <td>Matrix Multiply</td>\n",
       "      <td>{'core': 0, 'gpu': 0, 'iterations': 10, 'matrixAHeight': 1536, 'matrixAWidth': 1536, 'matrixBHeight': 1536, 'matrixBWidth': 1536}</td>\n",
       "    </tr>\n",
       "    <tr>\n",
       "      <th>139</th>\n",
       "      <td>140</td>\n",
       "      <td>Matrix Multiply (EnergyMonitor MinMax)</td>\n",
       "      <td>{'core': 0, 'gpu': 0, 'iterations': 10, 'matrixAHeight': 1536, 'matrixAWidth': 1536, 'matrixBHeight': 1536, 'matrixBWidth': 1536}</td>\n",
       "    </tr>\n",
       "    <tr>\n",
       "      <th>140</th>\n",
       "      <td>141</td>\n",
       "      <td>Matrix Multiply (EnergyMonitor System)</td>\n",
       "      <td>{'core': 0, 'gpu': 0, 'iterations': 10, 'matrixAHeight': 1536, 'matrixAWidth': 1536, 'matrixBHeight': 1536, 'matrixBWidth': 1536}</td>\n",
       "    </tr>\n",
       "    <tr>\n",
       "      <th>141</th>\n",
       "      <td>142</td>\n",
       "      <td>JacobiNoMPIProfiler</td>\n",
       "      <td>{'Ni': 512, 'Nj': 512, 'file': '/applications/jacobi/small', 'iterations': 10000, 'kernel': 1}</td>\n",
       "    </tr>\n",
       "    <tr>\n",
       "      <th>142</th>\n",
       "      <td>143</td>\n",
       "      <td>JacobiNoMPIProfiler</td>\n",
       "      <td>{'Ni': 512, 'Nj': 512, 'file': '/applications/jacobi/small', 'iterations': 10000, 'kernel': 2}</td>\n",
       "    </tr>\n",
       "    <tr>\n",
       "      <th>143</th>\n",
       "      <td>144</td>\n",
       "      <td>JacobiNoMPIProfiler (EnergyMonitor MinMax)</td>\n",
       "      <td>{'Ni': 512, 'Nj': 512, 'file': '/applications/jacobi/small', 'iterations': 10000, 'kernel': 1}</td>\n",
       "    </tr>\n",
       "    <tr>\n",
       "      <th>144</th>\n",
       "      <td>145</td>\n",
       "      <td>JacobiNoMPIProfiler (EnergyMonitor MinMax)</td>\n",
       "      <td>{'Ni': 512, 'Nj': 512, 'file': '/applications/jacobi/small', 'iterations': 10000, 'kernel': 2}</td>\n",
       "    </tr>\n",
       "    <tr>\n",
       "      <th>145</th>\n",
       "      <td>146</td>\n",
       "      <td>JacobiNoMPIProfiler (EnergyMonitor System)</td>\n",
       "      <td>{'Ni': 512, 'Nj': 512, 'file': '/applications/jacobi/small', 'iterations': 10000, 'kernel': 1}</td>\n",
       "    </tr>\n",
       "    <tr>\n",
       "      <th>146</th>\n",
       "      <td>147</td>\n",
       "      <td>JacobiNoMPIProfiler (EnergyMonitor System)</td>\n",
       "      <td>{'Ni': 512, 'Nj': 512, 'file': '/applications/jacobi/small', 'iterations': 10000, 'kernel': 2}</td>\n",
       "    </tr>\n",
       "    <tr>\n",
       "      <th>147</th>\n",
       "      <td>148</td>\n",
       "      <td>BFSProfiler</td>\n",
       "      <td>{'core': 0, 'file': '/applications/rodinia/data/bfs/graph1MW_6.txt', 'gpu': 0, 'iterations': 50}</td>\n",
       "    </tr>\n",
       "    <tr>\n",
       "      <th>148</th>\n",
       "      <td>149</td>\n",
       "      <td>BFSProfiler (EnergyMonitor MinMax)</td>\n",
       "      <td>{'core': 0, 'file': '/applications/rodinia/data/bfs/graph1MW_6.txt', 'gpu': 0, 'iterations': 50}</td>\n",
       "    </tr>\n",
       "    <tr>\n",
       "      <th>149</th>\n",
       "      <td>150</td>\n",
       "      <td>BFSProfiler (EnergyMonitor System)</td>\n",
       "      <td>{'core': 0, 'file': '/applications/rodinia/data/bfs/graph1MW_6.txt', 'gpu': 0, 'iterations': 50}</td>\n",
       "    </tr>\n",
       "    <tr>\n",
       "      <th>150</th>\n",
       "      <td>151</td>\n",
       "      <td>BFSProfiler</td>\n",
       "      <td>{'core': 0, 'file': '/applications/rodinia/data/bfs/graph1MW_6.txt', 'gpu': 0, 'iterations': 50}</td>\n",
       "    </tr>\n",
       "    <tr>\n",
       "      <th>151</th>\n",
       "      <td>152</td>\n",
       "      <td>BFSProfiler (EnergyMonitor MinMax)</td>\n",
       "      <td>{'core': 0, 'file': '/applications/rodinia/data/bfs/graph1MW_6.txt', 'gpu': 0, 'iterations': 50}</td>\n",
       "    </tr>\n",
       "    <tr>\n",
       "      <th>152</th>\n",
       "      <td>153</td>\n",
       "      <td>BFSProfiler (EnergyMonitor System)</td>\n",
       "      <td>{'core': 0, 'file': '/applications/rodinia/data/bfs/graph1MW_6.txt', 'gpu': 0, 'iterations': 50}</td>\n",
       "    </tr>\n",
       "    <tr>\n",
       "      <th>153</th>\n",
       "      <td>154</td>\n",
       "      <td>BFSProfiler</td>\n",
       "      <td>{'core': 0, 'file': '/applications/rodinia/data/bfs/graph1MW_6.txt', 'gpu': 0, 'iterations': 50}</td>\n",
       "    </tr>\n",
       "    <tr>\n",
       "      <th>154</th>\n",
       "      <td>155</td>\n",
       "      <td>BFSProfiler (EnergyMonitor MinMax)</td>\n",
       "      <td>{'core': 0, 'file': '/applications/rodinia/data/bfs/graph1MW_6.txt', 'gpu': 0, 'iterations': 50}</td>\n",
       "    </tr>\n",
       "    <tr>\n",
       "      <th>155</th>\n",
       "      <td>156</td>\n",
       "      <td>BFSProfiler (EnergyMonitor System)</td>\n",
       "      <td>{'core': 0, 'file': '/applications/rodinia/data/bfs/graph1MW_6.txt', 'gpu': 0, 'iterations': 50}</td>\n",
       "    </tr>\n",
       "    <tr>\n",
       "      <th>156</th>\n",
       "      <td>157</td>\n",
       "      <td>BFSProfiler</td>\n",
       "      <td>{'core': 0, 'file': '/applications/rodinia/data/bfs/graph1MW_6.txt', 'gpu': 0, 'iterations': 50}</td>\n",
       "    </tr>\n",
       "    <tr>\n",
       "      <th>157</th>\n",
       "      <td>158</td>\n",
       "      <td>BFSProfiler (EnergyMonitor MinMax)</td>\n",
       "      <td>{'core': 0, 'file': '/applications/rodinia/data/bfs/graph1MW_6.txt', 'gpu': 0, 'iterations': 50}</td>\n",
       "    </tr>\n",
       "    <tr>\n",
       "      <th>158</th>\n",
       "      <td>159</td>\n",
       "      <td>BFSProfiler (EnergyMonitor System)</td>\n",
       "      <td>{'core': 0, 'file': '/applications/rodinia/data/bfs/graph1MW_6.txt', 'gpu': 0, 'iterations': 50}</td>\n",
       "    </tr>\n",
       "    <tr>\n",
       "      <th>159</th>\n",
       "      <td>160</td>\n",
       "      <td>LavaMDProfiler</td>\n",
       "      <td>{'boxes1d': 10, 'iterations': 150}</td>\n",
       "    </tr>\n",
       "    <tr>\n",
       "      <th>160</th>\n",
       "      <td>161</td>\n",
       "      <td>LavaMDProfiler (EnergyMonitor MinMax)</td>\n",
       "      <td>{'boxes1d': 10, 'iterations': 150}</td>\n",
       "    </tr>\n",
       "    <tr>\n",
       "      <th>161</th>\n",
       "      <td>162</td>\n",
       "      <td>LavaMDProfiler (EnergyMonitor System)</td>\n",
       "      <td>{'boxes1d': 10, 'iterations': 150}</td>\n",
       "    </tr>\n",
       "    <tr>\n",
       "      <th>162</th>\n",
       "      <td>163</td>\n",
       "      <td>NWProfiler</td>\n",
       "      <td>{'iterations': 400, 'length': 2048, 'penalty': 10}</td>\n",
       "    </tr>\n",
       "    <tr>\n",
       "      <th>163</th>\n",
       "      <td>164</td>\n",
       "      <td>NWProfiler (EnergyMonitor MinMax)</td>\n",
       "      <td>{'iterations': 400, 'length': 2048, 'penalty': 10}</td>\n",
       "    </tr>\n",
       "    <tr>\n",
       "      <th>164</th>\n",
       "      <td>165</td>\n",
       "      <td>NWProfiler (EnergyMonitor System)</td>\n",
       "      <td>{'iterations': 400, 'length': 2048, 'penalty': 10}</td>\n",
       "    </tr>\n",
       "    <tr>\n",
       "      <th>165</th>\n",
       "      <td>166</td>\n",
       "      <td>LavaMDProfiler</td>\n",
       "      <td>{'boxes1d': 10, 'iterations': 150}</td>\n",
       "    </tr>\n",
       "    <tr>\n",
       "      <th>166</th>\n",
       "      <td>167</td>\n",
       "      <td>LavaMDProfiler (EnergyMonitor MinMax)</td>\n",
       "      <td>{'boxes1d': 10, 'iterations': 150}</td>\n",
       "    </tr>\n",
       "    <tr>\n",
       "      <th>167</th>\n",
       "      <td>168</td>\n",
       "      <td>LavaMDProfiler (EnergyMonitor System)</td>\n",
       "      <td>{'boxes1d': 10, 'iterations': 150}</td>\n",
       "    </tr>\n",
       "  </tbody>\n",
       "</table>\n",
       "</div>"
      ],
      "text/plain": [
       "      ID                                                Label  \\\n",
       "0      1                                  JacobiNoMPIProfiler   \n",
       "1      2                                  JacobiNoMPIProfiler   \n",
       "2      3           JacobiNoMPIProfiler (EnergyMonitor MinMax)   \n",
       "3      4           JacobiNoMPIProfiler (EnergyMonitor MinMax)   \n",
       "4      5           JacobiNoMPIProfiler (EnergyMonitor System)   \n",
       "5      6           JacobiNoMPIProfiler (EnergyMonitor System)   \n",
       "6      7                                  JacobiNoMPIProfiler   \n",
       "7      8                                  JacobiNoMPIProfiler   \n",
       "8      9                                StreamclusterProfiler   \n",
       "9     10         StreamclusterProfiler (EnergyMonitor MinMax)   \n",
       "10    11         StreamclusterProfiler (EnergyMonitor System)   \n",
       "11    12                                StreamclusterProfiler   \n",
       "12    13         StreamclusterProfiler (EnergyMonitor MinMax)   \n",
       "13    14         StreamclusterProfiler (EnergyMonitor System)   \n",
       "14    15                                StreamclusterProfiler   \n",
       "15    16         StreamclusterProfiler (EnergyMonitor MinMax)   \n",
       "16    17         StreamclusterProfiler (EnergyMonitor System)   \n",
       "17    18                                          BFSProfiler   \n",
       "18    19                   BFSProfiler (EnergyMonitor MinMax)   \n",
       "19    20                   BFSProfiler (EnergyMonitor System)   \n",
       "20    21                                      MyocyteProfiler   \n",
       "21    22               MyocyteProfiler (EnergyMonitor MinMax)   \n",
       "22    23               MyocyteProfiler (EnergyMonitor System)   \n",
       "23    24                                      MyocyteProfiler   \n",
       "24    25               MyocyteProfiler (EnergyMonitor MinMax)   \n",
       "25    26               MyocyteProfiler (EnergyMonitor System)   \n",
       "26    27                                      MyocyteProfiler   \n",
       "27    28               MyocyteProfiler (EnergyMonitor MinMax)   \n",
       "28    29               MyocyteProfiler (EnergyMonitor System)   \n",
       "29    30                                      MyocyteProfiler   \n",
       "30    31               MyocyteProfiler (EnergyMonitor MinMax)   \n",
       "31    32               MyocyteProfiler (EnergyMonitor System)   \n",
       "32    33                                      MyocyteProfiler   \n",
       "33    34               MyocyteProfiler (EnergyMonitor MinMax)   \n",
       "34    35               MyocyteProfiler (EnergyMonitor System)   \n",
       "35    36                                       LavaMDProfiler   \n",
       "36    37                LavaMDProfiler (EnergyMonitor MinMax)   \n",
       "37    38                LavaMDProfiler (EnergyMonitor System)   \n",
       "38    39                                       LavaMDProfiler   \n",
       "39    40                LavaMDProfiler (EnergyMonitor MinMax)   \n",
       "40    41                LavaMDProfiler (EnergyMonitor System)   \n",
       "41    42                                      SRAD_V1Profiler   \n",
       "42    43               SRAD_V1Profiler (EnergyMonitor MinMax)   \n",
       "43    44               SRAD_V1Profiler (EnergyMonitor System)   \n",
       "44    45                                      SRAD_V1Profiler   \n",
       "45    46               SRAD_V1Profiler (EnergyMonitor MinMax)   \n",
       "46    47               SRAD_V1Profiler (EnergyMonitor System)   \n",
       "47    48                                      SRAD_V1Profiler   \n",
       "48    49               SRAD_V1Profiler (EnergyMonitor MinMax)   \n",
       "49    50               SRAD_V1Profiler (EnergyMonitor System)   \n",
       "50    51                                      SRAD_V1Profiler   \n",
       "51    52               SRAD_V1Profiler (EnergyMonitor MinMax)   \n",
       "52    53               SRAD_V1Profiler (EnergyMonitor System)   \n",
       "53    54                                      SRAD_V1Profiler   \n",
       "54    55               SRAD_V1Profiler (EnergyMonitor MinMax)   \n",
       "55    56               SRAD_V1Profiler (EnergyMonitor System)   \n",
       "56    57                                           NWProfiler   \n",
       "57    58                    NWProfiler (EnergyMonitor MinMax)   \n",
       "58    59                    NWProfiler (EnergyMonitor System)   \n",
       "59    60                                           NWProfiler   \n",
       "60    61                    NWProfiler (EnergyMonitor MinMax)   \n",
       "61    62                    NWProfiler (EnergyMonitor System)   \n",
       "62    63                         Particlefilter_floatProfiler   \n",
       "63    64  Particlefilter_floatProfiler (EnergyMonitor MinMax)   \n",
       "64    65  Particlefilter_floatProfiler (EnergyMonitor System)   \n",
       "65    66                         Particlefilter_floatProfiler   \n",
       "66    67  Particlefilter_floatProfiler (EnergyMonitor MinMax)   \n",
       "67    68  Particlefilter_floatProfiler (EnergyMonitor System)   \n",
       "68    69                         Particlefilter_floatProfiler   \n",
       "69    70  Particlefilter_floatProfiler (EnergyMonitor MinMax)   \n",
       "70    71  Particlefilter_floatProfiler (EnergyMonitor System)   \n",
       "71    72                         Particlefilter_floatProfiler   \n",
       "72    73  Particlefilter_floatProfiler (EnergyMonitor MinMax)   \n",
       "73    74  Particlefilter_floatProfiler (EnergyMonitor System)   \n",
       "74    75                                               KMeans   \n",
       "75    76                        KMeans (EnergyMonitor MinMax)   \n",
       "76    77                        KMeans (EnergyMonitor System)   \n",
       "77    78                                               KMeans   \n",
       "78    79                        KMeans (EnergyMonitor MinMax)   \n",
       "79    80                        KMeans (EnergyMonitor System)   \n",
       "80    81                                               KMeans   \n",
       "81    82                        KMeans (EnergyMonitor MinMax)   \n",
       "82    83                        KMeans (EnergyMonitor System)   \n",
       "83    84                                               KMeans   \n",
       "84    85                        KMeans (EnergyMonitor MinMax)   \n",
       "85    86                        KMeans (EnergyMonitor System)   \n",
       "86    87                                               KMeans   \n",
       "87    88                        KMeans (EnergyMonitor MinMax)   \n",
       "88    89                        KMeans (EnergyMonitor System)   \n",
       "89    90                                               KMeans   \n",
       "90    91                        KMeans (EnergyMonitor MinMax)   \n",
       "91    92                        KMeans (EnergyMonitor System)   \n",
       "92    93                                    BandwidthProfiler   \n",
       "93    94             BandwidthProfiler (EnergyMonitor MinMax)   \n",
       "94    95             BandwidthProfiler (EnergyMonitor System)   \n",
       "95    96                                    BandwidthProfiler   \n",
       "96    97             BandwidthProfiler (EnergyMonitor MinMax)   \n",
       "97    98             BandwidthProfiler (EnergyMonitor System)   \n",
       "98    99                                    BandwidthProfiler   \n",
       "99   100             BandwidthProfiler (EnergyMonitor MinMax)   \n",
       "100  101             BandwidthProfiler (EnergyMonitor System)   \n",
       "101  102                                    BandwidthProfiler   \n",
       "102  103             BandwidthProfiler (EnergyMonitor MinMax)   \n",
       "103  104             BandwidthProfiler (EnergyMonitor System)   \n",
       "104  105                                    BandwidthProfiler   \n",
       "105  106             BandwidthProfiler (EnergyMonitor MinMax)   \n",
       "106  107             BandwidthProfiler (EnergyMonitor System)   \n",
       "107  108                                    BandwidthProfiler   \n",
       "108  109             BandwidthProfiler (EnergyMonitor MinMax)   \n",
       "109  110             BandwidthProfiler (EnergyMonitor System)   \n",
       "110  111                            UnifiedMemoryPerfProfiler   \n",
       "111  112     UnifiedMemoryPerfProfiler (EnergyMonitor MinMax)   \n",
       "112  113     UnifiedMemoryPerfProfiler (EnergyMonitor System)   \n",
       "113  114                            UnifiedMemoryPerfProfiler   \n",
       "114  115     UnifiedMemoryPerfProfiler (EnergyMonitor MinMax)   \n",
       "115  116     UnifiedMemoryPerfProfiler (EnergyMonitor System)   \n",
       "116  117                            UnifiedMemoryPerfProfiler   \n",
       "117  118     UnifiedMemoryPerfProfiler (EnergyMonitor MinMax)   \n",
       "118  119     UnifiedMemoryPerfProfiler (EnergyMonitor System)   \n",
       "119  120                            UnifiedMemoryPerfProfiler   \n",
       "120  121                            UnifiedMemoryPerfProfiler   \n",
       "121  122     UnifiedMemoryPerfProfiler (EnergyMonitor MinMax)   \n",
       "122  123     UnifiedMemoryPerfProfiler (EnergyMonitor System)   \n",
       "123  124                                      Matrix Multiply   \n",
       "124  125               Matrix Multiply (EnergyMonitor MinMax)   \n",
       "125  126               Matrix Multiply (EnergyMonitor System)   \n",
       "126  127                                      Matrix Multiply   \n",
       "127  128               Matrix Multiply (EnergyMonitor MinMax)   \n",
       "128  129               Matrix Multiply (EnergyMonitor System)   \n",
       "129  130                                      Matrix Multiply   \n",
       "130  131               Matrix Multiply (EnergyMonitor MinMax)   \n",
       "131  132               Matrix Multiply (EnergyMonitor System)   \n",
       "132  133                                      Matrix Multiply   \n",
       "133  134               Matrix Multiply (EnergyMonitor MinMax)   \n",
       "134  135               Matrix Multiply (EnergyMonitor System)   \n",
       "135  136                                      Matrix Multiply   \n",
       "136  137               Matrix Multiply (EnergyMonitor MinMax)   \n",
       "137  138               Matrix Multiply (EnergyMonitor System)   \n",
       "138  139                                      Matrix Multiply   \n",
       "139  140               Matrix Multiply (EnergyMonitor MinMax)   \n",
       "140  141               Matrix Multiply (EnergyMonitor System)   \n",
       "141  142                                  JacobiNoMPIProfiler   \n",
       "142  143                                  JacobiNoMPIProfiler   \n",
       "143  144           JacobiNoMPIProfiler (EnergyMonitor MinMax)   \n",
       "144  145           JacobiNoMPIProfiler (EnergyMonitor MinMax)   \n",
       "145  146           JacobiNoMPIProfiler (EnergyMonitor System)   \n",
       "146  147           JacobiNoMPIProfiler (EnergyMonitor System)   \n",
       "147  148                                          BFSProfiler   \n",
       "148  149                   BFSProfiler (EnergyMonitor MinMax)   \n",
       "149  150                   BFSProfiler (EnergyMonitor System)   \n",
       "150  151                                          BFSProfiler   \n",
       "151  152                   BFSProfiler (EnergyMonitor MinMax)   \n",
       "152  153                   BFSProfiler (EnergyMonitor System)   \n",
       "153  154                                          BFSProfiler   \n",
       "154  155                   BFSProfiler (EnergyMonitor MinMax)   \n",
       "155  156                   BFSProfiler (EnergyMonitor System)   \n",
       "156  157                                          BFSProfiler   \n",
       "157  158                   BFSProfiler (EnergyMonitor MinMax)   \n",
       "158  159                   BFSProfiler (EnergyMonitor System)   \n",
       "159  160                                       LavaMDProfiler   \n",
       "160  161                LavaMDProfiler (EnergyMonitor MinMax)   \n",
       "161  162                LavaMDProfiler (EnergyMonitor System)   \n",
       "162  163                                           NWProfiler   \n",
       "163  164                    NWProfiler (EnergyMonitor MinMax)   \n",
       "164  165                    NWProfiler (EnergyMonitor System)   \n",
       "165  166                                       LavaMDProfiler   \n",
       "166  167                LavaMDProfiler (EnergyMonitor MinMax)   \n",
       "167  168                LavaMDProfiler (EnergyMonitor System)   \n",
       "\n",
       "                                                                                                                                                          Profile  \n",
       "0                                                                  {'Ni': 512, 'Nj': 512, 'file': '/applications/jacobi/small', 'iterations': 10000, 'kernel': 1}  \n",
       "1                                                                  {'Ni': 512, 'Nj': 512, 'file': '/applications/jacobi/small', 'iterations': 10000, 'kernel': 2}  \n",
       "2                                                                  {'Ni': 512, 'Nj': 512, 'file': '/applications/jacobi/small', 'iterations': 10000, 'kernel': 1}  \n",
       "3                                                                  {'Ni': 512, 'Nj': 512, 'file': '/applications/jacobi/small', 'iterations': 10000, 'kernel': 2}  \n",
       "4                                                                  {'Ni': 512, 'Nj': 512, 'file': '/applications/jacobi/small', 'iterations': 10000, 'kernel': 1}  \n",
       "5                                                                  {'Ni': 512, 'Nj': 512, 'file': '/applications/jacobi/small', 'iterations': 10000, 'kernel': 2}  \n",
       "6                                                                  {'Ni': 512, 'Nj': 512, 'file': '/applications/jacobi/small', 'iterations': 10000, 'kernel': 1}  \n",
       "7                                                                  {'Ni': 512, 'Nj': 512, 'file': '/applications/jacobi/small', 'iterations': 10000, 'kernel': 2}  \n",
       "8    {'chunksize': 65536, 'clustersize': 1000, 'd': 256, 'infile': 'none', 'iterations': 10, 'k1': 10, 'k2': 20, 'n': 65536, 'nproc': 1, 'outfile': 'output.txt'}  \n",
       "9    {'chunksize': 65536, 'clustersize': 1000, 'd': 256, 'infile': 'none', 'iterations': 10, 'k1': 10, 'k2': 20, 'n': 65536, 'nproc': 1, 'outfile': 'output.txt'}  \n",
       "10   {'chunksize': 65536, 'clustersize': 1000, 'd': 256, 'infile': 'none', 'iterations': 10, 'k1': 10, 'k2': 20, 'n': 65536, 'nproc': 1, 'outfile': 'output.txt'}  \n",
       "11   {'chunksize': 65536, 'clustersize': 1000, 'd': 256, 'infile': 'none', 'iterations': 10, 'k1': 10, 'k2': 20, 'n': 65536, 'nproc': 1, 'outfile': 'output.txt'}  \n",
       "12   {'chunksize': 65536, 'clustersize': 1000, 'd': 256, 'infile': 'none', 'iterations': 10, 'k1': 10, 'k2': 20, 'n': 65536, 'nproc': 1, 'outfile': 'output.txt'}  \n",
       "13   {'chunksize': 65536, 'clustersize': 1000, 'd': 256, 'infile': 'none', 'iterations': 10, 'k1': 10, 'k2': 20, 'n': 65536, 'nproc': 1, 'outfile': 'output.txt'}  \n",
       "14   {'chunksize': 65536, 'clustersize': 1000, 'd': 256, 'infile': 'none', 'iterations': 10, 'k1': 10, 'k2': 20, 'n': 65536, 'nproc': 1, 'outfile': 'output.txt'}  \n",
       "15   {'chunksize': 65536, 'clustersize': 1000, 'd': 256, 'infile': 'none', 'iterations': 10, 'k1': 10, 'k2': 20, 'n': 65536, 'nproc': 1, 'outfile': 'output.txt'}  \n",
       "16   {'chunksize': 65536, 'clustersize': 1000, 'd': 256, 'infile': 'none', 'iterations': 10, 'k1': 10, 'k2': 20, 'n': 65536, 'nproc': 1, 'outfile': 'output.txt'}  \n",
       "17                                                               {'core': 0, 'file': '/applications/rodinia/data/bfs/graph1MW_6.txt', 'gpu': 0, 'iterations': 50}  \n",
       "18                                                               {'core': 0, 'file': '/applications/rodinia/data/bfs/graph1MW_6.txt', 'gpu': 0, 'iterations': 50}  \n",
       "19                                                               {'core': 0, 'file': '/applications/rodinia/data/bfs/graph1MW_6.txt', 'gpu': 0, 'iterations': 50}  \n",
       "20                                                                                                           {'iterations': 75, 'method': 0, 'n': 1, 'time': 100}  \n",
       "21                                                                                                           {'iterations': 75, 'method': 0, 'n': 1, 'time': 100}  \n",
       "22                                                                                                           {'iterations': 75, 'method': 0, 'n': 1, 'time': 100}  \n",
       "23                                                                                                           {'iterations': 75, 'method': 0, 'n': 1, 'time': 100}  \n",
       "24                                                                                                           {'iterations': 75, 'method': 0, 'n': 1, 'time': 100}  \n",
       "25                                                                                                           {'iterations': 75, 'method': 0, 'n': 1, 'time': 100}  \n",
       "26                                                                                                           {'iterations': 75, 'method': 0, 'n': 1, 'time': 100}  \n",
       "27                                                                                                           {'iterations': 75, 'method': 0, 'n': 1, 'time': 100}  \n",
       "28                                                                                                           {'iterations': 75, 'method': 0, 'n': 1, 'time': 100}  \n",
       "29                                                                                                           {'iterations': 75, 'method': 0, 'n': 1, 'time': 100}  \n",
       "30                                                                                                           {'iterations': 75, 'method': 0, 'n': 1, 'time': 100}  \n",
       "31                                                                                                           {'iterations': 75, 'method': 0, 'n': 1, 'time': 100}  \n",
       "32                                                                                                           {'iterations': 75, 'method': 0, 'n': 1, 'time': 100}  \n",
       "33                                                                                                           {'iterations': 75, 'method': 0, 'n': 1, 'time': 100}  \n",
       "34                                                                                                           {'iterations': 75, 'method': 0, 'n': 1, 'time': 100}  \n",
       "35                                                                                                                             {'boxes1d': 10, 'iterations': 150}  \n",
       "36                                                                                                                             {'boxes1d': 10, 'iterations': 150}  \n",
       "37                                                                                                                             {'boxes1d': 10, 'iterations': 150}  \n",
       "38                                                                                                                             {'boxes1d': 10, 'iterations': 150}  \n",
       "39                                                                                                                             {'boxes1d': 10, 'iterations': 150}  \n",
       "40                                                                                                                             {'boxes1d': 10, 'iterations': 150}  \n",
       "41                                                                                           {'coefficient': 0.5, 'columns': 458, 'iterations': 100, 'rows': 502}  \n",
       "42                                                                                           {'coefficient': 0.5, 'columns': 458, 'iterations': 100, 'rows': 502}  \n",
       "43                                                                                           {'coefficient': 0.5, 'columns': 458, 'iterations': 100, 'rows': 502}  \n",
       "44                                                                                           {'coefficient': 0.5, 'columns': 458, 'iterations': 100, 'rows': 502}  \n",
       "45                                                                                           {'coefficient': 0.5, 'columns': 458, 'iterations': 100, 'rows': 502}  \n",
       "46                                                                                           {'coefficient': 0.5, 'columns': 458, 'iterations': 100, 'rows': 502}  \n",
       "47                                                                                           {'coefficient': 0.5, 'columns': 458, 'iterations': 100, 'rows': 502}  \n",
       "48                                                                                           {'coefficient': 0.5, 'columns': 458, 'iterations': 100, 'rows': 502}  \n",
       "49                                                                                           {'coefficient': 0.5, 'columns': 458, 'iterations': 100, 'rows': 502}  \n",
       "50                                                                                           {'coefficient': 0.5, 'columns': 458, 'iterations': 100, 'rows': 502}  \n",
       "51                                                                                           {'coefficient': 0.5, 'columns': 458, 'iterations': 100, 'rows': 502}  \n",
       "52                                                                                           {'coefficient': 0.5, 'columns': 458, 'iterations': 100, 'rows': 502}  \n",
       "53                                                                                           {'coefficient': 0.5, 'columns': 458, 'iterations': 100, 'rows': 502}  \n",
       "54                                                                                           {'coefficient': 0.5, 'columns': 458, 'iterations': 100, 'rows': 502}  \n",
       "55                                                                                           {'coefficient': 0.5, 'columns': 458, 'iterations': 100, 'rows': 502}  \n",
       "56                                                                                                             {'iterations': 400, 'length': 2048, 'penalty': 10}  \n",
       "57                                                                                                             {'iterations': 400, 'length': 2048, 'penalty': 10}  \n",
       "58                                                                                                             {'iterations': 400, 'length': 2048, 'penalty': 10}  \n",
       "59                                                                                                             {'iterations': 400, 'length': 2048, 'penalty': 10}  \n",
       "60                                                                                                             {'iterations': 400, 'length': 2048, 'penalty': 10}  \n",
       "61                                                                                                             {'iterations': 400, 'length': 2048, 'penalty': 10}  \n",
       "62                                                                                                   {'iterations': 500, 'np': 1000, 'x': 128, 'y': 128, 'z': 10}  \n",
       "63                                                                                                   {'iterations': 500, 'np': 1000, 'x': 128, 'y': 128, 'z': 10}  \n",
       "64                                                                                                   {'iterations': 500, 'np': 1000, 'x': 128, 'y': 128, 'z': 10}  \n",
       "65                                                                                                   {'iterations': 500, 'np': 1000, 'x': 128, 'y': 128, 'z': 10}  \n",
       "66                                                                                                   {'iterations': 500, 'np': 1000, 'x': 128, 'y': 128, 'z': 10}  \n",
       "67                                                                                                   {'iterations': 500, 'np': 1000, 'x': 128, 'y': 128, 'z': 10}  \n",
       "68                                                                                                   {'iterations': 500, 'np': 1000, 'x': 128, 'y': 128, 'z': 10}  \n",
       "69                                                                                                   {'iterations': 500, 'np': 1000, 'x': 128, 'y': 128, 'z': 10}  \n",
       "70                                                                                                   {'iterations': 500, 'np': 1000, 'x': 128, 'y': 128, 'z': 10}  \n",
       "71                                                                                                   {'iterations': 500, 'np': 1000, 'x': 128, 'y': 128, 'z': 10}  \n",
       "72                                                                                                   {'iterations': 500, 'np': 1000, 'x': 128, 'y': 128, 'z': 10}  \n",
       "73                                                                                                   {'iterations': 500, 'np': 1000, 'x': 128, 'y': 128, 'z': 10}  \n",
       "74                                                                   {'core': 0, 'file': '/applications/rodinia/data/kmeans/kdd_cup', 'gpu': 0, 'iterations': 75}  \n",
       "75                                                                   {'core': 0, 'file': '/applications/rodinia/data/kmeans/kdd_cup', 'gpu': 0, 'iterations': 75}  \n",
       "76                                                                   {'core': 0, 'file': '/applications/rodinia/data/kmeans/kdd_cup', 'gpu': 0, 'iterations': 75}  \n",
       "77                                                                   {'core': 0, 'file': '/applications/rodinia/data/kmeans/kdd_cup', 'gpu': 0, 'iterations': 75}  \n",
       "78                                                                   {'core': 0, 'file': '/applications/rodinia/data/kmeans/kdd_cup', 'gpu': 0, 'iterations': 75}  \n",
       "79                                                                   {'core': 0, 'file': '/applications/rodinia/data/kmeans/kdd_cup', 'gpu': 0, 'iterations': 75}  \n",
       "80                                                                   {'core': 0, 'file': '/applications/rodinia/data/kmeans/kdd_cup', 'gpu': 0, 'iterations': 75}  \n",
       "81                                                                   {'core': 0, 'file': '/applications/rodinia/data/kmeans/kdd_cup', 'gpu': 0, 'iterations': 75}  \n",
       "82                                                                   {'core': 0, 'file': '/applications/rodinia/data/kmeans/kdd_cup', 'gpu': 0, 'iterations': 75}  \n",
       "83                                                                   {'core': 0, 'file': '/applications/rodinia/data/kmeans/kdd_cup', 'gpu': 0, 'iterations': 75}  \n",
       "84                                                                   {'core': 0, 'file': '/applications/rodinia/data/kmeans/kdd_cup', 'gpu': 0, 'iterations': 75}  \n",
       "85                                                                   {'core': 0, 'file': '/applications/rodinia/data/kmeans/kdd_cup', 'gpu': 0, 'iterations': 75}  \n",
       "86                                                                   {'core': 0, 'file': '/applications/rodinia/data/kmeans/kdd_cup', 'gpu': 0, 'iterations': 75}  \n",
       "87                                                                   {'core': 0, 'file': '/applications/rodinia/data/kmeans/kdd_cup', 'gpu': 0, 'iterations': 75}  \n",
       "88                                                                   {'core': 0, 'file': '/applications/rodinia/data/kmeans/kdd_cup', 'gpu': 0, 'iterations': 75}  \n",
       "89                                                                   {'core': 0, 'file': '/applications/rodinia/data/kmeans/kdd_cup', 'gpu': 0, 'iterations': 75}  \n",
       "90                                                                   {'core': 0, 'file': '/applications/rodinia/data/kmeans/kdd_cup', 'gpu': 0, 'iterations': 75}  \n",
       "91                                                                   {'core': 0, 'file': '/applications/rodinia/data/kmeans/kdd_cup', 'gpu': 0, 'iterations': 75}  \n",
       "92                                                                                                                                             {'iterations': 50}  \n",
       "93                                                                                                                                             {'iterations': 50}  \n",
       "94                                                                                                                                             {'iterations': 50}  \n",
       "95                                                                                                                                             {'iterations': 50}  \n",
       "96                                                                                                                                             {'iterations': 50}  \n",
       "97                                                                                                                                             {'iterations': 50}  \n",
       "98                                                                                                                                             {'iterations': 50}  \n",
       "99                                                                                                                                             {'iterations': 50}  \n",
       "100                                                                                                                                            {'iterations': 50}  \n",
       "101                                                                                                                                            {'iterations': 50}  \n",
       "102                                                                                                                                            {'iterations': 50}  \n",
       "103                                                                                                                                            {'iterations': 50}  \n",
       "104                                                                                                                                            {'iterations': 50}  \n",
       "105                                                                                                                                            {'iterations': 50}  \n",
       "106                                                                                                                                            {'iterations': 50}  \n",
       "107                                                                                                                                            {'iterations': 50}  \n",
       "108                                                                                                                                            {'iterations': 50}  \n",
       "109                                                                                                                                            {'iterations': 50}  \n",
       "110                                                                                                                                             {'iterations': 3}  \n",
       "111                                                                                                                                             {'iterations': 3}  \n",
       "112                                                                                                                                             {'iterations': 3}  \n",
       "113                                                                                                                                             {'iterations': 3}  \n",
       "114                                                                                                                                             {'iterations': 3}  \n",
       "115                                                                                                                                             {'iterations': 3}  \n",
       "116                                                                                                                                             {'iterations': 3}  \n",
       "117                                                                                                                                             {'iterations': 3}  \n",
       "118                                                                                                                                             {'iterations': 3}  \n",
       "119                                                                                                                                             {'iterations': 3}  \n",
       "120                                                                                                                                             {'iterations': 3}  \n",
       "121                                                                                                                                             {'iterations': 3}  \n",
       "122                                                                                                                                             {'iterations': 3}  \n",
       "123                             {'core': 0, 'gpu': 0, 'iterations': 10, 'matrixAHeight': 1536, 'matrixAWidth': 1536, 'matrixBHeight': 1536, 'matrixBWidth': 1536}  \n",
       "124                             {'core': 0, 'gpu': 0, 'iterations': 10, 'matrixAHeight': 1536, 'matrixAWidth': 1536, 'matrixBHeight': 1536, 'matrixBWidth': 1536}  \n",
       "125                             {'core': 0, 'gpu': 0, 'iterations': 10, 'matrixAHeight': 1536, 'matrixAWidth': 1536, 'matrixBHeight': 1536, 'matrixBWidth': 1536}  \n",
       "126                             {'core': 0, 'gpu': 0, 'iterations': 10, 'matrixAHeight': 1536, 'matrixAWidth': 1536, 'matrixBHeight': 1536, 'matrixBWidth': 1536}  \n",
       "127                             {'core': 0, 'gpu': 0, 'iterations': 10, 'matrixAHeight': 1536, 'matrixAWidth': 1536, 'matrixBHeight': 1536, 'matrixBWidth': 1536}  \n",
       "128                             {'core': 0, 'gpu': 0, 'iterations': 10, 'matrixAHeight': 1536, 'matrixAWidth': 1536, 'matrixBHeight': 1536, 'matrixBWidth': 1536}  \n",
       "129                             {'core': 0, 'gpu': 0, 'iterations': 10, 'matrixAHeight': 1536, 'matrixAWidth': 1536, 'matrixBHeight': 1536, 'matrixBWidth': 1536}  \n",
       "130                             {'core': 0, 'gpu': 0, 'iterations': 10, 'matrixAHeight': 1536, 'matrixAWidth': 1536, 'matrixBHeight': 1536, 'matrixBWidth': 1536}  \n",
       "131                             {'core': 0, 'gpu': 0, 'iterations': 10, 'matrixAHeight': 1536, 'matrixAWidth': 1536, 'matrixBHeight': 1536, 'matrixBWidth': 1536}  \n",
       "132                             {'core': 0, 'gpu': 0, 'iterations': 10, 'matrixAHeight': 1536, 'matrixAWidth': 1536, 'matrixBHeight': 1536, 'matrixBWidth': 1536}  \n",
       "133                             {'core': 0, 'gpu': 0, 'iterations': 10, 'matrixAHeight': 1536, 'matrixAWidth': 1536, 'matrixBHeight': 1536, 'matrixBWidth': 1536}  \n",
       "134                             {'core': 0, 'gpu': 0, 'iterations': 10, 'matrixAHeight': 1536, 'matrixAWidth': 1536, 'matrixBHeight': 1536, 'matrixBWidth': 1536}  \n",
       "135                             {'core': 0, 'gpu': 0, 'iterations': 10, 'matrixAHeight': 1536, 'matrixAWidth': 1536, 'matrixBHeight': 1536, 'matrixBWidth': 1536}  \n",
       "136                             {'core': 0, 'gpu': 0, 'iterations': 10, 'matrixAHeight': 1536, 'matrixAWidth': 1536, 'matrixBHeight': 1536, 'matrixBWidth': 1536}  \n",
       "137                             {'core': 0, 'gpu': 0, 'iterations': 10, 'matrixAHeight': 1536, 'matrixAWidth': 1536, 'matrixBHeight': 1536, 'matrixBWidth': 1536}  \n",
       "138                             {'core': 0, 'gpu': 0, 'iterations': 10, 'matrixAHeight': 1536, 'matrixAWidth': 1536, 'matrixBHeight': 1536, 'matrixBWidth': 1536}  \n",
       "139                             {'core': 0, 'gpu': 0, 'iterations': 10, 'matrixAHeight': 1536, 'matrixAWidth': 1536, 'matrixBHeight': 1536, 'matrixBWidth': 1536}  \n",
       "140                             {'core': 0, 'gpu': 0, 'iterations': 10, 'matrixAHeight': 1536, 'matrixAWidth': 1536, 'matrixBHeight': 1536, 'matrixBWidth': 1536}  \n",
       "141                                                                {'Ni': 512, 'Nj': 512, 'file': '/applications/jacobi/small', 'iterations': 10000, 'kernel': 1}  \n",
       "142                                                                {'Ni': 512, 'Nj': 512, 'file': '/applications/jacobi/small', 'iterations': 10000, 'kernel': 2}  \n",
       "143                                                                {'Ni': 512, 'Nj': 512, 'file': '/applications/jacobi/small', 'iterations': 10000, 'kernel': 1}  \n",
       "144                                                                {'Ni': 512, 'Nj': 512, 'file': '/applications/jacobi/small', 'iterations': 10000, 'kernel': 2}  \n",
       "145                                                                {'Ni': 512, 'Nj': 512, 'file': '/applications/jacobi/small', 'iterations': 10000, 'kernel': 1}  \n",
       "146                                                                {'Ni': 512, 'Nj': 512, 'file': '/applications/jacobi/small', 'iterations': 10000, 'kernel': 2}  \n",
       "147                                                              {'core': 0, 'file': '/applications/rodinia/data/bfs/graph1MW_6.txt', 'gpu': 0, 'iterations': 50}  \n",
       "148                                                              {'core': 0, 'file': '/applications/rodinia/data/bfs/graph1MW_6.txt', 'gpu': 0, 'iterations': 50}  \n",
       "149                                                              {'core': 0, 'file': '/applications/rodinia/data/bfs/graph1MW_6.txt', 'gpu': 0, 'iterations': 50}  \n",
       "150                                                              {'core': 0, 'file': '/applications/rodinia/data/bfs/graph1MW_6.txt', 'gpu': 0, 'iterations': 50}  \n",
       "151                                                              {'core': 0, 'file': '/applications/rodinia/data/bfs/graph1MW_6.txt', 'gpu': 0, 'iterations': 50}  \n",
       "152                                                              {'core': 0, 'file': '/applications/rodinia/data/bfs/graph1MW_6.txt', 'gpu': 0, 'iterations': 50}  \n",
       "153                                                              {'core': 0, 'file': '/applications/rodinia/data/bfs/graph1MW_6.txt', 'gpu': 0, 'iterations': 50}  \n",
       "154                                                              {'core': 0, 'file': '/applications/rodinia/data/bfs/graph1MW_6.txt', 'gpu': 0, 'iterations': 50}  \n",
       "155                                                              {'core': 0, 'file': '/applications/rodinia/data/bfs/graph1MW_6.txt', 'gpu': 0, 'iterations': 50}  \n",
       "156                                                              {'core': 0, 'file': '/applications/rodinia/data/bfs/graph1MW_6.txt', 'gpu': 0, 'iterations': 50}  \n",
       "157                                                              {'core': 0, 'file': '/applications/rodinia/data/bfs/graph1MW_6.txt', 'gpu': 0, 'iterations': 50}  \n",
       "158                                                              {'core': 0, 'file': '/applications/rodinia/data/bfs/graph1MW_6.txt', 'gpu': 0, 'iterations': 50}  \n",
       "159                                                                                                                            {'boxes1d': 10, 'iterations': 150}  \n",
       "160                                                                                                                            {'boxes1d': 10, 'iterations': 150}  \n",
       "161                                                                                                                            {'boxes1d': 10, 'iterations': 150}  \n",
       "162                                                                                                            {'iterations': 400, 'length': 2048, 'penalty': 10}  \n",
       "163                                                                                                            {'iterations': 400, 'length': 2048, 'penalty': 10}  \n",
       "164                                                                                                            {'iterations': 400, 'length': 2048, 'penalty': 10}  \n",
       "165                                                                                                                            {'boxes1d': 10, 'iterations': 150}  \n",
       "166                                                                                                                            {'boxes1d': 10, 'iterations': 150}  \n",
       "167                                                                                                                            {'boxes1d': 10, 'iterations': 150}  "
      ]
     },
     "metadata": {},
     "output_type": "display_data"
    }
   ],
   "source": [
    "# Visualize the profiler session data\n",
    "overview_plot = complete_data_set.table_plot\n",
    "overview_plot.maximum_rows = 500\n",
    "overview_plot.plot()"
   ]
  },
  {
   "cell_type": "markdown",
   "metadata": {},
   "source": [
    "## Analysis\n",
    "\n",
    "Define the ID of the test you wish to visualize below."
   ]
  },
  {
   "cell_type": "code",
   "execution_count": 4,
   "metadata": {
    "pycharm": {
     "name": "#%%\n"
    }
   },
   "outputs": [],
   "source": [
    "profiler_session_id = complete_data_set.data[-1].id\n",
    "profiler_session_id = 167\n",
    "data_set = DataSet([profiler_session for profiler_session in complete_data_set.data if profiler_session.id == profiler_session_id])"
   ]
  },
  {
   "cell_type": "markdown",
   "metadata": {},
   "source": [
    "### Summary\n",
    "\n",
    "These are the specifications of the system with which the profiler session was performed."
   ]
  },
  {
   "cell_type": "code",
   "execution_count": 5,
   "metadata": {
    "pycharm": {
     "name": "#%%\n"
    }
   },
   "outputs": [
    {
     "name": "stdout",
     "output_type": "stream",
     "text": [
      "{'GPUs': [{'Brand': 'GeForce',\n",
      "           'Compute Capability Major Version': 5,\n",
      "           'Compute Capability Minor Version': 2,\n",
      "           'Default Auto Boosted Clocks Enabled': None,\n",
      "           'Default Power Limit (W)': '130.0',\n",
      "           'Memory Size (B)': '2.1 GB',\n",
      "           'Name': 'GeForce GTX 960',\n",
      "           'PCIe Link Width (B)': '16 Bytes',\n",
      "           'Supported Core Clock Rates (Hz)': [''],\n",
      "           'Supported Memory Clock Rates (Hz)': ['']}],\n",
      " 'Label': 'LavaMDProfiler (EnergyMonitor MinMax)'}\n"
     ]
    }
   ],
   "source": [
    "pprint.pprint(data_set.data[0].summary)"
   ]
  },
  {
   "cell_type": "markdown",
   "metadata": {},
   "source": [
    "### Profile\n",
    "\n",
    "This is the profile with which the profiler session was performed."
   ]
  },
  {
   "cell_type": "code",
   "execution_count": 6,
   "metadata": {
    "pycharm": {
     "name": "#%%\n"
    }
   },
   "outputs": [
    {
     "name": "stdout",
     "output_type": "stream",
     "text": [
      "{'boxes1d': 10, 'iterations': 150}\n"
     ]
    }
   ],
   "source": [
    "pprint.pprint(data_set.data[0].profile)"
   ]
  },
  {
   "cell_type": "markdown",
   "metadata": {},
   "source": [
    "The graph below shows the clock rate over time."
   ]
  },
  {
   "cell_type": "code",
   "execution_count": 7,
   "metadata": {
    "pycharm": {
     "name": "#%%\n"
    }
   },
   "outputs": [
    {
     "data": {
      "application/vnd.jupyter.widget-view+json": {
       "model_id": "d589789b34d54771936de3ada624ef10",
       "version_major": 2,
       "version_minor": 0
      },
      "text/plain": [
       "Canvas(toolbar=Toolbar(toolitems=[('Home', 'Reset original view', 'home', 'home'), ('Back', 'Back to previous …"
      ]
     },
     "metadata": {},
     "output_type": "display_data"
    }
   ],
   "source": [
    "clock_rate_timeseries_plot = data_set.data[0].clock_rate_timeseries_plot(plot_limits=False, use_ear=False)\n",
    "clock_rate_timeseries_plot.plot_series = { key: clock_rate_timeseries_plot.plot_series[key] for key in clock_rate_timeseries_plot.plot_series if (key.startswith(\"EAR\") or key.startswith(\"CPU 0\") and (not key.startswith(\"CPU 0 Core\") or key.startswith(\"CPU 0 Core 0\"))) or key.startswith(\"GPU 0\")}\n",
    "clock_rate_timeseries_plot.plot()"
   ]
  },
  {
   "cell_type": "markdown",
   "metadata": {},
   "source": [
    "### Correlations\n",
    "\n",
    "The graphs below shows the Pearson correlation heatmap for each performance variable."
   ]
  },
  {
   "cell_type": "code",
   "execution_count": 8,
   "metadata": {
    "pycharm": {
     "name": "#%%\n"
    }
   },
   "outputs": [],
   "source": [
    "#data_set.data[0].monitor_data_correlations_plot.plot()"
   ]
  },
  {
   "cell_type": "markdown",
   "metadata": {},
   "source": [
    "### Energy Consumption\n",
    "\n",
    "The graphs below shows the total energy consumption over time."
   ]
  },
  {
   "cell_type": "code",
   "execution_count": 9,
   "metadata": {
    "pycharm": {
     "name": "#%%\n"
    }
   },
   "outputs": [
    {
     "data": {
      "application/vnd.jupyter.widget-view+json": {
       "model_id": "3d0549e7e4304a6ab5b3900139063f08",
       "version_major": 2,
       "version_minor": 0
      },
      "text/plain": [
       "Canvas(toolbar=Toolbar(toolitems=[('Home', 'Reset original view', 'home', 'home'), ('Back', 'Back to previous …"
      ]
     },
     "metadata": {},
     "output_type": "display_data"
    }
   ],
   "source": [
    "# # Plot in Joules\n",
    "energy_consumption_plot_j = data_set.data[0].energy_consumption_timeseries_plot(use_ear=False)\n",
    "energy_consumption_plot_j.plot_series = { key: energy_consumption_plot_j.plot_series[key] for key in energy_consumption_plot_j.plot_series if (key.startswith(\"EAR\") or key.startswith(\"CPU 0\") and (not key.startswith(\"CPU 0 Core\") or key.startswith(\"CPU 0 Core 0\"))) or key.startswith(\"GPU 0\") or key.startswith(\"Node\")}\n",
    "energy_consumption_plot_j.plot()\n",
    "\n",
    "# Plot in Watt Hours\n",
    "# energy_consumption_plot_wh = data_set.data[0].energy_consumption_timeseries_plot(unit_string=\"Wh\", modifier=Plot.j_to_wh, use_ear=False)\n",
    "# energy_consumption_plot_wh.plot_series = { key: energy_consumption_plot_wh.plot_series[key] for key in energy_consumption_plot_wh.plot_series if (key.startswith(\"EAR\") or key.startswith(\"CPU 0\") and (not key.startswith(\"CPU 0 Core\") or key.startswith(\"CPU 0 Core 0\"))) or key.startswith(\"GPU 0\") or key.startswith(\"Node\")}\n",
    "# energy_consumption_plot_wh.plot()"
   ]
  },
  {
   "cell_type": "markdown",
   "metadata": {},
   "source": [
    "### Events\n",
    "\n",
    "The graph below shows the events over time."
   ]
  },
  {
   "cell_type": "code",
   "execution_count": 10,
   "metadata": {
    "pycharm": {
     "name": "#%%\n"
    }
   },
   "outputs": [],
   "source": [
    "# for events_plot in data_set.data[0].events_event_plot()[:1]:\n",
    "#     events_plot.plot()"
   ]
  },
  {
   "cell_type": "markdown",
   "metadata": {},
   "source": [
    "### Fan Speed\n",
    "\n",
    "The graphs below shows the fan speed over time."
   ]
  },
  {
   "cell_type": "code",
   "execution_count": 11,
   "metadata": {
    "pycharm": {
     "name": "#%%\n"
    }
   },
   "outputs": [
    {
     "data": {
      "application/vnd.jupyter.widget-view+json": {
       "model_id": "255dd5c993a64f6e87dbaa9994a4e27f",
       "version_major": 2,
       "version_minor": 0
      },
      "text/plain": [
       "Canvas(toolbar=Toolbar(toolitems=[('Home', 'Reset original view', 'home', 'home'), ('Back', 'Back to previous …"
      ]
     },
     "metadata": {},
     "output_type": "display_data"
    }
   ],
   "source": [
    "data_set.data[0].fan_speed_timeseries_plot.plot()"
   ]
  },
  {
   "cell_type": "markdown",
   "metadata": {},
   "source": [
    "### Instructions Per Cycle\n",
    "\n",
    "The graph below shows the utilization rates over time."
   ]
  },
  {
   "cell_type": "code",
   "execution_count": 12,
   "metadata": {
    "pycharm": {
     "name": "#%%\n"
    }
   },
   "outputs": [
    {
     "data": {
      "application/vnd.jupyter.widget-view+json": {
       "model_id": "f4b275f25012460b924ed34748c3f260",
       "version_major": 2,
       "version_minor": 0
      },
      "text/plain": [
       "Canvas(toolbar=Toolbar(toolitems=[('Home', 'Reset original view', 'home', 'home'), ('Back', 'Back to previous …"
      ]
     },
     "metadata": {},
     "output_type": "display_data"
    },
    {
     "name": "stderr",
     "output_type": "stream",
     "text": [
      "/EnergyManager/Visualizer/Source/Visualizer/Plotting/AxesPlot.py:42: MatplotlibDeprecationWarning: Axes3D(fig) adding itself to the figure is deprecated since 3.4. Pass the keyword argument auto_add_to_figure=False and use fig.add_axes(ax) to suppress this warning. The default value of auto_add_to_figure will change to False in mpl3.5 and True values will no longer work in 3.6.  This is consistent with other Axes classes.\n",
      "  self.axes = Axes3D(self.figure)\n",
      "No handles with labels found to put in legend.\n"
     ]
    }
   ],
   "source": [
    "data_set.data[0].instructions_per_cycle_timeseries_plot.plot()"
   ]
  },
  {
   "cell_type": "markdown",
   "metadata": {},
   "source": [
    "### Memory Consumption\n",
    "\n",
    "The graphs below shows the memory consumption over time."
   ]
  },
  {
   "cell_type": "code",
   "execution_count": 13,
   "metadata": {
    "pycharm": {
     "name": "#%%\n"
    }
   },
   "outputs": [
    {
     "data": {
      "application/vnd.jupyter.widget-view+json": {
       "model_id": "c0cbdefa6f2f4d7cb835c50d6f967166",
       "version_major": 2,
       "version_minor": 0
      },
      "text/plain": [
       "Canvas(toolbar=Toolbar(toolitems=[('Home', 'Reset original view', 'home', 'home'), ('Back', 'Back to previous …"
      ]
     },
     "metadata": {},
     "output_type": "display_data"
    }
   ],
   "source": [
    "data_set.data[0].memory_consumption_timeseries_plot(plot_sizes=False).plot()"
   ]
  },
  {
   "cell_type": "markdown",
   "metadata": {},
   "source": [
    "### Power Consumption\n",
    "\n",
    "The graph below shows the power consumption over time."
   ]
  },
  {
   "cell_type": "code",
   "execution_count": 14,
   "metadata": {
    "pycharm": {
     "name": "#%%\n"
    }
   },
   "outputs": [
    {
     "data": {
      "application/vnd.jupyter.widget-view+json": {
       "model_id": "89d530d2b1fd44a6b0e84c82574e67be",
       "version_major": 2,
       "version_minor": 0
      },
      "text/plain": [
       "Canvas(toolbar=Toolbar(toolitems=[('Home', 'Reset original view', 'home', 'home'), ('Back', 'Back to previous …"
      ]
     },
     "metadata": {},
     "output_type": "display_data"
    }
   ],
   "source": [
    "power_consumption_timeseries_plot = data_set.data[0].power_consumption_timeseries_plot(plot_limits=False, use_ear=False)\n",
    "#power_consumption_timeseries_plot.plot_series = { key: power_consumption_timeseries_plot.plot_series[key] for key in power_consumption_timeseries_plot.plot_series if (key.startswith(\"CPU 1\") or key.startswith(\"EAR\") or key.startswith(\"CPU 0\") and (not key.startswith(\"CPU 0 Core\") or key.startswith(\"CPU 0 Core 0\"))) or key.startswith(\"GPU 0\") or key.startswith(\"Node\")}\n",
    "power_consumption_timeseries_plot.plot_series = { key: power_consumption_timeseries_plot.plot_series[key] for key in power_consumption_timeseries_plot.plot_series if (key.startswith(\"EAR\") or key.startswith(\"CPU 0\") and (not key.startswith(\"CPU 0 Core\") or key.startswith(\"CPU 0 Core 0\"))) or key.startswith(\"GPU 0\") or key.startswith(\"Node\")}\n",
    "power_consumption_timeseries_plot.plot()"
   ]
  },
  {
   "cell_type": "markdown",
   "metadata": {},
   "source": [
    "### Processes\n",
    "\n",
    "The graphs below shows the amount of processes over time."
   ]
  },
  {
   "cell_type": "code",
   "execution_count": 15,
   "metadata": {
    "pycharm": {
     "name": "#%%\n"
    }
   },
   "outputs": [
    {
     "data": {
      "application/vnd.jupyter.widget-view+json": {
       "model_id": "491d5eeefea54389a6e903ebe290a37d",
       "version_major": 2,
       "version_minor": 0
      },
      "text/plain": [
       "Canvas(toolbar=Toolbar(toolitems=[('Home', 'Reset original view', 'home', 'home'), ('Back', 'Back to previous …"
      ]
     },
     "metadata": {},
     "output_type": "display_data"
    }
   ],
   "source": [
    "data_set.data[0].processes_timeseries_plot.plot()"
   ]
  },
  {
   "cell_type": "markdown",
   "metadata": {},
   "source": [
    "### States\n",
    "\n",
    "The graph below shows the states of the EnergyMonitor over time."
   ]
  },
  {
   "cell_type": "code",
   "execution_count": 16,
   "metadata": {
    "pycharm": {
     "name": "#%%\n"
    }
   },
   "outputs": [
    {
     "data": {
      "application/vnd.jupyter.widget-view+json": {
       "model_id": "8538eafcc97d40e6a3610223f3f2e0b7",
       "version_major": 2,
       "version_minor": 0
      },
      "text/plain": [
       "Canvas(toolbar=Toolbar(toolitems=[('Home', 'Reset original view', 'home', 'home'), ('Back', 'Back to previous …"
      ]
     },
     "metadata": {},
     "output_type": "display_data"
    }
   ],
   "source": [
    "data_set.data[0].states_event_plot().plot()"
   ]
  },
  {
   "cell_type": "markdown",
   "metadata": {},
   "source": [
    "### Temperature\n",
    "\n",
    "The graphs below shows the temperature over time."
   ]
  },
  {
   "cell_type": "code",
   "execution_count": 17,
   "metadata": {
    "pycharm": {
     "name": "#%%\n"
    }
   },
   "outputs": [
    {
     "data": {
      "application/vnd.jupyter.widget-view+json": {
       "model_id": "3193a0e34bcc4097a7a867defe918e63",
       "version_major": 2,
       "version_minor": 0
      },
      "text/plain": [
       "Canvas(toolbar=Toolbar(toolitems=[('Home', 'Reset original view', 'home', 'home'), ('Back', 'Back to previous …"
      ]
     },
     "metadata": {},
     "output_type": "display_data"
    }
   ],
   "source": [
    "temperature_timeseries_plot = data_set.data[0].temperature_timeseries_plot\n",
    "temperature_timeseries_plot.plot_series = { key: temperature_timeseries_plot.plot_series[key] for key in temperature_timeseries_plot.plot_series if (key.startswith(\"CPU 0\") and (not key.startswith(\"CPU 0 Core\") or key.startswith(\"CPU 0 Core 0\"))) or key.startswith(\"GPU 0\") or key.startswith(\"Node\")}\n",
    "temperature_timeseries_plot.plot()"
   ]
  },
  {
   "cell_type": "markdown",
   "metadata": {},
   "source": [
    "### Timespan\n",
    "\n",
    "The graphs below shows the time spent on different types of operations over time."
   ]
  },
  {
   "cell_type": "code",
   "execution_count": 18,
   "metadata": {},
   "outputs": [
    {
     "data": {
      "application/vnd.jupyter.widget-view+json": {
       "model_id": "e887e1ea749c435fa1c31fc2821410fd",
       "version_major": 2,
       "version_minor": 0
      },
      "text/plain": [
       "Canvas(toolbar=Toolbar(toolitems=[('Home', 'Reset original view', 'home', 'home'), ('Back', 'Back to previous …"
      ]
     },
     "metadata": {},
     "output_type": "display_data"
    }
   ],
   "source": [
    "timespan_timeseries_plot = data_set.data[0].timespan_timeseries_plot(use_ear=False)\n",
    "timespan_timeseries_plot.plot_series = { key: timespan_timeseries_plot.plot_series[key] for key in timespan_timeseries_plot.plot_series if (key.startswith(\"Runtime\") or key.startswith(\"EAR\") or key.startswith(\"CPU 0 Core 0\"))}\n",
    "timespan_timeseries_plot.plot()"
   ]
  },
  {
   "cell_type": "markdown",
   "metadata": {},
   "source": [
    "### Utilization Rates\n",
    "\n",
    "The graph below shows the utilization rates over time."
   ]
  },
  {
   "cell_type": "code",
   "execution_count": 19,
   "metadata": {
    "pycharm": {
     "name": "#%%\n"
    }
   },
   "outputs": [
    {
     "data": {
      "application/vnd.jupyter.widget-view+json": {
       "model_id": "59843637b6a1420e801bc5c085b489c3",
       "version_major": 2,
       "version_minor": 0
      },
      "text/plain": [
       "Canvas(toolbar=Toolbar(toolitems=[('Home', 'Reset original view', 'home', 'home'), ('Back', 'Back to previous …"
      ]
     },
     "metadata": {},
     "output_type": "display_data"
    }
   ],
   "source": [
    "utilization_rate_timeseries_plot = data_set.data[0].utilization_rate_timeseries_plot\n",
    "utilization_rate_timeseries_plot.plot_series = { key: utilization_rate_timeseries_plot.plot_series[key] for key in utilization_rate_timeseries_plot.plot_series if (key.startswith(\"CPU 0\") and (not key.startswith(\"CPU 0 Core\") or key.startswith(\"CPU 0 Core 0\"))) or key.startswith(\"GPU 0\") or key.startswith(\"Node\")}\n",
    "utilization_rate_timeseries_plot.plot()"
   ]
  },
  {
   "cell_type": "code",
   "execution_count": null,
   "metadata": {},
   "outputs": [],
   "source": []
  }
 ],
 "metadata": {
  "kernelspec": {
   "display_name": "Python 3",
   "language": "python",
   "name": "python3"
  },
  "language_info": {
   "codemirror_mode": {
    "name": "ipython",
    "version": 3
   },
   "file_extension": ".py",
   "mimetype": "text/x-python",
   "name": "python",
   "nbconvert_exporter": "python",
   "pygments_lexer": "ipython3",
   "version": "3.8.8"
  },
  "widgets": {
   "application/vnd.jupyter.widget-state+json": {
    "state": {
     "01a9704b5d2445e6a1f685a2b8115eaa": {
      "model_module": "jupyter-matplotlib",
      "model_module_version": "^0.8.3",
      "model_name": "MPLCanvasModel",
      "state": {
       "_cursor": "default",
       "_figure_label": "Figure 1",
       "_height": 500,
       "_image_mode": "diff",
       "_message": "x=01:59:00 y=1.109e+09",
       "_width": 1500,
       "layout": "IPY_MODEL_b45ab6e50906493d9b7b6759aa05288a",
       "toolbar": "IPY_MODEL_3f9b4f6487cd41029b671372fdd82e11",
       "toolbar_position": "left"
      }
     },
     "0447842c445e49adb0095e52fca9f48f": {
      "model_module": "@jupyter-widgets/base",
      "model_module_version": "1.2.0",
      "model_name": "LayoutModel",
      "state": {}
     },
     "09b1d8a2f6fb4024b4eaea3286fcc1bb": {
      "model_module": "@jupyter-widgets/base",
      "model_module_version": "1.2.0",
      "model_name": "LayoutModel",
      "state": {}
     },
     "14646379d9014f49a72d8b49a1aa2d9f": {
      "model_module": "@jupyter-widgets/base",
      "model_module_version": "1.2.0",
      "model_name": "LayoutModel",
      "state": {}
     },
     "1726660c819f41fbaea0a09e0329366f": {
      "model_module": "jupyter-matplotlib",
      "model_module_version": "^0.8.3",
      "model_name": "ToolbarModel",
      "state": {
       "layout": "IPY_MODEL_406b1ad25bbf484e8b3440b2676059d5",
       "toolitems": [
        [
         "Home",
         "Reset original view",
         "home",
         "home"
        ],
        [
         "Back",
         "Back to previous view",
         "arrow-left",
         "back"
        ],
        [
         "Forward",
         "Forward to next view",
         "arrow-right",
         "forward"
        ],
        [
         "Pan",
         "Left button pans, Right button zooms\nx/y fixes axis, CTRL fixes aspect",
         "arrows",
         "pan"
        ],
        [
         "Zoom",
         "Zoom to rectangle\nx/y fixes axis, CTRL fixes aspect",
         "square-o",
         "zoom"
        ],
        [
         "Download",
         "Download plot",
         "floppy-o",
         "save_figure"
        ]
       ]
      }
     },
     "188f1eee53b44123b827ab50202b4598": {
      "model_module": "@jupyter-widgets/base",
      "model_module_version": "1.2.0",
      "model_name": "LayoutModel",
      "state": {}
     },
     "18fb243c20c84d19b4f5d3f105c747cb": {
      "model_module": "@jupyter-widgets/base",
      "model_module_version": "1.2.0",
      "model_name": "LayoutModel",
      "state": {}
     },
     "1d1d139602504223b2e68bc74c7333da": {
      "model_module": "@jupyter-widgets/base",
      "model_module_version": "1.2.0",
      "model_name": "LayoutModel",
      "state": {}
     },
     "25e677fc7dca47209be6fc43aa7ce847": {
      "model_module": "jupyter-matplotlib",
      "model_module_version": "^0.8.3",
      "model_name": "MPLCanvasModel",
      "state": {
       "_cursor": "default",
       "_figure_label": "Figure 9",
       "_height": 500,
       "_image_mode": "diff",
       "_width": 1500,
       "layout": "IPY_MODEL_50b3a9b7929d437585a0672d6d98daf1",
       "toolbar": "IPY_MODEL_ae9502395f064808ac9a39e5ffe7f725",
       "toolbar_position": "left"
      }
     },
     "26dc5e0e0d3f458fab29b55337b79b26": {
      "model_module": "jupyter-matplotlib",
      "model_module_version": "^0.8.3",
      "model_name": "ToolbarModel",
      "state": {
       "layout": "IPY_MODEL_0447842c445e49adb0095e52fca9f48f",
       "toolitems": [
        [
         "Home",
         "Reset original view",
         "home",
         "home"
        ],
        [
         "Back",
         "Back to previous view",
         "arrow-left",
         "back"
        ],
        [
         "Forward",
         "Forward to next view",
         "arrow-right",
         "forward"
        ],
        [
         "Pan",
         "Left button pans, Right button zooms\nx/y fixes axis, CTRL fixes aspect",
         "arrows",
         "pan"
        ],
        [
         "Zoom",
         "Zoom to rectangle\nx/y fixes axis, CTRL fixes aspect",
         "square-o",
         "zoom"
        ],
        [
         "Download",
         "Download plot",
         "floppy-o",
         "save_figure"
        ]
       ]
      }
     },
     "29fe521539784b398dccbcd67aac0fcd": {
      "model_module": "jupyter-matplotlib",
      "model_module_version": "^0.8.3",
      "model_name": "MPLCanvasModel",
      "state": {
       "_cursor": "default",
       "_figure_label": "Figure 10",
       "_height": 500,
       "_image_mode": "diff",
       "_width": 1500,
       "layout": "IPY_MODEL_b74778a08b2b41188a6c08f7a76ba657",
       "toolbar": "IPY_MODEL_6d3f19fdb34d473684508a38cc0c29ed",
       "toolbar_position": "left"
      }
     },
     "2e24d39fdd26406cbb22308a1e3d2be9": {
      "model_module": "jupyter-matplotlib",
      "model_module_version": "^0.8.3",
      "model_name": "MPLCanvasModel",
      "state": {
       "_cursor": "default",
       "_figure_label": "Figure 2",
       "_height": 500,
       "_image_mode": "diff",
       "_width": 1500,
       "layout": "IPY_MODEL_09b1d8a2f6fb4024b4eaea3286fcc1bb",
       "toolbar": "IPY_MODEL_cbeb858e4dea403e90b669d9826113e9",
       "toolbar_position": "left"
      }
     },
     "31bfa8d84a8047a1b0ad21c9c14ce4f8": {
      "model_module": "jupyter-matplotlib",
      "model_module_version": "^0.8.3",
      "model_name": "ToolbarModel",
      "state": {
       "layout": "IPY_MODEL_188f1eee53b44123b827ab50202b4598",
       "toolitems": [
        [
         "Home",
         "Reset original view",
         "home",
         "home"
        ],
        [
         "Back",
         "Back to previous view",
         "arrow-left",
         "back"
        ],
        [
         "Forward",
         "Forward to next view",
         "arrow-right",
         "forward"
        ],
        [
         "Pan",
         "Left button pans, Right button zooms\nx/y fixes axis, CTRL fixes aspect",
         "arrows",
         "pan"
        ],
        [
         "Zoom",
         "Zoom to rectangle\nx/y fixes axis, CTRL fixes aspect",
         "square-o",
         "zoom"
        ],
        [
         "Download",
         "Download plot",
         "floppy-o",
         "save_figure"
        ]
       ]
      }
     },
     "352f2b91122444568b15953f6cafd767": {
      "model_module": "jupyter-matplotlib",
      "model_module_version": "^0.8.3",
      "model_name": "ToolbarModel",
      "state": {
       "layout": "IPY_MODEL_720641a9807a4f04b03e92f0df551a3e",
       "toolitems": [
        [
         "Home",
         "Reset original view",
         "home",
         "home"
        ],
        [
         "Back",
         "Back to previous view",
         "arrow-left",
         "back"
        ],
        [
         "Forward",
         "Forward to next view",
         "arrow-right",
         "forward"
        ],
        [
         "Pan",
         "Left button pans, Right button zooms\nx/y fixes axis, CTRL fixes aspect",
         "arrows",
         "pan"
        ],
        [
         "Zoom",
         "Zoom to rectangle\nx/y fixes axis, CTRL fixes aspect",
         "square-o",
         "zoom"
        ],
        [
         "Download",
         "Download plot",
         "floppy-o",
         "save_figure"
        ]
       ]
      }
     },
     "38fc729094174e1aa9d790318c70d43b": {
      "model_module": "jupyter-matplotlib",
      "model_module_version": "^0.8.3",
      "model_name": "ToolbarModel",
      "state": {
       "layout": "IPY_MODEL_86e5b506b5d04e0faa7bb248b3ce177a",
       "toolitems": [
        [
         "Home",
         "Reset original view",
         "home",
         "home"
        ],
        [
         "Back",
         "Back to previous view",
         "arrow-left",
         "back"
        ],
        [
         "Forward",
         "Forward to next view",
         "arrow-right",
         "forward"
        ],
        [
         "Pan",
         "Left button pans, Right button zooms\nx/y fixes axis, CTRL fixes aspect",
         "arrows",
         "pan"
        ],
        [
         "Zoom",
         "Zoom to rectangle\nx/y fixes axis, CTRL fixes aspect",
         "square-o",
         "zoom"
        ],
        [
         "Download",
         "Download plot",
         "floppy-o",
         "save_figure"
        ]
       ]
      }
     },
     "3a7909c028484feaac1562996fa354f1": {
      "model_module": "jupyter-matplotlib",
      "model_module_version": "^0.8.3",
      "model_name": "ToolbarModel",
      "state": {
       "layout": "IPY_MODEL_747d8cfad2ed4c81acc3fdcf1c5e6b7c",
       "toolitems": [
        [
         "Home",
         "Reset original view",
         "home",
         "home"
        ],
        [
         "Back",
         "Back to previous view",
         "arrow-left",
         "back"
        ],
        [
         "Forward",
         "Forward to next view",
         "arrow-right",
         "forward"
        ],
        [
         "Pan",
         "Left button pans, Right button zooms\nx/y fixes axis, CTRL fixes aspect",
         "arrows",
         "pan"
        ],
        [
         "Zoom",
         "Zoom to rectangle\nx/y fixes axis, CTRL fixes aspect",
         "square-o",
         "zoom"
        ],
        [
         "Download",
         "Download plot",
         "floppy-o",
         "save_figure"
        ]
       ]
      }
     },
     "3bfb909e658a4922ab3f482a582d0def": {
      "model_module": "jupyter-matplotlib",
      "model_module_version": "^0.8.3",
      "model_name": "MPLCanvasModel",
      "state": {
       "_cursor": "default",
       "_figure_label": "Figure 12",
       "_height": 500,
       "_image_mode": "diff",
       "_message": "x=01:59:17 y=9.31",
       "_width": 1500,
       "layout": "IPY_MODEL_1d1d139602504223b2e68bc74c7333da",
       "toolbar": "IPY_MODEL_1726660c819f41fbaea0a09e0329366f",
       "toolbar_position": "left"
      }
     },
     "3f9b4f6487cd41029b671372fdd82e11": {
      "model_module": "jupyter-matplotlib",
      "model_module_version": "^0.8.3",
      "model_name": "ToolbarModel",
      "state": {
       "layout": "IPY_MODEL_5e67cbfd4f1b451aa42a200c656791e3",
       "toolitems": [
        [
         "Home",
         "Reset original view",
         "home",
         "home"
        ],
        [
         "Back",
         "Back to previous view",
         "arrow-left",
         "back"
        ],
        [
         "Forward",
         "Forward to next view",
         "arrow-right",
         "forward"
        ],
        [
         "Pan",
         "Left button pans, Right button zooms\nx/y fixes axis, CTRL fixes aspect",
         "arrows",
         "pan"
        ],
        [
         "Zoom",
         "Zoom to rectangle\nx/y fixes axis, CTRL fixes aspect",
         "square-o",
         "zoom"
        ],
        [
         "Download",
         "Download plot",
         "floppy-o",
         "save_figure"
        ]
       ]
      }
     },
     "406b1ad25bbf484e8b3440b2676059d5": {
      "model_module": "@jupyter-widgets/base",
      "model_module_version": "1.2.0",
      "model_name": "LayoutModel",
      "state": {}
     },
     "4298ae8834bc4e898a7cbd01275824ad": {
      "model_module": "@jupyter-widgets/base",
      "model_module_version": "1.2.0",
      "model_name": "LayoutModel",
      "state": {}
     },
     "50b3a9b7929d437585a0672d6d98daf1": {
      "model_module": "@jupyter-widgets/base",
      "model_module_version": "1.2.0",
      "model_name": "LayoutModel",
      "state": {}
     },
     "5ace2a1ab3a2461ea791876a3aa6876b": {
      "model_module": "@jupyter-widgets/base",
      "model_module_version": "1.2.0",
      "model_name": "LayoutModel",
      "state": {}
     },
     "5e5e8513a71040f6824d4ac0ff720162": {
      "model_module": "@jupyter-widgets/base",
      "model_module_version": "1.2.0",
      "model_name": "LayoutModel",
      "state": {}
     },
     "5e67cbfd4f1b451aa42a200c656791e3": {
      "model_module": "@jupyter-widgets/base",
      "model_module_version": "1.2.0",
      "model_name": "LayoutModel",
      "state": {}
     },
     "5f935ec301fd4f3f9a68adec9d4fd8e5": {
      "model_module": "jupyter-matplotlib",
      "model_module_version": "^0.8.3",
      "model_name": "ToolbarModel",
      "state": {
       "layout": "IPY_MODEL_18fb243c20c84d19b4f5d3f105c747cb",
       "toolitems": [
        [
         "Home",
         "Reset original view",
         "home",
         "home"
        ],
        [
         "Back",
         "Back to previous view",
         "arrow-left",
         "back"
        ],
        [
         "Forward",
         "Forward to next view",
         "arrow-right",
         "forward"
        ],
        [
         "Pan",
         "Left button pans, Right button zooms\nx/y fixes axis, CTRL fixes aspect",
         "arrows",
         "pan"
        ],
        [
         "Zoom",
         "Zoom to rectangle\nx/y fixes axis, CTRL fixes aspect",
         "square-o",
         "zoom"
        ],
        [
         "Download",
         "Download plot",
         "floppy-o",
         "save_figure"
        ]
       ]
      }
     },
     "64f4796f224548189d57656b45dea030": {
      "model_module": "jupyter-matplotlib",
      "model_module_version": "^0.8.3",
      "model_name": "MPLCanvasModel",
      "state": {
       "_cursor": "default",
       "_figure_label": "Figure 11",
       "_height": 500,
       "_image_mode": "diff",
       "_message": "x=01:59:02 y=",
       "_width": 1500,
       "layout": "IPY_MODEL_789db58b02b04fa6b7503983d1e0e8f6",
       "toolbar": "IPY_MODEL_26dc5e0e0d3f458fab29b55337b79b26",
       "toolbar_position": "left"
      }
     },
     "65f14db70cac428b8e8d7bafb2c6e91e": {
      "model_module": "jupyter-matplotlib",
      "model_module_version": "^0.8.3",
      "model_name": "MPLCanvasModel",
      "state": {
       "_cursor": "default",
       "_figure_label": "Figure 3",
       "_height": 500,
       "_image_mode": "diff",
       "_message": "x=01:58:55 y=3.87",
       "_width": 1500,
       "layout": "IPY_MODEL_fe87b3205eec4c4ea8d5fd1a7b56f960",
       "toolbar": "IPY_MODEL_b5774bd74f36422eb62d4cbf8629e0ee",
       "toolbar_position": "left"
      }
     },
     "6d3f19fdb34d473684508a38cc0c29ed": {
      "model_module": "jupyter-matplotlib",
      "model_module_version": "^0.8.3",
      "model_name": "ToolbarModel",
      "state": {
       "layout": "IPY_MODEL_4298ae8834bc4e898a7cbd01275824ad",
       "toolitems": [
        [
         "Home",
         "Reset original view",
         "home",
         "home"
        ],
        [
         "Back",
         "Back to previous view",
         "arrow-left",
         "back"
        ],
        [
         "Forward",
         "Forward to next view",
         "arrow-right",
         "forward"
        ],
        [
         "Pan",
         "Left button pans, Right button zooms\nx/y fixes axis, CTRL fixes aspect",
         "arrows",
         "pan"
        ],
        [
         "Zoom",
         "Zoom to rectangle\nx/y fixes axis, CTRL fixes aspect",
         "square-o",
         "zoom"
        ],
        [
         "Download",
         "Download plot",
         "floppy-o",
         "save_figure"
        ]
       ]
      }
     },
     "720641a9807a4f04b03e92f0df551a3e": {
      "model_module": "@jupyter-widgets/base",
      "model_module_version": "1.2.0",
      "model_name": "LayoutModel",
      "state": {}
     },
     "747d8cfad2ed4c81acc3fdcf1c5e6b7c": {
      "model_module": "@jupyter-widgets/base",
      "model_module_version": "1.2.0",
      "model_name": "LayoutModel",
      "state": {}
     },
     "789db58b02b04fa6b7503983d1e0e8f6": {
      "model_module": "@jupyter-widgets/base",
      "model_module_version": "1.2.0",
      "model_name": "LayoutModel",
      "state": {}
     },
     "7e1f962377af4006a94c04ba38ca4bd2": {
      "model_module": "jupyter-matplotlib",
      "model_module_version": "^0.8.3",
      "model_name": "MPLCanvasModel",
      "state": {
       "_cursor": "default",
       "_figure_label": "Figure 15",
       "_height": 500,
       "_image_mode": "diff",
       "_message": "x=01:58:26 y=5.e+01",
       "_width": 1500,
       "layout": "IPY_MODEL_d73b2699cb454777957180c93bb5d18a",
       "toolbar": "IPY_MODEL_352f2b91122444568b15953f6cafd767",
       "toolbar_position": "left"
      }
     },
     "86e5b506b5d04e0faa7bb248b3ce177a": {
      "model_module": "@jupyter-widgets/base",
      "model_module_version": "1.2.0",
      "model_name": "LayoutModel",
      "state": {}
     },
     "8aa561d5622f455aacf6c334c18f787a": {
      "model_module": "@jupyter-widgets/base",
      "model_module_version": "1.2.0",
      "model_name": "LayoutModel",
      "state": {}
     },
     "95134be367ac473f8ae7a51d0a317267": {
      "model_module": "@jupyter-widgets/base",
      "model_module_version": "1.2.0",
      "model_name": "LayoutModel",
      "state": {}
     },
     "9899f5eafc9648caaca5f0c1e8cbb630": {
      "model_module": "jupyter-matplotlib",
      "model_module_version": "^0.8.3",
      "model_name": "ToolbarModel",
      "state": {
       "layout": "IPY_MODEL_9b44992e77674dc4961354e878dff8a8",
       "toolitems": [
        [
         "Home",
         "Reset original view",
         "home",
         "home"
        ],
        [
         "Back",
         "Back to previous view",
         "arrow-left",
         "back"
        ],
        [
         "Forward",
         "Forward to next view",
         "arrow-right",
         "forward"
        ],
        [
         "Pan",
         "Left button pans, Right button zooms\nx/y fixes axis, CTRL fixes aspect",
         "arrows",
         "pan"
        ],
        [
         "Zoom",
         "Zoom to rectangle\nx/y fixes axis, CTRL fixes aspect",
         "square-o",
         "zoom"
        ],
        [
         "Download",
         "Download plot",
         "floppy-o",
         "save_figure"
        ]
       ]
      }
     },
     "9b44992e77674dc4961354e878dff8a8": {
      "model_module": "@jupyter-widgets/base",
      "model_module_version": "1.2.0",
      "model_name": "LayoutModel",
      "state": {}
     },
     "9f3f8b405b654ee6ac34334b998a2e59": {
      "model_module": "@jupyter-widgets/base",
      "model_module_version": "1.2.0",
      "model_name": "LayoutModel",
      "state": {}
     },
     "a2e61f914f984d6e8c1fef7fbaa6d5d8": {
      "model_module": "@jupyter-widgets/base",
      "model_module_version": "1.2.0",
      "model_name": "LayoutModel",
      "state": {}
     },
     "a705e209657748ed9a625f953429e31e": {
      "model_module": "@jupyter-widgets/base",
      "model_module_version": "1.2.0",
      "model_name": "LayoutModel",
      "state": {}
     },
     "ae9502395f064808ac9a39e5ffe7f725": {
      "model_module": "jupyter-matplotlib",
      "model_module_version": "^0.8.3",
      "model_name": "ToolbarModel",
      "state": {
       "layout": "IPY_MODEL_9f3f8b405b654ee6ac34334b998a2e59",
       "toolitems": [
        [
         "Home",
         "Reset original view",
         "home",
         "home"
        ],
        [
         "Back",
         "Back to previous view",
         "arrow-left",
         "back"
        ],
        [
         "Forward",
         "Forward to next view",
         "arrow-right",
         "forward"
        ],
        [
         "Pan",
         "Left button pans, Right button zooms\nx/y fixes axis, CTRL fixes aspect",
         "arrows",
         "pan"
        ],
        [
         "Zoom",
         "Zoom to rectangle\nx/y fixes axis, CTRL fixes aspect",
         "square-o",
         "zoom"
        ],
        [
         "Download",
         "Download plot",
         "floppy-o",
         "save_figure"
        ]
       ]
      }
     },
     "b45ab6e50906493d9b7b6759aa05288a": {
      "model_module": "@jupyter-widgets/base",
      "model_module_version": "1.2.0",
      "model_name": "LayoutModel",
      "state": {}
     },
     "b5774bd74f36422eb62d4cbf8629e0ee": {
      "model_module": "jupyter-matplotlib",
      "model_module_version": "^0.8.3",
      "model_name": "ToolbarModel",
      "state": {
       "layout": "IPY_MODEL_ed97062e772744b19795b16fcaaf5ace",
       "toolitems": [
        [
         "Home",
         "Reset original view",
         "home",
         "home"
        ],
        [
         "Back",
         "Back to previous view",
         "arrow-left",
         "back"
        ],
        [
         "Forward",
         "Forward to next view",
         "arrow-right",
         "forward"
        ],
        [
         "Pan",
         "Left button pans, Right button zooms\nx/y fixes axis, CTRL fixes aspect",
         "arrows",
         "pan"
        ],
        [
         "Zoom",
         "Zoom to rectangle\nx/y fixes axis, CTRL fixes aspect",
         "square-o",
         "zoom"
        ],
        [
         "Download",
         "Download plot",
         "floppy-o",
         "save_figure"
        ]
       ]
      }
     },
     "b74778a08b2b41188a6c08f7a76ba657": {
      "model_module": "@jupyter-widgets/base",
      "model_module_version": "1.2.0",
      "model_name": "LayoutModel",
      "state": {}
     },
     "b8163f339983477da14a1bc97f289604": {
      "model_module": "@jupyter-widgets/base",
      "model_module_version": "1.2.0",
      "model_name": "LayoutModel",
      "state": {}
     },
     "c2eac638701741619edd638245aaac6e": {
      "model_module": "jupyter-matplotlib",
      "model_module_version": "^0.8.3",
      "model_name": "MPLCanvasModel",
      "state": {
       "_cursor": "default",
       "_figure_label": "Figure 6",
       "_height": 500,
       "_width": 1500,
       "layout": "IPY_MODEL_14646379d9014f49a72d8b49a1aa2d9f",
       "toolbar": "IPY_MODEL_f12d298dbf5a408992fc62f1c10d1cee",
       "toolbar_position": "left"
      }
     },
     "c8a34086359c4b78a13b8e9a4b7a2851": {
      "model_module": "jupyter-matplotlib",
      "model_module_version": "^0.8.3",
      "model_name": "MPLCanvasModel",
      "state": {
       "_cursor": "default",
       "_figure_label": "Figure 7",
       "_height": 500,
       "_width": 1500,
       "layout": "IPY_MODEL_d3a54dd2451f42f8a52b71928624626d",
       "toolbar": "IPY_MODEL_5f935ec301fd4f3f9a68adec9d4fd8e5",
       "toolbar_position": "left"
      }
     },
     "cb04c47111f34f9fa3922898b60ab4bf": {
      "model_module": "jupyter-matplotlib",
      "model_module_version": "^0.8.3",
      "model_name": "MPLCanvasModel",
      "state": {
       "_cursor": "default",
       "_figure_label": "Figure 8",
       "_height": 500,
       "_image_mode": "diff",
       "_width": 1500,
       "layout": "IPY_MODEL_5e5e8513a71040f6824d4ac0ff720162",
       "toolbar": "IPY_MODEL_9899f5eafc9648caaca5f0c1e8cbb630",
       "toolbar_position": "left"
      }
     },
     "cbeb858e4dea403e90b669d9826113e9": {
      "model_module": "jupyter-matplotlib",
      "model_module_version": "^0.8.3",
      "model_name": "ToolbarModel",
      "state": {
       "layout": "IPY_MODEL_5ace2a1ab3a2461ea791876a3aa6876b",
       "toolitems": [
        [
         "Home",
         "Reset original view",
         "home",
         "home"
        ],
        [
         "Back",
         "Back to previous view",
         "arrow-left",
         "back"
        ],
        [
         "Forward",
         "Forward to next view",
         "arrow-right",
         "forward"
        ],
        [
         "Pan",
         "Left button pans, Right button zooms\nx/y fixes axis, CTRL fixes aspect",
         "arrows",
         "pan"
        ],
        [
         "Zoom",
         "Zoom to rectangle\nx/y fixes axis, CTRL fixes aspect",
         "square-o",
         "zoom"
        ],
        [
         "Download",
         "Download plot",
         "floppy-o",
         "save_figure"
        ]
       ]
      }
     },
     "cc98378e9b5742c082c014325af49ec3": {
      "model_module": "jupyter-matplotlib",
      "model_module_version": "^0.8.3",
      "model_name": "ToolbarModel",
      "state": {
       "layout": "IPY_MODEL_8aa561d5622f455aacf6c334c18f787a",
       "toolitems": [
        [
         "Home",
         "Reset original view",
         "home",
         "home"
        ],
        [
         "Back",
         "Back to previous view",
         "arrow-left",
         "back"
        ],
        [
         "Forward",
         "Forward to next view",
         "arrow-right",
         "forward"
        ],
        [
         "Pan",
         "Left button pans, Right button zooms\nx/y fixes axis, CTRL fixes aspect",
         "arrows",
         "pan"
        ],
        [
         "Zoom",
         "Zoom to rectangle\nx/y fixes axis, CTRL fixes aspect",
         "square-o",
         "zoom"
        ],
        [
         "Download",
         "Download plot",
         "floppy-o",
         "save_figure"
        ]
       ]
      }
     },
     "d12d0c3c867a44c18644843173495b3c": {
      "model_module": "jupyter-matplotlib",
      "model_module_version": "^0.8.3",
      "model_name": "MPLCanvasModel",
      "state": {
       "_cursor": "default",
       "_figure_label": "Figure 14",
       "_height": 500,
       "_image_mode": "diff",
       "_message": "x=01:58:11 y=4.50",
       "_rubberband_y": 500,
       "_width": 1500,
       "layout": "IPY_MODEL_b8163f339983477da14a1bc97f289604",
       "toolbar": "IPY_MODEL_31bfa8d84a8047a1b0ad21c9c14ce4f8",
       "toolbar_position": "left"
      }
     },
     "d394e958162d417aaaa0d07075f26bb0": {
      "model_module": "jupyter-matplotlib",
      "model_module_version": "^0.8.3",
      "model_name": "MPLCanvasModel",
      "state": {
       "_cursor": "default",
       "_figure_label": "Figure 4",
       "_height": 500,
       "_image_mode": "diff",
       "_width": 1500,
       "layout": "IPY_MODEL_a705e209657748ed9a625f953429e31e",
       "toolbar": "IPY_MODEL_38fc729094174e1aa9d790318c70d43b",
       "toolbar_position": "left"
      }
     },
     "d3a54dd2451f42f8a52b71928624626d": {
      "model_module": "@jupyter-widgets/base",
      "model_module_version": "1.2.0",
      "model_name": "LayoutModel",
      "state": {}
     },
     "d73b2699cb454777957180c93bb5d18a": {
      "model_module": "@jupyter-widgets/base",
      "model_module_version": "1.2.0",
      "model_name": "LayoutModel",
      "state": {}
     },
     "e419fec60cc4420dab6c1bc85c9884ae": {
      "model_module": "jupyter-matplotlib",
      "model_module_version": "^0.8.3",
      "model_name": "MPLCanvasModel",
      "state": {
       "_cursor": "default",
       "_figure_label": "Figure 13",
       "_height": 500,
       "_image_mode": "diff",
       "_message": "x=01:59:44 y=11.5",
       "_width": 1500,
       "layout": "IPY_MODEL_a2e61f914f984d6e8c1fef7fbaa6d5d8",
       "toolbar": "IPY_MODEL_cc98378e9b5742c082c014325af49ec3",
       "toolbar_position": "left"
      }
     },
     "ed97062e772744b19795b16fcaaf5ace": {
      "model_module": "@jupyter-widgets/base",
      "model_module_version": "1.2.0",
      "model_name": "LayoutModel",
      "state": {}
     },
     "f12d298dbf5a408992fc62f1c10d1cee": {
      "model_module": "jupyter-matplotlib",
      "model_module_version": "^0.8.3",
      "model_name": "ToolbarModel",
      "state": {
       "layout": "IPY_MODEL_fc24c93eca8a432c88c3d0707f602fbf",
       "toolitems": [
        [
         "Home",
         "Reset original view",
         "home",
         "home"
        ],
        [
         "Back",
         "Back to previous view",
         "arrow-left",
         "back"
        ],
        [
         "Forward",
         "Forward to next view",
         "arrow-right",
         "forward"
        ],
        [
         "Pan",
         "Left button pans, Right button zooms\nx/y fixes axis, CTRL fixes aspect",
         "arrows",
         "pan"
        ],
        [
         "Zoom",
         "Zoom to rectangle\nx/y fixes axis, CTRL fixes aspect",
         "square-o",
         "zoom"
        ],
        [
         "Download",
         "Download plot",
         "floppy-o",
         "save_figure"
        ]
       ]
      }
     },
     "f2c7734ed37c42e0951c159b15c6a91d": {
      "model_module": "jupyter-matplotlib",
      "model_module_version": "^0.8.3",
      "model_name": "MPLCanvasModel",
      "state": {
       "_cursor": "default",
       "_figure_label": "Figure 5",
       "_height": 500,
       "_message": "x=0.0205 y=0.390",
       "_width": 1500,
       "layout": "IPY_MODEL_95134be367ac473f8ae7a51d0a317267",
       "toolbar": "IPY_MODEL_3a7909c028484feaac1562996fa354f1",
       "toolbar_position": "left"
      }
     },
     "fc24c93eca8a432c88c3d0707f602fbf": {
      "model_module": "@jupyter-widgets/base",
      "model_module_version": "1.2.0",
      "model_name": "LayoutModel",
      "state": {}
     },
     "fe87b3205eec4c4ea8d5fd1a7b56f960": {
      "model_module": "@jupyter-widgets/base",
      "model_module_version": "1.2.0",
      "model_name": "LayoutModel",
      "state": {}
     }
    },
    "version_major": 2,
    "version_minor": 0
   }
  }
 },
 "nbformat": 4,
 "nbformat_minor": 4
}
