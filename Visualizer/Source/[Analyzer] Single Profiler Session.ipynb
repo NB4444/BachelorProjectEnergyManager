{
 "cells": [
  {
   "cell_type": "code",
   "execution_count": 1,
   "metadata": {
    "pycharm": {
     "name": "#%%\n"
    }
   },
   "outputs": [],
   "source": [
    "%matplotlib widget\n",
    "\n",
    "import os\n",
    "import pathlib\n",
    "import pprint\n",
    "\n",
    "from Visualizer.DataSet import DataSet\n",
    "from Visualizer.Monitoring.Persistence.ProfilerSession import ProfilerSession\n",
    "from Visualizer.Plotting.Plot import Plot"
   ]
  },
  {
   "cell_type": "markdown",
   "metadata": {},
   "source": [
    "# [Analyzer] Single Profiler Session\n",
    "\n",
    "This notebook can visualize a specific profiler session."
   ]
  },
  {
   "cell_type": "markdown",
   "metadata": {},
   "source": [
    "## Configuration\n",
    "\n",
    "Configure the project settings below.\n",
    "The default configuration should be okay.\n",
    "Make sure that you have run at least one profiler session with the EnergyManager and have generated a database, otherwise this notebook will fail."
   ]
  },
  {
   "cell_type": "code",
   "execution_count": 2,
   "metadata": {
    "pycharm": {
     "name": "#%%\n"
    }
   },
   "outputs": [],
   "source": [
    "source_directory = pathlib.Path().parent.absolute()\n",
    "project_directory = f\"{source_directory}/..\"\n",
    "root_directory = f\"{project_directory}/..\"\n",
    "resources_directory = f\"{root_directory}/Resources\"\n",
    "database = f\"{resources_directory}/Database.sqlite\"\n",
    "\n",
    "# Load all profiler sessions\n",
    "complete_data_set = DataSet(ProfilerSession.load_all(database))"
   ]
  },
  {
   "cell_type": "markdown",
   "metadata": {},
   "source": [
    "### Profiler Sessions Overview\n",
    "\n",
    "Below all profiler sessions are shown."
   ]
  },
  {
   "cell_type": "code",
   "execution_count": 3,
   "metadata": {
    "pycharm": {
     "name": "#%%\n"
    }
   },
   "outputs": [
    {
     "data": {
      "text/html": [
       "<div>\n",
       "<style scoped>\n",
       "    .dataframe tbody tr th:only-of-type {\n",
       "        vertical-align: middle;\n",
       "    }\n",
       "\n",
       "    .dataframe tbody tr th {\n",
       "        vertical-align: top;\n",
       "    }\n",
       "\n",
       "    .dataframe thead th {\n",
       "        text-align: right;\n",
       "    }\n",
       "</style>\n",
       "<table border=\"1\" class=\"dataframe\">\n",
       "  <thead>\n",
       "    <tr style=\"text-align: right;\">\n",
       "      <th></th>\n",
       "      <th>ID</th>\n",
       "      <th>Label</th>\n",
       "      <th>Profile</th>\n",
       "    </tr>\n",
       "  </thead>\n",
       "  <tbody>\n",
       "    <tr>\n",
       "      <th>0</th>\n",
       "      <td>1</td>\n",
       "      <td>MyocyteProfiler</td>\n",
       "      <td>{'iterations': 30, 'method': 0, 'n': 1, 'time': 100}</td>\n",
       "    </tr>\n",
       "    <tr>\n",
       "      <th>1</th>\n",
       "      <td>2</td>\n",
       "      <td>MyocyteProfiler</td>\n",
       "      <td>{'iterations': 1, 'method': 0, 'n': 1, 'time': 100}</td>\n",
       "    </tr>\n",
       "    <tr>\n",
       "      <th>2</th>\n",
       "      <td>3</td>\n",
       "      <td>Matrix Multiply</td>\n",
       "      <td>{'core': 0, 'gpu': 0, 'iterations': 50, 'matrixAHeight': 1536, 'matrixAWidth': 1536, 'matrixBHeight': 1536, 'matrixBWidth': 1536}</td>\n",
       "    </tr>\n",
       "    <tr>\n",
       "      <th>3</th>\n",
       "      <td>4</td>\n",
       "      <td>Matrix Multiply (EnergyMonitor MinMax)</td>\n",
       "      <td>{'core': 0, 'gpu': 0, 'iterations': 50, 'matrixAHeight': 1536, 'matrixAWidth': 1536, 'matrixBHeight': 1536, 'matrixBWidth': 1536, 'maximumCPUClockRate': 3600000000.0}</td>\n",
       "    </tr>\n",
       "    <tr>\n",
       "      <th>4</th>\n",
       "      <td>5</td>\n",
       "      <td>Matrix Multiply (EnergyMonitor System)</td>\n",
       "      <td>{'core': 0, 'gpu': 0, 'iterations': 50, 'matrixAHeight': 1536, 'matrixAWidth': 1536, 'matrixBHeight': 1536, 'matrixBWidth': 1536, 'maximumCPUClockRate': 3600000000.0}</td>\n",
       "    </tr>\n",
       "    <tr>\n",
       "      <th>5</th>\n",
       "      <td>6</td>\n",
       "      <td>KMeans</td>\n",
       "      <td>{'core': 0, 'file': '/applications/rodinia/data/kmeans/kdd_cup', 'gpu': 0, 'iterations': 20}</td>\n",
       "    </tr>\n",
       "    <tr>\n",
       "      <th>6</th>\n",
       "      <td>7</td>\n",
       "      <td>BFSProfiler</td>\n",
       "      <td>{'core': 0, 'file': '/applications/rodinia/data/bfs/graph1MW_6.txt', 'gpu': 0, 'iterations': 50}</td>\n",
       "    </tr>\n",
       "    <tr>\n",
       "      <th>7</th>\n",
       "      <td>8</td>\n",
       "      <td>BFSProfiler (EnergyMonitor MinMax)</td>\n",
       "      <td>{'core': 0, 'file': '/applications/rodinia/data/bfs/graph1MW_6.txt', 'gpu': 0, 'iterations': 50}</td>\n",
       "    </tr>\n",
       "    <tr>\n",
       "      <th>8</th>\n",
       "      <td>9</td>\n",
       "      <td>BFSProfiler (EnergyMonitor System)</td>\n",
       "      <td>{'core': 0, 'file': '/applications/rodinia/data/bfs/graph1MW_6.txt', 'gpu': 0, 'iterations': 50}</td>\n",
       "    </tr>\n",
       "    <tr>\n",
       "      <th>9</th>\n",
       "      <td>10</td>\n",
       "      <td>KMeans</td>\n",
       "      <td>{'core': 0, 'file': '/applications/rodinia/data/kmeans/kdd_cup', 'gpu': 0, 'iterations': 50}</td>\n",
       "    </tr>\n",
       "    <tr>\n",
       "      <th>10</th>\n",
       "      <td>11</td>\n",
       "      <td>KMeans (EnergyMonitor MinMax)</td>\n",
       "      <td>{'core': 0, 'file': '/applications/rodinia/data/kmeans/kdd_cup', 'gpu': 0, 'iterations': 50}</td>\n",
       "    </tr>\n",
       "    <tr>\n",
       "      <th>11</th>\n",
       "      <td>12</td>\n",
       "      <td>KMeans (EnergyMonitor System)</td>\n",
       "      <td>{'core': 0, 'file': '/applications/rodinia/data/kmeans/kdd_cup', 'gpu': 0, 'iterations': 50}</td>\n",
       "    </tr>\n",
       "    <tr>\n",
       "      <th>12</th>\n",
       "      <td>13</td>\n",
       "      <td>Matrix Multiply</td>\n",
       "      <td>{'core': 0, 'gpu': 0, 'iterations': 50, 'matrixAHeight': 1536, 'matrixAWidth': 1536, 'matrixBHeight': 1536, 'matrixBWidth': 1536}</td>\n",
       "    </tr>\n",
       "    <tr>\n",
       "      <th>13</th>\n",
       "      <td>14</td>\n",
       "      <td>Matrix Multiply (EnergyMonitor MinMax)</td>\n",
       "      <td>{'core': 0, 'gpu': 0, 'iterations': 50, 'matrixAHeight': 1536, 'matrixAWidth': 1536, 'matrixBHeight': 1536, 'matrixBWidth': 1536}</td>\n",
       "    </tr>\n",
       "    <tr>\n",
       "      <th>14</th>\n",
       "      <td>15</td>\n",
       "      <td>Matrix Multiply (EnergyMonitor System)</td>\n",
       "      <td>{'core': 0, 'gpu': 0, 'iterations': 50, 'matrixAHeight': 1536, 'matrixAWidth': 1536, 'matrixBHeight': 1536, 'matrixBWidth': 1536}</td>\n",
       "    </tr>\n",
       "    <tr>\n",
       "      <th>15</th>\n",
       "      <td>16</td>\n",
       "      <td>Matrix Multiply</td>\n",
       "      <td>{'core': 0, 'gpu': 0, 'iterations': 50, 'matrixAHeight': 1536, 'matrixAWidth': 1536, 'matrixBHeight': 1536, 'matrixBWidth': 1536}</td>\n",
       "    </tr>\n",
       "    <tr>\n",
       "      <th>16</th>\n",
       "      <td>17</td>\n",
       "      <td>Matrix Multiply (EnergyMonitor MinMax)</td>\n",
       "      <td>{'core': 0, 'gpu': 0, 'iterations': 50, 'matrixAHeight': 1536, 'matrixAWidth': 1536, 'matrixBHeight': 1536, 'matrixBWidth': 1536}</td>\n",
       "    </tr>\n",
       "    <tr>\n",
       "      <th>17</th>\n",
       "      <td>18</td>\n",
       "      <td>Matrix Multiply (EnergyMonitor System)</td>\n",
       "      <td>{'core': 0, 'gpu': 0, 'iterations': 50, 'matrixAHeight': 1536, 'matrixAWidth': 1536, 'matrixBHeight': 1536, 'matrixBWidth': 1536}</td>\n",
       "    </tr>\n",
       "    <tr>\n",
       "      <th>18</th>\n",
       "      <td>19</td>\n",
       "      <td>UnifiedMemoryPerfProfiler</td>\n",
       "      <td>{'iterations': 5}</td>\n",
       "    </tr>\n",
       "    <tr>\n",
       "      <th>19</th>\n",
       "      <td>20</td>\n",
       "      <td>UnifiedMemoryPerfProfiler (EnergyMonitor MinMax)</td>\n",
       "      <td>{'iterations': 5}</td>\n",
       "    </tr>\n",
       "    <tr>\n",
       "      <th>20</th>\n",
       "      <td>21</td>\n",
       "      <td>UnifiedMemoryPerfProfiler (EnergyMonitor System)</td>\n",
       "      <td>{'iterations': 5}</td>\n",
       "    </tr>\n",
       "    <tr>\n",
       "      <th>21</th>\n",
       "      <td>22</td>\n",
       "      <td>NWProfiler</td>\n",
       "      <td>{'iterations': 50, 'length': 2048, 'penalty': 10}</td>\n",
       "    </tr>\n",
       "    <tr>\n",
       "      <th>22</th>\n",
       "      <td>23</td>\n",
       "      <td>NWProfiler (EnergyMonitor MinMax)</td>\n",
       "      <td>{'iterations': 50, 'length': 2048, 'penalty': 10}</td>\n",
       "    </tr>\n",
       "    <tr>\n",
       "      <th>23</th>\n",
       "      <td>24</td>\n",
       "      <td>NWProfiler (EnergyMonitor System)</td>\n",
       "      <td>{'iterations': 50, 'length': 2048, 'penalty': 10}</td>\n",
       "    </tr>\n",
       "    <tr>\n",
       "      <th>24</th>\n",
       "      <td>25</td>\n",
       "      <td>NWProfiler</td>\n",
       "      <td>{'iterations': 50, 'length': 2048, 'penalty': 10}</td>\n",
       "    </tr>\n",
       "    <tr>\n",
       "      <th>25</th>\n",
       "      <td>26</td>\n",
       "      <td>NWProfiler (EnergyMonitor MinMax)</td>\n",
       "      <td>{'iterations': 50, 'length': 2048, 'penalty': 10}</td>\n",
       "    </tr>\n",
       "    <tr>\n",
       "      <th>26</th>\n",
       "      <td>27</td>\n",
       "      <td>NWProfiler (EnergyMonitor System)</td>\n",
       "      <td>{'iterations': 50, 'length': 2048, 'penalty': 10}</td>\n",
       "    </tr>\n",
       "    <tr>\n",
       "      <th>27</th>\n",
       "      <td>28</td>\n",
       "      <td>BandwidthProfiler</td>\n",
       "      <td>{'iterations': 50}</td>\n",
       "    </tr>\n",
       "    <tr>\n",
       "      <th>28</th>\n",
       "      <td>29</td>\n",
       "      <td>BandwidthProfiler (EnergyMonitor MinMax)</td>\n",
       "      <td>{'iterations': 50}</td>\n",
       "    </tr>\n",
       "    <tr>\n",
       "      <th>29</th>\n",
       "      <td>30</td>\n",
       "      <td>BandwidthProfiler (EnergyMonitor System)</td>\n",
       "      <td>{'iterations': 50}</td>\n",
       "    </tr>\n",
       "    <tr>\n",
       "      <th>30</th>\n",
       "      <td>31</td>\n",
       "      <td>BFSProfiler (EnergyMonitor MinMax)</td>\n",
       "      <td>{'core': 0, 'file': '/applications/rodinia/data/bfs/graph1MW_6.txt', 'gpu': 0, 'iterations': 50}</td>\n",
       "    </tr>\n",
       "    <tr>\n",
       "      <th>31</th>\n",
       "      <td>32</td>\n",
       "      <td>BFSProfiler</td>\n",
       "      <td>{'core': 0, 'file': '/applications/rodinia/data/bfs/graph1MW_6.txt', 'gpu': 0, 'iterations': 50}</td>\n",
       "    </tr>\n",
       "    <tr>\n",
       "      <th>32</th>\n",
       "      <td>33</td>\n",
       "      <td>BFSProfiler (EnergyMonitor System)</td>\n",
       "      <td>{'core': 0, 'file': '/applications/rodinia/data/bfs/graph1MW_6.txt', 'gpu': 0, 'iterations': 50}</td>\n",
       "    </tr>\n",
       "    <tr>\n",
       "      <th>33</th>\n",
       "      <td>34</td>\n",
       "      <td>BFSProfiler</td>\n",
       "      <td>{'core': 0, 'file': '/applications/rodinia/data/bfs/graph1MW_6.txt', 'gpu': 0, 'iterations': 50}</td>\n",
       "    </tr>\n",
       "    <tr>\n",
       "      <th>34</th>\n",
       "      <td>35</td>\n",
       "      <td>BFSProfiler (EnergyMonitor MinMax)</td>\n",
       "      <td>{'core': 0, 'file': '/applications/rodinia/data/bfs/graph1MW_6.txt', 'gpu': 0, 'iterations': 50}</td>\n",
       "    </tr>\n",
       "    <tr>\n",
       "      <th>35</th>\n",
       "      <td>36</td>\n",
       "      <td>BFSProfiler (EnergyMonitor System)</td>\n",
       "      <td>{'core': 0, 'file': '/applications/rodinia/data/bfs/graph1MW_6.txt', 'gpu': 0, 'iterations': 50}</td>\n",
       "    </tr>\n",
       "    <tr>\n",
       "      <th>36</th>\n",
       "      <td>37</td>\n",
       "      <td>NWProfiler</td>\n",
       "      <td>{'iterations': 200, 'length': 2048, 'penalty': 10}</td>\n",
       "    </tr>\n",
       "    <tr>\n",
       "      <th>37</th>\n",
       "      <td>38</td>\n",
       "      <td>NWProfiler</td>\n",
       "      <td>{'iterations': 5, 'length': 2048, 'penalty': 10}</td>\n",
       "    </tr>\n",
       "    <tr>\n",
       "      <th>38</th>\n",
       "      <td>39</td>\n",
       "      <td>NWProfiler (EnergyMonitor MinMax)</td>\n",
       "      <td>{'iterations': 5, 'length': 2048, 'penalty': 10}</td>\n",
       "    </tr>\n",
       "    <tr>\n",
       "      <th>39</th>\n",
       "      <td>40</td>\n",
       "      <td>NWProfiler (EnergyMonitor System)</td>\n",
       "      <td>{'iterations': 5, 'length': 2048, 'penalty': 10}</td>\n",
       "    </tr>\n",
       "    <tr>\n",
       "      <th>40</th>\n",
       "      <td>41</td>\n",
       "      <td>NWProfiler</td>\n",
       "      <td>{'iterations': 5, 'length': 2048, 'penalty': 10}</td>\n",
       "    </tr>\n",
       "    <tr>\n",
       "      <th>41</th>\n",
       "      <td>42</td>\n",
       "      <td>NWProfiler (EnergyMonitor MinMax)</td>\n",
       "      <td>{'iterations': 5, 'length': 2048, 'penalty': 10}</td>\n",
       "    </tr>\n",
       "    <tr>\n",
       "      <th>42</th>\n",
       "      <td>43</td>\n",
       "      <td>NWProfiler (EnergyMonitor System)</td>\n",
       "      <td>{'iterations': 5, 'length': 2048, 'penalty': 10}</td>\n",
       "    </tr>\n",
       "    <tr>\n",
       "      <th>43</th>\n",
       "      <td>44</td>\n",
       "      <td>NWProfiler</td>\n",
       "      <td>{'iterations': 5, 'length': 2048, 'penalty': 10}</td>\n",
       "    </tr>\n",
       "    <tr>\n",
       "      <th>44</th>\n",
       "      <td>45</td>\n",
       "      <td>NWProfiler (EnergyMonitor MinMax)</td>\n",
       "      <td>{'iterations': 5, 'length': 2048, 'penalty': 10}</td>\n",
       "    </tr>\n",
       "    <tr>\n",
       "      <th>45</th>\n",
       "      <td>46</td>\n",
       "      <td>NWProfiler (EnergyMonitor System)</td>\n",
       "      <td>{'iterations': 5, 'length': 2048, 'penalty': 10}</td>\n",
       "    </tr>\n",
       "    <tr>\n",
       "      <th>46</th>\n",
       "      <td>47</td>\n",
       "      <td>NWProfiler</td>\n",
       "      <td>{'iterations': 5, 'length': 2048, 'penalty': 10}</td>\n",
       "    </tr>\n",
       "    <tr>\n",
       "      <th>47</th>\n",
       "      <td>48</td>\n",
       "      <td>NWProfiler (EnergyMonitor MinMax)</td>\n",
       "      <td>{'iterations': 5, 'length': 2048, 'penalty': 10}</td>\n",
       "    </tr>\n",
       "    <tr>\n",
       "      <th>48</th>\n",
       "      <td>49</td>\n",
       "      <td>NWProfiler (EnergyMonitor System)</td>\n",
       "      <td>{'iterations': 5, 'length': 2048, 'penalty': 10}</td>\n",
       "    </tr>\n",
       "    <tr>\n",
       "      <th>49</th>\n",
       "      <td>50</td>\n",
       "      <td>Matrix Multiply</td>\n",
       "      <td>{'core': 0, 'gpu': 0, 'iterations': 50, 'matrixAHeight': 1536, 'matrixAWidth': 1536, 'matrixBHeight': 1536, 'matrixBWidth': 1536}</td>\n",
       "    </tr>\n",
       "    <tr>\n",
       "      <th>50</th>\n",
       "      <td>51</td>\n",
       "      <td>Matrix Multiply (EnergyMonitor MinMax)</td>\n",
       "      <td>{'core': 0, 'gpu': 0, 'iterations': 50, 'matrixAHeight': 1536, 'matrixAWidth': 1536, 'matrixBHeight': 1536, 'matrixBWidth': 1536, 'maximumCPUClockRate': 3600000000.0}</td>\n",
       "    </tr>\n",
       "    <tr>\n",
       "      <th>51</th>\n",
       "      <td>52</td>\n",
       "      <td>Matrix Multiply (EnergyMonitor System)</td>\n",
       "      <td>{'core': 0, 'gpu': 0, 'iterations': 50, 'matrixAHeight': 1536, 'matrixAWidth': 1536, 'matrixBHeight': 1536, 'matrixBWidth': 1536, 'maximumCPUClockRate': 3600000000.0}</td>\n",
       "    </tr>\n",
       "    <tr>\n",
       "      <th>52</th>\n",
       "      <td>53</td>\n",
       "      <td>NWProfiler</td>\n",
       "      <td>{'iterations': 5, 'length': 2048, 'penalty': 10}</td>\n",
       "    </tr>\n",
       "    <tr>\n",
       "      <th>53</th>\n",
       "      <td>54</td>\n",
       "      <td>NWProfiler (EnergyMonitor MinMax)</td>\n",
       "      <td>{'iterations': 5, 'length': 2048, 'penalty': 10}</td>\n",
       "    </tr>\n",
       "    <tr>\n",
       "      <th>54</th>\n",
       "      <td>55</td>\n",
       "      <td>NWProfiler (EnergyMonitor System)</td>\n",
       "      <td>{'iterations': 5, 'length': 2048, 'penalty': 10}</td>\n",
       "    </tr>\n",
       "    <tr>\n",
       "      <th>55</th>\n",
       "      <td>56</td>\n",
       "      <td>NWProfiler</td>\n",
       "      <td>{'iterations': 200, 'length': 2048, 'penalty': 10}</td>\n",
       "    </tr>\n",
       "    <tr>\n",
       "      <th>56</th>\n",
       "      <td>57</td>\n",
       "      <td>NWProfiler (EnergyMonitor MinMax)</td>\n",
       "      <td>{'iterations': 200, 'length': 2048, 'penalty': 10}</td>\n",
       "    </tr>\n",
       "    <tr>\n",
       "      <th>57</th>\n",
       "      <td>58</td>\n",
       "      <td>NWProfiler (EnergyMonitor System)</td>\n",
       "      <td>{'iterations': 200, 'length': 2048, 'penalty': 10}</td>\n",
       "    </tr>\n",
       "    <tr>\n",
       "      <th>58</th>\n",
       "      <td>59</td>\n",
       "      <td>NWProfiler (EnergyMonitor MinMax)</td>\n",
       "      <td>{'iterations': 200, 'length': 2048, 'penalty': 10}</td>\n",
       "    </tr>\n",
       "    <tr>\n",
       "      <th>59</th>\n",
       "      <td>60</td>\n",
       "      <td>NWProfiler (EnergyMonitor System)</td>\n",
       "      <td>{'iterations': 200, 'length': 2048, 'penalty': 10}</td>\n",
       "    </tr>\n",
       "    <tr>\n",
       "      <th>60</th>\n",
       "      <td>61</td>\n",
       "      <td>NWProfiler</td>\n",
       "      <td>{'iterations': 200, 'length': 2048, 'penalty': 10}</td>\n",
       "    </tr>\n",
       "    <tr>\n",
       "      <th>61</th>\n",
       "      <td>62</td>\n",
       "      <td>NWProfiler</td>\n",
       "      <td>{'iterations': 200, 'length': 2048, 'penalty': 10}</td>\n",
       "    </tr>\n",
       "    <tr>\n",
       "      <th>62</th>\n",
       "      <td>63</td>\n",
       "      <td>NWProfiler (EnergyMonitor MinMax)</td>\n",
       "      <td>{'iterations': 200, 'length': 2048, 'penalty': 10}</td>\n",
       "    </tr>\n",
       "    <tr>\n",
       "      <th>63</th>\n",
       "      <td>64</td>\n",
       "      <td>NWProfiler (EnergyMonitor System)</td>\n",
       "      <td>{'iterations': 200, 'length': 2048, 'penalty': 10}</td>\n",
       "    </tr>\n",
       "    <tr>\n",
       "      <th>64</th>\n",
       "      <td>65</td>\n",
       "      <td>KMeans</td>\n",
       "      <td>{'core': 0, 'file': '/applications/rodinia/data/kmeans/kdd_cup', 'gpu': 0, 'iterations': 5}</td>\n",
       "    </tr>\n",
       "    <tr>\n",
       "      <th>65</th>\n",
       "      <td>66</td>\n",
       "      <td>KMeans (EnergyMonitor MinMax)</td>\n",
       "      <td>{'core': 0, 'file': '/applications/rodinia/data/kmeans/kdd_cup', 'gpu': 0, 'iterations': 5}</td>\n",
       "    </tr>\n",
       "    <tr>\n",
       "      <th>66</th>\n",
       "      <td>67</td>\n",
       "      <td>KMeans (EnergyMonitor System)</td>\n",
       "      <td>{'core': 0, 'file': '/applications/rodinia/data/kmeans/kdd_cup', 'gpu': 0, 'iterations': 5}</td>\n",
       "    </tr>\n",
       "    <tr>\n",
       "      <th>67</th>\n",
       "      <td>68</td>\n",
       "      <td>KMeans</td>\n",
       "      <td>{'core': 0, 'file': '/applications/rodinia/data/kmeans/kdd_cup', 'gpu': 0, 'iterations': 5}</td>\n",
       "    </tr>\n",
       "    <tr>\n",
       "      <th>68</th>\n",
       "      <td>69</td>\n",
       "      <td>KMeans (EnergyMonitor MinMax)</td>\n",
       "      <td>{'core': 0, 'file': '/applications/rodinia/data/kmeans/kdd_cup', 'gpu': 0, 'iterations': 5}</td>\n",
       "    </tr>\n",
       "    <tr>\n",
       "      <th>69</th>\n",
       "      <td>70</td>\n",
       "      <td>KMeans (EnergyMonitor System)</td>\n",
       "      <td>{'core': 0, 'file': '/applications/rodinia/data/kmeans/kdd_cup', 'gpu': 0, 'iterations': 5}</td>\n",
       "    </tr>\n",
       "    <tr>\n",
       "      <th>70</th>\n",
       "      <td>71</td>\n",
       "      <td>KMeans</td>\n",
       "      <td>{'core': 0, 'file': '/applications/rodinia/data/kmeans/kdd_cup', 'gpu': 0, 'iterations': 5}</td>\n",
       "    </tr>\n",
       "    <tr>\n",
       "      <th>71</th>\n",
       "      <td>72</td>\n",
       "      <td>KMeans (EnergyMonitor MinMax)</td>\n",
       "      <td>{'core': 0, 'file': '/applications/rodinia/data/kmeans/kdd_cup', 'gpu': 0, 'iterations': 5}</td>\n",
       "    </tr>\n",
       "    <tr>\n",
       "      <th>72</th>\n",
       "      <td>73</td>\n",
       "      <td>KMeans (EnergyMonitor System)</td>\n",
       "      <td>{'core': 0, 'file': '/applications/rodinia/data/kmeans/kdd_cup', 'gpu': 0, 'iterations': 5}</td>\n",
       "    </tr>\n",
       "    <tr>\n",
       "      <th>73</th>\n",
       "      <td>74</td>\n",
       "      <td>KMeans</td>\n",
       "      <td>{'core': 0, 'file': '/applications/rodinia/data/kmeans/kdd_cup', 'gpu': 0, 'iterations': 5}</td>\n",
       "    </tr>\n",
       "    <tr>\n",
       "      <th>74</th>\n",
       "      <td>75</td>\n",
       "      <td>KMeans (EnergyMonitor MinMax)</td>\n",
       "      <td>{'core': 0, 'file': '/applications/rodinia/data/kmeans/kdd_cup', 'gpu': 0, 'iterations': 5}</td>\n",
       "    </tr>\n",
       "    <tr>\n",
       "      <th>75</th>\n",
       "      <td>76</td>\n",
       "      <td>KMeans (EnergyMonitor System)</td>\n",
       "      <td>{'core': 0, 'file': '/applications/rodinia/data/kmeans/kdd_cup', 'gpu': 0, 'iterations': 5}</td>\n",
       "    </tr>\n",
       "    <tr>\n",
       "      <th>76</th>\n",
       "      <td>77</td>\n",
       "      <td>KMeans</td>\n",
       "      <td>{'core': 0, 'file': '/applications/rodinia/data/kmeans/kdd_cup', 'gpu': 0, 'iterations': 5}</td>\n",
       "    </tr>\n",
       "    <tr>\n",
       "      <th>77</th>\n",
       "      <td>78</td>\n",
       "      <td>KMeans (EnergyMonitor MinMax)</td>\n",
       "      <td>{'core': 0, 'file': '/applications/rodinia/data/kmeans/kdd_cup', 'gpu': 0, 'iterations': 5}</td>\n",
       "    </tr>\n",
       "    <tr>\n",
       "      <th>78</th>\n",
       "      <td>79</td>\n",
       "      <td>KMeans (EnergyMonitor System)</td>\n",
       "      <td>{'core': 0, 'file': '/applications/rodinia/data/kmeans/kdd_cup', 'gpu': 0, 'iterations': 5}</td>\n",
       "    </tr>\n",
       "    <tr>\n",
       "      <th>79</th>\n",
       "      <td>80</td>\n",
       "      <td>KMeans</td>\n",
       "      <td>{'core': 0, 'file': '/applications/rodinia/data/kmeans/kdd_cup', 'gpu': 0, 'iterations': 5}</td>\n",
       "    </tr>\n",
       "    <tr>\n",
       "      <th>80</th>\n",
       "      <td>81</td>\n",
       "      <td>KMeans (EnergyMonitor MinMax)</td>\n",
       "      <td>{'core': 0, 'file': '/applications/rodinia/data/kmeans/kdd_cup', 'gpu': 0, 'iterations': 5}</td>\n",
       "    </tr>\n",
       "    <tr>\n",
       "      <th>81</th>\n",
       "      <td>82</td>\n",
       "      <td>KMeans (EnergyMonitor System)</td>\n",
       "      <td>{'core': 0, 'file': '/applications/rodinia/data/kmeans/kdd_cup', 'gpu': 0, 'iterations': 5}</td>\n",
       "    </tr>\n",
       "    <tr>\n",
       "      <th>82</th>\n",
       "      <td>83</td>\n",
       "      <td>KMeans</td>\n",
       "      <td>{'core': 0, 'file': '/applications/rodinia/data/kmeans/kdd_cup', 'gpu': 0, 'iterations': 5}</td>\n",
       "    </tr>\n",
       "    <tr>\n",
       "      <th>83</th>\n",
       "      <td>84</td>\n",
       "      <td>KMeans (EnergyMonitor MinMax)</td>\n",
       "      <td>{'core': 0, 'file': '/applications/rodinia/data/kmeans/kdd_cup', 'gpu': 0, 'iterations': 5}</td>\n",
       "    </tr>\n",
       "    <tr>\n",
       "      <th>84</th>\n",
       "      <td>85</td>\n",
       "      <td>KMeans (EnergyMonitor System)</td>\n",
       "      <td>{'core': 0, 'file': '/applications/rodinia/data/kmeans/kdd_cup', 'gpu': 0, 'iterations': 5}</td>\n",
       "    </tr>\n",
       "    <tr>\n",
       "      <th>85</th>\n",
       "      <td>86</td>\n",
       "      <td>KMeans</td>\n",
       "      <td>{'core': 0, 'file': '/applications/rodinia/data/kmeans/kdd_cup', 'gpu': 0, 'iterations': 5}</td>\n",
       "    </tr>\n",
       "    <tr>\n",
       "      <th>86</th>\n",
       "      <td>87</td>\n",
       "      <td>KMeans (EnergyMonitor MinMax)</td>\n",
       "      <td>{'core': 0, 'file': '/applications/rodinia/data/kmeans/kdd_cup', 'gpu': 0, 'iterations': 5}</td>\n",
       "    </tr>\n",
       "    <tr>\n",
       "      <th>87</th>\n",
       "      <td>88</td>\n",
       "      <td>KMeans (EnergyMonitor System)</td>\n",
       "      <td>{'core': 0, 'file': '/applications/rodinia/data/kmeans/kdd_cup', 'gpu': 0, 'iterations': 5}</td>\n",
       "    </tr>\n",
       "    <tr>\n",
       "      <th>88</th>\n",
       "      <td>89</td>\n",
       "      <td>KMeans</td>\n",
       "      <td>{'core': 0, 'file': '/applications/rodinia/data/kmeans/kdd_cup', 'gpu': 0, 'iterations': 5}</td>\n",
       "    </tr>\n",
       "    <tr>\n",
       "      <th>89</th>\n",
       "      <td>90</td>\n",
       "      <td>KMeans (EnergyMonitor MinMax)</td>\n",
       "      <td>{'core': 0, 'file': '/applications/rodinia/data/kmeans/kdd_cup', 'gpu': 0, 'iterations': 5}</td>\n",
       "    </tr>\n",
       "    <tr>\n",
       "      <th>90</th>\n",
       "      <td>91</td>\n",
       "      <td>KMeans (EnergyMonitor System)</td>\n",
       "      <td>{'core': 0, 'file': '/applications/rodinia/data/kmeans/kdd_cup', 'gpu': 0, 'iterations': 5}</td>\n",
       "    </tr>\n",
       "    <tr>\n",
       "      <th>91</th>\n",
       "      <td>92</td>\n",
       "      <td>KMeans</td>\n",
       "      <td>{'core': 0, 'file': '/applications/rodinia/data/kmeans/kdd_cup', 'gpu': 0, 'iterations': 5}</td>\n",
       "    </tr>\n",
       "    <tr>\n",
       "      <th>92</th>\n",
       "      <td>93</td>\n",
       "      <td>KMeans (EnergyMonitor MinMax)</td>\n",
       "      <td>{'core': 0, 'file': '/applications/rodinia/data/kmeans/kdd_cup', 'gpu': 0, 'iterations': 5}</td>\n",
       "    </tr>\n",
       "    <tr>\n",
       "      <th>93</th>\n",
       "      <td>94</td>\n",
       "      <td>KMeans (EnergyMonitor System)</td>\n",
       "      <td>{'core': 0, 'file': '/applications/rodinia/data/kmeans/kdd_cup', 'gpu': 0, 'iterations': 5}</td>\n",
       "    </tr>\n",
       "    <tr>\n",
       "      <th>94</th>\n",
       "      <td>95</td>\n",
       "      <td>KMeans</td>\n",
       "      <td>{'core': 0, 'file': '/applications/rodinia/data/kmeans/kdd_cup', 'gpu': 0, 'iterations': 5}</td>\n",
       "    </tr>\n",
       "    <tr>\n",
       "      <th>95</th>\n",
       "      <td>96</td>\n",
       "      <td>KMeans (EnergyMonitor MinMax)</td>\n",
       "      <td>{'core': 0, 'file': '/applications/rodinia/data/kmeans/kdd_cup', 'gpu': 0, 'iterations': 5}</td>\n",
       "    </tr>\n",
       "    <tr>\n",
       "      <th>96</th>\n",
       "      <td>97</td>\n",
       "      <td>KMeans (EnergyMonitor System)</td>\n",
       "      <td>{'core': 0, 'file': '/applications/rodinia/data/kmeans/kdd_cup', 'gpu': 0, 'iterations': 5}</td>\n",
       "    </tr>\n",
       "    <tr>\n",
       "      <th>97</th>\n",
       "      <td>98</td>\n",
       "      <td>KMeans</td>\n",
       "      <td>{'core': 0, 'file': '/applications/rodinia/data/kmeans/kdd_cup', 'gpu': 0, 'iterations': 5}</td>\n",
       "    </tr>\n",
       "    <tr>\n",
       "      <th>98</th>\n",
       "      <td>99</td>\n",
       "      <td>KMeans (EnergyMonitor MinMax)</td>\n",
       "      <td>{'core': 0, 'file': '/applications/rodinia/data/kmeans/kdd_cup', 'gpu': 0, 'iterations': 5}</td>\n",
       "    </tr>\n",
       "    <tr>\n",
       "      <th>99</th>\n",
       "      <td>100</td>\n",
       "      <td>KMeans (EnergyMonitor System)</td>\n",
       "      <td>{'core': 0, 'file': '/applications/rodinia/data/kmeans/kdd_cup', 'gpu': 0, 'iterations': 5}</td>\n",
       "    </tr>\n",
       "    <tr>\n",
       "      <th>100</th>\n",
       "      <td>101</td>\n",
       "      <td>KMeans</td>\n",
       "      <td>{'core': 0, 'file': '/applications/rodinia/data/kmeans/kdd_cup', 'gpu': 0, 'iterations': 50}</td>\n",
       "    </tr>\n",
       "    <tr>\n",
       "      <th>101</th>\n",
       "      <td>102</td>\n",
       "      <td>KMeans (EnergyMonitor MinMax)</td>\n",
       "      <td>{'core': 0, 'file': '/applications/rodinia/data/kmeans/kdd_cup', 'gpu': 0, 'iterations': 50}</td>\n",
       "    </tr>\n",
       "    <tr>\n",
       "      <th>102</th>\n",
       "      <td>103</td>\n",
       "      <td>KMeans (EnergyMonitor System)</td>\n",
       "      <td>{'core': 0, 'file': '/applications/rodinia/data/kmeans/kdd_cup', 'gpu': 0, 'iterations': 50}</td>\n",
       "    </tr>\n",
       "    <tr>\n",
       "      <th>103</th>\n",
       "      <td>104</td>\n",
       "      <td>KMeans</td>\n",
       "      <td>{'core': 0, 'file': '/applications/rodinia/data/kmeans/kdd_cup', 'gpu': 0, 'iterations': 50}</td>\n",
       "    </tr>\n",
       "    <tr>\n",
       "      <th>104</th>\n",
       "      <td>105</td>\n",
       "      <td>KMeans (EnergyMonitor MinMax)</td>\n",
       "      <td>{'core': 0, 'file': '/applications/rodinia/data/kmeans/kdd_cup', 'gpu': 0, 'iterations': 50}</td>\n",
       "    </tr>\n",
       "    <tr>\n",
       "      <th>105</th>\n",
       "      <td>106</td>\n",
       "      <td>KMeans (EnergyMonitor System)</td>\n",
       "      <td>{'core': 0, 'file': '/applications/rodinia/data/kmeans/kdd_cup', 'gpu': 0, 'iterations': 50}</td>\n",
       "    </tr>\n",
       "    <tr>\n",
       "      <th>106</th>\n",
       "      <td>107</td>\n",
       "      <td>KMeans</td>\n",
       "      <td>{'core': 0, 'file': '/applications/rodinia/data/kmeans/kdd_cup', 'gpu': 0, 'iterations': 50}</td>\n",
       "    </tr>\n",
       "    <tr>\n",
       "      <th>107</th>\n",
       "      <td>108</td>\n",
       "      <td>KMeans (EnergyMonitor MinMax)</td>\n",
       "      <td>{'core': 0, 'file': '/applications/rodinia/data/kmeans/kdd_cup', 'gpu': 0, 'iterations': 50}</td>\n",
       "    </tr>\n",
       "    <tr>\n",
       "      <th>108</th>\n",
       "      <td>109</td>\n",
       "      <td>KMeans (EnergyMonitor System)</td>\n",
       "      <td>{'core': 0, 'file': '/applications/rodinia/data/kmeans/kdd_cup', 'gpu': 0, 'iterations': 50}</td>\n",
       "    </tr>\n",
       "    <tr>\n",
       "      <th>109</th>\n",
       "      <td>110</td>\n",
       "      <td>LavaMDProfiler</td>\n",
       "      <td>{'boxes1D': 10, 'iterations': 50}</td>\n",
       "    </tr>\n",
       "    <tr>\n",
       "      <th>110</th>\n",
       "      <td>111</td>\n",
       "      <td>LavaMDProfiler (EnergyMonitor MinMax)</td>\n",
       "      <td>{'boxes1D': 10, 'iterations': 50}</td>\n",
       "    </tr>\n",
       "    <tr>\n",
       "      <th>111</th>\n",
       "      <td>112</td>\n",
       "      <td>LavaMDProfiler (EnergyMonitor System)</td>\n",
       "      <td>{'boxes1D': 10, 'iterations': 50}</td>\n",
       "    </tr>\n",
       "    <tr>\n",
       "      <th>112</th>\n",
       "      <td>113</td>\n",
       "      <td>LavaMDProfiler</td>\n",
       "      <td>{'boxes1d': 10, 'iterations': 50}</td>\n",
       "    </tr>\n",
       "    <tr>\n",
       "      <th>113</th>\n",
       "      <td>114</td>\n",
       "      <td>LavaMDProfiler (EnergyMonitor MinMax)</td>\n",
       "      <td>{'boxes1d': 10, 'iterations': 50}</td>\n",
       "    </tr>\n",
       "    <tr>\n",
       "      <th>114</th>\n",
       "      <td>115</td>\n",
       "      <td>LavaMDProfiler (EnergyMonitor System)</td>\n",
       "      <td>{'boxes1d': 10, 'iterations': 50}</td>\n",
       "    </tr>\n",
       "    <tr>\n",
       "      <th>115</th>\n",
       "      <td>116</td>\n",
       "      <td>LavaMDProfiler</td>\n",
       "      <td>{'boxes1d': 10, 'iterations': 50}</td>\n",
       "    </tr>\n",
       "    <tr>\n",
       "      <th>116</th>\n",
       "      <td>117</td>\n",
       "      <td>LavaMDProfiler (EnergyMonitor MinMax)</td>\n",
       "      <td>{'boxes1d': 10, 'iterations': 50}</td>\n",
       "    </tr>\n",
       "    <tr>\n",
       "      <th>117</th>\n",
       "      <td>118</td>\n",
       "      <td>LavaMDProfiler (EnergyMonitor System)</td>\n",
       "      <td>{'boxes1d': 10, 'iterations': 50}</td>\n",
       "    </tr>\n",
       "    <tr>\n",
       "      <th>118</th>\n",
       "      <td>119</td>\n",
       "      <td>LavaMDProfiler</td>\n",
       "      <td>{'boxes1d': 10, 'iterations': 50}</td>\n",
       "    </tr>\n",
       "    <tr>\n",
       "      <th>119</th>\n",
       "      <td>120</td>\n",
       "      <td>LavaMDProfiler (EnergyMonitor MinMax)</td>\n",
       "      <td>{'boxes1d': 10, 'iterations': 50}</td>\n",
       "    </tr>\n",
       "    <tr>\n",
       "      <th>120</th>\n",
       "      <td>121</td>\n",
       "      <td>LavaMDProfiler (EnergyMonitor System)</td>\n",
       "      <td>{'boxes1d': 10, 'iterations': 50}</td>\n",
       "    </tr>\n",
       "    <tr>\n",
       "      <th>121</th>\n",
       "      <td>122</td>\n",
       "      <td>MyocyteProfiler</td>\n",
       "      <td>{'iterations': 50, 'method': 0, 'n': 1, 'time': 100}</td>\n",
       "    </tr>\n",
       "    <tr>\n",
       "      <th>122</th>\n",
       "      <td>123</td>\n",
       "      <td>MyocyteProfiler (EnergyMonitor MinMax)</td>\n",
       "      <td>{'iterations': 50, 'method': 0, 'n': 1, 'time': 100}</td>\n",
       "    </tr>\n",
       "    <tr>\n",
       "      <th>123</th>\n",
       "      <td>124</td>\n",
       "      <td>MyocyteProfiler (EnergyMonitor System)</td>\n",
       "      <td>{'iterations': 50, 'method': 0, 'n': 1, 'time': 100}</td>\n",
       "    </tr>\n",
       "    <tr>\n",
       "      <th>124</th>\n",
       "      <td>125</td>\n",
       "      <td>SRAD_V1Profiler</td>\n",
       "      <td>{'coefficient': 0.5, 'columns': 458, 'iterations': 100, 'rows': 502}</td>\n",
       "    </tr>\n",
       "    <tr>\n",
       "      <th>125</th>\n",
       "      <td>126</td>\n",
       "      <td>SRAD_V1Profiler (EnergyMonitor MinMax)</td>\n",
       "      <td>{'coefficient': 0.5, 'columns': 458, 'iterations': 100, 'rows': 502}</td>\n",
       "    </tr>\n",
       "    <tr>\n",
       "      <th>126</th>\n",
       "      <td>127</td>\n",
       "      <td>SRAD_V1Profiler (EnergyMonitor System)</td>\n",
       "      <td>{'coefficient': 0.5, 'columns': 458, 'iterations': 100, 'rows': 502}</td>\n",
       "    </tr>\n",
       "    <tr>\n",
       "      <th>127</th>\n",
       "      <td>128</td>\n",
       "      <td>StreamclusterProfiler</td>\n",
       "      <td>{'chunksize': 65536, 'clustersize': 1000, 'd': 256, 'infile': 'none', 'iterations': 10, 'k1': 10, 'k2': 20, 'n': 65536, 'nproc': 1, 'outfile': 'output.txt'}</td>\n",
       "    </tr>\n",
       "    <tr>\n",
       "      <th>128</th>\n",
       "      <td>129</td>\n",
       "      <td>StreamclusterProfiler (EnergyMonitor MinMax)</td>\n",
       "      <td>{'chunksize': 65536, 'clustersize': 1000, 'd': 256, 'infile': 'none', 'iterations': 10, 'k1': 10, 'k2': 20, 'n': 65536, 'nproc': 1, 'outfile': 'output.txt'}</td>\n",
       "    </tr>\n",
       "    <tr>\n",
       "      <th>129</th>\n",
       "      <td>130</td>\n",
       "      <td>StreamclusterProfiler (EnergyMonitor System)</td>\n",
       "      <td>{'chunksize': 65536, 'clustersize': 1000, 'd': 256, 'infile': 'none', 'iterations': 10, 'k1': 10, 'k2': 20, 'n': 65536, 'nproc': 1, 'outfile': 'output.txt'}</td>\n",
       "    </tr>\n",
       "    <tr>\n",
       "      <th>130</th>\n",
       "      <td>131</td>\n",
       "      <td>Matrix Multiply</td>\n",
       "      <td>{'core': 0, 'gpu': 0, 'iterations': 10, 'matrixAHeight': 1536, 'matrixAWidth': 1536, 'matrixBHeight': 1536, 'matrixBWidth': 1536}</td>\n",
       "    </tr>\n",
       "    <tr>\n",
       "      <th>131</th>\n",
       "      <td>132</td>\n",
       "      <td>Matrix Multiply (EnergyMonitor MinMax)</td>\n",
       "      <td>{'core': 0, 'gpu': 0, 'iterations': 10, 'matrixAHeight': 1536, 'matrixAWidth': 1536, 'matrixBHeight': 1536, 'matrixBWidth': 1536}</td>\n",
       "    </tr>\n",
       "    <tr>\n",
       "      <th>132</th>\n",
       "      <td>133</td>\n",
       "      <td>Matrix Multiply (EnergyMonitor System)</td>\n",
       "      <td>{'core': 0, 'gpu': 0, 'iterations': 10, 'matrixAHeight': 1536, 'matrixAWidth': 1536, 'matrixBHeight': 1536, 'matrixBWidth': 1536}</td>\n",
       "    </tr>\n",
       "    <tr>\n",
       "      <th>133</th>\n",
       "      <td>134</td>\n",
       "      <td>Particlefilter_floatProfiler</td>\n",
       "      <td>{'iterations': 50, 'np': 1000, 'x': 128, 'y': 128, 'z': 10}</td>\n",
       "    </tr>\n",
       "    <tr>\n",
       "      <th>134</th>\n",
       "      <td>135</td>\n",
       "      <td>Particlefilter_floatProfiler (EnergyMonitor MinMax)</td>\n",
       "      <td>{'iterations': 50, 'np': 1000, 'x': 128, 'y': 128, 'z': 10}</td>\n",
       "    </tr>\n",
       "    <tr>\n",
       "      <th>135</th>\n",
       "      <td>136</td>\n",
       "      <td>Particlefilter_floatProfiler (EnergyMonitor System)</td>\n",
       "      <td>{'iterations': 50, 'np': 1000, 'x': 128, 'y': 128, 'z': 10}</td>\n",
       "    </tr>\n",
       "  </tbody>\n",
       "</table>\n",
       "</div>"
      ],
      "text/plain": [
       "      ID                                                Label  \\\n",
       "0      1                                      MyocyteProfiler   \n",
       "1      2                                      MyocyteProfiler   \n",
       "2      3                                      Matrix Multiply   \n",
       "3      4               Matrix Multiply (EnergyMonitor MinMax)   \n",
       "4      5               Matrix Multiply (EnergyMonitor System)   \n",
       "5      6                                               KMeans   \n",
       "6      7                                          BFSProfiler   \n",
       "7      8                   BFSProfiler (EnergyMonitor MinMax)   \n",
       "8      9                   BFSProfiler (EnergyMonitor System)   \n",
       "9     10                                               KMeans   \n",
       "10    11                        KMeans (EnergyMonitor MinMax)   \n",
       "11    12                        KMeans (EnergyMonitor System)   \n",
       "12    13                                      Matrix Multiply   \n",
       "13    14               Matrix Multiply (EnergyMonitor MinMax)   \n",
       "14    15               Matrix Multiply (EnergyMonitor System)   \n",
       "15    16                                      Matrix Multiply   \n",
       "16    17               Matrix Multiply (EnergyMonitor MinMax)   \n",
       "17    18               Matrix Multiply (EnergyMonitor System)   \n",
       "18    19                            UnifiedMemoryPerfProfiler   \n",
       "19    20     UnifiedMemoryPerfProfiler (EnergyMonitor MinMax)   \n",
       "20    21     UnifiedMemoryPerfProfiler (EnergyMonitor System)   \n",
       "21    22                                           NWProfiler   \n",
       "22    23                    NWProfiler (EnergyMonitor MinMax)   \n",
       "23    24                    NWProfiler (EnergyMonitor System)   \n",
       "24    25                                           NWProfiler   \n",
       "25    26                    NWProfiler (EnergyMonitor MinMax)   \n",
       "26    27                    NWProfiler (EnergyMonitor System)   \n",
       "27    28                                    BandwidthProfiler   \n",
       "28    29             BandwidthProfiler (EnergyMonitor MinMax)   \n",
       "29    30             BandwidthProfiler (EnergyMonitor System)   \n",
       "30    31                   BFSProfiler (EnergyMonitor MinMax)   \n",
       "31    32                                          BFSProfiler   \n",
       "32    33                   BFSProfiler (EnergyMonitor System)   \n",
       "33    34                                          BFSProfiler   \n",
       "34    35                   BFSProfiler (EnergyMonitor MinMax)   \n",
       "35    36                   BFSProfiler (EnergyMonitor System)   \n",
       "36    37                                           NWProfiler   \n",
       "37    38                                           NWProfiler   \n",
       "38    39                    NWProfiler (EnergyMonitor MinMax)   \n",
       "39    40                    NWProfiler (EnergyMonitor System)   \n",
       "40    41                                           NWProfiler   \n",
       "41    42                    NWProfiler (EnergyMonitor MinMax)   \n",
       "42    43                    NWProfiler (EnergyMonitor System)   \n",
       "43    44                                           NWProfiler   \n",
       "44    45                    NWProfiler (EnergyMonitor MinMax)   \n",
       "45    46                    NWProfiler (EnergyMonitor System)   \n",
       "46    47                                           NWProfiler   \n",
       "47    48                    NWProfiler (EnergyMonitor MinMax)   \n",
       "48    49                    NWProfiler (EnergyMonitor System)   \n",
       "49    50                                      Matrix Multiply   \n",
       "50    51               Matrix Multiply (EnergyMonitor MinMax)   \n",
       "51    52               Matrix Multiply (EnergyMonitor System)   \n",
       "52    53                                           NWProfiler   \n",
       "53    54                    NWProfiler (EnergyMonitor MinMax)   \n",
       "54    55                    NWProfiler (EnergyMonitor System)   \n",
       "55    56                                           NWProfiler   \n",
       "56    57                    NWProfiler (EnergyMonitor MinMax)   \n",
       "57    58                    NWProfiler (EnergyMonitor System)   \n",
       "58    59                    NWProfiler (EnergyMonitor MinMax)   \n",
       "59    60                    NWProfiler (EnergyMonitor System)   \n",
       "60    61                                           NWProfiler   \n",
       "61    62                                           NWProfiler   \n",
       "62    63                    NWProfiler (EnergyMonitor MinMax)   \n",
       "63    64                    NWProfiler (EnergyMonitor System)   \n",
       "64    65                                               KMeans   \n",
       "65    66                        KMeans (EnergyMonitor MinMax)   \n",
       "66    67                        KMeans (EnergyMonitor System)   \n",
       "67    68                                               KMeans   \n",
       "68    69                        KMeans (EnergyMonitor MinMax)   \n",
       "69    70                        KMeans (EnergyMonitor System)   \n",
       "70    71                                               KMeans   \n",
       "71    72                        KMeans (EnergyMonitor MinMax)   \n",
       "72    73                        KMeans (EnergyMonitor System)   \n",
       "73    74                                               KMeans   \n",
       "74    75                        KMeans (EnergyMonitor MinMax)   \n",
       "75    76                        KMeans (EnergyMonitor System)   \n",
       "76    77                                               KMeans   \n",
       "77    78                        KMeans (EnergyMonitor MinMax)   \n",
       "78    79                        KMeans (EnergyMonitor System)   \n",
       "79    80                                               KMeans   \n",
       "80    81                        KMeans (EnergyMonitor MinMax)   \n",
       "81    82                        KMeans (EnergyMonitor System)   \n",
       "82    83                                               KMeans   \n",
       "83    84                        KMeans (EnergyMonitor MinMax)   \n",
       "84    85                        KMeans (EnergyMonitor System)   \n",
       "85    86                                               KMeans   \n",
       "86    87                        KMeans (EnergyMonitor MinMax)   \n",
       "87    88                        KMeans (EnergyMonitor System)   \n",
       "88    89                                               KMeans   \n",
       "89    90                        KMeans (EnergyMonitor MinMax)   \n",
       "90    91                        KMeans (EnergyMonitor System)   \n",
       "91    92                                               KMeans   \n",
       "92    93                        KMeans (EnergyMonitor MinMax)   \n",
       "93    94                        KMeans (EnergyMonitor System)   \n",
       "94    95                                               KMeans   \n",
       "95    96                        KMeans (EnergyMonitor MinMax)   \n",
       "96    97                        KMeans (EnergyMonitor System)   \n",
       "97    98                                               KMeans   \n",
       "98    99                        KMeans (EnergyMonitor MinMax)   \n",
       "99   100                        KMeans (EnergyMonitor System)   \n",
       "100  101                                               KMeans   \n",
       "101  102                        KMeans (EnergyMonitor MinMax)   \n",
       "102  103                        KMeans (EnergyMonitor System)   \n",
       "103  104                                               KMeans   \n",
       "104  105                        KMeans (EnergyMonitor MinMax)   \n",
       "105  106                        KMeans (EnergyMonitor System)   \n",
       "106  107                                               KMeans   \n",
       "107  108                        KMeans (EnergyMonitor MinMax)   \n",
       "108  109                        KMeans (EnergyMonitor System)   \n",
       "109  110                                       LavaMDProfiler   \n",
       "110  111                LavaMDProfiler (EnergyMonitor MinMax)   \n",
       "111  112                LavaMDProfiler (EnergyMonitor System)   \n",
       "112  113                                       LavaMDProfiler   \n",
       "113  114                LavaMDProfiler (EnergyMonitor MinMax)   \n",
       "114  115                LavaMDProfiler (EnergyMonitor System)   \n",
       "115  116                                       LavaMDProfiler   \n",
       "116  117                LavaMDProfiler (EnergyMonitor MinMax)   \n",
       "117  118                LavaMDProfiler (EnergyMonitor System)   \n",
       "118  119                                       LavaMDProfiler   \n",
       "119  120                LavaMDProfiler (EnergyMonitor MinMax)   \n",
       "120  121                LavaMDProfiler (EnergyMonitor System)   \n",
       "121  122                                      MyocyteProfiler   \n",
       "122  123               MyocyteProfiler (EnergyMonitor MinMax)   \n",
       "123  124               MyocyteProfiler (EnergyMonitor System)   \n",
       "124  125                                      SRAD_V1Profiler   \n",
       "125  126               SRAD_V1Profiler (EnergyMonitor MinMax)   \n",
       "126  127               SRAD_V1Profiler (EnergyMonitor System)   \n",
       "127  128                                StreamclusterProfiler   \n",
       "128  129         StreamclusterProfiler (EnergyMonitor MinMax)   \n",
       "129  130         StreamclusterProfiler (EnergyMonitor System)   \n",
       "130  131                                      Matrix Multiply   \n",
       "131  132               Matrix Multiply (EnergyMonitor MinMax)   \n",
       "132  133               Matrix Multiply (EnergyMonitor System)   \n",
       "133  134                         Particlefilter_floatProfiler   \n",
       "134  135  Particlefilter_floatProfiler (EnergyMonitor MinMax)   \n",
       "135  136  Particlefilter_floatProfiler (EnergyMonitor System)   \n",
       "\n",
       "                                                                                                                                                                    Profile  \n",
       "0                                                                                                                      {'iterations': 30, 'method': 0, 'n': 1, 'time': 100}  \n",
       "1                                                                                                                       {'iterations': 1, 'method': 0, 'n': 1, 'time': 100}  \n",
       "2                                         {'core': 0, 'gpu': 0, 'iterations': 50, 'matrixAHeight': 1536, 'matrixAWidth': 1536, 'matrixBHeight': 1536, 'matrixBWidth': 1536}  \n",
       "3    {'core': 0, 'gpu': 0, 'iterations': 50, 'matrixAHeight': 1536, 'matrixAWidth': 1536, 'matrixBHeight': 1536, 'matrixBWidth': 1536, 'maximumCPUClockRate': 3600000000.0}  \n",
       "4    {'core': 0, 'gpu': 0, 'iterations': 50, 'matrixAHeight': 1536, 'matrixAWidth': 1536, 'matrixBHeight': 1536, 'matrixBWidth': 1536, 'maximumCPUClockRate': 3600000000.0}  \n",
       "5                                                                              {'core': 0, 'file': '/applications/rodinia/data/kmeans/kdd_cup', 'gpu': 0, 'iterations': 20}  \n",
       "6                                                                          {'core': 0, 'file': '/applications/rodinia/data/bfs/graph1MW_6.txt', 'gpu': 0, 'iterations': 50}  \n",
       "7                                                                          {'core': 0, 'file': '/applications/rodinia/data/bfs/graph1MW_6.txt', 'gpu': 0, 'iterations': 50}  \n",
       "8                                                                          {'core': 0, 'file': '/applications/rodinia/data/bfs/graph1MW_6.txt', 'gpu': 0, 'iterations': 50}  \n",
       "9                                                                              {'core': 0, 'file': '/applications/rodinia/data/kmeans/kdd_cup', 'gpu': 0, 'iterations': 50}  \n",
       "10                                                                             {'core': 0, 'file': '/applications/rodinia/data/kmeans/kdd_cup', 'gpu': 0, 'iterations': 50}  \n",
       "11                                                                             {'core': 0, 'file': '/applications/rodinia/data/kmeans/kdd_cup', 'gpu': 0, 'iterations': 50}  \n",
       "12                                        {'core': 0, 'gpu': 0, 'iterations': 50, 'matrixAHeight': 1536, 'matrixAWidth': 1536, 'matrixBHeight': 1536, 'matrixBWidth': 1536}  \n",
       "13                                        {'core': 0, 'gpu': 0, 'iterations': 50, 'matrixAHeight': 1536, 'matrixAWidth': 1536, 'matrixBHeight': 1536, 'matrixBWidth': 1536}  \n",
       "14                                        {'core': 0, 'gpu': 0, 'iterations': 50, 'matrixAHeight': 1536, 'matrixAWidth': 1536, 'matrixBHeight': 1536, 'matrixBWidth': 1536}  \n",
       "15                                        {'core': 0, 'gpu': 0, 'iterations': 50, 'matrixAHeight': 1536, 'matrixAWidth': 1536, 'matrixBHeight': 1536, 'matrixBWidth': 1536}  \n",
       "16                                        {'core': 0, 'gpu': 0, 'iterations': 50, 'matrixAHeight': 1536, 'matrixAWidth': 1536, 'matrixBHeight': 1536, 'matrixBWidth': 1536}  \n",
       "17                                        {'core': 0, 'gpu': 0, 'iterations': 50, 'matrixAHeight': 1536, 'matrixAWidth': 1536, 'matrixBHeight': 1536, 'matrixBWidth': 1536}  \n",
       "18                                                                                                                                                        {'iterations': 5}  \n",
       "19                                                                                                                                                        {'iterations': 5}  \n",
       "20                                                                                                                                                        {'iterations': 5}  \n",
       "21                                                                                                                        {'iterations': 50, 'length': 2048, 'penalty': 10}  \n",
       "22                                                                                                                        {'iterations': 50, 'length': 2048, 'penalty': 10}  \n",
       "23                                                                                                                        {'iterations': 50, 'length': 2048, 'penalty': 10}  \n",
       "24                                                                                                                        {'iterations': 50, 'length': 2048, 'penalty': 10}  \n",
       "25                                                                                                                        {'iterations': 50, 'length': 2048, 'penalty': 10}  \n",
       "26                                                                                                                        {'iterations': 50, 'length': 2048, 'penalty': 10}  \n",
       "27                                                                                                                                                       {'iterations': 50}  \n",
       "28                                                                                                                                                       {'iterations': 50}  \n",
       "29                                                                                                                                                       {'iterations': 50}  \n",
       "30                                                                         {'core': 0, 'file': '/applications/rodinia/data/bfs/graph1MW_6.txt', 'gpu': 0, 'iterations': 50}  \n",
       "31                                                                         {'core': 0, 'file': '/applications/rodinia/data/bfs/graph1MW_6.txt', 'gpu': 0, 'iterations': 50}  \n",
       "32                                                                         {'core': 0, 'file': '/applications/rodinia/data/bfs/graph1MW_6.txt', 'gpu': 0, 'iterations': 50}  \n",
       "33                                                                         {'core': 0, 'file': '/applications/rodinia/data/bfs/graph1MW_6.txt', 'gpu': 0, 'iterations': 50}  \n",
       "34                                                                         {'core': 0, 'file': '/applications/rodinia/data/bfs/graph1MW_6.txt', 'gpu': 0, 'iterations': 50}  \n",
       "35                                                                         {'core': 0, 'file': '/applications/rodinia/data/bfs/graph1MW_6.txt', 'gpu': 0, 'iterations': 50}  \n",
       "36                                                                                                                       {'iterations': 200, 'length': 2048, 'penalty': 10}  \n",
       "37                                                                                                                         {'iterations': 5, 'length': 2048, 'penalty': 10}  \n",
       "38                                                                                                                         {'iterations': 5, 'length': 2048, 'penalty': 10}  \n",
       "39                                                                                                                         {'iterations': 5, 'length': 2048, 'penalty': 10}  \n",
       "40                                                                                                                         {'iterations': 5, 'length': 2048, 'penalty': 10}  \n",
       "41                                                                                                                         {'iterations': 5, 'length': 2048, 'penalty': 10}  \n",
       "42                                                                                                                         {'iterations': 5, 'length': 2048, 'penalty': 10}  \n",
       "43                                                                                                                         {'iterations': 5, 'length': 2048, 'penalty': 10}  \n",
       "44                                                                                                                         {'iterations': 5, 'length': 2048, 'penalty': 10}  \n",
       "45                                                                                                                         {'iterations': 5, 'length': 2048, 'penalty': 10}  \n",
       "46                                                                                                                         {'iterations': 5, 'length': 2048, 'penalty': 10}  \n",
       "47                                                                                                                         {'iterations': 5, 'length': 2048, 'penalty': 10}  \n",
       "48                                                                                                                         {'iterations': 5, 'length': 2048, 'penalty': 10}  \n",
       "49                                        {'core': 0, 'gpu': 0, 'iterations': 50, 'matrixAHeight': 1536, 'matrixAWidth': 1536, 'matrixBHeight': 1536, 'matrixBWidth': 1536}  \n",
       "50   {'core': 0, 'gpu': 0, 'iterations': 50, 'matrixAHeight': 1536, 'matrixAWidth': 1536, 'matrixBHeight': 1536, 'matrixBWidth': 1536, 'maximumCPUClockRate': 3600000000.0}  \n",
       "51   {'core': 0, 'gpu': 0, 'iterations': 50, 'matrixAHeight': 1536, 'matrixAWidth': 1536, 'matrixBHeight': 1536, 'matrixBWidth': 1536, 'maximumCPUClockRate': 3600000000.0}  \n",
       "52                                                                                                                         {'iterations': 5, 'length': 2048, 'penalty': 10}  \n",
       "53                                                                                                                         {'iterations': 5, 'length': 2048, 'penalty': 10}  \n",
       "54                                                                                                                         {'iterations': 5, 'length': 2048, 'penalty': 10}  \n",
       "55                                                                                                                       {'iterations': 200, 'length': 2048, 'penalty': 10}  \n",
       "56                                                                                                                       {'iterations': 200, 'length': 2048, 'penalty': 10}  \n",
       "57                                                                                                                       {'iterations': 200, 'length': 2048, 'penalty': 10}  \n",
       "58                                                                                                                       {'iterations': 200, 'length': 2048, 'penalty': 10}  \n",
       "59                                                                                                                       {'iterations': 200, 'length': 2048, 'penalty': 10}  \n",
       "60                                                                                                                       {'iterations': 200, 'length': 2048, 'penalty': 10}  \n",
       "61                                                                                                                       {'iterations': 200, 'length': 2048, 'penalty': 10}  \n",
       "62                                                                                                                       {'iterations': 200, 'length': 2048, 'penalty': 10}  \n",
       "63                                                                                                                       {'iterations': 200, 'length': 2048, 'penalty': 10}  \n",
       "64                                                                              {'core': 0, 'file': '/applications/rodinia/data/kmeans/kdd_cup', 'gpu': 0, 'iterations': 5}  \n",
       "65                                                                              {'core': 0, 'file': '/applications/rodinia/data/kmeans/kdd_cup', 'gpu': 0, 'iterations': 5}  \n",
       "66                                                                              {'core': 0, 'file': '/applications/rodinia/data/kmeans/kdd_cup', 'gpu': 0, 'iterations': 5}  \n",
       "67                                                                              {'core': 0, 'file': '/applications/rodinia/data/kmeans/kdd_cup', 'gpu': 0, 'iterations': 5}  \n",
       "68                                                                              {'core': 0, 'file': '/applications/rodinia/data/kmeans/kdd_cup', 'gpu': 0, 'iterations': 5}  \n",
       "69                                                                              {'core': 0, 'file': '/applications/rodinia/data/kmeans/kdd_cup', 'gpu': 0, 'iterations': 5}  \n",
       "70                                                                              {'core': 0, 'file': '/applications/rodinia/data/kmeans/kdd_cup', 'gpu': 0, 'iterations': 5}  \n",
       "71                                                                              {'core': 0, 'file': '/applications/rodinia/data/kmeans/kdd_cup', 'gpu': 0, 'iterations': 5}  \n",
       "72                                                                              {'core': 0, 'file': '/applications/rodinia/data/kmeans/kdd_cup', 'gpu': 0, 'iterations': 5}  \n",
       "73                                                                              {'core': 0, 'file': '/applications/rodinia/data/kmeans/kdd_cup', 'gpu': 0, 'iterations': 5}  \n",
       "74                                                                              {'core': 0, 'file': '/applications/rodinia/data/kmeans/kdd_cup', 'gpu': 0, 'iterations': 5}  \n",
       "75                                                                              {'core': 0, 'file': '/applications/rodinia/data/kmeans/kdd_cup', 'gpu': 0, 'iterations': 5}  \n",
       "76                                                                              {'core': 0, 'file': '/applications/rodinia/data/kmeans/kdd_cup', 'gpu': 0, 'iterations': 5}  \n",
       "77                                                                              {'core': 0, 'file': '/applications/rodinia/data/kmeans/kdd_cup', 'gpu': 0, 'iterations': 5}  \n",
       "78                                                                              {'core': 0, 'file': '/applications/rodinia/data/kmeans/kdd_cup', 'gpu': 0, 'iterations': 5}  \n",
       "79                                                                              {'core': 0, 'file': '/applications/rodinia/data/kmeans/kdd_cup', 'gpu': 0, 'iterations': 5}  \n",
       "80                                                                              {'core': 0, 'file': '/applications/rodinia/data/kmeans/kdd_cup', 'gpu': 0, 'iterations': 5}  \n",
       "81                                                                              {'core': 0, 'file': '/applications/rodinia/data/kmeans/kdd_cup', 'gpu': 0, 'iterations': 5}  \n",
       "82                                                                              {'core': 0, 'file': '/applications/rodinia/data/kmeans/kdd_cup', 'gpu': 0, 'iterations': 5}  \n",
       "83                                                                              {'core': 0, 'file': '/applications/rodinia/data/kmeans/kdd_cup', 'gpu': 0, 'iterations': 5}  \n",
       "84                                                                              {'core': 0, 'file': '/applications/rodinia/data/kmeans/kdd_cup', 'gpu': 0, 'iterations': 5}  \n",
       "85                                                                              {'core': 0, 'file': '/applications/rodinia/data/kmeans/kdd_cup', 'gpu': 0, 'iterations': 5}  \n",
       "86                                                                              {'core': 0, 'file': '/applications/rodinia/data/kmeans/kdd_cup', 'gpu': 0, 'iterations': 5}  \n",
       "87                                                                              {'core': 0, 'file': '/applications/rodinia/data/kmeans/kdd_cup', 'gpu': 0, 'iterations': 5}  \n",
       "88                                                                              {'core': 0, 'file': '/applications/rodinia/data/kmeans/kdd_cup', 'gpu': 0, 'iterations': 5}  \n",
       "89                                                                              {'core': 0, 'file': '/applications/rodinia/data/kmeans/kdd_cup', 'gpu': 0, 'iterations': 5}  \n",
       "90                                                                              {'core': 0, 'file': '/applications/rodinia/data/kmeans/kdd_cup', 'gpu': 0, 'iterations': 5}  \n",
       "91                                                                              {'core': 0, 'file': '/applications/rodinia/data/kmeans/kdd_cup', 'gpu': 0, 'iterations': 5}  \n",
       "92                                                                              {'core': 0, 'file': '/applications/rodinia/data/kmeans/kdd_cup', 'gpu': 0, 'iterations': 5}  \n",
       "93                                                                              {'core': 0, 'file': '/applications/rodinia/data/kmeans/kdd_cup', 'gpu': 0, 'iterations': 5}  \n",
       "94                                                                              {'core': 0, 'file': '/applications/rodinia/data/kmeans/kdd_cup', 'gpu': 0, 'iterations': 5}  \n",
       "95                                                                              {'core': 0, 'file': '/applications/rodinia/data/kmeans/kdd_cup', 'gpu': 0, 'iterations': 5}  \n",
       "96                                                                              {'core': 0, 'file': '/applications/rodinia/data/kmeans/kdd_cup', 'gpu': 0, 'iterations': 5}  \n",
       "97                                                                              {'core': 0, 'file': '/applications/rodinia/data/kmeans/kdd_cup', 'gpu': 0, 'iterations': 5}  \n",
       "98                                                                              {'core': 0, 'file': '/applications/rodinia/data/kmeans/kdd_cup', 'gpu': 0, 'iterations': 5}  \n",
       "99                                                                              {'core': 0, 'file': '/applications/rodinia/data/kmeans/kdd_cup', 'gpu': 0, 'iterations': 5}  \n",
       "100                                                                            {'core': 0, 'file': '/applications/rodinia/data/kmeans/kdd_cup', 'gpu': 0, 'iterations': 50}  \n",
       "101                                                                            {'core': 0, 'file': '/applications/rodinia/data/kmeans/kdd_cup', 'gpu': 0, 'iterations': 50}  \n",
       "102                                                                            {'core': 0, 'file': '/applications/rodinia/data/kmeans/kdd_cup', 'gpu': 0, 'iterations': 50}  \n",
       "103                                                                            {'core': 0, 'file': '/applications/rodinia/data/kmeans/kdd_cup', 'gpu': 0, 'iterations': 50}  \n",
       "104                                                                            {'core': 0, 'file': '/applications/rodinia/data/kmeans/kdd_cup', 'gpu': 0, 'iterations': 50}  \n",
       "105                                                                            {'core': 0, 'file': '/applications/rodinia/data/kmeans/kdd_cup', 'gpu': 0, 'iterations': 50}  \n",
       "106                                                                            {'core': 0, 'file': '/applications/rodinia/data/kmeans/kdd_cup', 'gpu': 0, 'iterations': 50}  \n",
       "107                                                                            {'core': 0, 'file': '/applications/rodinia/data/kmeans/kdd_cup', 'gpu': 0, 'iterations': 50}  \n",
       "108                                                                            {'core': 0, 'file': '/applications/rodinia/data/kmeans/kdd_cup', 'gpu': 0, 'iterations': 50}  \n",
       "109                                                                                                                                       {'boxes1D': 10, 'iterations': 50}  \n",
       "110                                                                                                                                       {'boxes1D': 10, 'iterations': 50}  \n",
       "111                                                                                                                                       {'boxes1D': 10, 'iterations': 50}  \n",
       "112                                                                                                                                       {'boxes1d': 10, 'iterations': 50}  \n",
       "113                                                                                                                                       {'boxes1d': 10, 'iterations': 50}  \n",
       "114                                                                                                                                       {'boxes1d': 10, 'iterations': 50}  \n",
       "115                                                                                                                                       {'boxes1d': 10, 'iterations': 50}  \n",
       "116                                                                                                                                       {'boxes1d': 10, 'iterations': 50}  \n",
       "117                                                                                                                                       {'boxes1d': 10, 'iterations': 50}  \n",
       "118                                                                                                                                       {'boxes1d': 10, 'iterations': 50}  \n",
       "119                                                                                                                                       {'boxes1d': 10, 'iterations': 50}  \n",
       "120                                                                                                                                       {'boxes1d': 10, 'iterations': 50}  \n",
       "121                                                                                                                    {'iterations': 50, 'method': 0, 'n': 1, 'time': 100}  \n",
       "122                                                                                                                    {'iterations': 50, 'method': 0, 'n': 1, 'time': 100}  \n",
       "123                                                                                                                    {'iterations': 50, 'method': 0, 'n': 1, 'time': 100}  \n",
       "124                                                                                                    {'coefficient': 0.5, 'columns': 458, 'iterations': 100, 'rows': 502}  \n",
       "125                                                                                                    {'coefficient': 0.5, 'columns': 458, 'iterations': 100, 'rows': 502}  \n",
       "126                                                                                                    {'coefficient': 0.5, 'columns': 458, 'iterations': 100, 'rows': 502}  \n",
       "127            {'chunksize': 65536, 'clustersize': 1000, 'd': 256, 'infile': 'none', 'iterations': 10, 'k1': 10, 'k2': 20, 'n': 65536, 'nproc': 1, 'outfile': 'output.txt'}  \n",
       "128            {'chunksize': 65536, 'clustersize': 1000, 'd': 256, 'infile': 'none', 'iterations': 10, 'k1': 10, 'k2': 20, 'n': 65536, 'nproc': 1, 'outfile': 'output.txt'}  \n",
       "129            {'chunksize': 65536, 'clustersize': 1000, 'd': 256, 'infile': 'none', 'iterations': 10, 'k1': 10, 'k2': 20, 'n': 65536, 'nproc': 1, 'outfile': 'output.txt'}  \n",
       "130                                       {'core': 0, 'gpu': 0, 'iterations': 10, 'matrixAHeight': 1536, 'matrixAWidth': 1536, 'matrixBHeight': 1536, 'matrixBWidth': 1536}  \n",
       "131                                       {'core': 0, 'gpu': 0, 'iterations': 10, 'matrixAHeight': 1536, 'matrixAWidth': 1536, 'matrixBHeight': 1536, 'matrixBWidth': 1536}  \n",
       "132                                       {'core': 0, 'gpu': 0, 'iterations': 10, 'matrixAHeight': 1536, 'matrixAWidth': 1536, 'matrixBHeight': 1536, 'matrixBWidth': 1536}  \n",
       "133                                                                                                             {'iterations': 50, 'np': 1000, 'x': 128, 'y': 128, 'z': 10}  \n",
       "134                                                                                                             {'iterations': 50, 'np': 1000, 'x': 128, 'y': 128, 'z': 10}  \n",
       "135                                                                                                             {'iterations': 50, 'np': 1000, 'x': 128, 'y': 128, 'z': 10}  "
      ]
     },
     "metadata": {},
     "output_type": "display_data"
    }
   ],
   "source": [
    "# Visualize the profiler session data\n",
    "overview_plot = complete_data_set.table_plot\n",
    "overview_plot.maximum_rows = 500\n",
    "overview_plot.plot()"
   ]
  },
  {
   "cell_type": "markdown",
   "metadata": {},
   "source": [
    "## Analysis\n",
    "\n",
    "Define the ID of the test you wish to visualize below."
   ]
  },
  {
   "cell_type": "code",
   "execution_count": 4,
   "metadata": {
    "pycharm": {
     "name": "#%%\n"
    }
   },
   "outputs": [],
   "source": [
    "profiler_session_id = complete_data_set.data[-1].id\n",
    "profiler_session_id = 133\n",
    "data_set = DataSet([profiler_session for profiler_session in complete_data_set.data if profiler_session.id == profiler_session_id])"
   ]
  },
  {
   "cell_type": "markdown",
   "metadata": {},
   "source": [
    "### Summary\n",
    "\n",
    "These are the specifications of the system with which the profiler session was performed."
   ]
  },
  {
   "cell_type": "code",
   "execution_count": 5,
   "metadata": {
    "pycharm": {
     "name": "#%%\n"
    }
   },
   "outputs": [
    {
     "name": "stdout",
     "output_type": "stream",
     "text": [
      "{'GPUs': [{'Brand': 'GeForce',\n",
      "           'Compute Capability Major Version': 5,\n",
      "           'Compute Capability Minor Version': 2,\n",
      "           'Default Auto Boosted Clocks Enabled': None,\n",
      "           'Default Power Limit (W)': '130.0',\n",
      "           'Memory Size (B)': '2.1 GB',\n",
      "           'Name': 'GeForce GTX 960',\n",
      "           'PCIe Link Width (B)': '16 Bytes',\n",
      "           'Supported Core Clock Rates (Hz)': [''],\n",
      "           'Supported Memory Clock Rates (Hz)': ['']}],\n",
      " 'Label': 'Matrix Multiply (EnergyMonitor System)'}\n"
     ]
    }
   ],
   "source": [
    "pprint.pprint(data_set.data[0].summary)"
   ]
  },
  {
   "cell_type": "markdown",
   "metadata": {},
   "source": [
    "### Profile\n",
    "\n",
    "This is the profile with which the profiler session was performed."
   ]
  },
  {
   "cell_type": "code",
   "execution_count": 6,
   "metadata": {
    "pycharm": {
     "name": "#%%\n"
    }
   },
   "outputs": [
    {
     "name": "stdout",
     "output_type": "stream",
     "text": [
      "{'core': 0,\n",
      " 'gpu': 0,\n",
      " 'iterations': 10,\n",
      " 'matrixAHeight': 1536,\n",
      " 'matrixAWidth': 1536,\n",
      " 'matrixBHeight': 1536,\n",
      " 'matrixBWidth': 1536}\n"
     ]
    }
   ],
   "source": [
    "pprint.pprint(data_set.data[0].profile)"
   ]
  },
  {
   "cell_type": "markdown",
   "metadata": {},
   "source": [
    "### Clock Rates\n",
    "\n",
    "The graph below shows the clock rate over time."
   ]
  },
  {
   "cell_type": "code",
   "execution_count": 7,
   "metadata": {
    "pycharm": {
     "name": "#%%\n"
    }
   },
   "outputs": [
    {
     "data": {
      "application/vnd.jupyter.widget-view+json": {
       "model_id": "816a65e3eb53443a84ed35b1bddb161b",
       "version_major": 2,
       "version_minor": 0
      },
      "text/plain": [
       "Canvas(toolbar=Toolbar(toolitems=[('Home', 'Reset original view', 'home', 'home'), ('Back', 'Back to previous …"
      ]
     },
     "metadata": {},
     "output_type": "display_data"
    }
   ],
   "source": [
    "clock_rate_timeseries_plot = data_set.data[0].clock_rate_timeseries_plot(plot_limits=False, use_ear=False)\n",
    "clock_rate_timeseries_plot.plot_series = { key: clock_rate_timeseries_plot.plot_series[key] for key in clock_rate_timeseries_plot.plot_series if (key.startswith(\"EAR\") or key.startswith(\"CPU 0\") and (not key.startswith(\"CPU 0 Core\") or key.startswith(\"CPU 0 Core 0\"))) or key.startswith(\"GPU 0\")}\n",
    "clock_rate_timeseries_plot.plot()"
   ]
  },
  {
   "cell_type": "markdown",
   "metadata": {},
   "source": [
    "### Correlations\n",
    "\n",
    "The graphs below shows the Pearson correlation heatmap for each performance variable."
   ]
  },
  {
   "cell_type": "code",
   "execution_count": 8,
   "metadata": {
    "pycharm": {
     "name": "#%%\n"
    }
   },
   "outputs": [],
   "source": [
    "#data_set.data[0].monitor_data_correlations_plot.plot()"
   ]
  },
  {
   "cell_type": "markdown",
   "metadata": {},
   "source": [
    "### Energy Consumption\n",
    "\n",
    "The graphs below shows the total energy consumption over time."
   ]
  },
  {
   "cell_type": "code",
   "execution_count": 9,
   "metadata": {
    "pycharm": {
     "name": "#%%\n"
    }
   },
   "outputs": [
    {
     "data": {
      "application/vnd.jupyter.widget-view+json": {
       "model_id": "c9470727b7474d9ca45434ff16cc9f7a",
       "version_major": 2,
       "version_minor": 0
      },
      "text/plain": [
       "Canvas(toolbar=Toolbar(toolitems=[('Home', 'Reset original view', 'home', 'home'), ('Back', 'Back to previous …"
      ]
     },
     "metadata": {},
     "output_type": "display_data"
    }
   ],
   "source": [
    "# # Plot in Joules\n",
    "energy_consumption_plot_j = data_set.data[0].energy_consumption_timeseries_plot(use_ear=False)\n",
    "energy_consumption_plot_j.plot_series = { key: energy_consumption_plot_j.plot_series[key] for key in energy_consumption_plot_j.plot_series if (key.startswith(\"EAR\") or key.startswith(\"CPU 0\") and (not key.startswith(\"CPU 0 Core\") or key.startswith(\"CPU 0 Core 0\"))) or key.startswith(\"GPU 0\") or key.startswith(\"Node\")}\n",
    "energy_consumption_plot_j.plot()\n",
    "\n",
    "# Plot in Watt Hours\n",
    "# energy_consumption_plot_wh = data_set.data[0].energy_consumption_timeseries_plot(unit_string=\"Wh\", modifier=Plot.j_to_wh, use_ear=False)\n",
    "# energy_consumption_plot_wh.plot_series = { key: energy_consumption_plot_wh.plot_series[key] for key in energy_consumption_plot_wh.plot_series if (key.startswith(\"EAR\") or key.startswith(\"CPU 0\") and (not key.startswith(\"CPU 0 Core\") or key.startswith(\"CPU 0 Core 0\"))) or key.startswith(\"GPU 0\") or key.startswith(\"Node\")}\n",
    "# energy_consumption_plot_wh.plot()"
   ]
  },
  {
   "cell_type": "markdown",
   "metadata": {},
   "source": [
    "### Events\n",
    "\n",
    "The graph below shows the events over time."
   ]
  },
  {
   "cell_type": "code",
   "execution_count": 10,
   "metadata": {
    "pycharm": {
     "name": "#%%\n"
    }
   },
   "outputs": [],
   "source": [
    "# for events_plot in data_set.data[0].events_event_plot()[:1]:\n",
    "#     events_plot.plot()"
   ]
  },
  {
   "cell_type": "markdown",
   "metadata": {},
   "source": [
    "### Fan Speed\n",
    "\n",
    "The graphs below shows the fan speed over time."
   ]
  },
  {
   "cell_type": "code",
   "execution_count": 11,
   "metadata": {
    "pycharm": {
     "name": "#%%\n"
    }
   },
   "outputs": [
    {
     "data": {
      "application/vnd.jupyter.widget-view+json": {
       "model_id": "8bd5f09b97494113befb0c802ff7fe6c",
       "version_major": 2,
       "version_minor": 0
      },
      "text/plain": [
       "Canvas(toolbar=Toolbar(toolitems=[('Home', 'Reset original view', 'home', 'home'), ('Back', 'Back to previous …"
      ]
     },
     "metadata": {},
     "output_type": "display_data"
    }
   ],
   "source": [
    "data_set.data[0].fan_speed_timeseries_plot.plot()"
   ]
  },
  {
   "cell_type": "markdown",
   "metadata": {},
   "source": [
    "### Instructions Per Cycle\n",
    "\n",
    "The graph below shows the utilization rates over time."
   ]
  },
  {
   "cell_type": "code",
   "execution_count": 12,
   "metadata": {
    "pycharm": {
     "name": "#%%\n"
    }
   },
   "outputs": [
    {
     "data": {
      "application/vnd.jupyter.widget-view+json": {
       "model_id": "4d8bfa281f504e548a82a44b1e892d76",
       "version_major": 2,
       "version_minor": 0
      },
      "text/plain": [
       "Canvas(toolbar=Toolbar(toolitems=[('Home', 'Reset original view', 'home', 'home'), ('Back', 'Back to previous …"
      ]
     },
     "metadata": {},
     "output_type": "display_data"
    },
    {
     "name": "stderr",
     "output_type": "stream",
     "text": [
      "/EnergyManager/Visualizer/Source/Visualizer/Plotting/AxesPlot.py:42: MatplotlibDeprecationWarning: Axes3D(fig) adding itself to the figure is deprecated since 3.4. Pass the keyword argument auto_add_to_figure=False and use fig.add_axes(ax) to suppress this warning. The default value of auto_add_to_figure will change to False in mpl3.5 and True values will no longer work in 3.6.  This is consistent with other Axes classes.\n",
      "  self.axes = Axes3D(self.figure)\n",
      "No handles with labels found to put in legend.\n"
     ]
    }
   ],
   "source": [
    "data_set.data[0].instructions_per_cycle_timeseries_plot.plot()"
   ]
  },
  {
   "cell_type": "markdown",
   "metadata": {},
   "source": [
    "### Memory Consumption\n",
    "\n",
    "The graphs below shows the memory consumption over time."
   ]
  },
  {
   "cell_type": "code",
   "execution_count": 13,
   "metadata": {
    "pycharm": {
     "name": "#%%\n"
    }
   },
   "outputs": [
    {
     "data": {
      "application/vnd.jupyter.widget-view+json": {
       "model_id": "cbd86e5f455a43149e0bcbfef4d640bf",
       "version_major": 2,
       "version_minor": 0
      },
      "text/plain": [
       "Canvas(toolbar=Toolbar(toolitems=[('Home', 'Reset original view', 'home', 'home'), ('Back', 'Back to previous …"
      ]
     },
     "metadata": {},
     "output_type": "display_data"
    }
   ],
   "source": [
    "data_set.data[0].memory_consumption_timeseries_plot(plot_sizes=False).plot()"
   ]
  },
  {
   "cell_type": "markdown",
   "metadata": {},
   "source": [
    "### Power Consumption\n",
    "\n",
    "The graph below shows the power consumption over time."
   ]
  },
  {
   "cell_type": "code",
   "execution_count": 14,
   "metadata": {
    "pycharm": {
     "name": "#%%\n"
    }
   },
   "outputs": [
    {
     "data": {
      "application/vnd.jupyter.widget-view+json": {
       "model_id": "2e4f1641eced40b886cf8365b762859e",
       "version_major": 2,
       "version_minor": 0
      },
      "text/plain": [
       "Canvas(toolbar=Toolbar(toolitems=[('Home', 'Reset original view', 'home', 'home'), ('Back', 'Back to previous …"
      ]
     },
     "metadata": {},
     "output_type": "display_data"
    }
   ],
   "source": [
    "power_consumption_timeseries_plot = data_set.data[0].power_consumption_timeseries_plot(plot_limits=False, use_ear=False)\n",
    "#power_consumption_timeseries_plot.plot_series = { key: power_consumption_timeseries_plot.plot_series[key] for key in power_consumption_timeseries_plot.plot_series if (key.startswith(\"CPU 1\") or key.startswith(\"EAR\") or key.startswith(\"CPU 0\") and (not key.startswith(\"CPU 0 Core\") or key.startswith(\"CPU 0 Core 0\"))) or key.startswith(\"GPU 0\") or key.startswith(\"Node\")}\n",
    "power_consumption_timeseries_plot.plot_series = { key: power_consumption_timeseries_plot.plot_series[key] for key in power_consumption_timeseries_plot.plot_series if (key.startswith(\"EAR\") or key.startswith(\"CPU 0\") and (not key.startswith(\"CPU 0 Core\") or key.startswith(\"CPU 0 Core 0\"))) or key.startswith(\"GPU 0\") or key.startswith(\"Node\")}\n",
    "power_consumption_timeseries_plot.plot()"
   ]
  },
  {
   "cell_type": "markdown",
   "metadata": {},
   "source": [
    "### Processes\n",
    "\n",
    "The graphs below shows the amount of processes over time."
   ]
  },
  {
   "cell_type": "code",
   "execution_count": 15,
   "metadata": {
    "pycharm": {
     "name": "#%%\n"
    }
   },
   "outputs": [
    {
     "data": {
      "application/vnd.jupyter.widget-view+json": {
       "model_id": "67a27520eaf14ad59876fe4c5bd925cd",
       "version_major": 2,
       "version_minor": 0
      },
      "text/plain": [
       "Canvas(toolbar=Toolbar(toolitems=[('Home', 'Reset original view', 'home', 'home'), ('Back', 'Back to previous …"
      ]
     },
     "metadata": {},
     "output_type": "display_data"
    }
   ],
   "source": [
    "data_set.data[0].processes_timeseries_plot.plot()"
   ]
  },
  {
   "cell_type": "markdown",
   "metadata": {},
   "source": [
    "### States\n",
    "\n",
    "The graph below shows the states of the EnergyMonitor over time."
   ]
  },
  {
   "cell_type": "code",
   "execution_count": 16,
   "metadata": {
    "pycharm": {
     "name": "#%%\n"
    }
   },
   "outputs": [
    {
     "data": {
      "application/vnd.jupyter.widget-view+json": {
       "model_id": "581897b31f2342b992d32847c1120333",
       "version_major": 2,
       "version_minor": 0
      },
      "text/plain": [
       "Canvas(toolbar=Toolbar(toolitems=[('Home', 'Reset original view', 'home', 'home'), ('Back', 'Back to previous …"
      ]
     },
     "metadata": {},
     "output_type": "display_data"
    }
   ],
   "source": [
    "data_set.data[0].states_event_plot().plot()"
   ]
  },
  {
   "cell_type": "markdown",
   "metadata": {},
   "source": [
    "### Temperature\n",
    "\n",
    "The graphs below shows the temperature over time."
   ]
  },
  {
   "cell_type": "code",
   "execution_count": 17,
   "metadata": {
    "pycharm": {
     "name": "#%%\n"
    }
   },
   "outputs": [
    {
     "data": {
      "application/vnd.jupyter.widget-view+json": {
       "model_id": "e955f7306708467f9bf6438085af862b",
       "version_major": 2,
       "version_minor": 0
      },
      "text/plain": [
       "Canvas(toolbar=Toolbar(toolitems=[('Home', 'Reset original view', 'home', 'home'), ('Back', 'Back to previous …"
      ]
     },
     "metadata": {},
     "output_type": "display_data"
    }
   ],
   "source": [
    "temperature_timeseries_plot = data_set.data[0].temperature_timeseries_plot\n",
    "temperature_timeseries_plot.plot_series = { key: temperature_timeseries_plot.plot_series[key] for key in temperature_timeseries_plot.plot_series if (key.startswith(\"CPU 0\") and (not key.startswith(\"CPU 0 Core\") or key.startswith(\"CPU 0 Core 0\"))) or key.startswith(\"GPU 0\") or key.startswith(\"Node\")}\n",
    "temperature_timeseries_plot.plot()"
   ]
  },
  {
   "cell_type": "markdown",
   "metadata": {},
   "source": [
    "### Timespan\n",
    "\n",
    "The graphs below shows the time spent on different types of operations over time."
   ]
  },
  {
   "cell_type": "code",
   "execution_count": 18,
   "metadata": {},
   "outputs": [
    {
     "data": {
      "application/vnd.jupyter.widget-view+json": {
       "model_id": "21a14fc6533f4f1baab6354222cd4fce",
       "version_major": 2,
       "version_minor": 0
      },
      "text/plain": [
       "Canvas(toolbar=Toolbar(toolitems=[('Home', 'Reset original view', 'home', 'home'), ('Back', 'Back to previous …"
      ]
     },
     "metadata": {},
     "output_type": "display_data"
    }
   ],
   "source": [
    "timespan_timeseries_plot = data_set.data[0].timespan_timeseries_plot(use_ear=False)\n",
    "timespan_timeseries_plot.plot_series = { key: timespan_timeseries_plot.plot_series[key] for key in timespan_timeseries_plot.plot_series if (key.startswith(\"Runtime\") or key.startswith(\"EAR\") or key.startswith(\"CPU 0 Core 0\"))}\n",
    "timespan_timeseries_plot.plot()"
   ]
  },
  {
   "cell_type": "markdown",
   "metadata": {},
   "source": [
    "### Utilization Rates\n",
    "\n",
    "The graph below shows the utilization rates over time."
   ]
  },
  {
   "cell_type": "code",
   "execution_count": 19,
   "metadata": {
    "pycharm": {
     "name": "#%%\n"
    }
   },
   "outputs": [
    {
     "data": {
      "application/vnd.jupyter.widget-view+json": {
       "model_id": "a7b46647dedd47bcb9801ad18ab662cc",
       "version_major": 2,
       "version_minor": 0
      },
      "text/plain": [
       "Canvas(toolbar=Toolbar(toolitems=[('Home', 'Reset original view', 'home', 'home'), ('Back', 'Back to previous …"
      ]
     },
     "metadata": {},
     "output_type": "display_data"
    }
   ],
   "source": [
    "utilization_rate_timeseries_plot = data_set.data[0].utilization_rate_timeseries_plot\n",
    "utilization_rate_timeseries_plot.plot_series = { key: utilization_rate_timeseries_plot.plot_series[key] for key in utilization_rate_timeseries_plot.plot_series if (key.startswith(\"CPU 0\") and (not key.startswith(\"CPU 0 Core\") or key.startswith(\"CPU 0 Core 0\"))) or key.startswith(\"GPU 0\") or key.startswith(\"Node\")}\n",
    "utilization_rate_timeseries_plot.plot()"
   ]
  },
  {
   "cell_type": "code",
   "execution_count": null,
   "metadata": {},
   "outputs": [],
   "source": []
  }
 ],
 "metadata": {
  "kernelspec": {
   "display_name": "Python 3",
   "language": "python",
   "name": "python3"
  },
  "language_info": {
   "codemirror_mode": {
    "name": "ipython",
    "version": 3
   },
   "file_extension": ".py",
   "mimetype": "text/x-python",
   "name": "python",
   "nbconvert_exporter": "python",
   "pygments_lexer": "ipython3",
   "version": "3.8.8"
  },
  "widgets": {
   "application/vnd.jupyter.widget-state+json": {
    "state": {
     "01a9704b5d2445e6a1f685a2b8115eaa": {
      "model_module": "jupyter-matplotlib",
      "model_module_version": "^0.8.3",
      "model_name": "MPLCanvasModel",
      "state": {
       "_cursor": "default",
       "_figure_label": "Figure 1",
       "_height": 500,
       "_image_mode": "diff",
       "_message": "x=01:59:00 y=1.109e+09",
       "_width": 1500,
       "layout": "IPY_MODEL_b45ab6e50906493d9b7b6759aa05288a",
       "toolbar": "IPY_MODEL_3f9b4f6487cd41029b671372fdd82e11",
       "toolbar_position": "left"
      }
     },
     "0447842c445e49adb0095e52fca9f48f": {
      "model_module": "@jupyter-widgets/base",
      "model_module_version": "1.2.0",
      "model_name": "LayoutModel",
      "state": {}
     },
     "09b1d8a2f6fb4024b4eaea3286fcc1bb": {
      "model_module": "@jupyter-widgets/base",
      "model_module_version": "1.2.0",
      "model_name": "LayoutModel",
      "state": {}
     },
     "14646379d9014f49a72d8b49a1aa2d9f": {
      "model_module": "@jupyter-widgets/base",
      "model_module_version": "1.2.0",
      "model_name": "LayoutModel",
      "state": {}
     },
     "1726660c819f41fbaea0a09e0329366f": {
      "model_module": "jupyter-matplotlib",
      "model_module_version": "^0.8.3",
      "model_name": "ToolbarModel",
      "state": {
       "layout": "IPY_MODEL_406b1ad25bbf484e8b3440b2676059d5",
       "toolitems": [
        [
         "Home",
         "Reset original view",
         "home",
         "home"
        ],
        [
         "Back",
         "Back to previous view",
         "arrow-left",
         "back"
        ],
        [
         "Forward",
         "Forward to next view",
         "arrow-right",
         "forward"
        ],
        [
         "Pan",
         "Left button pans, Right button zooms\nx/y fixes axis, CTRL fixes aspect",
         "arrows",
         "pan"
        ],
        [
         "Zoom",
         "Zoom to rectangle\nx/y fixes axis, CTRL fixes aspect",
         "square-o",
         "zoom"
        ],
        [
         "Download",
         "Download plot",
         "floppy-o",
         "save_figure"
        ]
       ]
      }
     },
     "188f1eee53b44123b827ab50202b4598": {
      "model_module": "@jupyter-widgets/base",
      "model_module_version": "1.2.0",
      "model_name": "LayoutModel",
      "state": {}
     },
     "18fb243c20c84d19b4f5d3f105c747cb": {
      "model_module": "@jupyter-widgets/base",
      "model_module_version": "1.2.0",
      "model_name": "LayoutModel",
      "state": {}
     },
     "1d1d139602504223b2e68bc74c7333da": {
      "model_module": "@jupyter-widgets/base",
      "model_module_version": "1.2.0",
      "model_name": "LayoutModel",
      "state": {}
     },
     "25e677fc7dca47209be6fc43aa7ce847": {
      "model_module": "jupyter-matplotlib",
      "model_module_version": "^0.8.3",
      "model_name": "MPLCanvasModel",
      "state": {
       "_cursor": "default",
       "_figure_label": "Figure 9",
       "_height": 500,
       "_image_mode": "diff",
       "_width": 1500,
       "layout": "IPY_MODEL_50b3a9b7929d437585a0672d6d98daf1",
       "toolbar": "IPY_MODEL_ae9502395f064808ac9a39e5ffe7f725",
       "toolbar_position": "left"
      }
     },
     "26dc5e0e0d3f458fab29b55337b79b26": {
      "model_module": "jupyter-matplotlib",
      "model_module_version": "^0.8.3",
      "model_name": "ToolbarModel",
      "state": {
       "layout": "IPY_MODEL_0447842c445e49adb0095e52fca9f48f",
       "toolitems": [
        [
         "Home",
         "Reset original view",
         "home",
         "home"
        ],
        [
         "Back",
         "Back to previous view",
         "arrow-left",
         "back"
        ],
        [
         "Forward",
         "Forward to next view",
         "arrow-right",
         "forward"
        ],
        [
         "Pan",
         "Left button pans, Right button zooms\nx/y fixes axis, CTRL fixes aspect",
         "arrows",
         "pan"
        ],
        [
         "Zoom",
         "Zoom to rectangle\nx/y fixes axis, CTRL fixes aspect",
         "square-o",
         "zoom"
        ],
        [
         "Download",
         "Download plot",
         "floppy-o",
         "save_figure"
        ]
       ]
      }
     },
     "29fe521539784b398dccbcd67aac0fcd": {
      "model_module": "jupyter-matplotlib",
      "model_module_version": "^0.8.3",
      "model_name": "MPLCanvasModel",
      "state": {
       "_cursor": "default",
       "_figure_label": "Figure 10",
       "_height": 500,
       "_image_mode": "diff",
       "_width": 1500,
       "layout": "IPY_MODEL_b74778a08b2b41188a6c08f7a76ba657",
       "toolbar": "IPY_MODEL_6d3f19fdb34d473684508a38cc0c29ed",
       "toolbar_position": "left"
      }
     },
     "2e24d39fdd26406cbb22308a1e3d2be9": {
      "model_module": "jupyter-matplotlib",
      "model_module_version": "^0.8.3",
      "model_name": "MPLCanvasModel",
      "state": {
       "_cursor": "default",
       "_figure_label": "Figure 2",
       "_height": 500,
       "_image_mode": "diff",
       "_width": 1500,
       "layout": "IPY_MODEL_09b1d8a2f6fb4024b4eaea3286fcc1bb",
       "toolbar": "IPY_MODEL_cbeb858e4dea403e90b669d9826113e9",
       "toolbar_position": "left"
      }
     },
     "31bfa8d84a8047a1b0ad21c9c14ce4f8": {
      "model_module": "jupyter-matplotlib",
      "model_module_version": "^0.8.3",
      "model_name": "ToolbarModel",
      "state": {
       "layout": "IPY_MODEL_188f1eee53b44123b827ab50202b4598",
       "toolitems": [
        [
         "Home",
         "Reset original view",
         "home",
         "home"
        ],
        [
         "Back",
         "Back to previous view",
         "arrow-left",
         "back"
        ],
        [
         "Forward",
         "Forward to next view",
         "arrow-right",
         "forward"
        ],
        [
         "Pan",
         "Left button pans, Right button zooms\nx/y fixes axis, CTRL fixes aspect",
         "arrows",
         "pan"
        ],
        [
         "Zoom",
         "Zoom to rectangle\nx/y fixes axis, CTRL fixes aspect",
         "square-o",
         "zoom"
        ],
        [
         "Download",
         "Download plot",
         "floppy-o",
         "save_figure"
        ]
       ]
      }
     },
     "352f2b91122444568b15953f6cafd767": {
      "model_module": "jupyter-matplotlib",
      "model_module_version": "^0.8.3",
      "model_name": "ToolbarModel",
      "state": {
       "layout": "IPY_MODEL_720641a9807a4f04b03e92f0df551a3e",
       "toolitems": [
        [
         "Home",
         "Reset original view",
         "home",
         "home"
        ],
        [
         "Back",
         "Back to previous view",
         "arrow-left",
         "back"
        ],
        [
         "Forward",
         "Forward to next view",
         "arrow-right",
         "forward"
        ],
        [
         "Pan",
         "Left button pans, Right button zooms\nx/y fixes axis, CTRL fixes aspect",
         "arrows",
         "pan"
        ],
        [
         "Zoom",
         "Zoom to rectangle\nx/y fixes axis, CTRL fixes aspect",
         "square-o",
         "zoom"
        ],
        [
         "Download",
         "Download plot",
         "floppy-o",
         "save_figure"
        ]
       ]
      }
     },
     "38fc729094174e1aa9d790318c70d43b": {
      "model_module": "jupyter-matplotlib",
      "model_module_version": "^0.8.3",
      "model_name": "ToolbarModel",
      "state": {
       "layout": "IPY_MODEL_86e5b506b5d04e0faa7bb248b3ce177a",
       "toolitems": [
        [
         "Home",
         "Reset original view",
         "home",
         "home"
        ],
        [
         "Back",
         "Back to previous view",
         "arrow-left",
         "back"
        ],
        [
         "Forward",
         "Forward to next view",
         "arrow-right",
         "forward"
        ],
        [
         "Pan",
         "Left button pans, Right button zooms\nx/y fixes axis, CTRL fixes aspect",
         "arrows",
         "pan"
        ],
        [
         "Zoom",
         "Zoom to rectangle\nx/y fixes axis, CTRL fixes aspect",
         "square-o",
         "zoom"
        ],
        [
         "Download",
         "Download plot",
         "floppy-o",
         "save_figure"
        ]
       ]
      }
     },
     "3a7909c028484feaac1562996fa354f1": {
      "model_module": "jupyter-matplotlib",
      "model_module_version": "^0.8.3",
      "model_name": "ToolbarModel",
      "state": {
       "layout": "IPY_MODEL_747d8cfad2ed4c81acc3fdcf1c5e6b7c",
       "toolitems": [
        [
         "Home",
         "Reset original view",
         "home",
         "home"
        ],
        [
         "Back",
         "Back to previous view",
         "arrow-left",
         "back"
        ],
        [
         "Forward",
         "Forward to next view",
         "arrow-right",
         "forward"
        ],
        [
         "Pan",
         "Left button pans, Right button zooms\nx/y fixes axis, CTRL fixes aspect",
         "arrows",
         "pan"
        ],
        [
         "Zoom",
         "Zoom to rectangle\nx/y fixes axis, CTRL fixes aspect",
         "square-o",
         "zoom"
        ],
        [
         "Download",
         "Download plot",
         "floppy-o",
         "save_figure"
        ]
       ]
      }
     },
     "3bfb909e658a4922ab3f482a582d0def": {
      "model_module": "jupyter-matplotlib",
      "model_module_version": "^0.8.3",
      "model_name": "MPLCanvasModel",
      "state": {
       "_cursor": "default",
       "_figure_label": "Figure 12",
       "_height": 500,
       "_image_mode": "diff",
       "_message": "x=01:59:17 y=9.31",
       "_width": 1500,
       "layout": "IPY_MODEL_1d1d139602504223b2e68bc74c7333da",
       "toolbar": "IPY_MODEL_1726660c819f41fbaea0a09e0329366f",
       "toolbar_position": "left"
      }
     },
     "3f9b4f6487cd41029b671372fdd82e11": {
      "model_module": "jupyter-matplotlib",
      "model_module_version": "^0.8.3",
      "model_name": "ToolbarModel",
      "state": {
       "layout": "IPY_MODEL_5e67cbfd4f1b451aa42a200c656791e3",
       "toolitems": [
        [
         "Home",
         "Reset original view",
         "home",
         "home"
        ],
        [
         "Back",
         "Back to previous view",
         "arrow-left",
         "back"
        ],
        [
         "Forward",
         "Forward to next view",
         "arrow-right",
         "forward"
        ],
        [
         "Pan",
         "Left button pans, Right button zooms\nx/y fixes axis, CTRL fixes aspect",
         "arrows",
         "pan"
        ],
        [
         "Zoom",
         "Zoom to rectangle\nx/y fixes axis, CTRL fixes aspect",
         "square-o",
         "zoom"
        ],
        [
         "Download",
         "Download plot",
         "floppy-o",
         "save_figure"
        ]
       ]
      }
     },
     "406b1ad25bbf484e8b3440b2676059d5": {
      "model_module": "@jupyter-widgets/base",
      "model_module_version": "1.2.0",
      "model_name": "LayoutModel",
      "state": {}
     },
     "4298ae8834bc4e898a7cbd01275824ad": {
      "model_module": "@jupyter-widgets/base",
      "model_module_version": "1.2.0",
      "model_name": "LayoutModel",
      "state": {}
     },
     "50b3a9b7929d437585a0672d6d98daf1": {
      "model_module": "@jupyter-widgets/base",
      "model_module_version": "1.2.0",
      "model_name": "LayoutModel",
      "state": {}
     },
     "5ace2a1ab3a2461ea791876a3aa6876b": {
      "model_module": "@jupyter-widgets/base",
      "model_module_version": "1.2.0",
      "model_name": "LayoutModel",
      "state": {}
     },
     "5e5e8513a71040f6824d4ac0ff720162": {
      "model_module": "@jupyter-widgets/base",
      "model_module_version": "1.2.0",
      "model_name": "LayoutModel",
      "state": {}
     },
     "5e67cbfd4f1b451aa42a200c656791e3": {
      "model_module": "@jupyter-widgets/base",
      "model_module_version": "1.2.0",
      "model_name": "LayoutModel",
      "state": {}
     },
     "5f935ec301fd4f3f9a68adec9d4fd8e5": {
      "model_module": "jupyter-matplotlib",
      "model_module_version": "^0.8.3",
      "model_name": "ToolbarModel",
      "state": {
       "layout": "IPY_MODEL_18fb243c20c84d19b4f5d3f105c747cb",
       "toolitems": [
        [
         "Home",
         "Reset original view",
         "home",
         "home"
        ],
        [
         "Back",
         "Back to previous view",
         "arrow-left",
         "back"
        ],
        [
         "Forward",
         "Forward to next view",
         "arrow-right",
         "forward"
        ],
        [
         "Pan",
         "Left button pans, Right button zooms\nx/y fixes axis, CTRL fixes aspect",
         "arrows",
         "pan"
        ],
        [
         "Zoom",
         "Zoom to rectangle\nx/y fixes axis, CTRL fixes aspect",
         "square-o",
         "zoom"
        ],
        [
         "Download",
         "Download plot",
         "floppy-o",
         "save_figure"
        ]
       ]
      }
     },
     "64f4796f224548189d57656b45dea030": {
      "model_module": "jupyter-matplotlib",
      "model_module_version": "^0.8.3",
      "model_name": "MPLCanvasModel",
      "state": {
       "_cursor": "default",
       "_figure_label": "Figure 11",
       "_height": 500,
       "_image_mode": "diff",
       "_message": "x=01:59:02 y=",
       "_width": 1500,
       "layout": "IPY_MODEL_789db58b02b04fa6b7503983d1e0e8f6",
       "toolbar": "IPY_MODEL_26dc5e0e0d3f458fab29b55337b79b26",
       "toolbar_position": "left"
      }
     },
     "65f14db70cac428b8e8d7bafb2c6e91e": {
      "model_module": "jupyter-matplotlib",
      "model_module_version": "^0.8.3",
      "model_name": "MPLCanvasModel",
      "state": {
       "_cursor": "default",
       "_figure_label": "Figure 3",
       "_height": 500,
       "_image_mode": "diff",
       "_message": "x=01:58:55 y=3.87",
       "_width": 1500,
       "layout": "IPY_MODEL_fe87b3205eec4c4ea8d5fd1a7b56f960",
       "toolbar": "IPY_MODEL_b5774bd74f36422eb62d4cbf8629e0ee",
       "toolbar_position": "left"
      }
     },
     "6d3f19fdb34d473684508a38cc0c29ed": {
      "model_module": "jupyter-matplotlib",
      "model_module_version": "^0.8.3",
      "model_name": "ToolbarModel",
      "state": {
       "layout": "IPY_MODEL_4298ae8834bc4e898a7cbd01275824ad",
       "toolitems": [
        [
         "Home",
         "Reset original view",
         "home",
         "home"
        ],
        [
         "Back",
         "Back to previous view",
         "arrow-left",
         "back"
        ],
        [
         "Forward",
         "Forward to next view",
         "arrow-right",
         "forward"
        ],
        [
         "Pan",
         "Left button pans, Right button zooms\nx/y fixes axis, CTRL fixes aspect",
         "arrows",
         "pan"
        ],
        [
         "Zoom",
         "Zoom to rectangle\nx/y fixes axis, CTRL fixes aspect",
         "square-o",
         "zoom"
        ],
        [
         "Download",
         "Download plot",
         "floppy-o",
         "save_figure"
        ]
       ]
      }
     },
     "720641a9807a4f04b03e92f0df551a3e": {
      "model_module": "@jupyter-widgets/base",
      "model_module_version": "1.2.0",
      "model_name": "LayoutModel",
      "state": {}
     },
     "747d8cfad2ed4c81acc3fdcf1c5e6b7c": {
      "model_module": "@jupyter-widgets/base",
      "model_module_version": "1.2.0",
      "model_name": "LayoutModel",
      "state": {}
     },
     "789db58b02b04fa6b7503983d1e0e8f6": {
      "model_module": "@jupyter-widgets/base",
      "model_module_version": "1.2.0",
      "model_name": "LayoutModel",
      "state": {}
     },
     "7e1f962377af4006a94c04ba38ca4bd2": {
      "model_module": "jupyter-matplotlib",
      "model_module_version": "^0.8.3",
      "model_name": "MPLCanvasModel",
      "state": {
       "_cursor": "default",
       "_figure_label": "Figure 15",
       "_height": 500,
       "_image_mode": "diff",
       "_message": "x=01:58:26 y=5.e+01",
       "_width": 1500,
       "layout": "IPY_MODEL_d73b2699cb454777957180c93bb5d18a",
       "toolbar": "IPY_MODEL_352f2b91122444568b15953f6cafd767",
       "toolbar_position": "left"
      }
     },
     "86e5b506b5d04e0faa7bb248b3ce177a": {
      "model_module": "@jupyter-widgets/base",
      "model_module_version": "1.2.0",
      "model_name": "LayoutModel",
      "state": {}
     },
     "8aa561d5622f455aacf6c334c18f787a": {
      "model_module": "@jupyter-widgets/base",
      "model_module_version": "1.2.0",
      "model_name": "LayoutModel",
      "state": {}
     },
     "95134be367ac473f8ae7a51d0a317267": {
      "model_module": "@jupyter-widgets/base",
      "model_module_version": "1.2.0",
      "model_name": "LayoutModel",
      "state": {}
     },
     "9899f5eafc9648caaca5f0c1e8cbb630": {
      "model_module": "jupyter-matplotlib",
      "model_module_version": "^0.8.3",
      "model_name": "ToolbarModel",
      "state": {
       "layout": "IPY_MODEL_9b44992e77674dc4961354e878dff8a8",
       "toolitems": [
        [
         "Home",
         "Reset original view",
         "home",
         "home"
        ],
        [
         "Back",
         "Back to previous view",
         "arrow-left",
         "back"
        ],
        [
         "Forward",
         "Forward to next view",
         "arrow-right",
         "forward"
        ],
        [
         "Pan",
         "Left button pans, Right button zooms\nx/y fixes axis, CTRL fixes aspect",
         "arrows",
         "pan"
        ],
        [
         "Zoom",
         "Zoom to rectangle\nx/y fixes axis, CTRL fixes aspect",
         "square-o",
         "zoom"
        ],
        [
         "Download",
         "Download plot",
         "floppy-o",
         "save_figure"
        ]
       ]
      }
     },
     "9b44992e77674dc4961354e878dff8a8": {
      "model_module": "@jupyter-widgets/base",
      "model_module_version": "1.2.0",
      "model_name": "LayoutModel",
      "state": {}
     },
     "9f3f8b405b654ee6ac34334b998a2e59": {
      "model_module": "@jupyter-widgets/base",
      "model_module_version": "1.2.0",
      "model_name": "LayoutModel",
      "state": {}
     },
     "a2e61f914f984d6e8c1fef7fbaa6d5d8": {
      "model_module": "@jupyter-widgets/base",
      "model_module_version": "1.2.0",
      "model_name": "LayoutModel",
      "state": {}
     },
     "a705e209657748ed9a625f953429e31e": {
      "model_module": "@jupyter-widgets/base",
      "model_module_version": "1.2.0",
      "model_name": "LayoutModel",
      "state": {}
     },
     "ae9502395f064808ac9a39e5ffe7f725": {
      "model_module": "jupyter-matplotlib",
      "model_module_version": "^0.8.3",
      "model_name": "ToolbarModel",
      "state": {
       "layout": "IPY_MODEL_9f3f8b405b654ee6ac34334b998a2e59",
       "toolitems": [
        [
         "Home",
         "Reset original view",
         "home",
         "home"
        ],
        [
         "Back",
         "Back to previous view",
         "arrow-left",
         "back"
        ],
        [
         "Forward",
         "Forward to next view",
         "arrow-right",
         "forward"
        ],
        [
         "Pan",
         "Left button pans, Right button zooms\nx/y fixes axis, CTRL fixes aspect",
         "arrows",
         "pan"
        ],
        [
         "Zoom",
         "Zoom to rectangle\nx/y fixes axis, CTRL fixes aspect",
         "square-o",
         "zoom"
        ],
        [
         "Download",
         "Download plot",
         "floppy-o",
         "save_figure"
        ]
       ]
      }
     },
     "b45ab6e50906493d9b7b6759aa05288a": {
      "model_module": "@jupyter-widgets/base",
      "model_module_version": "1.2.0",
      "model_name": "LayoutModel",
      "state": {}
     },
     "b5774bd74f36422eb62d4cbf8629e0ee": {
      "model_module": "jupyter-matplotlib",
      "model_module_version": "^0.8.3",
      "model_name": "ToolbarModel",
      "state": {
       "layout": "IPY_MODEL_ed97062e772744b19795b16fcaaf5ace",
       "toolitems": [
        [
         "Home",
         "Reset original view",
         "home",
         "home"
        ],
        [
         "Back",
         "Back to previous view",
         "arrow-left",
         "back"
        ],
        [
         "Forward",
         "Forward to next view",
         "arrow-right",
         "forward"
        ],
        [
         "Pan",
         "Left button pans, Right button zooms\nx/y fixes axis, CTRL fixes aspect",
         "arrows",
         "pan"
        ],
        [
         "Zoom",
         "Zoom to rectangle\nx/y fixes axis, CTRL fixes aspect",
         "square-o",
         "zoom"
        ],
        [
         "Download",
         "Download plot",
         "floppy-o",
         "save_figure"
        ]
       ]
      }
     },
     "b74778a08b2b41188a6c08f7a76ba657": {
      "model_module": "@jupyter-widgets/base",
      "model_module_version": "1.2.0",
      "model_name": "LayoutModel",
      "state": {}
     },
     "b8163f339983477da14a1bc97f289604": {
      "model_module": "@jupyter-widgets/base",
      "model_module_version": "1.2.0",
      "model_name": "LayoutModel",
      "state": {}
     },
     "c2eac638701741619edd638245aaac6e": {
      "model_module": "jupyter-matplotlib",
      "model_module_version": "^0.8.3",
      "model_name": "MPLCanvasModel",
      "state": {
       "_cursor": "default",
       "_figure_label": "Figure 6",
       "_height": 500,
       "_width": 1500,
       "layout": "IPY_MODEL_14646379d9014f49a72d8b49a1aa2d9f",
       "toolbar": "IPY_MODEL_f12d298dbf5a408992fc62f1c10d1cee",
       "toolbar_position": "left"
      }
     },
     "c8a34086359c4b78a13b8e9a4b7a2851": {
      "model_module": "jupyter-matplotlib",
      "model_module_version": "^0.8.3",
      "model_name": "MPLCanvasModel",
      "state": {
       "_cursor": "default",
       "_figure_label": "Figure 7",
       "_height": 500,
       "_width": 1500,
       "layout": "IPY_MODEL_d3a54dd2451f42f8a52b71928624626d",
       "toolbar": "IPY_MODEL_5f935ec301fd4f3f9a68adec9d4fd8e5",
       "toolbar_position": "left"
      }
     },
     "cb04c47111f34f9fa3922898b60ab4bf": {
      "model_module": "jupyter-matplotlib",
      "model_module_version": "^0.8.3",
      "model_name": "MPLCanvasModel",
      "state": {
       "_cursor": "default",
       "_figure_label": "Figure 8",
       "_height": 500,
       "_image_mode": "diff",
       "_width": 1500,
       "layout": "IPY_MODEL_5e5e8513a71040f6824d4ac0ff720162",
       "toolbar": "IPY_MODEL_9899f5eafc9648caaca5f0c1e8cbb630",
       "toolbar_position": "left"
      }
     },
     "cbeb858e4dea403e90b669d9826113e9": {
      "model_module": "jupyter-matplotlib",
      "model_module_version": "^0.8.3",
      "model_name": "ToolbarModel",
      "state": {
       "layout": "IPY_MODEL_5ace2a1ab3a2461ea791876a3aa6876b",
       "toolitems": [
        [
         "Home",
         "Reset original view",
         "home",
         "home"
        ],
        [
         "Back",
         "Back to previous view",
         "arrow-left",
         "back"
        ],
        [
         "Forward",
         "Forward to next view",
         "arrow-right",
         "forward"
        ],
        [
         "Pan",
         "Left button pans, Right button zooms\nx/y fixes axis, CTRL fixes aspect",
         "arrows",
         "pan"
        ],
        [
         "Zoom",
         "Zoom to rectangle\nx/y fixes axis, CTRL fixes aspect",
         "square-o",
         "zoom"
        ],
        [
         "Download",
         "Download plot",
         "floppy-o",
         "save_figure"
        ]
       ]
      }
     },
     "cc98378e9b5742c082c014325af49ec3": {
      "model_module": "jupyter-matplotlib",
      "model_module_version": "^0.8.3",
      "model_name": "ToolbarModel",
      "state": {
       "layout": "IPY_MODEL_8aa561d5622f455aacf6c334c18f787a",
       "toolitems": [
        [
         "Home",
         "Reset original view",
         "home",
         "home"
        ],
        [
         "Back",
         "Back to previous view",
         "arrow-left",
         "back"
        ],
        [
         "Forward",
         "Forward to next view",
         "arrow-right",
         "forward"
        ],
        [
         "Pan",
         "Left button pans, Right button zooms\nx/y fixes axis, CTRL fixes aspect",
         "arrows",
         "pan"
        ],
        [
         "Zoom",
         "Zoom to rectangle\nx/y fixes axis, CTRL fixes aspect",
         "square-o",
         "zoom"
        ],
        [
         "Download",
         "Download plot",
         "floppy-o",
         "save_figure"
        ]
       ]
      }
     },
     "d12d0c3c867a44c18644843173495b3c": {
      "model_module": "jupyter-matplotlib",
      "model_module_version": "^0.8.3",
      "model_name": "MPLCanvasModel",
      "state": {
       "_cursor": "default",
       "_figure_label": "Figure 14",
       "_height": 500,
       "_image_mode": "diff",
       "_message": "x=01:58:11 y=4.50",
       "_rubberband_y": 500,
       "_width": 1500,
       "layout": "IPY_MODEL_b8163f339983477da14a1bc97f289604",
       "toolbar": "IPY_MODEL_31bfa8d84a8047a1b0ad21c9c14ce4f8",
       "toolbar_position": "left"
      }
     },
     "d394e958162d417aaaa0d07075f26bb0": {
      "model_module": "jupyter-matplotlib",
      "model_module_version": "^0.8.3",
      "model_name": "MPLCanvasModel",
      "state": {
       "_cursor": "default",
       "_figure_label": "Figure 4",
       "_height": 500,
       "_image_mode": "diff",
       "_width": 1500,
       "layout": "IPY_MODEL_a705e209657748ed9a625f953429e31e",
       "toolbar": "IPY_MODEL_38fc729094174e1aa9d790318c70d43b",
       "toolbar_position": "left"
      }
     },
     "d3a54dd2451f42f8a52b71928624626d": {
      "model_module": "@jupyter-widgets/base",
      "model_module_version": "1.2.0",
      "model_name": "LayoutModel",
      "state": {}
     },
     "d73b2699cb454777957180c93bb5d18a": {
      "model_module": "@jupyter-widgets/base",
      "model_module_version": "1.2.0",
      "model_name": "LayoutModel",
      "state": {}
     },
     "e419fec60cc4420dab6c1bc85c9884ae": {
      "model_module": "jupyter-matplotlib",
      "model_module_version": "^0.8.3",
      "model_name": "MPLCanvasModel",
      "state": {
       "_cursor": "default",
       "_figure_label": "Figure 13",
       "_height": 500,
       "_image_mode": "diff",
       "_message": "x=01:59:44 y=11.5",
       "_width": 1500,
       "layout": "IPY_MODEL_a2e61f914f984d6e8c1fef7fbaa6d5d8",
       "toolbar": "IPY_MODEL_cc98378e9b5742c082c014325af49ec3",
       "toolbar_position": "left"
      }
     },
     "ed97062e772744b19795b16fcaaf5ace": {
      "model_module": "@jupyter-widgets/base",
      "model_module_version": "1.2.0",
      "model_name": "LayoutModel",
      "state": {}
     },
     "f12d298dbf5a408992fc62f1c10d1cee": {
      "model_module": "jupyter-matplotlib",
      "model_module_version": "^0.8.3",
      "model_name": "ToolbarModel",
      "state": {
       "layout": "IPY_MODEL_fc24c93eca8a432c88c3d0707f602fbf",
       "toolitems": [
        [
         "Home",
         "Reset original view",
         "home",
         "home"
        ],
        [
         "Back",
         "Back to previous view",
         "arrow-left",
         "back"
        ],
        [
         "Forward",
         "Forward to next view",
         "arrow-right",
         "forward"
        ],
        [
         "Pan",
         "Left button pans, Right button zooms\nx/y fixes axis, CTRL fixes aspect",
         "arrows",
         "pan"
        ],
        [
         "Zoom",
         "Zoom to rectangle\nx/y fixes axis, CTRL fixes aspect",
         "square-o",
         "zoom"
        ],
        [
         "Download",
         "Download plot",
         "floppy-o",
         "save_figure"
        ]
       ]
      }
     },
     "f2c7734ed37c42e0951c159b15c6a91d": {
      "model_module": "jupyter-matplotlib",
      "model_module_version": "^0.8.3",
      "model_name": "MPLCanvasModel",
      "state": {
       "_cursor": "default",
       "_figure_label": "Figure 5",
       "_height": 500,
       "_message": "x=0.0205 y=0.390",
       "_width": 1500,
       "layout": "IPY_MODEL_95134be367ac473f8ae7a51d0a317267",
       "toolbar": "IPY_MODEL_3a7909c028484feaac1562996fa354f1",
       "toolbar_position": "left"
      }
     },
     "fc24c93eca8a432c88c3d0707f602fbf": {
      "model_module": "@jupyter-widgets/base",
      "model_module_version": "1.2.0",
      "model_name": "LayoutModel",
      "state": {}
     },
     "fe87b3205eec4c4ea8d5fd1a7b56f960": {
      "model_module": "@jupyter-widgets/base",
      "model_module_version": "1.2.0",
      "model_name": "LayoutModel",
      "state": {}
     }
    },
    "version_major": 2,
    "version_minor": 0
   }
  }
 },
 "nbformat": 4,
 "nbformat_minor": 4
}
