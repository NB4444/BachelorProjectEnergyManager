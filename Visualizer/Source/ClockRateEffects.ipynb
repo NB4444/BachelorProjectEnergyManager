{
 "cells": [
  {
   "cell_type": "code",
   "execution_count": 1,
   "metadata": {
    "pycharm": {
     "name": "#%%\n"
    }
   },
   "outputs": [],
   "source": [
    "%matplotlib widget\n",
    "\n",
    "import pathlib\n",
    "import pprint\n",
    "\n",
    "from Visualizer.ControlledDataSet import ControlComparison, ControlledDataSet\n",
    "from Visualizer.DataSet import DataSet\n",
    "from Visualizer.Monitoring.Persistence.ProfilerSession import ProfilerSession"
   ]
  },
  {
   "cell_type": "markdown",
   "metadata": {},
   "source": [
    "# Configuration\n",
    "\n",
    "Configure the project settings below.\n",
    "The default configuration should be okay.\n",
    "Make sure that you have run at least one test with the EnergyManager and have generated a database, otherwise this notebook will fail."
   ]
  },
  {
   "cell_type": "code",
   "execution_count": 2,
   "metadata": {
    "pycharm": {
     "name": "#%%\n"
    }
   },
   "outputs": [],
   "source": [
    "source_directory = pathlib.Path().parent.absolute()\n",
    "project_directory = f\"{source_directory}/..\"\n",
    "database = f\"{project_directory}/../EnergyManager/Resources/Test Results/database.sqlite\"\n",
    "\n",
    "# Load all profiler sessions\n",
    "complete_data_set = DataSet(ProfilerSession.load_all(database))"
   ]
  },
  {
   "cell_type": "markdown",
   "metadata": {},
   "source": [
    "## Select\n",
    "\n",
    "Define the selection criteria for the profiler sessions you wish to analyze below.\n",
    "Here you should also select the profiler sessions to use as control data for some of the graphs."
   ]
  },
  {
   "cell_type": "code",
   "execution_count": 3,
   "metadata": {
    "pycharm": {
     "name": "#%%\n"
    }
   },
   "outputs": [],
   "source": [
    "# controlled_data_set = ControlledDataSet(\n",
    "#     data_set=complete_data_set,\n",
    "#     control_data_set=complete_data_set\n",
    "# )\n",
    "# controlled_data_set = ControlledDataSet(\n",
    "#     data_set=DataSet([profiler_session for profiler_session in complete_data_set.data if profiler_session.label == \"Fixed Frequency BFS\" and profiler_session.profile[\"file\"].endswith(\"graph1MW_6.txt\")]),\n",
    "#     control_data_set=DataSet([profiler_session for profiler_session in complete_data_set.data if profiler_session.label == \"BFS\" and profiler_session.profile[\"file\"].endswith(\"graph1MW_6.txt\")])\n",
    "# )\n",
    "controlled_data_set = ControlledDataSet(\n",
    "    data_set=DataSet([profiler_session for profiler_session in complete_data_set.data if profiler_session.label == \"Fixed Frequency KMeans\" and profiler_session.profile[\"file\"].endswith(\"kdd_cup\")]),\n",
    "    control_data_set=DataSet([profiler_session for profiler_session in complete_data_set.data if profiler_session.label == \"KMeans\" and profiler_session.profile[\"file\"].endswith(\"kdd_cup\")])\n",
    ")\n",
    "# controlled_data_set = ControlledDataSet(\n",
    "#     data_set=DataSet([profiler_session for profiler_session in complete_data_set.data if profiler_session.label == \"Fixed Frequency Matrix Multiply\" and profiler_session.profile[\"matrixAWidth\"] == 32 * 30]),\n",
    "#     control_data_set=DataSet([profiler_session for profiler_session in complete_data_set.data if profiler_session.label == \"Matrix Multiply\" and profiler_session.profile[\"matrixAWidth\"] == 32 * 30])\n",
    "# )"
   ]
  },
  {
   "cell_type": "markdown",
   "metadata": {},
   "source": [
    "# FLOPs vs Energy Consumption\n",
    "\n",
    "This graph shows the amount of energy consumed compared to the most energy efficient run plotted against the amount of FLOPs compared to the fastest run."
   ]
  },
  {
   "cell_type": "markdown",
   "metadata": {},
   "source": [
    "## Data"
   ]
  },
  {
   "cell_type": "code",
   "execution_count": 4,
   "metadata": {
    "collapsed": false,
    "jupyter": {
     "outputs_hidden": false
    },
    "pycharm": {
     "name": "#%%\n"
    }
   },
   "outputs": [],
   "source": [
    "# controlled_data_set.data_set.energy_consumption_vs_flops_scatter_plot(normalized=False).plot()"
   ]
  },
  {
   "cell_type": "markdown",
   "metadata": {},
   "source": [
    "## Control Data"
   ]
  },
  {
   "cell_type": "code",
   "execution_count": 5,
   "metadata": {},
   "outputs": [],
   "source": [
    "# controlled_data_set.control_data_set.energy_consumption_vs_flops_scatter_plot(normalized=False).plot()"
   ]
  },
  {
   "cell_type": "markdown",
   "metadata": {},
   "source": [
    "# Runtime vs. Energy Consumption\n",
    "\n",
    "This graph shows the amount of energy consumed compared to the most energy efficient run plotted against the runtime compared to the fastest run."
   ]
  },
  {
   "cell_type": "markdown",
   "metadata": {},
   "source": [
    "## Data"
   ]
  },
  {
   "cell_type": "code",
   "execution_count": 6,
   "metadata": {
    "collapsed": false,
    "jupyter": {
     "outputs_hidden": false
    },
    "pycharm": {
     "name": "#%%\n"
    }
   },
   "outputs": [
    {
     "data": {
      "application/vnd.jupyter.widget-view+json": {
       "model_id": "7d21b44da542489a9e6029375d9b9553",
       "version_major": 2,
       "version_minor": 0
      },
      "text/plain": [
       "Canvas(toolbar=Toolbar(toolitems=[('Home', 'Reset original view', 'home', 'home'), ('Back', 'Back to previous …"
      ]
     },
     "metadata": {},
     "output_type": "display_data"
    },
    {
     "name": "stderr",
     "output_type": "stream",
     "text": [
      "/data/Cloud/Nextcloud/Education/Vrije Universiteit/Master Project/Project/Visualizer/Source/Visualizer/Plotting/AxesPlot.py:108: UserWarning: Tight layout not applied. The bottom and top margins cannot be made large enough to accommodate all axes decorations. \n",
      "  self.figure.tight_layout()\n"
     ]
    }
   ],
   "source": [
    "controlled_data_set.data_set.energy_consumption_vs_runtime_scatter_plot(normalized=False).plot()"
   ]
  },
  {
   "cell_type": "markdown",
   "metadata": {},
   "source": [
    "## Control Data"
   ]
  },
  {
   "cell_type": "code",
   "execution_count": 7,
   "metadata": {},
   "outputs": [
    {
     "data": {
      "application/vnd.jupyter.widget-view+json": {
       "model_id": "d70c3687c7304598b9e1b456fcff65cf",
       "version_major": 2,
       "version_minor": 0
      },
      "text/plain": [
       "Canvas(toolbar=Toolbar(toolitems=[('Home', 'Reset original view', 'home', 'home'), ('Back', 'Back to previous …"
      ]
     },
     "metadata": {},
     "output_type": "display_data"
    }
   ],
   "source": [
    "controlled_data_set.control_data_set.energy_consumption_vs_runtime_scatter_plot(normalized=False).plot()"
   ]
  },
  {
   "cell_type": "markdown",
   "metadata": {},
   "source": [
    "# FLOPs Decrease vs. Energy Savings\n",
    "\n",
    "This graph shows the amount of energy saved compared to the run with the most FLOPs plotted against the decrease in FLOPs compared to the run with the most FLOPs."
   ]
  },
  {
   "cell_type": "code",
   "execution_count": 8,
   "metadata": {
    "collapsed": false,
    "jupyter": {
     "outputs_hidden": false
    },
    "pycharm": {
     "name": "#%%\n"
    }
   },
   "outputs": [],
   "source": [
    "# controlled_data_set.energy_savings_vs_flops_decrease_plot(normalized=False, control_comparison=ControlComparison.MEAN).plot()"
   ]
  },
  {
   "cell_type": "markdown",
   "metadata": {},
   "source": [
    "# Runtime Increase vs. Energy Savings\n",
    "\n",
    "This graph shows the amount of energy saved compared to the fastest run plotted against the increase in runtime compared to the fastest run."
   ]
  },
  {
   "cell_type": "code",
   "execution_count": 9,
   "metadata": {
    "pycharm": {
     "name": "#%%\n"
    }
   },
   "outputs": [
    {
     "data": {
      "application/vnd.jupyter.widget-view+json": {
       "model_id": "8c85ace2870f4e978b5e75fd9f3b98aa",
       "version_major": 2,
       "version_minor": 0
      },
      "text/plain": [
       "Canvas(toolbar=Toolbar(toolitems=[('Home', 'Reset original view', 'home', 'home'), ('Back', 'Back to previous …"
      ]
     },
     "metadata": {},
     "output_type": "display_data"
    }
   ],
   "source": [
    "controlled_data_set.energy_savings_vs_runtime_increase_plot(normalized=False, control_comparison=ControlComparison.MEAN).plot()"
   ]
  },
  {
   "cell_type": "markdown",
   "metadata": {},
   "source": [
    "# Energy Consumption\n",
    "\n",
    "This graph plots the effect on the energy consumption."
   ]
  },
  {
   "cell_type": "code",
   "execution_count": 10,
   "metadata": {
    "collapsed": false,
    "jupyter": {
     "outputs_hidden": false
    },
    "pycharm": {
     "name": "#%%\n"
    }
   },
   "outputs": [
    {
     "data": {
      "application/vnd.jupyter.widget-view+json": {
       "model_id": "25966f8973db4177a2775f2124e3d715",
       "version_major": 2,
       "version_minor": 0
      },
      "text/plain": [
       "Canvas(toolbar=Toolbar(toolitems=[('Home', 'Reset original view', 'home', 'home'), ('Back', 'Back to previous …"
      ]
     },
     "metadata": {},
     "output_type": "display_data"
    }
   ],
   "source": [
    "controlled_data_set.data_set.core_clock_rate_vs_gpu_clock_rate_vs_energy_consumption_scatter_plot.plot()"
   ]
  },
  {
   "cell_type": "markdown",
   "metadata": {},
   "source": [
    "# Energy Savings\n",
    "\n",
    "This graph plots the effect on the energy savings compared to the control data."
   ]
  },
  {
   "cell_type": "code",
   "execution_count": 11,
   "metadata": {
    "collapsed": false,
    "jupyter": {
     "outputs_hidden": false
    },
    "pycharm": {
     "name": "#%%\n"
    }
   },
   "outputs": [
    {
     "data": {
      "application/vnd.jupyter.widget-view+json": {
       "model_id": "fbde56fee3004512922f280f63acfed7",
       "version_major": 2,
       "version_minor": 0
      },
      "text/plain": [
       "Canvas(toolbar=Toolbar(toolitems=[('Home', 'Reset original view', 'home', 'home'), ('Back', 'Back to previous …"
      ]
     },
     "metadata": {},
     "output_type": "display_data"
    }
   ],
   "source": [
    "controlled_data_set.core_clock_rate_vs_gpu_clock_rate_vs_energy_savings_scatter_plot(control_comparison=ControlComparison.MEAN).plot()"
   ]
  },
  {
   "cell_type": "markdown",
   "metadata": {},
   "source": [
    "# Runtime\n",
    "\n",
    "This graph plots the effect on the runtime."
   ]
  },
  {
   "cell_type": "code",
   "execution_count": 12,
   "metadata": {
    "collapsed": false,
    "jupyter": {
     "outputs_hidden": false
    },
    "pycharm": {
     "name": "#%%\n"
    }
   },
   "outputs": [
    {
     "data": {
      "application/vnd.jupyter.widget-view+json": {
       "model_id": "6da4c7420a584538af7c5f4f9d099948",
       "version_major": 2,
       "version_minor": 0
      },
      "text/plain": [
       "Canvas(toolbar=Toolbar(toolitems=[('Home', 'Reset original view', 'home', 'home'), ('Back', 'Back to previous …"
      ]
     },
     "metadata": {},
     "output_type": "display_data"
    }
   ],
   "source": [
    "controlled_data_set.data_set.core_clock_rate_vs_gpu_clock_rate_vs_runtime_scatter_plot.plot()"
   ]
  },
  {
   "cell_type": "markdown",
   "metadata": {},
   "source": [
    "# Runtime Increase\n",
    "\n",
    "This graph plots the effect on the energy savings compared to the control data."
   ]
  },
  {
   "cell_type": "code",
   "execution_count": 13,
   "metadata": {
    "collapsed": false,
    "jupyter": {
     "outputs_hidden": false
    },
    "pycharm": {
     "name": "#%%\n"
    }
   },
   "outputs": [
    {
     "data": {
      "application/vnd.jupyter.widget-view+json": {
       "model_id": "6afbff2f160040a7a461d59f288aa6b7",
       "version_major": 2,
       "version_minor": 0
      },
      "text/plain": [
       "Canvas(toolbar=Toolbar(toolitems=[('Home', 'Reset original view', 'home', 'home'), ('Back', 'Back to previous …"
      ]
     },
     "metadata": {},
     "output_type": "display_data"
    }
   ],
   "source": [
    "controlled_data_set.core_clock_rate_vs_gpu_clock_rate_vs_runtime_increase_scatter_plot(control_comparison=ControlComparison.MEAN).plot()"
   ]
  }
 ],
 "metadata": {
  "kernelspec": {
   "display_name": "Python 3",
   "language": "python",
   "name": "python3"
  },
  "language_info": {
   "codemirror_mode": {
    "name": "ipython",
    "version": 3
   },
   "file_extension": ".py",
   "mimetype": "text/x-python",
   "name": "python",
   "nbconvert_exporter": "python",
   "pygments_lexer": "ipython3",
   "version": "3.8.5"
  },
  "toc-autonumbering": true,
  "widgets": {
   "application/vnd.jupyter.widget-state+json": {
    "state": {
     "07c5d47ac7e64b0d8eab3f29b19ab2d6": {
      "model_module": "@jupyter-widgets/base",
      "model_module_version": "1.2.0",
      "model_name": "LayoutModel",
      "state": {}
     },
     "0d07c238ead14a2583e3d40f0bf512b0": {
      "model_module": "@jupyter-widgets/base",
      "model_module_version": "1.2.0",
      "model_name": "LayoutModel",
      "state": {}
     },
     "1528cbafbf86403b9e2d98e383da27e6": {
      "model_module": "@jupyter-widgets/base",
      "model_module_version": "1.2.0",
      "model_name": "LayoutModel",
      "state": {}
     },
     "1aeb822fe9f94d0c8e15c61d67748bfe": {
      "model_module": "jupyter-matplotlib",
      "model_module_version": "^0.7.4",
      "model_name": "ToolbarModel",
      "state": {
       "layout": "IPY_MODEL_7a90060a0ab247aea4bba1516e9eef5e",
       "toolitems": [
        [
         "Home",
         "Reset original view",
         "home",
         "home"
        ],
        [
         "Back",
         "Back to previous view",
         "arrow-left",
         "back"
        ],
        [
         "Forward",
         "Forward to next view",
         "arrow-right",
         "forward"
        ],
        [
         "Pan",
         "Left button pans, Right button zooms\nx/y fixes axis, CTRL fixes aspect",
         "arrows",
         "pan"
        ],
        [
         "Zoom",
         "Zoom to rectangle\nx/y fixes axis, CTRL fixes aspect",
         "square-o",
         "zoom"
        ],
        [
         "Download",
         "Download plot",
         "floppy-o",
         "save_figure"
        ]
       ]
      }
     },
     "1c57f911dc064b4995a7d453dbe8881f": {
      "model_module": "jupyter-matplotlib",
      "model_module_version": "^0.7.4",
      "model_name": "ToolbarModel",
      "state": {
       "layout": "IPY_MODEL_07c5d47ac7e64b0d8eab3f29b19ab2d6",
       "toolitems": [
        [
         "Home",
         "Reset original view",
         "home",
         "home"
        ],
        [
         "Back",
         "Back to previous view",
         "arrow-left",
         "back"
        ],
        [
         "Forward",
         "Forward to next view",
         "arrow-right",
         "forward"
        ],
        [
         "Pan",
         "Left button pans, Right button zooms\nx/y fixes axis, CTRL fixes aspect",
         "arrows",
         "pan"
        ],
        [
         "Zoom",
         "Zoom to rectangle\nx/y fixes axis, CTRL fixes aspect",
         "square-o",
         "zoom"
        ],
        [
         "Download",
         "Download plot",
         "floppy-o",
         "save_figure"
        ]
       ]
      }
     },
     "25966f8973db4177a2775f2124e3d715": {
      "model_module": "jupyter-matplotlib",
      "model_module_version": "^0.7.4",
      "model_name": "MPLCanvasModel",
      "state": {
       "_cursor": "default",
       "_figure_label": "Figure 4",
       "_height": 500,
       "_width": 1500,
       "layout": "IPY_MODEL_5f4a425179c248e18fea2a38c15b4c7b",
       "toolbar": "IPY_MODEL_839c41e2502b45dfa79f344e87354599",
       "toolbar_position": "left"
      }
     },
     "2871952c06464ac9b2bb76e99176e61e": {
      "model_module": "jupyter-matplotlib",
      "model_module_version": "^0.7.4",
      "model_name": "ToolbarModel",
      "state": {
       "layout": "IPY_MODEL_b96493e08ff34230bc80673f907c65a7",
       "toolitems": [
        [
         "Home",
         "Reset original view",
         "home",
         "home"
        ],
        [
         "Back",
         "Back to previous view",
         "arrow-left",
         "back"
        ],
        [
         "Forward",
         "Forward to next view",
         "arrow-right",
         "forward"
        ],
        [
         "Pan",
         "Left button pans, Right button zooms\nx/y fixes axis, CTRL fixes aspect",
         "arrows",
         "pan"
        ],
        [
         "Zoom",
         "Zoom to rectangle\nx/y fixes axis, CTRL fixes aspect",
         "square-o",
         "zoom"
        ],
        [
         "Download",
         "Download plot",
         "floppy-o",
         "save_figure"
        ]
       ]
      }
     },
     "2a76b4ae700e4e4893ca8b747fba25a6": {
      "model_module": "@jupyter-widgets/base",
      "model_module_version": "1.2.0",
      "model_name": "LayoutModel",
      "state": {}
     },
     "2a98de7e965449ce94fddee0e364816f": {
      "model_module": "@jupyter-widgets/base",
      "model_module_version": "1.2.0",
      "model_name": "LayoutModel",
      "state": {}
     },
     "3116950527e649b7ac78c490a0a8d86a": {
      "model_module": "@jupyter-widgets/base",
      "model_module_version": "1.2.0",
      "model_name": "LayoutModel",
      "state": {}
     },
     "3ad3264ad74e4dce9103508606619ef3": {
      "model_module": "@jupyter-widgets/base",
      "model_module_version": "1.2.0",
      "model_name": "LayoutModel",
      "state": {}
     },
     "5f4a425179c248e18fea2a38c15b4c7b": {
      "model_module": "@jupyter-widgets/base",
      "model_module_version": "1.2.0",
      "model_name": "LayoutModel",
      "state": {}
     },
     "640a5723dccf48aab03c2b8636646563": {
      "model_module": "jupyter-matplotlib",
      "model_module_version": "^0.7.4",
      "model_name": "ToolbarModel",
      "state": {
       "layout": "IPY_MODEL_f0277eeb76d74e5689e4c8fc89ce4b7b",
       "toolitems": [
        [
         "Home",
         "Reset original view",
         "home",
         "home"
        ],
        [
         "Back",
         "Back to previous view",
         "arrow-left",
         "back"
        ],
        [
         "Forward",
         "Forward to next view",
         "arrow-right",
         "forward"
        ],
        [
         "Pan",
         "Left button pans, Right button zooms\nx/y fixes axis, CTRL fixes aspect",
         "arrows",
         "pan"
        ],
        [
         "Zoom",
         "Zoom to rectangle\nx/y fixes axis, CTRL fixes aspect",
         "square-o",
         "zoom"
        ],
        [
         "Download",
         "Download plot",
         "floppy-o",
         "save_figure"
        ]
       ]
      }
     },
     "6afbff2f160040a7a461d59f288aa6b7": {
      "model_module": "jupyter-matplotlib",
      "model_module_version": "^0.7.4",
      "model_name": "MPLCanvasModel",
      "state": {
       "_cursor": "default",
       "_figure_label": "Figure 7",
       "_height": 500,
       "_width": 1500,
       "layout": "IPY_MODEL_2a76b4ae700e4e4893ca8b747fba25a6",
       "toolbar": "IPY_MODEL_c66b96e9c9274ef7a42a9ade0d9644e1",
       "toolbar_position": "left"
      }
     },
     "6da4c7420a584538af7c5f4f9d099948": {
      "model_module": "jupyter-matplotlib",
      "model_module_version": "^0.7.4",
      "model_name": "MPLCanvasModel",
      "state": {
       "_cursor": "default",
       "_figure_label": "Figure 6",
       "_height": 500,
       "_width": 1500,
       "layout": "IPY_MODEL_f1ec453cc4c844b49506ddbd31cd6121",
       "toolbar": "IPY_MODEL_bec439a3203d4101afcc4faf943412fc",
       "toolbar_position": "left"
      }
     },
     "7a90060a0ab247aea4bba1516e9eef5e": {
      "model_module": "@jupyter-widgets/base",
      "model_module_version": "1.2.0",
      "model_name": "LayoutModel",
      "state": {}
     },
     "7d21b44da542489a9e6029375d9b9553": {
      "model_module": "jupyter-matplotlib",
      "model_module_version": "^0.7.4",
      "model_name": "MPLCanvasModel",
      "state": {
       "_cursor": "default",
       "_figure_label": "Figure 1",
       "_height": 500,
       "_message": "x=1.944 y=3.0",
       "_width": 1500,
       "layout": "IPY_MODEL_2a98de7e965449ce94fddee0e364816f",
       "toolbar": "IPY_MODEL_1aeb822fe9f94d0c8e15c61d67748bfe",
       "toolbar_position": "left"
      }
     },
     "839c41e2502b45dfa79f344e87354599": {
      "model_module": "jupyter-matplotlib",
      "model_module_version": "^0.7.4",
      "model_name": "ToolbarModel",
      "state": {
       "layout": "IPY_MODEL_ea843ac9a1644dbc892d9a066e84b115",
       "toolitems": [
        [
         "Home",
         "Reset original view",
         "home",
         "home"
        ],
        [
         "Back",
         "Back to previous view",
         "arrow-left",
         "back"
        ],
        [
         "Forward",
         "Forward to next view",
         "arrow-right",
         "forward"
        ],
        [
         "Pan",
         "Left button pans, Right button zooms\nx/y fixes axis, CTRL fixes aspect",
         "arrows",
         "pan"
        ],
        [
         "Zoom",
         "Zoom to rectangle\nx/y fixes axis, CTRL fixes aspect",
         "square-o",
         "zoom"
        ],
        [
         "Download",
         "Download plot",
         "floppy-o",
         "save_figure"
        ]
       ]
      }
     },
     "899fb7775ec940f2bfe590886abd0009": {
      "model_module": "@jupyter-widgets/base",
      "model_module_version": "1.2.0",
      "model_name": "LayoutModel",
      "state": {}
     },
     "8c85ace2870f4e978b5e75fd9f3b98aa": {
      "model_module": "jupyter-matplotlib",
      "model_module_version": "^0.7.4",
      "model_name": "MPLCanvasModel",
      "state": {
       "_cursor": "default",
       "_figure_label": "Figure 3",
       "_height": 500,
       "_width": 1500,
       "layout": "IPY_MODEL_0d07c238ead14a2583e3d40f0bf512b0",
       "toolbar": "IPY_MODEL_1c57f911dc064b4995a7d453dbe8881f",
       "toolbar_position": "left"
      }
     },
     "b96493e08ff34230bc80673f907c65a7": {
      "model_module": "@jupyter-widgets/base",
      "model_module_version": "1.2.0",
      "model_name": "LayoutModel",
      "state": {}
     },
     "bec439a3203d4101afcc4faf943412fc": {
      "model_module": "jupyter-matplotlib",
      "model_module_version": "^0.7.4",
      "model_name": "ToolbarModel",
      "state": {
       "layout": "IPY_MODEL_1528cbafbf86403b9e2d98e383da27e6",
       "toolitems": [
        [
         "Home",
         "Reset original view",
         "home",
         "home"
        ],
        [
         "Back",
         "Back to previous view",
         "arrow-left",
         "back"
        ],
        [
         "Forward",
         "Forward to next view",
         "arrow-right",
         "forward"
        ],
        [
         "Pan",
         "Left button pans, Right button zooms\nx/y fixes axis, CTRL fixes aspect",
         "arrows",
         "pan"
        ],
        [
         "Zoom",
         "Zoom to rectangle\nx/y fixes axis, CTRL fixes aspect",
         "square-o",
         "zoom"
        ],
        [
         "Download",
         "Download plot",
         "floppy-o",
         "save_figure"
        ]
       ]
      }
     },
     "c66b96e9c9274ef7a42a9ade0d9644e1": {
      "model_module": "jupyter-matplotlib",
      "model_module_version": "^0.7.4",
      "model_name": "ToolbarModel",
      "state": {
       "layout": "IPY_MODEL_899fb7775ec940f2bfe590886abd0009",
       "toolitems": [
        [
         "Home",
         "Reset original view",
         "home",
         "home"
        ],
        [
         "Back",
         "Back to previous view",
         "arrow-left",
         "back"
        ],
        [
         "Forward",
         "Forward to next view",
         "arrow-right",
         "forward"
        ],
        [
         "Pan",
         "Left button pans, Right button zooms\nx/y fixes axis, CTRL fixes aspect",
         "arrows",
         "pan"
        ],
        [
         "Zoom",
         "Zoom to rectangle\nx/y fixes axis, CTRL fixes aspect",
         "square-o",
         "zoom"
        ],
        [
         "Download",
         "Download plot",
         "floppy-o",
         "save_figure"
        ]
       ]
      }
     },
     "d70c3687c7304598b9e1b456fcff65cf": {
      "model_module": "jupyter-matplotlib",
      "model_module_version": "^0.7.4",
      "model_name": "MPLCanvasModel",
      "state": {
       "_cursor": "default",
       "_figure_label": "Figure 2",
       "_height": 500,
       "_width": 1500,
       "layout": "IPY_MODEL_3ad3264ad74e4dce9103508606619ef3",
       "toolbar": "IPY_MODEL_2871952c06464ac9b2bb76e99176e61e",
       "toolbar_position": "left"
      }
     },
     "ea843ac9a1644dbc892d9a066e84b115": {
      "model_module": "@jupyter-widgets/base",
      "model_module_version": "1.2.0",
      "model_name": "LayoutModel",
      "state": {}
     },
     "f0277eeb76d74e5689e4c8fc89ce4b7b": {
      "model_module": "@jupyter-widgets/base",
      "model_module_version": "1.2.0",
      "model_name": "LayoutModel",
      "state": {}
     },
     "f1ec453cc4c844b49506ddbd31cd6121": {
      "model_module": "@jupyter-widgets/base",
      "model_module_version": "1.2.0",
      "model_name": "LayoutModel",
      "state": {}
     },
     "fbde56fee3004512922f280f63acfed7": {
      "model_module": "jupyter-matplotlib",
      "model_module_version": "^0.7.4",
      "model_name": "MPLCanvasModel",
      "state": {
       "_cursor": "default",
       "_figure_label": "Figure 5",
       "_height": 500,
       "_width": 1500,
       "layout": "IPY_MODEL_3116950527e649b7ac78c490a0a8d86a",
       "toolbar": "IPY_MODEL_640a5723dccf48aab03c2b8636646563",
       "toolbar_position": "left"
      }
     }
    },
    "version_major": 2,
    "version_minor": 0
   }
  }
 },
 "nbformat": 4,
 "nbformat_minor": 4
}
