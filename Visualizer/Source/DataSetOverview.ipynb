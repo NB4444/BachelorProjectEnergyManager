{
 "cells": [
  {
   "cell_type": "code",
   "execution_count": 1,
   "metadata": {
    "pycharm": {
     "name": "#%%\n"
    }
   },
   "outputs": [],
   "source": [
    "%matplotlib widget\n",
    "\n",
    "import pathlib\n",
    "import pprint\n",
    "\n",
    "from Visualizer.ControlledDataSet import ControlComparison, ControlledDataSet\n",
    "from Visualizer.DataSet import DataSet\n",
    "from Visualizer.Monitoring.Persistence.ProfilerSession import ProfilerSession"
   ]
  },
  {
   "cell_type": "markdown",
   "metadata": {},
   "source": [
    "# Configuration\n",
    "\n",
    "Configure the project settings below.\n",
    "The default configuration should be okay.\n",
    "Make sure that you have run at least one test with the EnergyManager and have generated a database, otherwise this notebook will fail."
   ]
  },
  {
   "cell_type": "code",
   "execution_count": 2,
   "metadata": {
    "pycharm": {
     "name": "#%%\n"
    }
   },
   "outputs": [],
   "source": [
    "source_directory = pathlib.Path().parent.absolute()\n",
    "project_directory = f\"{source_directory}/..\"\n",
    "database = f\"{project_directory}/../EnergyManager/Resources/Data/TestDatabase.sqlite\"\n",
    "\n",
    "# Load all profiler sessions\n",
    "complete_data_set = DataSet(ProfilerSession.load_all(database))"
   ]
  },
  {
   "cell_type": "markdown",
   "metadata": {},
   "source": [
    "## Select\n",
    "\n",
    "Define the selection criteria for the profiler sessions you wish to analyze below.\n",
    "Here you should also select the profiler sessions to use as control data for some of the graphs."
   ]
  },
  {
   "cell_type": "code",
   "execution_count": 3,
   "metadata": {
    "pycharm": {
     "name": "#%%\n"
    }
   },
   "outputs": [],
   "source": [
    "# controlled_data_set = ControlledDataSet(\n",
    "#     data_set=complete_data_set,\n",
    "#     control_data_set=complete_data_set\n",
    "# )\n",
    "# controlled_data_set = ControlledDataSet(\n",
    "#     data_set=DataSet([profiler_session for profiler_session in complete_data_set.data if profiler_session.label == \"Fixed Frequency BFS\" and profiler_session.profile[\"file\"].endswith(\"graph1MW_6.txt\")]),\n",
    "#     control_data_set=DataSet([profiler_session for profiler_session in complete_data_set.data if profiler_session.label == \"BFS\" and profiler_session.profile[\"file\"].endswith(\"graph1MW_6.txt\")])\n",
    "# )\n",
    "# controlled_data_set = ControlledDataSet(\n",
    "#     data_set=DataSet([profiler_session for profiler_session in complete_data_set.data if profiler_session.label == \"Fixed Frequency KMeans\" and profiler_session.profile[\"file\"].endswith(\"kdd_cup\")]),\n",
    "#     control_data_set=DataSet([profiler_session for profiler_session in complete_data_set.data if profiler_session.label == \"KMeans\" and profiler_session.profile[\"file\"].endswith(\"kdd_cup\")])\n",
    "# )\n",
    "controlled_data_set = ControlledDataSet(\n",
    "    data_set=DataSet([profiler_session for profiler_session in complete_data_set.data if profiler_session.label == \"Fixed Frequency Matrix Multiply\" and profiler_session.profile[\"matrixAWidth\"] == 4096]),\n",
    "    control_data_set=DataSet([profiler_session for profiler_session in complete_data_set.data if profiler_session.label == \"Matrix Multiply\" and profiler_session.profile[\"matrixAWidth\"] == 4096])\n",
    ")"
   ]
  },
  {
   "cell_type": "markdown",
   "metadata": {
    "pycharm": {
     "name": "#%% md\n"
    }
   },
   "source": [
    "# Data Overview\n",
    "\n",
    "The table below shows an overview of the data that was selected."
   ]
  },
  {
   "cell_type": "code",
   "execution_count": 4,
   "metadata": {},
   "outputs": [
    {
     "data": {
      "text/html": [
       "<div>\n",
       "<style scoped>\n",
       "    .dataframe tbody tr th:only-of-type {\n",
       "        vertical-align: middle;\n",
       "    }\n",
       "\n",
       "    .dataframe tbody tr th {\n",
       "        vertical-align: top;\n",
       "    }\n",
       "\n",
       "    .dataframe thead th {\n",
       "        text-align: right;\n",
       "    }\n",
       "</style>\n",
       "<table border=\"1\" class=\"dataframe\">\n",
       "  <thead>\n",
       "    <tr style=\"text-align: right;\">\n",
       "      <th></th>\n",
       "      <th>ID</th>\n",
       "      <th>Label</th>\n",
       "      <th>Profile</th>\n",
       "    </tr>\n",
       "  </thead>\n",
       "  <tbody>\n",
       "    <tr>\n",
       "      <th>0</th>\n",
       "      <td>2</td>\n",
       "      <td>Fixed Frequency Matrix Multiply</td>\n",
       "      <td>{'core': 0, 'gpu': 0, 'iterations': 3, 'matrixAHeight': 4096, 'matrixAWidth': 4096, 'matrixBHeight': 4096, 'matrixBWidth': 4096, 'maximumCPUClockRate': 2200750000.0, 'maximumGPUClockRate': 1035000250.0, 'minimumCPUClockRate': 2200750000.0, 'minimumGPUClockRate': 1035000250.0}</td>\n",
       "    </tr>\n",
       "    <tr>\n",
       "      <th>1</th>\n",
       "      <td>3</td>\n",
       "      <td>Fixed Frequency Matrix Multiply</td>\n",
       "      <td>{'core': 0, 'gpu': 0, 'iterations': 3, 'matrixAHeight': 4096, 'matrixAWidth': 4096, 'matrixBHeight': 4096, 'matrixBWidth': 4096, 'maximumCPUClockRate': 2601000000.0, 'maximumGPUClockRate': 1000.0, 'minimumCPUClockRate': 2601000000.0, 'minimumGPUClockRate': 1000.0}</td>\n",
       "    </tr>\n",
       "    <tr>\n",
       "      <th>2</th>\n",
       "      <td>4</td>\n",
       "      <td>Fixed Frequency Matrix Multiply</td>\n",
       "      <td>{'core': 0, 'gpu': 0, 'iterations': 3, 'matrixAHeight': 4096, 'matrixAWidth': 4096, 'matrixBHeight': 4096, 'matrixBWidth': 4096, 'maximumCPUClockRate': 1000000000.0, 'maximumGPUClockRate': 690000500.0, 'minimumCPUClockRate': 1000000000.0, 'minimumGPUClockRate': 690000500.0}</td>\n",
       "    </tr>\n",
       "  </tbody>\n",
       "</table>\n",
       "</div>"
      ],
      "text/plain": [
       "   ID                            Label  \\\n",
       "0   2  Fixed Frequency Matrix Multiply   \n",
       "1   3  Fixed Frequency Matrix Multiply   \n",
       "2   4  Fixed Frequency Matrix Multiply   \n",
       "\n",
       "                                                                                                                                                                                                                                                                                Profile  \n",
       "0  {'core': 0, 'gpu': 0, 'iterations': 3, 'matrixAHeight': 4096, 'matrixAWidth': 4096, 'matrixBHeight': 4096, 'matrixBWidth': 4096, 'maximumCPUClockRate': 2200750000.0, 'maximumGPUClockRate': 1035000250.0, 'minimumCPUClockRate': 2200750000.0, 'minimumGPUClockRate': 1035000250.0}  \n",
       "1              {'core': 0, 'gpu': 0, 'iterations': 3, 'matrixAHeight': 4096, 'matrixAWidth': 4096, 'matrixBHeight': 4096, 'matrixBWidth': 4096, 'maximumCPUClockRate': 2601000000.0, 'maximumGPUClockRate': 1000.0, 'minimumCPUClockRate': 2601000000.0, 'minimumGPUClockRate': 1000.0}  \n",
       "2    {'core': 0, 'gpu': 0, 'iterations': 3, 'matrixAHeight': 4096, 'matrixAWidth': 4096, 'matrixBHeight': 4096, 'matrixBWidth': 4096, 'maximumCPUClockRate': 1000000000.0, 'maximumGPUClockRate': 690000500.0, 'minimumCPUClockRate': 1000000000.0, 'minimumGPUClockRate': 690000500.0}  "
      ]
     },
     "metadata": {},
     "output_type": "display_data"
    }
   ],
   "source": [
    "controlled_data_set.data_set.table_plot.plot()"
   ]
  },
  {
   "cell_type": "markdown",
   "metadata": {},
   "source": [
    "# Control Data Overview\n",
    "\n",
    "The table below shows an overview of the control data that was selected."
   ]
  },
  {
   "cell_type": "code",
   "execution_count": 5,
   "metadata": {},
   "outputs": [
    {
     "data": {
      "text/html": [
       "<div>\n",
       "<style scoped>\n",
       "    .dataframe tbody tr th:only-of-type {\n",
       "        vertical-align: middle;\n",
       "    }\n",
       "\n",
       "    .dataframe tbody tr th {\n",
       "        vertical-align: top;\n",
       "    }\n",
       "\n",
       "    .dataframe thead th {\n",
       "        text-align: right;\n",
       "    }\n",
       "</style>\n",
       "<table border=\"1\" class=\"dataframe\">\n",
       "  <thead>\n",
       "    <tr style=\"text-align: right;\">\n",
       "      <th></th>\n",
       "      <th>ID</th>\n",
       "      <th>Label</th>\n",
       "      <th>Profile</th>\n",
       "    </tr>\n",
       "  </thead>\n",
       "  <tbody>\n",
       "    <tr>\n",
       "      <th>0</th>\n",
       "      <td>1</td>\n",
       "      <td>Matrix Multiply</td>\n",
       "      <td>{'core': 0, 'gpu': 0, 'iterations': 3, 'matrixAHeight': 4096, 'matrixAWidth': 4096, 'matrixBHeight': 4096, 'matrixBWidth': 4096}</td>\n",
       "    </tr>\n",
       "    <tr>\n",
       "      <th>1</th>\n",
       "      <td>5</td>\n",
       "      <td>Matrix Multiply</td>\n",
       "      <td>{'core': 0, 'gpu': 0, 'iterations': 3, 'matrixAHeight': 4096, 'matrixAWidth': 4096, 'matrixBHeight': 4096, 'matrixBWidth': 4096}</td>\n",
       "    </tr>\n",
       "    <tr>\n",
       "      <th>2</th>\n",
       "      <td>6</td>\n",
       "      <td>Matrix Multiply</td>\n",
       "      <td>{'core': 0, 'gpu': 0, 'iterations': 3, 'matrixAHeight': 4096, 'matrixAWidth': 4096, 'matrixBHeight': 4096, 'matrixBWidth': 4096}</td>\n",
       "    </tr>\n",
       "  </tbody>\n",
       "</table>\n",
       "</div>"
      ],
      "text/plain": [
       "   ID            Label  \\\n",
       "0   1  Matrix Multiply   \n",
       "1   5  Matrix Multiply   \n",
       "2   6  Matrix Multiply   \n",
       "\n",
       "                                                                                                                            Profile  \n",
       "0  {'core': 0, 'gpu': 0, 'iterations': 3, 'matrixAHeight': 4096, 'matrixAWidth': 4096, 'matrixBHeight': 4096, 'matrixBWidth': 4096}  \n",
       "1  {'core': 0, 'gpu': 0, 'iterations': 3, 'matrixAHeight': 4096, 'matrixAWidth': 4096, 'matrixBHeight': 4096, 'matrixBWidth': 4096}  \n",
       "2  {'core': 0, 'gpu': 0, 'iterations': 3, 'matrixAHeight': 4096, 'matrixAWidth': 4096, 'matrixBHeight': 4096, 'matrixBWidth': 4096}  "
      ]
     },
     "metadata": {},
     "output_type": "display_data"
    }
   ],
   "source": [
    "controlled_data_set.control_data_set.table_plot.plot()"
   ]
  }
 ],
 "metadata": {
  "kernelspec": {
   "display_name": "Python 3",
   "language": "python",
   "name": "python3"
  },
  "language_info": {
   "codemirror_mode": {
    "name": "ipython",
    "version": 3
   },
   "file_extension": ".py",
   "mimetype": "text/x-python",
   "name": "python",
   "nbconvert_exporter": "python",
   "pygments_lexer": "ipython3",
   "version": "3.8.5"
  },
  "widgets": {
   "application/vnd.jupyter.widget-state+json": {
    "state": {},
    "version_major": 2,
    "version_minor": 0
   }
  }
 },
 "nbformat": 4,
 "nbformat_minor": 4
}
