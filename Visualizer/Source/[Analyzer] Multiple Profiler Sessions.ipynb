{
 "cells": [
  {
   "cell_type": "code",
   "execution_count": 1,
   "metadata": {
    "pycharm": {
     "name": "#%%\n"
    }
   },
   "outputs": [],
   "source": [
    "%matplotlib widget\n",
    "\n",
    "import os\n",
    "import pprint\n",
    "\n",
    "from Visualizer.ControlledDataSet import ControlComparison, ControlledDataSet\n",
    "from Visualizer.DataSet import DataSet\n",
    "from Visualizer.Monitoring.Persistence.ProfilerSession import ProfilerSession"
   ]
  },
  {
   "cell_type": "markdown",
   "metadata": {},
   "source": [
    "# Multiple Profiler Session Analyzer\n",
    "\n",
    "This notebook can visualize data from multiple profiler sessions."
   ]
  },
  {
   "cell_type": "markdown",
   "metadata": {},
   "source": [
    "## Configuration\n",
    "\n",
    "Configure the project settings below.\n",
    "The default configuration should be okay.\n",
    "Make sure that you have run at least one test with the EnergyManager and have generated a database, otherwise this notebook will fail."
   ]
  },
  {
   "cell_type": "code",
   "execution_count": 2,
   "metadata": {
    "pycharm": {
     "name": "#%%\n"
    }
   },
   "outputs": [],
   "source": [
    "database = f\"{os.environ.get('HOME')}/EnergyManager-Resources/Database.sqlite\"\n",
    "\n",
    "# Load all profiler sessions\n",
    "complete_data_set = DataSet(ProfilerSession.load_all(database))"
   ]
  },
  {
   "cell_type": "markdown",
   "metadata": {},
   "source": [
    "### Profiler Sessions Overview\n",
    "\n",
    "Below all profiler sessions are shown."
   ]
  },
  {
   "cell_type": "code",
   "execution_count": 3,
   "metadata": {
    "pycharm": {
     "name": "#%%\n"
    }
   },
   "outputs": [
    {
     "data": {
      "text/html": [
       "<div>\n",
       "<style scoped>\n",
       "    .dataframe tbody tr th:only-of-type {\n",
       "        vertical-align: middle;\n",
       "    }\n",
       "\n",
       "    .dataframe tbody tr th {\n",
       "        vertical-align: top;\n",
       "    }\n",
       "\n",
       "    .dataframe thead th {\n",
       "        text-align: right;\n",
       "    }\n",
       "</style>\n",
       "<table border=\"1\" class=\"dataframe\">\n",
       "  <thead>\n",
       "    <tr style=\"text-align: right;\">\n",
       "      <th></th>\n",
       "      <th>ID</th>\n",
       "      <th>Label</th>\n",
       "      <th>Profile</th>\n",
       "    </tr>\n",
       "  </thead>\n",
       "  <tbody>\n",
       "    <tr>\n",
       "      <th>0</th>\n",
       "      <td>1</td>\n",
       "      <td>Matrix Multiply</td>\n",
       "      <td>{'core': 0, 'gpu': 0, 'iterations': 15, 'matrixAHeight': 1536, 'matrixAWidth': 1536, 'matrixBHeight': 1536, 'matrixBWidth': 1536, 'maximumCPUClockRate': 2601000000.0, 'maximumGPUClockRate': 1380000000.0, 'minimumCPUClockRate': 2601000000.0, 'minimumGPUClockRate': 1380000000.0}</td>\n",
       "    </tr>\n",
       "    <tr>\n",
       "      <th>1</th>\n",
       "      <td>2</td>\n",
       "      <td>Fixed Frequency Matrix Multiply</td>\n",
       "      <td>{'core': 0, 'gpu': 0, 'iterations': 15, 'matrixAHeight': 1536, 'matrixAWidth': 1536, 'matrixBHeight': 1536, 'matrixBWidth': 1536, 'maximumCPUClockRate': 2601000000.0, 'maximumGPUClockRate': 690500000.0, 'minimumCPUClockRate': 2601000000.0, 'minimumGPUClockRate': 690500000.0}</td>\n",
       "    </tr>\n",
       "    <tr>\n",
       "      <th>2</th>\n",
       "      <td>3</td>\n",
       "      <td>Fixed Frequency Matrix Multiply</td>\n",
       "      <td>{'core': 0, 'gpu': 0, 'iterations': 15, 'matrixAHeight': 1536, 'matrixAWidth': 1536, 'matrixBHeight': 1536, 'matrixBWidth': 1536, 'maximumCPUClockRate': 2601000000.0, 'maximumGPUClockRate': 690500000.0, 'minimumCPUClockRate': 2601000000.0, 'minimumGPUClockRate': 690500000.0}</td>\n",
       "    </tr>\n",
       "    <tr>\n",
       "      <th>3</th>\n",
       "      <td>4</td>\n",
       "      <td>Fixed Frequency Matrix Multiply</td>\n",
       "      <td>{'core': 0, 'gpu': 0, 'iterations': 15, 'matrixAHeight': 1536, 'matrixAWidth': 1536, 'matrixBHeight': 1536, 'matrixBWidth': 1536, 'maximumCPUClockRate': 1000000000.0, 'maximumGPUClockRate': 1000000.0, 'minimumCPUClockRate': 1000000000.0, 'minimumGPUClockRate': 1000000.0}</td>\n",
       "    </tr>\n",
       "    <tr>\n",
       "      <th>4</th>\n",
       "      <td>5</td>\n",
       "      <td>Fixed Frequency Matrix Multiply</td>\n",
       "      <td>{'core': 0, 'gpu': 0, 'iterations': 15, 'matrixAHeight': 1536, 'matrixAWidth': 1536, 'matrixBHeight': 1536, 'matrixBWidth': 1536, 'maximumCPUClockRate': 1000000000.0, 'maximumGPUClockRate': 1000000.0, 'minimumCPUClockRate': 1000000000.0, 'minimumGPUClockRate': 1000000.0}</td>\n",
       "    </tr>\n",
       "    <tr>\n",
       "      <th>5</th>\n",
       "      <td>6</td>\n",
       "      <td>Fixed Frequency Matrix Multiply</td>\n",
       "      <td>{'core': 0, 'gpu': 0, 'iterations': 15, 'matrixAHeight': 1536, 'matrixAWidth': 1536, 'matrixBHeight': 1536, 'matrixBWidth': 1536, 'maximumCPUClockRate': 1800500000.0, 'maximumGPUClockRate': 1380000000.0, 'minimumCPUClockRate': 1800500000.0, 'minimumGPUClockRate': 1380000000.0}</td>\n",
       "    </tr>\n",
       "    <tr>\n",
       "      <th>6</th>\n",
       "      <td>7</td>\n",
       "      <td>Fixed Frequency Matrix Multiply</td>\n",
       "      <td>{'core': 0, 'gpu': 0, 'iterations': 15, 'matrixAHeight': 1536, 'matrixAWidth': 1536, 'matrixBHeight': 1536, 'matrixBWidth': 1536, 'maximumCPUClockRate': 1800500000.0, 'maximumGPUClockRate': 1380000000.0, 'minimumCPUClockRate': 1800500000.0, 'minimumGPUClockRate': 1380000000.0}</td>\n",
       "    </tr>\n",
       "    <tr>\n",
       "      <th>7</th>\n",
       "      <td>8</td>\n",
       "      <td>Fixed Frequency Matrix Multiply</td>\n",
       "      <td>{'core': 0, 'gpu': 0, 'iterations': 15, 'matrixAHeight': 1536, 'matrixAWidth': 1536, 'matrixBHeight': 1536, 'matrixBWidth': 1536, 'maximumCPUClockRate': 1000000000.0, 'maximumGPUClockRate': 690500000.0, 'minimumCPUClockRate': 1000000000.0, 'minimumGPUClockRate': 690500000.0}</td>\n",
       "    </tr>\n",
       "    <tr>\n",
       "      <th>8</th>\n",
       "      <td>9</td>\n",
       "      <td>Fixed Frequency Matrix Multiply</td>\n",
       "      <td>{'core': 0, 'gpu': 0, 'iterations': 15, 'matrixAHeight': 1536, 'matrixAWidth': 1536, 'matrixBHeight': 1536, 'matrixBWidth': 1536, 'maximumCPUClockRate': 1000000000.0, 'maximumGPUClockRate': 690500000.0, 'minimumCPUClockRate': 1000000000.0, 'minimumGPUClockRate': 690500000.0}</td>\n",
       "    </tr>\n",
       "    <tr>\n",
       "      <th>9</th>\n",
       "      <td>10</td>\n",
       "      <td>Fixed Frequency Matrix Multiply</td>\n",
       "      <td>{'core': 0, 'gpu': 0, 'iterations': 15, 'matrixAHeight': 1536, 'matrixAWidth': 1536, 'matrixBHeight': 1536, 'matrixBWidth': 1536, 'maximumCPUClockRate': 1800500000.0, 'maximumGPUClockRate': 690500000.0, 'minimumCPUClockRate': 1800500000.0, 'minimumGPUClockRate': 690500000.0}</td>\n",
       "    </tr>\n",
       "    <tr>\n",
       "      <th>10</th>\n",
       "      <td>11</td>\n",
       "      <td>Fixed Frequency Matrix Multiply</td>\n",
       "      <td>{'core': 0, 'gpu': 0, 'iterations': 15, 'matrixAHeight': 1536, 'matrixAWidth': 1536, 'matrixBHeight': 1536, 'matrixBWidth': 1536, 'maximumCPUClockRate': 1800500000.0, 'maximumGPUClockRate': 690500000.0, 'minimumCPUClockRate': 1800500000.0, 'minimumGPUClockRate': 690500000.0}</td>\n",
       "    </tr>\n",
       "    <tr>\n",
       "      <th>11</th>\n",
       "      <td>12</td>\n",
       "      <td>Fixed Frequency Matrix Multiply</td>\n",
       "      <td>{'core': 0, 'gpu': 0, 'iterations': 15, 'matrixAHeight': 1536, 'matrixAWidth': 1536, 'matrixBHeight': 1536, 'matrixBWidth': 1536, 'maximumCPUClockRate': 2601000000.0, 'maximumGPUClockRate': 1380000000.0, 'minimumCPUClockRate': 2601000000.0, 'minimumGPUClockRate': 1380000000.0}</td>\n",
       "    </tr>\n",
       "    <tr>\n",
       "      <th>12</th>\n",
       "      <td>13</td>\n",
       "      <td>Fixed Frequency Matrix Multiply</td>\n",
       "      <td>{'core': 0, 'gpu': 0, 'iterations': 15, 'matrixAHeight': 1536, 'matrixAWidth': 1536, 'matrixBHeight': 1536, 'matrixBWidth': 1536, 'maximumCPUClockRate': 2601000000.0, 'maximumGPUClockRate': 1380000000.0, 'minimumCPUClockRate': 2601000000.0, 'minimumGPUClockRate': 1380000000.0}</td>\n",
       "    </tr>\n",
       "    <tr>\n",
       "      <th>13</th>\n",
       "      <td>14</td>\n",
       "      <td>Fixed Frequency Matrix Multiply</td>\n",
       "      <td>{'core': 0, 'gpu': 0, 'iterations': 15, 'matrixAHeight': 1536, 'matrixAWidth': 1536, 'matrixBHeight': 1536, 'matrixBWidth': 1536, 'maximumCPUClockRate': 2601000000.0, 'maximumGPUClockRate': 1000000.0, 'minimumCPUClockRate': 2601000000.0, 'minimumGPUClockRate': 1000000.0}</td>\n",
       "    </tr>\n",
       "    <tr>\n",
       "      <th>14</th>\n",
       "      <td>15</td>\n",
       "      <td>Fixed Frequency Matrix Multiply</td>\n",
       "      <td>{'core': 0, 'gpu': 0, 'iterations': 15, 'matrixAHeight': 1536, 'matrixAWidth': 1536, 'matrixBHeight': 1536, 'matrixBWidth': 1536, 'maximumCPUClockRate': 2601000000.0, 'maximumGPUClockRate': 1000000.0, 'minimumCPUClockRate': 2601000000.0, 'minimumGPUClockRate': 1000000.0}</td>\n",
       "    </tr>\n",
       "    <tr>\n",
       "      <th>15</th>\n",
       "      <td>16</td>\n",
       "      <td>Fixed Frequency Matrix Multiply</td>\n",
       "      <td>{'core': 0, 'gpu': 0, 'iterations': 15, 'matrixAHeight': 1536, 'matrixAWidth': 1536, 'matrixBHeight': 1536, 'matrixBWidth': 1536, 'maximumCPUClockRate': 1800500000.0, 'maximumGPUClockRate': 1000000.0, 'minimumCPUClockRate': 1800500000.0, 'minimumGPUClockRate': 1000000.0}</td>\n",
       "    </tr>\n",
       "    <tr>\n",
       "      <th>16</th>\n",
       "      <td>17</td>\n",
       "      <td>Fixed Frequency Matrix Multiply</td>\n",
       "      <td>{'core': 0, 'gpu': 0, 'iterations': 15, 'matrixAHeight': 1536, 'matrixAWidth': 1536, 'matrixBHeight': 1536, 'matrixBWidth': 1536, 'maximumCPUClockRate': 1800500000.0, 'maximumGPUClockRate': 1000000.0, 'minimumCPUClockRate': 1800500000.0, 'minimumGPUClockRate': 1000000.0}</td>\n",
       "    </tr>\n",
       "    <tr>\n",
       "      <th>17</th>\n",
       "      <td>18</td>\n",
       "      <td>Fixed Frequency Matrix Multiply</td>\n",
       "      <td>{'core': 0, 'gpu': 0, 'iterations': 15, 'matrixAHeight': 1536, 'matrixAWidth': 1536, 'matrixBHeight': 1536, 'matrixBWidth': 1536, 'maximumCPUClockRate': 1000000000.0, 'maximumGPUClockRate': 1380000000.0, 'minimumCPUClockRate': 1000000000.0, 'minimumGPUClockRate': 1380000000.0}</td>\n",
       "    </tr>\n",
       "    <tr>\n",
       "      <th>18</th>\n",
       "      <td>19</td>\n",
       "      <td>Fixed Frequency Matrix Multiply</td>\n",
       "      <td>{'core': 0, 'gpu': 0, 'iterations': 15, 'matrixAHeight': 1536, 'matrixAWidth': 1536, 'matrixBHeight': 1536, 'matrixBWidth': 1536, 'maximumCPUClockRate': 1000000000.0, 'maximumGPUClockRate': 1380000000.0, 'minimumCPUClockRate': 1000000000.0, 'minimumGPUClockRate': 1380000000.0}</td>\n",
       "    </tr>\n",
       "    <tr>\n",
       "      <th>19</th>\n",
       "      <td>20</td>\n",
       "      <td>Matrix Multiply (EnergyMonitor Simple)</td>\n",
       "      <td>{'core': 0, 'gpu': 0, 'iterations': 15, 'matrixAHeight': 1536, 'matrixAWidth': 1536, 'matrixBHeight': 1536, 'matrixBWidth': 1536}</td>\n",
       "    </tr>\n",
       "    <tr>\n",
       "      <th>20</th>\n",
       "      <td>21</td>\n",
       "      <td>Matrix Multiply</td>\n",
       "      <td>{'core': 0, 'gpu': 0, 'iterations': 15, 'matrixAHeight': 1536, 'matrixAWidth': 1536, 'matrixBHeight': 1536, 'matrixBWidth': 1536, 'maximumCPUClockRate': 2601000000.0, 'maximumGPUClockRate': 1380000000.0, 'minimumCPUClockRate': 2601000000.0, 'minimumGPUClockRate': 1380000000.0}</td>\n",
       "    </tr>\n",
       "  </tbody>\n",
       "</table>\n",
       "</div>"
      ],
      "text/plain": [
       "    ID                                   Label  \\\n",
       "0    1                         Matrix Multiply   \n",
       "1    2         Fixed Frequency Matrix Multiply   \n",
       "2    3         Fixed Frequency Matrix Multiply   \n",
       "3    4         Fixed Frequency Matrix Multiply   \n",
       "4    5         Fixed Frequency Matrix Multiply   \n",
       "5    6         Fixed Frequency Matrix Multiply   \n",
       "6    7         Fixed Frequency Matrix Multiply   \n",
       "7    8         Fixed Frequency Matrix Multiply   \n",
       "8    9         Fixed Frequency Matrix Multiply   \n",
       "9   10         Fixed Frequency Matrix Multiply   \n",
       "10  11         Fixed Frequency Matrix Multiply   \n",
       "11  12         Fixed Frequency Matrix Multiply   \n",
       "12  13         Fixed Frequency Matrix Multiply   \n",
       "13  14         Fixed Frequency Matrix Multiply   \n",
       "14  15         Fixed Frequency Matrix Multiply   \n",
       "15  16         Fixed Frequency Matrix Multiply   \n",
       "16  17         Fixed Frequency Matrix Multiply   \n",
       "17  18         Fixed Frequency Matrix Multiply   \n",
       "18  19         Fixed Frequency Matrix Multiply   \n",
       "19  20  Matrix Multiply (EnergyMonitor Simple)   \n",
       "20  21                         Matrix Multiply   \n",
       "\n",
       "                                                                                                                                                                                                                                                                                  Profile  \n",
       "0   {'core': 0, 'gpu': 0, 'iterations': 15, 'matrixAHeight': 1536, 'matrixAWidth': 1536, 'matrixBHeight': 1536, 'matrixBWidth': 1536, 'maximumCPUClockRate': 2601000000.0, 'maximumGPUClockRate': 1380000000.0, 'minimumCPUClockRate': 2601000000.0, 'minimumGPUClockRate': 1380000000.0}  \n",
       "1     {'core': 0, 'gpu': 0, 'iterations': 15, 'matrixAHeight': 1536, 'matrixAWidth': 1536, 'matrixBHeight': 1536, 'matrixBWidth': 1536, 'maximumCPUClockRate': 2601000000.0, 'maximumGPUClockRate': 690500000.0, 'minimumCPUClockRate': 2601000000.0, 'minimumGPUClockRate': 690500000.0}  \n",
       "2     {'core': 0, 'gpu': 0, 'iterations': 15, 'matrixAHeight': 1536, 'matrixAWidth': 1536, 'matrixBHeight': 1536, 'matrixBWidth': 1536, 'maximumCPUClockRate': 2601000000.0, 'maximumGPUClockRate': 690500000.0, 'minimumCPUClockRate': 2601000000.0, 'minimumGPUClockRate': 690500000.0}  \n",
       "3         {'core': 0, 'gpu': 0, 'iterations': 15, 'matrixAHeight': 1536, 'matrixAWidth': 1536, 'matrixBHeight': 1536, 'matrixBWidth': 1536, 'maximumCPUClockRate': 1000000000.0, 'maximumGPUClockRate': 1000000.0, 'minimumCPUClockRate': 1000000000.0, 'minimumGPUClockRate': 1000000.0}  \n",
       "4         {'core': 0, 'gpu': 0, 'iterations': 15, 'matrixAHeight': 1536, 'matrixAWidth': 1536, 'matrixBHeight': 1536, 'matrixBWidth': 1536, 'maximumCPUClockRate': 1000000000.0, 'maximumGPUClockRate': 1000000.0, 'minimumCPUClockRate': 1000000000.0, 'minimumGPUClockRate': 1000000.0}  \n",
       "5   {'core': 0, 'gpu': 0, 'iterations': 15, 'matrixAHeight': 1536, 'matrixAWidth': 1536, 'matrixBHeight': 1536, 'matrixBWidth': 1536, 'maximumCPUClockRate': 1800500000.0, 'maximumGPUClockRate': 1380000000.0, 'minimumCPUClockRate': 1800500000.0, 'minimumGPUClockRate': 1380000000.0}  \n",
       "6   {'core': 0, 'gpu': 0, 'iterations': 15, 'matrixAHeight': 1536, 'matrixAWidth': 1536, 'matrixBHeight': 1536, 'matrixBWidth': 1536, 'maximumCPUClockRate': 1800500000.0, 'maximumGPUClockRate': 1380000000.0, 'minimumCPUClockRate': 1800500000.0, 'minimumGPUClockRate': 1380000000.0}  \n",
       "7     {'core': 0, 'gpu': 0, 'iterations': 15, 'matrixAHeight': 1536, 'matrixAWidth': 1536, 'matrixBHeight': 1536, 'matrixBWidth': 1536, 'maximumCPUClockRate': 1000000000.0, 'maximumGPUClockRate': 690500000.0, 'minimumCPUClockRate': 1000000000.0, 'minimumGPUClockRate': 690500000.0}  \n",
       "8     {'core': 0, 'gpu': 0, 'iterations': 15, 'matrixAHeight': 1536, 'matrixAWidth': 1536, 'matrixBHeight': 1536, 'matrixBWidth': 1536, 'maximumCPUClockRate': 1000000000.0, 'maximumGPUClockRate': 690500000.0, 'minimumCPUClockRate': 1000000000.0, 'minimumGPUClockRate': 690500000.0}  \n",
       "9     {'core': 0, 'gpu': 0, 'iterations': 15, 'matrixAHeight': 1536, 'matrixAWidth': 1536, 'matrixBHeight': 1536, 'matrixBWidth': 1536, 'maximumCPUClockRate': 1800500000.0, 'maximumGPUClockRate': 690500000.0, 'minimumCPUClockRate': 1800500000.0, 'minimumGPUClockRate': 690500000.0}  \n",
       "10    {'core': 0, 'gpu': 0, 'iterations': 15, 'matrixAHeight': 1536, 'matrixAWidth': 1536, 'matrixBHeight': 1536, 'matrixBWidth': 1536, 'maximumCPUClockRate': 1800500000.0, 'maximumGPUClockRate': 690500000.0, 'minimumCPUClockRate': 1800500000.0, 'minimumGPUClockRate': 690500000.0}  \n",
       "11  {'core': 0, 'gpu': 0, 'iterations': 15, 'matrixAHeight': 1536, 'matrixAWidth': 1536, 'matrixBHeight': 1536, 'matrixBWidth': 1536, 'maximumCPUClockRate': 2601000000.0, 'maximumGPUClockRate': 1380000000.0, 'minimumCPUClockRate': 2601000000.0, 'minimumGPUClockRate': 1380000000.0}  \n",
       "12  {'core': 0, 'gpu': 0, 'iterations': 15, 'matrixAHeight': 1536, 'matrixAWidth': 1536, 'matrixBHeight': 1536, 'matrixBWidth': 1536, 'maximumCPUClockRate': 2601000000.0, 'maximumGPUClockRate': 1380000000.0, 'minimumCPUClockRate': 2601000000.0, 'minimumGPUClockRate': 1380000000.0}  \n",
       "13        {'core': 0, 'gpu': 0, 'iterations': 15, 'matrixAHeight': 1536, 'matrixAWidth': 1536, 'matrixBHeight': 1536, 'matrixBWidth': 1536, 'maximumCPUClockRate': 2601000000.0, 'maximumGPUClockRate': 1000000.0, 'minimumCPUClockRate': 2601000000.0, 'minimumGPUClockRate': 1000000.0}  \n",
       "14        {'core': 0, 'gpu': 0, 'iterations': 15, 'matrixAHeight': 1536, 'matrixAWidth': 1536, 'matrixBHeight': 1536, 'matrixBWidth': 1536, 'maximumCPUClockRate': 2601000000.0, 'maximumGPUClockRate': 1000000.0, 'minimumCPUClockRate': 2601000000.0, 'minimumGPUClockRate': 1000000.0}  \n",
       "15        {'core': 0, 'gpu': 0, 'iterations': 15, 'matrixAHeight': 1536, 'matrixAWidth': 1536, 'matrixBHeight': 1536, 'matrixBWidth': 1536, 'maximumCPUClockRate': 1800500000.0, 'maximumGPUClockRate': 1000000.0, 'minimumCPUClockRate': 1800500000.0, 'minimumGPUClockRate': 1000000.0}  \n",
       "16        {'core': 0, 'gpu': 0, 'iterations': 15, 'matrixAHeight': 1536, 'matrixAWidth': 1536, 'matrixBHeight': 1536, 'matrixBWidth': 1536, 'maximumCPUClockRate': 1800500000.0, 'maximumGPUClockRate': 1000000.0, 'minimumCPUClockRate': 1800500000.0, 'minimumGPUClockRate': 1000000.0}  \n",
       "17  {'core': 0, 'gpu': 0, 'iterations': 15, 'matrixAHeight': 1536, 'matrixAWidth': 1536, 'matrixBHeight': 1536, 'matrixBWidth': 1536, 'maximumCPUClockRate': 1000000000.0, 'maximumGPUClockRate': 1380000000.0, 'minimumCPUClockRate': 1000000000.0, 'minimumGPUClockRate': 1380000000.0}  \n",
       "18  {'core': 0, 'gpu': 0, 'iterations': 15, 'matrixAHeight': 1536, 'matrixAWidth': 1536, 'matrixBHeight': 1536, 'matrixBWidth': 1536, 'maximumCPUClockRate': 1000000000.0, 'maximumGPUClockRate': 1380000000.0, 'minimumCPUClockRate': 1000000000.0, 'minimumGPUClockRate': 1380000000.0}  \n",
       "19                                                                                                                                                      {'core': 0, 'gpu': 0, 'iterations': 15, 'matrixAHeight': 1536, 'matrixAWidth': 1536, 'matrixBHeight': 1536, 'matrixBWidth': 1536}  \n",
       "20  {'core': 0, 'gpu': 0, 'iterations': 15, 'matrixAHeight': 1536, 'matrixAWidth': 1536, 'matrixBHeight': 1536, 'matrixBWidth': 1536, 'maximumCPUClockRate': 2601000000.0, 'maximumGPUClockRate': 1380000000.0, 'minimumCPUClockRate': 2601000000.0, 'minimumGPUClockRate': 1380000000.0}  "
      ]
     },
     "metadata": {},
     "output_type": "display_data"
    }
   ],
   "source": [
    "# Visualize the profiler session data\n",
    "overview_plot = complete_data_set.table_plot\n",
    "overview_plot.maximum_rows = 50\n",
    "overview_plot.plot()"
   ]
  },
  {
   "cell_type": "markdown",
   "metadata": {},
   "source": [
    "### Select\n",
    "\n",
    "Define the selection criteria for the profiler sessions you wish to analyze below.\n",
    "Here you should also select the profiler sessions to use as control data for some of the graphs."
   ]
  },
  {
   "cell_type": "code",
   "execution_count": 4,
   "metadata": {
    "pycharm": {
     "name": "#%%\n"
    }
   },
   "outputs": [],
   "source": [
    "controlled_data_set = ControlledDataSet(\n",
    "    data_set=DataSet([profiler_session for profiler_session in complete_data_set.data if profiler_session.label == \"Fixed Frequency Matrix Multiply\" and profiler_session.profile[\"matrixAHeight\"] == 1536 and profiler_session.profile[\"iterations\"] == 15]),\n",
    "    control_data_set=DataSet([profiler_session for profiler_session in complete_data_set.data if profiler_session.label == \"Matrix Multiply\" and profiler_session.profile[\"matrixAHeight\"] == 1536 and profiler_session.profile[\"iterations\"] == 15])\n",
    ")"
   ]
  },
  {
   "cell_type": "markdown",
   "metadata": {
    "pycharm": {
     "name": "#%% md\n"
    }
   },
   "source": [
    "## Data Overview\n",
    "\n",
    "The table below shows an overview of the data that was selected."
   ]
  },
  {
   "cell_type": "markdown",
   "metadata": {
    "pycharm": {
     "name": "#%% md\n"
    }
   },
   "source": [
    "### Data"
   ]
  },
  {
   "cell_type": "code",
   "execution_count": 5,
   "metadata": {},
   "outputs": [
    {
     "data": {
      "text/html": [
       "<div>\n",
       "<style scoped>\n",
       "    .dataframe tbody tr th:only-of-type {\n",
       "        vertical-align: middle;\n",
       "    }\n",
       "\n",
       "    .dataframe tbody tr th {\n",
       "        vertical-align: top;\n",
       "    }\n",
       "\n",
       "    .dataframe thead th {\n",
       "        text-align: right;\n",
       "    }\n",
       "</style>\n",
       "<table border=\"1\" class=\"dataframe\">\n",
       "  <thead>\n",
       "    <tr style=\"text-align: right;\">\n",
       "      <th></th>\n",
       "      <th>ID</th>\n",
       "      <th>Label</th>\n",
       "      <th>Profile</th>\n",
       "    </tr>\n",
       "  </thead>\n",
       "  <tbody>\n",
       "    <tr>\n",
       "      <th>0</th>\n",
       "      <td>2</td>\n",
       "      <td>Fixed Frequency Matrix Multiply</td>\n",
       "      <td>{'core': 0, 'gpu': 0, 'iterations': 15, 'matrixAHeight': 1536, 'matrixAWidth': 1536, 'matrixBHeight': 1536, 'matrixBWidth': 1536, 'maximumCPUClockRate': 2601000000.0, 'maximumGPUClockRate': 690500000.0, 'minimumCPUClockRate': 2601000000.0, 'minimumGPUClockRate': 690500000.0}</td>\n",
       "    </tr>\n",
       "    <tr>\n",
       "      <th>1</th>\n",
       "      <td>3</td>\n",
       "      <td>Fixed Frequency Matrix Multiply</td>\n",
       "      <td>{'core': 0, 'gpu': 0, 'iterations': 15, 'matrixAHeight': 1536, 'matrixAWidth': 1536, 'matrixBHeight': 1536, 'matrixBWidth': 1536, 'maximumCPUClockRate': 2601000000.0, 'maximumGPUClockRate': 690500000.0, 'minimumCPUClockRate': 2601000000.0, 'minimumGPUClockRate': 690500000.0}</td>\n",
       "    </tr>\n",
       "    <tr>\n",
       "      <th>2</th>\n",
       "      <td>4</td>\n",
       "      <td>Fixed Frequency Matrix Multiply</td>\n",
       "      <td>{'core': 0, 'gpu': 0, 'iterations': 15, 'matrixAHeight': 1536, 'matrixAWidth': 1536, 'matrixBHeight': 1536, 'matrixBWidth': 1536, 'maximumCPUClockRate': 1000000000.0, 'maximumGPUClockRate': 1000000.0, 'minimumCPUClockRate': 1000000000.0, 'minimumGPUClockRate': 1000000.0}</td>\n",
       "    </tr>\n",
       "    <tr>\n",
       "      <th>3</th>\n",
       "      <td>5</td>\n",
       "      <td>Fixed Frequency Matrix Multiply</td>\n",
       "      <td>{'core': 0, 'gpu': 0, 'iterations': 15, 'matrixAHeight': 1536, 'matrixAWidth': 1536, 'matrixBHeight': 1536, 'matrixBWidth': 1536, 'maximumCPUClockRate': 1000000000.0, 'maximumGPUClockRate': 1000000.0, 'minimumCPUClockRate': 1000000000.0, 'minimumGPUClockRate': 1000000.0}</td>\n",
       "    </tr>\n",
       "    <tr>\n",
       "      <th>4</th>\n",
       "      <td>6</td>\n",
       "      <td>Fixed Frequency Matrix Multiply</td>\n",
       "      <td>{'core': 0, 'gpu': 0, 'iterations': 15, 'matrixAHeight': 1536, 'matrixAWidth': 1536, 'matrixBHeight': 1536, 'matrixBWidth': 1536, 'maximumCPUClockRate': 1800500000.0, 'maximumGPUClockRate': 1380000000.0, 'minimumCPUClockRate': 1800500000.0, 'minimumGPUClockRate': 1380000000.0}</td>\n",
       "    </tr>\n",
       "    <tr>\n",
       "      <th>5</th>\n",
       "      <td>7</td>\n",
       "      <td>Fixed Frequency Matrix Multiply</td>\n",
       "      <td>{'core': 0, 'gpu': 0, 'iterations': 15, 'matrixAHeight': 1536, 'matrixAWidth': 1536, 'matrixBHeight': 1536, 'matrixBWidth': 1536, 'maximumCPUClockRate': 1800500000.0, 'maximumGPUClockRate': 1380000000.0, 'minimumCPUClockRate': 1800500000.0, 'minimumGPUClockRate': 1380000000.0}</td>\n",
       "    </tr>\n",
       "    <tr>\n",
       "      <th>6</th>\n",
       "      <td>8</td>\n",
       "      <td>Fixed Frequency Matrix Multiply</td>\n",
       "      <td>{'core': 0, 'gpu': 0, 'iterations': 15, 'matrixAHeight': 1536, 'matrixAWidth': 1536, 'matrixBHeight': 1536, 'matrixBWidth': 1536, 'maximumCPUClockRate': 1000000000.0, 'maximumGPUClockRate': 690500000.0, 'minimumCPUClockRate': 1000000000.0, 'minimumGPUClockRate': 690500000.0}</td>\n",
       "    </tr>\n",
       "    <tr>\n",
       "      <th>7</th>\n",
       "      <td>9</td>\n",
       "      <td>Fixed Frequency Matrix Multiply</td>\n",
       "      <td>{'core': 0, 'gpu': 0, 'iterations': 15, 'matrixAHeight': 1536, 'matrixAWidth': 1536, 'matrixBHeight': 1536, 'matrixBWidth': 1536, 'maximumCPUClockRate': 1000000000.0, 'maximumGPUClockRate': 690500000.0, 'minimumCPUClockRate': 1000000000.0, 'minimumGPUClockRate': 690500000.0}</td>\n",
       "    </tr>\n",
       "    <tr>\n",
       "      <th>8</th>\n",
       "      <td>10</td>\n",
       "      <td>Fixed Frequency Matrix Multiply</td>\n",
       "      <td>{'core': 0, 'gpu': 0, 'iterations': 15, 'matrixAHeight': 1536, 'matrixAWidth': 1536, 'matrixBHeight': 1536, 'matrixBWidth': 1536, 'maximumCPUClockRate': 1800500000.0, 'maximumGPUClockRate': 690500000.0, 'minimumCPUClockRate': 1800500000.0, 'minimumGPUClockRate': 690500000.0}</td>\n",
       "    </tr>\n",
       "    <tr>\n",
       "      <th>9</th>\n",
       "      <td>11</td>\n",
       "      <td>Fixed Frequency Matrix Multiply</td>\n",
       "      <td>{'core': 0, 'gpu': 0, 'iterations': 15, 'matrixAHeight': 1536, 'matrixAWidth': 1536, 'matrixBHeight': 1536, 'matrixBWidth': 1536, 'maximumCPUClockRate': 1800500000.0, 'maximumGPUClockRate': 690500000.0, 'minimumCPUClockRate': 1800500000.0, 'minimumGPUClockRate': 690500000.0}</td>\n",
       "    </tr>\n",
       "    <tr>\n",
       "      <th>10</th>\n",
       "      <td>12</td>\n",
       "      <td>Fixed Frequency Matrix Multiply</td>\n",
       "      <td>{'core': 0, 'gpu': 0, 'iterations': 15, 'matrixAHeight': 1536, 'matrixAWidth': 1536, 'matrixBHeight': 1536, 'matrixBWidth': 1536, 'maximumCPUClockRate': 2601000000.0, 'maximumGPUClockRate': 1380000000.0, 'minimumCPUClockRate': 2601000000.0, 'minimumGPUClockRate': 1380000000.0}</td>\n",
       "    </tr>\n",
       "    <tr>\n",
       "      <th>11</th>\n",
       "      <td>13</td>\n",
       "      <td>Fixed Frequency Matrix Multiply</td>\n",
       "      <td>{'core': 0, 'gpu': 0, 'iterations': 15, 'matrixAHeight': 1536, 'matrixAWidth': 1536, 'matrixBHeight': 1536, 'matrixBWidth': 1536, 'maximumCPUClockRate': 2601000000.0, 'maximumGPUClockRate': 1380000000.0, 'minimumCPUClockRate': 2601000000.0, 'minimumGPUClockRate': 1380000000.0}</td>\n",
       "    </tr>\n",
       "    <tr>\n",
       "      <th>12</th>\n",
       "      <td>14</td>\n",
       "      <td>Fixed Frequency Matrix Multiply</td>\n",
       "      <td>{'core': 0, 'gpu': 0, 'iterations': 15, 'matrixAHeight': 1536, 'matrixAWidth': 1536, 'matrixBHeight': 1536, 'matrixBWidth': 1536, 'maximumCPUClockRate': 2601000000.0, 'maximumGPUClockRate': 1000000.0, 'minimumCPUClockRate': 2601000000.0, 'minimumGPUClockRate': 1000000.0}</td>\n",
       "    </tr>\n",
       "    <tr>\n",
       "      <th>13</th>\n",
       "      <td>15</td>\n",
       "      <td>Fixed Frequency Matrix Multiply</td>\n",
       "      <td>{'core': 0, 'gpu': 0, 'iterations': 15, 'matrixAHeight': 1536, 'matrixAWidth': 1536, 'matrixBHeight': 1536, 'matrixBWidth': 1536, 'maximumCPUClockRate': 2601000000.0, 'maximumGPUClockRate': 1000000.0, 'minimumCPUClockRate': 2601000000.0, 'minimumGPUClockRate': 1000000.0}</td>\n",
       "    </tr>\n",
       "    <tr>\n",
       "      <th>14</th>\n",
       "      <td>16</td>\n",
       "      <td>Fixed Frequency Matrix Multiply</td>\n",
       "      <td>{'core': 0, 'gpu': 0, 'iterations': 15, 'matrixAHeight': 1536, 'matrixAWidth': 1536, 'matrixBHeight': 1536, 'matrixBWidth': 1536, 'maximumCPUClockRate': 1800500000.0, 'maximumGPUClockRate': 1000000.0, 'minimumCPUClockRate': 1800500000.0, 'minimumGPUClockRate': 1000000.0}</td>\n",
       "    </tr>\n",
       "    <tr>\n",
       "      <th>15</th>\n",
       "      <td>17</td>\n",
       "      <td>Fixed Frequency Matrix Multiply</td>\n",
       "      <td>{'core': 0, 'gpu': 0, 'iterations': 15, 'matrixAHeight': 1536, 'matrixAWidth': 1536, 'matrixBHeight': 1536, 'matrixBWidth': 1536, 'maximumCPUClockRate': 1800500000.0, 'maximumGPUClockRate': 1000000.0, 'minimumCPUClockRate': 1800500000.0, 'minimumGPUClockRate': 1000000.0}</td>\n",
       "    </tr>\n",
       "    <tr>\n",
       "      <th>16</th>\n",
       "      <td>18</td>\n",
       "      <td>Fixed Frequency Matrix Multiply</td>\n",
       "      <td>{'core': 0, 'gpu': 0, 'iterations': 15, 'matrixAHeight': 1536, 'matrixAWidth': 1536, 'matrixBHeight': 1536, 'matrixBWidth': 1536, 'maximumCPUClockRate': 1000000000.0, 'maximumGPUClockRate': 1380000000.0, 'minimumCPUClockRate': 1000000000.0, 'minimumGPUClockRate': 1380000000.0}</td>\n",
       "    </tr>\n",
       "    <tr>\n",
       "      <th>17</th>\n",
       "      <td>19</td>\n",
       "      <td>Fixed Frequency Matrix Multiply</td>\n",
       "      <td>{'core': 0, 'gpu': 0, 'iterations': 15, 'matrixAHeight': 1536, 'matrixAWidth': 1536, 'matrixBHeight': 1536, 'matrixBWidth': 1536, 'maximumCPUClockRate': 1000000000.0, 'maximumGPUClockRate': 1380000000.0, 'minimumCPUClockRate': 1000000000.0, 'minimumGPUClockRate': 1380000000.0}</td>\n",
       "    </tr>\n",
       "  </tbody>\n",
       "</table>\n",
       "</div>"
      ],
      "text/plain": [
       "    ID                            Label  \\\n",
       "0    2  Fixed Frequency Matrix Multiply   \n",
       "1    3  Fixed Frequency Matrix Multiply   \n",
       "2    4  Fixed Frequency Matrix Multiply   \n",
       "3    5  Fixed Frequency Matrix Multiply   \n",
       "4    6  Fixed Frequency Matrix Multiply   \n",
       "5    7  Fixed Frequency Matrix Multiply   \n",
       "6    8  Fixed Frequency Matrix Multiply   \n",
       "7    9  Fixed Frequency Matrix Multiply   \n",
       "8   10  Fixed Frequency Matrix Multiply   \n",
       "9   11  Fixed Frequency Matrix Multiply   \n",
       "10  12  Fixed Frequency Matrix Multiply   \n",
       "11  13  Fixed Frequency Matrix Multiply   \n",
       "12  14  Fixed Frequency Matrix Multiply   \n",
       "13  15  Fixed Frequency Matrix Multiply   \n",
       "14  16  Fixed Frequency Matrix Multiply   \n",
       "15  17  Fixed Frequency Matrix Multiply   \n",
       "16  18  Fixed Frequency Matrix Multiply   \n",
       "17  19  Fixed Frequency Matrix Multiply   \n",
       "\n",
       "                                                                                                                                                                                                                                                                                  Profile  \n",
       "0     {'core': 0, 'gpu': 0, 'iterations': 15, 'matrixAHeight': 1536, 'matrixAWidth': 1536, 'matrixBHeight': 1536, 'matrixBWidth': 1536, 'maximumCPUClockRate': 2601000000.0, 'maximumGPUClockRate': 690500000.0, 'minimumCPUClockRate': 2601000000.0, 'minimumGPUClockRate': 690500000.0}  \n",
       "1     {'core': 0, 'gpu': 0, 'iterations': 15, 'matrixAHeight': 1536, 'matrixAWidth': 1536, 'matrixBHeight': 1536, 'matrixBWidth': 1536, 'maximumCPUClockRate': 2601000000.0, 'maximumGPUClockRate': 690500000.0, 'minimumCPUClockRate': 2601000000.0, 'minimumGPUClockRate': 690500000.0}  \n",
       "2         {'core': 0, 'gpu': 0, 'iterations': 15, 'matrixAHeight': 1536, 'matrixAWidth': 1536, 'matrixBHeight': 1536, 'matrixBWidth': 1536, 'maximumCPUClockRate': 1000000000.0, 'maximumGPUClockRate': 1000000.0, 'minimumCPUClockRate': 1000000000.0, 'minimumGPUClockRate': 1000000.0}  \n",
       "3         {'core': 0, 'gpu': 0, 'iterations': 15, 'matrixAHeight': 1536, 'matrixAWidth': 1536, 'matrixBHeight': 1536, 'matrixBWidth': 1536, 'maximumCPUClockRate': 1000000000.0, 'maximumGPUClockRate': 1000000.0, 'minimumCPUClockRate': 1000000000.0, 'minimumGPUClockRate': 1000000.0}  \n",
       "4   {'core': 0, 'gpu': 0, 'iterations': 15, 'matrixAHeight': 1536, 'matrixAWidth': 1536, 'matrixBHeight': 1536, 'matrixBWidth': 1536, 'maximumCPUClockRate': 1800500000.0, 'maximumGPUClockRate': 1380000000.0, 'minimumCPUClockRate': 1800500000.0, 'minimumGPUClockRate': 1380000000.0}  \n",
       "5   {'core': 0, 'gpu': 0, 'iterations': 15, 'matrixAHeight': 1536, 'matrixAWidth': 1536, 'matrixBHeight': 1536, 'matrixBWidth': 1536, 'maximumCPUClockRate': 1800500000.0, 'maximumGPUClockRate': 1380000000.0, 'minimumCPUClockRate': 1800500000.0, 'minimumGPUClockRate': 1380000000.0}  \n",
       "6     {'core': 0, 'gpu': 0, 'iterations': 15, 'matrixAHeight': 1536, 'matrixAWidth': 1536, 'matrixBHeight': 1536, 'matrixBWidth': 1536, 'maximumCPUClockRate': 1000000000.0, 'maximumGPUClockRate': 690500000.0, 'minimumCPUClockRate': 1000000000.0, 'minimumGPUClockRate': 690500000.0}  \n",
       "7     {'core': 0, 'gpu': 0, 'iterations': 15, 'matrixAHeight': 1536, 'matrixAWidth': 1536, 'matrixBHeight': 1536, 'matrixBWidth': 1536, 'maximumCPUClockRate': 1000000000.0, 'maximumGPUClockRate': 690500000.0, 'minimumCPUClockRate': 1000000000.0, 'minimumGPUClockRate': 690500000.0}  \n",
       "8     {'core': 0, 'gpu': 0, 'iterations': 15, 'matrixAHeight': 1536, 'matrixAWidth': 1536, 'matrixBHeight': 1536, 'matrixBWidth': 1536, 'maximumCPUClockRate': 1800500000.0, 'maximumGPUClockRate': 690500000.0, 'minimumCPUClockRate': 1800500000.0, 'minimumGPUClockRate': 690500000.0}  \n",
       "9     {'core': 0, 'gpu': 0, 'iterations': 15, 'matrixAHeight': 1536, 'matrixAWidth': 1536, 'matrixBHeight': 1536, 'matrixBWidth': 1536, 'maximumCPUClockRate': 1800500000.0, 'maximumGPUClockRate': 690500000.0, 'minimumCPUClockRate': 1800500000.0, 'minimumGPUClockRate': 690500000.0}  \n",
       "10  {'core': 0, 'gpu': 0, 'iterations': 15, 'matrixAHeight': 1536, 'matrixAWidth': 1536, 'matrixBHeight': 1536, 'matrixBWidth': 1536, 'maximumCPUClockRate': 2601000000.0, 'maximumGPUClockRate': 1380000000.0, 'minimumCPUClockRate': 2601000000.0, 'minimumGPUClockRate': 1380000000.0}  \n",
       "11  {'core': 0, 'gpu': 0, 'iterations': 15, 'matrixAHeight': 1536, 'matrixAWidth': 1536, 'matrixBHeight': 1536, 'matrixBWidth': 1536, 'maximumCPUClockRate': 2601000000.0, 'maximumGPUClockRate': 1380000000.0, 'minimumCPUClockRate': 2601000000.0, 'minimumGPUClockRate': 1380000000.0}  \n",
       "12        {'core': 0, 'gpu': 0, 'iterations': 15, 'matrixAHeight': 1536, 'matrixAWidth': 1536, 'matrixBHeight': 1536, 'matrixBWidth': 1536, 'maximumCPUClockRate': 2601000000.0, 'maximumGPUClockRate': 1000000.0, 'minimumCPUClockRate': 2601000000.0, 'minimumGPUClockRate': 1000000.0}  \n",
       "13        {'core': 0, 'gpu': 0, 'iterations': 15, 'matrixAHeight': 1536, 'matrixAWidth': 1536, 'matrixBHeight': 1536, 'matrixBWidth': 1536, 'maximumCPUClockRate': 2601000000.0, 'maximumGPUClockRate': 1000000.0, 'minimumCPUClockRate': 2601000000.0, 'minimumGPUClockRate': 1000000.0}  \n",
       "14        {'core': 0, 'gpu': 0, 'iterations': 15, 'matrixAHeight': 1536, 'matrixAWidth': 1536, 'matrixBHeight': 1536, 'matrixBWidth': 1536, 'maximumCPUClockRate': 1800500000.0, 'maximumGPUClockRate': 1000000.0, 'minimumCPUClockRate': 1800500000.0, 'minimumGPUClockRate': 1000000.0}  \n",
       "15        {'core': 0, 'gpu': 0, 'iterations': 15, 'matrixAHeight': 1536, 'matrixAWidth': 1536, 'matrixBHeight': 1536, 'matrixBWidth': 1536, 'maximumCPUClockRate': 1800500000.0, 'maximumGPUClockRate': 1000000.0, 'minimumCPUClockRate': 1800500000.0, 'minimumGPUClockRate': 1000000.0}  \n",
       "16  {'core': 0, 'gpu': 0, 'iterations': 15, 'matrixAHeight': 1536, 'matrixAWidth': 1536, 'matrixBHeight': 1536, 'matrixBWidth': 1536, 'maximumCPUClockRate': 1000000000.0, 'maximumGPUClockRate': 1380000000.0, 'minimumCPUClockRate': 1000000000.0, 'minimumGPUClockRate': 1380000000.0}  \n",
       "17  {'core': 0, 'gpu': 0, 'iterations': 15, 'matrixAHeight': 1536, 'matrixAWidth': 1536, 'matrixBHeight': 1536, 'matrixBWidth': 1536, 'maximumCPUClockRate': 1000000000.0, 'maximumGPUClockRate': 1380000000.0, 'minimumCPUClockRate': 1000000000.0, 'minimumGPUClockRate': 1380000000.0}  "
      ]
     },
     "metadata": {},
     "output_type": "display_data"
    }
   ],
   "source": [
    "controlled_data_set.data_set.table_plot.plot()"
   ]
  },
  {
   "cell_type": "markdown",
   "metadata": {},
   "source": [
    "### Control Data"
   ]
  },
  {
   "cell_type": "code",
   "execution_count": 6,
   "metadata": {},
   "outputs": [
    {
     "data": {
      "text/html": [
       "<div>\n",
       "<style scoped>\n",
       "    .dataframe tbody tr th:only-of-type {\n",
       "        vertical-align: middle;\n",
       "    }\n",
       "\n",
       "    .dataframe tbody tr th {\n",
       "        vertical-align: top;\n",
       "    }\n",
       "\n",
       "    .dataframe thead th {\n",
       "        text-align: right;\n",
       "    }\n",
       "</style>\n",
       "<table border=\"1\" class=\"dataframe\">\n",
       "  <thead>\n",
       "    <tr style=\"text-align: right;\">\n",
       "      <th></th>\n",
       "      <th>ID</th>\n",
       "      <th>Label</th>\n",
       "      <th>Profile</th>\n",
       "    </tr>\n",
       "  </thead>\n",
       "  <tbody>\n",
       "    <tr>\n",
       "      <th>0</th>\n",
       "      <td>1</td>\n",
       "      <td>Matrix Multiply</td>\n",
       "      <td>{'core': 0, 'gpu': 0, 'iterations': 15, 'matrixAHeight': 1536, 'matrixAWidth': 1536, 'matrixBHeight': 1536, 'matrixBWidth': 1536, 'maximumCPUClockRate': 2601000000.0, 'maximumGPUClockRate': 1380000000.0, 'minimumCPUClockRate': 2601000000.0, 'minimumGPUClockRate': 1380000000.0}</td>\n",
       "    </tr>\n",
       "    <tr>\n",
       "      <th>1</th>\n",
       "      <td>21</td>\n",
       "      <td>Matrix Multiply</td>\n",
       "      <td>{'core': 0, 'gpu': 0, 'iterations': 15, 'matrixAHeight': 1536, 'matrixAWidth': 1536, 'matrixBHeight': 1536, 'matrixBWidth': 1536, 'maximumCPUClockRate': 2601000000.0, 'maximumGPUClockRate': 1380000000.0, 'minimumCPUClockRate': 2601000000.0, 'minimumGPUClockRate': 1380000000.0}</td>\n",
       "    </tr>\n",
       "  </tbody>\n",
       "</table>\n",
       "</div>"
      ],
      "text/plain": [
       "   ID            Label  \\\n",
       "0   1  Matrix Multiply   \n",
       "1  21  Matrix Multiply   \n",
       "\n",
       "                                                                                                                                                                                                                                                                                 Profile  \n",
       "0  {'core': 0, 'gpu': 0, 'iterations': 15, 'matrixAHeight': 1536, 'matrixAWidth': 1536, 'matrixBHeight': 1536, 'matrixBWidth': 1536, 'maximumCPUClockRate': 2601000000.0, 'maximumGPUClockRate': 1380000000.0, 'minimumCPUClockRate': 2601000000.0, 'minimumGPUClockRate': 1380000000.0}  \n",
       "1  {'core': 0, 'gpu': 0, 'iterations': 15, 'matrixAHeight': 1536, 'matrixAWidth': 1536, 'matrixBHeight': 1536, 'matrixBWidth': 1536, 'maximumCPUClockRate': 2601000000.0, 'maximumGPUClockRate': 1380000000.0, 'minimumCPUClockRate': 2601000000.0, 'minimumGPUClockRate': 1380000000.0}  "
      ]
     },
     "metadata": {},
     "output_type": "display_data"
    }
   ],
   "source": [
    "controlled_data_set.control_data_set.table_plot.plot()"
   ]
  },
  {
   "cell_type": "markdown",
   "metadata": {},
   "source": [
    "## Analysis"
   ]
  },
  {
   "cell_type": "markdown",
   "metadata": {},
   "source": [
    "### Summary\n",
    "\n",
    "These are the specifications of the systems with which the profiler sessions were performed."
   ]
  },
  {
   "cell_type": "markdown",
   "metadata": {},
   "source": [
    "#### Data"
   ]
  },
  {
   "cell_type": "code",
   "execution_count": 7,
   "metadata": {
    "collapsed": false,
    "jupyter": {
     "outputs_hidden": false
    },
    "pycharm": {
     "name": "#%%\n"
    }
   },
   "outputs": [
    {
     "name": "stdout",
     "output_type": "stream",
     "text": [
      "{'GPUs': [[{'Brand': 'Tesla',\n",
      "            'Compute Capability Major Version': 7,\n",
      "            'Compute Capability Minor Version': 0,\n",
      "            'Default Auto Boosted Clocks Enabled': None,\n",
      "            'Default Power Limit (W)': '250.0',\n",
      "            'Memory Size (B)': '16.9 GB',\n",
      "            'Name': 'Tesla V100-PCIE-16GB',\n",
      "            'PCIe Link Width (B)': '16 Bytes',\n",
      "            'Supported Core Clock Rates (Hz)': [''],\n",
      "            'Supported Memory Clock Rates (Hz)': ['']},\n",
      "           {'Brand': 'Tesla',\n",
      "            'Compute Capability Major Version': 7,\n",
      "            'Compute Capability Minor Version': 0,\n",
      "            'Default Auto Boosted Clocks Enabled': None,\n",
      "            'Default Power Limit (W)': '250.0',\n",
      "            'Memory Size (B)': '16.9 GB',\n",
      "            'Name': 'Tesla V100-PCIE-16GB',\n",
      "            'PCIe Link Width (B)': '16 Bytes',\n",
      "            'Supported Core Clock Rates (Hz)': [''],\n",
      "            'Supported Memory Clock Rates (Hz)': ['']}]],\n",
      " 'Label': ['Fixed Frequency Matrix Multiply']}\n"
     ]
    }
   ],
   "source": [
    "pprint.pprint(controlled_data_set.data_set.summary, compact=True)"
   ]
  },
  {
   "cell_type": "markdown",
   "metadata": {},
   "source": [
    "#### Control Data"
   ]
  },
  {
   "cell_type": "code",
   "execution_count": 8,
   "metadata": {
    "collapsed": false,
    "jupyter": {
     "outputs_hidden": false
    },
    "pycharm": {
     "name": "#%%\n"
    }
   },
   "outputs": [
    {
     "name": "stdout",
     "output_type": "stream",
     "text": [
      "{'GPUs': [[{'Brand': 'Tesla',\n",
      "            'Compute Capability Major Version': 7,\n",
      "            'Compute Capability Minor Version': 0,\n",
      "            'Default Auto Boosted Clocks Enabled': None,\n",
      "            'Default Power Limit (W)': '250.0',\n",
      "            'Memory Size (B)': '16.9 GB',\n",
      "            'Name': 'Tesla V100-PCIE-16GB',\n",
      "            'PCIe Link Width (B)': '16 Bytes',\n",
      "            'Supported Core Clock Rates (Hz)': [''],\n",
      "            'Supported Memory Clock Rates (Hz)': ['']},\n",
      "           {'Brand': 'Tesla',\n",
      "            'Compute Capability Major Version': 7,\n",
      "            'Compute Capability Minor Version': 0,\n",
      "            'Default Auto Boosted Clocks Enabled': None,\n",
      "            'Default Power Limit (W)': '250.0',\n",
      "            'Memory Size (B)': '16.9 GB',\n",
      "            'Name': 'Tesla V100-PCIE-16GB',\n",
      "            'PCIe Link Width (B)': '16 Bytes',\n",
      "            'Supported Core Clock Rates (Hz)': [''],\n",
      "            'Supported Memory Clock Rates (Hz)': ['']}]],\n",
      " 'Label': ['Matrix Multiply']}\n"
     ]
    }
   ],
   "source": [
    "pprint.pprint(controlled_data_set.control_data_set.summary, compact=True)"
   ]
  },
  {
   "cell_type": "markdown",
   "metadata": {},
   "source": [
    "### Core Clock Rate\n",
    "\n",
    "The graph below shows the frequency of each core clock rate in the selected data."
   ]
  },
  {
   "cell_type": "markdown",
   "metadata": {},
   "source": [
    "#### Data"
   ]
  },
  {
   "cell_type": "code",
   "execution_count": 9,
   "metadata": {},
   "outputs": [],
   "source": [
    "#for histogram_plot in controlled_data_set.data_set.clock_rate_histogram_plots(bins=30, title_filter=\".0.\"):\n",
    "#    histogram_plot.plot()"
   ]
  },
  {
   "cell_type": "markdown",
   "metadata": {},
   "source": [
    "#### Control Data"
   ]
  },
  {
   "cell_type": "code",
   "execution_count": 10,
   "metadata": {},
   "outputs": [],
   "source": [
    "#for histogram_plot in controlled_data_set.control_data_set.clock_rate_histogram_plots(bins=30, title_filter=\".0.\"):\n",
    "#    histogram_plot.plot()"
   ]
  },
  {
   "cell_type": "markdown",
   "metadata": {},
   "source": [
    "### Core Clock Rate vs. GPU Clock Rate vs. Energy Consumption\n",
    "\n",
    "This graph plots the effect on the energy consumption."
   ]
  },
  {
   "cell_type": "code",
   "execution_count": 11,
   "metadata": {
    "collapsed": false,
    "jupyter": {
     "outputs_hidden": false
    },
    "pycharm": {
     "name": "#%%\n"
    }
   },
   "outputs": [
    {
     "data": {
      "application/vnd.jupyter.widget-view+json": {
       "model_id": "d857180c44c44d92bb68702447b313bd",
       "version_major": 2,
       "version_minor": 0
      },
      "text/plain": [
       "Canvas(toolbar=Toolbar(toolitems=[('Home', 'Reset original view', 'home', 'home'), ('Back', 'Back to previous …"
      ]
     },
     "metadata": {},
     "output_type": "display_data"
    }
   ],
   "source": [
    "controlled_data_set.data_set.core_clock_rate_vs_gpu_clock_rate_vs_energy_consumption_scatter_plot(use_ear=False).plot()"
   ]
  },
  {
   "cell_type": "markdown",
   "metadata": {},
   "source": [
    "### Core Clock Rate vs. GPU Clock Rate vs. Energy Savings\n",
    "\n",
    "This graph plots the effect on the energy savings compared to the control data."
   ]
  },
  {
   "cell_type": "code",
   "execution_count": 12,
   "metadata": {
    "collapsed": false,
    "jupyter": {
     "outputs_hidden": false
    },
    "pycharm": {
     "name": "#%%\n"
    }
   },
   "outputs": [
    {
     "data": {
      "application/vnd.jupyter.widget-view+json": {
       "model_id": "f90ac60b4569459eb3cd91717c6f6b14",
       "version_major": 2,
       "version_minor": 0
      },
      "text/plain": [
       "Canvas(toolbar=Toolbar(toolitems=[('Home', 'Reset original view', 'home', 'home'), ('Back', 'Back to previous …"
      ]
     },
     "metadata": {},
     "output_type": "display_data"
    }
   ],
   "source": [
    "controlled_data_set.core_clock_rate_vs_gpu_clock_rate_vs_energy_savings_scatter_plot(control_comparison=ControlComparison.MEAN, use_ear=False).plot()"
   ]
  },
  {
   "cell_type": "markdown",
   "metadata": {},
   "source": [
    "### Core Clock Rate vs. GPU Clock Rate vs. Runtime\n",
    "\n",
    "This graph plots the effect on the runtime."
   ]
  },
  {
   "cell_type": "code",
   "execution_count": 13,
   "metadata": {
    "collapsed": false,
    "jupyter": {
     "outputs_hidden": false
    },
    "pycharm": {
     "name": "#%%\n"
    }
   },
   "outputs": [
    {
     "data": {
      "application/vnd.jupyter.widget-view+json": {
       "model_id": "03cbdb8cffc24d86964f9840fd4855d9",
       "version_major": 2,
       "version_minor": 0
      },
      "text/plain": [
       "Canvas(toolbar=Toolbar(toolitems=[('Home', 'Reset original view', 'home', 'home'), ('Back', 'Back to previous …"
      ]
     },
     "metadata": {},
     "output_type": "display_data"
    }
   ],
   "source": [
    "controlled_data_set.data_set.core_clock_rate_vs_gpu_clock_rate_vs_runtime_scatter_plot(use_ear=False).plot()"
   ]
  },
  {
   "cell_type": "markdown",
   "metadata": {},
   "source": [
    "### Core Clock Rate vs. GPU Clock Rate vs. Runtime Increase\n",
    "\n",
    "This graph plots the effect on the energy savings compared to the control data."
   ]
  },
  {
   "cell_type": "code",
   "execution_count": 14,
   "metadata": {
    "collapsed": false,
    "jupyter": {
     "outputs_hidden": false
    },
    "pycharm": {
     "name": "#%%\n"
    }
   },
   "outputs": [
    {
     "data": {
      "application/vnd.jupyter.widget-view+json": {
       "model_id": "54ddacbc22b449b5bc132f9a41449cad",
       "version_major": 2,
       "version_minor": 0
      },
      "text/plain": [
       "Canvas(toolbar=Toolbar(toolitems=[('Home', 'Reset original view', 'home', 'home'), ('Back', 'Back to previous …"
      ]
     },
     "metadata": {},
     "output_type": "display_data"
    }
   ],
   "source": [
    "controlled_data_set.core_clock_rate_vs_gpu_clock_rate_vs_runtime_increase_scatter_plot(control_comparison=ControlComparison.MEAN, use_ear=False).plot()"
   ]
  },
  {
   "cell_type": "markdown",
   "metadata": {},
   "source": [
    "### Energy Consumption\n",
    "\n",
    "This section shows the energy consumption."
   ]
  },
  {
   "cell_type": "markdown",
   "metadata": {},
   "source": [
    "#### Data"
   ]
  },
  {
   "cell_type": "code",
   "execution_count": 15,
   "metadata": {},
   "outputs": [],
   "source": [
    "#controlled_data_set.data_set.energy_consumption_histogram_plot(bins=30, use_ear=True).plot()"
   ]
  },
  {
   "cell_type": "markdown",
   "metadata": {},
   "source": [
    "#### Control Data"
   ]
  },
  {
   "cell_type": "code",
   "execution_count": 16,
   "metadata": {
    "pycharm": {
     "name": "#%%\n"
    }
   },
   "outputs": [],
   "source": [
    "#print(str([ps.total_energy_consumption(True) for ps in controlled_data_set.control_data_set.data]))\n",
    "#controlled_data_set.control_data_set.energy_consumption_histogram_plot(bins=30, use_ear=True).plot()\n",
    "#controlled_data_set.control_data_set.energy_consumption_histogram_plot(bins=30, use_ear=False).plot()"
   ]
  },
  {
   "cell_type": "markdown",
   "metadata": {},
   "source": [
    "### Runtime\n",
    "\n",
    "This section shows the runtime."
   ]
  },
  {
   "cell_type": "markdown",
   "metadata": {},
   "source": [
    "#### Data"
   ]
  },
  {
   "cell_type": "code",
   "execution_count": 17,
   "metadata": {
    "collapsed": false,
    "jupyter": {
     "outputs_hidden": false
    },
    "pycharm": {
     "name": "#%%\n"
    }
   },
   "outputs": [],
   "source": [
    "#controlled_data_set.data_set.runtime_histogram_plot(bins=200).plot()"
   ]
  },
  {
   "cell_type": "markdown",
   "metadata": {},
   "source": [
    "#### Control Data"
   ]
  },
  {
   "cell_type": "code",
   "execution_count": 18,
   "metadata": {},
   "outputs": [],
   "source": [
    "#controlled_data_set.control_data_set.runtime_histogram_plot(bins=200).plot()"
   ]
  },
  {
   "cell_type": "markdown",
   "metadata": {},
   "source": [
    "### Runtime vs. Energy Consumption\n",
    "\n",
    "This graph shows the amount of energy consumed compared to the most energy efficient run plotted against the runtime compared to the fastest run."
   ]
  },
  {
   "cell_type": "markdown",
   "metadata": {},
   "source": [
    "#### Data"
   ]
  },
  {
   "cell_type": "code",
   "execution_count": 19,
   "metadata": {
    "collapsed": false,
    "jupyter": {
     "outputs_hidden": false
    },
    "pycharm": {
     "name": "#%%\n"
    }
   },
   "outputs": [
    {
     "data": {
      "application/vnd.jupyter.widget-view+json": {
       "model_id": "3433e09322694d7cb270d940c869cf11",
       "version_major": 2,
       "version_minor": 0
      },
      "text/plain": [
       "Canvas(toolbar=Toolbar(toolitems=[('Home', 'Reset original view', 'home', 'home'), ('Back', 'Back to previous …"
      ]
     },
     "metadata": {},
     "output_type": "display_data"
    }
   ],
   "source": [
    "controlled_data_set.data_set.energy_consumption_vs_runtime_scatter_plot(normalized=False, use_ear=False).plot()"
   ]
  },
  {
   "cell_type": "markdown",
   "metadata": {},
   "source": [
    "#### Control Data"
   ]
  },
  {
   "cell_type": "code",
   "execution_count": 20,
   "metadata": {},
   "outputs": [
    {
     "data": {
      "application/vnd.jupyter.widget-view+json": {
       "model_id": "22c8e535545d4d79b5fd91574985c9a8",
       "version_major": 2,
       "version_minor": 0
      },
      "text/plain": [
       "Canvas(toolbar=Toolbar(toolitems=[('Home', 'Reset original view', 'home', 'home'), ('Back', 'Back to previous …"
      ]
     },
     "metadata": {},
     "output_type": "display_data"
    }
   ],
   "source": [
    "controlled_data_set.control_data_set.energy_consumption_vs_runtime_scatter_plot(normalized=False, use_ear=False).plot()"
   ]
  },
  {
   "cell_type": "markdown",
   "metadata": {},
   "source": [
    "### Runtime Increase vs. Energy Savings vs. Core Clock Rate vs. GPU Clock Rate\n",
    "\n",
    "This graph shows the amount of energy saved compared to the fastest run plotted against the increase in runtime compared to the fastest run."
   ]
  },
  {
   "cell_type": "code",
   "execution_count": 21,
   "metadata": {
    "pycharm": {
     "name": "#%%\n"
    }
   },
   "outputs": [
    {
     "data": {
      "application/vnd.jupyter.widget-view+json": {
       "model_id": "3ddbb5b2ca184b39b154ecb151d60a27",
       "version_major": 2,
       "version_minor": 0
      },
      "text/plain": [
       "Canvas(toolbar=Toolbar(toolitems=[('Home', 'Reset original view', 'home', 'home'), ('Back', 'Back to previous …"
      ]
     },
     "metadata": {},
     "output_type": "display_data"
    }
   ],
   "source": [
    "controlled_data_set.energy_savings_vs_runtime_increase_plot(normalized=False, control_comparison=ControlComparison.MEAN, use_ear=False).plot()"
   ]
  },
  {
   "cell_type": "markdown",
   "metadata": {},
   "source": [
    "### Utilization Rate\n",
    "\n",
    "The graph below shows the frequency of each core clock rate in the selected data."
   ]
  },
  {
   "cell_type": "markdown",
   "metadata": {},
   "source": [
    "#### Data"
   ]
  },
  {
   "cell_type": "code",
   "execution_count": 22,
   "metadata": {},
   "outputs": [],
   "source": [
    "#for histogram_plot in controlled_data_set.data_set.utilization_rate_histogram_plots(bins=30, title_filter=\".0.\"):\n",
    "#    histogram_plot.plot()"
   ]
  },
  {
   "cell_type": "markdown",
   "metadata": {},
   "source": [
    "#### Control Data"
   ]
  },
  {
   "cell_type": "code",
   "execution_count": 23,
   "metadata": {},
   "outputs": [],
   "source": [
    "#for histogram_plot in controlled_data_set.control_data_set.utilization_rate_histogram_plots(bins=30, title_filter=\".0.\"):\n",
    "#    histogram_plot.plot()"
   ]
  }
 ],
 "metadata": {
  "kernelspec": {
   "display_name": "Python 3",
   "language": "python",
   "name": "python3"
  },
  "language_info": {
   "codemirror_mode": {
    "name": "ipython",
    "version": 3
   },
   "file_extension": ".py",
   "mimetype": "text/x-python",
   "name": "python",
   "nbconvert_exporter": "python",
   "pygments_lexer": "ipython3",
   "version": "3.8.6"
  },
  "toc-autonumbering": true,
  "widgets": {
   "application/vnd.jupyter.widget-state+json": {
    "state": {
     "03cbdb8cffc24d86964f9840fd4855d9": {
      "model_module": "jupyter-matplotlib",
      "model_module_version": "^0.8.3",
      "model_name": "MPLCanvasModel",
      "state": {
       "_cursor": "default",
       "_figure_label": "Figure 3",
       "_height": 500,
       "_width": 1500,
       "layout": "IPY_MODEL_5328a5288d1245899315a96a989b1b70",
       "toolbar": "IPY_MODEL_4e2929465aa444099dc3b758a102fdb4",
       "toolbar_position": "left"
      }
     },
     "1c125f587a594fb59b95ba757728c7f2": {
      "model_module": "jupyter-matplotlib",
      "model_module_version": "^0.8.3",
      "model_name": "ToolbarModel",
      "state": {
       "layout": "IPY_MODEL_2f73ef87048f4d54a2eaff38a8bac426",
       "toolitems": [
        [
         "Home",
         "Reset original view",
         "home",
         "home"
        ],
        [
         "Back",
         "Back to previous view",
         "arrow-left",
         "back"
        ],
        [
         "Forward",
         "Forward to next view",
         "arrow-right",
         "forward"
        ],
        [
         "Pan",
         "Left button pans, Right button zooms\nx/y fixes axis, CTRL fixes aspect",
         "arrows",
         "pan"
        ],
        [
         "Zoom",
         "Zoom to rectangle\nx/y fixes axis, CTRL fixes aspect",
         "square-o",
         "zoom"
        ],
        [
         "Download",
         "Download plot",
         "floppy-o",
         "save_figure"
        ]
       ]
      }
     },
     "1eece5d7d035458ebc980e91845ac6b8": {
      "model_module": "@jupyter-widgets/base",
      "model_module_version": "1.2.0",
      "model_name": "LayoutModel",
      "state": {}
     },
     "22c8e535545d4d79b5fd91574985c9a8": {
      "model_module": "jupyter-matplotlib",
      "model_module_version": "^0.8.3",
      "model_name": "MPLCanvasModel",
      "state": {
       "_cursor": "default",
       "_figure_label": "Figure 6",
       "_height": 500,
       "_width": 1500,
       "layout": "IPY_MODEL_6133f013ad424d76b4e6111a6f72c56c",
       "toolbar": "IPY_MODEL_ce0673870a1f4f16b35768a340e817a0",
       "toolbar_position": "left"
      }
     },
     "2f73ef87048f4d54a2eaff38a8bac426": {
      "model_module": "@jupyter-widgets/base",
      "model_module_version": "1.2.0",
      "model_name": "LayoutModel",
      "state": {}
     },
     "3433e09322694d7cb270d940c869cf11": {
      "model_module": "jupyter-matplotlib",
      "model_module_version": "^0.8.3",
      "model_name": "MPLCanvasModel",
      "state": {
       "_cursor": "default",
       "_figure_label": "Figure 5",
       "_height": 500,
       "_width": 1500,
       "layout": "IPY_MODEL_d78a239d3e134a9ca120a8613dba67d0",
       "toolbar": "IPY_MODEL_834bf90841c34093b67c1f6e72ac21f7",
       "toolbar_position": "left"
      }
     },
     "3ddbb5b2ca184b39b154ecb151d60a27": {
      "model_module": "jupyter-matplotlib",
      "model_module_version": "^0.8.3",
      "model_name": "MPLCanvasModel",
      "state": {
       "_cursor": "default",
       "_figure_label": "Figure 7",
       "_height": 500,
       "_width": 1500,
       "layout": "IPY_MODEL_d11d9b04ec454168bbcf237b8f3e2bdd",
       "toolbar": "IPY_MODEL_df1a5bf8db79414c9cdab52ed72bcb91",
       "toolbar_position": "left"
      }
     },
     "4e0a543f67b34f8a9847377a2ceeda33": {
      "model_module": "@jupyter-widgets/base",
      "model_module_version": "1.2.0",
      "model_name": "LayoutModel",
      "state": {}
     },
     "4e2929465aa444099dc3b758a102fdb4": {
      "model_module": "jupyter-matplotlib",
      "model_module_version": "^0.8.3",
      "model_name": "ToolbarModel",
      "state": {
       "layout": "IPY_MODEL_9ac91a91f119445ba775824c897cf6f9",
       "toolitems": [
        [
         "Home",
         "Reset original view",
         "home",
         "home"
        ],
        [
         "Back",
         "Back to previous view",
         "arrow-left",
         "back"
        ],
        [
         "Forward",
         "Forward to next view",
         "arrow-right",
         "forward"
        ],
        [
         "Pan",
         "Left button pans, Right button zooms\nx/y fixes axis, CTRL fixes aspect",
         "arrows",
         "pan"
        ],
        [
         "Zoom",
         "Zoom to rectangle\nx/y fixes axis, CTRL fixes aspect",
         "square-o",
         "zoom"
        ],
        [
         "Download",
         "Download plot",
         "floppy-o",
         "save_figure"
        ]
       ]
      }
     },
     "5328a5288d1245899315a96a989b1b70": {
      "model_module": "@jupyter-widgets/base",
      "model_module_version": "1.2.0",
      "model_name": "LayoutModel",
      "state": {}
     },
     "54ddacbc22b449b5bc132f9a41449cad": {
      "model_module": "jupyter-matplotlib",
      "model_module_version": "^0.8.3",
      "model_name": "MPLCanvasModel",
      "state": {
       "_cursor": "default",
       "_figure_label": "Figure 4",
       "_height": 500,
       "_width": 1500,
       "layout": "IPY_MODEL_d872b1c6e86646d485935000864c15eb",
       "toolbar": "IPY_MODEL_1c125f587a594fb59b95ba757728c7f2",
       "toolbar_position": "left"
      }
     },
     "5b383cc92e5c4431ac4257b50de68ce7": {
      "model_module": "@jupyter-widgets/base",
      "model_module_version": "1.2.0",
      "model_name": "LayoutModel",
      "state": {}
     },
     "6133f013ad424d76b4e6111a6f72c56c": {
      "model_module": "@jupyter-widgets/base",
      "model_module_version": "1.2.0",
      "model_name": "LayoutModel",
      "state": {}
     },
     "66097e0fa4294fc99fc03b0b972383af": {
      "model_module": "jupyter-matplotlib",
      "model_module_version": "^0.8.3",
      "model_name": "ToolbarModel",
      "state": {
       "layout": "IPY_MODEL_f5fb0dcf4d254195a3ab528f1d46ce9b",
       "toolitems": [
        [
         "Home",
         "Reset original view",
         "home",
         "home"
        ],
        [
         "Back",
         "Back to previous view",
         "arrow-left",
         "back"
        ],
        [
         "Forward",
         "Forward to next view",
         "arrow-right",
         "forward"
        ],
        [
         "Pan",
         "Left button pans, Right button zooms\nx/y fixes axis, CTRL fixes aspect",
         "arrows",
         "pan"
        ],
        [
         "Zoom",
         "Zoom to rectangle\nx/y fixes axis, CTRL fixes aspect",
         "square-o",
         "zoom"
        ],
        [
         "Download",
         "Download plot",
         "floppy-o",
         "save_figure"
        ]
       ]
      }
     },
     "711f7bcbfd5c4f829bacad8ee4603d3c": {
      "model_module": "jupyter-matplotlib",
      "model_module_version": "^0.8.3",
      "model_name": "ToolbarModel",
      "state": {
       "layout": "IPY_MODEL_97744941b050456d945b8461d8209fe9",
       "toolitems": [
        [
         "Home",
         "Reset original view",
         "home",
         "home"
        ],
        [
         "Back",
         "Back to previous view",
         "arrow-left",
         "back"
        ],
        [
         "Forward",
         "Forward to next view",
         "arrow-right",
         "forward"
        ],
        [
         "Pan",
         "Left button pans, Right button zooms\nx/y fixes axis, CTRL fixes aspect",
         "arrows",
         "pan"
        ],
        [
         "Zoom",
         "Zoom to rectangle\nx/y fixes axis, CTRL fixes aspect",
         "square-o",
         "zoom"
        ],
        [
         "Download",
         "Download plot",
         "floppy-o",
         "save_figure"
        ]
       ]
      }
     },
     "834bf90841c34093b67c1f6e72ac21f7": {
      "model_module": "jupyter-matplotlib",
      "model_module_version": "^0.8.3",
      "model_name": "ToolbarModel",
      "state": {
       "layout": "IPY_MODEL_ecfcae1a17e943ada6809a4fc3d4cf85",
       "toolitems": [
        [
         "Home",
         "Reset original view",
         "home",
         "home"
        ],
        [
         "Back",
         "Back to previous view",
         "arrow-left",
         "back"
        ],
        [
         "Forward",
         "Forward to next view",
         "arrow-right",
         "forward"
        ],
        [
         "Pan",
         "Left button pans, Right button zooms\nx/y fixes axis, CTRL fixes aspect",
         "arrows",
         "pan"
        ],
        [
         "Zoom",
         "Zoom to rectangle\nx/y fixes axis, CTRL fixes aspect",
         "square-o",
         "zoom"
        ],
        [
         "Download",
         "Download plot",
         "floppy-o",
         "save_figure"
        ]
       ]
      }
     },
     "97744941b050456d945b8461d8209fe9": {
      "model_module": "@jupyter-widgets/base",
      "model_module_version": "1.2.0",
      "model_name": "LayoutModel",
      "state": {}
     },
     "9ac91a91f119445ba775824c897cf6f9": {
      "model_module": "@jupyter-widgets/base",
      "model_module_version": "1.2.0",
      "model_name": "LayoutModel",
      "state": {}
     },
     "ce0673870a1f4f16b35768a340e817a0": {
      "model_module": "jupyter-matplotlib",
      "model_module_version": "^0.8.3",
      "model_name": "ToolbarModel",
      "state": {
       "layout": "IPY_MODEL_ecdc25720e604b13aab9a47b75643ca1",
       "toolitems": [
        [
         "Home",
         "Reset original view",
         "home",
         "home"
        ],
        [
         "Back",
         "Back to previous view",
         "arrow-left",
         "back"
        ],
        [
         "Forward",
         "Forward to next view",
         "arrow-right",
         "forward"
        ],
        [
         "Pan",
         "Left button pans, Right button zooms\nx/y fixes axis, CTRL fixes aspect",
         "arrows",
         "pan"
        ],
        [
         "Zoom",
         "Zoom to rectangle\nx/y fixes axis, CTRL fixes aspect",
         "square-o",
         "zoom"
        ],
        [
         "Download",
         "Download plot",
         "floppy-o",
         "save_figure"
        ]
       ]
      }
     },
     "d11d9b04ec454168bbcf237b8f3e2bdd": {
      "model_module": "@jupyter-widgets/base",
      "model_module_version": "1.2.0",
      "model_name": "LayoutModel",
      "state": {}
     },
     "d78a239d3e134a9ca120a8613dba67d0": {
      "model_module": "@jupyter-widgets/base",
      "model_module_version": "1.2.0",
      "model_name": "LayoutModel",
      "state": {}
     },
     "d857180c44c44d92bb68702447b313bd": {
      "model_module": "jupyter-matplotlib",
      "model_module_version": "^0.8.3",
      "model_name": "MPLCanvasModel",
      "state": {
       "_cursor": "default",
       "_figure_label": "Figure 1",
       "_height": 500,
       "_message": "x=3463160771.3275, y=1220311653.8614, z=−625.2361",
       "_width": 1500,
       "layout": "IPY_MODEL_1eece5d7d035458ebc980e91845ac6b8",
       "toolbar": "IPY_MODEL_711f7bcbfd5c4f829bacad8ee4603d3c",
       "toolbar_position": "left"
      }
     },
     "d872b1c6e86646d485935000864c15eb": {
      "model_module": "@jupyter-widgets/base",
      "model_module_version": "1.2.0",
      "model_name": "LayoutModel",
      "state": {}
     },
     "df1a5bf8db79414c9cdab52ed72bcb91": {
      "model_module": "jupyter-matplotlib",
      "model_module_version": "^0.8.3",
      "model_name": "ToolbarModel",
      "state": {
       "layout": "IPY_MODEL_5b383cc92e5c4431ac4257b50de68ce7",
       "toolitems": [
        [
         "Home",
         "Reset original view",
         "home",
         "home"
        ],
        [
         "Back",
         "Back to previous view",
         "arrow-left",
         "back"
        ],
        [
         "Forward",
         "Forward to next view",
         "arrow-right",
         "forward"
        ],
        [
         "Pan",
         "Left button pans, Right button zooms\nx/y fixes axis, CTRL fixes aspect",
         "arrows",
         "pan"
        ],
        [
         "Zoom",
         "Zoom to rectangle\nx/y fixes axis, CTRL fixes aspect",
         "square-o",
         "zoom"
        ],
        [
         "Download",
         "Download plot",
         "floppy-o",
         "save_figure"
        ]
       ]
      }
     },
     "ecdc25720e604b13aab9a47b75643ca1": {
      "model_module": "@jupyter-widgets/base",
      "model_module_version": "1.2.0",
      "model_name": "LayoutModel",
      "state": {}
     },
     "ecfcae1a17e943ada6809a4fc3d4cf85": {
      "model_module": "@jupyter-widgets/base",
      "model_module_version": "1.2.0",
      "model_name": "LayoutModel",
      "state": {}
     },
     "f5fb0dcf4d254195a3ab528f1d46ce9b": {
      "model_module": "@jupyter-widgets/base",
      "model_module_version": "1.2.0",
      "model_name": "LayoutModel",
      "state": {}
     },
     "f90ac60b4569459eb3cd91717c6f6b14": {
      "model_module": "jupyter-matplotlib",
      "model_module_version": "^0.8.3",
      "model_name": "MPLCanvasModel",
      "state": {
       "_cursor": "default",
       "_figure_label": "Figure 2",
       "_height": 500,
       "_width": 1500,
       "layout": "IPY_MODEL_4e0a543f67b34f8a9847377a2ceeda33",
       "toolbar": "IPY_MODEL_66097e0fa4294fc99fc03b0b972383af",
       "toolbar_position": "left"
      }
     }
    },
    "version_major": 2,
    "version_minor": 0
   }
  }
 },
 "nbformat": 4,
 "nbformat_minor": 4
}
