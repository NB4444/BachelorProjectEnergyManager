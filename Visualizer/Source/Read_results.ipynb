{
 "cells": [
  {
   "cell_type": "code",
   "execution_count": null,
   "id": "2252cbb3-8194-46ce-941a-ba1f23587fb5",
   "metadata": {},
   "outputs": [],
   "source": [
    "%matplotlib widget\n",
    "\n",
    "import os\n",
    "import pathlib\n",
    "import pprint\n",
    "import numpy as np\n",
    "import matplotlib.pyplot as plt\n",
    "from collections import OrderedDict\n",
    "\n",
    "from Visualizer.DataSet import DataSet\n",
    "from Visualizer.Monitoring.Persistence.ProfilerSession import ProfilerSession\n",
    "from Visualizer.Plotting.Plot import Plot"
   ]
  },
  {
   "cell_type": "code",
   "execution_count": null,
   "id": "8d4b9fd0-0702-4ff1-a68f-4538c509cb53",
   "metadata": {},
   "outputs": [],
   "source": [
    "source_directory = pathlib.Path().parent.absolute()\n",
    "project_directory = f\"{source_directory}/..\"\n",
    "root_directory = f\"{project_directory}/..\"\n",
    "resources_directory = f\"{root_directory}/Resources\"\n",
    "database = f\"{resources_directory}/Database.sqlite\"\n",
    "\n",
    "# Load all profiler sessions\n",
    "complete_data_set = DataSet(ProfilerSession.load_all(database))"
   ]
  },
  {
   "cell_type": "code",
   "execution_count": null,
   "id": "ee521e1a-caa5-4abf-9f9c-0acaa8c1a66e",
   "metadata": {},
   "outputs": [],
   "source": [
    "overview_plot = complete_data_set.table_plot\n",
    "overview_plot.maximum_rows = 500\n",
    "overview_plot.plot()"
   ]
  },
  {
   "cell_type": "code",
   "execution_count": null,
   "id": "9da0163a-b730-4671-b11e-d2a6eddae63f",
   "metadata": {},
   "outputs": [],
   "source": [
    "begin = 142\n",
    "num_of_policies = 3\n",
    "num_of_profiles = 1\n",
    "iterations = 15\n",
    "energy_dict = OrderedDict({})\n",
    "timespan_dict = OrderedDict({})\n",
    "\n",
    "for profiler_session_id in range(begin, begin + num_of_policies*num_of_profiles*iterations,  num_of_profiles):\n",
    "\n",
    "    data_set = DataSet([profiler_session for profiler_session in complete_data_set.data if profiler_session.id == profiler_session_id])\n",
    " \n",
    "    energy_consumption = next(reversed(data_set.data[0].energy_consumption()['Node'].values()))\n",
    "    timespan = next(reversed(data_set.data[0].timespan()['Runtime'].values()))\n",
    "    \n",
    "    label = data_set.data[0].summary['Label']\n",
    "    if not label in energy_dict:\n",
    "        energy_dict[label] = []\n",
    "        timespan_dict[label] = []\n",
    "    if energy_consumption > 0:\n",
    "        energy_dict[label].append(energy_consumption)\n",
    "    timespan_dict[label].append(timespan)\n",
    "\n",
    "    \n",
    "    print(profiler_session_id, label, energy_consumption, timespan)"
   ]
  },
  {
   "cell_type": "code",
   "execution_count": null,
   "id": "33f7da71-230f-461b-be69-306b83fe2890",
   "metadata": {},
   "outputs": [],
   "source": [
    "print(energy_dict)\n",
    "avg_energy_list = [np.mean(energy_dict[key]) for key in energy_dict]\n",
    "print(np.round(avg_energy_list, 1))\n",
    "energy_percentage_list =[(avg_energy-avg_energy_list[0])/avg_energy_list[0]*100 for avg_energy in avg_energy_list]\n",
    "print(np.round(energy_percentage_list, 1))\n",
    "    "
   ]
  },
  {
   "cell_type": "code",
   "execution_count": null,
   "id": "5923520b-b841-4b53-b53f-9f68e9c99921",
   "metadata": {},
   "outputs": [],
   "source": [
    "print(timespan_dict)\n",
    "avg_timespan_list = [np.mean(timespan_dict[key]) for key in timespan_dict]\n",
    "print(np.round(avg_timespan_list, 1))\n",
    "timespan_percentage_list =[(avg_timespan-avg_timespan_list[0])/avg_timespan_list[0]*100 for avg_timespan in avg_timespan_list]\n",
    "print(np.round(timespan_percentage_list, 1))"
   ]
  },
  {
   "cell_type": "code",
   "execution_count": null,
   "id": "0d01f6c2-33d4-420b-8c8d-0d13c9859583",
   "metadata": {},
   "outputs": [],
   "source": [
    "def autolabel(rects, xpos='center'):\n",
    "    \"\"\"\n",
    "    Attach a text label above each bar in *rects*, displaying its height.\n",
    "\n",
    "    *xpos* indicates which side to place the text w.r.t. the center of\n",
    "    the bar. It can be one of the following {'center', 'right', 'left'}.\n",
    "    \"\"\"\n",
    "\n",
    "    ha = {'center': 'center', 'right': 'left', 'left': 'right'}\n",
    "    offset = {'center': 0, 'right': 1, 'left': -1}\n",
    "\n",
    "    for rect in rects:\n",
    "        height = rect.get_height()\n",
    "        ax.annotate('{}'.format(height),\n",
    "                    xy=(rect.get_x() + rect.get_width() / 2, height),\n",
    "                    xytext=(offset[xpos]*3, 3),  # use 3 points offset\n",
    "                    textcoords=\"offset points\",  # in both directions\n",
    "                    ha=ha[xpos], va='bottom')\n"
   ]
  },
  {
   "cell_type": "code",
   "execution_count": null,
   "id": "58c65467-809c-43f9-9cc4-250b486ea330",
   "metadata": {},
   "outputs": [],
   "source": [
    "no_action = []\n",
    "minmax = []\n",
    "system = []\n",
    "no_action_std = []\n",
    "minmax_std = []\n",
    "system_std = []\n",
    "applicaties = []\n",
    "avg = 0\n",
    "for energy in energy_dict:\n",
    "    label = energy.split(' ')\n",
    "    if len(label) == 1:\n",
    "        applicaties.append(label[0])\n",
    "        avg = np.mean(energy_dict[energy])\n",
    "        std_perc = np.std([(x-avg)/avg * 100 for x in energy_dict[energy]])\n",
    "        no_action.append(100)\n",
    "        no_action_std.append(std_perc)\n",
    "        continue\n",
    " \n",
    "    percentage = [(x-avg)/avg * 100 + 100 for x in energy_dict[energy]]\n",
    "\n",
    "    per_avg = np.mean(percentage)\n",
    "    per_std = np.std(percentage)\n",
    "    if(label[2] == 'MinMax)'):\n",
    "        minmax.append(per_avg)\n",
    "        minmax_std.append(per_std)\n",
    "    elif(label[2] == 'System)'):\n",
    "        system.append(per_avg)\n",
    "        system_std.append(per_std)\n",
    "\n",
    "ind = np.arange(len(no_action))\n",
    "width = 0.2\n",
    "\n",
    "fig, ax = plt.subplots()\n",
    "rects1 = ax.bar(ind - width, np.round(no_action, 1), width, yerr=no_action_std,\n",
    "                label='No action')\n",
    "rects2 = ax.bar(ind, np.round(minmax, 1), width, yerr=minmax_std,\n",
    "                label='MinMax')\n",
    "rects3 = ax.bar(ind + width, np.round(system, 1), width, yerr=system_std,\n",
    "                label='System')\n",
    "\n",
    "# Add some text for labels, title and custom x-axis tick labels, etc.\n",
    "ax.set_ylabel('Percentage(%)')\n",
    "ax.set_title('Energy Consumption')\n",
    "ax.set_xticks(ind)\n",
    "names = [x.replace('Profiler', '') for x in applicaties]\n",
    "ax.set_xticklabels(names)\n",
    "ax.legend()\n",
    "\n",
    "autolabel(rects1, \"left\")\n",
    "autolabel(rects2, \"center\")\n",
    "autolabel(rects3, \"right\")\n",
    "\n",
    "fig.tight_layout()\n",
    "\n",
    "plt.show()"
   ]
  },
  {
   "cell_type": "code",
   "execution_count": null,
   "id": "4edd4e18-81fe-4ff7-9762-dc036e904dfc",
   "metadata": {},
   "outputs": [],
   "source": []
  }
 ],
 "metadata": {
  "kernelspec": {
   "display_name": "Python 3",
   "language": "python",
   "name": "python3"
  },
  "language_info": {
   "codemirror_mode": {
    "name": "ipython",
    "version": 3
   },
   "file_extension": ".py",
   "mimetype": "text/x-python",
   "name": "python",
   "nbconvert_exporter": "python",
   "pygments_lexer": "ipython3",
   "version": "3.8.8"
  }
 },
 "nbformat": 4,
 "nbformat_minor": 5
}
