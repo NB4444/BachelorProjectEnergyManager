{
 "cells": [
  {
   "cell_type": "code",
   "execution_count": null,
   "id": "2252cbb3-8194-46ce-941a-ba1f23587fb5",
   "metadata": {},
   "outputs": [],
   "source": [
    "%matplotlib widget\n",
    "\n",
    "import os\n",
    "import pathlib\n",
    "import pprint\n",
    "import numpy as np\n",
    "\n",
    "from Visualizer.DataSet import DataSet\n",
    "from Visualizer.Monitoring.Persistence.ProfilerSession import ProfilerSession\n",
    "from Visualizer.Plotting.Plot import Plot"
   ]
  },
  {
   "cell_type": "code",
   "execution_count": null,
   "id": "8d4b9fd0-0702-4ff1-a68f-4538c509cb53",
   "metadata": {},
   "outputs": [],
   "source": [
    "source_directory = pathlib.Path().parent.absolute()\n",
    "project_directory = f\"{source_directory}/..\"\n",
    "root_directory = f\"{project_directory}/..\"\n",
    "resources_directory = f\"{root_directory}/Resources\"\n",
    "database = f\"{resources_directory}/Database.sqlite\"\n",
    "\n",
    "# Load all profiler sessions\n",
    "complete_data_set = DataSet(ProfilerSession.load_all(database))"
   ]
  },
  {
   "cell_type": "code",
   "execution_count": null,
   "id": "ee521e1a-caa5-4abf-9f9c-0acaa8c1a66e",
   "metadata": {},
   "outputs": [],
   "source": [
    "overview_plot = complete_data_set.table_plot\n",
    "overview_plot.maximum_rows = 500\n",
    "overview_plot.plot()"
   ]
  },
  {
   "cell_type": "code",
   "execution_count": null,
   "id": "9da0163a-b730-4671-b11e-d2a6eddae63f",
   "metadata": {},
   "outputs": [],
   "source": [
    "begin = 109\n",
    "num_of_policies = 3\n",
    "num_of_profiles = 1\n",
    "iterations = 5\n",
    "energy_dict = {}\n",
    "timespan_dict = {}\n",
    "\n",
    "for profiler_session_id in range(begin, begin + num_of_policies*num_of_profiles*iterations,  num_of_profiles):\n",
    "    data_set = DataSet([profiler_session for profiler_session in complete_data_set.data if profiler_session.id == profiler_session_id])\n",
    "    \n",
    "    energy_consumption = next(reversed(data_set.data[0].energy_consumption()['Node'].values()))\n",
    "    timespan = next(reversed(data_set.data[0].timespan()['Runtime'].values()))\n",
    "    \n",
    "    label = data_set.data[0].summary['Label']\n",
    "    if not label in energy_dict:\n",
    "        energy_dict[label] = []\n",
    "        timespan_dict[label] = []\n",
    "    if energy_consumption > 0:\n",
    "        energy_dict[label].append(energy_consumption)\n",
    "    timespan_dict[label].append(timespan)\n",
    "\n",
    "    \n",
    "    print(profiler_session_id, label, energy_consumption, timespan)"
   ]
  },
  {
   "cell_type": "code",
   "execution_count": null,
   "id": "33f7da71-230f-461b-be69-306b83fe2890",
   "metadata": {},
   "outputs": [],
   "source": [
    "print(energy_dict)\n",
    "avg_energy_list = [np.mean(energy_dict[key]) for key in energy_dict]\n",
    "print(avg_energy_list)\n",
    "energy_percentage_list =[(avg_energy-avg_energy_list[0])/avg_energy_list[0]*100 for avg_energy in avg_energy_list]\n",
    "print(energy_percentage_list)\n",
    "    "
   ]
  },
  {
   "cell_type": "code",
   "execution_count": null,
   "id": "5923520b-b841-4b53-b53f-9f68e9c99921",
   "metadata": {},
   "outputs": [],
   "source": [
    "print(timespan_dict)\n",
    "avg_timespan_list = [np.mean(timespan_dict[key]) for key in timespan_dict]\n",
    "print(avg_timespan_list)\n",
    "timespan_percentage_list =[(avg_timespan-avg_timespan_list[0])/avg_timespan_list[0]*100 for avg_timespan in avg_timespan_list]\n",
    "print(timespan_percentage_list)"
   ]
  },
  {
   "cell_type": "code",
   "execution_count": null,
   "id": "0d01f6c2-33d4-420b-8c8d-0d13c9859583",
   "metadata": {},
   "outputs": [],
   "source": []
  }
 ],
 "metadata": {
  "kernelspec": {
   "display_name": "Python 3",
   "language": "python",
   "name": "python3"
  },
  "language_info": {
   "codemirror_mode": {
    "name": "ipython",
    "version": 3
   },
   "file_extension": ".py",
   "mimetype": "text/x-python",
   "name": "python",
   "nbconvert_exporter": "python",
   "pygments_lexer": "ipython3",
   "version": "3.8.8"
  }
 },
 "nbformat": 4,
 "nbformat_minor": 5
}
