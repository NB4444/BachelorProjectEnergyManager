{
 "cells": [
  {
   "cell_type": "code",
   "execution_count": 1,
   "metadata": {},
   "outputs": [],
   "source": [
    "%matplotlib widget\n",
    "\n",
    "import os\n",
    "import pprint\n",
    "\n",
    "from Visualizer.ControlledDataSet import ControlComparison, ControlledDataSet\n",
    "from Visualizer.DataSet import DataSet\n",
    "from Visualizer.Monitoring.Persistence.ProfilerSession import ProfilerSession\n",
    "\n",
    "# Load the complete data set\n",
    "database = f\"{os.environ.get('HOME')}/EnergyManager-Resources/Database.sqlite\"\n",
    "complete_data_set = DataSet(ProfilerSession.load_all(database))"
   ]
  },
  {
   "cell_type": "markdown",
   "metadata": {},
   "source": [
    "# [Presentation] SURF"
   ]
  },
  {
   "cell_type": "markdown",
   "metadata": {},
   "source": [
    "## Application Phases"
   ]
  },
  {
   "cell_type": "markdown",
   "metadata": {},
   "source": [
    "### Detecting Application State"
   ]
  },
  {
   "cell_type": "code",
   "execution_count": 2,
   "metadata": {},
   "outputs": [],
   "source": [
    "profiler_session = [profiler_session for profiler_session in complete_data_set.data if profiler_session.id == 262][0]"
   ]
  },
  {
   "cell_type": "markdown",
   "metadata": {},
   "source": [
    "#### Utilization Rate"
   ]
  },
  {
   "cell_type": "code",
   "execution_count": null,
   "metadata": {},
   "outputs": [],
   "source": [
    "utilization_rate_timeseries_plot = profiler_session.utilization_rate_timeseries_plot\n",
    "utilization_rate_timeseries_plot.plot_series = { key: utilization_rate_timeseries_plot.plot_series[key] for key in utilization_rate_timeseries_plot.plot_series if key == \"CPU 0\" or key.startswith(\"CPU 0 Core 0\") or key.startswith(\"GPU 0\") or key.startswith(\"Node\")}\n",
    "utilization_rate_timeseries_plot.plot()"
   ]
  },
  {
   "cell_type": "markdown",
   "metadata": {},
   "source": [
    "#### Events"
   ]
  },
  {
   "cell_type": "code",
   "execution_count": null,
   "metadata": {},
   "outputs": [],
   "source": [
    "profiler_session.events_event_plot()[:1][0].plot()"
   ]
  },
  {
   "cell_type": "markdown",
   "metadata": {},
   "source": [
    "#### States"
   ]
  },
  {
   "cell_type": "code",
   "execution_count": null,
   "metadata": {},
   "outputs": [],
   "source": [
    "profiler_session.states_event_plot().plot()"
   ]
  },
  {
   "cell_type": "markdown",
   "metadata": {},
   "source": [
    "### Matrix Multiply"
   ]
  },
  {
   "cell_type": "code",
   "execution_count": null,
   "metadata": {},
   "outputs": [],
   "source": [
    "profiler_session = [profiler_session for profiler_session in complete_data_set.data if profiler_session.id == 262][0]"
   ]
  },
  {
   "cell_type": "markdown",
   "metadata": {},
   "source": [
    "#### Utilization Rate"
   ]
  },
  {
   "cell_type": "code",
   "execution_count": null,
   "metadata": {},
   "outputs": [],
   "source": [
    "utilization_rate_timeseries_plot = profiler_session.utilization_rate_timeseries_plot\n",
    "utilization_rate_timeseries_plot.plot_series = { key: utilization_rate_timeseries_plot.plot_series[key] for key in utilization_rate_timeseries_plot.plot_series if key == \"CPU 0\" or key.startswith(\"CPU 0 Core 0\") or key.startswith(\"GPU 0\") or key.startswith(\"Node\")}\n",
    "utilization_rate_timeseries_plot.plot()"
   ]
  },
  {
   "cell_type": "markdown",
   "metadata": {},
   "source": [
    "#### Events"
   ]
  },
  {
   "cell_type": "code",
   "execution_count": null,
   "metadata": {},
   "outputs": [],
   "source": [
    "profiler_session.events_event_plot()[:1][0].plot()"
   ]
  },
  {
   "cell_type": "markdown",
   "metadata": {},
   "source": [
    "#### States"
   ]
  },
  {
   "cell_type": "code",
   "execution_count": null,
   "metadata": {},
   "outputs": [],
   "source": [
    "profiler_session.states_event_plot().plot()"
   ]
  },
  {
   "cell_type": "markdown",
   "metadata": {},
   "source": [
    "### K-Means"
   ]
  },
  {
   "cell_type": "code",
   "execution_count": null,
   "metadata": {},
   "outputs": [],
   "source": [
    "profiler_session = [profiler_session for profiler_session in complete_data_set.data if profiler_session.id == 114][0]"
   ]
  },
  {
   "cell_type": "markdown",
   "metadata": {},
   "source": [
    "#### Utilization Rate"
   ]
  },
  {
   "cell_type": "code",
   "execution_count": null,
   "metadata": {},
   "outputs": [],
   "source": [
    "utilization_rate_timeseries_plot = profiler_session.utilization_rate_timeseries_plot\n",
    "utilization_rate_timeseries_plot.plot_series = { key: utilization_rate_timeseries_plot.plot_series[key] for key in utilization_rate_timeseries_plot.plot_series if key == \"CPU 0\" or key.startswith(\"CPU 0 Core 0\") or key.startswith(\"GPU 0\") or key.startswith(\"Node\")}\n",
    "utilization_rate_timeseries_plot.plot()"
   ]
  },
  {
   "cell_type": "markdown",
   "metadata": {},
   "source": [
    "#### Events"
   ]
  },
  {
   "cell_type": "code",
   "execution_count": null,
   "metadata": {},
   "outputs": [],
   "source": [
    "profiler_session.events_event_plot()[:1][0].plot()"
   ]
  },
  {
   "cell_type": "markdown",
   "metadata": {},
   "source": [
    "#### States"
   ]
  },
  {
   "cell_type": "code",
   "execution_count": null,
   "metadata": {},
   "outputs": [],
   "source": [
    "profiler_session.states_event_plot().plot()"
   ]
  },
  {
   "cell_type": "markdown",
   "metadata": {},
   "source": [
    "### Jacobi"
   ]
  },
  {
   "cell_type": "code",
   "execution_count": null,
   "metadata": {},
   "outputs": [],
   "source": [
    "profiler_session = [profiler_session for profiler_session in complete_data_set.data if profiler_session.id == 4][0]"
   ]
  },
  {
   "cell_type": "markdown",
   "metadata": {},
   "source": [
    "#### Utilization Rate"
   ]
  },
  {
   "cell_type": "code",
   "execution_count": null,
   "metadata": {},
   "outputs": [],
   "source": [
    "utilization_rate_timeseries_plot = profiler_session.utilization_rate_timeseries_plot\n",
    "utilization_rate_timeseries_plot.plot_series = { key: utilization_rate_timeseries_plot.plot_series[key] for key in utilization_rate_timeseries_plot.plot_series if key == \"CPU 0\" or key.startswith(\"CPU 0 Core 0\") or key.startswith(\"GPU 0\") or key.startswith(\"Node\")}\n",
    "utilization_rate_timeseries_plot.plot()"
   ]
  },
  {
   "cell_type": "markdown",
   "metadata": {},
   "source": [
    "#### Events"
   ]
  },
  {
   "cell_type": "code",
   "execution_count": null,
   "metadata": {},
   "outputs": [],
   "source": [
    "profiler_session.events_event_plot()[:1][0].plot()"
   ]
  },
  {
   "cell_type": "markdown",
   "metadata": {},
   "source": [
    "#### States"
   ]
  },
  {
   "cell_type": "code",
   "execution_count": null,
   "metadata": {},
   "outputs": [],
   "source": [
    "profiler_session.states_event_plot().plot()"
   ]
  },
  {
   "cell_type": "markdown",
   "metadata": {},
   "source": [
    "## Energy Harvesting Policies"
   ]
  },
  {
   "cell_type": "markdown",
   "metadata": {},
   "source": [
    "### Determining Suitable Policies"
   ]
  },
  {
   "cell_type": "code",
   "execution_count": null,
   "metadata": {},
   "outputs": [],
   "source": [
    "profiler_session = [profiler_session for profiler_session in complete_data_set.data if profiler_session.id == 267][0]"
   ]
  },
  {
   "cell_type": "markdown",
   "metadata": {},
   "source": [
    "#### States"
   ]
  },
  {
   "cell_type": "code",
   "execution_count": null,
   "metadata": {},
   "outputs": [],
   "source": [
    "profiler_session.states_event_plot().plot()"
   ]
  },
  {
   "cell_type": "markdown",
   "metadata": {},
   "source": [
    "#### Clock Rate"
   ]
  },
  {
   "cell_type": "code",
   "execution_count": null,
   "metadata": {},
   "outputs": [],
   "source": [
    "clock_rate_timeseries_plot = profiler_session.clock_rate_timeseries_plot(plot_limits=True, use_ear=False)\n",
    "clock_rate_timeseries_plot.plot_series = { key: clock_rate_timeseries_plot.plot_series[key] for key in clock_rate_timeseries_plot.plot_series if key == \"CPU 0\" or key.startswith(\"CPU 0 Core 0\") or key.startswith(\"GPU 0\") or key.startswith(\"Node\")}\n",
    "clock_rate_timeseries_plot.plot()"
   ]
  },
  {
   "cell_type": "markdown",
   "metadata": {},
   "source": [
    "#### Power Consumption"
   ]
  },
  {
   "cell_type": "code",
   "execution_count": null,
   "metadata": {},
   "outputs": [],
   "source": [
    "power_consumption_timeseries_plot = profiler_session.power_consumption_timeseries_plot(plot_limits=False, use_ear=False)\n",
    "power_consumption_timeseries_plot.plot_series = { key: power_consumption_timeseries_plot.plot_series[key] for key in power_consumption_timeseries_plot.plot_series if key == \"CPU 0\" or key.startswith(\"CPU 0 Core 0\") or key.startswith(\"GPU 0\") or key.startswith(\"Node\")}\n",
    "power_consumption_timeseries_plot.plot()"
   ]
  },
  {
   "cell_type": "markdown",
   "metadata": {},
   "source": [
    "#### Energy Consumption"
   ]
  },
  {
   "cell_type": "code",
   "execution_count": null,
   "metadata": {},
   "outputs": [],
   "source": [
    "energy_consumption_plot_j = profiler_session.energy_consumption_timeseries_plot(use_ear=False)\n",
    "energy_consumption_plot_j.plot_series = { key: energy_consumption_plot_j.plot_series[key] for key in energy_consumption_plot_j.plot_series if key == \"CPU 0\" or key.startswith(\"CPU 0 Core 0\") or key.startswith(\"GPU 0\") or key.startswith(\"Node\")}\n",
    "energy_consumption_plot_j.plot()"
   ]
  },
  {
   "cell_type": "markdown",
   "metadata": {},
   "source": [
    "#### Timespan"
   ]
  },
  {
   "cell_type": "code",
   "execution_count": null,
   "metadata": {},
   "outputs": [],
   "source": [
    "timespan_timeseries_plot = profiler_session.timespan_timeseries_plot(use_ear=False)\n",
    "timespan_timeseries_plot.plot_series = { key: timespan_timeseries_plot.plot_series[key] for key in timespan_timeseries_plot.plot_series if (key.startswith(\"Runtime\") or key.startswith(\"EAR\") or key.startswith(\"CPU 0 Core 0\"))}\n",
    "timespan_timeseries_plot.plot()"
   ]
  },
  {
   "cell_type": "markdown",
   "metadata": {},
   "source": [
    "### Matrix Multiply"
   ]
  },
  {
   "cell_type": "markdown",
   "metadata": {},
   "source": [
    "#### No Action Policy"
   ]
  },
  {
   "cell_type": "code",
   "execution_count": null,
   "metadata": {},
   "outputs": [],
   "source": [
    "profiler_session = [profiler_session for profiler_session in complete_data_set.data if profiler_session.id == 262][0]"
   ]
  },
  {
   "cell_type": "markdown",
   "metadata": {},
   "source": [
    "##### States"
   ]
  },
  {
   "cell_type": "code",
   "execution_count": null,
   "metadata": {},
   "outputs": [],
   "source": [
    "profiler_session.states_event_plot().plot()"
   ]
  },
  {
   "cell_type": "markdown",
   "metadata": {},
   "source": [
    "##### Clock Rate"
   ]
  },
  {
   "cell_type": "code",
   "execution_count": null,
   "metadata": {},
   "outputs": [],
   "source": [
    "clock_rate_timeseries_plot = profiler_session.clock_rate_timeseries_plot(plot_limits=True, use_ear=False)\n",
    "clock_rate_timeseries_plot.plot_series = { key: clock_rate_timeseries_plot.plot_series[key] for key in clock_rate_timeseries_plot.plot_series if key == \"CPU 0\" or key.startswith(\"CPU 0 Core 0\") or key.startswith(\"GPU 0\") or key.startswith(\"Node\")}\n",
    "clock_rate_timeseries_plot.plot()"
   ]
  },
  {
   "cell_type": "markdown",
   "metadata": {},
   "source": [
    "##### Power Consumption"
   ]
  },
  {
   "cell_type": "code",
   "execution_count": null,
   "metadata": {},
   "outputs": [],
   "source": [
    "power_consumption_timeseries_plot = profiler_session.power_consumption_timeseries_plot(plot_limits=False, use_ear=False)\n",
    "power_consumption_timeseries_plot.plot_series = { key: power_consumption_timeseries_plot.plot_series[key] for key in power_consumption_timeseries_plot.plot_series if key == \"CPU 0\" or key.startswith(\"CPU 0 Core 0\") or key.startswith(\"GPU 0\") or key.startswith(\"Node\")}\n",
    "power_consumption_timeseries_plot.plot()"
   ]
  },
  {
   "cell_type": "markdown",
   "metadata": {},
   "source": [
    "##### Energy Consumption"
   ]
  },
  {
   "cell_type": "code",
   "execution_count": null,
   "metadata": {},
   "outputs": [],
   "source": [
    "energy_consumption_plot_j = profiler_session.energy_consumption_timeseries_plot(use_ear=False)\n",
    "energy_consumption_plot_j.plot_series = { key: energy_consumption_plot_j.plot_series[key] for key in energy_consumption_plot_j.plot_series if key == \"CPU 0\" or key.startswith(\"CPU 0 Core 0\") or key.startswith(\"GPU 0\") or key.startswith(\"Node\")}\n",
    "energy_consumption_plot_j.plot()"
   ]
  },
  {
   "cell_type": "markdown",
   "metadata": {},
   "source": [
    "##### Timespan"
   ]
  },
  {
   "cell_type": "code",
   "execution_count": null,
   "metadata": {},
   "outputs": [],
   "source": [
    "timespan_timeseries_plot = profiler_session.timespan_timeseries_plot(use_ear=False)\n",
    "timespan_timeseries_plot.plot_series = { key: timespan_timeseries_plot.plot_series[key] for key in timespan_timeseries_plot.plot_series if (key.startswith(\"Runtime\") or key.startswith(\"EAR\") or key.startswith(\"CPU 0 Core 0\"))}\n",
    "timespan_timeseries_plot.plot()"
   ]
  },
  {
   "cell_type": "markdown",
   "metadata": {},
   "source": [
    "#### MinMax Policy"
   ]
  },
  {
   "cell_type": "code",
   "execution_count": null,
   "metadata": {},
   "outputs": [],
   "source": [
    "profiler_session = [profiler_session for profiler_session in complete_data_set.data if profiler_session.id == 267][0]"
   ]
  },
  {
   "cell_type": "markdown",
   "metadata": {},
   "source": [
    "##### States"
   ]
  },
  {
   "cell_type": "code",
   "execution_count": null,
   "metadata": {},
   "outputs": [],
   "source": [
    "profiler_session.states_event_plot().plot()"
   ]
  },
  {
   "cell_type": "markdown",
   "metadata": {},
   "source": [
    "##### Clock Rate"
   ]
  },
  {
   "cell_type": "code",
   "execution_count": null,
   "metadata": {},
   "outputs": [],
   "source": [
    "clock_rate_timeseries_plot = profiler_session.clock_rate_timeseries_plot(plot_limits=True, use_ear=False)\n",
    "clock_rate_timeseries_plot.plot_series = { key: clock_rate_timeseries_plot.plot_series[key] for key in clock_rate_timeseries_plot.plot_series if key == \"CPU 0\" or key.startswith(\"CPU 0 Core 0\") or key.startswith(\"GPU 0\") or key.startswith(\"Node\")}\n",
    "clock_rate_timeseries_plot.plot()"
   ]
  },
  {
   "cell_type": "markdown",
   "metadata": {},
   "source": [
    "##### Power Consumption"
   ]
  },
  {
   "cell_type": "code",
   "execution_count": null,
   "metadata": {},
   "outputs": [],
   "source": [
    "power_consumption_timeseries_plot = profiler_session.power_consumption_timeseries_plot(plot_limits=False, use_ear=False)\n",
    "power_consumption_timeseries_plot.plot_series = { key: power_consumption_timeseries_plot.plot_series[key] for key in power_consumption_timeseries_plot.plot_series if key == \"CPU 0\" or key.startswith(\"CPU 0 Core 0\") or key.startswith(\"GPU 0\") or key.startswith(\"Node\")}\n",
    "power_consumption_timeseries_plot.plot()"
   ]
  },
  {
   "cell_type": "markdown",
   "metadata": {},
   "source": [
    "##### Energy Consumption"
   ]
  },
  {
   "cell_type": "code",
   "execution_count": null,
   "metadata": {},
   "outputs": [],
   "source": [
    "energy_consumption_plot_j = profiler_session.energy_consumption_timeseries_plot(use_ear=False)\n",
    "energy_consumption_plot_j.plot_series = { key: energy_consumption_plot_j.plot_series[key] for key in energy_consumption_plot_j.plot_series if key == \"CPU 0\" or key.startswith(\"CPU 0 Core 0\") or key.startswith(\"GPU 0\") or key.startswith(\"Node\")}\n",
    "energy_consumption_plot_j.plot()"
   ]
  },
  {
   "cell_type": "markdown",
   "metadata": {},
   "source": [
    "##### Timespan"
   ]
  },
  {
   "cell_type": "code",
   "execution_count": null,
   "metadata": {},
   "outputs": [],
   "source": [
    "timespan_timeseries_plot = profiler_session.timespan_timeseries_plot(use_ear=False)\n",
    "timespan_timeseries_plot.plot_series = { key: timespan_timeseries_plot.plot_series[key] for key in timespan_timeseries_plot.plot_series if (key.startswith(\"Runtime\") or key.startswith(\"EAR\") or key.startswith(\"CPU 0 Core 0\"))}\n",
    "timespan_timeseries_plot.plot()"
   ]
  },
  {
   "cell_type": "markdown",
   "metadata": {},
   "source": [
    "#### System Policy"
   ]
  },
  {
   "cell_type": "code",
   "execution_count": null,
   "metadata": {},
   "outputs": [],
   "source": [
    "profiler_session = [profiler_session for profiler_session in complete_data_set.data if profiler_session.id == 269][0]"
   ]
  },
  {
   "cell_type": "markdown",
   "metadata": {},
   "source": [
    "##### States"
   ]
  },
  {
   "cell_type": "code",
   "execution_count": null,
   "metadata": {},
   "outputs": [],
   "source": [
    "profiler_session.states_event_plot().plot()"
   ]
  },
  {
   "cell_type": "markdown",
   "metadata": {},
   "source": [
    "##### Clock Rate"
   ]
  },
  {
   "cell_type": "code",
   "execution_count": null,
   "metadata": {},
   "outputs": [],
   "source": [
    "clock_rate_timeseries_plot = profiler_session.clock_rate_timeseries_plot(plot_limits=True, use_ear=False)\n",
    "clock_rate_timeseries_plot.plot_series = { key: clock_rate_timeseries_plot.plot_series[key] for key in clock_rate_timeseries_plot.plot_series if key == \"CPU 0\" or key.startswith(\"CPU 0 Core 0\") or key.startswith(\"GPU 0\") or key.startswith(\"Node\")}\n",
    "clock_rate_timeseries_plot.plot()"
   ]
  },
  {
   "cell_type": "markdown",
   "metadata": {},
   "source": [
    "##### Power Consumption"
   ]
  },
  {
   "cell_type": "code",
   "execution_count": null,
   "metadata": {},
   "outputs": [],
   "source": [
    "power_consumption_timeseries_plot = profiler_session.power_consumption_timeseries_plot(plot_limits=False, use_ear=False)\n",
    "power_consumption_timeseries_plot.plot_series = { key: power_consumption_timeseries_plot.plot_series[key] for key in power_consumption_timeseries_plot.plot_series if key == \"CPU 0\" or key.startswith(\"CPU 0 Core 0\") or key.startswith(\"GPU 0\") or key.startswith(\"Node\")}\n",
    "power_consumption_timeseries_plot.plot()"
   ]
  },
  {
   "cell_type": "markdown",
   "metadata": {},
   "source": [
    "##### Energy Consumption"
   ]
  },
  {
   "cell_type": "code",
   "execution_count": null,
   "metadata": {},
   "outputs": [],
   "source": [
    "energy_consumption_plot_j = profiler_session.energy_consumption_timeseries_plot(use_ear=False)\n",
    "energy_consumption_plot_j.plot_series = { key: energy_consumption_plot_j.plot_series[key] for key in energy_consumption_plot_j.plot_series if key == \"CPU 0\" or key.startswith(\"CPU 0 Core 0\") or key.startswith(\"GPU 0\") or key.startswith(\"Node\")}\n",
    "energy_consumption_plot_j.plot()"
   ]
  },
  {
   "cell_type": "markdown",
   "metadata": {},
   "source": [
    "##### Timespan"
   ]
  },
  {
   "cell_type": "code",
   "execution_count": null,
   "metadata": {},
   "outputs": [],
   "source": [
    "timespan_timeseries_plot = profiler_session.timespan_timeseries_plot(use_ear=False)\n",
    "timespan_timeseries_plot.plot_series = { key: timespan_timeseries_plot.plot_series[key] for key in timespan_timeseries_plot.plot_series if (key.startswith(\"Runtime\") or key.startswith(\"EAR\") or key.startswith(\"CPU 0 Core 0\"))}\n",
    "timespan_timeseries_plot.plot()"
   ]
  },
  {
   "cell_type": "markdown",
   "metadata": {},
   "source": [
    "### K-Means"
   ]
  },
  {
   "cell_type": "markdown",
   "metadata": {},
   "source": [
    "#### No Action Policy"
   ]
  },
  {
   "cell_type": "code",
   "execution_count": null,
   "metadata": {},
   "outputs": [],
   "source": [
    "profiler_session = [profiler_session for profiler_session in complete_data_set.data if profiler_session.id == 112][0]"
   ]
  },
  {
   "cell_type": "markdown",
   "metadata": {},
   "source": [
    "##### States"
   ]
  },
  {
   "cell_type": "code",
   "execution_count": null,
   "metadata": {},
   "outputs": [],
   "source": [
    "profiler_session.states_event_plot().plot()"
   ]
  },
  {
   "cell_type": "markdown",
   "metadata": {},
   "source": [
    "##### Clock Rate"
   ]
  },
  {
   "cell_type": "code",
   "execution_count": null,
   "metadata": {},
   "outputs": [],
   "source": [
    "clock_rate_timeseries_plot = profiler_session.clock_rate_timeseries_plot(plot_limits=True, use_ear=False)\n",
    "clock_rate_timeseries_plot.plot_series = { key: clock_rate_timeseries_plot.plot_series[key] for key in clock_rate_timeseries_plot.plot_series if key == \"CPU 0\" or key.startswith(\"CPU 0 Core 0\") or key.startswith(\"GPU 0\") or key.startswith(\"Node\")}\n",
    "clock_rate_timeseries_plot.plot()"
   ]
  },
  {
   "cell_type": "markdown",
   "metadata": {},
   "source": [
    "##### Power Consumption"
   ]
  },
  {
   "cell_type": "code",
   "execution_count": null,
   "metadata": {},
   "outputs": [],
   "source": [
    "power_consumption_timeseries_plot = profiler_session.power_consumption_timeseries_plot(plot_limits=False, use_ear=False)\n",
    "power_consumption_timeseries_plot.plot_series = { key: power_consumption_timeseries_plot.plot_series[key] for key in power_consumption_timeseries_plot.plot_series if key == \"CPU 0\" or key.startswith(\"CPU 0 Core 0\") or key.startswith(\"GPU 0\") or key.startswith(\"Node\")}\n",
    "power_consumption_timeseries_plot.plot()"
   ]
  },
  {
   "cell_type": "markdown",
   "metadata": {},
   "source": [
    "##### Energy Consumption"
   ]
  },
  {
   "cell_type": "code",
   "execution_count": null,
   "metadata": {},
   "outputs": [],
   "source": [
    "energy_consumption_plot_j = profiler_session.energy_consumption_timeseries_plot(use_ear=False)\n",
    "energy_consumption_plot_j.plot_series = { key: energy_consumption_plot_j.plot_series[key] for key in energy_consumption_plot_j.plot_series if key == \"CPU 0\" or key.startswith(\"CPU 0 Core 0\") or key.startswith(\"GPU 0\") or key.startswith(\"Node\")}\n",
    "energy_consumption_plot_j.plot()"
   ]
  },
  {
   "cell_type": "markdown",
   "metadata": {},
   "source": [
    "##### Timespan"
   ]
  },
  {
   "cell_type": "code",
   "execution_count": null,
   "metadata": {},
   "outputs": [],
   "source": [
    "timespan_timeseries_plot = profiler_session.timespan_timeseries_plot(use_ear=False)\n",
    "timespan_timeseries_plot.plot_series = { key: timespan_timeseries_plot.plot_series[key] for key in timespan_timeseries_plot.plot_series if (key.startswith(\"Runtime\") or key.startswith(\"EAR\") or key.startswith(\"CPU 0 Core 0\"))}\n",
    "timespan_timeseries_plot.plot()"
   ]
  },
  {
   "cell_type": "markdown",
   "metadata": {},
   "source": [
    "#### MinMax Policy"
   ]
  },
  {
   "cell_type": "code",
   "execution_count": null,
   "metadata": {},
   "outputs": [],
   "source": [
    "profiler_session = [profiler_session for profiler_session in complete_data_set.data if profiler_session.id == 258][0]"
   ]
  },
  {
   "cell_type": "markdown",
   "metadata": {},
   "source": [
    "##### States"
   ]
  },
  {
   "cell_type": "code",
   "execution_count": null,
   "metadata": {},
   "outputs": [],
   "source": [
    "profiler_session.states_event_plot().plot()"
   ]
  },
  {
   "cell_type": "markdown",
   "metadata": {},
   "source": [
    "##### Clock Rate"
   ]
  },
  {
   "cell_type": "code",
   "execution_count": null,
   "metadata": {},
   "outputs": [],
   "source": [
    "clock_rate_timeseries_plot = profiler_session.clock_rate_timeseries_plot(plot_limits=True, use_ear=False)\n",
    "clock_rate_timeseries_plot.plot_series = { key: clock_rate_timeseries_plot.plot_series[key] for key in clock_rate_timeseries_plot.plot_series if key == \"CPU 0\" or key.startswith(\"CPU 0 Core 0\") or key.startswith(\"GPU 0\") or key.startswith(\"Node\")}\n",
    "clock_rate_timeseries_plot.plot()"
   ]
  },
  {
   "cell_type": "markdown",
   "metadata": {},
   "source": [
    "##### Power Consumption"
   ]
  },
  {
   "cell_type": "code",
   "execution_count": null,
   "metadata": {},
   "outputs": [],
   "source": [
    "power_consumption_timeseries_plot = profiler_session.power_consumption_timeseries_plot(plot_limits=False, use_ear=False)\n",
    "power_consumption_timeseries_plot.plot_series = { key: power_consumption_timeseries_plot.plot_series[key] for key in power_consumption_timeseries_plot.plot_series if key == \"CPU 0\" or key.startswith(\"CPU 0 Core 0\") or key.startswith(\"GPU 0\") or key.startswith(\"Node\")}\n",
    "power_consumption_timeseries_plot.plot()"
   ]
  },
  {
   "cell_type": "markdown",
   "metadata": {},
   "source": [
    "##### Energy Consumption"
   ]
  },
  {
   "cell_type": "code",
   "execution_count": null,
   "metadata": {},
   "outputs": [],
   "source": [
    "energy_consumption_plot_j = profiler_session.energy_consumption_timeseries_plot(use_ear=False)\n",
    "energy_consumption_plot_j.plot_series = { key: energy_consumption_plot_j.plot_series[key] for key in energy_consumption_plot_j.plot_series if key == \"CPU 0\" or key.startswith(\"CPU 0 Core 0\") or key.startswith(\"GPU 0\") or key.startswith(\"Node\")}\n",
    "energy_consumption_plot_j.plot()"
   ]
  },
  {
   "cell_type": "markdown",
   "metadata": {},
   "source": [
    "##### Timespan"
   ]
  },
  {
   "cell_type": "code",
   "execution_count": null,
   "metadata": {},
   "outputs": [],
   "source": [
    "timespan_timeseries_plot = profiler_session.timespan_timeseries_plot(use_ear=False)\n",
    "timespan_timeseries_plot.plot_series = { key: timespan_timeseries_plot.plot_series[key] for key in timespan_timeseries_plot.plot_series if (key.startswith(\"Runtime\") or key.startswith(\"EAR\") or key.startswith(\"CPU 0 Core 0\"))}\n",
    "timespan_timeseries_plot.plot()"
   ]
  },
  {
   "cell_type": "markdown",
   "metadata": {},
   "source": [
    "#### System Policy"
   ]
  },
  {
   "cell_type": "code",
   "execution_count": null,
   "metadata": {},
   "outputs": [],
   "source": [
    "profiler_session = [profiler_session for profiler_session in complete_data_set.data if profiler_session.id == 260][0]"
   ]
  },
  {
   "cell_type": "markdown",
   "metadata": {},
   "source": [
    "##### States"
   ]
  },
  {
   "cell_type": "code",
   "execution_count": null,
   "metadata": {},
   "outputs": [],
   "source": [
    "profiler_session.states_event_plot().plot()"
   ]
  },
  {
   "cell_type": "markdown",
   "metadata": {},
   "source": [
    "##### Clock Rate"
   ]
  },
  {
   "cell_type": "code",
   "execution_count": null,
   "metadata": {},
   "outputs": [],
   "source": [
    "clock_rate_timeseries_plot = profiler_session.clock_rate_timeseries_plot(plot_limits=True, use_ear=False)\n",
    "clock_rate_timeseries_plot.plot_series = { key: clock_rate_timeseries_plot.plot_series[key] for key in clock_rate_timeseries_plot.plot_series if key == \"CPU 0\" or key.startswith(\"CPU 0 Core 0\") or key.startswith(\"GPU 0\") or key.startswith(\"Node\")}\n",
    "clock_rate_timeseries_plot.plot()"
   ]
  },
  {
   "cell_type": "markdown",
   "metadata": {},
   "source": [
    "##### Power Consumption"
   ]
  },
  {
   "cell_type": "code",
   "execution_count": null,
   "metadata": {},
   "outputs": [],
   "source": [
    "power_consumption_timeseries_plot = profiler_session.power_consumption_timeseries_plot(plot_limits=False, use_ear=False)\n",
    "power_consumption_timeseries_plot.plot_series = { key: power_consumption_timeseries_plot.plot_series[key] for key in power_consumption_timeseries_plot.plot_series if key == \"CPU 0\" or key.startswith(\"CPU 0 Core 0\") or key.startswith(\"GPU 0\") or key.startswith(\"Node\")}\n",
    "power_consumption_timeseries_plot.plot()"
   ]
  },
  {
   "cell_type": "markdown",
   "metadata": {},
   "source": [
    "##### Energy Consumption"
   ]
  },
  {
   "cell_type": "code",
   "execution_count": null,
   "metadata": {},
   "outputs": [],
   "source": [
    "energy_consumption_plot_j = profiler_session.energy_consumption_timeseries_plot(use_ear=False)\n",
    "energy_consumption_plot_j.plot_series = { key: energy_consumption_plot_j.plot_series[key] for key in energy_consumption_plot_j.plot_series if key == \"CPU 0\" or key.startswith(\"CPU 0 Core 0\") or key.startswith(\"GPU 0\") or key.startswith(\"Node\")}\n",
    "energy_consumption_plot_j.plot()"
   ]
  },
  {
   "cell_type": "markdown",
   "metadata": {},
   "source": [
    "##### Timespan"
   ]
  },
  {
   "cell_type": "code",
   "execution_count": null,
   "metadata": {},
   "outputs": [],
   "source": [
    "timespan_timeseries_plot = profiler_session.timespan_timeseries_plot(use_ear=False)\n",
    "timespan_timeseries_plot.plot_series = { key: timespan_timeseries_plot.plot_series[key] for key in timespan_timeseries_plot.plot_series if (key.startswith(\"Runtime\") or key.startswith(\"EAR\") or key.startswith(\"CPU 0 Core 0\"))}\n",
    "timespan_timeseries_plot.plot()"
   ]
  },
  {
   "cell_type": "markdown",
   "metadata": {},
   "source": [
    "### Jacobi"
   ]
  },
  {
   "cell_type": "markdown",
   "metadata": {},
   "source": [
    "#### No Action Policy"
   ]
  },
  {
   "cell_type": "code",
   "execution_count": null,
   "metadata": {},
   "outputs": [],
   "source": [
    "profiler_session = [profiler_session for profiler_session in complete_data_set.data if profiler_session.id == 2][0]"
   ]
  },
  {
   "cell_type": "markdown",
   "metadata": {},
   "source": [
    "##### States"
   ]
  },
  {
   "cell_type": "code",
   "execution_count": null,
   "metadata": {},
   "outputs": [],
   "source": [
    "profiler_session.states_event_plot().plot()"
   ]
  },
  {
   "cell_type": "markdown",
   "metadata": {},
   "source": [
    "##### Clock Rate"
   ]
  },
  {
   "cell_type": "code",
   "execution_count": null,
   "metadata": {},
   "outputs": [],
   "source": [
    "clock_rate_timeseries_plot = profiler_session.clock_rate_timeseries_plot(plot_limits=True, use_ear=False)\n",
    "clock_rate_timeseries_plot.plot_series = { key: clock_rate_timeseries_plot.plot_series[key] for key in clock_rate_timeseries_plot.plot_series if key == \"CPU 0\" or key.startswith(\"CPU 0 Core 0\") or key.startswith(\"GPU 0\") or key.startswith(\"Node\")}\n",
    "clock_rate_timeseries_plot.plot()"
   ]
  },
  {
   "cell_type": "markdown",
   "metadata": {},
   "source": [
    "##### Power Consumption"
   ]
  },
  {
   "cell_type": "code",
   "execution_count": null,
   "metadata": {},
   "outputs": [],
   "source": [
    "power_consumption_timeseries_plot = profiler_session.power_consumption_timeseries_plot(plot_limits=False, use_ear=False)\n",
    "power_consumption_timeseries_plot.plot_series = { key: power_consumption_timeseries_plot.plot_series[key] for key in power_consumption_timeseries_plot.plot_series if key == \"CPU 0\" or key.startswith(\"CPU 0 Core 0\") or key.startswith(\"GPU 0\") or key.startswith(\"Node\")}\n",
    "power_consumption_timeseries_plot.plot()"
   ]
  },
  {
   "cell_type": "markdown",
   "metadata": {},
   "source": [
    "##### Energy Consumption"
   ]
  },
  {
   "cell_type": "code",
   "execution_count": null,
   "metadata": {},
   "outputs": [],
   "source": [
    "energy_consumption_plot_j = profiler_session.energy_consumption_timeseries_plot(use_ear=False)\n",
    "energy_consumption_plot_j.plot_series = { key: energy_consumption_plot_j.plot_series[key] for key in energy_consumption_plot_j.plot_series if key == \"CPU 0\" or key.startswith(\"CPU 0 Core 0\") or key.startswith(\"GPU 0\") or key.startswith(\"Node\")}\n",
    "energy_consumption_plot_j.plot()"
   ]
  },
  {
   "cell_type": "markdown",
   "metadata": {},
   "source": [
    "##### Timespan"
   ]
  },
  {
   "cell_type": "code",
   "execution_count": null,
   "metadata": {},
   "outputs": [],
   "source": [
    "timespan_timeseries_plot = profiler_session.timespan_timeseries_plot(use_ear=False)\n",
    "timespan_timeseries_plot.plot_series = { key: timespan_timeseries_plot.plot_series[key] for key in timespan_timeseries_plot.plot_series if (key.startswith(\"Runtime\") or key.startswith(\"EAR\") or key.startswith(\"CPU 0 Core 0\"))}\n",
    "timespan_timeseries_plot.plot()"
   ]
  },
  {
   "cell_type": "markdown",
   "metadata": {},
   "source": [
    "#### MinMax Policy"
   ]
  },
  {
   "cell_type": "code",
   "execution_count": null,
   "metadata": {},
   "outputs": [],
   "source": [
    "profiler_session = [profiler_session for profiler_session in complete_data_set.data if profiler_session.id == 254][0]"
   ]
  },
  {
   "cell_type": "markdown",
   "metadata": {},
   "source": [
    "##### States"
   ]
  },
  {
   "cell_type": "code",
   "execution_count": null,
   "metadata": {},
   "outputs": [],
   "source": [
    "profiler_session.states_event_plot().plot()"
   ]
  },
  {
   "cell_type": "markdown",
   "metadata": {},
   "source": [
    "##### Clock Rate"
   ]
  },
  {
   "cell_type": "code",
   "execution_count": null,
   "metadata": {},
   "outputs": [],
   "source": [
    "clock_rate_timeseries_plot = profiler_session.clock_rate_timeseries_plot(plot_limits=True, use_ear=False)\n",
    "clock_rate_timeseries_plot.plot_series = { key: clock_rate_timeseries_plot.plot_series[key] for key in clock_rate_timeseries_plot.plot_series if key == \"CPU 0\" or key.startswith(\"CPU 0 Core 0\") or key.startswith(\"GPU 0\") or key.startswith(\"Node\")}\n",
    "clock_rate_timeseries_plot.plot()"
   ]
  },
  {
   "cell_type": "markdown",
   "metadata": {},
   "source": [
    "##### Power Consumption"
   ]
  },
  {
   "cell_type": "code",
   "execution_count": null,
   "metadata": {},
   "outputs": [],
   "source": [
    "power_consumption_timeseries_plot = profiler_session.power_consumption_timeseries_plot(plot_limits=False, use_ear=False)\n",
    "power_consumption_timeseries_plot.plot_series = { key: power_consumption_timeseries_plot.plot_series[key] for key in power_consumption_timeseries_plot.plot_series if key == \"CPU 0\" or key.startswith(\"CPU 0 Core 0\") or key.startswith(\"GPU 0\") or key.startswith(\"Node\")}\n",
    "power_consumption_timeseries_plot.plot()"
   ]
  },
  {
   "cell_type": "markdown",
   "metadata": {},
   "source": [
    "##### Energy Consumption"
   ]
  },
  {
   "cell_type": "code",
   "execution_count": null,
   "metadata": {},
   "outputs": [],
   "source": [
    "energy_consumption_plot_j = profiler_session.energy_consumption_timeseries_plot(use_ear=False)\n",
    "energy_consumption_plot_j.plot_series = { key: energy_consumption_plot_j.plot_series[key] for key in energy_consumption_plot_j.plot_series if key == \"CPU 0\" or key.startswith(\"CPU 0 Core 0\") or key.startswith(\"GPU 0\") or key.startswith(\"Node\")}\n",
    "energy_consumption_plot_j.plot()"
   ]
  },
  {
   "cell_type": "markdown",
   "metadata": {},
   "source": [
    "##### Timespan"
   ]
  },
  {
   "cell_type": "code",
   "execution_count": null,
   "metadata": {},
   "outputs": [],
   "source": [
    "timespan_timeseries_plot = profiler_session.timespan_timeseries_plot(use_ear=False)\n",
    "timespan_timeseries_plot.plot_series = { key: timespan_timeseries_plot.plot_series[key] for key in timespan_timeseries_plot.plot_series if (key.startswith(\"Runtime\") or key.startswith(\"EAR\") or key.startswith(\"CPU 0 Core 0\"))}\n",
    "timespan_timeseries_plot.plot()"
   ]
  },
  {
   "cell_type": "markdown",
   "metadata": {},
   "source": [
    "#### System Policy"
   ]
  },
  {
   "cell_type": "code",
   "execution_count": null,
   "metadata": {},
   "outputs": [],
   "source": [
    "profiler_session = [profiler_session for profiler_session in complete_data_set.data if profiler_session.id == 256][0]"
   ]
  },
  {
   "cell_type": "markdown",
   "metadata": {},
   "source": [
    "##### States"
   ]
  },
  {
   "cell_type": "code",
   "execution_count": null,
   "metadata": {},
   "outputs": [],
   "source": [
    "profiler_session.states_event_plot().plot()"
   ]
  },
  {
   "cell_type": "markdown",
   "metadata": {},
   "source": [
    "##### Clock Rate"
   ]
  },
  {
   "cell_type": "code",
   "execution_count": null,
   "metadata": {},
   "outputs": [],
   "source": [
    "clock_rate_timeseries_plot = profiler_session.clock_rate_timeseries_plot(plot_limits=True, use_ear=False)\n",
    "clock_rate_timeseries_plot.plot_series = { key: clock_rate_timeseries_plot.plot_series[key] for key in clock_rate_timeseries_plot.plot_series if key == \"CPU 0\" or key.startswith(\"CPU 0 Core 0\") or key.startswith(\"GPU 0\") or key.startswith(\"Node\")}\n",
    "clock_rate_timeseries_plot.plot()"
   ]
  },
  {
   "cell_type": "markdown",
   "metadata": {},
   "source": [
    "##### Power Consumption"
   ]
  },
  {
   "cell_type": "code",
   "execution_count": null,
   "metadata": {},
   "outputs": [],
   "source": [
    "power_consumption_timeseries_plot = profiler_session.power_consumption_timeseries_plot(plot_limits=False, use_ear=False)\n",
    "power_consumption_timeseries_plot.plot_series = { key: power_consumption_timeseries_plot.plot_series[key] for key in power_consumption_timeseries_plot.plot_series if key == \"CPU 0\" or key.startswith(\"CPU 0 Core 0\") or key.startswith(\"GPU 0\") or key.startswith(\"Node\")}\n",
    "power_consumption_timeseries_plot.plot()"
   ]
  },
  {
   "cell_type": "markdown",
   "metadata": {},
   "source": [
    "##### Energy Consumption"
   ]
  },
  {
   "cell_type": "code",
   "execution_count": null,
   "metadata": {},
   "outputs": [],
   "source": [
    "energy_consumption_plot_j = profiler_session.energy_consumption_timeseries_plot(use_ear=False)\n",
    "energy_consumption_plot_j.plot_series = { key: energy_consumption_plot_j.plot_series[key] for key in energy_consumption_plot_j.plot_series if key == \"CPU 0\" or key.startswith(\"CPU 0 Core 0\") or key.startswith(\"GPU 0\") or key.startswith(\"Node\")}\n",
    "energy_consumption_plot_j.plot()"
   ]
  },
  {
   "cell_type": "markdown",
   "metadata": {},
   "source": [
    "##### Timespan"
   ]
  },
  {
   "cell_type": "code",
   "execution_count": null,
   "metadata": {},
   "outputs": [],
   "source": [
    "timespan_timeseries_plot = profiler_session.timespan_timeseries_plot(use_ear=False)\n",
    "timespan_timeseries_plot.plot_series = { key: timespan_timeseries_plot.plot_series[key] for key in timespan_timeseries_plot.plot_series if (key.startswith(\"Runtime\") or key.startswith(\"EAR\") or key.startswith(\"CPU 0 Core 0\"))}\n",
    "timespan_timeseries_plot.plot()"
   ]
  },
  {
   "cell_type": "markdown",
   "metadata": {},
   "source": [
    "## The Framework in Practice"
   ]
  },
  {
   "cell_type": "markdown",
   "metadata": {},
   "source": [
    "### No Action Policy"
   ]
  },
  {
   "cell_type": "code",
   "execution_count": null,
   "metadata": {},
   "outputs": [],
   "source": [
    "profiler_session = [profiler_session for profiler_session in complete_data_set.data if profiler_session.id == 233][0]"
   ]
  },
  {
   "cell_type": "markdown",
   "metadata": {},
   "source": [
    "#### States"
   ]
  },
  {
   "cell_type": "code",
   "execution_count": null,
   "metadata": {},
   "outputs": [],
   "source": [
    "profiler_session.states_event_plot().plot()"
   ]
  },
  {
   "cell_type": "markdown",
   "metadata": {},
   "source": [
    "#### Clock Rate"
   ]
  },
  {
   "cell_type": "code",
   "execution_count": null,
   "metadata": {},
   "outputs": [],
   "source": [
    "clock_rate_timeseries_plot = profiler_session.clock_rate_timeseries_plot(plot_limits=True, use_ear=False)\n",
    "clock_rate_timeseries_plot.plot_series = { key: clock_rate_timeseries_plot.plot_series[key] for key in clock_rate_timeseries_plot.plot_series if key == \"CPU 0\" or key.startswith(\"CPU 0 Core 0\") or key.startswith(\"GPU 0\") or key.startswith(\"Node\")}\n",
    "clock_rate_timeseries_plot.plot()"
   ]
  },
  {
   "cell_type": "markdown",
   "metadata": {},
   "source": [
    "#### Power Consumption"
   ]
  },
  {
   "cell_type": "code",
   "execution_count": null,
   "metadata": {},
   "outputs": [],
   "source": [
    "power_consumption_timeseries_plot = profiler_session.power_consumption_timeseries_plot(plot_limits=False, use_ear=False)\n",
    "power_consumption_timeseries_plot.plot_series = { key: power_consumption_timeseries_plot.plot_series[key] for key in power_consumption_timeseries_plot.plot_series if key == \"CPU 0\" or key.startswith(\"CPU 0 Core 0\") or key.startswith(\"GPU 0\") or key.startswith(\"Node\")}\n",
    "power_consumption_timeseries_plot.plot()"
   ]
  },
  {
   "cell_type": "markdown",
   "metadata": {},
   "source": [
    "#### Energy Consumption"
   ]
  },
  {
   "cell_type": "code",
   "execution_count": null,
   "metadata": {},
   "outputs": [],
   "source": [
    "energy_consumption_plot_j = profiler_session.energy_consumption_timeseries_plot(use_ear=False)\n",
    "energy_consumption_plot_j.plot_series = { key: energy_consumption_plot_j.plot_series[key] for key in energy_consumption_plot_j.plot_series if key == \"CPU 0\" or key.startswith(\"CPU 0 Core 0\") or key.startswith(\"GPU 0\") or key.startswith(\"Node\")}\n",
    "energy_consumption_plot_j.plot()"
   ]
  },
  {
   "cell_type": "markdown",
   "metadata": {},
   "source": [
    "#### Timespan"
   ]
  },
  {
   "cell_type": "code",
   "execution_count": null,
   "metadata": {},
   "outputs": [],
   "source": [
    "timespan_timeseries_plot = profiler_session.timespan_timeseries_plot(use_ear=False)\n",
    "timespan_timeseries_plot.plot_series = { key: timespan_timeseries_plot.plot_series[key] for key in timespan_timeseries_plot.plot_series if (key.startswith(\"Runtime\") or key.startswith(\"EAR\") or key.startswith(\"CPU 0 Core 0\"))}\n",
    "timespan_timeseries_plot.plot()"
   ]
  },
  {
   "cell_type": "markdown",
   "metadata": {},
   "source": [
    "### MinMax Policy"
   ]
  },
  {
   "cell_type": "code",
   "execution_count": null,
   "metadata": {},
   "outputs": [],
   "source": [
    "profiler_session = [profiler_session for profiler_session in complete_data_set.data if profiler_session.id == 251][0]"
   ]
  },
  {
   "cell_type": "markdown",
   "metadata": {},
   "source": [
    "#### Utilization Rate"
   ]
  },
  {
   "cell_type": "code",
   "execution_count": null,
   "metadata": {},
   "outputs": [],
   "source": [
    "utilization_rate_timeseries_plot = profiler_session.utilization_rate_timeseries_plot\n",
    "utilization_rate_timeseries_plot.plot_series = { key: utilization_rate_timeseries_plot.plot_series[key] for key in utilization_rate_timeseries_plot.plot_series if key == \"CPU 0\" or key.startswith(\"CPU 0 Core 0\") or key.startswith(\"GPU 0\") or key.startswith(\"Node\")}\n",
    "utilization_rate_timeseries_plot.plot()"
   ]
  },
  {
   "cell_type": "markdown",
   "metadata": {},
   "source": [
    "#### Events"
   ]
  },
  {
   "cell_type": "code",
   "execution_count": null,
   "metadata": {},
   "outputs": [],
   "source": [
    "profiler_session.events_event_plot()[:1][0].plot()"
   ]
  },
  {
   "cell_type": "markdown",
   "metadata": {},
   "source": [
    "#### States"
   ]
  },
  {
   "cell_type": "code",
   "execution_count": null,
   "metadata": {},
   "outputs": [],
   "source": [
    "profiler_session.states_event_plot().plot()"
   ]
  },
  {
   "cell_type": "markdown",
   "metadata": {},
   "source": [
    "#### Clock Rate"
   ]
  },
  {
   "cell_type": "code",
   "execution_count": null,
   "metadata": {},
   "outputs": [],
   "source": [
    "clock_rate_timeseries_plot = profiler_session.clock_rate_timeseries_plot(plot_limits=True, use_ear=False)\n",
    "clock_rate_timeseries_plot.plot_series = { key: clock_rate_timeseries_plot.plot_series[key] for key in clock_rate_timeseries_plot.plot_series if key == \"CPU 0\" or key.startswith(\"CPU 0 Core 0\") or key.startswith(\"GPU 0\") or key.startswith(\"Node\")}\n",
    "clock_rate_timeseries_plot.plot()"
   ]
  },
  {
   "cell_type": "markdown",
   "metadata": {},
   "source": [
    "#### Power Consumption"
   ]
  },
  {
   "cell_type": "code",
   "execution_count": null,
   "metadata": {},
   "outputs": [],
   "source": [
    "power_consumption_timeseries_plot = profiler_session.power_consumption_timeseries_plot(plot_limits=False, use_ear=False)\n",
    "power_consumption_timeseries_plot.plot_series = { key: power_consumption_timeseries_plot.plot_series[key] for key in power_consumption_timeseries_plot.plot_series if key == \"CPU 0\" or key.startswith(\"CPU 0 Core 0\") or key.startswith(\"GPU 0\") or key.startswith(\"Node\")}\n",
    "power_consumption_timeseries_plot.plot()"
   ]
  },
  {
   "cell_type": "markdown",
   "metadata": {},
   "source": [
    "#### Energy Consumption"
   ]
  },
  {
   "cell_type": "code",
   "execution_count": null,
   "metadata": {},
   "outputs": [],
   "source": [
    "energy_consumption_plot_j = profiler_session.energy_consumption_timeseries_plot(use_ear=False)\n",
    "energy_consumption_plot_j.plot_series = { key: energy_consumption_plot_j.plot_series[key] for key in energy_consumption_plot_j.plot_series if key == \"CPU 0\" or key.startswith(\"CPU 0 Core 0\") or key.startswith(\"GPU 0\") or key.startswith(\"Node\")}\n",
    "energy_consumption_plot_j.plot()"
   ]
  },
  {
   "cell_type": "markdown",
   "metadata": {},
   "source": [
    "#### Timespan"
   ]
  },
  {
   "cell_type": "code",
   "execution_count": null,
   "metadata": {},
   "outputs": [],
   "source": [
    "timespan_timeseries_plot = profiler_session.timespan_timeseries_plot(use_ear=False)\n",
    "timespan_timeseries_plot.plot_series = { key: timespan_timeseries_plot.plot_series[key] for key in timespan_timeseries_plot.plot_series if (key.startswith(\"Runtime\") or key.startswith(\"EAR\") or key.startswith(\"CPU 0 Core 0\"))}\n",
    "timespan_timeseries_plot.plot()"
   ]
  },
  {
   "cell_type": "markdown",
   "metadata": {},
   "source": [
    "### System Policy"
   ]
  },
  {
   "cell_type": "code",
   "execution_count": null,
   "metadata": {},
   "outputs": [],
   "source": [
    "profiler_session = [profiler_session for profiler_session in complete_data_set.data if profiler_session.id == 252][0]"
   ]
  },
  {
   "cell_type": "markdown",
   "metadata": {},
   "source": [
    "#### Utilization Rate"
   ]
  },
  {
   "cell_type": "code",
   "execution_count": null,
   "metadata": {},
   "outputs": [],
   "source": [
    "utilization_rate_timeseries_plot = profiler_session.utilization_rate_timeseries_plot\n",
    "utilization_rate_timeseries_plot.plot_series = { key: utilization_rate_timeseries_plot.plot_series[key] for key in utilization_rate_timeseries_plot.plot_series if key == \"CPU 0\" or key.startswith(\"CPU 0 Core 0\") or key.startswith(\"GPU 0\") or key.startswith(\"Node\")}\n",
    "utilization_rate_timeseries_plot.plot()"
   ]
  },
  {
   "cell_type": "markdown",
   "metadata": {},
   "source": [
    "#### Events"
   ]
  },
  {
   "cell_type": "code",
   "execution_count": null,
   "metadata": {},
   "outputs": [],
   "source": [
    "profiler_session.events_event_plot()[:1][0].plot()"
   ]
  },
  {
   "cell_type": "markdown",
   "metadata": {},
   "source": [
    "#### States"
   ]
  },
  {
   "cell_type": "code",
   "execution_count": null,
   "metadata": {},
   "outputs": [],
   "source": [
    "profiler_session.states_event_plot().plot()"
   ]
  },
  {
   "cell_type": "markdown",
   "metadata": {},
   "source": [
    "#### Clock Rate"
   ]
  },
  {
   "cell_type": "code",
   "execution_count": null,
   "metadata": {},
   "outputs": [],
   "source": [
    "clock_rate_timeseries_plot = profiler_session.clock_rate_timeseries_plot(plot_limits=True, use_ear=False)\n",
    "clock_rate_timeseries_plot.plot_series = { key: clock_rate_timeseries_plot.plot_series[key] for key in clock_rate_timeseries_plot.plot_series if key == \"CPU 0\" or key.startswith(\"CPU 0 Core 0\") or key.startswith(\"GPU 0\") or key.startswith(\"Node\")}\n",
    "clock_rate_timeseries_plot.plot()"
   ]
  },
  {
   "cell_type": "markdown",
   "metadata": {},
   "source": [
    "#### Power Consumption"
   ]
  },
  {
   "cell_type": "code",
   "execution_count": null,
   "metadata": {},
   "outputs": [],
   "source": [
    "power_consumption_timeseries_plot = profiler_session.power_consumption_timeseries_plot(plot_limits=False, use_ear=False)\n",
    "power_consumption_timeseries_plot.plot_series = { key: power_consumption_timeseries_plot.plot_series[key] for key in power_consumption_timeseries_plot.plot_series if key == \"CPU 0\" or key.startswith(\"CPU 0 Core 0\") or key.startswith(\"GPU 0\") or key.startswith(\"Node\")}\n",
    "power_consumption_timeseries_plot.plot()"
   ]
  },
  {
   "cell_type": "markdown",
   "metadata": {},
   "source": [
    "#### Energy Consumption"
   ]
  },
  {
   "cell_type": "code",
   "execution_count": null,
   "metadata": {},
   "outputs": [],
   "source": [
    "energy_consumption_plot_j = profiler_session.energy_consumption_timeseries_plot(use_ear=False)\n",
    "energy_consumption_plot_j.plot_series = { key: energy_consumption_plot_j.plot_series[key] for key in energy_consumption_plot_j.plot_series if key == \"CPU 0\" or key.startswith(\"CPU 0 Core 0\") or key.startswith(\"GPU 0\") or key.startswith(\"Node\")}\n",
    "energy_consumption_plot_j.plot()"
   ]
  },
  {
   "cell_type": "markdown",
   "metadata": {},
   "source": [
    "#### Timespan"
   ]
  },
  {
   "cell_type": "code",
   "execution_count": null,
   "metadata": {},
   "outputs": [],
   "source": [
    "timespan_timeseries_plot = profiler_session.timespan_timeseries_plot(use_ear=False)\n",
    "timespan_timeseries_plot.plot_series = { key: timespan_timeseries_plot.plot_series[key] for key in timespan_timeseries_plot.plot_series if (key.startswith(\"Runtime\") or key.startswith(\"EAR\") or key.startswith(\"CPU 0 Core 0\"))}\n",
    "timespan_timeseries_plot.plot()"
   ]
  }
 ],
 "metadata": {
  "kernelspec": {
   "display_name": "Python 3",
   "language": "python",
   "name": "python3"
  },
  "language_info": {
   "codemirror_mode": {
    "name": "ipython",
    "version": 3
   },
   "file_extension": ".py",
   "mimetype": "text/x-python",
   "name": "python",
   "nbconvert_exporter": "python",
   "pygments_lexer": "ipython3",
   "version": "3.8.6"
  },
  "toc-autonumbering": true,
  "widgets": {
   "application/vnd.jupyter.widget-state+json": {
    "state": {},
    "version_major": 2,
    "version_minor": 0
   }
  }
 },
 "nbformat": 4,
 "nbformat_minor": 4
}
