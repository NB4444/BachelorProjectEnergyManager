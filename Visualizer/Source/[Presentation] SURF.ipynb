{
 "cells": [
  {
   "cell_type": "code",
   "execution_count": 1,
   "metadata": {},
   "outputs": [],
   "source": [
    "%matplotlib widget\n",
    "\n",
    "import os\n",
    "import pathlib\n",
    "import pprint\n",
    "\n",
    "from Visualizer.ControlledDataSet import ControlComparison, ControlledDataSet\n",
    "from Visualizer.DataSet import DataSet\n",
    "from Visualizer.Monitoring.Persistence.ProfilerSession import ProfilerSession\n",
    "\n",
    "# Load the complete data set\n",
    "source_directory = pathlib.Path().parent.absolute()\n",
    "project_directory = f\"{source_directory}/..\"\n",
    "database = f\"{os.environ.get('HOME')}/EnergyManager-Resources2/OldDatabase.sqlite\"\n",
    "complete_data_set = DataSet(ProfilerSession.load_all(database))\n",
    "\n",
    "# Load the individual data sets per application type and configuration\n",
    "fixed_frequency_matrix_multiply_data_set = DataSet([\n",
    "    profiler_session for profiler_session in complete_data_set.data\n",
    "    if profiler_session.label == \"Fixed Frequency Matrix Multiply\" and profiler_session.profile.get(\"matrixAWidth\") == 32 * 30 and \"iterations\" not in profiler_session.profile\n",
    "])\n",
    "matrix_multiply_data_set = DataSet([\n",
    "    profiler_session for profiler_session in complete_data_set.data\n",
    "    if profiler_session.label == \"Matrix Multiply\" and profiler_session.profile.get(\"matrixAWidth\") == 32 * 30 and \"iterations\" not in profiler_session.profile\n",
    "])\n",
    "fixed_frequency_long_matrix_multiply_data_set = DataSet([\n",
    "    profiler_session for profiler_session in complete_data_set.data\n",
    "    if profiler_session.label == \"Fixed Frequency Matrix Multiply\" and profiler_session.profile.get(\"matrixAWidth\") == 32 * 30 and profiler_session.profile.get(\"iterations\") == 4\n",
    "])\n",
    "long_matrix_multiply_data_set = DataSet([\n",
    "    profiler_session for profiler_session in complete_data_set.data\n",
    "    if profiler_session.label == \"Matrix Multiply\" and profiler_session.profile.get(\"matrixAWidth\") == 32 * 30 and profiler_session.profile.get(\"iterations\") == 4\n",
    "])\n",
    "\n",
    "fixed_frequency_kmeans_data_set = DataSet([\n",
    "    profiler_session for profiler_session in complete_data_set.data\n",
    "    if profiler_session.label == \"Fixed Frequency KMeans\" and \"file\" in profiler_session.profile and profiler_session.profile[\"file\"].endswith(\"kdd_cup\") and \"iterations\" not in profiler_session.profile\n",
    "])\n",
    "kmeans_data_set = DataSet([\n",
    "    profiler_session for profiler_session in complete_data_set.data\n",
    "    if profiler_session.label == \"KMeans\" and \"file\" in profiler_session.profile and profiler_session.profile[\"file\"].endswith(\"kdd_cup\") and \"iterations\" not in profiler_session.profile\n",
    "])\n",
    "fixed_frequency_long_kmeans_data_set = DataSet([\n",
    "    profiler_session for profiler_session in complete_data_set.data\n",
    "    if profiler_session.label == \"Fixed Frequency KMeans\" and \"file\" in profiler_session.profile and profiler_session.profile[\"file\"].endswith(\"kdd_cup\") and profiler_session.profile.get(\"iterations\") == 4\n",
    "])\n",
    "long_kmeans_data_set = DataSet([\n",
    "    profiler_session for profiler_session in complete_data_set.data\n",
    "    if profiler_session.label == \"KMeans\" and \"file\" in profiler_session.profile and profiler_session.profile[\"file\"].endswith(\"kdd_cup\") and profiler_session.profile.get(\"iterations\") == 4\n",
    "])\n",
    "\n",
    "# Convert the data sets to separate sets of data and associated control data\n",
    "matrix_multiply_controlled_data_set = ControlledDataSet(\n",
    "    data_set=fixed_frequency_matrix_multiply_data_set,\n",
    "    control_data_set=matrix_multiply_data_set\n",
    ")\n",
    "long_matrix_multiply_controlled_data_set = ControlledDataSet(\n",
    "    data_set=fixed_frequency_long_matrix_multiply_data_set,\n",
    "    control_data_set=long_matrix_multiply_data_set\n",
    ")\n",
    "\n",
    "kmeans_controlled_data_set = ControlledDataSet(\n",
    "    data_set=fixed_frequency_kmeans_data_set,\n",
    "    control_data_set=kmeans_data_set\n",
    ")\n",
    "long_kmeans_controlled_data_set = ControlledDataSet(\n",
    "    data_set=fixed_frequency_long_kmeans_data_set,\n",
    "    control_data_set=long_kmeans_data_set\n",
    ")\n",
    "\n",
    "# Load the new complete data set\n",
    "new_database = f\"{os.environ.get('HOME')}/EnergyManager-Resources2/NewDatabase.sqlite\"\n",
    "new_complete_data_set = DataSet(ProfilerSession.load_all(new_database))\n",
    "\n",
    "# Load the individual data sets per application type and configuration\n",
    "new_matrix_multiply_data_set = DataSet([\n",
    "    profiler_session for profiler_session in new_complete_data_set.data\n",
    "    if profiler_session.label == \"Matrix Multiply\" and profiler_session.profile[\"matrixAWidth\"] == 3 * 512 and profiler_session.profile[\"iterations\"] == 3\n",
    "])\n",
    "new_long_matrix_multiply_data_set = DataSet([\n",
    "    profiler_session for profiler_session in new_complete_data_set.data\n",
    "    if profiler_session.label == \"Matrix Multiply\" and profiler_session.profile[\"matrixAWidth\"] == 3 * 512 and profiler_session.profile[\"iterations\"] == 15\n",
    "])\n",
    "\n",
    "new_kmeans_data_set = DataSet([\n",
    "    profiler_session for profiler_session in new_complete_data_set.data\n",
    "    if profiler_session.label == \"KMeans\" and profiler_session.profile[\"file\"].endswith(\"kdd_cup\") and profiler_session.profile[\"iterations\"] == 15\n",
    "])\n",
    "new_long_kmeans_data_set = DataSet([\n",
    "    profiler_session for profiler_session in new_complete_data_set.data\n",
    "    if profiler_session.label == \"KMeans\" and profiler_session.profile[\"file\"].endswith(\"kdd_cup\") and profiler_session.profile[\"iterations\"] == 75\n",
    "])\n",
    "\n",
    "# Convert the data sets to separate sets of data and associated control data\n",
    "new_matrix_multiply_controlled_data_set = ControlledDataSet(\n",
    "    data_set=None,\n",
    "    control_data_set=new_matrix_multiply_data_set\n",
    ")\n",
    "new_long_matrix_multiply_controlled_data_set = ControlledDataSet(\n",
    "    data_set=None,\n",
    "    control_data_set=new_long_matrix_multiply_data_set\n",
    ")\n",
    "\n",
    "new_kmeans_controlled_data_set = ControlledDataSet(\n",
    "    data_set=None,\n",
    "    control_data_set=new_kmeans_data_set\n",
    ")\n",
    "new_long_kmeans_controlled_data_set = ControlledDataSet(\n",
    "    data_set=None,\n",
    "    control_data_set=new_long_kmeans_data_set\n",
    ")\n",
    "\n",
    "# Load the report complete data set\n",
    "report_database = f\"{os.environ.get('HOME')}/EnergyManager-Resources2/ReportDatabase.sqlite\"\n",
    "report_complete_data_set = DataSet(ProfilerSession.load_all(report_database))\n",
    "\n",
    "# Load the individual data sets per application type and configuration\n",
    "report_matrix_multiply_data_set = DataSet([\n",
    "    profiler_session for profiler_session in report_complete_data_set.data\n",
    "    if profiler_session.label == \"Matrix Multiply\" and profiler_session.profile[\"matrixAWidth\"] == 3 * 512 and profiler_session.profile[\"iterations\"] == 3\n",
    "])\n",
    "report_long_matrix_multiply_data_set = DataSet([\n",
    "    profiler_session for profiler_session in report_complete_data_set.data\n",
    "    if profiler_session.label == \"Matrix Multiply\" and profiler_session.profile[\"matrixAWidth\"] == 3 * 512 and profiler_session.profile[\"iterations\"] == 15\n",
    "])\n",
    "\n",
    "report_kmeans_data_set = DataSet([\n",
    "    profiler_session for profiler_session in report_complete_data_set.data\n",
    "    if profiler_session.label == \"KMeans\" and profiler_session.profile[\"file\"].endswith(\"kdd_cup\") and profiler_session.profile[\"iterations\"] == 15\n",
    "])\n",
    "report_long_kmeans_data_set = DataSet([\n",
    "    profiler_session for profiler_session in report_complete_data_set.data\n",
    "    if profiler_session.label == \"KMeans\" and profiler_session.profile[\"file\"].endswith(\"kdd_cup\") and profiler_session.profile[\"iterations\"] == 75\n",
    "])\n",
    "\n",
    "report_fixed_frequency_jacobi_data_set = DataSet([\n",
    "    profiler_session for profiler_session in report_complete_data_set.data\n",
    "    if profiler_session.label == \"Fixed Frequency Jacobi\" and profiler_session.profile[\"domainHeight\"] == 1000 and profiler_session.profile[\"domainWidth\"] == 1000 and profiler_session.profile[\"topologyHeight\"] == 1 and profiler_session.profile[\"topologyWidth\"] == 1 and profiler_session.profile[\"iterations\"] == 15\n",
    "])\n",
    "report_jacobi_data_set = DataSet([\n",
    "    profiler_session for profiler_session in report_complete_data_set.data\n",
    "    if profiler_session.label == \"Jacobi\" and profiler_session.profile[\"domainHeight\"] == 1000 and profiler_session.profile[\"domainWidth\"] == 1000 and profiler_session.profile[\"topologyHeight\"] == 1 and profiler_session.profile[\"topologyWidth\"] == 1 and profiler_session.profile[\"iterations\"] == 15\n",
    "])\n",
    "report_long_jacobi_data_set = DataSet([\n",
    "    profiler_session for profiler_session in report_complete_data_set.data\n",
    "    if profiler_session.label == \"Jacobi\" and profiler_session.profile[\"domainHeight\"] == 1000 and profiler_session.profile[\"domainWidth\"] == 1000 and profiler_session.profile[\"topologyHeight\"] == 1 and profiler_session.profile[\"topologyWidth\"] == 1 and profiler_session.profile[\"iterations\"] == 75\n",
    "])\n",
    "\n",
    "# Convert the data sets to separate sets of data and associated control data\n",
    "report_matrix_multiply_controlled_data_set = ControlledDataSet(\n",
    "    data_set=None,\n",
    "    control_data_set=report_matrix_multiply_data_set\n",
    ")\n",
    "report_long_matrix_multiply_controlled_data_set = ControlledDataSet(\n",
    "    data_set=None,\n",
    "    control_data_set=report_long_matrix_multiply_data_set\n",
    ")\n",
    "\n",
    "report_kmeans_controlled_data_set = ControlledDataSet(\n",
    "    data_set=None,\n",
    "    control_data_set=report_kmeans_data_set\n",
    ")\n",
    "report_long_kmeans_controlled_data_set = ControlledDataSet(\n",
    "    data_set=None,\n",
    "    control_data_set=report_long_kmeans_data_set\n",
    ")\n",
    "\n",
    "report_jacobi_controlled_data_set = ControlledDataSet(\n",
    "    data_set=report_fixed_frequency_jacobi_data_set,\n",
    "    control_data_set=report_jacobi_data_set\n",
    ")\n",
    "report_long_jacobi_controlled_data_set = ControlledDataSet(\n",
    "    data_set=None,\n",
    "    control_data_set=report_long_jacobi_data_set\n",
    ")"
   ]
  },
  {
   "cell_type": "markdown",
   "metadata": {},
   "source": [
    "<br>\n",
    "<br>\n",
    "<br>\n",
    "<br>\n",
    "<br>\n",
    "<br>\n",
    "<br>\n",
    "<br>\n",
    "<br>\n",
    "<br>\n",
    "<br>\n",
    "<br>\n",
    "<br>\n",
    "<br>\n",
    "<br>\n",
    "<br>\n",
    "<br>\n",
    "<br>\n",
    "<br>\n",
    "<br>"
   ]
  },
  {
   "cell_type": "markdown",
   "metadata": {},
   "source": [
    "# Report"
   ]
  },
  {
   "cell_type": "markdown",
   "metadata": {},
   "source": [
    "## Matrix Multiply"
   ]
  },
  {
   "cell_type": "code",
   "execution_count": 2,
   "metadata": {},
   "outputs": [
    {
     "data": {
      "application/vnd.jupyter.widget-view+json": {
       "model_id": "8a78477ed05e4bc1b69585fa0e2ad667",
       "version_major": 2,
       "version_minor": 0
      },
      "text/plain": [
       "Canvas(toolbar=Toolbar(toolitems=[('Home', 'Reset original view', 'home', 'home'), ('Back', 'Back to previous …"
      ]
     },
     "metadata": {},
     "output_type": "display_data"
    },
    {
     "data": {
      "application/vnd.jupyter.widget-view+json": {
       "model_id": "f9d42df31b8e4eafbab4c5fadc3e99ae",
       "version_major": 2,
       "version_minor": 0
      },
      "text/plain": [
       "Canvas(toolbar=Toolbar(toolitems=[('Home', 'Reset original view', 'home', 'home'), ('Back', 'Back to previous …"
      ]
     },
     "metadata": {},
     "output_type": "display_data"
    },
    {
     "data": {
      "application/vnd.jupyter.widget-view+json": {
       "model_id": "06f54154f96d49799b4c14a207a2e940",
       "version_major": 2,
       "version_minor": 0
      },
      "text/plain": [
       "Canvas(toolbar=Toolbar(toolitems=[('Home', 'Reset original view', 'home', 'home'), ('Back', 'Back to previous …"
      ]
     },
     "metadata": {},
     "output_type": "display_data"
    },
    {
     "data": {
      "application/vnd.jupyter.widget-view+json": {
       "model_id": "0ababdd2a47d4620804fd8fd4d9afbf4",
       "version_major": 2,
       "version_minor": 0
      },
      "text/plain": [
       "Canvas(toolbar=Toolbar(toolitems=[('Home', 'Reset original view', 'home', 'home'), ('Back', 'Back to previous …"
      ]
     },
     "metadata": {},
     "output_type": "display_data"
    },
    {
     "data": {
      "application/vnd.jupyter.widget-view+json": {
       "model_id": "7fa9f61c402546c3b7d301e48a6cd54f",
       "version_major": 2,
       "version_minor": 0
      },
      "text/plain": [
       "Canvas(toolbar=Toolbar(toolitems=[('Home', 'Reset original view', 'home', 'home'), ('Back', 'Back to previous …"
      ]
     },
     "metadata": {},
     "output_type": "display_data"
    },
    {
     "data": {
      "application/vnd.jupyter.widget-view+json": {
       "model_id": "424f9bbe751247fa8e831e2a2a8f1ccf",
       "version_major": 2,
       "version_minor": 0
      },
      "text/plain": [
       "Canvas(toolbar=Toolbar(toolitems=[('Home', 'Reset original view', 'home', 'home'), ('Back', 'Back to previous …"
      ]
     },
     "metadata": {},
     "output_type": "display_data"
    },
    {
     "data": {
      "application/vnd.jupyter.widget-view+json": {
       "model_id": "32562d07a86f4b768457d08f5bfc6f0a",
       "version_major": 2,
       "version_minor": 0
      },
      "text/plain": [
       "Canvas(toolbar=Toolbar(toolitems=[('Home', 'Reset original view', 'home', 'home'), ('Back', 'Back to previous …"
      ]
     },
     "metadata": {},
     "output_type": "display_data"
    },
    {
     "data": {
      "application/vnd.jupyter.widget-view+json": {
       "model_id": "29a5f4dd032a44e7ab278615b0cdfca6",
       "version_major": 2,
       "version_minor": 0
      },
      "text/plain": [
       "Canvas(toolbar=Toolbar(toolitems=[('Home', 'Reset original view', 'home', 'home'), ('Back', 'Back to previous …"
      ]
     },
     "metadata": {},
     "output_type": "display_data"
    },
    {
     "data": {
      "application/vnd.jupyter.widget-view+json": {
       "model_id": "9a7b8fed57b84cc6a5003b1beb26bc4b",
       "version_major": 2,
       "version_minor": 0
      },
      "text/plain": [
       "Canvas(toolbar=Toolbar(toolitems=[('Home', 'Reset original view', 'home', 'home'), ('Back', 'Back to previous …"
      ]
     },
     "metadata": {},
     "output_type": "display_data"
    },
    {
     "data": {
      "application/vnd.jupyter.widget-view+json": {
       "model_id": "eddbce9bd0ed468daa272d5aae729b6f",
       "version_major": 2,
       "version_minor": 0
      },
      "text/plain": [
       "Canvas(toolbar=Toolbar(toolitems=[('Home', 'Reset original view', 'home', 'home'), ('Back', 'Back to previous …"
      ]
     },
     "metadata": {},
     "output_type": "display_data"
    },
    {
     "data": {
      "application/vnd.jupyter.widget-view+json": {
       "model_id": "f778e0f3089543548634f5f5674e8983",
       "version_major": 2,
       "version_minor": 0
      },
      "text/plain": [
       "Canvas(toolbar=Toolbar(toolitems=[('Home', 'Reset original view', 'home', 'home'), ('Back', 'Back to previous …"
      ]
     },
     "metadata": {},
     "output_type": "display_data"
    },
    {
     "data": {
      "application/vnd.jupyter.widget-view+json": {
       "model_id": "07c920bf58e74dc98dd708dd50a63606",
       "version_major": 2,
       "version_minor": 0
      },
      "text/plain": [
       "Canvas(toolbar=Toolbar(toolitems=[('Home', 'Reset original view', 'home', 'home'), ('Back', 'Back to previous …"
      ]
     },
     "metadata": {},
     "output_type": "display_data"
    }
   ],
   "source": [
    "#matrix_multiply_data_set.energy_consumption_vs_runtime_scatter_plot(normalized=False).plot()\n",
    "#new_matrix_multiply_data_set.energy_consumption_vs_runtime_scatter_plot(normalized=False).plot()\n",
    "#new_long_matrix_multiply_data_set.energy_consumption_vs_runtime_scatter_plot(normalized=False).plot()\n",
    "\n",
    "profiler_session = [profiler_session for profiler_session in report_complete_data_set.data if profiler_session.id == 154][0]\n",
    "\n",
    "# Utilization rate\n",
    "utilization_rate_timeseries_plot = profiler_session.utilization_rate_timeseries_plot\n",
    "utilization_rate_timeseries_plot.plot_series = { key: utilization_rate_timeseries_plot.plot_series[key] for key in utilization_rate_timeseries_plot.plot_series if key == \"CPU 0\" or key.startswith(\"CPU 0 Core 0\") or key.startswith(\"GPU 0\") or key.startswith(\"Node\")}\n",
    "utilization_rate_timeseries_plot.plot()\n",
    "\n",
    "# Clock rate\n",
    "clock_rate_timeseries_plot = profiler_session.clock_rate_timeseries_plot(plot_limits=False, use_ear=False)\n",
    "clock_rate_timeseries_plot.plot_series = { key: clock_rate_timeseries_plot.plot_series[key] for key in clock_rate_timeseries_plot.plot_series if key == \"CPU 0\" or key.startswith(\"CPU 0 Core 0\") or key.startswith(\"GPU 0 Memory\") or key.startswith(\"GPU 0 Core\") or key.startswith(\"Node\")}\n",
    "clock_rate_timeseries_plot.plot()\n",
    "\n",
    "# Power consumption\n",
    "power_consumption_timeseries_plot = profiler_session.power_consumption_timeseries_plot(plot_limits=False, use_ear=False)\n",
    "power_consumption_timeseries_plot.plot_series = { key: power_consumption_timeseries_plot.plot_series[key] for key in power_consumption_timeseries_plot.plot_series if key == \"CPU 0\" or key.startswith(\"CPU 0 Core 0\") or key.startswith(\"GPU 0\") or key.startswith(\"Node\")}\n",
    "power_consumption_timeseries_plot.plot()\n",
    "\n",
    "# Energy consumption\n",
    "energy_consumption_plot_j = profiler_session.energy_consumption_timeseries_plot(use_ear=False)\n",
    "energy_consumption_plot_j.plot_series = { key: energy_consumption_plot_j.plot_series[key] for key in energy_consumption_plot_j.plot_series if key == \"CPU 0\" or key.startswith(\"CPU 0 Core 0\") or key.startswith(\"GPU 0\") or key.startswith(\"Node\")}\n",
    "energy_consumption_plot_j.plot()\n",
    "\n",
    "# Events\n",
    "profiler_session.events_event_plot()[:1][0].plot()\n",
    "\n",
    "# States\n",
    "profiler_session.states_event_plot().plot()\n",
    "\n",
    "# Other details\n",
    "fixed_frequency_matrix_multiply_data_set.energy_consumption_vs_runtime_scatter_plot(normalized=False).plot()\n",
    "matrix_multiply_controlled_data_set.data_set.core_clock_rate_vs_gpu_clock_rate_vs_runtime_scatter_plot(use_ear=False).plot()\n",
    "fixed_frequency_matrix_multiply_data_set.core_clock_rate_vs_gpu_clock_rate_vs_energy_consumption_scatter_plot().plot()\n",
    "matrix_multiply_controlled_data_set.core_clock_rate_vs_gpu_clock_rate_vs_runtime_increase_scatter_plot(control_comparison=ControlComparison.MEAN).plot()\n",
    "matrix_multiply_controlled_data_set.core_clock_rate_vs_gpu_clock_rate_vs_energy_savings_scatter_plot(control_comparison=ControlComparison.MEAN).plot()\n",
    "matrix_multiply_controlled_data_set.core_clock_rate_vs_gpu_clock_rate_vs_energy_harvests_scatter_plot(control_comparison=ControlComparison.MEAN).plot()"
   ]
  },
  {
   "cell_type": "markdown",
   "metadata": {},
   "source": [
    "### MinMax Policy"
   ]
  },
  {
   "cell_type": "code",
   "execution_count": 3,
   "metadata": {},
   "outputs": [
    {
     "data": {
      "application/vnd.jupyter.widget-view+json": {
       "model_id": "4e0a89e39a8a44c59e664358776b8fe2",
       "version_major": 2,
       "version_minor": 0
      },
      "text/plain": [
       "Canvas(toolbar=Toolbar(toolitems=[('Home', 'Reset original view', 'home', 'home'), ('Back', 'Back to previous …"
      ]
     },
     "metadata": {},
     "output_type": "display_data"
    },
    {
     "data": {
      "application/vnd.jupyter.widget-view+json": {
       "model_id": "5a5e15e9753144f28037702f4c4c36ab",
       "version_major": 2,
       "version_minor": 0
      },
      "text/plain": [
       "Canvas(toolbar=Toolbar(toolitems=[('Home', 'Reset original view', 'home', 'home'), ('Back', 'Back to previous …"
      ]
     },
     "metadata": {},
     "output_type": "display_data"
    },
    {
     "data": {
      "application/vnd.jupyter.widget-view+json": {
       "model_id": "5851c90769f048cda62b579f44f2bd98",
       "version_major": 2,
       "version_minor": 0
      },
      "text/plain": [
       "Canvas(toolbar=Toolbar(toolitems=[('Home', 'Reset original view', 'home', 'home'), ('Back', 'Back to previous …"
      ]
     },
     "metadata": {},
     "output_type": "display_data"
    },
    {
     "data": {
      "application/vnd.jupyter.widget-view+json": {
       "model_id": "fde14362c9824654b73295888c9517fa",
       "version_major": 2,
       "version_minor": 0
      },
      "text/plain": [
       "Canvas(toolbar=Toolbar(toolitems=[('Home', 'Reset original view', 'home', 'home'), ('Back', 'Back to previous …"
      ]
     },
     "metadata": {},
     "output_type": "display_data"
    }
   ],
   "source": [
    "#profiler_session = [profiler_session for profiler_session in new_complete_data_set.data if profiler_session.id == 161][0]\n",
    "profiler_session = [profiler_session for profiler_session in report_complete_data_set.data if profiler_session.id == 155][0]\n",
    "\n",
    "# # Utilization rate\n",
    "# utilization_rate_timeseries_plot = profiler_session.utilization_rate_timeseries_plot\n",
    "# utilization_rate_timeseries_plot.plot_series = { key: utilization_rate_timeseries_plot.plot_series[key] for key in utilization_rate_timeseries_plot.plot_series if key == \"CPU 0\" or key.startswith(\"CPU 0 Core 0\") or key.startswith(\"GPU 0\") or key.startswith(\"Node\")}\n",
    "# utilization_rate_timeseries_plot.plot()\n",
    "\n",
    "# # Events\n",
    "# profiler_session.events_event_plot()[:1][0].plot()\n",
    "\n",
    "# States\n",
    "profiler_session.states_event_plot().plot()\n",
    "\n",
    "# Clock rate\n",
    "clock_rate_timeseries_plot = profiler_session.clock_rate_timeseries_plot(plot_limits=True, use_ear=False)\n",
    "clock_rate_timeseries_plot.plot_series = { key: clock_rate_timeseries_plot.plot_series[key] for key in clock_rate_timeseries_plot.plot_series if key == \"CPU 0\" or key.startswith(\"CPU 0 Core 0\") or key.startswith(\"GPU 0\") or key.startswith(\"Node\")}\n",
    "clock_rate_timeseries_plot.plot()\n",
    "\n",
    "# Power consumption\n",
    "power_consumption_timeseries_plot = profiler_session.power_consumption_timeseries_plot(plot_limits=False, use_ear=False)\n",
    "power_consumption_timeseries_plot.plot_series = { key: power_consumption_timeseries_plot.plot_series[key] for key in power_consumption_timeseries_plot.plot_series if key == \"CPU 0\" or key.startswith(\"CPU 0 Core 0\") or key.startswith(\"GPU 0\") or key.startswith(\"Node\")}\n",
    "power_consumption_timeseries_plot.plot()\n",
    "\n",
    "# Energy consumption\n",
    "energy_consumption_plot_j = profiler_session.energy_consumption_timeseries_plot(use_ear=False)\n",
    "energy_consumption_plot_j.plot_series = { key: energy_consumption_plot_j.plot_series[key] for key in energy_consumption_plot_j.plot_series if key == \"CPU 0\" or key.startswith(\"CPU 0 Core 0\") or key.startswith(\"GPU 0\") or key.startswith(\"Node\")}\n",
    "energy_consumption_plot_j.plot()"
   ]
  },
  {
   "cell_type": "markdown",
   "metadata": {},
   "source": [
    "### System Policy"
   ]
  },
  {
   "cell_type": "code",
   "execution_count": 4,
   "metadata": {},
   "outputs": [
    {
     "data": {
      "application/vnd.jupyter.widget-view+json": {
       "model_id": "3b168f85ec994159a62e384820c33c65",
       "version_major": 2,
       "version_minor": 0
      },
      "text/plain": [
       "Canvas(toolbar=Toolbar(toolitems=[('Home', 'Reset original view', 'home', 'home'), ('Back', 'Back to previous …"
      ]
     },
     "metadata": {},
     "output_type": "display_data"
    },
    {
     "data": {
      "application/vnd.jupyter.widget-view+json": {
       "model_id": "f84b0a9e97ab48d9a49ff0b043fbeddc",
       "version_major": 2,
       "version_minor": 0
      },
      "text/plain": [
       "Canvas(toolbar=Toolbar(toolitems=[('Home', 'Reset original view', 'home', 'home'), ('Back', 'Back to previous …"
      ]
     },
     "metadata": {},
     "output_type": "display_data"
    },
    {
     "data": {
      "application/vnd.jupyter.widget-view+json": {
       "model_id": "930a026bc0024a7ca3cf0a7e8fca135a",
       "version_major": 2,
       "version_minor": 0
      },
      "text/plain": [
       "Canvas(toolbar=Toolbar(toolitems=[('Home', 'Reset original view', 'home', 'home'), ('Back', 'Back to previous …"
      ]
     },
     "metadata": {},
     "output_type": "display_data"
    },
    {
     "data": {
      "application/vnd.jupyter.widget-view+json": {
       "model_id": "c714b5991ec24efe854e5c8a577cee6a",
       "version_major": 2,
       "version_minor": 0
      },
      "text/plain": [
       "Canvas(toolbar=Toolbar(toolitems=[('Home', 'Reset original view', 'home', 'home'), ('Back', 'Back to previous …"
      ]
     },
     "metadata": {},
     "output_type": "display_data"
    }
   ],
   "source": [
    "profiler_session = [profiler_session for profiler_session in report_complete_data_set.data if profiler_session.id == 156][0]\n",
    "\n",
    "# # Utilization rate\n",
    "# utilization_rate_timeseries_plot = profiler_session.utilization_rate_timeseries_plot\n",
    "# utilization_rate_timeseries_plot.plot_series = { key: utilization_rate_timeseries_plot.plot_series[key] for key in utilization_rate_timeseries_plot.plot_series if key == \"CPU 0\" or key.startswith(\"CPU 0 Core 0\") or key.startswith(\"GPU 0\") or key.startswith(\"Node\")}\n",
    "# utilization_rate_timeseries_plot.plot()\n",
    "\n",
    "# # Events\n",
    "# profiler_session.events_event_plot()[:1][0].plot()\n",
    "\n",
    "# States\n",
    "profiler_session.states_event_plot().plot()\n",
    "\n",
    "# Clock rate\n",
    "clock_rate_timeseries_plot = profiler_session.clock_rate_timeseries_plot(plot_limits=True, use_ear=False)\n",
    "clock_rate_timeseries_plot.plot_series = { key: clock_rate_timeseries_plot.plot_series[key] for key in clock_rate_timeseries_plot.plot_series if key == \"CPU 0\" or key.startswith(\"CPU 0 Core 0\") or key.startswith(\"GPU 0\") or key.startswith(\"Node\")}\n",
    "clock_rate_timeseries_plot.plot()\n",
    "\n",
    "# Power consumption\n",
    "power_consumption_timeseries_plot = profiler_session.power_consumption_timeseries_plot(plot_limits=False, use_ear=False)\n",
    "power_consumption_timeseries_plot.plot_series = { key: power_consumption_timeseries_plot.plot_series[key] for key in power_consumption_timeseries_plot.plot_series if key == \"CPU 0\" or key.startswith(\"CPU 0 Core 0\") or key.startswith(\"GPU 0\") or key.startswith(\"Node\")}\n",
    "power_consumption_timeseries_plot.plot()\n",
    "\n",
    "# Energy consumption\n",
    "energy_consumption_plot_j = profiler_session.energy_consumption_timeseries_plot(use_ear=False)\n",
    "energy_consumption_plot_j.plot_series = { key: energy_consumption_plot_j.plot_series[key] for key in energy_consumption_plot_j.plot_series if key == \"CPU 0\" or key.startswith(\"CPU 0 Core 0\") or key.startswith(\"GPU 0\") or key.startswith(\"Node\")}\n",
    "energy_consumption_plot_j.plot()"
   ]
  },
  {
   "cell_type": "markdown",
   "metadata": {},
   "source": [
    "## K-Means"
   ]
  },
  {
   "cell_type": "code",
   "execution_count": 5,
   "metadata": {},
   "outputs": [
    {
     "name": "stderr",
     "output_type": "stream",
     "text": [
      "/data/Cloud/Nextcloud/Development/Projects/EnergyManager/Visualizer/Source/Visualizer/Plotting/FigurePlot.py:14: RuntimeWarning: More than 20 figures have been opened. Figures created through the pyplot interface (`matplotlib.pyplot.figure`) are retained until explicitly closed and may consume too much memory. (To control this warning, see the rcParam `figure.max_open_warning`).\n",
      "  self.figure = pyplot.figure(figsize=(15, 5))\n"
     ]
    },
    {
     "data": {
      "application/vnd.jupyter.widget-view+json": {
       "model_id": "d1f62f5bb2aa4f66bae65e0d8c0feb42",
       "version_major": 2,
       "version_minor": 0
      },
      "text/plain": [
       "Canvas(toolbar=Toolbar(toolitems=[('Home', 'Reset original view', 'home', 'home'), ('Back', 'Back to previous …"
      ]
     },
     "metadata": {},
     "output_type": "display_data"
    },
    {
     "data": {
      "application/vnd.jupyter.widget-view+json": {
       "model_id": "988032953f6746a0b2eb57b5bce9a86a",
       "version_major": 2,
       "version_minor": 0
      },
      "text/plain": [
       "Canvas(toolbar=Toolbar(toolitems=[('Home', 'Reset original view', 'home', 'home'), ('Back', 'Back to previous …"
      ]
     },
     "metadata": {},
     "output_type": "display_data"
    },
    {
     "data": {
      "application/vnd.jupyter.widget-view+json": {
       "model_id": "eaaaafee5236454d889d4e1be20cd986",
       "version_major": 2,
       "version_minor": 0
      },
      "text/plain": [
       "Canvas(toolbar=Toolbar(toolitems=[('Home', 'Reset original view', 'home', 'home'), ('Back', 'Back to previous …"
      ]
     },
     "metadata": {},
     "output_type": "display_data"
    },
    {
     "data": {
      "application/vnd.jupyter.widget-view+json": {
       "model_id": "95bc8678699247f79e27ec34667ad0c5",
       "version_major": 2,
       "version_minor": 0
      },
      "text/plain": [
       "Canvas(toolbar=Toolbar(toolitems=[('Home', 'Reset original view', 'home', 'home'), ('Back', 'Back to previous …"
      ]
     },
     "metadata": {},
     "output_type": "display_data"
    },
    {
     "data": {
      "application/vnd.jupyter.widget-view+json": {
       "model_id": "c7e8070c275645c08f746ba3fed5c978",
       "version_major": 2,
       "version_minor": 0
      },
      "text/plain": [
       "Canvas(toolbar=Toolbar(toolitems=[('Home', 'Reset original view', 'home', 'home'), ('Back', 'Back to previous …"
      ]
     },
     "metadata": {},
     "output_type": "display_data"
    },
    {
     "data": {
      "application/vnd.jupyter.widget-view+json": {
       "model_id": "2a5e80da4f1947ccaa7746b83888bb98",
       "version_major": 2,
       "version_minor": 0
      },
      "text/plain": [
       "Canvas(toolbar=Toolbar(toolitems=[('Home', 'Reset original view', 'home', 'home'), ('Back', 'Back to previous …"
      ]
     },
     "metadata": {},
     "output_type": "display_data"
    },
    {
     "data": {
      "application/vnd.jupyter.widget-view+json": {
       "model_id": "a786f6cb57874e99bcf70729a3cbb59b",
       "version_major": 2,
       "version_minor": 0
      },
      "text/plain": [
       "Canvas(toolbar=Toolbar(toolitems=[('Home', 'Reset original view', 'home', 'home'), ('Back', 'Back to previous …"
      ]
     },
     "metadata": {},
     "output_type": "display_data"
    },
    {
     "data": {
      "application/vnd.jupyter.widget-view+json": {
       "model_id": "67cee01a909e4b86a984e62186beb86e",
       "version_major": 2,
       "version_minor": 0
      },
      "text/plain": [
       "Canvas(toolbar=Toolbar(toolitems=[('Home', 'Reset original view', 'home', 'home'), ('Back', 'Back to previous …"
      ]
     },
     "metadata": {},
     "output_type": "display_data"
    },
    {
     "data": {
      "application/vnd.jupyter.widget-view+json": {
       "model_id": "0c58da5f0b864c53a607bdb18b6bf396",
       "version_major": 2,
       "version_minor": 0
      },
      "text/plain": [
       "Canvas(toolbar=Toolbar(toolitems=[('Home', 'Reset original view', 'home', 'home'), ('Back', 'Back to previous …"
      ]
     },
     "metadata": {},
     "output_type": "display_data"
    },
    {
     "data": {
      "application/vnd.jupyter.widget-view+json": {
       "model_id": "4a51aaa592534ae893ac8b6ab001756c",
       "version_major": 2,
       "version_minor": 0
      },
      "text/plain": [
       "Canvas(toolbar=Toolbar(toolitems=[('Home', 'Reset original view', 'home', 'home'), ('Back', 'Back to previous …"
      ]
     },
     "metadata": {},
     "output_type": "display_data"
    },
    {
     "data": {
      "application/vnd.jupyter.widget-view+json": {
       "model_id": "fd6a7052cb9b4cdd88eeb50f2831bdc6",
       "version_major": 2,
       "version_minor": 0
      },
      "text/plain": [
       "Canvas(toolbar=Toolbar(toolitems=[('Home', 'Reset original view', 'home', 'home'), ('Back', 'Back to previous …"
      ]
     },
     "metadata": {},
     "output_type": "display_data"
    },
    {
     "data": {
      "application/vnd.jupyter.widget-view+json": {
       "model_id": "30e3d0ace8624f159260867dd484ba57",
       "version_major": 2,
       "version_minor": 0
      },
      "text/plain": [
       "Canvas(toolbar=Toolbar(toolitems=[('Home', 'Reset original view', 'home', 'home'), ('Back', 'Back to previous …"
      ]
     },
     "metadata": {},
     "output_type": "display_data"
    }
   ],
   "source": [
    "#kmeans_data_set.energy_consumption_vs_runtime_scatter_plot(normalized=False).plot()\n",
    "#new_kmeans_data_set.energy_consumption_vs_runtime_scatter_plot(normalized=False).plot()\n",
    "#new_long_kmeans_data_set.energy_consumption_vs_runtime_scatter_plot(normalized=False).plot()\n",
    "\n",
    "profiler_session = [profiler_session for profiler_session in report_complete_data_set.data if profiler_session.id == 161][0]\n",
    "\n",
    "# Utilization rate\n",
    "utilization_rate_timeseries_plot = profiler_session.utilization_rate_timeseries_plot\n",
    "utilization_rate_timeseries_plot.plot_series = { key: utilization_rate_timeseries_plot.plot_series[key] for key in utilization_rate_timeseries_plot.plot_series if key == \"CPU 0\" or key.startswith(\"CPU 0 Core 0\") or key.startswith(\"GPU 0\") or key.startswith(\"Node\")}\n",
    "utilization_rate_timeseries_plot.plot()\n",
    "\n",
    "# Clock rate\n",
    "clock_rate_timeseries_plot = profiler_session.clock_rate_timeseries_plot(plot_limits=False, use_ear=False)\n",
    "clock_rate_timeseries_plot.plot_series = { key: clock_rate_timeseries_plot.plot_series[key] for key in clock_rate_timeseries_plot.plot_series if key == \"CPU 0\" or key.startswith(\"CPU 0 Core 0\") or key.startswith(\"GPU 0 Memory\") or key.startswith(\"GPU 0 Core\") or key.startswith(\"Node\")}\n",
    "clock_rate_timeseries_plot.plot()\n",
    "\n",
    "# Power consumption\n",
    "power_consumption_timeseries_plot = profiler_session.power_consumption_timeseries_plot(plot_limits=False, use_ear=False)\n",
    "power_consumption_timeseries_plot.plot_series = { key: power_consumption_timeseries_plot.plot_series[key] for key in power_consumption_timeseries_plot.plot_series if key == \"CPU 0\" or key.startswith(\"CPU 0 Core 0\") or key.startswith(\"GPU 0\") or key.startswith(\"Node\")}\n",
    "power_consumption_timeseries_plot.plot()\n",
    "\n",
    "# Energy consumption\n",
    "energy_consumption_plot_j = profiler_session.energy_consumption_timeseries_plot(use_ear=False)\n",
    "energy_consumption_plot_j.plot_series = { key: energy_consumption_plot_j.plot_series[key] for key in energy_consumption_plot_j.plot_series if key == \"CPU 0\" or key.startswith(\"CPU 0 Core 0\") or key.startswith(\"GPU 0\") or key.startswith(\"Node\")}\n",
    "energy_consumption_plot_j.plot()\n",
    "\n",
    "# Events\n",
    "profiler_session.events_event_plot()[:1][0].plot()\n",
    "\n",
    "# States\n",
    "profiler_session.states_event_plot().plot()\n",
    "\n",
    "# Other details\n",
    "fixed_frequency_kmeans_data_set.energy_consumption_vs_runtime_scatter_plot(normalized=False).plot()\n",
    "kmeans_controlled_data_set.data_set.core_clock_rate_vs_gpu_clock_rate_vs_runtime_scatter_plot(use_ear=False).plot()\n",
    "fixed_frequency_kmeans_data_set.core_clock_rate_vs_gpu_clock_rate_vs_energy_consumption_scatter_plot().plot()\n",
    "kmeans_controlled_data_set.core_clock_rate_vs_gpu_clock_rate_vs_runtime_increase_scatter_plot(control_comparison=ControlComparison.MEAN).plot()\n",
    "kmeans_controlled_data_set.core_clock_rate_vs_gpu_clock_rate_vs_energy_savings_scatter_plot(control_comparison=ControlComparison.MEAN).plot()\n",
    "kmeans_controlled_data_set.core_clock_rate_vs_gpu_clock_rate_vs_energy_harvests_scatter_plot(control_comparison=ControlComparison.MEAN).plot()"
   ]
  },
  {
   "cell_type": "markdown",
   "metadata": {},
   "source": [
    "### MinMax Policy"
   ]
  },
  {
   "cell_type": "code",
   "execution_count": 6,
   "metadata": {},
   "outputs": [
    {
     "data": {
      "application/vnd.jupyter.widget-view+json": {
       "model_id": "1b68fb72d5d246b980108be552c3a4da",
       "version_major": 2,
       "version_minor": 0
      },
      "text/plain": [
       "Canvas(toolbar=Toolbar(toolitems=[('Home', 'Reset original view', 'home', 'home'), ('Back', 'Back to previous …"
      ]
     },
     "metadata": {},
     "output_type": "display_data"
    },
    {
     "data": {
      "application/vnd.jupyter.widget-view+json": {
       "model_id": "8354ecdec4ac425e9d21d2c94c70def2",
       "version_major": 2,
       "version_minor": 0
      },
      "text/plain": [
       "Canvas(toolbar=Toolbar(toolitems=[('Home', 'Reset original view', 'home', 'home'), ('Back', 'Back to previous …"
      ]
     },
     "metadata": {},
     "output_type": "display_data"
    },
    {
     "data": {
      "application/vnd.jupyter.widget-view+json": {
       "model_id": "b6058d332691420f89b5f04ed69462a5",
       "version_major": 2,
       "version_minor": 0
      },
      "text/plain": [
       "Canvas(toolbar=Toolbar(toolitems=[('Home', 'Reset original view', 'home', 'home'), ('Back', 'Back to previous …"
      ]
     },
     "metadata": {},
     "output_type": "display_data"
    },
    {
     "data": {
      "application/vnd.jupyter.widget-view+json": {
       "model_id": "823cdfa4de3d47cc93523d11d761fd3b",
       "version_major": 2,
       "version_minor": 0
      },
      "text/plain": [
       "Canvas(toolbar=Toolbar(toolitems=[('Home', 'Reset original view', 'home', 'home'), ('Back', 'Back to previous …"
      ]
     },
     "metadata": {},
     "output_type": "display_data"
    }
   ],
   "source": [
    "#profiler_session = [profiler_session for profiler_session in new_complete_data_set.data if profiler_session.id == 162][0]\n",
    "profiler_session = [profiler_session for profiler_session in report_complete_data_set.data if profiler_session.id == 159][0]\n",
    "\n",
    "# # Utilization rate\n",
    "# utilization_rate_timeseries_plot = profiler_session.utilization_rate_timeseries_plot\n",
    "# utilization_rate_timeseries_plot.plot_series = { key: utilization_rate_timeseries_plot.plot_series[key] for key in utilization_rate_timeseries_plot.plot_series if key == \"CPU 0\" or key.startswith(\"CPU 0 Core 0\") or key.startswith(\"GPU 0\") or key.startswith(\"Node\")}\n",
    "# utilization_rate_timeseries_plot.plot()\n",
    "\n",
    "# # Events\n",
    "# profiler_session.events_event_plot()[:1][0].plot()\n",
    "\n",
    "# States\n",
    "profiler_session.states_event_plot().plot()\n",
    "\n",
    "# Clock rate\n",
    "clock_rate_timeseries_plot = profiler_session.clock_rate_timeseries_plot(plot_limits=True, use_ear=False)\n",
    "clock_rate_timeseries_plot.plot_series = { key: clock_rate_timeseries_plot.plot_series[key] for key in clock_rate_timeseries_plot.plot_series if key == \"CPU 0\" or key.startswith(\"CPU 0 Core 0\") or key.startswith(\"GPU 0\") or key.startswith(\"Node\")}\n",
    "clock_rate_timeseries_plot.plot()\n",
    "\n",
    "# Power consumption\n",
    "power_consumption_timeseries_plot = profiler_session.power_consumption_timeseries_plot(plot_limits=False, use_ear=False)\n",
    "power_consumption_timeseries_plot.plot_series = { key: power_consumption_timeseries_plot.plot_series[key] for key in power_consumption_timeseries_plot.plot_series if key == \"CPU 0\" or key.startswith(\"CPU 0 Core 0\") or key.startswith(\"GPU 0\") or key.startswith(\"Node\")}\n",
    "power_consumption_timeseries_plot.plot()\n",
    "\n",
    "# Energy consumption\n",
    "energy_consumption_plot_j = profiler_session.energy_consumption_timeseries_plot(use_ear=False)\n",
    "energy_consumption_plot_j.plot_series = { key: energy_consumption_plot_j.plot_series[key] for key in energy_consumption_plot_j.plot_series if key == \"CPU 0\" or key.startswith(\"CPU 0 Core 0\") or key.startswith(\"GPU 0\") or key.startswith(\"Node\")}\n",
    "energy_consumption_plot_j.plot()"
   ]
  },
  {
   "cell_type": "markdown",
   "metadata": {},
   "source": [
    "### System Policy"
   ]
  },
  {
   "cell_type": "code",
   "execution_count": 7,
   "metadata": {},
   "outputs": [
    {
     "data": {
      "application/vnd.jupyter.widget-view+json": {
       "model_id": "f5f19bd1c4164b989d318038f1f6f4e4",
       "version_major": 2,
       "version_minor": 0
      },
      "text/plain": [
       "Canvas(toolbar=Toolbar(toolitems=[('Home', 'Reset original view', 'home', 'home'), ('Back', 'Back to previous …"
      ]
     },
     "metadata": {},
     "output_type": "display_data"
    },
    {
     "data": {
      "application/vnd.jupyter.widget-view+json": {
       "model_id": "119a0b964ed643098aeee35379f0495a",
       "version_major": 2,
       "version_minor": 0
      },
      "text/plain": [
       "Canvas(toolbar=Toolbar(toolitems=[('Home', 'Reset original view', 'home', 'home'), ('Back', 'Back to previous …"
      ]
     },
     "metadata": {},
     "output_type": "display_data"
    },
    {
     "data": {
      "application/vnd.jupyter.widget-view+json": {
       "model_id": "504b62886b0f400e8dc7b63ebb89bb88",
       "version_major": 2,
       "version_minor": 0
      },
      "text/plain": [
       "Canvas(toolbar=Toolbar(toolitems=[('Home', 'Reset original view', 'home', 'home'), ('Back', 'Back to previous …"
      ]
     },
     "metadata": {},
     "output_type": "display_data"
    },
    {
     "data": {
      "application/vnd.jupyter.widget-view+json": {
       "model_id": "91415cfc5ba64dc0ae2fa754969555e2",
       "version_major": 2,
       "version_minor": 0
      },
      "text/plain": [
       "Canvas(toolbar=Toolbar(toolitems=[('Home', 'Reset original view', 'home', 'home'), ('Back', 'Back to previous …"
      ]
     },
     "metadata": {},
     "output_type": "display_data"
    }
   ],
   "source": [
    "profiler_session = [profiler_session for profiler_session in report_complete_data_set.data if profiler_session.id == 160][0]\n",
    "\n",
    "# # Utilization rate\n",
    "# utilization_rate_timeseries_plot = profiler_session.utilization_rate_timeseries_plot\n",
    "# utilization_rate_timeseries_plot.plot_series = { key: utilization_rate_timeseries_plot.plot_series[key] for key in utilization_rate_timeseries_plot.plot_series if key == \"CPU 0\" or key.startswith(\"CPU 0 Core 0\") or key.startswith(\"GPU 0\") or key.startswith(\"Node\")}\n",
    "# utilization_rate_timeseries_plot.plot()\n",
    "\n",
    "# # Events\n",
    "# profiler_session.events_event_plot()[:1][0].plot()\n",
    "\n",
    "# States\n",
    "profiler_session.states_event_plot().plot()\n",
    "\n",
    "# Clock rate\n",
    "clock_rate_timeseries_plot = profiler_session.clock_rate_timeseries_plot(plot_limits=True, use_ear=False)\n",
    "clock_rate_timeseries_plot.plot_series = { key: clock_rate_timeseries_plot.plot_series[key] for key in clock_rate_timeseries_plot.plot_series if key == \"CPU 0\" or key.startswith(\"CPU 0 Core 0\") or key.startswith(\"GPU 0\") or key.startswith(\"Node\")}\n",
    "clock_rate_timeseries_plot.plot()\n",
    "\n",
    "# Power consumption\n",
    "power_consumption_timeseries_plot = profiler_session.power_consumption_timeseries_plot(plot_limits=False, use_ear=False)\n",
    "power_consumption_timeseries_plot.plot_series = { key: power_consumption_timeseries_plot.plot_series[key] for key in power_consumption_timeseries_plot.plot_series if key == \"CPU 0\" or key.startswith(\"CPU 0 Core 0\") or key.startswith(\"GPU 0\") or key.startswith(\"Node\")}\n",
    "power_consumption_timeseries_plot.plot()\n",
    "\n",
    "# Energy consumption\n",
    "energy_consumption_plot_j = profiler_session.energy_consumption_timeseries_plot(use_ear=False)\n",
    "energy_consumption_plot_j.plot_series = { key: energy_consumption_plot_j.plot_series[key] for key in energy_consumption_plot_j.plot_series if key == \"CPU 0\" or key.startswith(\"CPU 0 Core 0\") or key.startswith(\"GPU 0\") or key.startswith(\"Node\")}\n",
    "energy_consumption_plot_j.plot()"
   ]
  },
  {
   "cell_type": "markdown",
   "metadata": {},
   "source": [
    "## Jacobi"
   ]
  },
  {
   "cell_type": "code",
   "execution_count": 8,
   "metadata": {},
   "outputs": [
    {
     "data": {
      "application/vnd.jupyter.widget-view+json": {
       "model_id": "d1ff4aa1a4ab47809b7d052d4953e8c2",
       "version_major": 2,
       "version_minor": 0
      },
      "text/plain": [
       "Canvas(toolbar=Toolbar(toolitems=[('Home', 'Reset original view', 'home', 'home'), ('Back', 'Back to previous …"
      ]
     },
     "metadata": {},
     "output_type": "display_data"
    },
    {
     "data": {
      "application/vnd.jupyter.widget-view+json": {
       "model_id": "a4cc7002a30147cfa0491e99e7edb73a",
       "version_major": 2,
       "version_minor": 0
      },
      "text/plain": [
       "Canvas(toolbar=Toolbar(toolitems=[('Home', 'Reset original view', 'home', 'home'), ('Back', 'Back to previous …"
      ]
     },
     "metadata": {},
     "output_type": "display_data"
    },
    {
     "data": {
      "application/vnd.jupyter.widget-view+json": {
       "model_id": "892e54866a7a4629a9dd73eb8ef0e11d",
       "version_major": 2,
       "version_minor": 0
      },
      "text/plain": [
       "Canvas(toolbar=Toolbar(toolitems=[('Home', 'Reset original view', 'home', 'home'), ('Back', 'Back to previous …"
      ]
     },
     "metadata": {},
     "output_type": "display_data"
    },
    {
     "data": {
      "application/vnd.jupyter.widget-view+json": {
       "model_id": "dede8e3065a5456a8f6fcbc19572c5bd",
       "version_major": 2,
       "version_minor": 0
      },
      "text/plain": [
       "Canvas(toolbar=Toolbar(toolitems=[('Home', 'Reset original view', 'home', 'home'), ('Back', 'Back to previous …"
      ]
     },
     "metadata": {},
     "output_type": "display_data"
    },
    {
     "data": {
      "application/vnd.jupyter.widget-view+json": {
       "model_id": "2c1a964c2a2347cdb3f7649e3876411b",
       "version_major": 2,
       "version_minor": 0
      },
      "text/plain": [
       "Canvas(toolbar=Toolbar(toolitems=[('Home', 'Reset original view', 'home', 'home'), ('Back', 'Back to previous …"
      ]
     },
     "metadata": {},
     "output_type": "display_data"
    },
    {
     "data": {
      "application/vnd.jupyter.widget-view+json": {
       "model_id": "3b5f2dd9a5e9479ba04b64779d99f6f5",
       "version_major": 2,
       "version_minor": 0
      },
      "text/plain": [
       "Canvas(toolbar=Toolbar(toolitems=[('Home', 'Reset original view', 'home', 'home'), ('Back', 'Back to previous …"
      ]
     },
     "metadata": {},
     "output_type": "display_data"
    },
    {
     "data": {
      "application/vnd.jupyter.widget-view+json": {
       "model_id": "a73f71c2817c4981b41a0b5240e29423",
       "version_major": 2,
       "version_minor": 0
      },
      "text/plain": [
       "Canvas(toolbar=Toolbar(toolitems=[('Home', 'Reset original view', 'home', 'home'), ('Back', 'Back to previous …"
      ]
     },
     "metadata": {},
     "output_type": "display_data"
    },
    {
     "data": {
      "application/vnd.jupyter.widget-view+json": {
       "model_id": "55568037ad1247fe81ee4fd3c6a6f2fa",
       "version_major": 2,
       "version_minor": 0
      },
      "text/plain": [
       "Canvas(toolbar=Toolbar(toolitems=[('Home', 'Reset original view', 'home', 'home'), ('Back', 'Back to previous …"
      ]
     },
     "metadata": {},
     "output_type": "display_data"
    },
    {
     "data": {
      "application/vnd.jupyter.widget-view+json": {
       "model_id": "0d1cfff4954147569dbd1a670102b1e4",
       "version_major": 2,
       "version_minor": 0
      },
      "text/plain": [
       "Canvas(toolbar=Toolbar(toolitems=[('Home', 'Reset original view', 'home', 'home'), ('Back', 'Back to previous …"
      ]
     },
     "metadata": {},
     "output_type": "display_data"
    },
    {
     "data": {
      "application/vnd.jupyter.widget-view+json": {
       "model_id": "e86c526055cf4a97916867970a25f544",
       "version_major": 2,
       "version_minor": 0
      },
      "text/plain": [
       "Canvas(toolbar=Toolbar(toolitems=[('Home', 'Reset original view', 'home', 'home'), ('Back', 'Back to previous …"
      ]
     },
     "metadata": {},
     "output_type": "display_data"
    },
    {
     "data": {
      "application/vnd.jupyter.widget-view+json": {
       "model_id": "ee7ca592b33e4eb48f3dbbdcacb98abd",
       "version_major": 2,
       "version_minor": 0
      },
      "text/plain": [
       "Canvas(toolbar=Toolbar(toolitems=[('Home', 'Reset original view', 'home', 'home'), ('Back', 'Back to previous …"
      ]
     },
     "metadata": {},
     "output_type": "display_data"
    },
    {
     "data": {
      "application/vnd.jupyter.widget-view+json": {
       "model_id": "b6ba5cf38bbb4e07b98606f0b92c1f8c",
       "version_major": 2,
       "version_minor": 0
      },
      "text/plain": [
       "Canvas(toolbar=Toolbar(toolitems=[('Home', 'Reset original view', 'home', 'home'), ('Back', 'Back to previous …"
      ]
     },
     "metadata": {},
     "output_type": "display_data"
    }
   ],
   "source": [
    "#kmeans_data_set.energy_consumption_vs_runtime_scatter_plot(normalized=False).plot()\n",
    "#new_kmeans_data_set.energy_consumption_vs_runtime_scatter_plot(normalized=False).plot()\n",
    "#new_long_kmeans_data_set.energy_consumption_vs_runtime_scatter_plot(normalized=False).plot()\n",
    "\n",
    "profiler_session = [profiler_session for profiler_session in report_complete_data_set.data if profiler_session.id == 150][0]\n",
    "\n",
    "# Utilization rate\n",
    "utilization_rate_timeseries_plot = profiler_session.utilization_rate_timeseries_plot\n",
    "utilization_rate_timeseries_plot.plot_series = { key: utilization_rate_timeseries_plot.plot_series[key] for key in utilization_rate_timeseries_plot.plot_series if key == \"CPU 0\" or key.startswith(\"CPU 0 Core 0\") or key.startswith(\"GPU 0\") or key.startswith(\"Node\")}\n",
    "utilization_rate_timeseries_plot.plot()\n",
    "\n",
    "# Clock rate\n",
    "clock_rate_timeseries_plot = profiler_session.clock_rate_timeseries_plot(plot_limits=False, use_ear=False)\n",
    "clock_rate_timeseries_plot.plot_series = { key: clock_rate_timeseries_plot.plot_series[key] for key in clock_rate_timeseries_plot.plot_series if key == \"CPU 0\" or key.startswith(\"CPU 0 Core 0\") or key.startswith(\"GPU 0 Memory\") or key.startswith(\"GPU 0 Core\") or key.startswith(\"Node\")}\n",
    "clock_rate_timeseries_plot.plot()\n",
    "\n",
    "# Power consumption\n",
    "power_consumption_timeseries_plot = profiler_session.power_consumption_timeseries_plot(plot_limits=False, use_ear=False)\n",
    "power_consumption_timeseries_plot.plot_series = { key: power_consumption_timeseries_plot.plot_series[key] for key in power_consumption_timeseries_plot.plot_series if key == \"CPU 0\" or key.startswith(\"CPU 0 Core 0\") or key.startswith(\"GPU 0\") or key.startswith(\"Node\")}\n",
    "power_consumption_timeseries_plot.plot()\n",
    "\n",
    "# Energy consumption\n",
    "energy_consumption_plot_j = profiler_session.energy_consumption_timeseries_plot(use_ear=False)\n",
    "energy_consumption_plot_j.plot_series = { key: energy_consumption_plot_j.plot_series[key] for key in energy_consumption_plot_j.plot_series if key == \"CPU 0\" or key.startswith(\"CPU 0 Core 0\") or key.startswith(\"GPU 0\") or key.startswith(\"Node\")}\n",
    "energy_consumption_plot_j.plot()\n",
    "\n",
    "# Events\n",
    "profiler_session.events_event_plot()[:1][0].plot()\n",
    "\n",
    "# States\n",
    "profiler_session.states_event_plot().plot()\n",
    "\n",
    "# Other details\n",
    "report_fixed_frequency_jacobi_data_set.energy_consumption_vs_runtime_scatter_plot(normalized=False).plot()\n",
    "report_jacobi_controlled_data_set.data_set.core_clock_rate_vs_gpu_clock_rate_vs_runtime_scatter_plot(use_ear=False).plot()\n",
    "report_fixed_frequency_jacobi_data_set.core_clock_rate_vs_gpu_clock_rate_vs_energy_consumption_scatter_plot().plot()\n",
    "report_jacobi_controlled_data_set.core_clock_rate_vs_gpu_clock_rate_vs_runtime_increase_scatter_plot(control_comparison=ControlComparison.MEAN).plot()\n",
    "report_jacobi_controlled_data_set.core_clock_rate_vs_gpu_clock_rate_vs_energy_savings_scatter_plot(control_comparison=ControlComparison.MEAN).plot()\n",
    "report_jacobi_controlled_data_set.core_clock_rate_vs_gpu_clock_rate_vs_energy_harvests_scatter_plot(control_comparison=ControlComparison.MEAN).plot()"
   ]
  },
  {
   "cell_type": "markdown",
   "metadata": {},
   "source": [
    "### MinMax Policy"
   ]
  },
  {
   "cell_type": "code",
   "execution_count": 9,
   "metadata": {},
   "outputs": [
    {
     "data": {
      "application/vnd.jupyter.widget-view+json": {
       "model_id": "7eadd1a91da04ad7a01cca72ff355e39",
       "version_major": 2,
       "version_minor": 0
      },
      "text/plain": [
       "Canvas(toolbar=Toolbar(toolitems=[('Home', 'Reset original view', 'home', 'home'), ('Back', 'Back to previous …"
      ]
     },
     "metadata": {},
     "output_type": "display_data"
    },
    {
     "data": {
      "application/vnd.jupyter.widget-view+json": {
       "model_id": "5530a8a4489f4a7ba573e8c4b34447ba",
       "version_major": 2,
       "version_minor": 0
      },
      "text/plain": [
       "Canvas(toolbar=Toolbar(toolitems=[('Home', 'Reset original view', 'home', 'home'), ('Back', 'Back to previous …"
      ]
     },
     "metadata": {},
     "output_type": "display_data"
    },
    {
     "data": {
      "application/vnd.jupyter.widget-view+json": {
       "model_id": "51d331dfda58448cad0cb44856b57776",
       "version_major": 2,
       "version_minor": 0
      },
      "text/plain": [
       "Canvas(toolbar=Toolbar(toolitems=[('Home', 'Reset original view', 'home', 'home'), ('Back', 'Back to previous …"
      ]
     },
     "metadata": {},
     "output_type": "display_data"
    },
    {
     "data": {
      "application/vnd.jupyter.widget-view+json": {
       "model_id": "de203749b4a248b3acfc79aedc5977f7",
       "version_major": 2,
       "version_minor": 0
      },
      "text/plain": [
       "Canvas(toolbar=Toolbar(toolitems=[('Home', 'Reset original view', 'home', 'home'), ('Back', 'Back to previous …"
      ]
     },
     "metadata": {},
     "output_type": "display_data"
    }
   ],
   "source": [
    "profiler_session = [profiler_session for profiler_session in report_complete_data_set.data if profiler_session.id == 151][0]\n",
    "\n",
    "# # Utilization rate\n",
    "# utilization_rate_timeseries_plot = profiler_session.utilization_rate_timeseries_plot\n",
    "# utilization_rate_timeseries_plot.plot_series = { key: utilization_rate_timeseries_plot.plot_series[key] for key in utilization_rate_timeseries_plot.plot_series if key == \"CPU 0\" or key.startswith(\"CPU 0 Core 0\") or key.startswith(\"GPU 0\") or key.startswith(\"Node\")}\n",
    "# utilization_rate_timeseries_plot.plot()\n",
    "\n",
    "# # Events\n",
    "# profiler_session.events_event_plot()[:1][0].plot()\n",
    "\n",
    "# States\n",
    "profiler_session.states_event_plot().plot()\n",
    "\n",
    "# Clock rate\n",
    "clock_rate_timeseries_plot = profiler_session.clock_rate_timeseries_plot(plot_limits=True, use_ear=False)\n",
    "clock_rate_timeseries_plot.plot_series = { key: clock_rate_timeseries_plot.plot_series[key] for key in clock_rate_timeseries_plot.plot_series if key == \"CPU 0\" or key.startswith(\"CPU 0 Core 0\") or key.startswith(\"GPU 0\") or key.startswith(\"Node\")}\n",
    "clock_rate_timeseries_plot.plot()\n",
    "\n",
    "# Power consumption\n",
    "power_consumption_timeseries_plot = profiler_session.power_consumption_timeseries_plot(plot_limits=False, use_ear=False)\n",
    "power_consumption_timeseries_plot.plot_series = { key: power_consumption_timeseries_plot.plot_series[key] for key in power_consumption_timeseries_plot.plot_series if key == \"CPU 0\" or key.startswith(\"CPU 0 Core 0\") or key.startswith(\"GPU 0\") or key.startswith(\"Node\")}\n",
    "power_consumption_timeseries_plot.plot()\n",
    "\n",
    "# Energy consumption\n",
    "energy_consumption_plot_j = profiler_session.energy_consumption_timeseries_plot(use_ear=False)\n",
    "energy_consumption_plot_j.plot_series = { key: energy_consumption_plot_j.plot_series[key] for key in energy_consumption_plot_j.plot_series if key == \"CPU 0\" or key.startswith(\"CPU 0 Core 0\") or key.startswith(\"GPU 0\") or key.startswith(\"Node\")}\n",
    "energy_consumption_plot_j.plot()"
   ]
  },
  {
   "cell_type": "markdown",
   "metadata": {},
   "source": [
    "### System Policy"
   ]
  },
  {
   "cell_type": "code",
   "execution_count": 10,
   "metadata": {},
   "outputs": [
    {
     "data": {
      "application/vnd.jupyter.widget-view+json": {
       "model_id": "192765e753504869a673306e2b2035fe",
       "version_major": 2,
       "version_minor": 0
      },
      "text/plain": [
       "Canvas(toolbar=Toolbar(toolitems=[('Home', 'Reset original view', 'home', 'home'), ('Back', 'Back to previous …"
      ]
     },
     "metadata": {},
     "output_type": "display_data"
    },
    {
     "data": {
      "application/vnd.jupyter.widget-view+json": {
       "model_id": "c858368566d84e9189bf3f932777cc78",
       "version_major": 2,
       "version_minor": 0
      },
      "text/plain": [
       "Canvas(toolbar=Toolbar(toolitems=[('Home', 'Reset original view', 'home', 'home'), ('Back', 'Back to previous …"
      ]
     },
     "metadata": {},
     "output_type": "display_data"
    },
    {
     "data": {
      "application/vnd.jupyter.widget-view+json": {
       "model_id": "8f568b9a077748679552cf7d2816b515",
       "version_major": 2,
       "version_minor": 0
      },
      "text/plain": [
       "Canvas(toolbar=Toolbar(toolitems=[('Home', 'Reset original view', 'home', 'home'), ('Back', 'Back to previous …"
      ]
     },
     "metadata": {},
     "output_type": "display_data"
    },
    {
     "data": {
      "application/vnd.jupyter.widget-view+json": {
       "model_id": "9d5eb422d2e1427b96380e8791959321",
       "version_major": 2,
       "version_minor": 0
      },
      "text/plain": [
       "Canvas(toolbar=Toolbar(toolitems=[('Home', 'Reset original view', 'home', 'home'), ('Back', 'Back to previous …"
      ]
     },
     "metadata": {},
     "output_type": "display_data"
    }
   ],
   "source": [
    "profiler_session = [profiler_session for profiler_session in report_complete_data_set.data if profiler_session.id == 152][0]\n",
    "\n",
    "# # Utilization rate\n",
    "# utilization_rate_timeseries_plot = profiler_session.utilization_rate_timeseries_plot\n",
    "# utilization_rate_timeseries_plot.plot_series = { key: utilization_rate_timeseries_plot.plot_series[key] for key in utilization_rate_timeseries_plot.plot_series if key == \"CPU 0\" or key.startswith(\"CPU 0 Core 0\") or key.startswith(\"GPU 0\") or key.startswith(\"Node\")}\n",
    "# utilization_rate_timeseries_plot.plot()\n",
    "\n",
    "# # Events\n",
    "# profiler_session.events_event_plot()[:1][0].plot()\n",
    "\n",
    "# States\n",
    "profiler_session.states_event_plot().plot()\n",
    "\n",
    "# Clock rate\n",
    "clock_rate_timeseries_plot = profiler_session.clock_rate_timeseries_plot(plot_limits=True, use_ear=False)\n",
    "clock_rate_timeseries_plot.plot_series = { key: clock_rate_timeseries_plot.plot_series[key] for key in clock_rate_timeseries_plot.plot_series if key == \"CPU 0\" or key.startswith(\"CPU 0 Core 0\") or key.startswith(\"GPU 0\") or key.startswith(\"Node\")}\n",
    "clock_rate_timeseries_plot.plot()\n",
    "\n",
    "# Power consumption\n",
    "power_consumption_timeseries_plot = profiler_session.power_consumption_timeseries_plot(plot_limits=False, use_ear=False)\n",
    "power_consumption_timeseries_plot.plot_series = { key: power_consumption_timeseries_plot.plot_series[key] for key in power_consumption_timeseries_plot.plot_series if key == \"CPU 0\" or key.startswith(\"CPU 0 Core 0\") or key.startswith(\"GPU 0\") or key.startswith(\"Node\")}\n",
    "power_consumption_timeseries_plot.plot()\n",
    "\n",
    "# Energy consumption\n",
    "energy_consumption_plot_j = profiler_session.energy_consumption_timeseries_plot(use_ear=False)\n",
    "energy_consumption_plot_j.plot_series = { key: energy_consumption_plot_j.plot_series[key] for key in energy_consumption_plot_j.plot_series if key == \"CPU 0\" or key.startswith(\"CPU 0 Core 0\") or key.startswith(\"GPU 0\") or key.startswith(\"Node\")}\n",
    "energy_consumption_plot_j.plot()"
   ]
  }
 ],
 "metadata": {
  "kernelspec": {
   "display_name": "Python 3",
   "language": "python",
   "name": "python3"
  },
  "language_info": {
   "codemirror_mode": {
    "name": "ipython",
    "version": 3
   },
   "file_extension": ".py",
   "mimetype": "text/x-python",
   "name": "python",
   "nbconvert_exporter": "python",
   "pygments_lexer": "ipython3",
   "version": "3.8.6"
  },
  "toc-autonumbering": true,
  "widgets": {
   "application/vnd.jupyter.widget-state+json": {
    "state": {},
    "version_major": 2,
    "version_minor": 0
   }
  }
 },
 "nbformat": 4,
 "nbformat_minor": 4
}
