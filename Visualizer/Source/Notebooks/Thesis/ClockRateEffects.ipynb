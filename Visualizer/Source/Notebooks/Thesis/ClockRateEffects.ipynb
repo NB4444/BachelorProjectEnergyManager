{
 "cells": [
  {
   "cell_type": "code",
   "execution_count": 1,
   "metadata": {
    "pycharm": {
     "name": "#%%\n"
    }
   },
   "outputs": [],
   "source": [
    "%matplotlib widget\n",
    "\n",
    "import pathlib\n",
    "import pprint\n",
    "\n",
    "from Visualizer.ControlledDataSet import ControlComparison, ControlledDataSet\n",
    "from Visualizer.DataSet import DataSet\n",
    "from Visualizer.Monitoring.Persistence.ProfilerSession import ProfilerSession"
   ]
  },
  {
   "cell_type": "markdown",
   "metadata": {},
   "source": [
    "# Configuration\n",
    "\n",
    "Configure the project settings below.\n",
    "The default configuration should be okay.\n",
    "Make sure that you have run at least one test with the EnergyManager and have generated a database, otherwise this notebook will fail."
   ]
  },
  {
   "cell_type": "code",
   "execution_count": 2,
   "metadata": {
    "pycharm": {
     "name": "#%%\n"
    }
   },
   "outputs": [],
   "source": [
    "source_directory = pathlib.Path().parent.absolute()\n",
    "project_directory = f\"{source_directory}/..\"\n",
    "#database = f\"{project_directory}/../Resources/Data/MatrixMultiply.sqlite\"\n",
    "#database = f\"{project_directory}/../Resources/Data/KMeans.sqlite\"\n",
    "database = f\"{project_directory}/../Resources/Data/OldDatabase.sqlite\"\n",
    "\n",
    "# Load all profiler sessions\n",
    "complete_data_set = DataSet(ProfilerSession.load_all(database))"
   ]
  },
  {
   "cell_type": "markdown",
   "metadata": {},
   "source": [
    "## Select\n",
    "\n",
    "Define the selection criteria for the profiler sessions you wish to analyze below.\n",
    "Here you should also select the profiler sessions to use as control data for some of the graphs."
   ]
  },
  {
   "cell_type": "code",
   "execution_count": 3,
   "metadata": {
    "pycharm": {
     "name": "#%%\n"
    }
   },
   "outputs": [],
   "source": [
    "# controlled_data_set = ControlledDataSet(\n",
    "#     data_set=complete_data_set,\n",
    "#     control_data_set=complete_data_set\n",
    "# )\n",
    "\n",
    "# controlled_data_set = ControlledDataSet(\n",
    "#     data_set=DataSet([profiler_session for profiler_session in complete_data_set.data if profiler_session.label == \"Fixed Frequency BFS\" and \"file\" in profiler_session.profile and profiler_session.profile[\"file\"].endswith(\"graph1MW_6.txt\") and \"iterations\" not in profiler_session.profile]),\n",
    "#     control_data_set=DataSet([profiler_session for profiler_session in complete_data_set.data if profiler_session.label == \"BFS\" and \"file\" in profiler_session.profile and profiler_session.profile[\"file\"].endswith(\"graph1MW_6.txt\") and \"iterations\" not in profiler_session.profile])\n",
    "# )\n",
    "\n",
    "controlled_data_set = ControlledDataSet(\n",
    "    data_set=DataSet([profiler_session for profiler_session in complete_data_set.data if profiler_session.label == \"Fixed Frequency KMeans\" and \"file\" in profiler_session.profile and profiler_session.profile[\"file\"].endswith(\"kdd_cup\") and \"iterations\" not in profiler_session.profile]),\n",
    "    control_data_set=DataSet([profiler_session for profiler_session in complete_data_set.data if profiler_session.label == \"KMeans\" and \"file\" in profiler_session.profile and profiler_session.profile[\"file\"].endswith(\"kdd_cup\") and \"iterations\" not in profiler_session.profile])\n",
    ")\n",
    "# controlled_data_set = ControlledDataSet(\n",
    "#     data_set=DataSet([profiler_session for profiler_session in complete_data_set.data if profiler_session.label == \"Fixed Frequency KMeans\" and profiler_session.profile[\"file\"].endswith(\"kdd_cup\") and profiler_session.profile[\"iterations\"] == 3]),\n",
    "#     control_data_set=DataSet([profiler_session for profiler_session in complete_data_set.data if profiler_session.label == \"KMeans\" and profiler_session.profile[\"file\"].endswith(\"kdd_cup\") and profiler_session.profile[\"iterations\"] == 3])\n",
    "# )\n",
    "\n",
    "# controlled_data_set = ControlledDataSet(\n",
    "#     data_set=DataSet([profiler_session for profiler_session in complete_data_set.data if profiler_session.label == \"Fixed Frequency Matrix Multiply\" and profiler_session.profile[\"matrixAWidth\"] == 4096 and \"iterations\" not in profiler_session.profile]),\n",
    "#     control_data_set=DataSet([profiler_session for profiler_session in complete_data_set.data if profiler_session.label == \"Matrix Multiply\" and profiler_session.profile[\"matrixAWidth\"] == 40960 and \"iterations\" not in profiler_session.profile])\n",
    "# )\n",
    "\n",
    "# Matrix Multiply\n",
    "# controlled_data_set = ControlledDataSet(\n",
    "#     data_set=DataSet([profiler_session for profiler_session in complete_data_set.data if profiler_session.label == \"Fixed Frequency Matrix Multiply\" and profiler_session.profile[\"matrixAWidth\"] == 3 * 512 and profiler_session.profile[\"iterations\"] == 3]),\n",
    "#     control_data_set=DataSet([profiler_session for profiler_session in complete_data_set.data if profiler_session.label == \"Matrix Multiply\" and profiler_session.profile[\"matrixAWidth\"] == 3 * 512 and profiler_session.profile[\"iterations\"] == 3])\n",
    "# )\n",
    "# controlled_data_set = ControlledDataSet(\n",
    "#     data_set=DataSet([profiler_session for profiler_session in complete_data_set.data if profiler_session.label == \"Matrix Multiply (EnergyMonitor)\" and profiler_session.profile[\"matrixAWidth\"] == 3 * 512 and profiler_session.profile[\"iterations\"] == 15]),\n",
    "#     control_data_set=DataSet([profiler_session for profiler_session in complete_data_set.data if profiler_session.label == \"Matrix Multiply\" and profiler_session.profile[\"matrixAWidth\"] == 3 * 512 and profiler_session.profile[\"iterations\"] == 15])\n",
    "# )\n",
    "\n",
    "# controlled_data_set = ControlledDataSet(\n",
    "#     data_set=DataSet([profiler_session for profiler_session in complete_data_set.data if profiler_session.label == \"Fixed Frequency Matrix Multiply Without Synchronization\" and profiler_session.profile[\"matrixAWidth\"] == 32 * 30 and \"iterations\" in profiler_session.profile and profiler_session.profile[\"iterations\"] == 3]),\n",
    "#     control_data_set=DataSet([profiler_session for profiler_session in complete_data_set.data if profiler_session.label == \"Matrix Multiply Without Synchronization\" and profiler_session.profile[\"matrixAWidth\"] == 32 * 30 and \"iterations\" in profiler_session.profile and profiler_session.profile[\"iterations\"] == 3])\n",
    "# )\n",
    "# controlled_data_set = ControlledDataSet(\n",
    "#     data_set=DataSet([profiler_session for profiler_session in complete_data_set.data if profiler_session.label == \"Fixed Frequency Matrix Multiply With Sleep Instead of Explicit Synchronization\" and profiler_session.profile[\"matrixAWidth\"] == 32 * 30 and \"iterations\" in profiler_session.profile and profiler_session.profile[\"iterations\"] == 3]),\n",
    "#     control_data_set=DataSet([profiler_session for profiler_session in complete_data_set.data if profiler_session.label == \"Matrix Multiply With Sleep Instead of Explicit Synchronization\" and profiler_session.profile[\"matrixAWidth\"] == 32 * 30 and \"iterations\" in profiler_session.profile and profiler_session.profile[\"iterations\"] == 3])\n",
    "# )\n",
    "# controlled_data_set = ControlledDataSet(\n",
    "#     data_set=DataSet([profiler_session for profiler_session in complete_data_set.data if profiler_session.label == \"Fixed Frequency Matrix Multiply With Sleep\" and profiler_session.profile[\"matrixAWidth\"] == 32 * 30 and \"iterations\" in profiler_session.profile and profiler_session.profile[\"iterations\"] == 3]),\n",
    "#     control_data_set=DataSet([profiler_session for profiler_session in complete_data_set.data if profiler_session.label == \"Matrix Multiply With Sleep\" and profiler_session.profile[\"matrixAWidth\"] == 32 * 30 and \"iterations\" in profiler_session.profile and profiler_session.profile[\"iterations\"] == 3])\n",
    "# )"
   ]
  },
  {
   "cell_type": "markdown",
   "metadata": {},
   "source": [
    "# FLOPs vs Energy Consumption\n",
    "\n",
    "This graph shows the amount of energy consumed compared to the most energy efficient run plotted against the amount of FLOPs compared to the fastest run."
   ]
  },
  {
   "cell_type": "markdown",
   "metadata": {},
   "source": [
    "## Data"
   ]
  },
  {
   "cell_type": "code",
   "execution_count": 4,
   "metadata": {
    "collapsed": false,
    "jupyter": {
     "outputs_hidden": false
    },
    "pycharm": {
     "name": "#%%\n"
    }
   },
   "outputs": [],
   "source": [
    "# controlled_data_set.data_set.energy_consumption_vs_flops_scatter_plot(normalized=False).plot()"
   ]
  },
  {
   "cell_type": "markdown",
   "metadata": {},
   "source": [
    "## Control Data"
   ]
  },
  {
   "cell_type": "code",
   "execution_count": 5,
   "metadata": {},
   "outputs": [],
   "source": [
    "# controlled_data_set.control_data_set.energy_consumption_vs_flops_scatter_plot(normalized=False).plot()"
   ]
  },
  {
   "cell_type": "markdown",
   "metadata": {},
   "source": [
    "# Runtime vs. Energy Consumption\n",
    "\n",
    "This graph shows the amount of energy consumed compared to the most energy efficient run plotted against the runtime compared to the fastest run."
   ]
  },
  {
   "cell_type": "markdown",
   "metadata": {},
   "source": [
    "## Data"
   ]
  },
  {
   "cell_type": "code",
   "execution_count": 6,
   "metadata": {
    "collapsed": false,
    "jupyter": {
     "outputs_hidden": false
    },
    "pycharm": {
     "name": "#%%\n"
    }
   },
   "outputs": [
    {
     "data": {
      "application/vnd.jupyter.widget-view+json": {
       "model_id": "0d9986d78df044ceac4db65a1eb0145a",
       "version_major": 2,
       "version_minor": 0
      },
      "text/plain": [
       "Canvas(toolbar=Toolbar(toolitems=[('Home', 'Reset original view', 'home', 'home'), ('Back', 'Back to previous …"
      ]
     },
     "metadata": {},
     "output_type": "display_data"
    }
   ],
   "source": [
    "controlled_data_set.data_set.energy_consumption_vs_runtime_scatter_plot(normalized=False, use_ear=False).plot()"
   ]
  },
  {
   "cell_type": "markdown",
   "metadata": {},
   "source": [
    "## Control Data"
   ]
  },
  {
   "cell_type": "code",
   "execution_count": 7,
   "metadata": {},
   "outputs": [
    {
     "data": {
      "application/vnd.jupyter.widget-view+json": {
       "model_id": "a442df95da904e52addb5fe04532abb2",
       "version_major": 2,
       "version_minor": 0
      },
      "text/plain": [
       "Canvas(toolbar=Toolbar(toolitems=[('Home', 'Reset original view', 'home', 'home'), ('Back', 'Back to previous …"
      ]
     },
     "metadata": {},
     "output_type": "display_data"
    }
   ],
   "source": [
    "controlled_data_set.control_data_set.energy_consumption_vs_runtime_scatter_plot(normalized=False, use_ear=False).plot()"
   ]
  },
  {
   "cell_type": "markdown",
   "metadata": {},
   "source": [
    "# FLOPs Decrease vs. Energy Savings\n",
    "\n",
    "This graph shows the amount of energy saved compared to the run with the most FLOPs plotted against the decrease in FLOPs compared to the run with the most FLOPs."
   ]
  },
  {
   "cell_type": "code",
   "execution_count": 8,
   "metadata": {
    "collapsed": false,
    "jupyter": {
     "outputs_hidden": false
    },
    "pycharm": {
     "name": "#%%\n"
    }
   },
   "outputs": [],
   "source": [
    "# controlled_data_set.energy_savings_vs_flops_decrease_plot(normalized=False, control_comparison=ControlComparison.MEAN).plot()"
   ]
  },
  {
   "cell_type": "markdown",
   "metadata": {},
   "source": [
    "# Runtime Increase vs. Energy Savings\n",
    "\n",
    "This graph shows the amount of energy saved compared to the fastest run plotted against the increase in runtime compared to the fastest run."
   ]
  },
  {
   "cell_type": "code",
   "execution_count": 9,
   "metadata": {
    "pycharm": {
     "name": "#%%\n"
    }
   },
   "outputs": [
    {
     "data": {
      "application/vnd.jupyter.widget-view+json": {
       "model_id": "b101d2ecf55e4a0293ef4735df0b977d",
       "version_major": 2,
       "version_minor": 0
      },
      "text/plain": [
       "Canvas(toolbar=Toolbar(toolitems=[('Home', 'Reset original view', 'home', 'home'), ('Back', 'Back to previous …"
      ]
     },
     "metadata": {},
     "output_type": "display_data"
    }
   ],
   "source": [
    "controlled_data_set.energy_savings_vs_runtime_increase_plot(normalized=False, control_comparison=ControlComparison.MEAN, use_ear=False).plot()"
   ]
  },
  {
   "cell_type": "markdown",
   "metadata": {},
   "source": [
    "# Energy Consumption\n",
    "\n",
    "This graph plots the effect on the energy consumption."
   ]
  },
  {
   "cell_type": "code",
   "execution_count": 10,
   "metadata": {
    "collapsed": false,
    "jupyter": {
     "outputs_hidden": false
    },
    "pycharm": {
     "name": "#%%\n"
    }
   },
   "outputs": [],
   "source": [
    "#controlled_data_set.data_set.core_clock_rate_vs_gpu_clock_rate_vs_energy_consumption_scatter_plot(use_ear=False).plot()"
   ]
  },
  {
   "cell_type": "markdown",
   "metadata": {},
   "source": [
    "# Energy Savings\n",
    "\n",
    "This graph plots the effect on the energy savings compared to the control data."
   ]
  },
  {
   "cell_type": "code",
   "execution_count": 11,
   "metadata": {
    "collapsed": false,
    "jupyter": {
     "outputs_hidden": false
    },
    "pycharm": {
     "name": "#%%\n"
    }
   },
   "outputs": [],
   "source": [
    "#controlled_data_set.core_clock_rate_vs_gpu_clock_rate_vs_energy_savings_scatter_plot(control_comparison=ControlComparison.MEAN, use_ear=False).plot()"
   ]
  },
  {
   "cell_type": "markdown",
   "metadata": {},
   "source": [
    "# Runtime\n",
    "\n",
    "This graph plots the effect on the runtime."
   ]
  },
  {
   "cell_type": "code",
   "execution_count": 12,
   "metadata": {
    "collapsed": false,
    "jupyter": {
     "outputs_hidden": false
    },
    "pycharm": {
     "name": "#%%\n"
    }
   },
   "outputs": [],
   "source": [
    "#controlled_data_set.data_set.core_clock_rate_vs_gpu_clock_rate_vs_runtime_scatter_plot(use_ear=False).plot()"
   ]
  },
  {
   "cell_type": "markdown",
   "metadata": {},
   "source": [
    "# Runtime Increase\n",
    "\n",
    "This graph plots the effect on the energy savings compared to the control data."
   ]
  },
  {
   "cell_type": "code",
   "execution_count": 13,
   "metadata": {
    "collapsed": false,
    "jupyter": {
     "outputs_hidden": false
    },
    "pycharm": {
     "name": "#%%\n"
    }
   },
   "outputs": [
    {
     "data": {
      "application/vnd.jupyter.widget-view+json": {
       "model_id": "d11933e59d5d4ace882c824fef1487ec",
       "version_major": 2,
       "version_minor": 0
      },
      "text/plain": [
       "Canvas(toolbar=Toolbar(toolitems=[('Home', 'Reset original view', 'home', 'home'), ('Back', 'Back to previous …"
      ]
     },
     "metadata": {},
     "output_type": "display_data"
    }
   ],
   "source": [
    "controlled_data_set.core_clock_rate_vs_gpu_clock_rate_vs_runtime_increase_scatter_plot(control_comparison=ControlComparison.MEAN, use_ear=False).plot()"
   ]
  }
 ],
 "metadata": {
  "kernelspec": {
   "display_name": "Python 3",
   "language": "python",
   "name": "python3"
  },
  "language_info": {
   "codemirror_mode": {
    "name": "ipython",
    "version": 3
   },
   "file_extension": ".py",
   "mimetype": "text/x-python",
   "name": "python",
   "nbconvert_exporter": "python",
   "pygments_lexer": "ipython3",
   "version": "3.8.5"
  },
  "toc-autonumbering": true,
  "widgets": {
   "application/vnd.jupyter.widget-state+json": {
    "state": {},
    "version_major": 2,
    "version_minor": 0
   }
  }
 },
 "nbformat": 4,
 "nbformat_minor": 4
}
