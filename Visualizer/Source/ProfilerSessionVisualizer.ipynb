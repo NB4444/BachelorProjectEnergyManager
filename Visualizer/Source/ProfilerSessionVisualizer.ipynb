{
 "cells": [
  {
   "cell_type": "code",
   "execution_count": 1,
   "metadata": {
    "pycharm": {
     "name": "#%%\n"
    }
   },
   "outputs": [],
   "source": [
    "%matplotlib widget\n",
    "\n",
    "import pathlib\n",
    "import pprint\n",
    "\n",
    "from Visualizer.DataSet import DataSet\n",
    "from Visualizer.Monitoring.Persistence.ProfilerSession import ProfilerSession\n",
    "from Visualizer.Plotting.Plot import Plot"
   ]
  },
  {
   "cell_type": "markdown",
   "metadata": {},
   "source": [
    "# Profiler Session Visualizer\n",
    "\n",
    "This notebook can visualize a specific profiler session."
   ]
  },
  {
   "cell_type": "markdown",
   "metadata": {},
   "source": [
    "## Configuration\n",
    "\n",
    "Configure the project settings below.\n",
    "The default configuration should be okay.\n",
    "Make sure that you have run at least one profiler session with the EnergyManager and have generated a database, otherwise this notebook will fail."
   ]
  },
  {
   "cell_type": "code",
   "execution_count": 2,
   "metadata": {
    "pycharm": {
     "name": "#%%\n"
    }
   },
   "outputs": [],
   "source": [
    "source_directory = pathlib.Path().parent.absolute()\n",
    "project_directory = f\"{source_directory}/..\"\n",
    "database = f\"{project_directory}/../Resources/Data/MatrixMultiply.sqlite\""
   ]
  },
  {
   "cell_type": "markdown",
   "metadata": {},
   "source": [
    "## Profiler Sessions Overview\n",
    "\n",
    "Below all profiler sessions are shown."
   ]
  },
  {
   "cell_type": "code",
   "execution_count": 3,
   "metadata": {
    "pycharm": {
     "name": "#%%\n"
    }
   },
   "outputs": [
    {
     "data": {
      "text/html": [
       "<div>\n",
       "<style scoped>\n",
       "    .dataframe tbody tr th:only-of-type {\n",
       "        vertical-align: middle;\n",
       "    }\n",
       "\n",
       "    .dataframe tbody tr th {\n",
       "        vertical-align: top;\n",
       "    }\n",
       "\n",
       "    .dataframe thead th {\n",
       "        text-align: right;\n",
       "    }\n",
       "</style>\n",
       "<table border=\"1\" class=\"dataframe\">\n",
       "  <thead>\n",
       "    <tr style=\"text-align: right;\">\n",
       "      <th></th>\n",
       "      <th>ID</th>\n",
       "      <th>Label</th>\n",
       "      <th>Profile</th>\n",
       "    </tr>\n",
       "  </thead>\n",
       "  <tbody>\n",
       "    <tr>\n",
       "      <th>0</th>\n",
       "      <td>1</td>\n",
       "      <td>Matrix Multiply</td>\n",
       "      <td>{'core': 0, 'gpu': 0, 'iterations': 3, 'matrixAHeight': 4096, 'matrixAWidth': 4096, 'matrixBHeight': 4096, 'matrixBWidth': 4096}</td>\n",
       "    </tr>\n",
       "    <tr>\n",
       "      <th>1</th>\n",
       "      <td>2</td>\n",
       "      <td>Matrix Multiply</td>\n",
       "      <td>{'core': 0, 'gpu': 0, 'iterations': 3, 'matrixAHeight': 4096, 'matrixAWidth': 4096, 'matrixBHeight': 4096, 'matrixBWidth': 4096}</td>\n",
       "    </tr>\n",
       "    <tr>\n",
       "      <th>2</th>\n",
       "      <td>3</td>\n",
       "      <td>Matrix Multiply</td>\n",
       "      <td>{'core': 0, 'gpu': 0, 'iterations': 3, 'matrixAHeight': 4096, 'matrixAWidth': 4096, 'matrixBHeight': 4096, 'matrixBWidth': 4096}</td>\n",
       "    </tr>\n",
       "    <tr>\n",
       "      <th>3</th>\n",
       "      <td>4</td>\n",
       "      <td>Matrix Multiply</td>\n",
       "      <td>{'core': 0, 'gpu': 0, 'iterations': 3, 'matrixAHeight': 4096, 'matrixAWidth': 4096, 'matrixBHeight': 4096, 'matrixBWidth': 4096}</td>\n",
       "    </tr>\n",
       "    <tr>\n",
       "      <th>4</th>\n",
       "      <td>5</td>\n",
       "      <td>Fixed Frequency Matrix Multiply</td>\n",
       "      <td>{'core': 0, 'gpu': 0, 'iterations': 3, 'matrixAHeight': 4096, 'matrixAWidth': 4096, 'matrixBHeight': 4096, 'matrixBWidth': 4096, 'maximumCPUClockRate': 1800500000.0, 'maximumGPUClockRate': 690000500.0, 'minimumCPUClockRate': 1800500000.0, 'minimumGPUClockRate': 690000500.0}</td>\n",
       "    </tr>\n",
       "    <tr>\n",
       "      <th>5</th>\n",
       "      <td>6</td>\n",
       "      <td>Matrix Multiply</td>\n",
       "      <td>{'core': 0, 'gpu': 0, 'iterations': 3, 'matrixAHeight': 4096, 'matrixAWidth': 4096, 'matrixBHeight': 4096, 'matrixBWidth': 4096}</td>\n",
       "    </tr>\n",
       "    <tr>\n",
       "      <th>6</th>\n",
       "      <td>7</td>\n",
       "      <td>Fixed Frequency Matrix Multiply</td>\n",
       "      <td>{'core': 0, 'gpu': 0, 'iterations': 3, 'matrixAHeight': 4096, 'matrixAWidth': 4096, 'matrixBHeight': 4096, 'matrixBWidth': 4096, 'maximumCPUClockRate': 1800500000.0, 'maximumGPUClockRate': 1380000000.0, 'minimumCPUClockRate': 1800500000.0, 'minimumGPUClockRate': 1380000000.0}</td>\n",
       "    </tr>\n",
       "    <tr>\n",
       "      <th>7</th>\n",
       "      <td>8</td>\n",
       "      <td>Matrix Multiply</td>\n",
       "      <td>{'core': 0, 'gpu': 0, 'iterations': 3, 'matrixAHeight': 4096, 'matrixAWidth': 4096, 'matrixBHeight': 4096, 'matrixBWidth': 4096}</td>\n",
       "    </tr>\n",
       "    <tr>\n",
       "      <th>8</th>\n",
       "      <td>9</td>\n",
       "      <td>Matrix Multiply</td>\n",
       "      <td>{'core': 0, 'gpu': 0, 'iterations': 3, 'matrixAHeight': 4096, 'matrixAWidth': 4096, 'matrixBHeight': 4096, 'matrixBWidth': 4096}</td>\n",
       "    </tr>\n",
       "    <tr>\n",
       "      <th>9</th>\n",
       "      <td>10</td>\n",
       "      <td>Fixed Frequency Matrix Multiply</td>\n",
       "      <td>{'core': 0, 'gpu': 0, 'iterations': 3, 'matrixAHeight': 4096, 'matrixAWidth': 4096, 'matrixBHeight': 4096, 'matrixBWidth': 4096, 'maximumCPUClockRate': 1000000000.0, 'maximumGPUClockRate': 1035000250.0, 'minimumCPUClockRate': 1000000000.0, 'minimumGPUClockRate': 1035000250.0}</td>\n",
       "    </tr>\n",
       "    <tr>\n",
       "      <th>10</th>\n",
       "      <td>11</td>\n",
       "      <td>Matrix Multiply</td>\n",
       "      <td>{'core': 0, 'gpu': 0, 'iterations': 3, 'matrixAHeight': 4096, 'matrixAWidth': 4096, 'matrixBHeight': 4096, 'matrixBWidth': 4096}</td>\n",
       "    </tr>\n",
       "    <tr>\n",
       "      <th>11</th>\n",
       "      <td>12</td>\n",
       "      <td>Fixed Frequency Matrix Multiply</td>\n",
       "      <td>{'core': 0, 'gpu': 0, 'iterations': 3, 'matrixAHeight': 4096, 'matrixAWidth': 4096, 'matrixBHeight': 4096, 'matrixBWidth': 4096, 'maximumCPUClockRate': 2200750000.0, 'maximumGPUClockRate': 690000500.0, 'minimumCPUClockRate': 2200750000.0, 'minimumGPUClockRate': 690000500.0}</td>\n",
       "    </tr>\n",
       "    <tr>\n",
       "      <th>12</th>\n",
       "      <td>13</td>\n",
       "      <td>Matrix Multiply</td>\n",
       "      <td>{'core': 0, 'gpu': 0, 'iterations': 3, 'matrixAHeight': 4096, 'matrixAWidth': 4096, 'matrixBHeight': 4096, 'matrixBWidth': 4096}</td>\n",
       "    </tr>\n",
       "    <tr>\n",
       "      <th>13</th>\n",
       "      <td>14</td>\n",
       "      <td>Matrix Multiply</td>\n",
       "      <td>{'core': 0, 'gpu': 0, 'iterations': 3, 'matrixAHeight': 4096, 'matrixAWidth': 4096, 'matrixBHeight': 4096, 'matrixBWidth': 4096}</td>\n",
       "    </tr>\n",
       "    <tr>\n",
       "      <th>14</th>\n",
       "      <td>15</td>\n",
       "      <td>Fixed Frequency Matrix Multiply</td>\n",
       "      <td>{'core': 0, 'gpu': 0, 'iterations': 3, 'matrixAHeight': 4096, 'matrixAWidth': 4096, 'matrixBHeight': 4096, 'matrixBWidth': 4096, 'maximumCPUClockRate': 1800500000.0, 'maximumGPUClockRate': 1000.0, 'minimumCPUClockRate': 1800500000.0, 'minimumGPUClockRate': 1000.0}</td>\n",
       "    </tr>\n",
       "    <tr>\n",
       "      <th>15</th>\n",
       "      <td>16</td>\n",
       "      <td>Matrix Multiply</td>\n",
       "      <td>{'core': 0, 'gpu': 0, 'iterations': 3, 'matrixAHeight': 4096, 'matrixAWidth': 4096, 'matrixBHeight': 4096, 'matrixBWidth': 4096}</td>\n",
       "    </tr>\n",
       "    <tr>\n",
       "      <th>16</th>\n",
       "      <td>17</td>\n",
       "      <td>Fixed Frequency Matrix Multiply</td>\n",
       "      <td>{'core': 0, 'gpu': 0, 'iterations': 3, 'matrixAHeight': 4096, 'matrixAWidth': 4096, 'matrixBHeight': 4096, 'matrixBWidth': 4096, 'maximumCPUClockRate': 1400250000.0, 'maximumGPUClockRate': 1380000000.0, 'minimumCPUClockRate': 1400250000.0, 'minimumGPUClockRate': 1380000000.0}</td>\n",
       "    </tr>\n",
       "    <tr>\n",
       "      <th>17</th>\n",
       "      <td>18</td>\n",
       "      <td>Matrix Multiply</td>\n",
       "      <td>{'core': 0, 'gpu': 0, 'iterations': 3, 'matrixAHeight': 4096, 'matrixAWidth': 4096, 'matrixBHeight': 4096, 'matrixBWidth': 4096}</td>\n",
       "    </tr>\n",
       "    <tr>\n",
       "      <th>18</th>\n",
       "      <td>19</td>\n",
       "      <td>Matrix Multiply</td>\n",
       "      <td>{'core': 0, 'gpu': 0, 'iterations': 3, 'matrixAHeight': 4096, 'matrixAWidth': 4096, 'matrixBHeight': 4096, 'matrixBWidth': 4096}</td>\n",
       "    </tr>\n",
       "    <tr>\n",
       "      <th>19</th>\n",
       "      <td>20</td>\n",
       "      <td>Fixed Frequency Matrix Multiply</td>\n",
       "      <td>{'core': 0, 'gpu': 0, 'iterations': 3, 'matrixAHeight': 4096, 'matrixAWidth': 4096, 'matrixBHeight': 4096, 'matrixBWidth': 4096, 'maximumCPUClockRate': 1400250000.0, 'maximumGPUClockRate': 345000750.0, 'minimumCPUClockRate': 1400250000.0, 'minimumGPUClockRate': 345000750.0}</td>\n",
       "    </tr>\n",
       "    <tr>\n",
       "      <th>20</th>\n",
       "      <td>21</td>\n",
       "      <td>Matrix Multiply</td>\n",
       "      <td>{'core': 0, 'gpu': 0, 'iterations': 3, 'matrixAHeight': 4096, 'matrixAWidth': 4096, 'matrixBHeight': 4096, 'matrixBWidth': 4096}</td>\n",
       "    </tr>\n",
       "    <tr>\n",
       "      <th>21</th>\n",
       "      <td>22</td>\n",
       "      <td>Fixed Frequency Matrix Multiply</td>\n",
       "      <td>{'core': 0, 'gpu': 0, 'iterations': 3, 'matrixAHeight': 4096, 'matrixAWidth': 4096, 'matrixBHeight': 4096, 'matrixBWidth': 4096, 'maximumCPUClockRate': 2200750000.0, 'maximumGPUClockRate': 1380000000.0, 'minimumCPUClockRate': 2200750000.0, 'minimumGPUClockRate': 1380000000.0}</td>\n",
       "    </tr>\n",
       "    <tr>\n",
       "      <th>22</th>\n",
       "      <td>23</td>\n",
       "      <td>Matrix Multiply</td>\n",
       "      <td>{'core': 0, 'gpu': 0, 'iterations': 3, 'matrixAHeight': 4096, 'matrixAWidth': 4096, 'matrixBHeight': 4096, 'matrixBWidth': 4096}</td>\n",
       "    </tr>\n",
       "    <tr>\n",
       "      <th>23</th>\n",
       "      <td>24</td>\n",
       "      <td>Fixed Frequency Matrix Multiply</td>\n",
       "      <td>{'core': 0, 'gpu': 0, 'iterations': 3, 'matrixAHeight': 4096, 'matrixAWidth': 4096, 'matrixBHeight': 4096, 'matrixBWidth': 4096, 'maximumCPUClockRate': 2200750000.0, 'maximumGPUClockRate': 1000.0, 'minimumCPUClockRate': 2200750000.0, 'minimumGPUClockRate': 1000.0}</td>\n",
       "    </tr>\n",
       "    <tr>\n",
       "      <th>24</th>\n",
       "      <td>25</td>\n",
       "      <td>Matrix Multiply</td>\n",
       "      <td>{'core': 0, 'gpu': 0, 'iterations': 3, 'matrixAHeight': 4096, 'matrixAWidth': 4096, 'matrixBHeight': 4096, 'matrixBWidth': 4096}</td>\n",
       "    </tr>\n",
       "    <tr>\n",
       "      <th>...</th>\n",
       "      <td>...</td>\n",
       "      <td>...</td>\n",
       "      <td>...</td>\n",
       "    </tr>\n",
       "    <tr>\n",
       "      <th>50</th>\n",
       "      <td>51</td>\n",
       "      <td>Fixed Frequency Matrix Multiply</td>\n",
       "      <td>{'core': 0, 'gpu': 0, 'iterations': 3, 'matrixAHeight': 4096, 'matrixAWidth': 4096, 'matrixBHeight': 4096, 'matrixBWidth': 4096, 'maximumCPUClockRate': 1400250000.0, 'maximumGPUClockRate': 1035000250.0, 'minimumCPUClockRate': 1400250000.0, 'minimumGPUClockRate': 1035000250.0}</td>\n",
       "    </tr>\n",
       "    <tr>\n",
       "      <th>51</th>\n",
       "      <td>52</td>\n",
       "      <td>Matrix Multiply</td>\n",
       "      <td>{'core': 0, 'gpu': 0, 'iterations': 3, 'matrixAHeight': 4096, 'matrixAWidth': 4096, 'matrixBHeight': 4096, 'matrixBWidth': 4096}</td>\n",
       "    </tr>\n",
       "    <tr>\n",
       "      <th>52</th>\n",
       "      <td>53</td>\n",
       "      <td>Fixed Frequency Matrix Multiply</td>\n",
       "      <td>{'core': 0, 'gpu': 0, 'iterations': 3, 'matrixAHeight': 4096, 'matrixAWidth': 4096, 'matrixBHeight': 4096, 'matrixBWidth': 4096, 'maximumCPUClockRate': 1000000000.0, 'maximumGPUClockRate': 1380000000.0, 'minimumCPUClockRate': 1000000000.0, 'minimumGPUClockRate': 1380000000.0}</td>\n",
       "    </tr>\n",
       "    <tr>\n",
       "      <th>53</th>\n",
       "      <td>54</td>\n",
       "      <td>Matrix Multiply</td>\n",
       "      <td>{'core': 0, 'gpu': 0, 'iterations': 3, 'matrixAHeight': 4096, 'matrixAWidth': 4096, 'matrixBHeight': 4096, 'matrixBWidth': 4096}</td>\n",
       "    </tr>\n",
       "    <tr>\n",
       "      <th>54</th>\n",
       "      <td>55</td>\n",
       "      <td>Fixed Frequency Matrix Multiply</td>\n",
       "      <td>{'core': 0, 'gpu': 0, 'iterations': 3, 'matrixAHeight': 4096, 'matrixAWidth': 4096, 'matrixBHeight': 4096, 'matrixBWidth': 4096, 'maximumCPUClockRate': 2601000000.0, 'maximumGPUClockRate': 1035000250.0, 'minimumCPUClockRate': 2601000000.0, 'minimumGPUClockRate': 1035000250.0}</td>\n",
       "    </tr>\n",
       "    <tr>\n",
       "      <th>55</th>\n",
       "      <td>56</td>\n",
       "      <td>Matrix Multiply</td>\n",
       "      <td>{'core': 0, 'gpu': 0, 'iterations': 3, 'matrixAHeight': 4096, 'matrixAWidth': 4096, 'matrixBHeight': 4096, 'matrixBWidth': 4096}</td>\n",
       "    </tr>\n",
       "    <tr>\n",
       "      <th>56</th>\n",
       "      <td>57</td>\n",
       "      <td>Matrix Multiply</td>\n",
       "      <td>{'core': 0, 'gpu': 0, 'iterations': 3, 'matrixAHeight': 4096, 'matrixAWidth': 4096, 'matrixBHeight': 4096, 'matrixBWidth': 4096}</td>\n",
       "    </tr>\n",
       "    <tr>\n",
       "      <th>57</th>\n",
       "      <td>58</td>\n",
       "      <td>Fixed Frequency Matrix Multiply</td>\n",
       "      <td>{'core': 0, 'gpu': 0, 'iterations': 3, 'matrixAHeight': 4096, 'matrixAWidth': 4096, 'matrixBHeight': 4096, 'matrixBWidth': 4096, 'maximumCPUClockRate': 1000000000.0, 'maximumGPUClockRate': 690000500.0, 'minimumCPUClockRate': 1000000000.0, 'minimumGPUClockRate': 690000500.0}</td>\n",
       "    </tr>\n",
       "    <tr>\n",
       "      <th>58</th>\n",
       "      <td>59</td>\n",
       "      <td>Matrix Multiply</td>\n",
       "      <td>{'core': 0, 'gpu': 0, 'iterations': 3, 'matrixAHeight': 4096, 'matrixAWidth': 4096, 'matrixBHeight': 4096, 'matrixBWidth': 4096}</td>\n",
       "    </tr>\n",
       "    <tr>\n",
       "      <th>59</th>\n",
       "      <td>60</td>\n",
       "      <td>Fixed Frequency Matrix Multiply</td>\n",
       "      <td>{'core': 0, 'gpu': 0, 'iterations': 3, 'matrixAHeight': 4096, 'matrixAWidth': 4096, 'matrixBHeight': 4096, 'matrixBWidth': 4096, 'maximumCPUClockRate': 1400250000.0, 'maximumGPUClockRate': 1000.0, 'minimumCPUClockRate': 1400250000.0, 'minimumGPUClockRate': 1000.0}</td>\n",
       "    </tr>\n",
       "    <tr>\n",
       "      <th>60</th>\n",
       "      <td>61</td>\n",
       "      <td>Matrix Multiply</td>\n",
       "      <td>{'core': 0, 'gpu': 0, 'iterations': 3, 'matrixAHeight': 4096, 'matrixAWidth': 4096, 'matrixBHeight': 4096, 'matrixBWidth': 4096}</td>\n",
       "    </tr>\n",
       "    <tr>\n",
       "      <th>61</th>\n",
       "      <td>62</td>\n",
       "      <td>Matrix Multiply</td>\n",
       "      <td>{'core': 0, 'gpu': 0, 'iterations': 3, 'matrixAHeight': 4096, 'matrixAWidth': 4096, 'matrixBHeight': 4096, 'matrixBWidth': 4096}</td>\n",
       "    </tr>\n",
       "    <tr>\n",
       "      <th>62</th>\n",
       "      <td>63</td>\n",
       "      <td>Matrix Multiply</td>\n",
       "      <td>{'core': 0, 'gpu': 0, 'iterations': 3, 'matrixAHeight': 4096, 'matrixAWidth': 4096, 'matrixBHeight': 4096, 'matrixBWidth': 4096}</td>\n",
       "    </tr>\n",
       "    <tr>\n",
       "      <th>63</th>\n",
       "      <td>64</td>\n",
       "      <td>Matrix Multiply</td>\n",
       "      <td>{'core': 0, 'gpu': 0, 'iterations': 3, 'matrixAHeight': 4096, 'matrixAWidth': 4096, 'matrixBHeight': 4096, 'matrixBWidth': 4096}</td>\n",
       "    </tr>\n",
       "    <tr>\n",
       "      <th>64</th>\n",
       "      <td>65</td>\n",
       "      <td>Matrix Multiply</td>\n",
       "      <td>{'core': 0, 'gpu': 0, 'iterations': 3, 'matrixAHeight': 4096, 'matrixAWidth': 4096, 'matrixBHeight': 4096, 'matrixBWidth': 4096}</td>\n",
       "    </tr>\n",
       "    <tr>\n",
       "      <th>65</th>\n",
       "      <td>66</td>\n",
       "      <td>Matrix Multiply</td>\n",
       "      <td>{'core': 0, 'gpu': 0, 'iterations': 3, 'matrixAHeight': 4096, 'matrixAWidth': 4096, 'matrixBHeight': 4096, 'matrixBWidth': 4096}</td>\n",
       "    </tr>\n",
       "    <tr>\n",
       "      <th>66</th>\n",
       "      <td>67</td>\n",
       "      <td>Matrix Multiply</td>\n",
       "      <td>{'core': 0, 'gpu': 0, 'iterations': 3, 'matrixAHeight': 4096, 'matrixAWidth': 4096, 'matrixBHeight': 4096, 'matrixBWidth': 4096}</td>\n",
       "    </tr>\n",
       "    <tr>\n",
       "      <th>67</th>\n",
       "      <td>68</td>\n",
       "      <td>Matrix Multiply</td>\n",
       "      <td>{'core': 0, 'gpu': 0, 'iterations': 3, 'matrixAHeight': 4096, 'matrixAWidth': 4096, 'matrixBHeight': 4096, 'matrixBWidth': 4096}</td>\n",
       "    </tr>\n",
       "    <tr>\n",
       "      <th>68</th>\n",
       "      <td>69</td>\n",
       "      <td>Matrix Multiply</td>\n",
       "      <td>{'core': 0, 'gpu': 0, 'iterations': 3, 'matrixAHeight': 4096, 'matrixAWidth': 4096, 'matrixBHeight': 4096, 'matrixBWidth': 4096}</td>\n",
       "    </tr>\n",
       "    <tr>\n",
       "      <th>69</th>\n",
       "      <td>70</td>\n",
       "      <td>Matrix Multiply</td>\n",
       "      <td>{'core': 0, 'gpu': 0, 'iterations': 3, 'matrixAHeight': 4096, 'matrixAWidth': 4096, 'matrixBHeight': 4096, 'matrixBWidth': 4096}</td>\n",
       "    </tr>\n",
       "    <tr>\n",
       "      <th>70</th>\n",
       "      <td>71</td>\n",
       "      <td>Matrix Multiply</td>\n",
       "      <td>{'core': 0, 'gpu': 0, 'iterations': 3, 'matrixAHeight': 4096, 'matrixAWidth': 4096, 'matrixBHeight': 4096, 'matrixBWidth': 4096}</td>\n",
       "    </tr>\n",
       "    <tr>\n",
       "      <th>71</th>\n",
       "      <td>72</td>\n",
       "      <td>Matrix Multiply</td>\n",
       "      <td>{'core': 0, 'gpu': 0, 'iterations': 3, 'matrixAHeight': 4096, 'matrixAWidth': 4096, 'matrixBHeight': 4096, 'matrixBWidth': 4096}</td>\n",
       "    </tr>\n",
       "    <tr>\n",
       "      <th>72</th>\n",
       "      <td>73</td>\n",
       "      <td>Matrix Multiply</td>\n",
       "      <td>{'core': 0, 'gpu': 0, 'iterations': 3, 'matrixAHeight': 4096, 'matrixAWidth': 4096, 'matrixBHeight': 4096, 'matrixBWidth': 4096}</td>\n",
       "    </tr>\n",
       "    <tr>\n",
       "      <th>73</th>\n",
       "      <td>74</td>\n",
       "      <td>Matrix Multiply</td>\n",
       "      <td>{'core': 0, 'gpu': 0, 'iterations': 3, 'matrixAHeight': 4096, 'matrixAWidth': 4096, 'matrixBHeight': 4096, 'matrixBWidth': 4096}</td>\n",
       "    </tr>\n",
       "    <tr>\n",
       "      <th>74</th>\n",
       "      <td>75</td>\n",
       "      <td>Matrix Multiply</td>\n",
       "      <td>{'core': 0, 'gpu': 0, 'iterations': 3, 'matrixAHeight': 4096, 'matrixAWidth': 4096, 'matrixBHeight': 4096, 'matrixBWidth': 4096}</td>\n",
       "    </tr>\n",
       "  </tbody>\n",
       "</table>\n",
       "<p>75 rows × 3 columns</p>\n",
       "</div>"
      ],
      "text/plain": [
       "    ID                            Label  \\\n",
       "0    1                  Matrix Multiply   \n",
       "1    2                  Matrix Multiply   \n",
       "2    3                  Matrix Multiply   \n",
       "3    4                  Matrix Multiply   \n",
       "4    5  Fixed Frequency Matrix Multiply   \n",
       "5    6                  Matrix Multiply   \n",
       "6    7  Fixed Frequency Matrix Multiply   \n",
       "7    8                  Matrix Multiply   \n",
       "8    9                  Matrix Multiply   \n",
       "9   10  Fixed Frequency Matrix Multiply   \n",
       "10  11                  Matrix Multiply   \n",
       "11  12  Fixed Frequency Matrix Multiply   \n",
       "12  13                  Matrix Multiply   \n",
       "13  14                  Matrix Multiply   \n",
       "14  15  Fixed Frequency Matrix Multiply   \n",
       "15  16                  Matrix Multiply   \n",
       "16  17  Fixed Frequency Matrix Multiply   \n",
       "17  18                  Matrix Multiply   \n",
       "18  19                  Matrix Multiply   \n",
       "19  20  Fixed Frequency Matrix Multiply   \n",
       "20  21                  Matrix Multiply   \n",
       "21  22  Fixed Frequency Matrix Multiply   \n",
       "22  23                  Matrix Multiply   \n",
       "23  24  Fixed Frequency Matrix Multiply   \n",
       "24  25                  Matrix Multiply   \n",
       "..  ..                              ...   \n",
       "50  51  Fixed Frequency Matrix Multiply   \n",
       "51  52                  Matrix Multiply   \n",
       "52  53  Fixed Frequency Matrix Multiply   \n",
       "53  54                  Matrix Multiply   \n",
       "54  55  Fixed Frequency Matrix Multiply   \n",
       "55  56                  Matrix Multiply   \n",
       "56  57                  Matrix Multiply   \n",
       "57  58  Fixed Frequency Matrix Multiply   \n",
       "58  59                  Matrix Multiply   \n",
       "59  60  Fixed Frequency Matrix Multiply   \n",
       "60  61                  Matrix Multiply   \n",
       "61  62                  Matrix Multiply   \n",
       "62  63                  Matrix Multiply   \n",
       "63  64                  Matrix Multiply   \n",
       "64  65                  Matrix Multiply   \n",
       "65  66                  Matrix Multiply   \n",
       "66  67                  Matrix Multiply   \n",
       "67  68                  Matrix Multiply   \n",
       "68  69                  Matrix Multiply   \n",
       "69  70                  Matrix Multiply   \n",
       "70  71                  Matrix Multiply   \n",
       "71  72                  Matrix Multiply   \n",
       "72  73                  Matrix Multiply   \n",
       "73  74                  Matrix Multiply   \n",
       "74  75                  Matrix Multiply   \n",
       "\n",
       "                                                                                                                                                                                                                                                                                 Profile  \n",
       "0                                                                                                                                                       {'core': 0, 'gpu': 0, 'iterations': 3, 'matrixAHeight': 4096, 'matrixAWidth': 4096, 'matrixBHeight': 4096, 'matrixBWidth': 4096}  \n",
       "1                                                                                                                                                       {'core': 0, 'gpu': 0, 'iterations': 3, 'matrixAHeight': 4096, 'matrixAWidth': 4096, 'matrixBHeight': 4096, 'matrixBWidth': 4096}  \n",
       "2                                                                                                                                                       {'core': 0, 'gpu': 0, 'iterations': 3, 'matrixAHeight': 4096, 'matrixAWidth': 4096, 'matrixBHeight': 4096, 'matrixBWidth': 4096}  \n",
       "3                                                                                                                                                       {'core': 0, 'gpu': 0, 'iterations': 3, 'matrixAHeight': 4096, 'matrixAWidth': 4096, 'matrixBHeight': 4096, 'matrixBWidth': 4096}  \n",
       "4     {'core': 0, 'gpu': 0, 'iterations': 3, 'matrixAHeight': 4096, 'matrixAWidth': 4096, 'matrixBHeight': 4096, 'matrixBWidth': 4096, 'maximumCPUClockRate': 1800500000.0, 'maximumGPUClockRate': 690000500.0, 'minimumCPUClockRate': 1800500000.0, 'minimumGPUClockRate': 690000500.0}  \n",
       "5                                                                                                                                                       {'core': 0, 'gpu': 0, 'iterations': 3, 'matrixAHeight': 4096, 'matrixAWidth': 4096, 'matrixBHeight': 4096, 'matrixBWidth': 4096}  \n",
       "6   {'core': 0, 'gpu': 0, 'iterations': 3, 'matrixAHeight': 4096, 'matrixAWidth': 4096, 'matrixBHeight': 4096, 'matrixBWidth': 4096, 'maximumCPUClockRate': 1800500000.0, 'maximumGPUClockRate': 1380000000.0, 'minimumCPUClockRate': 1800500000.0, 'minimumGPUClockRate': 1380000000.0}  \n",
       "7                                                                                                                                                       {'core': 0, 'gpu': 0, 'iterations': 3, 'matrixAHeight': 4096, 'matrixAWidth': 4096, 'matrixBHeight': 4096, 'matrixBWidth': 4096}  \n",
       "8                                                                                                                                                       {'core': 0, 'gpu': 0, 'iterations': 3, 'matrixAHeight': 4096, 'matrixAWidth': 4096, 'matrixBHeight': 4096, 'matrixBWidth': 4096}  \n",
       "9   {'core': 0, 'gpu': 0, 'iterations': 3, 'matrixAHeight': 4096, 'matrixAWidth': 4096, 'matrixBHeight': 4096, 'matrixBWidth': 4096, 'maximumCPUClockRate': 1000000000.0, 'maximumGPUClockRate': 1035000250.0, 'minimumCPUClockRate': 1000000000.0, 'minimumGPUClockRate': 1035000250.0}  \n",
       "10                                                                                                                                                      {'core': 0, 'gpu': 0, 'iterations': 3, 'matrixAHeight': 4096, 'matrixAWidth': 4096, 'matrixBHeight': 4096, 'matrixBWidth': 4096}  \n",
       "11    {'core': 0, 'gpu': 0, 'iterations': 3, 'matrixAHeight': 4096, 'matrixAWidth': 4096, 'matrixBHeight': 4096, 'matrixBWidth': 4096, 'maximumCPUClockRate': 2200750000.0, 'maximumGPUClockRate': 690000500.0, 'minimumCPUClockRate': 2200750000.0, 'minimumGPUClockRate': 690000500.0}  \n",
       "12                                                                                                                                                      {'core': 0, 'gpu': 0, 'iterations': 3, 'matrixAHeight': 4096, 'matrixAWidth': 4096, 'matrixBHeight': 4096, 'matrixBWidth': 4096}  \n",
       "13                                                                                                                                                      {'core': 0, 'gpu': 0, 'iterations': 3, 'matrixAHeight': 4096, 'matrixAWidth': 4096, 'matrixBHeight': 4096, 'matrixBWidth': 4096}  \n",
       "14              {'core': 0, 'gpu': 0, 'iterations': 3, 'matrixAHeight': 4096, 'matrixAWidth': 4096, 'matrixBHeight': 4096, 'matrixBWidth': 4096, 'maximumCPUClockRate': 1800500000.0, 'maximumGPUClockRate': 1000.0, 'minimumCPUClockRate': 1800500000.0, 'minimumGPUClockRate': 1000.0}  \n",
       "15                                                                                                                                                      {'core': 0, 'gpu': 0, 'iterations': 3, 'matrixAHeight': 4096, 'matrixAWidth': 4096, 'matrixBHeight': 4096, 'matrixBWidth': 4096}  \n",
       "16  {'core': 0, 'gpu': 0, 'iterations': 3, 'matrixAHeight': 4096, 'matrixAWidth': 4096, 'matrixBHeight': 4096, 'matrixBWidth': 4096, 'maximumCPUClockRate': 1400250000.0, 'maximumGPUClockRate': 1380000000.0, 'minimumCPUClockRate': 1400250000.0, 'minimumGPUClockRate': 1380000000.0}  \n",
       "17                                                                                                                                                      {'core': 0, 'gpu': 0, 'iterations': 3, 'matrixAHeight': 4096, 'matrixAWidth': 4096, 'matrixBHeight': 4096, 'matrixBWidth': 4096}  \n",
       "18                                                                                                                                                      {'core': 0, 'gpu': 0, 'iterations': 3, 'matrixAHeight': 4096, 'matrixAWidth': 4096, 'matrixBHeight': 4096, 'matrixBWidth': 4096}  \n",
       "19    {'core': 0, 'gpu': 0, 'iterations': 3, 'matrixAHeight': 4096, 'matrixAWidth': 4096, 'matrixBHeight': 4096, 'matrixBWidth': 4096, 'maximumCPUClockRate': 1400250000.0, 'maximumGPUClockRate': 345000750.0, 'minimumCPUClockRate': 1400250000.0, 'minimumGPUClockRate': 345000750.0}  \n",
       "20                                                                                                                                                      {'core': 0, 'gpu': 0, 'iterations': 3, 'matrixAHeight': 4096, 'matrixAWidth': 4096, 'matrixBHeight': 4096, 'matrixBWidth': 4096}  \n",
       "21  {'core': 0, 'gpu': 0, 'iterations': 3, 'matrixAHeight': 4096, 'matrixAWidth': 4096, 'matrixBHeight': 4096, 'matrixBWidth': 4096, 'maximumCPUClockRate': 2200750000.0, 'maximumGPUClockRate': 1380000000.0, 'minimumCPUClockRate': 2200750000.0, 'minimumGPUClockRate': 1380000000.0}  \n",
       "22                                                                                                                                                      {'core': 0, 'gpu': 0, 'iterations': 3, 'matrixAHeight': 4096, 'matrixAWidth': 4096, 'matrixBHeight': 4096, 'matrixBWidth': 4096}  \n",
       "23              {'core': 0, 'gpu': 0, 'iterations': 3, 'matrixAHeight': 4096, 'matrixAWidth': 4096, 'matrixBHeight': 4096, 'matrixBWidth': 4096, 'maximumCPUClockRate': 2200750000.0, 'maximumGPUClockRate': 1000.0, 'minimumCPUClockRate': 2200750000.0, 'minimumGPUClockRate': 1000.0}  \n",
       "24                                                                                                                                                      {'core': 0, 'gpu': 0, 'iterations': 3, 'matrixAHeight': 4096, 'matrixAWidth': 4096, 'matrixBHeight': 4096, 'matrixBWidth': 4096}  \n",
       "..                                                                                                                                                                                                                                                                                   ...  \n",
       "50  {'core': 0, 'gpu': 0, 'iterations': 3, 'matrixAHeight': 4096, 'matrixAWidth': 4096, 'matrixBHeight': 4096, 'matrixBWidth': 4096, 'maximumCPUClockRate': 1400250000.0, 'maximumGPUClockRate': 1035000250.0, 'minimumCPUClockRate': 1400250000.0, 'minimumGPUClockRate': 1035000250.0}  \n",
       "51                                                                                                                                                      {'core': 0, 'gpu': 0, 'iterations': 3, 'matrixAHeight': 4096, 'matrixAWidth': 4096, 'matrixBHeight': 4096, 'matrixBWidth': 4096}  \n",
       "52  {'core': 0, 'gpu': 0, 'iterations': 3, 'matrixAHeight': 4096, 'matrixAWidth': 4096, 'matrixBHeight': 4096, 'matrixBWidth': 4096, 'maximumCPUClockRate': 1000000000.0, 'maximumGPUClockRate': 1380000000.0, 'minimumCPUClockRate': 1000000000.0, 'minimumGPUClockRate': 1380000000.0}  \n",
       "53                                                                                                                                                      {'core': 0, 'gpu': 0, 'iterations': 3, 'matrixAHeight': 4096, 'matrixAWidth': 4096, 'matrixBHeight': 4096, 'matrixBWidth': 4096}  \n",
       "54  {'core': 0, 'gpu': 0, 'iterations': 3, 'matrixAHeight': 4096, 'matrixAWidth': 4096, 'matrixBHeight': 4096, 'matrixBWidth': 4096, 'maximumCPUClockRate': 2601000000.0, 'maximumGPUClockRate': 1035000250.0, 'minimumCPUClockRate': 2601000000.0, 'minimumGPUClockRate': 1035000250.0}  \n",
       "55                                                                                                                                                      {'core': 0, 'gpu': 0, 'iterations': 3, 'matrixAHeight': 4096, 'matrixAWidth': 4096, 'matrixBHeight': 4096, 'matrixBWidth': 4096}  \n",
       "56                                                                                                                                                      {'core': 0, 'gpu': 0, 'iterations': 3, 'matrixAHeight': 4096, 'matrixAWidth': 4096, 'matrixBHeight': 4096, 'matrixBWidth': 4096}  \n",
       "57    {'core': 0, 'gpu': 0, 'iterations': 3, 'matrixAHeight': 4096, 'matrixAWidth': 4096, 'matrixBHeight': 4096, 'matrixBWidth': 4096, 'maximumCPUClockRate': 1000000000.0, 'maximumGPUClockRate': 690000500.0, 'minimumCPUClockRate': 1000000000.0, 'minimumGPUClockRate': 690000500.0}  \n",
       "58                                                                                                                                                      {'core': 0, 'gpu': 0, 'iterations': 3, 'matrixAHeight': 4096, 'matrixAWidth': 4096, 'matrixBHeight': 4096, 'matrixBWidth': 4096}  \n",
       "59              {'core': 0, 'gpu': 0, 'iterations': 3, 'matrixAHeight': 4096, 'matrixAWidth': 4096, 'matrixBHeight': 4096, 'matrixBWidth': 4096, 'maximumCPUClockRate': 1400250000.0, 'maximumGPUClockRate': 1000.0, 'minimumCPUClockRate': 1400250000.0, 'minimumGPUClockRate': 1000.0}  \n",
       "60                                                                                                                                                      {'core': 0, 'gpu': 0, 'iterations': 3, 'matrixAHeight': 4096, 'matrixAWidth': 4096, 'matrixBHeight': 4096, 'matrixBWidth': 4096}  \n",
       "61                                                                                                                                                      {'core': 0, 'gpu': 0, 'iterations': 3, 'matrixAHeight': 4096, 'matrixAWidth': 4096, 'matrixBHeight': 4096, 'matrixBWidth': 4096}  \n",
       "62                                                                                                                                                      {'core': 0, 'gpu': 0, 'iterations': 3, 'matrixAHeight': 4096, 'matrixAWidth': 4096, 'matrixBHeight': 4096, 'matrixBWidth': 4096}  \n",
       "63                                                                                                                                                      {'core': 0, 'gpu': 0, 'iterations': 3, 'matrixAHeight': 4096, 'matrixAWidth': 4096, 'matrixBHeight': 4096, 'matrixBWidth': 4096}  \n",
       "64                                                                                                                                                      {'core': 0, 'gpu': 0, 'iterations': 3, 'matrixAHeight': 4096, 'matrixAWidth': 4096, 'matrixBHeight': 4096, 'matrixBWidth': 4096}  \n",
       "65                                                                                                                                                      {'core': 0, 'gpu': 0, 'iterations': 3, 'matrixAHeight': 4096, 'matrixAWidth': 4096, 'matrixBHeight': 4096, 'matrixBWidth': 4096}  \n",
       "66                                                                                                                                                      {'core': 0, 'gpu': 0, 'iterations': 3, 'matrixAHeight': 4096, 'matrixAWidth': 4096, 'matrixBHeight': 4096, 'matrixBWidth': 4096}  \n",
       "67                                                                                                                                                      {'core': 0, 'gpu': 0, 'iterations': 3, 'matrixAHeight': 4096, 'matrixAWidth': 4096, 'matrixBHeight': 4096, 'matrixBWidth': 4096}  \n",
       "68                                                                                                                                                      {'core': 0, 'gpu': 0, 'iterations': 3, 'matrixAHeight': 4096, 'matrixAWidth': 4096, 'matrixBHeight': 4096, 'matrixBWidth': 4096}  \n",
       "69                                                                                                                                                      {'core': 0, 'gpu': 0, 'iterations': 3, 'matrixAHeight': 4096, 'matrixAWidth': 4096, 'matrixBHeight': 4096, 'matrixBWidth': 4096}  \n",
       "70                                                                                                                                                      {'core': 0, 'gpu': 0, 'iterations': 3, 'matrixAHeight': 4096, 'matrixAWidth': 4096, 'matrixBHeight': 4096, 'matrixBWidth': 4096}  \n",
       "71                                                                                                                                                      {'core': 0, 'gpu': 0, 'iterations': 3, 'matrixAHeight': 4096, 'matrixAWidth': 4096, 'matrixBHeight': 4096, 'matrixBWidth': 4096}  \n",
       "72                                                                                                                                                      {'core': 0, 'gpu': 0, 'iterations': 3, 'matrixAHeight': 4096, 'matrixAWidth': 4096, 'matrixBHeight': 4096, 'matrixBWidth': 4096}  \n",
       "73                                                                                                                                                      {'core': 0, 'gpu': 0, 'iterations': 3, 'matrixAHeight': 4096, 'matrixAWidth': 4096, 'matrixBHeight': 4096, 'matrixBWidth': 4096}  \n",
       "74                                                                                                                                                      {'core': 0, 'gpu': 0, 'iterations': 3, 'matrixAHeight': 4096, 'matrixAWidth': 4096, 'matrixBHeight': 4096, 'matrixBWidth': 4096}  \n",
       "\n",
       "[75 rows x 3 columns]"
      ]
     },
     "metadata": {},
     "output_type": "display_data"
    }
   ],
   "source": [
    "# Load all profiler sessions\n",
    "complete_data_set = DataSet(ProfilerSession.load_all(database))\n",
    "\n",
    "# Visualize the profiler session data\n",
    "complete_data_set.table_plot.plot()"
   ]
  },
  {
   "cell_type": "markdown",
   "metadata": {},
   "source": [
    "## Visualize a Profiler Session\n",
    "\n",
    "Define the ID of the test you wish to visualize below."
   ]
  },
  {
   "cell_type": "code",
   "execution_count": 4,
   "metadata": {
    "pycharm": {
     "name": "#%%\n"
    }
   },
   "outputs": [],
   "source": [
    "#profiler_session_id = complete_data_set.data[-1].id\n",
    "profiler_session_id = 5\n",
    "data_set = DataSet([profiler_session for profiler_session in complete_data_set.data if profiler_session.id == profiler_session_id])"
   ]
  },
  {
   "cell_type": "markdown",
   "metadata": {},
   "source": [
    "### Summary\n",
    "\n",
    "These are the specifications of the system with which the profiler session was performed."
   ]
  },
  {
   "cell_type": "code",
   "execution_count": 5,
   "metadata": {
    "pycharm": {
     "name": "#%%\n"
    }
   },
   "outputs": [
    {
     "name": "stdout",
     "output_type": "stream",
     "text": [
      "{'GPUs': [{'Brand': 'Tesla',\n",
      "           'Compute Capability Major Version': 7,\n",
      "           'Compute Capability Minor Version': 0,\n",
      "           'Default Auto Boosted Clocks Enabled': None,\n",
      "           'Default Power Limit (W)': '250.0',\n",
      "           'Memory Size (B)': '16.9 GB',\n",
      "           'Name': 'Tesla V100-PCIE-16GB',\n",
      "           'PCIe Link Width (B)': '16 Bytes',\n",
      "           'Supported Core Clock Rates (Hz)': [''],\n",
      "           'Supported Memory Clock Rates (Hz)': ['877.0']},\n",
      "          {'Brand': 'Tesla',\n",
      "           'Compute Capability Major Version': 7,\n",
      "           'Compute Capability Minor Version': 0,\n",
      "           'Default Auto Boosted Clocks Enabled': None,\n",
      "           'Default Power Limit (W)': '250.0',\n",
      "           'Memory Size (B)': '16.9 GB',\n",
      "           'Name': 'Tesla V100-PCIE-16GB',\n",
      "           'PCIe Link Width (B)': '16 Bytes',\n",
      "           'Supported Core Clock Rates (Hz)': [''],\n",
      "           'Supported Memory Clock Rates (Hz)': ['877.0']}],\n",
      " 'Label': 'Fixed Frequency Matrix Multiply'}\n"
     ]
    }
   ],
   "source": [
    "pprint.pprint(data_set.data[0].summary)"
   ]
  },
  {
   "cell_type": "markdown",
   "metadata": {},
   "source": [
    "### Profile\n",
    "\n",
    "This is the profile with which the profiler session was performed."
   ]
  },
  {
   "cell_type": "code",
   "execution_count": 6,
   "metadata": {
    "pycharm": {
     "name": "#%%\n"
    }
   },
   "outputs": [
    {
     "name": "stdout",
     "output_type": "stream",
     "text": [
      "{'core': 0,\n",
      " 'gpu': 0,\n",
      " 'iterations': 3,\n",
      " 'matrixAHeight': 4096,\n",
      " 'matrixAWidth': 4096,\n",
      " 'matrixBHeight': 4096,\n",
      " 'matrixBWidth': 4096,\n",
      " 'maximumCPUClockRate': 1800500000.0,\n",
      " 'maximumGPUClockRate': 690000500.0,\n",
      " 'minimumCPUClockRate': 1800500000.0,\n",
      " 'minimumGPUClockRate': 690000500.0}\n"
     ]
    }
   ],
   "source": [
    "pprint.pprint(data_set.data[0].profile)"
   ]
  },
  {
   "cell_type": "markdown",
   "metadata": {},
   "source": [
    "### Overview\n",
    "\n",
    "The graph image below summarizes the graphs above."
   ]
  },
  {
   "cell_type": "code",
   "execution_count": 7,
   "metadata": {
    "pycharm": {
     "name": "#%%\n"
    }
   },
   "outputs": [],
   "source": [
    "# data_set.data[0].overview_multi_plot.plot()"
   ]
  },
  {
   "cell_type": "markdown",
   "metadata": {},
   "source": [
    "### Switches\n",
    "\n",
    "The graphs below shows the status of configuration switches over time."
   ]
  },
  {
   "cell_type": "code",
   "execution_count": 8,
   "metadata": {
    "pycharm": {
     "name": "#%%\n"
    }
   },
   "outputs": [
    {
     "data": {
      "application/vnd.jupyter.widget-view+json": {
       "model_id": "d7d628627d3549d9a6a878ae07ed2d5f",
       "version_major": 2,
       "version_minor": 0
      },
      "text/plain": [
       "Canvas(toolbar=Toolbar(toolitems=[('Home', 'Reset original view', 'home', 'home'), ('Back', 'Back to previous …"
      ]
     },
     "metadata": {},
     "output_type": "display_data"
    },
    {
     "name": "stderr",
     "output_type": "stream",
     "text": [
      "No handles with labels found to put in legend.\n"
     ]
    }
   ],
   "source": [
    "data_set.data[0].switches_timeseries_plot.plot()"
   ]
  },
  {
   "cell_type": "markdown",
   "metadata": {},
   "source": [
    "### Timespan\n",
    "\n",
    "The graphs below shows the time spent on different types of operations over time."
   ]
  },
  {
   "cell_type": "code",
   "execution_count": 9,
   "metadata": {},
   "outputs": [
    {
     "data": {
      "application/vnd.jupyter.widget-view+json": {
       "model_id": "bae41e20a8b34335a1910170f40cea71",
       "version_major": 2,
       "version_minor": 0
      },
      "text/plain": [
       "Canvas(toolbar=Toolbar(toolitems=[('Home', 'Reset original view', 'home', 'home'), ('Back', 'Back to previous …"
      ]
     },
     "metadata": {},
     "output_type": "display_data"
    }
   ],
   "source": [
    "timespan_timeseries_plot = data_set.data[0].timespan_timeseries_plot\n",
    "timespan_timeseries_plot.plot_series = { key: timespan_timeseries_plot.plot_series[key] for key in timespan_timeseries_plot.plot_series if (key.startswith(\"Runtime\") or key.startswith(\"EAR\") or key.startswith(\"CPU 0 Core 0\"))}\n",
    "timespan_timeseries_plot.plot()"
   ]
  },
  {
   "cell_type": "markdown",
   "metadata": {},
   "source": [
    "### Clock Rates\n",
    "\n",
    "The graph below shows the clock rate over time."
   ]
  },
  {
   "cell_type": "code",
   "execution_count": 21,
   "metadata": {
    "pycharm": {
     "name": "#%%\n"
    }
   },
   "outputs": [
    {
     "data": {
      "application/vnd.jupyter.widget-view+json": {
       "model_id": "f47de40193414d8880accb676e2a70bd",
       "version_major": 2,
       "version_minor": 0
      },
      "text/plain": [
       "Canvas(toolbar=Toolbar(toolitems=[('Home', 'Reset original view', 'home', 'home'), ('Back', 'Back to previous …"
      ]
     },
     "metadata": {},
     "output_type": "display_data"
    }
   ],
   "source": [
    "clock_rate_timeseries_plot = data_set.data[0].clock_rate_timeseries_plot(plot_limits=False)\n",
    "clock_rate_timeseries_plot.plot_series = { key: clock_rate_timeseries_plot.plot_series[key] for key in clock_rate_timeseries_plot.plot_series if (key.startswith(\"EAR\") or key.startswith(\"CPU 0\") and (not key.startswith(\"CPU 0 Core\") or key.startswith(\"CPU 0 Core 0\"))) or key.startswith(\"GPU 0\")}\n",
    "clock_rate_timeseries_plot.plot()"
   ]
  },
  {
   "cell_type": "markdown",
   "metadata": {},
   "source": [
    "### Utilization Rates\n",
    "\n",
    "The graph below shows the utilization rates over time."
   ]
  },
  {
   "cell_type": "code",
   "execution_count": 11,
   "metadata": {
    "pycharm": {
     "name": "#%%\n"
    }
   },
   "outputs": [
    {
     "data": {
      "application/vnd.jupyter.widget-view+json": {
       "model_id": "0ffe2c545cf84056992e228e1458e183",
       "version_major": 2,
       "version_minor": 0
      },
      "text/plain": [
       "Canvas(toolbar=Toolbar(toolitems=[('Home', 'Reset original view', 'home', 'home'), ('Back', 'Back to previous …"
      ]
     },
     "metadata": {},
     "output_type": "display_data"
    }
   ],
   "source": [
    "utilization_rate_timeseries_plot = data_set.data[0].utilization_rate_timeseries_plot\n",
    "utilization_rate_timeseries_plot.plot_series = { key: utilization_rate_timeseries_plot.plot_series[key] for key in utilization_rate_timeseries_plot.plot_series if (key.startswith(\"CPU 0\") and (not key.startswith(\"CPU 0 Core\") or key.startswith(\"CPU 0 Core 0\"))) or key.startswith(\"GPU 0\") or key.startswith(\"Node\")}\n",
    "utilization_rate_timeseries_plot.plot()"
   ]
  },
  {
   "cell_type": "markdown",
   "metadata": {},
   "source": [
    "### Instructions Per Cycle\n",
    "\n",
    "The graph below shows the instructions per cycle over time."
   ]
  },
  {
   "cell_type": "code",
   "execution_count": 12,
   "metadata": {
    "pycharm": {
     "name": "#%%\n"
    }
   },
   "outputs": [
    {
     "data": {
      "application/vnd.jupyter.widget-view+json": {
       "model_id": "d02efe88c87347d6a454a9148044ef73",
       "version_major": 2,
       "version_minor": 0
      },
      "text/plain": [
       "Canvas(toolbar=Toolbar(toolitems=[('Home', 'Reset original view', 'home', 'home'), ('Back', 'Back to previous …"
      ]
     },
     "metadata": {},
     "output_type": "display_data"
    }
   ],
   "source": [
    "instructions_per_cycle_timeseries_plot = data_set.data[0].instructions_per_cycle_timeseries_plot\n",
    "instructions_per_cycle_timeseries_plot.plot_series = { key: instructions_per_cycle_timeseries_plot.plot_series[key] for key in instructions_per_cycle_timeseries_plot.plot_series if key.startswith(\"GPU 0\")}\n",
    "instructions_per_cycle_timeseries_plot.plot()"
   ]
  },
  {
   "cell_type": "markdown",
   "metadata": {},
   "source": [
    "### Power Consumption\n",
    "\n",
    "The graphs below shows the power consumption over time."
   ]
  },
  {
   "cell_type": "code",
   "execution_count": 13,
   "metadata": {
    "pycharm": {
     "name": "#%%\n"
    }
   },
   "outputs": [
    {
     "data": {
      "application/vnd.jupyter.widget-view+json": {
       "model_id": "5f293b5267554455ac9dd4d3a6f77a28",
       "version_major": 2,
       "version_minor": 0
      },
      "text/plain": [
       "Canvas(toolbar=Toolbar(toolitems=[('Home', 'Reset original view', 'home', 'home'), ('Back', 'Back to previous …"
      ]
     },
     "metadata": {},
     "output_type": "display_data"
    }
   ],
   "source": [
    "power_consumption_timeseries_plot = data_set.data[0].power_consumption_timeseries_plot(plot_limits=False)\n",
    "#power_consumption_timeseries_plot.plot_series = { key: power_consumption_timeseries_plot.plot_series[key] for key in power_consumption_timeseries_plot.plot_series if (key.startswith(\"CPU 1\") or key.startswith(\"EAR\") or key.startswith(\"CPU 0\") and (not key.startswith(\"CPU 0 Core\") or key.startswith(\"CPU 0 Core 0\"))) or key.startswith(\"GPU 0\") or key.startswith(\"Node\")}\n",
    "power_consumption_timeseries_plot.plot_series = { key: power_consumption_timeseries_plot.plot_series[key] for key in power_consumption_timeseries_plot.plot_series if (key.startswith(\"EAR\") or key.startswith(\"CPU 0\") and (not key.startswith(\"CPU 0 Core\") or key.startswith(\"CPU 0 Core 0\"))) or key.startswith(\"GPU 0\") or key.startswith(\"Node\")}\n",
    "power_consumption_timeseries_plot.plot()"
   ]
  },
  {
   "cell_type": "markdown",
   "metadata": {},
   "source": [
    "### Energy Consumption\n",
    "\n",
    "The graphs below shows the total energy consumption over time."
   ]
  },
  {
   "cell_type": "code",
   "execution_count": 14,
   "metadata": {
    "pycharm": {
     "name": "#%%\n"
    }
   },
   "outputs": [
    {
     "data": {
      "application/vnd.jupyter.widget-view+json": {
       "model_id": "a73748d1a91a493eade52c19d423e9af",
       "version_major": 2,
       "version_minor": 0
      },
      "text/plain": [
       "Canvas(toolbar=Toolbar(toolitems=[('Home', 'Reset original view', 'home', 'home'), ('Back', 'Back to previous …"
      ]
     },
     "metadata": {},
     "output_type": "display_data"
    },
    {
     "data": {
      "application/vnd.jupyter.widget-view+json": {
       "model_id": "85de7b602026446496e0b6deb696441c",
       "version_major": 2,
       "version_minor": 0
      },
      "text/plain": [
       "Canvas(toolbar=Toolbar(toolitems=[('Home', 'Reset original view', 'home', 'home'), ('Back', 'Back to previous …"
      ]
     },
     "metadata": {},
     "output_type": "display_data"
    }
   ],
   "source": [
    "# Plot in Joules\n",
    "energy_consumption_plot_j = data_set.data[0].energy_consumption_timeseries_plot()\n",
    "energy_consumption_plot_j.plot_series = { key: energy_consumption_plot_j.plot_series[key] for key in energy_consumption_plot_j.plot_series if (key.startswith(\"EAR\") or key.startswith(\"CPU 0\") and (not key.startswith(\"CPU 0 Core\") or key.startswith(\"CPU 0 Core 0\"))) or key.startswith(\"GPU 0\") or key.startswith(\"Node\")}\n",
    "energy_consumption_plot_j.plot()\n",
    "\n",
    "# Plot in Watt Hours\n",
    "energy_consumption_plot_wh = data_set.data[0].energy_consumption_timeseries_plot(unit_string=\"Wh\", modifier=Plot.j_to_wh)\n",
    "energy_consumption_plot_wh.plot_series = { key: energy_consumption_plot_wh.plot_series[key] for key in energy_consumption_plot_wh.plot_series if (key.startswith(\"EAR\") or key.startswith(\"CPU 0\") and (not key.startswith(\"CPU 0 Core\") or key.startswith(\"CPU 0 Core 0\"))) or key.startswith(\"GPU 0\") or key.startswith(\"Node\")}\n",
    "energy_consumption_plot_wh.plot()"
   ]
  },
  {
   "cell_type": "markdown",
   "metadata": {},
   "source": [
    "   ### Events\n",
    "\n",
    "The graph below shows the events over time."
   ]
  },
  {
   "cell_type": "code",
   "execution_count": 15,
   "metadata": {
    "pycharm": {
     "name": "#%%\n"
    }
   },
   "outputs": [
    {
     "data": {
      "application/vnd.jupyter.widget-view+json": {
       "model_id": "566f2a30e95841c5829b6ad995718d31",
       "version_major": 2,
       "version_minor": 0
      },
      "text/plain": [
       "Canvas(toolbar=Toolbar(toolitems=[('Home', 'Reset original view', 'home', 'home'), ('Back', 'Back to previous …"
      ]
     },
     "metadata": {},
     "output_type": "display_data"
    },
    {
     "data": {
      "application/vnd.jupyter.widget-view+json": {
       "model_id": "0f33a24e21624b52971c7ac8dade1aa6",
       "version_major": 2,
       "version_minor": 0
      },
      "text/plain": [
       "Canvas(toolbar=Toolbar(toolitems=[('Home', 'Reset original view', 'home', 'home'), ('Back', 'Back to previous …"
      ]
     },
     "metadata": {},
     "output_type": "display_data"
    }
   ],
   "source": [
    "for events_plot in data_set.data[0].events_event_plot()[:1]:\n",
    "    events_plot.plot()"
   ]
  },
  {
   "cell_type": "markdown",
   "metadata": {},
   "source": [
    "### Fan Speed\n",
    "\n",
    "The graphs below shows the fan speed over time."
   ]
  },
  {
   "cell_type": "code",
   "execution_count": 16,
   "metadata": {
    "pycharm": {
     "name": "#%%\n"
    }
   },
   "outputs": [
    {
     "data": {
      "application/vnd.jupyter.widget-view+json": {
       "model_id": "d03442f775ca4acfbfbe2daa4bf55c95",
       "version_major": 2,
       "version_minor": 0
      },
      "text/plain": [
       "Canvas(toolbar=Toolbar(toolitems=[('Home', 'Reset original view', 'home', 'home'), ('Back', 'Back to previous …"
      ]
     },
     "metadata": {},
     "output_type": "display_data"
    },
    {
     "name": "stderr",
     "output_type": "stream",
     "text": [
      "No handles with labels found to put in legend.\n"
     ]
    }
   ],
   "source": [
    "data_set.data[0].fan_speed_timeseries_plot.plot()"
   ]
  },
  {
   "cell_type": "markdown",
   "metadata": {},
   "source": [
    "### Memory Consumption\n",
    "\n",
    "The graphs below shows the memory consumption over time."
   ]
  },
  {
   "cell_type": "code",
   "execution_count": 17,
   "metadata": {
    "pycharm": {
     "name": "#%%\n"
    }
   },
   "outputs": [
    {
     "data": {
      "application/vnd.jupyter.widget-view+json": {
       "model_id": "6cc61a21fb984ad986eb8f7e7de7d6da",
       "version_major": 2,
       "version_minor": 0
      },
      "text/plain": [
       "Canvas(toolbar=Toolbar(toolitems=[('Home', 'Reset original view', 'home', 'home'), ('Back', 'Back to previous …"
      ]
     },
     "metadata": {},
     "output_type": "display_data"
    }
   ],
   "source": [
    "data_set.data[0].memory_consumption_timeseries_plot(plot_sizes=False).plot()"
   ]
  },
  {
   "cell_type": "markdown",
   "metadata": {},
   "source": [
    "### Processes\n",
    "\n",
    "The graphs below shows the amount of processes over time."
   ]
  },
  {
   "cell_type": "code",
   "execution_count": 18,
   "metadata": {
    "pycharm": {
     "name": "#%%\n"
    }
   },
   "outputs": [
    {
     "data": {
      "application/vnd.jupyter.widget-view+json": {
       "model_id": "2280975cda6e44479fa786e65b705fee",
       "version_major": 2,
       "version_minor": 0
      },
      "text/plain": [
       "Canvas(toolbar=Toolbar(toolitems=[('Home', 'Reset original view', 'home', 'home'), ('Back', 'Back to previous …"
      ]
     },
     "metadata": {},
     "output_type": "display_data"
    }
   ],
   "source": [
    "data_set.data[0].processes_timeseries_plot.plot()"
   ]
  },
  {
   "cell_type": "markdown",
   "metadata": {},
   "source": [
    "### Temperature\n",
    "\n",
    "The graphs below shows the temperature over time."
   ]
  },
  {
   "cell_type": "code",
   "execution_count": 19,
   "metadata": {
    "pycharm": {
     "name": "#%%\n"
    }
   },
   "outputs": [
    {
     "data": {
      "application/vnd.jupyter.widget-view+json": {
       "model_id": "b7ec993ced4f46f5bfbdf8e539f5a36d",
       "version_major": 2,
       "version_minor": 0
      },
      "text/plain": [
       "Canvas(toolbar=Toolbar(toolitems=[('Home', 'Reset original view', 'home', 'home'), ('Back', 'Back to previous …"
      ]
     },
     "metadata": {},
     "output_type": "display_data"
    }
   ],
   "source": [
    "temperature_timeseries_plot = data_set.data[0].temperature_timeseries_plot\n",
    "temperature_timeseries_plot.plot_series = { key: temperature_timeseries_plot.plot_series[key] for key in temperature_timeseries_plot.plot_series if (key.startswith(\"CPU 0\") and (not key.startswith(\"CPU 0 Core\") or key.startswith(\"CPU 0 Core 0\"))) or key.startswith(\"GPU 0\") or key.startswith(\"Node\")}\n",
    "temperature_timeseries_plot.plot()"
   ]
  },
  {
   "cell_type": "markdown",
   "metadata": {},
   "source": [
    "### Correlations\n",
    "\n",
    "The graphs below shows the Pearson correlation heatmap for each performance variable."
   ]
  },
  {
   "cell_type": "code",
   "execution_count": 20,
   "metadata": {
    "pycharm": {
     "name": "#%%\n"
    }
   },
   "outputs": [],
   "source": [
    "#data_set.data[0].monitor_data_correlations_plot.plot()\n"
   ]
  }
 ],
 "metadata": {
  "kernelspec": {
   "display_name": "Python 3",
   "language": "python",
   "name": "python3"
  },
  "language_info": {
   "codemirror_mode": {
    "name": "ipython",
    "version": 3
   },
   "file_extension": ".py",
   "mimetype": "text/x-python",
   "name": "python",
   "nbconvert_exporter": "python",
   "pygments_lexer": "ipython3",
   "version": "3.8.5"
  },
  "widgets": {
   "application/vnd.jupyter.widget-state+json": {
    "state": {
     "07af3f93de1a4de1aa6414782d3612c0": {
      "model_module": "jupyter-matplotlib",
      "model_module_version": "^0.7.4",
      "model_name": "ToolbarModel",
      "state": {
       "layout": "IPY_MODEL_5f6316e70c394c668e26e124e48d99a5",
       "toolitems": [
        [
         "Home",
         "Reset original view",
         "home",
         "home"
        ],
        [
         "Back",
         "Back to previous view",
         "arrow-left",
         "back"
        ],
        [
         "Forward",
         "Forward to next view",
         "arrow-right",
         "forward"
        ],
        [
         "Pan",
         "Left button pans, Right button zooms\nx/y fixes axis, CTRL fixes aspect",
         "arrows",
         "pan"
        ],
        [
         "Zoom",
         "Zoom to rectangle\nx/y fixes axis, CTRL fixes aspect",
         "square-o",
         "zoom"
        ],
        [
         "Download",
         "Download plot",
         "floppy-o",
         "save_figure"
        ]
       ]
      }
     },
     "0ac2771003db45bfa62debc6c864d5a6": {
      "model_module": "@jupyter-widgets/base",
      "model_module_version": "1.2.0",
      "model_name": "LayoutModel",
      "state": {}
     },
     "0f33a24e21624b52971c7ac8dade1aa6": {
      "model_module": "jupyter-matplotlib",
      "model_module_version": "^0.7.4",
      "model_name": "MPLCanvasModel",
      "state": {
       "_cursor": "default",
       "_figure_label": "Figure 10",
       "_height": 500,
       "_width": 1500,
       "layout": "IPY_MODEL_a4d8c286721a4d0a98ececf74084ebb6",
       "toolbar": "IPY_MODEL_bbff2bac780048ea88bbb623d87a32f5",
       "toolbar_position": "left"
      }
     },
     "0ffe2c545cf84056992e228e1458e183": {
      "model_module": "jupyter-matplotlib",
      "model_module_version": "^0.7.4",
      "model_name": "MPLCanvasModel",
      "state": {
       "_cursor": "default",
       "_figure_label": "Figure 4",
       "_height": 500,
       "_image_mode": "diff",
       "_message": "x=04:40:40 y=2.0",
       "_width": 1500,
       "layout": "IPY_MODEL_d6577dc7e59a42be9e207aa5abd8d11d",
       "toolbar": "IPY_MODEL_d9ced86dbdd341e0acb3257d6d885c04",
       "toolbar_position": "left"
      }
     },
     "14b77502c9c348c79a39b66fa374cb12": {
      "model_module": "jupyter-matplotlib",
      "model_module_version": "^0.7.4",
      "model_name": "ToolbarModel",
      "state": {
       "layout": "IPY_MODEL_e9cba952c3e24094b65683254f207772",
       "toolitems": [
        [
         "Home",
         "Reset original view",
         "home",
         "home"
        ],
        [
         "Back",
         "Back to previous view",
         "arrow-left",
         "back"
        ],
        [
         "Forward",
         "Forward to next view",
         "arrow-right",
         "forward"
        ],
        [
         "Pan",
         "Left button pans, Right button zooms\nx/y fixes axis, CTRL fixes aspect",
         "arrows",
         "pan"
        ],
        [
         "Zoom",
         "Zoom to rectangle\nx/y fixes axis, CTRL fixes aspect",
         "square-o",
         "zoom"
        ],
        [
         "Download",
         "Download plot",
         "floppy-o",
         "save_figure"
        ]
       ]
      }
     },
     "14e06a2ab1974553b2becf53ed9d1cf7": {
      "model_module": "@jupyter-widgets/base",
      "model_module_version": "1.2.0",
      "model_name": "LayoutModel",
      "state": {}
     },
     "226c4e1e2c86408f97d2afbaefe686be": {
      "model_module": "@jupyter-widgets/base",
      "model_module_version": "1.2.0",
      "model_name": "LayoutModel",
      "state": {}
     },
     "2280975cda6e44479fa786e65b705fee": {
      "model_module": "jupyter-matplotlib",
      "model_module_version": "^0.7.4",
      "model_name": "MPLCanvasModel",
      "state": {
       "_cursor": "default",
       "_figure_label": "Figure 13",
       "_height": 500,
       "_width": 1500,
       "layout": "IPY_MODEL_fc4722b56d734863ac0ef2c67941006d",
       "toolbar": "IPY_MODEL_aceb804802b7455d8d9d4ea7ba3fca43",
       "toolbar_position": "left"
      }
     },
     "2e35ba84b1854083bb7f27c8ea429186": {
      "model_module": "@jupyter-widgets/base",
      "model_module_version": "1.2.0",
      "model_name": "LayoutModel",
      "state": {}
     },
     "2fc87a5516f34e509d1a3a258d0f917e": {
      "model_module": "@jupyter-widgets/base",
      "model_module_version": "1.2.0",
      "model_name": "LayoutModel",
      "state": {}
     },
     "3962698dac8245bdb693f5bce01da940": {
      "model_module": "@jupyter-widgets/base",
      "model_module_version": "1.2.0",
      "model_name": "LayoutModel",
      "state": {}
     },
     "3da460486d7448de9cfebdc31b0a031a": {
      "model_module": "@jupyter-widgets/base",
      "model_module_version": "1.2.0",
      "model_name": "LayoutModel",
      "state": {}
     },
     "3de7457c710e40e9a3f72d14c40f7c57": {
      "model_module": "@jupyter-widgets/base",
      "model_module_version": "1.2.0",
      "model_name": "LayoutModel",
      "state": {}
     },
     "3e8f34271b444f0d8c250170b980d7d2": {
      "model_module": "jupyter-matplotlib",
      "model_module_version": "^0.7.4",
      "model_name": "ToolbarModel",
      "state": {
       "layout": "IPY_MODEL_3962698dac8245bdb693f5bce01da940",
       "toolitems": [
        [
         "Home",
         "Reset original view",
         "home",
         "home"
        ],
        [
         "Back",
         "Back to previous view",
         "arrow-left",
         "back"
        ],
        [
         "Forward",
         "Forward to next view",
         "arrow-right",
         "forward"
        ],
        [
         "Pan",
         "Left button pans, Right button zooms\nx/y fixes axis, CTRL fixes aspect",
         "arrows",
         "pan"
        ],
        [
         "Zoom",
         "Zoom to rectangle\nx/y fixes axis, CTRL fixes aspect",
         "square-o",
         "zoom"
        ],
        [
         "Download",
         "Download plot",
         "floppy-o",
         "save_figure"
        ]
       ]
      }
     },
     "3ec968cde67641e6ae8d7cd7bc3b1c80": {
      "model_module": "jupyter-matplotlib",
      "model_module_version": "^0.7.4",
      "model_name": "ToolbarModel",
      "state": {
       "_current_action": "zoom",
       "layout": "IPY_MODEL_0ac2771003db45bfa62debc6c864d5a6",
       "toolitems": [
        [
         "Home",
         "Reset original view",
         "home",
         "home"
        ],
        [
         "Back",
         "Back to previous view",
         "arrow-left",
         "back"
        ],
        [
         "Forward",
         "Forward to next view",
         "arrow-right",
         "forward"
        ],
        [
         "Pan",
         "Left button pans, Right button zooms\nx/y fixes axis, CTRL fixes aspect",
         "arrows",
         "pan"
        ],
        [
         "Zoom",
         "Zoom to rectangle\nx/y fixes axis, CTRL fixes aspect",
         "square-o",
         "zoom"
        ],
        [
         "Download",
         "Download plot",
         "floppy-o",
         "save_figure"
        ]
       ]
      }
     },
     "4f8030ea35e64f2c9c42bf640e157ef2": {
      "model_module": "@jupyter-widgets/base",
      "model_module_version": "1.2.0",
      "model_name": "LayoutModel",
      "state": {}
     },
     "566f2a30e95841c5829b6ad995718d31": {
      "model_module": "jupyter-matplotlib",
      "model_module_version": "^0.7.4",
      "model_name": "MPLCanvasModel",
      "state": {
       "_cursor": "default",
       "_figure_label": "Figure 9",
       "_height": 500,
       "_image_mode": "diff",
       "_width": 1500,
       "layout": "IPY_MODEL_f20aac976b44413b9f62d9f1755eb55f",
       "toolbar": "IPY_MODEL_14b77502c9c348c79a39b66fa374cb12",
       "toolbar_position": "left"
      }
     },
     "5f293b5267554455ac9dd4d3a6f77a28": {
      "model_module": "jupyter-matplotlib",
      "model_module_version": "^0.7.4",
      "model_name": "MPLCanvasModel",
      "state": {
       "_cursor": "default",
       "_figure_label": "Figure 6",
       "_height": 500,
       "_image_mode": "diff",
       "_message": "x=04:41:51 y=99.3",
       "_width": 1500,
       "layout": "IPY_MODEL_d81840ced1ea44fa8f59babcb901daa3",
       "toolbar": "IPY_MODEL_7a32f6a7be5e49c58f2e4f26c9158e84",
       "toolbar_position": "left"
      }
     },
     "5f6316e70c394c668e26e124e48d99a5": {
      "model_module": "@jupyter-widgets/base",
      "model_module_version": "1.2.0",
      "model_name": "LayoutModel",
      "state": {}
     },
     "6cc61a21fb984ad986eb8f7e7de7d6da": {
      "model_module": "jupyter-matplotlib",
      "model_module_version": "^0.7.4",
      "model_name": "MPLCanvasModel",
      "state": {
       "_cursor": "default",
       "_figure_label": "Figure 12",
       "_height": 500,
       "_width": 1500,
       "layout": "IPY_MODEL_2fc87a5516f34e509d1a3a258d0f917e",
       "toolbar": "IPY_MODEL_7491ba358a454815a7fce81919004549",
       "toolbar_position": "left"
      }
     },
     "7491ba358a454815a7fce81919004549": {
      "model_module": "jupyter-matplotlib",
      "model_module_version": "^0.7.4",
      "model_name": "ToolbarModel",
      "state": {
       "layout": "IPY_MODEL_3da460486d7448de9cfebdc31b0a031a",
       "toolitems": [
        [
         "Home",
         "Reset original view",
         "home",
         "home"
        ],
        [
         "Back",
         "Back to previous view",
         "arrow-left",
         "back"
        ],
        [
         "Forward",
         "Forward to next view",
         "arrow-right",
         "forward"
        ],
        [
         "Pan",
         "Left button pans, Right button zooms\nx/y fixes axis, CTRL fixes aspect",
         "arrows",
         "pan"
        ],
        [
         "Zoom",
         "Zoom to rectangle\nx/y fixes axis, CTRL fixes aspect",
         "square-o",
         "zoom"
        ],
        [
         "Download",
         "Download plot",
         "floppy-o",
         "save_figure"
        ]
       ]
      }
     },
     "760ca7317c94423590dac2b9a9686a24": {
      "model_module": "jupyter-matplotlib",
      "model_module_version": "^0.7.4",
      "model_name": "ToolbarModel",
      "state": {
       "layout": "IPY_MODEL_dfb87e8896ef434b8406e620e30c5269",
       "toolitems": [
        [
         "Home",
         "Reset original view",
         "home",
         "home"
        ],
        [
         "Back",
         "Back to previous view",
         "arrow-left",
         "back"
        ],
        [
         "Forward",
         "Forward to next view",
         "arrow-right",
         "forward"
        ],
        [
         "Pan",
         "Left button pans, Right button zooms\nx/y fixes axis, CTRL fixes aspect",
         "arrows",
         "pan"
        ],
        [
         "Zoom",
         "Zoom to rectangle\nx/y fixes axis, CTRL fixes aspect",
         "square-o",
         "zoom"
        ],
        [
         "Download",
         "Download plot",
         "floppy-o",
         "save_figure"
        ]
       ]
      }
     },
     "7a32f6a7be5e49c58f2e4f26c9158e84": {
      "model_module": "jupyter-matplotlib",
      "model_module_version": "^0.7.4",
      "model_name": "ToolbarModel",
      "state": {
       "layout": "IPY_MODEL_2e35ba84b1854083bb7f27c8ea429186",
       "toolitems": [
        [
         "Home",
         "Reset original view",
         "home",
         "home"
        ],
        [
         "Back",
         "Back to previous view",
         "arrow-left",
         "back"
        ],
        [
         "Forward",
         "Forward to next view",
         "arrow-right",
         "forward"
        ],
        [
         "Pan",
         "Left button pans, Right button zooms\nx/y fixes axis, CTRL fixes aspect",
         "arrows",
         "pan"
        ],
        [
         "Zoom",
         "Zoom to rectangle\nx/y fixes axis, CTRL fixes aspect",
         "square-o",
         "zoom"
        ],
        [
         "Download",
         "Download plot",
         "floppy-o",
         "save_figure"
        ]
       ]
      }
     },
     "7e05904d48934f61ad712d4d1d263284": {
      "model_module": "@jupyter-widgets/base",
      "model_module_version": "1.2.0",
      "model_name": "LayoutModel",
      "state": {}
     },
     "83bf9245c2574e31a964f3d5fa5525be": {
      "model_module": "@jupyter-widgets/base",
      "model_module_version": "1.2.0",
      "model_name": "LayoutModel",
      "state": {}
     },
     "840ab512d063455ca5bbb17d82a8e4e1": {
      "model_module": "jupyter-matplotlib",
      "model_module_version": "^0.7.4",
      "model_name": "MPLCanvasModel",
      "state": {
       "_cursor": "default",
       "_figure_label": "Figure 3",
       "_height": 500,
       "_image_mode": "diff",
       "_rubberband_y": 500,
       "_width": 1500,
       "layout": "IPY_MODEL_adc730fc55a845a9bbc7283bc3a7ada8",
       "toolbar": "IPY_MODEL_760ca7317c94423590dac2b9a9686a24",
       "toolbar_position": "left"
      }
     },
     "85de7b602026446496e0b6deb696441c": {
      "model_module": "jupyter-matplotlib",
      "model_module_version": "^0.7.4",
      "model_name": "MPLCanvasModel",
      "state": {
       "_cursor": "default",
       "_figure_label": "Figure 8",
       "_height": 500,
       "_image_mode": "diff",
       "_width": 1500,
       "layout": "IPY_MODEL_f0908a9ceac54524990f80e0508e8a1f",
       "toolbar": "IPY_MODEL_c1f324a1031b48369c3ec9ef2bf506e1",
       "toolbar_position": "left"
      }
     },
     "970b598f8f254e9fa144652cd8184ec5": {
      "model_module": "@jupyter-widgets/base",
      "model_module_version": "1.2.0",
      "model_name": "LayoutModel",
      "state": {}
     },
     "a35d6e2a087f479db1220315fd6832c9": {
      "model_module": "@jupyter-widgets/base",
      "model_module_version": "1.2.0",
      "model_name": "LayoutModel",
      "state": {}
     },
     "a4d8c286721a4d0a98ececf74084ebb6": {
      "model_module": "@jupyter-widgets/base",
      "model_module_version": "1.2.0",
      "model_name": "LayoutModel",
      "state": {}
     },
     "a73748d1a91a493eade52c19d423e9af": {
      "model_module": "jupyter-matplotlib",
      "model_module_version": "^0.7.4",
      "model_name": "MPLCanvasModel",
      "state": {
       "_cursor": "default",
       "_figure_label": "Figure 7",
       "_height": 500,
       "_image_mode": "diff",
       "_width": 1500,
       "layout": "IPY_MODEL_a96f293f4900411fa8a2e5f00529a5d7",
       "toolbar": "IPY_MODEL_fe1fcef54b5249fca8e08e39ae1854b9",
       "toolbar_position": "left"
      }
     },
     "a96f293f4900411fa8a2e5f00529a5d7": {
      "model_module": "@jupyter-widgets/base",
      "model_module_version": "1.2.0",
      "model_name": "LayoutModel",
      "state": {}
     },
     "aceb804802b7455d8d9d4ea7ba3fca43": {
      "model_module": "jupyter-matplotlib",
      "model_module_version": "^0.7.4",
      "model_name": "ToolbarModel",
      "state": {
       "layout": "IPY_MODEL_d1545a33a6d24f06a756bbec6bfee57d",
       "toolitems": [
        [
         "Home",
         "Reset original view",
         "home",
         "home"
        ],
        [
         "Back",
         "Back to previous view",
         "arrow-left",
         "back"
        ],
        [
         "Forward",
         "Forward to next view",
         "arrow-right",
         "forward"
        ],
        [
         "Pan",
         "Left button pans, Right button zooms\nx/y fixes axis, CTRL fixes aspect",
         "arrows",
         "pan"
        ],
        [
         "Zoom",
         "Zoom to rectangle\nx/y fixes axis, CTRL fixes aspect",
         "square-o",
         "zoom"
        ],
        [
         "Download",
         "Download plot",
         "floppy-o",
         "save_figure"
        ]
       ]
      }
     },
     "adc730fc55a845a9bbc7283bc3a7ada8": {
      "model_module": "@jupyter-widgets/base",
      "model_module_version": "1.2.0",
      "model_name": "LayoutModel",
      "state": {}
     },
     "b4238f4e2b8048cb8886eaea4391fb41": {
      "model_module": "jupyter-matplotlib",
      "model_module_version": "^0.7.4",
      "model_name": "ToolbarModel",
      "state": {
       "layout": "IPY_MODEL_da117174cd774264811b58314eb47ad6",
       "toolitems": [
        [
         "Home",
         "Reset original view",
         "home",
         "home"
        ],
        [
         "Back",
         "Back to previous view",
         "arrow-left",
         "back"
        ],
        [
         "Forward",
         "Forward to next view",
         "arrow-right",
         "forward"
        ],
        [
         "Pan",
         "Left button pans, Right button zooms\nx/y fixes axis, CTRL fixes aspect",
         "arrows",
         "pan"
        ],
        [
         "Zoom",
         "Zoom to rectangle\nx/y fixes axis, CTRL fixes aspect",
         "square-o",
         "zoom"
        ],
        [
         "Download",
         "Download plot",
         "floppy-o",
         "save_figure"
        ]
       ]
      }
     },
     "b7ec993ced4f46f5bfbdf8e539f5a36d": {
      "model_module": "jupyter-matplotlib",
      "model_module_version": "^0.7.4",
      "model_name": "MPLCanvasModel",
      "state": {
       "_cursor": "default",
       "_figure_label": "Figure 14",
       "_height": 500,
       "_width": 1500,
       "layout": "IPY_MODEL_a35d6e2a087f479db1220315fd6832c9",
       "toolbar": "IPY_MODEL_b4238f4e2b8048cb8886eaea4391fb41",
       "toolbar_position": "left"
      }
     },
     "bae41e20a8b34335a1910170f40cea71": {
      "model_module": "jupyter-matplotlib",
      "model_module_version": "^0.7.4",
      "model_name": "MPLCanvasModel",
      "state": {
       "_cursor": "default",
       "_figure_label": "Figure 2",
       "_height": 500,
       "_image_mode": "diff",
       "_message": "x=04:40:29 y=6.8",
       "_width": 1500,
       "layout": "IPY_MODEL_d293fdbe05504b5284aa228454c8c64e",
       "toolbar": "IPY_MODEL_3e8f34271b444f0d8c250170b980d7d2",
       "toolbar_position": "left"
      }
     },
     "bbff2bac780048ea88bbb623d87a32f5": {
      "model_module": "jupyter-matplotlib",
      "model_module_version": "^0.7.4",
      "model_name": "ToolbarModel",
      "state": {
       "layout": "IPY_MODEL_7e05904d48934f61ad712d4d1d263284",
       "toolitems": [
        [
         "Home",
         "Reset original view",
         "home",
         "home"
        ],
        [
         "Back",
         "Back to previous view",
         "arrow-left",
         "back"
        ],
        [
         "Forward",
         "Forward to next view",
         "arrow-right",
         "forward"
        ],
        [
         "Pan",
         "Left button pans, Right button zooms\nx/y fixes axis, CTRL fixes aspect",
         "arrows",
         "pan"
        ],
        [
         "Zoom",
         "Zoom to rectangle\nx/y fixes axis, CTRL fixes aspect",
         "square-o",
         "zoom"
        ],
        [
         "Download",
         "Download plot",
         "floppy-o",
         "save_figure"
        ]
       ]
      }
     },
     "be0ea98fc03245838d7fa1ee126e4a84": {
      "model_module": "@jupyter-widgets/base",
      "model_module_version": "1.2.0",
      "model_name": "LayoutModel",
      "state": {}
     },
     "c1f324a1031b48369c3ec9ef2bf506e1": {
      "model_module": "jupyter-matplotlib",
      "model_module_version": "^0.7.4",
      "model_name": "ToolbarModel",
      "state": {
       "layout": "IPY_MODEL_226c4e1e2c86408f97d2afbaefe686be",
       "toolitems": [
        [
         "Home",
         "Reset original view",
         "home",
         "home"
        ],
        [
         "Back",
         "Back to previous view",
         "arrow-left",
         "back"
        ],
        [
         "Forward",
         "Forward to next view",
         "arrow-right",
         "forward"
        ],
        [
         "Pan",
         "Left button pans, Right button zooms\nx/y fixes axis, CTRL fixes aspect",
         "arrows",
         "pan"
        ],
        [
         "Zoom",
         "Zoom to rectangle\nx/y fixes axis, CTRL fixes aspect",
         "square-o",
         "zoom"
        ],
        [
         "Download",
         "Download plot",
         "floppy-o",
         "save_figure"
        ]
       ]
      }
     },
     "d02efe88c87347d6a454a9148044ef73": {
      "model_module": "jupyter-matplotlib",
      "model_module_version": "^0.7.4",
      "model_name": "MPLCanvasModel",
      "state": {
       "_cursor": "default",
       "_figure_label": "Figure 5",
       "_height": 500,
       "_image_mode": "diff",
       "_message": "zoom rect",
       "_rubberband_y": 500,
       "_width": 1500,
       "layout": "IPY_MODEL_be0ea98fc03245838d7fa1ee126e4a84",
       "toolbar": "IPY_MODEL_3ec968cde67641e6ae8d7cd7bc3b1c80",
       "toolbar_position": "left"
      }
     },
     "d03442f775ca4acfbfbe2daa4bf55c95": {
      "model_module": "jupyter-matplotlib",
      "model_module_version": "^0.7.4",
      "model_name": "MPLCanvasModel",
      "state": {
       "_cursor": "default",
       "_figure_label": "Figure 11",
       "_height": 500,
       "_width": 1500,
       "layout": "IPY_MODEL_4f8030ea35e64f2c9c42bf640e157ef2",
       "toolbar": "IPY_MODEL_df186934cb184966a7bfe7029a09f9f8",
       "toolbar_position": "left"
      }
     },
     "d1545a33a6d24f06a756bbec6bfee57d": {
      "model_module": "@jupyter-widgets/base",
      "model_module_version": "1.2.0",
      "model_name": "LayoutModel",
      "state": {}
     },
     "d293fdbe05504b5284aa228454c8c64e": {
      "model_module": "@jupyter-widgets/base",
      "model_module_version": "1.2.0",
      "model_name": "LayoutModel",
      "state": {}
     },
     "d5d01c3febe141bdaff08ab587c30ebe": {
      "model_module": "jupyter-matplotlib",
      "model_module_version": "^0.7.4",
      "model_name": "ToolbarModel",
      "state": {
       "layout": "IPY_MODEL_3de7457c710e40e9a3f72d14c40f7c57",
       "toolitems": [
        [
         "Home",
         "Reset original view",
         "home",
         "home"
        ],
        [
         "Back",
         "Back to previous view",
         "arrow-left",
         "back"
        ],
        [
         "Forward",
         "Forward to next view",
         "arrow-right",
         "forward"
        ],
        [
         "Pan",
         "Left button pans, Right button zooms\nx/y fixes axis, CTRL fixes aspect",
         "arrows",
         "pan"
        ],
        [
         "Zoom",
         "Zoom to rectangle\nx/y fixes axis, CTRL fixes aspect",
         "square-o",
         "zoom"
        ],
        [
         "Download",
         "Download plot",
         "floppy-o",
         "save_figure"
        ]
       ]
      }
     },
     "d6577dc7e59a42be9e207aa5abd8d11d": {
      "model_module": "@jupyter-widgets/base",
      "model_module_version": "1.2.0",
      "model_name": "LayoutModel",
      "state": {}
     },
     "d6ab29b3dab64da7829617257775ea60": {
      "model_module": "@jupyter-widgets/base",
      "model_module_version": "1.2.0",
      "model_name": "LayoutModel",
      "state": {}
     },
     "d7d628627d3549d9a6a878ae07ed2d5f": {
      "model_module": "jupyter-matplotlib",
      "model_module_version": "^0.7.4",
      "model_name": "MPLCanvasModel",
      "state": {
       "_cursor": "default",
       "_figure_label": "Figure 1",
       "_height": 500,
       "_width": 1500,
       "layout": "IPY_MODEL_970b598f8f254e9fa144652cd8184ec5",
       "toolbar": "IPY_MODEL_d5d01c3febe141bdaff08ab587c30ebe",
       "toolbar_position": "left"
      }
     },
     "d81840ced1ea44fa8f59babcb901daa3": {
      "model_module": "@jupyter-widgets/base",
      "model_module_version": "1.2.0",
      "model_name": "LayoutModel",
      "state": {}
     },
     "d9ced86dbdd341e0acb3257d6d885c04": {
      "model_module": "jupyter-matplotlib",
      "model_module_version": "^0.7.4",
      "model_name": "ToolbarModel",
      "state": {
       "layout": "IPY_MODEL_faab2c26ab1a40d0a7ae315360a93aba",
       "toolitems": [
        [
         "Home",
         "Reset original view",
         "home",
         "home"
        ],
        [
         "Back",
         "Back to previous view",
         "arrow-left",
         "back"
        ],
        [
         "Forward",
         "Forward to next view",
         "arrow-right",
         "forward"
        ],
        [
         "Pan",
         "Left button pans, Right button zooms\nx/y fixes axis, CTRL fixes aspect",
         "arrows",
         "pan"
        ],
        [
         "Zoom",
         "Zoom to rectangle\nx/y fixes axis, CTRL fixes aspect",
         "square-o",
         "zoom"
        ],
        [
         "Download",
         "Download plot",
         "floppy-o",
         "save_figure"
        ]
       ]
      }
     },
     "da117174cd774264811b58314eb47ad6": {
      "model_module": "@jupyter-widgets/base",
      "model_module_version": "1.2.0",
      "model_name": "LayoutModel",
      "state": {}
     },
     "df186934cb184966a7bfe7029a09f9f8": {
      "model_module": "jupyter-matplotlib",
      "model_module_version": "^0.7.4",
      "model_name": "ToolbarModel",
      "state": {
       "layout": "IPY_MODEL_d6ab29b3dab64da7829617257775ea60",
       "toolitems": [
        [
         "Home",
         "Reset original view",
         "home",
         "home"
        ],
        [
         "Back",
         "Back to previous view",
         "arrow-left",
         "back"
        ],
        [
         "Forward",
         "Forward to next view",
         "arrow-right",
         "forward"
        ],
        [
         "Pan",
         "Left button pans, Right button zooms\nx/y fixes axis, CTRL fixes aspect",
         "arrows",
         "pan"
        ],
        [
         "Zoom",
         "Zoom to rectangle\nx/y fixes axis, CTRL fixes aspect",
         "square-o",
         "zoom"
        ],
        [
         "Download",
         "Download plot",
         "floppy-o",
         "save_figure"
        ]
       ]
      }
     },
     "dfb87e8896ef434b8406e620e30c5269": {
      "model_module": "@jupyter-widgets/base",
      "model_module_version": "1.2.0",
      "model_name": "LayoutModel",
      "state": {}
     },
     "e9cba952c3e24094b65683254f207772": {
      "model_module": "@jupyter-widgets/base",
      "model_module_version": "1.2.0",
      "model_name": "LayoutModel",
      "state": {}
     },
     "f0908a9ceac54524990f80e0508e8a1f": {
      "model_module": "@jupyter-widgets/base",
      "model_module_version": "1.2.0",
      "model_name": "LayoutModel",
      "state": {}
     },
     "f20aac976b44413b9f62d9f1755eb55f": {
      "model_module": "@jupyter-widgets/base",
      "model_module_version": "1.2.0",
      "model_name": "LayoutModel",
      "state": {}
     },
     "f47de40193414d8880accb676e2a70bd": {
      "model_module": "jupyter-matplotlib",
      "model_module_version": "^0.7.4",
      "model_name": "MPLCanvasModel",
      "state": {
       "_cursor": "default",
       "_figure_label": "Figure 15",
       "_height": 500,
       "_image_mode": "diff",
       "_rubberband_y": 500,
       "_width": 1500,
       "layout": "IPY_MODEL_83bf9245c2574e31a964f3d5fa5525be",
       "toolbar": "IPY_MODEL_07af3f93de1a4de1aa6414782d3612c0",
       "toolbar_position": "left"
      }
     },
     "faab2c26ab1a40d0a7ae315360a93aba": {
      "model_module": "@jupyter-widgets/base",
      "model_module_version": "1.2.0",
      "model_name": "LayoutModel",
      "state": {}
     },
     "fc4722b56d734863ac0ef2c67941006d": {
      "model_module": "@jupyter-widgets/base",
      "model_module_version": "1.2.0",
      "model_name": "LayoutModel",
      "state": {}
     },
     "fe1fcef54b5249fca8e08e39ae1854b9": {
      "model_module": "jupyter-matplotlib",
      "model_module_version": "^0.7.4",
      "model_name": "ToolbarModel",
      "state": {
       "layout": "IPY_MODEL_14e06a2ab1974553b2becf53ed9d1cf7",
       "toolitems": [
        [
         "Home",
         "Reset original view",
         "home",
         "home"
        ],
        [
         "Back",
         "Back to previous view",
         "arrow-left",
         "back"
        ],
        [
         "Forward",
         "Forward to next view",
         "arrow-right",
         "forward"
        ],
        [
         "Pan",
         "Left button pans, Right button zooms\nx/y fixes axis, CTRL fixes aspect",
         "arrows",
         "pan"
        ],
        [
         "Zoom",
         "Zoom to rectangle\nx/y fixes axis, CTRL fixes aspect",
         "square-o",
         "zoom"
        ],
        [
         "Download",
         "Download plot",
         "floppy-o",
         "save_figure"
        ]
       ]
      }
     }
    },
    "version_major": 2,
    "version_minor": 0
   }
  }
 },
 "nbformat": 4,
 "nbformat_minor": 4
}
