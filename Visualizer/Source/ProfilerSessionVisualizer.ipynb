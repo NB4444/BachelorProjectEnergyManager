{
 "cells": [
  {
   "cell_type": "code",
   "execution_count": 1,
   "metadata": {
    "pycharm": {
     "name": "#%%\n"
    }
   },
   "outputs": [],
   "source": [
    "%matplotlib widget\n",
    "\n",
    "import pathlib\n",
    "import pprint\n",
    "\n",
    "from Visualizer.DataSet import DataSet\n",
    "from Visualizer.Monitoring.Persistence.ProfilerSession import ProfilerSession\n",
    "from Visualizer.Plotting.Plot import Plot"
   ]
  },
  {
   "cell_type": "markdown",
   "metadata": {},
   "source": [
    "# Profiler Session Visualizer\n",
    "\n",
    "This notebook can visualize a specific profiler session."
   ]
  },
  {
   "cell_type": "markdown",
   "metadata": {},
   "source": [
    "## Configuration\n",
    "\n",
    "Configure the project settings below.\n",
    "The default configuration should be okay.\n",
    "Make sure that you have run at least one profiler session with the EnergyManager and have generated a database, otherwise this notebook will fail."
   ]
  },
  {
   "cell_type": "code",
   "execution_count": 2,
   "metadata": {
    "pycharm": {
     "name": "#%%\n"
    }
   },
   "outputs": [],
   "source": [
    "source_directory = pathlib.Path().parent.absolute()\n",
    "project_directory = f\"{source_directory}/..\"\n",
    "#database = f\"{project_directory}/../Resources/Data/MatrixMultiply.sqlite\"\n",
    "#database = f\"{project_directory}/../Resources/Data/KMeans.sqlite\"\n",
    "database = f\"{project_directory}/../Resources/Data/Database.sqlite\""
   ]
  },
  {
   "cell_type": "markdown",
   "metadata": {},
   "source": [
    "## Profiler Sessions Overview\n",
    "\n",
    "Below all profiler sessions are shown."
   ]
  },
  {
   "cell_type": "code",
   "execution_count": 3,
   "metadata": {
    "pycharm": {
     "name": "#%%\n"
    }
   },
   "outputs": [
    {
     "data": {
      "text/html": [
       "<div>\n",
       "<style scoped>\n",
       "    .dataframe tbody tr th:only-of-type {\n",
       "        vertical-align: middle;\n",
       "    }\n",
       "\n",
       "    .dataframe tbody tr th {\n",
       "        vertical-align: top;\n",
       "    }\n",
       "\n",
       "    .dataframe thead th {\n",
       "        text-align: right;\n",
       "    }\n",
       "</style>\n",
       "<table border=\"1\" class=\"dataframe\">\n",
       "  <thead>\n",
       "    <tr style=\"text-align: right;\">\n",
       "      <th></th>\n",
       "      <th>ID</th>\n",
       "      <th>Label</th>\n",
       "      <th>Profile</th>\n",
       "    </tr>\n",
       "  </thead>\n",
       "  <tbody>\n",
       "    <tr>\n",
       "      <th>0</th>\n",
       "      <td>1</td>\n",
       "      <td>Fixed Frequency Matrix Multiply</td>\n",
       "      <td>{'core': 0, 'gpu': 0, 'iterations': 1, 'matrixAHeight': 1024, 'matrixAWidth': 1024, 'matrixBHeight': 1024, 'matrixBWidth': 1024, 'maximumCPUClockRate': 12000000000.0, 'maximumGPUClockRate': 2190000000.0, 'minimumCPUClockRate': 12000000000.0, 'minimumGPUClockRate': 2190000000.0}</td>\n",
       "    </tr>\n",
       "    <tr>\n",
       "      <th>1</th>\n",
       "      <td>2</td>\n",
       "      <td>Fixed Frequency Matrix Multiply</td>\n",
       "      <td>{'core': 0, 'gpu': 0, 'iterations': 1, 'matrixAHeight': 1024, 'matrixAWidth': 1024, 'matrixBHeight': 1024, 'matrixBWidth': 1024, 'maximumCPUClockRate': 800000000.0, 'maximumGPUClockRate': 1000000.0, 'minimumCPUClockRate': 800000000.0, 'minimumGPUClockRate': 1000000.0}</td>\n",
       "    </tr>\n",
       "    <tr>\n",
       "      <th>2</th>\n",
       "      <td>3</td>\n",
       "      <td>Fixed Frequency Matrix Multiply</td>\n",
       "      <td>{'core': 0, 'gpu': 0, 'iterations': 1, 'matrixAHeight': 1024, 'matrixAWidth': 1024, 'matrixBHeight': 1024, 'matrixBWidth': 1024, 'maximumCPUClockRate': 12000000000.0, 'maximumGPUClockRate': 1000000.0, 'minimumCPUClockRate': 12000000000.0, 'minimumGPUClockRate': 1000000.0}</td>\n",
       "    </tr>\n",
       "    <tr>\n",
       "      <th>3</th>\n",
       "      <td>4</td>\n",
       "      <td>Fixed Frequency Matrix Multiply</td>\n",
       "      <td>{'core': 0, 'gpu': 0, 'iterations': 1, 'matrixAHeight': 1024, 'matrixAWidth': 1024, 'matrixBHeight': 1024, 'matrixBWidth': 1024, 'maximumCPUClockRate': 800000000.0, 'maximumGPUClockRate': 2190000000.0, 'minimumCPUClockRate': 800000000.0, 'minimumGPUClockRate': 2190000000.0}</td>\n",
       "    </tr>\n",
       "    <tr>\n",
       "      <th>4</th>\n",
       "      <td>5</td>\n",
       "      <td>Matrix Multiply (EnergyMonitor)</td>\n",
       "      <td>{'core': 0, 'gpu': 0, 'iterations': 3, 'matrixAHeight': 1024, 'matrixAWidth': 1024, 'matrixBHeight': 1024, 'matrixBWidth': 1024}</td>\n",
       "    </tr>\n",
       "    <tr>\n",
       "      <th>5</th>\n",
       "      <td>6</td>\n",
       "      <td>Matrix Multiply (EnergyMonitor)</td>\n",
       "      <td>{'core': 0, 'gpu': 0, 'iterations': 3, 'matrixAHeight': 1024, 'matrixAWidth': 1024, 'matrixBHeight': 1024, 'matrixBWidth': 1024}</td>\n",
       "    </tr>\n",
       "    <tr>\n",
       "      <th>6</th>\n",
       "      <td>7</td>\n",
       "      <td>Matrix Multiply (EnergyMonitor)</td>\n",
       "      <td>{'core': 0, 'gpu': 0, 'iterations': 3, 'matrixAHeight': 1024, 'matrixAWidth': 1024, 'matrixBHeight': 1024, 'matrixBWidth': 1024}</td>\n",
       "    </tr>\n",
       "    <tr>\n",
       "      <th>7</th>\n",
       "      <td>8</td>\n",
       "      <td>Matrix Multiply (EnergyMonitor)</td>\n",
       "      <td>{'core': 0, 'gpu': 0, 'iterations': 3, 'matrixAHeight': 1024, 'matrixAWidth': 1024, 'matrixBHeight': 1024, 'matrixBWidth': 1024}</td>\n",
       "    </tr>\n",
       "    <tr>\n",
       "      <th>8</th>\n",
       "      <td>9</td>\n",
       "      <td>Matrix Multiply (EnergyMonitor)</td>\n",
       "      <td>{'core': 0, 'gpu': 0, 'iterations': 3, 'matrixAHeight': 1024, 'matrixAWidth': 1024, 'matrixBHeight': 1024, 'matrixBWidth': 1024}</td>\n",
       "    </tr>\n",
       "  </tbody>\n",
       "</table>\n",
       "</div>"
      ],
      "text/plain": [
       "   ID                            Label  \\\n",
       "0   1  Fixed Frequency Matrix Multiply   \n",
       "1   2  Fixed Frequency Matrix Multiply   \n",
       "2   3  Fixed Frequency Matrix Multiply   \n",
       "3   4  Fixed Frequency Matrix Multiply   \n",
       "4   5  Matrix Multiply (EnergyMonitor)   \n",
       "5   6  Matrix Multiply (EnergyMonitor)   \n",
       "6   7  Matrix Multiply (EnergyMonitor)   \n",
       "7   8  Matrix Multiply (EnergyMonitor)   \n",
       "8   9  Matrix Multiply (EnergyMonitor)   \n",
       "\n",
       "                                                                                                                                                                                                                                                                                  Profile  \n",
       "0  {'core': 0, 'gpu': 0, 'iterations': 1, 'matrixAHeight': 1024, 'matrixAWidth': 1024, 'matrixBHeight': 1024, 'matrixBWidth': 1024, 'maximumCPUClockRate': 12000000000.0, 'maximumGPUClockRate': 2190000000.0, 'minimumCPUClockRate': 12000000000.0, 'minimumGPUClockRate': 2190000000.0}  \n",
       "1            {'core': 0, 'gpu': 0, 'iterations': 1, 'matrixAHeight': 1024, 'matrixAWidth': 1024, 'matrixBHeight': 1024, 'matrixBWidth': 1024, 'maximumCPUClockRate': 800000000.0, 'maximumGPUClockRate': 1000000.0, 'minimumCPUClockRate': 800000000.0, 'minimumGPUClockRate': 1000000.0}  \n",
       "2        {'core': 0, 'gpu': 0, 'iterations': 1, 'matrixAHeight': 1024, 'matrixAWidth': 1024, 'matrixBHeight': 1024, 'matrixBWidth': 1024, 'maximumCPUClockRate': 12000000000.0, 'maximumGPUClockRate': 1000000.0, 'minimumCPUClockRate': 12000000000.0, 'minimumGPUClockRate': 1000000.0}  \n",
       "3      {'core': 0, 'gpu': 0, 'iterations': 1, 'matrixAHeight': 1024, 'matrixAWidth': 1024, 'matrixBHeight': 1024, 'matrixBWidth': 1024, 'maximumCPUClockRate': 800000000.0, 'maximumGPUClockRate': 2190000000.0, 'minimumCPUClockRate': 800000000.0, 'minimumGPUClockRate': 2190000000.0}  \n",
       "4                                                                                                                                                        {'core': 0, 'gpu': 0, 'iterations': 3, 'matrixAHeight': 1024, 'matrixAWidth': 1024, 'matrixBHeight': 1024, 'matrixBWidth': 1024}  \n",
       "5                                                                                                                                                        {'core': 0, 'gpu': 0, 'iterations': 3, 'matrixAHeight': 1024, 'matrixAWidth': 1024, 'matrixBHeight': 1024, 'matrixBWidth': 1024}  \n",
       "6                                                                                                                                                        {'core': 0, 'gpu': 0, 'iterations': 3, 'matrixAHeight': 1024, 'matrixAWidth': 1024, 'matrixBHeight': 1024, 'matrixBWidth': 1024}  \n",
       "7                                                                                                                                                        {'core': 0, 'gpu': 0, 'iterations': 3, 'matrixAHeight': 1024, 'matrixAWidth': 1024, 'matrixBHeight': 1024, 'matrixBWidth': 1024}  \n",
       "8                                                                                                                                                        {'core': 0, 'gpu': 0, 'iterations': 3, 'matrixAHeight': 1024, 'matrixAWidth': 1024, 'matrixBHeight': 1024, 'matrixBWidth': 1024}  "
      ]
     },
     "metadata": {},
     "output_type": "display_data"
    }
   ],
   "source": [
    "# Load all profiler sessions\n",
    "complete_data_set = DataSet(ProfilerSession.load_all(database))\n",
    "\n",
    "# Visualize the profiler session data\n",
    "complete_data_set.table_plot.plot()"
   ]
  },
  {
   "cell_type": "markdown",
   "metadata": {},
   "source": [
    "## Visualize a Profiler Session\n",
    "\n",
    "Define the ID of the test you wish to visualize below."
   ]
  },
  {
   "cell_type": "code",
   "execution_count": 4,
   "metadata": {
    "pycharm": {
     "name": "#%%\n"
    }
   },
   "outputs": [],
   "source": [
    "profiler_session_id = complete_data_set.data[-1].id\n",
    "#profiler_session_id = 6\n",
    "data_set = DataSet([profiler_session for profiler_session in complete_data_set.data if profiler_session.id == profiler_session_id])"
   ]
  },
  {
   "cell_type": "markdown",
   "metadata": {},
   "source": [
    "### Summary\n",
    "\n",
    "These are the specifications of the system with which the profiler session was performed."
   ]
  },
  {
   "cell_type": "code",
   "execution_count": 5,
   "metadata": {
    "pycharm": {
     "name": "#%%\n"
    }
   },
   "outputs": [
    {
     "name": "stdout",
     "output_type": "stream",
     "text": [
      "{'GPUs': [{'Brand': 'GeForce',\n",
      "           'Compute Capability Major Version': 7,\n",
      "           'Compute Capability Minor Version': 5,\n",
      "           'Default Auto Boosted Clocks Enabled': None,\n",
      "           'Default Power Limit (W)': '260.0',\n",
      "           'Memory Size (B)': '8.3 GB',\n",
      "           'Name': 'GeForce RTX 2080',\n",
      "           'PCIe Link Width (B)': '16 Bytes',\n",
      "           'Supported Core Clock Rates (Hz)': [''],\n",
      "           'Supported Memory Clock Rates (Hz)': ['']}],\n",
      " 'Label': 'Matrix Multiply (EnergyMonitor)'}\n"
     ]
    }
   ],
   "source": [
    "pprint.pprint(data_set.data[0].summary)"
   ]
  },
  {
   "cell_type": "markdown",
   "metadata": {},
   "source": [
    "### Profile\n",
    "\n",
    "This is the profile with which the profiler session was performed."
   ]
  },
  {
   "cell_type": "code",
   "execution_count": 6,
   "metadata": {
    "pycharm": {
     "name": "#%%\n"
    }
   },
   "outputs": [
    {
     "name": "stdout",
     "output_type": "stream",
     "text": [
      "{'core': 0,\n",
      " 'gpu': 0,\n",
      " 'iterations': 3,\n",
      " 'matrixAHeight': 1024,\n",
      " 'matrixAWidth': 1024,\n",
      " 'matrixBHeight': 1024,\n",
      " 'matrixBWidth': 1024}\n"
     ]
    }
   ],
   "source": [
    "pprint.pprint(data_set.data[0].profile)"
   ]
  },
  {
   "cell_type": "markdown",
   "metadata": {},
   "source": [
    "### Overview\n",
    "\n",
    "The graph image below summarizes the graphs above."
   ]
  },
  {
   "cell_type": "code",
   "execution_count": 7,
   "metadata": {
    "pycharm": {
     "name": "#%%\n"
    }
   },
   "outputs": [],
   "source": [
    "# data_set.data[0].overview_multi_plot.plot()"
   ]
  },
  {
   "cell_type": "markdown",
   "metadata": {},
   "source": [
    "### Switches\n",
    "\n",
    "The graphs below shows the status of configuration switches over time."
   ]
  },
  {
   "cell_type": "code",
   "execution_count": 8,
   "metadata": {
    "pycharm": {
     "name": "#%%\n"
    }
   },
   "outputs": [
    {
     "data": {
      "application/vnd.jupyter.widget-view+json": {
       "model_id": "2ecb7238a00f403d9f5e2762dbbd6c2c",
       "version_major": 2,
       "version_minor": 0
      },
      "text/plain": [
       "Canvas(toolbar=Toolbar(toolitems=[('Home', 'Reset original view', 'home', 'home'), ('Back', 'Back to previous …"
      ]
     },
     "metadata": {},
     "output_type": "display_data"
    },
    {
     "name": "stderr",
     "output_type": "stream",
     "text": [
      "No handles with labels found to put in legend.\n"
     ]
    }
   ],
   "source": [
    "data_set.data[0].switches_timeseries_plot.plot()"
   ]
  },
  {
   "cell_type": "markdown",
   "metadata": {},
   "source": [
    "### Timespan\n",
    "\n",
    "The graphs below shows the time spent on different types of operations over time."
   ]
  },
  {
   "cell_type": "code",
   "execution_count": 9,
   "metadata": {},
   "outputs": [
    {
     "data": {
      "application/vnd.jupyter.widget-view+json": {
       "model_id": "5f1c8ae2bd66409b95c320d5f8299b6c",
       "version_major": 2,
       "version_minor": 0
      },
      "text/plain": [
       "Canvas(toolbar=Toolbar(toolitems=[('Home', 'Reset original view', 'home', 'home'), ('Back', 'Back to previous …"
      ]
     },
     "metadata": {},
     "output_type": "display_data"
    }
   ],
   "source": [
    "timespan_timeseries_plot = data_set.data[0].timespan_timeseries_plot(use_ear=False)\n",
    "timespan_timeseries_plot.plot_series = { key: timespan_timeseries_plot.plot_series[key] for key in timespan_timeseries_plot.plot_series if (key.startswith(\"Runtime\") or key.startswith(\"EAR\") or key.startswith(\"CPU 0 Core 0\"))}\n",
    "timespan_timeseries_plot.plot()"
   ]
  },
  {
   "cell_type": "markdown",
   "metadata": {},
   "source": [
    "### Power Consumption\n",
    "\n",
    "The graphs below shows the power consumption over time."
   ]
  },
  {
   "cell_type": "code",
   "execution_count": 10,
   "metadata": {
    "pycharm": {
     "name": "#%%\n"
    }
   },
   "outputs": [
    {
     "data": {
      "application/vnd.jupyter.widget-view+json": {
       "model_id": "c95f307bd1ca4085919eeaf1c6277632",
       "version_major": 2,
       "version_minor": 0
      },
      "text/plain": [
       "Canvas(toolbar=Toolbar(toolitems=[('Home', 'Reset original view', 'home', 'home'), ('Back', 'Back to previous …"
      ]
     },
     "metadata": {},
     "output_type": "display_data"
    }
   ],
   "source": [
    "power_consumption_timeseries_plot = data_set.data[0].power_consumption_timeseries_plot(plot_limits=False, use_ear=False)\n",
    "#power_consumption_timeseries_plot.plot_series = { key: power_consumption_timeseries_plot.plot_series[key] for key in power_consumption_timeseries_plot.plot_series if (key.startswith(\"CPU 1\") or key.startswith(\"EAR\") or key.startswith(\"CPU 0\") and (not key.startswith(\"CPU 0 Core\") or key.startswith(\"CPU 0 Core 0\"))) or key.startswith(\"GPU 0\") or key.startswith(\"Node\")}\n",
    "power_consumption_timeseries_plot.plot_series = { key: power_consumption_timeseries_plot.plot_series[key] for key in power_consumption_timeseries_plot.plot_series if (key.startswith(\"EAR\") or key.startswith(\"CPU 0\") and (not key.startswith(\"CPU 0 Core\") or key.startswith(\"CPU 0 Core 0\"))) or key.startswith(\"GPU 0\") or key.startswith(\"Node\")}\n",
    "power_consumption_timeseries_plot.plot()"
   ]
  },
  {
   "cell_type": "markdown",
   "metadata": {},
   "source": [
    "### Energy Consumption\n",
    "\n",
    "The graphs below shows the total energy consumption over time."
   ]
  },
  {
   "cell_type": "code",
   "execution_count": 11,
   "metadata": {
    "pycharm": {
     "name": "#%%\n"
    }
   },
   "outputs": [
    {
     "data": {
      "application/vnd.jupyter.widget-view+json": {
       "model_id": "f3871d710c294f8888fbbcc5163c3794",
       "version_major": 2,
       "version_minor": 0
      },
      "text/plain": [
       "Canvas(toolbar=Toolbar(toolitems=[('Home', 'Reset original view', 'home', 'home'), ('Back', 'Back to previous …"
      ]
     },
     "metadata": {},
     "output_type": "display_data"
    },
    {
     "data": {
      "application/vnd.jupyter.widget-view+json": {
       "model_id": "94c29f9d467741009ea6dd35b69ff813",
       "version_major": 2,
       "version_minor": 0
      },
      "text/plain": [
       "Canvas(toolbar=Toolbar(toolitems=[('Home', 'Reset original view', 'home', 'home'), ('Back', 'Back to previous …"
      ]
     },
     "metadata": {},
     "output_type": "display_data"
    }
   ],
   "source": [
    "# Plot in Joules\n",
    "energy_consumption_plot_j = data_set.data[0].energy_consumption_timeseries_plot(use_ear=False)\n",
    "energy_consumption_plot_j.plot_series = { key: energy_consumption_plot_j.plot_series[key] for key in energy_consumption_plot_j.plot_series if (key.startswith(\"EAR\") or key.startswith(\"CPU 0\") and (not key.startswith(\"CPU 0 Core\") or key.startswith(\"CPU 0 Core 0\"))) or key.startswith(\"GPU 0\") or key.startswith(\"Node\")}\n",
    "energy_consumption_plot_j.plot()\n",
    "\n",
    "# Plot in Watt Hours\n",
    "energy_consumption_plot_wh = data_set.data[0].energy_consumption_timeseries_plot(unit_string=\"Wh\", modifier=Plot.j_to_wh, use_ear=False)\n",
    "energy_consumption_plot_wh.plot_series = { key: energy_consumption_plot_wh.plot_series[key] for key in energy_consumption_plot_wh.plot_series if (key.startswith(\"EAR\") or key.startswith(\"CPU 0\") and (not key.startswith(\"CPU 0 Core\") or key.startswith(\"CPU 0 Core 0\"))) or key.startswith(\"GPU 0\") or key.startswith(\"Node\")}\n",
    "energy_consumption_plot_wh.plot()"
   ]
  },
  {
   "cell_type": "markdown",
   "metadata": {},
   "source": [
    "### Clock Rates\n",
    "\n",
    "The graph below shows the clock rate over time."
   ]
  },
  {
   "cell_type": "code",
   "execution_count": 12,
   "metadata": {
    "pycharm": {
     "name": "#%%\n"
    }
   },
   "outputs": [
    {
     "data": {
      "application/vnd.jupyter.widget-view+json": {
       "model_id": "4a2efcdf37f947bd94e65d05fa5718f4",
       "version_major": 2,
       "version_minor": 0
      },
      "text/plain": [
       "Canvas(toolbar=Toolbar(toolitems=[('Home', 'Reset original view', 'home', 'home'), ('Back', 'Back to previous …"
      ]
     },
     "metadata": {},
     "output_type": "display_data"
    }
   ],
   "source": [
    "clock_rate_timeseries_plot = data_set.data[0].clock_rate_timeseries_plot(plot_limits=True, use_ear=False)\n",
    "clock_rate_timeseries_plot.plot_series = { key: clock_rate_timeseries_plot.plot_series[key] for key in clock_rate_timeseries_plot.plot_series if (key.startswith(\"EAR\") or key.startswith(\"CPU 0\") and (not key.startswith(\"CPU 0 Core\") or key.startswith(\"CPU 0 Core 0\"))) or key.startswith(\"GPU 0\")}\n",
    "clock_rate_timeseries_plot.plot()"
   ]
  },
  {
   "cell_type": "markdown",
   "metadata": {},
   "source": [
    "### Instructions Per Cycle\n",
    "\n",
    "The graph below shows the utilization rates over time."
   ]
  },
  {
   "cell_type": "code",
   "execution_count": 13,
   "metadata": {
    "pycharm": {
     "name": "#%%\n"
    }
   },
   "outputs": [
    {
     "data": {
      "application/vnd.jupyter.widget-view+json": {
       "model_id": "4d096984ffe84becbda9f6a01b1b3b18",
       "version_major": 2,
       "version_minor": 0
      },
      "text/plain": [
       "Canvas(toolbar=Toolbar(toolitems=[('Home', 'Reset original view', 'home', 'home'), ('Back', 'Back to previous …"
      ]
     },
     "metadata": {},
     "output_type": "display_data"
    },
    {
     "name": "stderr",
     "output_type": "stream",
     "text": [
      "No handles with labels found to put in legend.\n"
     ]
    }
   ],
   "source": [
    "data_set.data[0].instructions_per_cycle_timeseries_plot.plot()"
   ]
  },
  {
   "cell_type": "markdown",
   "metadata": {},
   "source": [
    "### Utilization Rates\n",
    "\n",
    "The graph below shows the utilization rates over time."
   ]
  },
  {
   "cell_type": "code",
   "execution_count": 14,
   "metadata": {
    "pycharm": {
     "name": "#%%\n"
    }
   },
   "outputs": [
    {
     "data": {
      "application/vnd.jupyter.widget-view+json": {
       "model_id": "7c8189a4f3a9409f97eb44b6192c5372",
       "version_major": 2,
       "version_minor": 0
      },
      "text/plain": [
       "Canvas(toolbar=Toolbar(toolitems=[('Home', 'Reset original view', 'home', 'home'), ('Back', 'Back to previous …"
      ]
     },
     "metadata": {},
     "output_type": "display_data"
    }
   ],
   "source": [
    "utilization_rate_timeseries_plot = data_set.data[0].utilization_rate_timeseries_plot\n",
    "utilization_rate_timeseries_plot.plot_series = { key: utilization_rate_timeseries_plot.plot_series[key] for key in utilization_rate_timeseries_plot.plot_series if (key.startswith(\"CPU 0\") and (not key.startswith(\"CPU 0 Core\") or key.startswith(\"CPU 0 Core 0\"))) or key.startswith(\"GPU 0\") or key.startswith(\"Node\")}\n",
    "utilization_rate_timeseries_plot.plot()"
   ]
  },
  {
   "cell_type": "markdown",
   "metadata": {},
   "source": [
    "### Events\n",
    "\n",
    "The graph below shows the events over time."
   ]
  },
  {
   "cell_type": "code",
   "execution_count": 15,
   "metadata": {
    "pycharm": {
     "name": "#%%\n"
    }
   },
   "outputs": [
    {
     "data": {
      "application/vnd.jupyter.widget-view+json": {
       "model_id": "3e29aabbe1154b63827878537fccbb47",
       "version_major": 2,
       "version_minor": 0
      },
      "text/plain": [
       "Canvas(toolbar=Toolbar(toolitems=[('Home', 'Reset original view', 'home', 'home'), ('Back', 'Back to previous …"
      ]
     },
     "metadata": {},
     "output_type": "display_data"
    }
   ],
   "source": [
    "for events_plot in data_set.data[0].events_event_plot()[:1]:\n",
    "    events_plot.plot()"
   ]
  },
  {
   "cell_type": "markdown",
   "metadata": {},
   "source": [
    "### States\n",
    "\n",
    "The graph below shows the states of the EnergyMonitor over time."
   ]
  },
  {
   "cell_type": "code",
   "execution_count": 16,
   "metadata": {
    "pycharm": {
     "name": "#%%\n"
    }
   },
   "outputs": [
    {
     "data": {
      "application/vnd.jupyter.widget-view+json": {
       "model_id": "5c50ba042702472f9528cc6e1400ec5a",
       "version_major": 2,
       "version_minor": 0
      },
      "text/plain": [
       "Canvas(toolbar=Toolbar(toolitems=[('Home', 'Reset original view', 'home', 'home'), ('Back', 'Back to previous …"
      ]
     },
     "metadata": {},
     "output_type": "display_data"
    }
   ],
   "source": [
    "data_set.data[0].states_event_plot().plot()"
   ]
  },
  {
   "cell_type": "markdown",
   "metadata": {},
   "source": [
    "### Fan Speed\n",
    "\n",
    "The graphs below shows the fan speed over time."
   ]
  },
  {
   "cell_type": "code",
   "execution_count": 17,
   "metadata": {
    "pycharm": {
     "name": "#%%\n"
    }
   },
   "outputs": [
    {
     "data": {
      "application/vnd.jupyter.widget-view+json": {
       "model_id": "18a29e690f02478d8c9e4f4036328380",
       "version_major": 2,
       "version_minor": 0
      },
      "text/plain": [
       "Canvas(toolbar=Toolbar(toolitems=[('Home', 'Reset original view', 'home', 'home'), ('Back', 'Back to previous …"
      ]
     },
     "metadata": {},
     "output_type": "display_data"
    },
    {
     "name": "stderr",
     "output_type": "stream",
     "text": [
      "/data/Cloud/Nextcloud/Development/Projects/EnergyManager/Visualizer/Source/Visualizer/Plotting/AxesPlot.py:92: UserWarning: Attempting to set identical bottom == top == 0 results in singular transformations; automatically expanding.\n",
      "  setter(((minimum - abs(0.1 * minimum)) if minimum < 0 else 0) if self_minimum is None else self_minimum,\n"
     ]
    }
   ],
   "source": [
    "data_set.data[0].fan_speed_timeseries_plot.plot()"
   ]
  },
  {
   "cell_type": "markdown",
   "metadata": {},
   "source": [
    "### Memory Consumption\n",
    "\n",
    "The graphs below shows the memory consumption over time."
   ]
  },
  {
   "cell_type": "code",
   "execution_count": 18,
   "metadata": {
    "pycharm": {
     "name": "#%%\n"
    }
   },
   "outputs": [
    {
     "data": {
      "application/vnd.jupyter.widget-view+json": {
       "model_id": "6b02e56b99f54ff396a6b6bdc7ef8383",
       "version_major": 2,
       "version_minor": 0
      },
      "text/plain": [
       "Canvas(toolbar=Toolbar(toolitems=[('Home', 'Reset original view', 'home', 'home'), ('Back', 'Back to previous …"
      ]
     },
     "metadata": {},
     "output_type": "display_data"
    }
   ],
   "source": [
    "data_set.data[0].memory_consumption_timeseries_plot(plot_sizes=False).plot()"
   ]
  },
  {
   "cell_type": "markdown",
   "metadata": {},
   "source": [
    "### Processes\n",
    "\n",
    "The graphs below shows the amount of processes over time."
   ]
  },
  {
   "cell_type": "code",
   "execution_count": 19,
   "metadata": {
    "pycharm": {
     "name": "#%%\n"
    }
   },
   "outputs": [
    {
     "data": {
      "application/vnd.jupyter.widget-view+json": {
       "model_id": "315914ce2a06418884baf9a29af1280d",
       "version_major": 2,
       "version_minor": 0
      },
      "text/plain": [
       "Canvas(toolbar=Toolbar(toolitems=[('Home', 'Reset original view', 'home', 'home'), ('Back', 'Back to previous …"
      ]
     },
     "metadata": {},
     "output_type": "display_data"
    }
   ],
   "source": [
    "data_set.data[0].processes_timeseries_plot.plot()"
   ]
  },
  {
   "cell_type": "markdown",
   "metadata": {},
   "source": [
    "### Temperature\n",
    "\n",
    "The graphs below shows the temperature over time."
   ]
  },
  {
   "cell_type": "code",
   "execution_count": 20,
   "metadata": {
    "pycharm": {
     "name": "#%%\n"
    }
   },
   "outputs": [
    {
     "data": {
      "application/vnd.jupyter.widget-view+json": {
       "model_id": "0844253c0fd9409486c26533cf050228",
       "version_major": 2,
       "version_minor": 0
      },
      "text/plain": [
       "Canvas(toolbar=Toolbar(toolitems=[('Home', 'Reset original view', 'home', 'home'), ('Back', 'Back to previous …"
      ]
     },
     "metadata": {},
     "output_type": "display_data"
    }
   ],
   "source": [
    "temperature_timeseries_plot = data_set.data[0].temperature_timeseries_plot\n",
    "temperature_timeseries_plot.plot_series = { key: temperature_timeseries_plot.plot_series[key] for key in temperature_timeseries_plot.plot_series if (key.startswith(\"CPU 0\") and (not key.startswith(\"CPU 0 Core\") or key.startswith(\"CPU 0 Core 0\"))) or key.startswith(\"GPU 0\") or key.startswith(\"Node\")}\n",
    "temperature_timeseries_plot.plot()"
   ]
  },
  {
   "cell_type": "markdown",
   "metadata": {},
   "source": [
    "### Correlations\n",
    "\n",
    "The graphs below shows the Pearson correlation heatmap for each performance variable."
   ]
  },
  {
   "cell_type": "code",
   "execution_count": 21,
   "metadata": {
    "pycharm": {
     "name": "#%%\n"
    }
   },
   "outputs": [],
   "source": [
    "#data_set.data[0].monitor_data_correlations_plot.plot()\n"
   ]
  }
 ],
 "metadata": {
  "kernelspec": {
   "display_name": "Python 3",
   "language": "python",
   "name": "python3"
  },
  "language_info": {
   "codemirror_mode": {
    "name": "ipython",
    "version": 3
   },
   "file_extension": ".py",
   "mimetype": "text/x-python",
   "name": "python",
   "nbconvert_exporter": "python",
   "pygments_lexer": "ipython3",
   "version": "3.8.5"
  },
  "widgets": {
   "application/vnd.jupyter.widget-state+json": {
    "state": {
     "020bb7ad2f9a4dd9a8548c56942cae94": {
      "model_module": "jupyter-matplotlib",
      "model_module_version": "^0.7.4",
      "model_name": "ToolbarModel",
      "state": {
       "layout": "IPY_MODEL_f198da3393754cb1b32cc9f0e9a6ec8d",
       "toolitems": [
        [
         "Home",
         "Reset original view",
         "home",
         "home"
        ],
        [
         "Back",
         "Back to previous view",
         "arrow-left",
         "back"
        ],
        [
         "Forward",
         "Forward to next view",
         "arrow-right",
         "forward"
        ],
        [
         "Pan",
         "Left button pans, Right button zooms\nx/y fixes axis, CTRL fixes aspect",
         "arrows",
         "pan"
        ],
        [
         "Zoom",
         "Zoom to rectangle\nx/y fixes axis, CTRL fixes aspect",
         "square-o",
         "zoom"
        ],
        [
         "Download",
         "Download plot",
         "floppy-o",
         "save_figure"
        ]
       ]
      }
     },
     "0844253c0fd9409486c26533cf050228": {
      "model_module": "jupyter-matplotlib",
      "model_module_version": "^0.7.4",
      "model_name": "MPLCanvasModel",
      "state": {
       "_cursor": "default",
       "_figure_label": "Figure 14",
       "_height": 500,
       "_width": 1500,
       "layout": "IPY_MODEL_c18644478c294cd0bcb5033e6b263cc6",
       "toolbar": "IPY_MODEL_a036984970454b54973c91b49a907f9f",
       "toolbar_position": "left"
      }
     },
     "0a52c9be2b6448edbfc1494613c22497": {
      "model_module": "jupyter-matplotlib",
      "model_module_version": "^0.7.4",
      "model_name": "ToolbarModel",
      "state": {
       "layout": "IPY_MODEL_e9160f290eec4f2dafa8beb7f15e2af6",
       "toolitems": [
        [
         "Home",
         "Reset original view",
         "home",
         "home"
        ],
        [
         "Back",
         "Back to previous view",
         "arrow-left",
         "back"
        ],
        [
         "Forward",
         "Forward to next view",
         "arrow-right",
         "forward"
        ],
        [
         "Pan",
         "Left button pans, Right button zooms\nx/y fixes axis, CTRL fixes aspect",
         "arrows",
         "pan"
        ],
        [
         "Zoom",
         "Zoom to rectangle\nx/y fixes axis, CTRL fixes aspect",
         "square-o",
         "zoom"
        ],
        [
         "Download",
         "Download plot",
         "floppy-o",
         "save_figure"
        ]
       ]
      }
     },
     "0d89609895924bee85b3a1d28cafee54": {
      "model_module": "jupyter-matplotlib",
      "model_module_version": "^0.7.4",
      "model_name": "ToolbarModel",
      "state": {
       "layout": "IPY_MODEL_0d8a58bb5bbe46b081684caeefc711d8",
       "toolitems": [
        [
         "Home",
         "Reset original view",
         "home",
         "home"
        ],
        [
         "Back",
         "Back to previous view",
         "arrow-left",
         "back"
        ],
        [
         "Forward",
         "Forward to next view",
         "arrow-right",
         "forward"
        ],
        [
         "Pan",
         "Left button pans, Right button zooms\nx/y fixes axis, CTRL fixes aspect",
         "arrows",
         "pan"
        ],
        [
         "Zoom",
         "Zoom to rectangle\nx/y fixes axis, CTRL fixes aspect",
         "square-o",
         "zoom"
        ],
        [
         "Download",
         "Download plot",
         "floppy-o",
         "save_figure"
        ]
       ]
      }
     },
     "0d8a58bb5bbe46b081684caeefc711d8": {
      "model_module": "@jupyter-widgets/base",
      "model_module_version": "1.2.0",
      "model_name": "LayoutModel",
      "state": {}
     },
     "18a29e690f02478d8c9e4f4036328380": {
      "model_module": "jupyter-matplotlib",
      "model_module_version": "^0.7.4",
      "model_name": "MPLCanvasModel",
      "state": {
       "_cursor": "default",
       "_figure_label": "Figure 11",
       "_height": 500,
       "_image_mode": "diff",
       "_width": 1500,
       "layout": "IPY_MODEL_2b39fd252259429d8dbcdf5dea166821",
       "toolbar": "IPY_MODEL_0d89609895924bee85b3a1d28cafee54",
       "toolbar_position": "left"
      }
     },
     "2b39fd252259429d8dbcdf5dea166821": {
      "model_module": "@jupyter-widgets/base",
      "model_module_version": "1.2.0",
      "model_name": "LayoutModel",
      "state": {}
     },
     "2de05ec4c0624847bafc6ebcbc6b0036": {
      "model_module": "jupyter-matplotlib",
      "model_module_version": "^0.7.4",
      "model_name": "ToolbarModel",
      "state": {
       "layout": "IPY_MODEL_681822b0559745eaabb5adba0b8c4e11",
       "toolitems": [
        [
         "Home",
         "Reset original view",
         "home",
         "home"
        ],
        [
         "Back",
         "Back to previous view",
         "arrow-left",
         "back"
        ],
        [
         "Forward",
         "Forward to next view",
         "arrow-right",
         "forward"
        ],
        [
         "Pan",
         "Left button pans, Right button zooms\nx/y fixes axis, CTRL fixes aspect",
         "arrows",
         "pan"
        ],
        [
         "Zoom",
         "Zoom to rectangle\nx/y fixes axis, CTRL fixes aspect",
         "square-o",
         "zoom"
        ],
        [
         "Download",
         "Download plot",
         "floppy-o",
         "save_figure"
        ]
       ]
      }
     },
     "2ecb7238a00f403d9f5e2762dbbd6c2c": {
      "model_module": "jupyter-matplotlib",
      "model_module_version": "^0.7.4",
      "model_name": "MPLCanvasModel",
      "state": {
       "_cursor": "default",
       "_figure_label": "Figure 1",
       "_height": 500,
       "_width": 1500,
       "layout": "IPY_MODEL_6759ee94e62f4823900a6ce9abea5baa",
       "toolbar": "IPY_MODEL_543fac9625ae44b99ca3dbd6d3986b28",
       "toolbar_position": "left"
      }
     },
     "315914ce2a06418884baf9a29af1280d": {
      "model_module": "jupyter-matplotlib",
      "model_module_version": "^0.7.4",
      "model_name": "MPLCanvasModel",
      "state": {
       "_cursor": "default",
       "_figure_label": "Figure 13",
       "_height": 500,
       "_width": 1500,
       "layout": "IPY_MODEL_fdf781793a9a434fa8930c38873ff065",
       "toolbar": "IPY_MODEL_2de05ec4c0624847bafc6ebcbc6b0036",
       "toolbar_position": "left"
      }
     },
     "35a9a61cf956473ab494643fb5230109": {
      "model_module": "jupyter-matplotlib",
      "model_module_version": "^0.7.4",
      "model_name": "ToolbarModel",
      "state": {
       "layout": "IPY_MODEL_3dd0e245ecba4bc18dae814564c71a80",
       "toolitems": [
        [
         "Home",
         "Reset original view",
         "home",
         "home"
        ],
        [
         "Back",
         "Back to previous view",
         "arrow-left",
         "back"
        ],
        [
         "Forward",
         "Forward to next view",
         "arrow-right",
         "forward"
        ],
        [
         "Pan",
         "Left button pans, Right button zooms\nx/y fixes axis, CTRL fixes aspect",
         "arrows",
         "pan"
        ],
        [
         "Zoom",
         "Zoom to rectangle\nx/y fixes axis, CTRL fixes aspect",
         "square-o",
         "zoom"
        ],
        [
         "Download",
         "Download plot",
         "floppy-o",
         "save_figure"
        ]
       ]
      }
     },
     "3d842cc9fe0f4ed782afdab268fce9c9": {
      "model_module": "@jupyter-widgets/base",
      "model_module_version": "1.2.0",
      "model_name": "LayoutModel",
      "state": {}
     },
     "3dd0e245ecba4bc18dae814564c71a80": {
      "model_module": "@jupyter-widgets/base",
      "model_module_version": "1.2.0",
      "model_name": "LayoutModel",
      "state": {}
     },
     "3e29aabbe1154b63827878537fccbb47": {
      "model_module": "jupyter-matplotlib",
      "model_module_version": "^0.7.4",
      "model_name": "MPLCanvasModel",
      "state": {
       "_cursor": "default",
       "_figure_label": "Figure 9",
       "_height": 500,
       "_image_mode": "diff",
       "_width": 1500,
       "layout": "IPY_MODEL_df82c184af414da9b30a5e975cf51837",
       "toolbar": "IPY_MODEL_f994c0ae55814f55ac2fa5d3c4acbfb7",
       "toolbar_position": "left"
      }
     },
     "40e25cbc19e54a7ba7ece861a224b4cc": {
      "model_module": "@jupyter-widgets/base",
      "model_module_version": "1.2.0",
      "model_name": "LayoutModel",
      "state": {}
     },
     "4679137ef39b42ffaaed51ee97f1b7e8": {
      "model_module": "@jupyter-widgets/base",
      "model_module_version": "1.2.0",
      "model_name": "LayoutModel",
      "state": {}
     },
     "493e03e98908410da289b5c31baf5c6a": {
      "model_module": "jupyter-matplotlib",
      "model_module_version": "^0.7.4",
      "model_name": "ToolbarModel",
      "state": {
       "layout": "IPY_MODEL_3d842cc9fe0f4ed782afdab268fce9c9",
       "toolitems": [
        [
         "Home",
         "Reset original view",
         "home",
         "home"
        ],
        [
         "Back",
         "Back to previous view",
         "arrow-left",
         "back"
        ],
        [
         "Forward",
         "Forward to next view",
         "arrow-right",
         "forward"
        ],
        [
         "Pan",
         "Left button pans, Right button zooms\nx/y fixes axis, CTRL fixes aspect",
         "arrows",
         "pan"
        ],
        [
         "Zoom",
         "Zoom to rectangle\nx/y fixes axis, CTRL fixes aspect",
         "square-o",
         "zoom"
        ],
        [
         "Download",
         "Download plot",
         "floppy-o",
         "save_figure"
        ]
       ]
      }
     },
     "4a2efcdf37f947bd94e65d05fa5718f4": {
      "model_module": "jupyter-matplotlib",
      "model_module_version": "^0.7.4",
      "model_name": "MPLCanvasModel",
      "state": {
       "_cursor": "default",
       "_figure_label": "Figure 6",
       "_height": 500,
       "_width": 1500,
       "layout": "IPY_MODEL_f802a06dbf504349b3ce0cc7ba7ed67d",
       "toolbar": "IPY_MODEL_f0492d78f2014d169011c75e04c43cfd",
       "toolbar_position": "left"
      }
     },
     "4ab913020043444daef56560a937cca5": {
      "model_module": "@jupyter-widgets/base",
      "model_module_version": "1.2.0",
      "model_name": "LayoutModel",
      "state": {}
     },
     "4d096984ffe84becbda9f6a01b1b3b18": {
      "model_module": "jupyter-matplotlib",
      "model_module_version": "^0.7.4",
      "model_name": "MPLCanvasModel",
      "state": {
       "_cursor": "default",
       "_figure_label": "Figure 7",
       "_height": 500,
       "_width": 1500,
       "layout": "IPY_MODEL_6ab885bfeec94f5899738e3434d0f58c",
       "toolbar": "IPY_MODEL_b769b1cf400b42dcb0767ff1e5a0606e",
       "toolbar_position": "left"
      }
     },
     "543fac9625ae44b99ca3dbd6d3986b28": {
      "model_module": "jupyter-matplotlib",
      "model_module_version": "^0.7.4",
      "model_name": "ToolbarModel",
      "state": {
       "layout": "IPY_MODEL_4ab913020043444daef56560a937cca5",
       "toolitems": [
        [
         "Home",
         "Reset original view",
         "home",
         "home"
        ],
        [
         "Back",
         "Back to previous view",
         "arrow-left",
         "back"
        ],
        [
         "Forward",
         "Forward to next view",
         "arrow-right",
         "forward"
        ],
        [
         "Pan",
         "Left button pans, Right button zooms\nx/y fixes axis, CTRL fixes aspect",
         "arrows",
         "pan"
        ],
        [
         "Zoom",
         "Zoom to rectangle\nx/y fixes axis, CTRL fixes aspect",
         "square-o",
         "zoom"
        ],
        [
         "Download",
         "Download plot",
         "floppy-o",
         "save_figure"
        ]
       ]
      }
     },
     "58e49f8d03cf40e2af531ed81b3a4ec4": {
      "model_module": "jupyter-matplotlib",
      "model_module_version": "^0.7.4",
      "model_name": "ToolbarModel",
      "state": {
       "layout": "IPY_MODEL_89ef3f749ded4026b5eb11e1ab1c13a2",
       "toolitems": [
        [
         "Home",
         "Reset original view",
         "home",
         "home"
        ],
        [
         "Back",
         "Back to previous view",
         "arrow-left",
         "back"
        ],
        [
         "Forward",
         "Forward to next view",
         "arrow-right",
         "forward"
        ],
        [
         "Pan",
         "Left button pans, Right button zooms\nx/y fixes axis, CTRL fixes aspect",
         "arrows",
         "pan"
        ],
        [
         "Zoom",
         "Zoom to rectangle\nx/y fixes axis, CTRL fixes aspect",
         "square-o",
         "zoom"
        ],
        [
         "Download",
         "Download plot",
         "floppy-o",
         "save_figure"
        ]
       ]
      }
     },
     "5c132da32cc24c38aedcb48cd11f17c7": {
      "model_module": "@jupyter-widgets/base",
      "model_module_version": "1.2.0",
      "model_name": "LayoutModel",
      "state": {}
     },
     "5c50ba042702472f9528cc6e1400ec5a": {
      "model_module": "jupyter-matplotlib",
      "model_module_version": "^0.7.4",
      "model_name": "MPLCanvasModel",
      "state": {
       "_cursor": "default",
       "_figure_label": "Figure 10",
       "_height": 500,
       "_image_mode": "diff",
       "_width": 1500,
       "layout": "IPY_MODEL_5c132da32cc24c38aedcb48cd11f17c7",
       "toolbar": "IPY_MODEL_020bb7ad2f9a4dd9a8548c56942cae94",
       "toolbar_position": "left"
      }
     },
     "5f1c8ae2bd66409b95c320d5f8299b6c": {
      "model_module": "jupyter-matplotlib",
      "model_module_version": "^0.7.4",
      "model_name": "MPLCanvasModel",
      "state": {
       "_cursor": "default",
       "_figure_label": "Figure 2",
       "_height": 500,
       "_width": 1500,
       "layout": "IPY_MODEL_c0d3cd8d48124d349a1654ac98cc0806",
       "toolbar": "IPY_MODEL_35a9a61cf956473ab494643fb5230109",
       "toolbar_position": "left"
      }
     },
     "6634a27b2b4d41f2a99517f1eae23c9f": {
      "model_module": "@jupyter-widgets/base",
      "model_module_version": "1.2.0",
      "model_name": "LayoutModel",
      "state": {}
     },
     "6759ee94e62f4823900a6ce9abea5baa": {
      "model_module": "@jupyter-widgets/base",
      "model_module_version": "1.2.0",
      "model_name": "LayoutModel",
      "state": {}
     },
     "681822b0559745eaabb5adba0b8c4e11": {
      "model_module": "@jupyter-widgets/base",
      "model_module_version": "1.2.0",
      "model_name": "LayoutModel",
      "state": {}
     },
     "6ab885bfeec94f5899738e3434d0f58c": {
      "model_module": "@jupyter-widgets/base",
      "model_module_version": "1.2.0",
      "model_name": "LayoutModel",
      "state": {}
     },
     "6b02e56b99f54ff396a6b6bdc7ef8383": {
      "model_module": "jupyter-matplotlib",
      "model_module_version": "^0.7.4",
      "model_name": "MPLCanvasModel",
      "state": {
       "_cursor": "default",
       "_figure_label": "Figure 12",
       "_height": 500,
       "_width": 1500,
       "layout": "IPY_MODEL_4679137ef39b42ffaaed51ee97f1b7e8",
       "toolbar": "IPY_MODEL_d44bb1bd92274703bd03ccdf26e884f1",
       "toolbar_position": "left"
      }
     },
     "7934fc2d08e24ef1ad28c1012d0b76c8": {
      "model_module": "@jupyter-widgets/base",
      "model_module_version": "1.2.0",
      "model_name": "LayoutModel",
      "state": {}
     },
     "7c8189a4f3a9409f97eb44b6192c5372": {
      "model_module": "jupyter-matplotlib",
      "model_module_version": "^0.7.4",
      "model_name": "MPLCanvasModel",
      "state": {
       "_cursor": "default",
       "_figure_label": "Figure 8",
       "_height": 500,
       "_width": 1500,
       "layout": "IPY_MODEL_ef225bfda79442fd92a5aab8da4fce41",
       "toolbar": "IPY_MODEL_8a5a6e8b3d474038bd8d3e4e3540388e",
       "toolbar_position": "left"
      }
     },
     "874c149f73854b9397956e66cd36c01d": {
      "model_module": "@jupyter-widgets/base",
      "model_module_version": "1.2.0",
      "model_name": "LayoutModel",
      "state": {}
     },
     "89ef3f749ded4026b5eb11e1ab1c13a2": {
      "model_module": "@jupyter-widgets/base",
      "model_module_version": "1.2.0",
      "model_name": "LayoutModel",
      "state": {}
     },
     "8a5a6e8b3d474038bd8d3e4e3540388e": {
      "model_module": "jupyter-matplotlib",
      "model_module_version": "^0.7.4",
      "model_name": "ToolbarModel",
      "state": {
       "layout": "IPY_MODEL_c96cb792d04a4f5382d5c32b8fc41a79",
       "toolitems": [
        [
         "Home",
         "Reset original view",
         "home",
         "home"
        ],
        [
         "Back",
         "Back to previous view",
         "arrow-left",
         "back"
        ],
        [
         "Forward",
         "Forward to next view",
         "arrow-right",
         "forward"
        ],
        [
         "Pan",
         "Left button pans, Right button zooms\nx/y fixes axis, CTRL fixes aspect",
         "arrows",
         "pan"
        ],
        [
         "Zoom",
         "Zoom to rectangle\nx/y fixes axis, CTRL fixes aspect",
         "square-o",
         "zoom"
        ],
        [
         "Download",
         "Download plot",
         "floppy-o",
         "save_figure"
        ]
       ]
      }
     },
     "9300249836184db18e22ee4e3f56b949": {
      "model_module": "@jupyter-widgets/base",
      "model_module_version": "1.2.0",
      "model_name": "LayoutModel",
      "state": {}
     },
     "94c29f9d467741009ea6dd35b69ff813": {
      "model_module": "jupyter-matplotlib",
      "model_module_version": "^0.7.4",
      "model_name": "MPLCanvasModel",
      "state": {
       "_cursor": "default",
       "_figure_label": "Figure 5",
       "_height": 500,
       "_width": 1500,
       "layout": "IPY_MODEL_7934fc2d08e24ef1ad28c1012d0b76c8",
       "toolbar": "IPY_MODEL_58e49f8d03cf40e2af531ed81b3a4ec4",
       "toolbar_position": "left"
      }
     },
     "a036984970454b54973c91b49a907f9f": {
      "model_module": "jupyter-matplotlib",
      "model_module_version": "^0.7.4",
      "model_name": "ToolbarModel",
      "state": {
       "layout": "IPY_MODEL_6634a27b2b4d41f2a99517f1eae23c9f",
       "toolitems": [
        [
         "Home",
         "Reset original view",
         "home",
         "home"
        ],
        [
         "Back",
         "Back to previous view",
         "arrow-left",
         "back"
        ],
        [
         "Forward",
         "Forward to next view",
         "arrow-right",
         "forward"
        ],
        [
         "Pan",
         "Left button pans, Right button zooms\nx/y fixes axis, CTRL fixes aspect",
         "arrows",
         "pan"
        ],
        [
         "Zoom",
         "Zoom to rectangle\nx/y fixes axis, CTRL fixes aspect",
         "square-o",
         "zoom"
        ],
        [
         "Download",
         "Download plot",
         "floppy-o",
         "save_figure"
        ]
       ]
      }
     },
     "acd4c842bbea44fdbee7bb93df2d58ed": {
      "model_module": "@jupyter-widgets/base",
      "model_module_version": "1.2.0",
      "model_name": "LayoutModel",
      "state": {}
     },
     "b769b1cf400b42dcb0767ff1e5a0606e": {
      "model_module": "jupyter-matplotlib",
      "model_module_version": "^0.7.4",
      "model_name": "ToolbarModel",
      "state": {
       "layout": "IPY_MODEL_d28ce531ff4140689e15468f4b8ba945",
       "toolitems": [
        [
         "Home",
         "Reset original view",
         "home",
         "home"
        ],
        [
         "Back",
         "Back to previous view",
         "arrow-left",
         "back"
        ],
        [
         "Forward",
         "Forward to next view",
         "arrow-right",
         "forward"
        ],
        [
         "Pan",
         "Left button pans, Right button zooms\nx/y fixes axis, CTRL fixes aspect",
         "arrows",
         "pan"
        ],
        [
         "Zoom",
         "Zoom to rectangle\nx/y fixes axis, CTRL fixes aspect",
         "square-o",
         "zoom"
        ],
        [
         "Download",
         "Download plot",
         "floppy-o",
         "save_figure"
        ]
       ]
      }
     },
     "c0d3cd8d48124d349a1654ac98cc0806": {
      "model_module": "@jupyter-widgets/base",
      "model_module_version": "1.2.0",
      "model_name": "LayoutModel",
      "state": {}
     },
     "c18644478c294cd0bcb5033e6b263cc6": {
      "model_module": "@jupyter-widgets/base",
      "model_module_version": "1.2.0",
      "model_name": "LayoutModel",
      "state": {}
     },
     "c95f307bd1ca4085919eeaf1c6277632": {
      "model_module": "jupyter-matplotlib",
      "model_module_version": "^0.7.4",
      "model_name": "MPLCanvasModel",
      "state": {
       "_cursor": "default",
       "_figure_label": "Figure 3",
       "_height": 500,
       "_width": 1500,
       "layout": "IPY_MODEL_9300249836184db18e22ee4e3f56b949",
       "toolbar": "IPY_MODEL_493e03e98908410da289b5c31baf5c6a",
       "toolbar_position": "left"
      }
     },
     "c96cb792d04a4f5382d5c32b8fc41a79": {
      "model_module": "@jupyter-widgets/base",
      "model_module_version": "1.2.0",
      "model_name": "LayoutModel",
      "state": {}
     },
     "d28ce531ff4140689e15468f4b8ba945": {
      "model_module": "@jupyter-widgets/base",
      "model_module_version": "1.2.0",
      "model_name": "LayoutModel",
      "state": {}
     },
     "d44bb1bd92274703bd03ccdf26e884f1": {
      "model_module": "jupyter-matplotlib",
      "model_module_version": "^0.7.4",
      "model_name": "ToolbarModel",
      "state": {
       "layout": "IPY_MODEL_40e25cbc19e54a7ba7ece861a224b4cc",
       "toolitems": [
        [
         "Home",
         "Reset original view",
         "home",
         "home"
        ],
        [
         "Back",
         "Back to previous view",
         "arrow-left",
         "back"
        ],
        [
         "Forward",
         "Forward to next view",
         "arrow-right",
         "forward"
        ],
        [
         "Pan",
         "Left button pans, Right button zooms\nx/y fixes axis, CTRL fixes aspect",
         "arrows",
         "pan"
        ],
        [
         "Zoom",
         "Zoom to rectangle\nx/y fixes axis, CTRL fixes aspect",
         "square-o",
         "zoom"
        ],
        [
         "Download",
         "Download plot",
         "floppy-o",
         "save_figure"
        ]
       ]
      }
     },
     "df82c184af414da9b30a5e975cf51837": {
      "model_module": "@jupyter-widgets/base",
      "model_module_version": "1.2.0",
      "model_name": "LayoutModel",
      "state": {}
     },
     "e9160f290eec4f2dafa8beb7f15e2af6": {
      "model_module": "@jupyter-widgets/base",
      "model_module_version": "1.2.0",
      "model_name": "LayoutModel",
      "state": {}
     },
     "ef225bfda79442fd92a5aab8da4fce41": {
      "model_module": "@jupyter-widgets/base",
      "model_module_version": "1.2.0",
      "model_name": "LayoutModel",
      "state": {}
     },
     "f0492d78f2014d169011c75e04c43cfd": {
      "model_module": "jupyter-matplotlib",
      "model_module_version": "^0.7.4",
      "model_name": "ToolbarModel",
      "state": {
       "layout": "IPY_MODEL_acd4c842bbea44fdbee7bb93df2d58ed",
       "toolitems": [
        [
         "Home",
         "Reset original view",
         "home",
         "home"
        ],
        [
         "Back",
         "Back to previous view",
         "arrow-left",
         "back"
        ],
        [
         "Forward",
         "Forward to next view",
         "arrow-right",
         "forward"
        ],
        [
         "Pan",
         "Left button pans, Right button zooms\nx/y fixes axis, CTRL fixes aspect",
         "arrows",
         "pan"
        ],
        [
         "Zoom",
         "Zoom to rectangle\nx/y fixes axis, CTRL fixes aspect",
         "square-o",
         "zoom"
        ],
        [
         "Download",
         "Download plot",
         "floppy-o",
         "save_figure"
        ]
       ]
      }
     },
     "f198da3393754cb1b32cc9f0e9a6ec8d": {
      "model_module": "@jupyter-widgets/base",
      "model_module_version": "1.2.0",
      "model_name": "LayoutModel",
      "state": {}
     },
     "f3871d710c294f8888fbbcc5163c3794": {
      "model_module": "jupyter-matplotlib",
      "model_module_version": "^0.7.4",
      "model_name": "MPLCanvasModel",
      "state": {
       "_cursor": "default",
       "_figure_label": "Figure 4",
       "_height": 500,
       "_width": 1500,
       "layout": "IPY_MODEL_ffc16abe0f0d4bf0a9da00166d8b8b17",
       "toolbar": "IPY_MODEL_0a52c9be2b6448edbfc1494613c22497",
       "toolbar_position": "left"
      }
     },
     "f802a06dbf504349b3ce0cc7ba7ed67d": {
      "model_module": "@jupyter-widgets/base",
      "model_module_version": "1.2.0",
      "model_name": "LayoutModel",
      "state": {}
     },
     "f994c0ae55814f55ac2fa5d3c4acbfb7": {
      "model_module": "jupyter-matplotlib",
      "model_module_version": "^0.7.4",
      "model_name": "ToolbarModel",
      "state": {
       "layout": "IPY_MODEL_874c149f73854b9397956e66cd36c01d",
       "toolitems": [
        [
         "Home",
         "Reset original view",
         "home",
         "home"
        ],
        [
         "Back",
         "Back to previous view",
         "arrow-left",
         "back"
        ],
        [
         "Forward",
         "Forward to next view",
         "arrow-right",
         "forward"
        ],
        [
         "Pan",
         "Left button pans, Right button zooms\nx/y fixes axis, CTRL fixes aspect",
         "arrows",
         "pan"
        ],
        [
         "Zoom",
         "Zoom to rectangle\nx/y fixes axis, CTRL fixes aspect",
         "square-o",
         "zoom"
        ],
        [
         "Download",
         "Download plot",
         "floppy-o",
         "save_figure"
        ]
       ]
      }
     },
     "fdf781793a9a434fa8930c38873ff065": {
      "model_module": "@jupyter-widgets/base",
      "model_module_version": "1.2.0",
      "model_name": "LayoutModel",
      "state": {}
     },
     "ffc16abe0f0d4bf0a9da00166d8b8b17": {
      "model_module": "@jupyter-widgets/base",
      "model_module_version": "1.2.0",
      "model_name": "LayoutModel",
      "state": {}
     }
    },
    "version_major": 2,
    "version_minor": 0
   }
  }
 },
 "nbformat": 4,
 "nbformat_minor": 4
}
