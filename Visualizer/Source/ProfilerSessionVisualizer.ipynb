{
 "cells": [
  {
   "cell_type": "code",
   "execution_count": 1,
   "metadata": {
    "pycharm": {
     "name": "#%%\n"
    }
   },
   "outputs": [],
   "source": [
    "import pathlib\n",
    "import pprint\n",
    "\n",
    "from Visualizer.Monitoring.Persistence.MonitorData import MonitorData\n",
    "from Visualizer.Monitoring.Persistence.ProfilerSession import ProfilerSession\n",
    "from Visualizer.Plotting.Plot import Plot"
   ]
  },
  {
   "cell_type": "markdown",
   "metadata": {},
   "source": [
    "# Profiler Session Visualizer\n",
    "\n",
    "This notebook can visualize a specific profiler session.\n",
    "\n",
    "## Table of Contents\n",
    "\n",
    "1. [Configuration](#Configuration)\n",
    "2. [Profiler Sessions Overview](#Profiler-Sessions-Overview)\n",
    "3. [Visualize a Profiler Session](#Visualize-a-Profiler-Session)\n",
    "    1. [Summary](#Summary)\n",
    "    2. [Profile](#Profile)\n",
    "    3. [Overview](#Overview)\n",
    "    4. [Switches](#Switches)\n",
    "    5. [Clock Rates](#Clock-Rates)\n",
    "    6. [Utilization Rates](#Utilization-Rates)\n",
    "    7. [Power Consumption](#Power-Consumption)\n",
    "    8. [Energy Consumption](#Energy-Consumption)\n",
    "    9. [Fan Speed](#Fan-Speed)\n",
    "    10. [Memory Consumption](#Memory-Consumption)\n",
    "    11. [Processes](#Processes)\n",
    "    12. [Temperature](#Temperature)\n",
    "    13. [Kernel Coordinates](#Kernel-Coordinates)\n",
    "    14. [Correlations](#Correlations)\n",
    "\n",
    "## Configuration\n",
    "\n",
    "Configure the project settings below.\n",
    "The default configuration should be okay.\n",
    "Make sure that you have run at least one profiler session with the EnergyManager and have generated a database, otherwise this notebook will fail."
   ]
  },
  {
   "cell_type": "code",
   "execution_count": 2,
   "metadata": {
    "pycharm": {
     "name": "#%%\n"
    }
   },
   "outputs": [],
   "source": [
    "source_directory = pathlib.Path().parent.absolute()\n",
    "project_directory = f\"{source_directory}/..\"\n",
    "database = f\"{project_directory}/../EnergyManager/Resources/Test Results/database.sqlite\""
   ]
  },
  {
   "cell_type": "markdown",
   "metadata": {},
   "source": [
    "## Profiler Sessions Overview\n",
    "\n",
    "Below all profiler sessions are shown."
   ]
  },
  {
   "cell_type": "code",
   "execution_count": 3,
   "metadata": {
    "pycharm": {
     "name": "#%%\n"
    }
   },
   "outputs": [
    {
     "data": {
      "text/html": [
       "<div>\n",
       "<style scoped>\n",
       "    .dataframe tbody tr th:only-of-type {\n",
       "        vertical-align: middle;\n",
       "    }\n",
       "\n",
       "    .dataframe tbody tr th {\n",
       "        vertical-align: top;\n",
       "    }\n",
       "\n",
       "    .dataframe thead th {\n",
       "        text-align: right;\n",
       "    }\n",
       "</style>\n",
       "<table border=\"1\" class=\"dataframe\">\n",
       "  <thead>\n",
       "    <tr style=\"text-align: right;\">\n",
       "      <th></th>\n",
       "      <th>ID</th>\n",
       "      <th>Label</th>\n",
       "      <th>Profile</th>\n",
       "    </tr>\n",
       "  </thead>\n",
       "  <tbody>\n",
       "    <tr>\n",
       "      <th>0</th>\n",
       "      <td>5415</td>\n",
       "      <td>KMeans</td>\n",
       "      <td>{'cpu': '0', 'file': '/data/Cloud/Nextcloud/Education/Vrije Universiteit/Master Project/Project/EnergyManager/Resources/Rodinia/data/kmeans/100', 'gpu': '0', 'maximumCPUClockRate': '11999999996', 'maximumGPUClockRate': '1744737149', 'minimumCPUClockRate': '11999999996', 'minimumGPUClockRate': '1744737149'}</td>\n",
       "    </tr>\n",
       "    <tr>\n",
       "      <th>1</th>\n",
       "      <td>5416</td>\n",
       "      <td>KMeans</td>\n",
       "      <td>{'cpu': '0', 'file': '/data/Cloud/Nextcloud/Education/Vrije Universiteit/Master Project/Project/EnergyManager/Resources/Rodinia/data/kmeans/100', 'gpu': '0', 'maximumCPUClockRate': '11999999996', 'maximumGPUClockRate': '1744737149', 'minimumCPUClockRate': '11999999996', 'minimumGPUClockRate': '1744737149'}</td>\n",
       "    </tr>\n",
       "    <tr>\n",
       "      <th>2</th>\n",
       "      <td>5417</td>\n",
       "      <td>KMeans</td>\n",
       "      <td>{'cpu': '0', 'file': '/data/Cloud/Nextcloud/Education/Vrije Universiteit/Master Project/Project/EnergyManager/Resources/Rodinia/data/kmeans/100', 'gpu': '0', 'maximumCPUClockRate': '11999999996', 'maximumGPUClockRate': '1744737149', 'minimumCPUClockRate': '11999999996', 'minimumGPUClockRate': '1744737149'}</td>\n",
       "    </tr>\n",
       "    <tr>\n",
       "      <th>3</th>\n",
       "      <td>5418</td>\n",
       "      <td>KMeans</td>\n",
       "      <td>{'cpu': '0', 'file': '/data/Cloud/Nextcloud/Education/Vrije Universiteit/Master Project/Project/EnergyManager/Resources/Rodinia/data/kmeans/100', 'gpu': '0', 'maximumCPUClockRate': '10231578944', 'maximumGPUClockRate': '402632419', 'minimumCPUClockRate': '10231578944', 'minimumGPUClockRate': '402632419'}</td>\n",
       "    </tr>\n",
       "    <tr>\n",
       "      <th>4</th>\n",
       "      <td>5419</td>\n",
       "      <td>KMeans</td>\n",
       "      <td>{'cpu': '0', 'file': '/data/Cloud/Nextcloud/Education/Vrije Universiteit/Master Project/Project/EnergyManager/Resources/Rodinia/data/kmeans/100', 'gpu': '0', 'maximumCPUClockRate': '10231578944', 'maximumGPUClockRate': '402632419', 'minimumCPUClockRate': '10231578944', 'minimumGPUClockRate': '402632419'}</td>\n",
       "    </tr>\n",
       "    <tr>\n",
       "      <th>5</th>\n",
       "      <td>5420</td>\n",
       "      <td>KMeans</td>\n",
       "      <td>{'cpu': '0', 'file': '/data/Cloud/Nextcloud/Education/Vrije Universiteit/Master Project/Project/EnergyManager/Resources/Rodinia/data/kmeans/100', 'gpu': '0', 'maximumCPUClockRate': '10231578944', 'maximumGPUClockRate': '402632419', 'minimumCPUClockRate': '10231578944', 'minimumGPUClockRate': '402632419'}</td>\n",
       "    </tr>\n",
       "    <tr>\n",
       "      <th>6</th>\n",
       "      <td>5421</td>\n",
       "      <td>KMeans</td>\n",
       "      <td>{'cpu': '0', 'file': '/data/Cloud/Nextcloud/Education/Vrije Universiteit/Master Project/Project/EnergyManager/Resources/Rodinia/data/kmeans/100', 'gpu': '0', 'maximumCPUClockRate': '8463157892', 'maximumGPUClockRate': '1000', 'minimumCPUClockRate': '8463157892', 'minimumGPUClockRate': '1000'}</td>\n",
       "    </tr>\n",
       "    <tr>\n",
       "      <th>7</th>\n",
       "      <td>5422</td>\n",
       "      <td>KMeans</td>\n",
       "      <td>{'cpu': '0', 'file': '/data/Cloud/Nextcloud/Education/Vrije Universiteit/Master Project/Project/EnergyManager/Resources/Rodinia/data/kmeans/100', 'gpu': '0', 'maximumCPUClockRate': '8463157892', 'maximumGPUClockRate': '1000', 'minimumCPUClockRate': '8463157892', 'minimumGPUClockRate': '1000'}</td>\n",
       "    </tr>\n",
       "    <tr>\n",
       "      <th>8</th>\n",
       "      <td>5423</td>\n",
       "      <td>KMeans</td>\n",
       "      <td>{'cpu': '0', 'file': '/data/Cloud/Nextcloud/Education/Vrije Universiteit/Master Project/Project/EnergyManager/Resources/Rodinia/data/kmeans/100', 'gpu': '0', 'maximumCPUClockRate': '8463157892', 'maximumGPUClockRate': '1000', 'minimumCPUClockRate': '8463157892', 'minimumGPUClockRate': '1000'}</td>\n",
       "    </tr>\n",
       "    <tr>\n",
       "      <th>9</th>\n",
       "      <td>5424</td>\n",
       "      <td>KMeans</td>\n",
       "      <td>{'cpu': '0', 'file': '/data/Cloud/Nextcloud/Education/Vrije Universiteit/Master Project/Project/EnergyManager/Resources/Rodinia/data/kmeans/100', 'gpu': '0', 'maximumCPUClockRate': '5515789472', 'maximumGPUClockRate': '2549999987', 'minimumCPUClockRate': '5515789472', 'minimumGPUClockRate': '2549999987'}</td>\n",
       "    </tr>\n",
       "    <tr>\n",
       "      <th>10</th>\n",
       "      <td>5425</td>\n",
       "      <td>KMeans</td>\n",
       "      <td>{'cpu': '0', 'file': '/data/Cloud/Nextcloud/Education/Vrije Universiteit/Master Project/Project/EnergyManager/Resources/Rodinia/data/kmeans/100', 'gpu': '0', 'maximumCPUClockRate': '5515789472', 'maximumGPUClockRate': '2549999987', 'minimumCPUClockRate': '5515789472', 'minimumGPUClockRate': '2549999987'}</td>\n",
       "    </tr>\n",
       "    <tr>\n",
       "      <th>11</th>\n",
       "      <td>5426</td>\n",
       "      <td>KMeans</td>\n",
       "      <td>{'cpu': '0', 'file': '/data/Cloud/Nextcloud/Education/Vrije Universiteit/Master Project/Project/EnergyManager/Resources/Rodinia/data/kmeans/100', 'gpu': '0', 'maximumCPUClockRate': '5515789472', 'maximumGPUClockRate': '2549999987', 'minimumCPUClockRate': '5515789472', 'minimumGPUClockRate': '2549999987'}</td>\n",
       "    </tr>\n",
       "    <tr>\n",
       "      <th>12</th>\n",
       "      <td>5427</td>\n",
       "      <td>KMeans</td>\n",
       "      <td>{'cpu': '0', 'file': '/data/Cloud/Nextcloud/Education/Vrije Universiteit/Master Project/Project/EnergyManager/Resources/Rodinia/data/kmeans/100', 'gpu': '0', 'maximumCPUClockRate': '7284210524', 'maximumGPUClockRate': '1207895257', 'minimumCPUClockRate': '7284210524', 'minimumGPUClockRate': '1207895257'}</td>\n",
       "    </tr>\n",
       "    <tr>\n",
       "      <th>13</th>\n",
       "      <td>5428</td>\n",
       "      <td>KMeans</td>\n",
       "      <td>{'cpu': '0', 'file': '/data/Cloud/Nextcloud/Education/Vrije Universiteit/Master Project/Project/EnergyManager/Resources/Rodinia/data/kmeans/100', 'gpu': '0', 'maximumCPUClockRate': '7284210524', 'maximumGPUClockRate': '1207895257', 'minimumCPUClockRate': '7284210524', 'minimumGPUClockRate': '1207895257'}</td>\n",
       "    </tr>\n",
       "    <tr>\n",
       "      <th>14</th>\n",
       "      <td>5429</td>\n",
       "      <td>KMeans</td>\n",
       "      <td>{'cpu': '0', 'file': '/data/Cloud/Nextcloud/Education/Vrije Universiteit/Master Project/Project/EnergyManager/Resources/Rodinia/data/kmeans/100', 'gpu': '0', 'maximumCPUClockRate': '7284210524', 'maximumGPUClockRate': '1207895257', 'minimumCPUClockRate': '7284210524', 'minimumGPUClockRate': '1207895257'}</td>\n",
       "    </tr>\n",
       "    <tr>\n",
       "      <th>15</th>\n",
       "      <td>5430</td>\n",
       "      <td>KMeans</td>\n",
       "      <td>{'cpu': '0', 'file': '/data/Cloud/Nextcloud/Education/Vrije Universiteit/Master Project/Project/EnergyManager/Resources/Rodinia/data/kmeans/100', 'gpu': '0', 'maximumCPUClockRate': '1978947368', 'maximumGPUClockRate': '1476316203', 'minimumCPUClockRate': '1978947368', 'minimumGPUClockRate': '1476316203'}</td>\n",
       "    </tr>\n",
       "    <tr>\n",
       "      <th>16</th>\n",
       "      <td>5431</td>\n",
       "      <td>KMeans</td>\n",
       "      <td>{'cpu': '0', 'file': '/data/Cloud/Nextcloud/Education/Vrije Universiteit/Master Project/Project/EnergyManager/Resources/Rodinia/data/kmeans/100', 'gpu': '0', 'maximumCPUClockRate': '1978947368', 'maximumGPUClockRate': '1476316203', 'minimumCPUClockRate': '1978947368', 'minimumGPUClockRate': '1476316203'}</td>\n",
       "    </tr>\n",
       "    <tr>\n",
       "      <th>17</th>\n",
       "      <td>5432</td>\n",
       "      <td>KMeans</td>\n",
       "      <td>{'cpu': '0', 'file': '/data/Cloud/Nextcloud/Education/Vrije Universiteit/Master Project/Project/EnergyManager/Resources/Rodinia/data/kmeans/100', 'gpu': '0', 'maximumCPUClockRate': '1978947368', 'maximumGPUClockRate': '1476316203', 'minimumCPUClockRate': '1978947368', 'minimumGPUClockRate': '1476316203'}</td>\n",
       "    </tr>\n",
       "    <tr>\n",
       "      <th>18</th>\n",
       "      <td>5433</td>\n",
       "      <td>KMeans</td>\n",
       "      <td>{'cpu': '0', 'file': '/data/Cloud/Nextcloud/Education/Vrije Universiteit/Master Project/Project/EnergyManager/Resources/Rodinia/data/kmeans/100', 'gpu': '0', 'maximumCPUClockRate': '11999999996', 'maximumGPUClockRate': '1073684784', 'minimumCPUClockRate': '11999999996', 'minimumGPUClockRate': '1073684784'}</td>\n",
       "    </tr>\n",
       "    <tr>\n",
       "      <th>19</th>\n",
       "      <td>5434</td>\n",
       "      <td>KMeans</td>\n",
       "      <td>{'cpu': '0', 'file': '/data/Cloud/Nextcloud/Education/Vrije Universiteit/Master Project/Project/EnergyManager/Resources/Rodinia/data/kmeans/100', 'gpu': '0', 'maximumCPUClockRate': '11999999996', 'maximumGPUClockRate': '1073684784', 'minimumCPUClockRate': '11999999996', 'minimumGPUClockRate': '1073684784'}</td>\n",
       "    </tr>\n",
       "    <tr>\n",
       "      <th>20</th>\n",
       "      <td>5435</td>\n",
       "      <td>KMeans</td>\n",
       "      <td>{'cpu': '0', 'file': '/data/Cloud/Nextcloud/Education/Vrije Universiteit/Master Project/Project/EnergyManager/Resources/Rodinia/data/kmeans/100', 'gpu': '0', 'maximumCPUClockRate': '11999999996', 'maximumGPUClockRate': '1073684784', 'minimumCPUClockRate': '11999999996', 'minimumGPUClockRate': '1073684784'}</td>\n",
       "    </tr>\n",
       "    <tr>\n",
       "      <th>21</th>\n",
       "      <td>5436</td>\n",
       "      <td>KMeans</td>\n",
       "      <td>{'cpu': '0', 'file': '/data/Cloud/Nextcloud/Education/Vrije Universiteit/Master Project/Project/EnergyManager/Resources/Rodinia/data/kmeans/100', 'gpu': '0', 'maximumCPUClockRate': '3747368420', 'maximumGPUClockRate': '1610526676', 'minimumCPUClockRate': '3747368420', 'minimumGPUClockRate': '1610526676'}</td>\n",
       "    </tr>\n",
       "    <tr>\n",
       "      <th>22</th>\n",
       "      <td>5437</td>\n",
       "      <td>KMeans</td>\n",
       "      <td>{'cpu': '0', 'file': '/data/Cloud/Nextcloud/Education/Vrije Universiteit/Master Project/Project/EnergyManager/Resources/Rodinia/data/kmeans/100', 'gpu': '0', 'maximumCPUClockRate': '3747368420', 'maximumGPUClockRate': '1610526676', 'minimumCPUClockRate': '3747368420', 'minimumGPUClockRate': '1610526676'}</td>\n",
       "    </tr>\n",
       "    <tr>\n",
       "      <th>23</th>\n",
       "      <td>5438</td>\n",
       "      <td>KMeans</td>\n",
       "      <td>{'cpu': '0', 'file': '/data/Cloud/Nextcloud/Education/Vrije Universiteit/Master Project/Project/EnergyManager/Resources/Rodinia/data/kmeans/100', 'gpu': '0', 'maximumCPUClockRate': '3747368420', 'maximumGPUClockRate': '1610526676', 'minimumCPUClockRate': '3747368420', 'minimumGPUClockRate': '1610526676'}</td>\n",
       "    </tr>\n",
       "    <tr>\n",
       "      <th>24</th>\n",
       "      <td>5439</td>\n",
       "      <td>KMeans</td>\n",
       "      <td>{'cpu': '0', 'file': '/data/Cloud/Nextcloud/Education/Vrije Universiteit/Master Project/Project/EnergyManager/Resources/Rodinia/data/kmeans/100', 'gpu': '0', 'maximumCPUClockRate': '3157894736', 'maximumGPUClockRate': '402632419', 'minimumCPUClockRate': '3157894736', 'minimumGPUClockRate': '402632419'}</td>\n",
       "    </tr>\n",
       "    <tr>\n",
       "      <th>...</th>\n",
       "      <td>...</td>\n",
       "      <td>...</td>\n",
       "      <td>...</td>\n",
       "    </tr>\n",
       "    <tr>\n",
       "      <th>1774</th>\n",
       "      <td>7605</td>\n",
       "      <td>Matrix Multiply</td>\n",
       "      <td>{'cpu': '0', 'gpu': '0', 'matrixAHeight': '960', 'matrixAWidth': '960', 'matrixBHeight': '960', 'matrixBWidth': '960', 'maximumCPUClockRate': '4533333332', 'maximumGPUClockRate': '850000666', 'minimumCPUClockRate': '4533333332', 'minimumGPUClockRate': '850000666'}</td>\n",
       "    </tr>\n",
       "    <tr>\n",
       "      <th>1775</th>\n",
       "      <td>7606</td>\n",
       "      <td>Matrix Multiply</td>\n",
       "      <td>{'cpu': '0', 'gpu': '0', 'matrixAHeight': '960', 'matrixAWidth': '960', 'matrixBHeight': '960', 'matrixBWidth': '960', 'maximumCPUClockRate': '4533333332', 'maximumGPUClockRate': '850000666', 'minimumCPUClockRate': '4533333332', 'minimumGPUClockRate': '850000666'}</td>\n",
       "    </tr>\n",
       "    <tr>\n",
       "      <th>1776</th>\n",
       "      <td>7607</td>\n",
       "      <td>Matrix Multiply</td>\n",
       "      <td>{'cpu': '0', 'gpu': '0', 'matrixAHeight': '960', 'matrixAWidth': '960', 'matrixBHeight': '960', 'matrixBWidth': '960', 'maximumCPUClockRate': '3288888888', 'maximumGPUClockRate': '850000666', 'minimumCPUClockRate': '3288888888', 'minimumGPUClockRate': '850000666'}</td>\n",
       "    </tr>\n",
       "    <tr>\n",
       "      <th>1777</th>\n",
       "      <td>7608</td>\n",
       "      <td>Matrix Multiply</td>\n",
       "      <td>{'cpu': '0', 'gpu': '0', 'matrixAHeight': '960', 'matrixAWidth': '960', 'matrixBHeight': '960', 'matrixBWidth': '960', 'maximumCPUClockRate': '3288888888', 'maximumGPUClockRate': '850000666', 'minimumCPUClockRate': '3288888888', 'minimumGPUClockRate': '850000666'}</td>\n",
       "    </tr>\n",
       "    <tr>\n",
       "      <th>1778</th>\n",
       "      <td>7609</td>\n",
       "      <td>Matrix Multiply</td>\n",
       "      <td>{'cpu': '0', 'gpu': '0', 'matrixAHeight': '960', 'matrixAWidth': '960', 'matrixBHeight': '960', 'matrixBWidth': '960', 'maximumCPUClockRate': '3288888888', 'maximumGPUClockRate': '850000666', 'minimumCPUClockRate': '3288888888', 'minimumGPUClockRate': '850000666'}</td>\n",
       "    </tr>\n",
       "    <tr>\n",
       "      <th>1779</th>\n",
       "      <td>7610</td>\n",
       "      <td>Matrix Multiply</td>\n",
       "      <td>{'cpu': '0', 'gpu': '0', 'matrixAHeight': '960', 'matrixAWidth': '960', 'matrixBHeight': '960', 'matrixBWidth': '960', 'maximumCPUClockRate': '10755555552', 'maximumGPUClockRate': '2549999998', 'minimumCPUClockRate': '10755555552', 'minimumGPUClockRate': '2549999998'}</td>\n",
       "    </tr>\n",
       "    <tr>\n",
       "      <th>1780</th>\n",
       "      <td>7611</td>\n",
       "      <td>Matrix Multiply</td>\n",
       "      <td>{'cpu': '0', 'gpu': '0', 'matrixAHeight': '960', 'matrixAWidth': '960', 'matrixBHeight': '960', 'matrixBWidth': '960', 'maximumCPUClockRate': '10755555552', 'maximumGPUClockRate': '2549999998', 'minimumCPUClockRate': '10755555552', 'minimumGPUClockRate': '2549999998'}</td>\n",
       "    </tr>\n",
       "    <tr>\n",
       "      <th>1781</th>\n",
       "      <td>7612</td>\n",
       "      <td>Matrix Multiply</td>\n",
       "      <td>{'cpu': '0', 'gpu': '0', 'matrixAHeight': '960', 'matrixAWidth': '960', 'matrixBHeight': '960', 'matrixBWidth': '960', 'maximumCPUClockRate': '10755555552', 'maximumGPUClockRate': '2549999998', 'minimumCPUClockRate': '10755555552', 'minimumGPUClockRate': '2549999998'}</td>\n",
       "    </tr>\n",
       "    <tr>\n",
       "      <th>1782</th>\n",
       "      <td>7613</td>\n",
       "      <td>Matrix Multiply</td>\n",
       "      <td>{'cpu': '0', 'gpu': '0', 'matrixAHeight': '960', 'matrixAWidth': '960', 'matrixBHeight': '960', 'matrixBWidth': '960', 'maximumCPUClockRate': '5777777776', 'maximumGPUClockRate': '283334222', 'minimumCPUClockRate': '5777777776', 'minimumGPUClockRate': '283334222'}</td>\n",
       "    </tr>\n",
       "    <tr>\n",
       "      <th>1783</th>\n",
       "      <td>7614</td>\n",
       "      <td>Matrix Multiply</td>\n",
       "      <td>{'cpu': '0', 'gpu': '0', 'matrixAHeight': '960', 'matrixAWidth': '960', 'matrixBHeight': '960', 'matrixBWidth': '960', 'maximumCPUClockRate': '5777777776', 'maximumGPUClockRate': '283334222', 'minimumCPUClockRate': '5777777776', 'minimumGPUClockRate': '283334222'}</td>\n",
       "    </tr>\n",
       "    <tr>\n",
       "      <th>1784</th>\n",
       "      <td>7615</td>\n",
       "      <td>Matrix Multiply</td>\n",
       "      <td>{'cpu': '0', 'gpu': '0', 'matrixAHeight': '960', 'matrixAWidth': '960', 'matrixBHeight': '960', 'matrixBWidth': '960', 'maximumCPUClockRate': '5777777776', 'maximumGPUClockRate': '283334222', 'minimumCPUClockRate': '5777777776', 'minimumGPUClockRate': '283334222'}</td>\n",
       "    </tr>\n",
       "    <tr>\n",
       "      <th>1785</th>\n",
       "      <td>7616</td>\n",
       "      <td>Matrix Multiply</td>\n",
       "      <td>{'cpu': '0', 'gpu': '0', 'matrixAHeight': '960', 'matrixAWidth': '960', 'matrixBHeight': '960', 'matrixBWidth': '960', 'maximumCPUClockRate': '8266666664', 'maximumGPUClockRate': '1416667110', 'minimumCPUClockRate': '8266666664', 'minimumGPUClockRate': '1416667110'}</td>\n",
       "    </tr>\n",
       "    <tr>\n",
       "      <th>1786</th>\n",
       "      <td>7617</td>\n",
       "      <td>Matrix Multiply</td>\n",
       "      <td>{'cpu': '0', 'gpu': '0', 'matrixAHeight': '960', 'matrixAWidth': '960', 'matrixBHeight': '960', 'matrixBWidth': '960', 'maximumCPUClockRate': '8266666664', 'maximumGPUClockRate': '1416667110', 'minimumCPUClockRate': '8266666664', 'minimumGPUClockRate': '1416667110'}</td>\n",
       "    </tr>\n",
       "    <tr>\n",
       "      <th>1787</th>\n",
       "      <td>7618</td>\n",
       "      <td>Matrix Multiply</td>\n",
       "      <td>{'cpu': '0', 'gpu': '0', 'matrixAHeight': '960', 'matrixAWidth': '960', 'matrixBHeight': '960', 'matrixBWidth': '960', 'maximumCPUClockRate': '8266666664', 'maximumGPUClockRate': '1416667110', 'minimumCPUClockRate': '8266666664', 'minimumGPUClockRate': '1416667110'}</td>\n",
       "    </tr>\n",
       "    <tr>\n",
       "      <th>1788</th>\n",
       "      <td>7619</td>\n",
       "      <td>Matrix Multiply</td>\n",
       "      <td>{'cpu': '0', 'gpu': '0', 'matrixAHeight': '960', 'matrixAWidth': '960', 'matrixBHeight': '960', 'matrixBWidth': '960', 'maximumCPUClockRate': '7022222220', 'maximumGPUClockRate': '850000666', 'minimumCPUClockRate': '7022222220', 'minimumGPUClockRate': '850000666'}</td>\n",
       "    </tr>\n",
       "    <tr>\n",
       "      <th>1789</th>\n",
       "      <td>7620</td>\n",
       "      <td>Matrix Multiply</td>\n",
       "      <td>{'cpu': '0', 'gpu': '0', 'matrixAHeight': '960', 'matrixAWidth': '960', 'matrixBHeight': '960', 'matrixBWidth': '960', 'maximumCPUClockRate': '7022222220', 'maximumGPUClockRate': '850000666', 'minimumCPUClockRate': '7022222220', 'minimumGPUClockRate': '850000666'}</td>\n",
       "    </tr>\n",
       "    <tr>\n",
       "      <th>1790</th>\n",
       "      <td>7621</td>\n",
       "      <td>Matrix Multiply</td>\n",
       "      <td>{'cpu': '0', 'gpu': '0', 'matrixAHeight': '960', 'matrixAWidth': '960', 'matrixBHeight': '960', 'matrixBWidth': '960', 'maximumCPUClockRate': '7022222220', 'maximumGPUClockRate': '850000666', 'minimumCPUClockRate': '7022222220', 'minimumGPUClockRate': '850000666'}</td>\n",
       "    </tr>\n",
       "    <tr>\n",
       "      <th>1791</th>\n",
       "      <td>7622</td>\n",
       "      <td>Matrix Multiply</td>\n",
       "      <td>{'cpu': '0', 'gpu': '0', 'matrixAHeight': '960', 'matrixAWidth': '960', 'matrixBHeight': '960', 'matrixBWidth': '960', 'maximumCPUClockRate': '4533333332', 'maximumGPUClockRate': '1700000332', 'minimumCPUClockRate': '4533333332', 'minimumGPUClockRate': '1700000332'}</td>\n",
       "    </tr>\n",
       "    <tr>\n",
       "      <th>1792</th>\n",
       "      <td>7623</td>\n",
       "      <td>Matrix Multiply</td>\n",
       "      <td>{'cpu': '0', 'gpu': '0', 'matrixAHeight': '960', 'matrixAWidth': '960', 'matrixBHeight': '960', 'matrixBWidth': '960', 'maximumCPUClockRate': '4533333332', 'maximumGPUClockRate': '1700000332', 'minimumCPUClockRate': '4533333332', 'minimumGPUClockRate': '1700000332'}</td>\n",
       "    </tr>\n",
       "    <tr>\n",
       "      <th>1793</th>\n",
       "      <td>7624</td>\n",
       "      <td>Matrix Multiply</td>\n",
       "      <td>{'cpu': '0', 'gpu': '0', 'matrixAHeight': '960', 'matrixAWidth': '960', 'matrixBHeight': '960', 'matrixBWidth': '960', 'maximumCPUClockRate': '4533333332', 'maximumGPUClockRate': '1700000332', 'minimumCPUClockRate': '4533333332', 'minimumGPUClockRate': '1700000332'}</td>\n",
       "    </tr>\n",
       "    <tr>\n",
       "      <th>1794</th>\n",
       "      <td>7625</td>\n",
       "      <td>Matrix Multiply</td>\n",
       "      <td>{'cpu': '0', 'gpu': '0', 'matrixAHeight': '960', 'matrixAWidth': '960', 'matrixBHeight': '960', 'matrixBWidth': '960', 'maximumCPUClockRate': '11999999996', 'maximumGPUClockRate': '2266666776', 'minimumCPUClockRate': '11999999996', 'minimumGPUClockRate': '2266666776'}</td>\n",
       "    </tr>\n",
       "    <tr>\n",
       "      <th>1795</th>\n",
       "      <td>7626</td>\n",
       "      <td>Matrix Multiply</td>\n",
       "      <td>{'cpu': '0', 'gpu': '0', 'matrixAHeight': '960', 'matrixAWidth': '960', 'matrixBHeight': '960', 'matrixBWidth': '960', 'maximumCPUClockRate': '11999999996', 'maximumGPUClockRate': '2266666776', 'minimumCPUClockRate': '11999999996', 'minimumGPUClockRate': '2266666776'}</td>\n",
       "    </tr>\n",
       "    <tr>\n",
       "      <th>1796</th>\n",
       "      <td>7627</td>\n",
       "      <td>Matrix Multiply</td>\n",
       "      <td>{'cpu': '0', 'gpu': '0', 'matrixAHeight': '960', 'matrixAWidth': '960', 'matrixBHeight': '960', 'matrixBWidth': '960', 'maximumCPUClockRate': '11999999996', 'maximumGPUClockRate': '2266666776', 'minimumCPUClockRate': '11999999996', 'minimumGPUClockRate': '2266666776'}</td>\n",
       "    </tr>\n",
       "    <tr>\n",
       "      <th>1797</th>\n",
       "      <td>7628</td>\n",
       "      <td>Matrix Multiply</td>\n",
       "      <td>{'cpu': '0', 'gpu': '0', 'matrixAHeight': '960', 'matrixAWidth': '960', 'matrixBHeight': '960', 'matrixBWidth': '960', 'maximumCPUClockRate': '800000000', 'maximumGPUClockRate': '1000', 'minimumCPUClockRate': '800000000', 'minimumGPUClockRate': '1000'}</td>\n",
       "    </tr>\n",
       "    <tr>\n",
       "      <th>1798</th>\n",
       "      <td>7629</td>\n",
       "      <td>Matrix Multiply</td>\n",
       "      <td>{'cpu': '0', 'gpu': '0', 'matrixAHeight': '960', 'matrixAWidth': '960', 'matrixBHeight': '960', 'matrixBWidth': '960', 'maximumCPUClockRate': '800000000', 'maximumGPUClockRate': '1000', 'minimumCPUClockRate': '800000000', 'minimumGPUClockRate': '1000'}</td>\n",
       "    </tr>\n",
       "  </tbody>\n",
       "</table>\n",
       "<p>1799 rows × 3 columns</p>\n",
       "</div>"
      ],
      "text/plain": [
       "        ID            Label  \\\n",
       "0     5415           KMeans   \n",
       "1     5416           KMeans   \n",
       "2     5417           KMeans   \n",
       "3     5418           KMeans   \n",
       "4     5419           KMeans   \n",
       "5     5420           KMeans   \n",
       "6     5421           KMeans   \n",
       "7     5422           KMeans   \n",
       "8     5423           KMeans   \n",
       "9     5424           KMeans   \n",
       "10    5425           KMeans   \n",
       "11    5426           KMeans   \n",
       "12    5427           KMeans   \n",
       "13    5428           KMeans   \n",
       "14    5429           KMeans   \n",
       "15    5430           KMeans   \n",
       "16    5431           KMeans   \n",
       "17    5432           KMeans   \n",
       "18    5433           KMeans   \n",
       "19    5434           KMeans   \n",
       "20    5435           KMeans   \n",
       "21    5436           KMeans   \n",
       "22    5437           KMeans   \n",
       "23    5438           KMeans   \n",
       "24    5439           KMeans   \n",
       "...    ...              ...   \n",
       "1774  7605  Matrix Multiply   \n",
       "1775  7606  Matrix Multiply   \n",
       "1776  7607  Matrix Multiply   \n",
       "1777  7608  Matrix Multiply   \n",
       "1778  7609  Matrix Multiply   \n",
       "1779  7610  Matrix Multiply   \n",
       "1780  7611  Matrix Multiply   \n",
       "1781  7612  Matrix Multiply   \n",
       "1782  7613  Matrix Multiply   \n",
       "1783  7614  Matrix Multiply   \n",
       "1784  7615  Matrix Multiply   \n",
       "1785  7616  Matrix Multiply   \n",
       "1786  7617  Matrix Multiply   \n",
       "1787  7618  Matrix Multiply   \n",
       "1788  7619  Matrix Multiply   \n",
       "1789  7620  Matrix Multiply   \n",
       "1790  7621  Matrix Multiply   \n",
       "1791  7622  Matrix Multiply   \n",
       "1792  7623  Matrix Multiply   \n",
       "1793  7624  Matrix Multiply   \n",
       "1794  7625  Matrix Multiply   \n",
       "1795  7626  Matrix Multiply   \n",
       "1796  7627  Matrix Multiply   \n",
       "1797  7628  Matrix Multiply   \n",
       "1798  7629  Matrix Multiply   \n",
       "\n",
       "                                                                                                                                                                                                                                                                                                                  Profile  \n",
       "0     {'cpu': '0', 'file': '/data/Cloud/Nextcloud/Education/Vrije Universiteit/Master Project/Project/EnergyManager/Resources/Rodinia/data/kmeans/100', 'gpu': '0', 'maximumCPUClockRate': '11999999996', 'maximumGPUClockRate': '1744737149', 'minimumCPUClockRate': '11999999996', 'minimumGPUClockRate': '1744737149'}  \n",
       "1     {'cpu': '0', 'file': '/data/Cloud/Nextcloud/Education/Vrije Universiteit/Master Project/Project/EnergyManager/Resources/Rodinia/data/kmeans/100', 'gpu': '0', 'maximumCPUClockRate': '11999999996', 'maximumGPUClockRate': '1744737149', 'minimumCPUClockRate': '11999999996', 'minimumGPUClockRate': '1744737149'}  \n",
       "2     {'cpu': '0', 'file': '/data/Cloud/Nextcloud/Education/Vrije Universiteit/Master Project/Project/EnergyManager/Resources/Rodinia/data/kmeans/100', 'gpu': '0', 'maximumCPUClockRate': '11999999996', 'maximumGPUClockRate': '1744737149', 'minimumCPUClockRate': '11999999996', 'minimumGPUClockRate': '1744737149'}  \n",
       "3       {'cpu': '0', 'file': '/data/Cloud/Nextcloud/Education/Vrije Universiteit/Master Project/Project/EnergyManager/Resources/Rodinia/data/kmeans/100', 'gpu': '0', 'maximumCPUClockRate': '10231578944', 'maximumGPUClockRate': '402632419', 'minimumCPUClockRate': '10231578944', 'minimumGPUClockRate': '402632419'}  \n",
       "4       {'cpu': '0', 'file': '/data/Cloud/Nextcloud/Education/Vrije Universiteit/Master Project/Project/EnergyManager/Resources/Rodinia/data/kmeans/100', 'gpu': '0', 'maximumCPUClockRate': '10231578944', 'maximumGPUClockRate': '402632419', 'minimumCPUClockRate': '10231578944', 'minimumGPUClockRate': '402632419'}  \n",
       "5       {'cpu': '0', 'file': '/data/Cloud/Nextcloud/Education/Vrije Universiteit/Master Project/Project/EnergyManager/Resources/Rodinia/data/kmeans/100', 'gpu': '0', 'maximumCPUClockRate': '10231578944', 'maximumGPUClockRate': '402632419', 'minimumCPUClockRate': '10231578944', 'minimumGPUClockRate': '402632419'}  \n",
       "6                   {'cpu': '0', 'file': '/data/Cloud/Nextcloud/Education/Vrije Universiteit/Master Project/Project/EnergyManager/Resources/Rodinia/data/kmeans/100', 'gpu': '0', 'maximumCPUClockRate': '8463157892', 'maximumGPUClockRate': '1000', 'minimumCPUClockRate': '8463157892', 'minimumGPUClockRate': '1000'}  \n",
       "7                   {'cpu': '0', 'file': '/data/Cloud/Nextcloud/Education/Vrije Universiteit/Master Project/Project/EnergyManager/Resources/Rodinia/data/kmeans/100', 'gpu': '0', 'maximumCPUClockRate': '8463157892', 'maximumGPUClockRate': '1000', 'minimumCPUClockRate': '8463157892', 'minimumGPUClockRate': '1000'}  \n",
       "8                   {'cpu': '0', 'file': '/data/Cloud/Nextcloud/Education/Vrije Universiteit/Master Project/Project/EnergyManager/Resources/Rodinia/data/kmeans/100', 'gpu': '0', 'maximumCPUClockRate': '8463157892', 'maximumGPUClockRate': '1000', 'minimumCPUClockRate': '8463157892', 'minimumGPUClockRate': '1000'}  \n",
       "9       {'cpu': '0', 'file': '/data/Cloud/Nextcloud/Education/Vrije Universiteit/Master Project/Project/EnergyManager/Resources/Rodinia/data/kmeans/100', 'gpu': '0', 'maximumCPUClockRate': '5515789472', 'maximumGPUClockRate': '2549999987', 'minimumCPUClockRate': '5515789472', 'minimumGPUClockRate': '2549999987'}  \n",
       "10      {'cpu': '0', 'file': '/data/Cloud/Nextcloud/Education/Vrije Universiteit/Master Project/Project/EnergyManager/Resources/Rodinia/data/kmeans/100', 'gpu': '0', 'maximumCPUClockRate': '5515789472', 'maximumGPUClockRate': '2549999987', 'minimumCPUClockRate': '5515789472', 'minimumGPUClockRate': '2549999987'}  \n",
       "11      {'cpu': '0', 'file': '/data/Cloud/Nextcloud/Education/Vrije Universiteit/Master Project/Project/EnergyManager/Resources/Rodinia/data/kmeans/100', 'gpu': '0', 'maximumCPUClockRate': '5515789472', 'maximumGPUClockRate': '2549999987', 'minimumCPUClockRate': '5515789472', 'minimumGPUClockRate': '2549999987'}  \n",
       "12      {'cpu': '0', 'file': '/data/Cloud/Nextcloud/Education/Vrije Universiteit/Master Project/Project/EnergyManager/Resources/Rodinia/data/kmeans/100', 'gpu': '0', 'maximumCPUClockRate': '7284210524', 'maximumGPUClockRate': '1207895257', 'minimumCPUClockRate': '7284210524', 'minimumGPUClockRate': '1207895257'}  \n",
       "13      {'cpu': '0', 'file': '/data/Cloud/Nextcloud/Education/Vrije Universiteit/Master Project/Project/EnergyManager/Resources/Rodinia/data/kmeans/100', 'gpu': '0', 'maximumCPUClockRate': '7284210524', 'maximumGPUClockRate': '1207895257', 'minimumCPUClockRate': '7284210524', 'minimumGPUClockRate': '1207895257'}  \n",
       "14      {'cpu': '0', 'file': '/data/Cloud/Nextcloud/Education/Vrije Universiteit/Master Project/Project/EnergyManager/Resources/Rodinia/data/kmeans/100', 'gpu': '0', 'maximumCPUClockRate': '7284210524', 'maximumGPUClockRate': '1207895257', 'minimumCPUClockRate': '7284210524', 'minimumGPUClockRate': '1207895257'}  \n",
       "15      {'cpu': '0', 'file': '/data/Cloud/Nextcloud/Education/Vrije Universiteit/Master Project/Project/EnergyManager/Resources/Rodinia/data/kmeans/100', 'gpu': '0', 'maximumCPUClockRate': '1978947368', 'maximumGPUClockRate': '1476316203', 'minimumCPUClockRate': '1978947368', 'minimumGPUClockRate': '1476316203'}  \n",
       "16      {'cpu': '0', 'file': '/data/Cloud/Nextcloud/Education/Vrije Universiteit/Master Project/Project/EnergyManager/Resources/Rodinia/data/kmeans/100', 'gpu': '0', 'maximumCPUClockRate': '1978947368', 'maximumGPUClockRate': '1476316203', 'minimumCPUClockRate': '1978947368', 'minimumGPUClockRate': '1476316203'}  \n",
       "17      {'cpu': '0', 'file': '/data/Cloud/Nextcloud/Education/Vrije Universiteit/Master Project/Project/EnergyManager/Resources/Rodinia/data/kmeans/100', 'gpu': '0', 'maximumCPUClockRate': '1978947368', 'maximumGPUClockRate': '1476316203', 'minimumCPUClockRate': '1978947368', 'minimumGPUClockRate': '1476316203'}  \n",
       "18    {'cpu': '0', 'file': '/data/Cloud/Nextcloud/Education/Vrije Universiteit/Master Project/Project/EnergyManager/Resources/Rodinia/data/kmeans/100', 'gpu': '0', 'maximumCPUClockRate': '11999999996', 'maximumGPUClockRate': '1073684784', 'minimumCPUClockRate': '11999999996', 'minimumGPUClockRate': '1073684784'}  \n",
       "19    {'cpu': '0', 'file': '/data/Cloud/Nextcloud/Education/Vrije Universiteit/Master Project/Project/EnergyManager/Resources/Rodinia/data/kmeans/100', 'gpu': '0', 'maximumCPUClockRate': '11999999996', 'maximumGPUClockRate': '1073684784', 'minimumCPUClockRate': '11999999996', 'minimumGPUClockRate': '1073684784'}  \n",
       "20    {'cpu': '0', 'file': '/data/Cloud/Nextcloud/Education/Vrije Universiteit/Master Project/Project/EnergyManager/Resources/Rodinia/data/kmeans/100', 'gpu': '0', 'maximumCPUClockRate': '11999999996', 'maximumGPUClockRate': '1073684784', 'minimumCPUClockRate': '11999999996', 'minimumGPUClockRate': '1073684784'}  \n",
       "21      {'cpu': '0', 'file': '/data/Cloud/Nextcloud/Education/Vrije Universiteit/Master Project/Project/EnergyManager/Resources/Rodinia/data/kmeans/100', 'gpu': '0', 'maximumCPUClockRate': '3747368420', 'maximumGPUClockRate': '1610526676', 'minimumCPUClockRate': '3747368420', 'minimumGPUClockRate': '1610526676'}  \n",
       "22      {'cpu': '0', 'file': '/data/Cloud/Nextcloud/Education/Vrije Universiteit/Master Project/Project/EnergyManager/Resources/Rodinia/data/kmeans/100', 'gpu': '0', 'maximumCPUClockRate': '3747368420', 'maximumGPUClockRate': '1610526676', 'minimumCPUClockRate': '3747368420', 'minimumGPUClockRate': '1610526676'}  \n",
       "23      {'cpu': '0', 'file': '/data/Cloud/Nextcloud/Education/Vrije Universiteit/Master Project/Project/EnergyManager/Resources/Rodinia/data/kmeans/100', 'gpu': '0', 'maximumCPUClockRate': '3747368420', 'maximumGPUClockRate': '1610526676', 'minimumCPUClockRate': '3747368420', 'minimumGPUClockRate': '1610526676'}  \n",
       "24        {'cpu': '0', 'file': '/data/Cloud/Nextcloud/Education/Vrije Universiteit/Master Project/Project/EnergyManager/Resources/Rodinia/data/kmeans/100', 'gpu': '0', 'maximumCPUClockRate': '3157894736', 'maximumGPUClockRate': '402632419', 'minimumCPUClockRate': '3157894736', 'minimumGPUClockRate': '402632419'}  \n",
       "...                                                                                                                                                                                                                                                                                                                   ...  \n",
       "1774                                             {'cpu': '0', 'gpu': '0', 'matrixAHeight': '960', 'matrixAWidth': '960', 'matrixBHeight': '960', 'matrixBWidth': '960', 'maximumCPUClockRate': '4533333332', 'maximumGPUClockRate': '850000666', 'minimumCPUClockRate': '4533333332', 'minimumGPUClockRate': '850000666'}  \n",
       "1775                                             {'cpu': '0', 'gpu': '0', 'matrixAHeight': '960', 'matrixAWidth': '960', 'matrixBHeight': '960', 'matrixBWidth': '960', 'maximumCPUClockRate': '4533333332', 'maximumGPUClockRate': '850000666', 'minimumCPUClockRate': '4533333332', 'minimumGPUClockRate': '850000666'}  \n",
       "1776                                             {'cpu': '0', 'gpu': '0', 'matrixAHeight': '960', 'matrixAWidth': '960', 'matrixBHeight': '960', 'matrixBWidth': '960', 'maximumCPUClockRate': '3288888888', 'maximumGPUClockRate': '850000666', 'minimumCPUClockRate': '3288888888', 'minimumGPUClockRate': '850000666'}  \n",
       "1777                                             {'cpu': '0', 'gpu': '0', 'matrixAHeight': '960', 'matrixAWidth': '960', 'matrixBHeight': '960', 'matrixBWidth': '960', 'maximumCPUClockRate': '3288888888', 'maximumGPUClockRate': '850000666', 'minimumCPUClockRate': '3288888888', 'minimumGPUClockRate': '850000666'}  \n",
       "1778                                             {'cpu': '0', 'gpu': '0', 'matrixAHeight': '960', 'matrixAWidth': '960', 'matrixBHeight': '960', 'matrixBWidth': '960', 'maximumCPUClockRate': '3288888888', 'maximumGPUClockRate': '850000666', 'minimumCPUClockRate': '3288888888', 'minimumGPUClockRate': '850000666'}  \n",
       "1779                                         {'cpu': '0', 'gpu': '0', 'matrixAHeight': '960', 'matrixAWidth': '960', 'matrixBHeight': '960', 'matrixBWidth': '960', 'maximumCPUClockRate': '10755555552', 'maximumGPUClockRate': '2549999998', 'minimumCPUClockRate': '10755555552', 'minimumGPUClockRate': '2549999998'}  \n",
       "1780                                         {'cpu': '0', 'gpu': '0', 'matrixAHeight': '960', 'matrixAWidth': '960', 'matrixBHeight': '960', 'matrixBWidth': '960', 'maximumCPUClockRate': '10755555552', 'maximumGPUClockRate': '2549999998', 'minimumCPUClockRate': '10755555552', 'minimumGPUClockRate': '2549999998'}  \n",
       "1781                                         {'cpu': '0', 'gpu': '0', 'matrixAHeight': '960', 'matrixAWidth': '960', 'matrixBHeight': '960', 'matrixBWidth': '960', 'maximumCPUClockRate': '10755555552', 'maximumGPUClockRate': '2549999998', 'minimumCPUClockRate': '10755555552', 'minimumGPUClockRate': '2549999998'}  \n",
       "1782                                             {'cpu': '0', 'gpu': '0', 'matrixAHeight': '960', 'matrixAWidth': '960', 'matrixBHeight': '960', 'matrixBWidth': '960', 'maximumCPUClockRate': '5777777776', 'maximumGPUClockRate': '283334222', 'minimumCPUClockRate': '5777777776', 'minimumGPUClockRate': '283334222'}  \n",
       "1783                                             {'cpu': '0', 'gpu': '0', 'matrixAHeight': '960', 'matrixAWidth': '960', 'matrixBHeight': '960', 'matrixBWidth': '960', 'maximumCPUClockRate': '5777777776', 'maximumGPUClockRate': '283334222', 'minimumCPUClockRate': '5777777776', 'minimumGPUClockRate': '283334222'}  \n",
       "1784                                             {'cpu': '0', 'gpu': '0', 'matrixAHeight': '960', 'matrixAWidth': '960', 'matrixBHeight': '960', 'matrixBWidth': '960', 'maximumCPUClockRate': '5777777776', 'maximumGPUClockRate': '283334222', 'minimumCPUClockRate': '5777777776', 'minimumGPUClockRate': '283334222'}  \n",
       "1785                                           {'cpu': '0', 'gpu': '0', 'matrixAHeight': '960', 'matrixAWidth': '960', 'matrixBHeight': '960', 'matrixBWidth': '960', 'maximumCPUClockRate': '8266666664', 'maximumGPUClockRate': '1416667110', 'minimumCPUClockRate': '8266666664', 'minimumGPUClockRate': '1416667110'}  \n",
       "1786                                           {'cpu': '0', 'gpu': '0', 'matrixAHeight': '960', 'matrixAWidth': '960', 'matrixBHeight': '960', 'matrixBWidth': '960', 'maximumCPUClockRate': '8266666664', 'maximumGPUClockRate': '1416667110', 'minimumCPUClockRate': '8266666664', 'minimumGPUClockRate': '1416667110'}  \n",
       "1787                                           {'cpu': '0', 'gpu': '0', 'matrixAHeight': '960', 'matrixAWidth': '960', 'matrixBHeight': '960', 'matrixBWidth': '960', 'maximumCPUClockRate': '8266666664', 'maximumGPUClockRate': '1416667110', 'minimumCPUClockRate': '8266666664', 'minimumGPUClockRate': '1416667110'}  \n",
       "1788                                             {'cpu': '0', 'gpu': '0', 'matrixAHeight': '960', 'matrixAWidth': '960', 'matrixBHeight': '960', 'matrixBWidth': '960', 'maximumCPUClockRate': '7022222220', 'maximumGPUClockRate': '850000666', 'minimumCPUClockRate': '7022222220', 'minimumGPUClockRate': '850000666'}  \n",
       "1789                                             {'cpu': '0', 'gpu': '0', 'matrixAHeight': '960', 'matrixAWidth': '960', 'matrixBHeight': '960', 'matrixBWidth': '960', 'maximumCPUClockRate': '7022222220', 'maximumGPUClockRate': '850000666', 'minimumCPUClockRate': '7022222220', 'minimumGPUClockRate': '850000666'}  \n",
       "1790                                             {'cpu': '0', 'gpu': '0', 'matrixAHeight': '960', 'matrixAWidth': '960', 'matrixBHeight': '960', 'matrixBWidth': '960', 'maximumCPUClockRate': '7022222220', 'maximumGPUClockRate': '850000666', 'minimumCPUClockRate': '7022222220', 'minimumGPUClockRate': '850000666'}  \n",
       "1791                                           {'cpu': '0', 'gpu': '0', 'matrixAHeight': '960', 'matrixAWidth': '960', 'matrixBHeight': '960', 'matrixBWidth': '960', 'maximumCPUClockRate': '4533333332', 'maximumGPUClockRate': '1700000332', 'minimumCPUClockRate': '4533333332', 'minimumGPUClockRate': '1700000332'}  \n",
       "1792                                           {'cpu': '0', 'gpu': '0', 'matrixAHeight': '960', 'matrixAWidth': '960', 'matrixBHeight': '960', 'matrixBWidth': '960', 'maximumCPUClockRate': '4533333332', 'maximumGPUClockRate': '1700000332', 'minimumCPUClockRate': '4533333332', 'minimumGPUClockRate': '1700000332'}  \n",
       "1793                                           {'cpu': '0', 'gpu': '0', 'matrixAHeight': '960', 'matrixAWidth': '960', 'matrixBHeight': '960', 'matrixBWidth': '960', 'maximumCPUClockRate': '4533333332', 'maximumGPUClockRate': '1700000332', 'minimumCPUClockRate': '4533333332', 'minimumGPUClockRate': '1700000332'}  \n",
       "1794                                         {'cpu': '0', 'gpu': '0', 'matrixAHeight': '960', 'matrixAWidth': '960', 'matrixBHeight': '960', 'matrixBWidth': '960', 'maximumCPUClockRate': '11999999996', 'maximumGPUClockRate': '2266666776', 'minimumCPUClockRate': '11999999996', 'minimumGPUClockRate': '2266666776'}  \n",
       "1795                                         {'cpu': '0', 'gpu': '0', 'matrixAHeight': '960', 'matrixAWidth': '960', 'matrixBHeight': '960', 'matrixBWidth': '960', 'maximumCPUClockRate': '11999999996', 'maximumGPUClockRate': '2266666776', 'minimumCPUClockRate': '11999999996', 'minimumGPUClockRate': '2266666776'}  \n",
       "1796                                         {'cpu': '0', 'gpu': '0', 'matrixAHeight': '960', 'matrixAWidth': '960', 'matrixBHeight': '960', 'matrixBWidth': '960', 'maximumCPUClockRate': '11999999996', 'maximumGPUClockRate': '2266666776', 'minimumCPUClockRate': '11999999996', 'minimumGPUClockRate': '2266666776'}  \n",
       "1797                                                         {'cpu': '0', 'gpu': '0', 'matrixAHeight': '960', 'matrixAWidth': '960', 'matrixBHeight': '960', 'matrixBWidth': '960', 'maximumCPUClockRate': '800000000', 'maximumGPUClockRate': '1000', 'minimumCPUClockRate': '800000000', 'minimumGPUClockRate': '1000'}  \n",
       "1798                                                         {'cpu': '0', 'gpu': '0', 'matrixAHeight': '960', 'matrixAWidth': '960', 'matrixBHeight': '960', 'matrixBWidth': '960', 'maximumCPUClockRate': '800000000', 'maximumGPUClockRate': '1000', 'minimumCPUClockRate': '800000000', 'minimumGPUClockRate': '1000'}  \n",
       "\n",
       "[1799 rows x 3 columns]"
      ]
     },
     "metadata": {},
     "output_type": "display_data"
    }
   ],
   "source": [
    "# Load all profiler sessions\n",
    "profiler_sessions = ProfilerSession.load_all(database)\n",
    "\n",
    "# Visualize the profiler session data\n",
    "ProfilerSession.table(profiler_sessions).plot()"
   ]
  },
  {
   "cell_type": "markdown",
   "metadata": {},
   "source": [
    "## Visualize a Profiler Session\n",
    "\n",
    "Define the ID of the test you wish to visualize below."
   ]
  },
  {
   "cell_type": "code",
   "execution_count": 4,
   "metadata": {
    "pycharm": {
     "name": "#%%\n"
    }
   },
   "outputs": [],
   "source": [
    "profiler_session_id = profiler_sessions[-1].id\n",
    "profiler_session = [profiler_session for profiler_session in profiler_sessions if profiler_session.id == profiler_session_id][0]"
   ]
  },
  {
   "cell_type": "markdown",
   "metadata": {},
   "source": [
    "### Summary\n",
    "\n",
    "These are the specifications of the system with which the profiler session was performed."
   ]
  },
  {
   "cell_type": "code",
   "execution_count": 5,
   "metadata": {
    "pycharm": {
     "name": "#%%\n"
    }
   },
   "outputs": [
    {
     "name": "stdout",
     "output_type": "stream",
     "text": [
      "{'GPU Brand': 'GeForce',\n",
      " 'GPU Compute Capability Major Version': 7,\n",
      " 'GPU Compute Capability Minor Version': 5,\n",
      " 'GPU Default Auto Boosted Clocks Enabled': None,\n",
      " 'GPU Default Power Limit (W)': '260.0',\n",
      " 'GPU Memory Size (B)': '8.3 GB',\n",
      " 'GPU Name': 'GeForce RTX 2080',\n",
      " 'GPU PCIe Link Width (B)': '16 Bytes',\n",
      " 'GPU Supported Core Clock Rates (Hz)': [''],\n",
      " 'GPU Supported Memory Clock Rates (Hz)': [''],\n",
      " 'Label': 'Matrix Multiply'}\n"
     ]
    }
   ],
   "source": [
    "pprint.pprint(profiler_session.summary)"
   ]
  },
  {
   "cell_type": "markdown",
   "metadata": {},
   "source": [
    "### Profile\n",
    "\n",
    "This is the profile with which the profiler session was performed."
   ]
  },
  {
   "cell_type": "code",
   "execution_count": 6,
   "metadata": {
    "pycharm": {
     "name": "#%%\n"
    }
   },
   "outputs": [
    {
     "name": "stdout",
     "output_type": "stream",
     "text": [
      "{'cpu': '0',\n",
      " 'gpu': '0',\n",
      " 'matrixAHeight': '960',\n",
      " 'matrixAWidth': '960',\n",
      " 'matrixBHeight': '960',\n",
      " 'matrixBWidth': '960',\n",
      " 'maximumCPUClockRate': '800000000',\n",
      " 'maximumGPUClockRate': '1000',\n",
      " 'minimumCPUClockRate': '800000000',\n",
      " 'minimumGPUClockRate': '1000'}\n"
     ]
    }
   ],
   "source": [
    "pprint.pprint(profiler_session.profile)"
   ]
  },
  {
   "cell_type": "markdown",
   "metadata": {},
   "source": [
    "### Overview\n",
    "\n",
    "The graph image below summarizes the graphs above."
   ]
  },
  {
   "cell_type": "code",
   "execution_count": 7,
   "metadata": {
    "pycharm": {
     "name": "#%%\n"
    }
   },
   "outputs": [
    {
     "ename": "TypeError",
     "evalue": "'<' not supported between instances of 'tuple' and 'str'",
     "output_type": "error",
     "traceback": [
      "\u001b[0;31m---------------------------------------------------------------------------\u001b[0m",
      "\u001b[0;31mTypeError\u001b[0m                                 Traceback (most recent call last)",
      "\u001b[0;32m<ipython-input-7-0ce277cb337d>\u001b[0m in \u001b[0;36m<module>\u001b[0;34m\u001b[0m\n\u001b[0;32m----> 1\u001b[0;31m \u001b[0mprofiler_session\u001b[0m\u001b[0;34m.\u001b[0m\u001b[0moverview_plot\u001b[0m\u001b[0;34m.\u001b[0m\u001b[0mplot\u001b[0m\u001b[0;34m(\u001b[0m\u001b[0;34m)\u001b[0m\u001b[0;34m\u001b[0m\u001b[0;34m\u001b[0m\u001b[0m\n\u001b[0m",
      "\u001b[0;32m/data/Cloud/Nextcloud/Education/Vrije Universiteit/Master Project/Project/Visualizer/Source/Visualizer/Monitoring/Persistence/ProfilerSession.py\u001b[0m in \u001b[0;36moverview_plot\u001b[0;34m(self)\u001b[0m\n\u001b[1;32m    257\u001b[0m             \u001b[0mself\u001b[0m\u001b[0;34m.\u001b[0m\u001b[0mswitches_plot\u001b[0m\u001b[0;34m,\u001b[0m\u001b[0;34m\u001b[0m\u001b[0;34m\u001b[0m\u001b[0m\n\u001b[1;32m    258\u001b[0m             \u001b[0mself\u001b[0m\u001b[0;34m.\u001b[0m\u001b[0mtemperature_plot\u001b[0m\u001b[0;34m,\u001b[0m\u001b[0;34m\u001b[0m\u001b[0;34m\u001b[0m\u001b[0m\n\u001b[0;32m--> 259\u001b[0;31m             \u001b[0mself\u001b[0m\u001b[0;34m.\u001b[0m\u001b[0mtimespan_plot\u001b[0m\u001b[0;34m,\u001b[0m\u001b[0;34m\u001b[0m\u001b[0;34m\u001b[0m\u001b[0m\n\u001b[0m\u001b[1;32m    260\u001b[0m             \u001b[0mself\u001b[0m\u001b[0;34m.\u001b[0m\u001b[0mutilization_rate_plot\u001b[0m\u001b[0;34m,\u001b[0m\u001b[0;34m\u001b[0m\u001b[0;34m\u001b[0m\u001b[0m\n\u001b[1;32m    261\u001b[0m             \u001b[0mself\u001b[0m\u001b[0;34m.\u001b[0m\u001b[0mkernel_coordinates_plot\u001b[0m\u001b[0;34m,\u001b[0m\u001b[0;34m\u001b[0m\u001b[0;34m\u001b[0m\u001b[0m\n",
      "\u001b[0;32m/data/Cloud/Nextcloud/Education/Vrije Universiteit/Master Project/Project/Visualizer/Source/Visualizer/Monitoring/Persistence/ProfilerSession.py\u001b[0m in \u001b[0;36mtimespan_plot\u001b[0;34m(self)\u001b[0m\n\u001b[1;32m    431\u001b[0m     \u001b[0;34m@\u001b[0m\u001b[0mproperty\u001b[0m\u001b[0;34m\u001b[0m\u001b[0;34m\u001b[0m\u001b[0m\n\u001b[1;32m    432\u001b[0m     \u001b[0;32mdef\u001b[0m \u001b[0mtimespan_plot\u001b[0m\u001b[0;34m(\u001b[0m\u001b[0mself\u001b[0m\u001b[0;34m)\u001b[0m\u001b[0;34m:\u001b[0m\u001b[0;34m\u001b[0m\u001b[0;34m\u001b[0m\u001b[0m\n\u001b[0;32m--> 433\u001b[0;31m         \u001b[0;32mreturn\u001b[0m \u001b[0mTimeseriesPlot\u001b[0m\u001b[0;34m(\u001b[0m\u001b[0mtitle\u001b[0m\u001b[0;34m=\u001b[0m\u001b[0;34m\"Timespan\"\u001b[0m\u001b[0;34m,\u001b[0m \u001b[0mplot_series\u001b[0m\u001b[0;34m=\u001b[0m\u001b[0mself\u001b[0m\u001b[0;34m.\u001b[0m\u001b[0mtimespan\u001b[0m\u001b[0;34m,\u001b[0m \u001b[0my_label\u001b[0m\u001b[0;34m=\u001b[0m\u001b[0;34m\"Timespan (s)\"\u001b[0m\u001b[0;34m)\u001b[0m\u001b[0;34m\u001b[0m\u001b[0;34m\u001b[0m\u001b[0m\n\u001b[0m\u001b[1;32m    434\u001b[0m \u001b[0;34m\u001b[0m\u001b[0m\n\u001b[1;32m    435\u001b[0m     \u001b[0;34m@\u001b[0m\u001b[0mproperty\u001b[0m\u001b[0;34m\u001b[0m\u001b[0;34m\u001b[0m\u001b[0m\n",
      "\u001b[0;32m/data/Cloud/Nextcloud/Education/Vrije Universiteit/Master Project/Project/Visualizer/Source/Visualizer/Plotting/TimeseriesPlot.py\u001b[0m in \u001b[0;36m__init__\u001b[0;34m(self, title, plot_series, y_label, legend, grid, show_final_values)\u001b[0m\n\u001b[1;32m     10\u001b[0m     def __init__(self, title: str, plot_series: OrderedDict[str, Dict[Any, Any]], y_label: str = \"y\", legend: bool = True, grid: bool = True,\n\u001b[1;32m     11\u001b[0m                  show_final_values: bool = True):\n\u001b[0;32m---> 12\u001b[0;31m         \u001b[0msuper\u001b[0m\u001b[0;34m(\u001b[0m\u001b[0;34m)\u001b[0m\u001b[0;34m.\u001b[0m\u001b[0m__init__\u001b[0m\u001b[0;34m(\u001b[0m\u001b[0mtitle\u001b[0m\u001b[0;34m=\u001b[0m\u001b[0mtitle\u001b[0m\u001b[0;34m,\u001b[0m \u001b[0mplot_series\u001b[0m\u001b[0;34m=\u001b[0m\u001b[0mplot_series\u001b[0m\u001b[0;34m,\u001b[0m \u001b[0mx_label\u001b[0m\u001b[0;34m=\u001b[0m\u001b[0;34m\"Timestamp\"\u001b[0m\u001b[0;34m,\u001b[0m \u001b[0my_label\u001b[0m\u001b[0;34m=\u001b[0m\u001b[0my_label\u001b[0m\u001b[0;34m,\u001b[0m \u001b[0mlegend\u001b[0m\u001b[0;34m=\u001b[0m\u001b[0mlegend\u001b[0m\u001b[0;34m,\u001b[0m \u001b[0mgrid\u001b[0m\u001b[0;34m=\u001b[0m\u001b[0mgrid\u001b[0m\u001b[0;34m,\u001b[0m \u001b[0mformat_x_as_date\u001b[0m\u001b[0;34m=\u001b[0m\u001b[0;32mFalse\u001b[0m\u001b[0;34m)\u001b[0m\u001b[0;34m\u001b[0m\u001b[0;34m\u001b[0m\u001b[0m\n\u001b[0m\u001b[1;32m     13\u001b[0m \u001b[0;34m\u001b[0m\u001b[0m\n\u001b[1;32m     14\u001b[0m         \u001b[0mself\u001b[0m\u001b[0;34m.\u001b[0m\u001b[0mshow_final_values\u001b[0m \u001b[0;34m=\u001b[0m \u001b[0mshow_final_values\u001b[0m\u001b[0;34m\u001b[0m\u001b[0;34m\u001b[0m\u001b[0m\n",
      "\u001b[0;32m/data/Cloud/Nextcloud/Education/Vrije Universiteit/Master Project/Project/Visualizer/Source/Visualizer/Plotting/AxesPlot.py\u001b[0m in \u001b[0;36m__init__\u001b[0;34m(self, title, plot_series, x_label, y_label, legend, grid, format_x_as_date)\u001b[0m\n\u001b[1;32m     15\u001b[0m         \u001b[0msuper\u001b[0m\u001b[0;34m(\u001b[0m\u001b[0;34m)\u001b[0m\u001b[0;34m.\u001b[0m\u001b[0m__init__\u001b[0m\u001b[0;34m(\u001b[0m\u001b[0mtitle\u001b[0m\u001b[0;34m=\u001b[0m\u001b[0mtitle\u001b[0m\u001b[0;34m)\u001b[0m\u001b[0;34m\u001b[0m\u001b[0;34m\u001b[0m\u001b[0m\n\u001b[1;32m     16\u001b[0m \u001b[0;34m\u001b[0m\u001b[0m\n\u001b[0;32m---> 17\u001b[0;31m         \u001b[0mself\u001b[0m\u001b[0;34m.\u001b[0m\u001b[0mplot_series\u001b[0m \u001b[0;34m=\u001b[0m \u001b[0mcollections\u001b[0m\u001b[0;34m.\u001b[0m\u001b[0mOrderedDict\u001b[0m\u001b[0;34m(\u001b[0m\u001b[0msorted\u001b[0m\u001b[0;34m(\u001b[0m\u001b[0mplot_series\u001b[0m\u001b[0;34m.\u001b[0m\u001b[0mitems\u001b[0m\u001b[0;34m(\u001b[0m\u001b[0;34m)\u001b[0m\u001b[0;34m)\u001b[0m\u001b[0;34m)\u001b[0m\u001b[0;34m\u001b[0m\u001b[0;34m\u001b[0m\u001b[0m\n\u001b[0m\u001b[1;32m     18\u001b[0m         \u001b[0mself\u001b[0m\u001b[0;34m.\u001b[0m\u001b[0mformat_x_as_date\u001b[0m \u001b[0;34m=\u001b[0m \u001b[0mformat_x_as_date\u001b[0m\u001b[0;34m\u001b[0m\u001b[0;34m\u001b[0m\u001b[0m\n\u001b[1;32m     19\u001b[0m         \u001b[0mself\u001b[0m\u001b[0;34m.\u001b[0m\u001b[0mx_label\u001b[0m \u001b[0;34m=\u001b[0m \u001b[0mx_label\u001b[0m\u001b[0;34m\u001b[0m\u001b[0;34m\u001b[0m\u001b[0m\n",
      "\u001b[0;31mTypeError\u001b[0m: '<' not supported between instances of 'tuple' and 'str'"
     ]
    }
   ],
   "source": [
    "profiler_session.overview_plot.plot()"
   ]
  },
  {
   "cell_type": "markdown",
   "metadata": {},
   "source": [
    "### Switches\n",
    "\n",
    "The graphs below shows the status of configuration switches over time."
   ]
  },
  {
   "cell_type": "code",
   "execution_count": null,
   "metadata": {
    "pycharm": {
     "name": "#%%\n"
    }
   },
   "outputs": [],
   "source": [
    "profiler_session.switches_plot.plot()"
   ]
  },
  {
   "cell_type": "markdown",
   "metadata": {},
   "source": [
    "### Clock Rates\n",
    "\n",
    "The graph below shows the clock rate over time."
   ]
  },
  {
   "cell_type": "code",
   "execution_count": null,
   "metadata": {
    "pycharm": {
     "name": "#%%\n"
    }
   },
   "outputs": [],
   "source": [
    "clock_rate_plot = profiler_session.clock_rate_plot(plot_limits=True)\n",
    "clock_rate_plot.plot_series = { key: clock_rate_plot.plot_series[key] for key in clock_rate_plot.plot_series if key == \"CPU\"}\n",
    "clock_rate_plot.plot()"
   ]
  },
  {
   "cell_type": "markdown",
   "metadata": {},
   "source": [
    "### Utilization Rates\n",
    "\n",
    "The graph below shows the utilization rates over time."
   ]
  },
  {
   "cell_type": "code",
   "execution_count": null,
   "metadata": {
    "pycharm": {
     "name": "#%%\n"
    }
   },
   "outputs": [],
   "source": [
    "profiler_session.utilization_rate_plot.plot()"
   ]
  },
  {
   "cell_type": "markdown",
   "metadata": {},
   "source": [
    "### Power Consumption\n",
    "\n",
    "The graphs below shows the power consumption over time."
   ]
  },
  {
   "cell_type": "code",
   "execution_count": null,
   "metadata": {
    "pycharm": {
     "name": "#%%\n"
    }
   },
   "outputs": [],
   "source": [
    "profiler_session.power_consumption_plot(plot_limits=True).plot()"
   ]
  },
  {
   "cell_type": "markdown",
   "metadata": {},
   "source": [
    "### Energy Consumption\n",
    "\n",
    "The graphs below shows the total energy consumption over time."
   ]
  },
  {
   "cell_type": "code",
   "execution_count": null,
   "metadata": {
    "pycharm": {
     "name": "#%%\n"
    }
   },
   "outputs": [],
   "source": [
    "# Plot in Joules\n",
    "profiler_session.energy_consumption_plot().plot()\n",
    "\n",
    "# Plot in Watt Hours\n",
    "profiler_session.energy_consumption_plot(unit_string=\"Wh\", modifier=Plot.j_to_wh).plot()"
   ]
  },
  {
   "cell_type": "markdown",
   "metadata": {},
   "source": [
    "### Fan Speed\n",
    "\n",
    "The graphs below shows the fan speed over time."
   ]
  },
  {
   "cell_type": "code",
   "execution_count": null,
   "metadata": {
    "pycharm": {
     "name": "#%%\n"
    }
   },
   "outputs": [],
   "source": [
    "profiler_session.fan_speed_plot.plot()"
   ]
  },
  {
   "cell_type": "markdown",
   "metadata": {},
   "source": [
    "### Memory Consumption\n",
    "\n",
    "The graphs below shows the memory consumption over time."
   ]
  },
  {
   "cell_type": "code",
   "execution_count": null,
   "metadata": {
    "pycharm": {
     "name": "#%%\n"
    }
   },
   "outputs": [],
   "source": [
    "profiler_session.memory_consumption_plot(plot_sizes=True).plot()"
   ]
  },
  {
   "cell_type": "markdown",
   "metadata": {},
   "source": [
    "### Processes\n",
    "\n",
    "The graphs below shows the amount of processes over time."
   ]
  },
  {
   "cell_type": "code",
   "execution_count": null,
   "metadata": {
    "pycharm": {
     "name": "#%%\n"
    }
   },
   "outputs": [],
   "source": [
    "profiler_session.processes_plot.plot()"
   ]
  },
  {
   "cell_type": "markdown",
   "metadata": {},
   "source": [
    "### Temperature\n",
    "\n",
    "The graphs below shows the temperature over time."
   ]
  },
  {
   "cell_type": "code",
   "execution_count": null,
   "metadata": {
    "pycharm": {
     "name": "#%%\n"
    }
   },
   "outputs": [],
   "source": [
    "profiler_session.temperature_plot.plot()"
   ]
  },
  {
   "cell_type": "markdown",
   "metadata": {},
   "source": [
    "### Kernel Coordinates\n",
    "\n",
    "The graph below shows the coordinates that the kernel is currently covering."
   ]
  },
  {
   "cell_type": "code",
   "execution_count": null,
   "metadata": {
    "pycharm": {
     "name": "#%%\n"
    }
   },
   "outputs": [],
   "source": [
    "profiler_session.kernel_coordinates_plot.plot()"
   ]
  },
  {
   "cell_type": "markdown",
   "metadata": {},
   "source": [
    "### Correlations\n",
    "\n",
    "The graphs below shows the Pearson correlation heatmap for each performance variable."
   ]
  },
  {
   "cell_type": "code",
   "execution_count": null,
   "metadata": {
    "pycharm": {
     "name": "#%%\n"
    }
   },
   "outputs": [],
   "source": [
    "MonitorData.correlations_plot(profiler_session.monitor_data).plot()\n"
   ]
  }
 ],
 "metadata": {
  "kernelspec": {
   "display_name": "Python 3",
   "language": "python",
   "name": "python3"
  },
  "language_info": {
   "codemirror_mode": {
    "name": "ipython",
    "version": 3
   },
   "file_extension": ".py",
   "mimetype": "text/x-python",
   "name": "python",
   "nbconvert_exporter": "python",
   "pygments_lexer": "ipython3",
   "version": "3.8.5"
  },
  "widgets": {
   "application/vnd.jupyter.widget-state+json": {
    "state": {},
    "version_major": 2,
    "version_minor": 0
   }
  }
 },
 "nbformat": 4,
 "nbformat_minor": 1
}
