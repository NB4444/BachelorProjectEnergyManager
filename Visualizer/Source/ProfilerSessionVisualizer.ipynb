{
 "cells": [
  {
   "cell_type": "code",
   "execution_count": 1,
   "metadata": {
    "pycharm": {
     "name": "#%%\n"
    }
   },
   "outputs": [],
   "source": [
    "%matplotlib widget\n",
    "\n",
    "import pathlib\n",
    "import pprint\n",
    "\n",
    "from Visualizer.DataSet import DataSet\n",
    "from Visualizer.Monitoring.Persistence.ProfilerSession import ProfilerSession\n",
    "from Visualizer.Plotting.Plot import Plot"
   ]
  },
  {
   "cell_type": "markdown",
   "metadata": {},
   "source": [
    "# Profiler Session Visualizer\n",
    "\n",
    "This notebook can visualize a specific profiler session."
   ]
  },
  {
   "cell_type": "markdown",
   "metadata": {},
   "source": [
    "## Configuration\n",
    "\n",
    "Configure the project settings below.\n",
    "The default configuration should be okay.\n",
    "Make sure that you have run at least one profiler session with the EnergyManager and have generated a database, otherwise this notebook will fail."
   ]
  },
  {
   "cell_type": "code",
   "execution_count": 2,
   "metadata": {
    "pycharm": {
     "name": "#%%\n"
    }
   },
   "outputs": [],
   "source": [
    "source_directory = pathlib.Path().parent.absolute()\n",
    "project_directory = f\"{source_directory}/..\"\n",
    "#database = f\"{project_directory}/../Resources/Data/MatrixMultiply.sqlite\"\n",
    "#database = f\"{project_directory}/../Resources/Data/KMeans.sqlite\"\n",
    "database = f\"{project_directory}/../Resources/Data/NewDatabase.sqlite\""
   ]
  },
  {
   "cell_type": "markdown",
   "metadata": {},
   "source": [
    "## Profiler Sessions Overview\n",
    "\n",
    "Below all profiler sessions are shown."
   ]
  },
  {
   "cell_type": "code",
   "execution_count": 3,
   "metadata": {
    "pycharm": {
     "name": "#%%\n"
    }
   },
   "outputs": [
    {
     "data": {
      "text/html": [
       "<div>\n",
       "<style scoped>\n",
       "    .dataframe tbody tr th:only-of-type {\n",
       "        vertical-align: middle;\n",
       "    }\n",
       "\n",
       "    .dataframe tbody tr th {\n",
       "        vertical-align: top;\n",
       "    }\n",
       "\n",
       "    .dataframe thead th {\n",
       "        text-align: right;\n",
       "    }\n",
       "</style>\n",
       "<table border=\"1\" class=\"dataframe\">\n",
       "  <thead>\n",
       "    <tr style=\"text-align: right;\">\n",
       "      <th></th>\n",
       "      <th>ID</th>\n",
       "      <th>Label</th>\n",
       "      <th>Profile</th>\n",
       "    </tr>\n",
       "  </thead>\n",
       "  <tbody>\n",
       "    <tr>\n",
       "      <th>0</th>\n",
       "      <td>1</td>\n",
       "      <td>Matrix Multiply</td>\n",
       "      <td>{'core': 0, 'gpu': 0, 'iterations': 3, 'matrixAHeight': 1536, 'matrixAWidth': 1536, 'matrixBHeight': 1536, 'matrixBWidth': 1536}</td>\n",
       "    </tr>\n",
       "    <tr>\n",
       "      <th>1</th>\n",
       "      <td>2</td>\n",
       "      <td>Matrix Multiply</td>\n",
       "      <td>{'core': 0, 'gpu': 0, 'iterations': 3, 'matrixAHeight': 1536, 'matrixAWidth': 1536, 'matrixBHeight': 1536, 'matrixBWidth': 1536}</td>\n",
       "    </tr>\n",
       "    <tr>\n",
       "      <th>2</th>\n",
       "      <td>3</td>\n",
       "      <td>Matrix Multiply</td>\n",
       "      <td>{'core': 0, 'gpu': 0, 'iterations': 3, 'matrixAHeight': 1536, 'matrixAWidth': 1536, 'matrixBHeight': 1536, 'matrixBWidth': 1536}</td>\n",
       "    </tr>\n",
       "    <tr>\n",
       "      <th>3</th>\n",
       "      <td>4</td>\n",
       "      <td>Matrix Multiply</td>\n",
       "      <td>{'core': 0, 'gpu': 0, 'iterations': 3, 'matrixAHeight': 1536, 'matrixAWidth': 1536, 'matrixBHeight': 1536, 'matrixBWidth': 1536}</td>\n",
       "    </tr>\n",
       "    <tr>\n",
       "      <th>4</th>\n",
       "      <td>5</td>\n",
       "      <td>Matrix Multiply</td>\n",
       "      <td>{'core': 0, 'gpu': 0, 'iterations': 3, 'matrixAHeight': 1536, 'matrixAWidth': 1536, 'matrixBHeight': 1536, 'matrixBWidth': 1536}</td>\n",
       "    </tr>\n",
       "    <tr>\n",
       "      <th>5</th>\n",
       "      <td>6</td>\n",
       "      <td>Matrix Multiply</td>\n",
       "      <td>{'core': 0, 'gpu': 0, 'iterations': 3, 'matrixAHeight': 1536, 'matrixAWidth': 1536, 'matrixBHeight': 1536, 'matrixBWidth': 1536}</td>\n",
       "    </tr>\n",
       "    <tr>\n",
       "      <th>6</th>\n",
       "      <td>7</td>\n",
       "      <td>Matrix Multiply</td>\n",
       "      <td>{'core': 0, 'gpu': 0, 'iterations': 3, 'matrixAHeight': 1536, 'matrixAWidth': 1536, 'matrixBHeight': 1536, 'matrixBWidth': 1536}</td>\n",
       "    </tr>\n",
       "    <tr>\n",
       "      <th>7</th>\n",
       "      <td>8</td>\n",
       "      <td>Matrix Multiply</td>\n",
       "      <td>{'core': 0, 'gpu': 0, 'iterations': 3, 'matrixAHeight': 1536, 'matrixAWidth': 1536, 'matrixBHeight': 1536, 'matrixBWidth': 1536}</td>\n",
       "    </tr>\n",
       "    <tr>\n",
       "      <th>8</th>\n",
       "      <td>9</td>\n",
       "      <td>Matrix Multiply</td>\n",
       "      <td>{'core': 0, 'gpu': 0, 'iterations': 3, 'matrixAHeight': 1536, 'matrixAWidth': 1536, 'matrixBHeight': 1536, 'matrixBWidth': 1536}</td>\n",
       "    </tr>\n",
       "    <tr>\n",
       "      <th>9</th>\n",
       "      <td>10</td>\n",
       "      <td>Matrix Multiply</td>\n",
       "      <td>{'core': 0, 'gpu': 0, 'iterations': 3, 'matrixAHeight': 1536, 'matrixAWidth': 1536, 'matrixBHeight': 1536, 'matrixBWidth': 1536}</td>\n",
       "    </tr>\n",
       "    <tr>\n",
       "      <th>10</th>\n",
       "      <td>11</td>\n",
       "      <td>Matrix Multiply</td>\n",
       "      <td>{'core': 0, 'gpu': 0, 'iterations': 3, 'matrixAHeight': 1536, 'matrixAWidth': 1536, 'matrixBHeight': 1536, 'matrixBWidth': 1536}</td>\n",
       "    </tr>\n",
       "    <tr>\n",
       "      <th>11</th>\n",
       "      <td>12</td>\n",
       "      <td>Matrix Multiply</td>\n",
       "      <td>{'core': 0, 'gpu': 0, 'iterations': 3, 'matrixAHeight': 1536, 'matrixAWidth': 1536, 'matrixBHeight': 1536, 'matrixBWidth': 1536}</td>\n",
       "    </tr>\n",
       "    <tr>\n",
       "      <th>12</th>\n",
       "      <td>13</td>\n",
       "      <td>Matrix Multiply</td>\n",
       "      <td>{'core': 0, 'gpu': 0, 'iterations': 3, 'matrixAHeight': 1536, 'matrixAWidth': 1536, 'matrixBHeight': 1536, 'matrixBWidth': 1536}</td>\n",
       "    </tr>\n",
       "    <tr>\n",
       "      <th>13</th>\n",
       "      <td>14</td>\n",
       "      <td>Matrix Multiply</td>\n",
       "      <td>{'core': 0, 'gpu': 0, 'iterations': 3, 'matrixAHeight': 1536, 'matrixAWidth': 1536, 'matrixBHeight': 1536, 'matrixBWidth': 1536}</td>\n",
       "    </tr>\n",
       "    <tr>\n",
       "      <th>14</th>\n",
       "      <td>15</td>\n",
       "      <td>Matrix Multiply</td>\n",
       "      <td>{'core': 0, 'gpu': 0, 'iterations': 3, 'matrixAHeight': 1536, 'matrixAWidth': 1536, 'matrixBHeight': 1536, 'matrixBWidth': 1536}</td>\n",
       "    </tr>\n",
       "    <tr>\n",
       "      <th>15</th>\n",
       "      <td>16</td>\n",
       "      <td>Matrix Multiply</td>\n",
       "      <td>{'core': 0, 'gpu': 0, 'iterations': 3, 'matrixAHeight': 1536, 'matrixAWidth': 1536, 'matrixBHeight': 1536, 'matrixBWidth': 1536}</td>\n",
       "    </tr>\n",
       "    <tr>\n",
       "      <th>16</th>\n",
       "      <td>17</td>\n",
       "      <td>Matrix Multiply</td>\n",
       "      <td>{'core': 0, 'gpu': 0, 'iterations': 3, 'matrixAHeight': 1536, 'matrixAWidth': 1536, 'matrixBHeight': 1536, 'matrixBWidth': 1536}</td>\n",
       "    </tr>\n",
       "    <tr>\n",
       "      <th>17</th>\n",
       "      <td>18</td>\n",
       "      <td>Matrix Multiply</td>\n",
       "      <td>{'core': 0, 'gpu': 0, 'iterations': 3, 'matrixAHeight': 1536, 'matrixAWidth': 1536, 'matrixBHeight': 1536, 'matrixBWidth': 1536}</td>\n",
       "    </tr>\n",
       "    <tr>\n",
       "      <th>18</th>\n",
       "      <td>19</td>\n",
       "      <td>Matrix Multiply</td>\n",
       "      <td>{'core': 0, 'gpu': 0, 'iterations': 3, 'matrixAHeight': 1536, 'matrixAWidth': 1536, 'matrixBHeight': 1536, 'matrixBWidth': 1536}</td>\n",
       "    </tr>\n",
       "    <tr>\n",
       "      <th>19</th>\n",
       "      <td>21</td>\n",
       "      <td>Matrix Multiply</td>\n",
       "      <td>{'core': 0, 'gpu': 0, 'iterations': 3, 'matrixAHeight': 1536, 'matrixAWidth': 1536, 'matrixBHeight': 1536, 'matrixBWidth': 1536}</td>\n",
       "    </tr>\n",
       "    <tr>\n",
       "      <th>20</th>\n",
       "      <td>22</td>\n",
       "      <td>Matrix Multiply</td>\n",
       "      <td>{'core': 0, 'gpu': 0, 'iterations': 3, 'matrixAHeight': 1536, 'matrixAWidth': 1536, 'matrixBHeight': 1536, 'matrixBWidth': 1536}</td>\n",
       "    </tr>\n",
       "    <tr>\n",
       "      <th>21</th>\n",
       "      <td>23</td>\n",
       "      <td>Matrix Multiply</td>\n",
       "      <td>{'core': 0, 'gpu': 0, 'iterations': 3, 'matrixAHeight': 1536, 'matrixAWidth': 1536, 'matrixBHeight': 1536, 'matrixBWidth': 1536}</td>\n",
       "    </tr>\n",
       "    <tr>\n",
       "      <th>22</th>\n",
       "      <td>24</td>\n",
       "      <td>Matrix Multiply</td>\n",
       "      <td>{'core': 0, 'gpu': 0, 'iterations': 3, 'matrixAHeight': 1536, 'matrixAWidth': 1536, 'matrixBHeight': 1536, 'matrixBWidth': 1536}</td>\n",
       "    </tr>\n",
       "    <tr>\n",
       "      <th>23</th>\n",
       "      <td>25</td>\n",
       "      <td>Matrix Multiply</td>\n",
       "      <td>{'core': 0, 'gpu': 0, 'iterations': 3, 'matrixAHeight': 1536, 'matrixAWidth': 1536, 'matrixBHeight': 1536, 'matrixBWidth': 1536}</td>\n",
       "    </tr>\n",
       "    <tr>\n",
       "      <th>24</th>\n",
       "      <td>26</td>\n",
       "      <td>Matrix Multiply</td>\n",
       "      <td>{'core': 0, 'gpu': 0, 'iterations': 3, 'matrixAHeight': 1536, 'matrixAWidth': 1536, 'matrixBHeight': 1536, 'matrixBWidth': 1536}</td>\n",
       "    </tr>\n",
       "    <tr>\n",
       "      <th>25</th>\n",
       "      <td>27</td>\n",
       "      <td>Matrix Multiply</td>\n",
       "      <td>{'core': 0, 'gpu': 0, 'iterations': 3, 'matrixAHeight': 1536, 'matrixAWidth': 1536, 'matrixBHeight': 1536, 'matrixBWidth': 1536}</td>\n",
       "    </tr>\n",
       "    <tr>\n",
       "      <th>26</th>\n",
       "      <td>28</td>\n",
       "      <td>Matrix Multiply</td>\n",
       "      <td>{'core': 0, 'gpu': 0, 'iterations': 3, 'matrixAHeight': 1536, 'matrixAWidth': 1536, 'matrixBHeight': 1536, 'matrixBWidth': 1536}</td>\n",
       "    </tr>\n",
       "    <tr>\n",
       "      <th>27</th>\n",
       "      <td>29</td>\n",
       "      <td>Matrix Multiply</td>\n",
       "      <td>{'core': 0, 'gpu': 0, 'iterations': 3, 'matrixAHeight': 1536, 'matrixAWidth': 1536, 'matrixBHeight': 1536, 'matrixBWidth': 1536}</td>\n",
       "    </tr>\n",
       "    <tr>\n",
       "      <th>28</th>\n",
       "      <td>30</td>\n",
       "      <td>Matrix Multiply</td>\n",
       "      <td>{'core': 0, 'gpu': 0, 'iterations': 3, 'matrixAHeight': 1536, 'matrixAWidth': 1536, 'matrixBHeight': 1536, 'matrixBWidth': 1536}</td>\n",
       "    </tr>\n",
       "    <tr>\n",
       "      <th>29</th>\n",
       "      <td>31</td>\n",
       "      <td>Matrix Multiply</td>\n",
       "      <td>{'core': 0, 'gpu': 0, 'iterations': 3, 'matrixAHeight': 1536, 'matrixAWidth': 1536, 'matrixBHeight': 1536, 'matrixBWidth': 1536}</td>\n",
       "    </tr>\n",
       "    <tr>\n",
       "      <th>30</th>\n",
       "      <td>32</td>\n",
       "      <td>Matrix Multiply</td>\n",
       "      <td>{'core': 0, 'gpu': 0, 'iterations': 3, 'matrixAHeight': 1536, 'matrixAWidth': 1536, 'matrixBHeight': 1536, 'matrixBWidth': 1536}</td>\n",
       "    </tr>\n",
       "    <tr>\n",
       "      <th>31</th>\n",
       "      <td>33</td>\n",
       "      <td>Matrix Multiply</td>\n",
       "      <td>{'core': 0, 'gpu': 0, 'iterations': 3, 'matrixAHeight': 1536, 'matrixAWidth': 1536, 'matrixBHeight': 1536, 'matrixBWidth': 1536}</td>\n",
       "    </tr>\n",
       "    <tr>\n",
       "      <th>32</th>\n",
       "      <td>34</td>\n",
       "      <td>Matrix Multiply</td>\n",
       "      <td>{'core': 0, 'gpu': 0, 'iterations': 3, 'matrixAHeight': 1536, 'matrixAWidth': 1536, 'matrixBHeight': 1536, 'matrixBWidth': 1536}</td>\n",
       "    </tr>\n",
       "    <tr>\n",
       "      <th>33</th>\n",
       "      <td>35</td>\n",
       "      <td>Matrix Multiply</td>\n",
       "      <td>{'core': 0, 'gpu': 0, 'iterations': 3, 'matrixAHeight': 1536, 'matrixAWidth': 1536, 'matrixBHeight': 1536, 'matrixBWidth': 1536}</td>\n",
       "    </tr>\n",
       "    <tr>\n",
       "      <th>34</th>\n",
       "      <td>36</td>\n",
       "      <td>Matrix Multiply</td>\n",
       "      <td>{'core': 0, 'gpu': 0, 'iterations': 3, 'matrixAHeight': 1536, 'matrixAWidth': 1536, 'matrixBHeight': 1536, 'matrixBWidth': 1536}</td>\n",
       "    </tr>\n",
       "    <tr>\n",
       "      <th>35</th>\n",
       "      <td>37</td>\n",
       "      <td>Matrix Multiply</td>\n",
       "      <td>{'core': 0, 'gpu': 0, 'iterations': 3, 'matrixAHeight': 1536, 'matrixAWidth': 1536, 'matrixBHeight': 1536, 'matrixBWidth': 1536}</td>\n",
       "    </tr>\n",
       "    <tr>\n",
       "      <th>36</th>\n",
       "      <td>38</td>\n",
       "      <td>Matrix Multiply</td>\n",
       "      <td>{'core': 0, 'gpu': 0, 'iterations': 3, 'matrixAHeight': 1536, 'matrixAWidth': 1536, 'matrixBHeight': 1536, 'matrixBWidth': 1536}</td>\n",
       "    </tr>\n",
       "    <tr>\n",
       "      <th>37</th>\n",
       "      <td>39</td>\n",
       "      <td>Matrix Multiply</td>\n",
       "      <td>{'core': 0, 'gpu': 0, 'iterations': 3, 'matrixAHeight': 1536, 'matrixAWidth': 1536, 'matrixBHeight': 1536, 'matrixBWidth': 1536}</td>\n",
       "    </tr>\n",
       "    <tr>\n",
       "      <th>38</th>\n",
       "      <td>40</td>\n",
       "      <td>Matrix Multiply</td>\n",
       "      <td>{'core': 0, 'gpu': 0, 'iterations': 3, 'matrixAHeight': 1536, 'matrixAWidth': 1536, 'matrixBHeight': 1536, 'matrixBWidth': 1536}</td>\n",
       "    </tr>\n",
       "    <tr>\n",
       "      <th>39</th>\n",
       "      <td>41</td>\n",
       "      <td>Matrix Multiply</td>\n",
       "      <td>{'core': 0, 'gpu': 0, 'iterations': 3, 'matrixAHeight': 1536, 'matrixAWidth': 1536, 'matrixBHeight': 1536, 'matrixBWidth': 1536}</td>\n",
       "    </tr>\n",
       "    <tr>\n",
       "      <th>40</th>\n",
       "      <td>42</td>\n",
       "      <td>Matrix Multiply</td>\n",
       "      <td>{'core': 0, 'gpu': 0, 'iterations': 3, 'matrixAHeight': 1536, 'matrixAWidth': 1536, 'matrixBHeight': 1536, 'matrixBWidth': 1536}</td>\n",
       "    </tr>\n",
       "    <tr>\n",
       "      <th>41</th>\n",
       "      <td>43</td>\n",
       "      <td>Matrix Multiply</td>\n",
       "      <td>{'core': 0, 'gpu': 0, 'iterations': 3, 'matrixAHeight': 1536, 'matrixAWidth': 1536, 'matrixBHeight': 1536, 'matrixBWidth': 1536}</td>\n",
       "    </tr>\n",
       "    <tr>\n",
       "      <th>42</th>\n",
       "      <td>44</td>\n",
       "      <td>Matrix Multiply</td>\n",
       "      <td>{'core': 0, 'gpu': 0, 'iterations': 3, 'matrixAHeight': 1536, 'matrixAWidth': 1536, 'matrixBHeight': 1536, 'matrixBWidth': 1536}</td>\n",
       "    </tr>\n",
       "    <tr>\n",
       "      <th>43</th>\n",
       "      <td>45</td>\n",
       "      <td>Matrix Multiply</td>\n",
       "      <td>{'core': 0, 'gpu': 0, 'iterations': 3, 'matrixAHeight': 1536, 'matrixAWidth': 1536, 'matrixBHeight': 1536, 'matrixBWidth': 1536}</td>\n",
       "    </tr>\n",
       "    <tr>\n",
       "      <th>44</th>\n",
       "      <td>46</td>\n",
       "      <td>Matrix Multiply</td>\n",
       "      <td>{'core': 0, 'gpu': 0, 'iterations': 3, 'matrixAHeight': 1536, 'matrixAWidth': 1536, 'matrixBHeight': 1536, 'matrixBWidth': 1536}</td>\n",
       "    </tr>\n",
       "    <tr>\n",
       "      <th>45</th>\n",
       "      <td>47</td>\n",
       "      <td>Matrix Multiply</td>\n",
       "      <td>{'core': 0, 'gpu': 0, 'iterations': 3, 'matrixAHeight': 1536, 'matrixAWidth': 1536, 'matrixBHeight': 1536, 'matrixBWidth': 1536}</td>\n",
       "    </tr>\n",
       "    <tr>\n",
       "      <th>46</th>\n",
       "      <td>48</td>\n",
       "      <td>Matrix Multiply</td>\n",
       "      <td>{'core': 0, 'gpu': 0, 'iterations': 3, 'matrixAHeight': 1536, 'matrixAWidth': 1536, 'matrixBHeight': 1536, 'matrixBWidth': 1536}</td>\n",
       "    </tr>\n",
       "    <tr>\n",
       "      <th>47</th>\n",
       "      <td>49</td>\n",
       "      <td>Matrix Multiply</td>\n",
       "      <td>{'core': 0, 'gpu': 0, 'iterations': 3, 'matrixAHeight': 1536, 'matrixAWidth': 1536, 'matrixBHeight': 1536, 'matrixBWidth': 1536}</td>\n",
       "    </tr>\n",
       "    <tr>\n",
       "      <th>48</th>\n",
       "      <td>50</td>\n",
       "      <td>Matrix Multiply</td>\n",
       "      <td>{'core': 0, 'gpu': 0, 'iterations': 3, 'matrixAHeight': 1536, 'matrixAWidth': 1536, 'matrixBHeight': 1536, 'matrixBWidth': 1536}</td>\n",
       "    </tr>\n",
       "    <tr>\n",
       "      <th>49</th>\n",
       "      <td>51</td>\n",
       "      <td>KMeans</td>\n",
       "      <td>{'core': 0, 'file': '/home/qub1/rodinia_3.1/data/kmeans/kdd_cup', 'gpu': 0, 'iterations': 15}</td>\n",
       "    </tr>\n",
       "    <tr>\n",
       "      <th>50</th>\n",
       "      <td>52</td>\n",
       "      <td>KMeans</td>\n",
       "      <td>{'core': 0, 'file': '/home/qub1/rodinia_3.1/data/kmeans/kdd_cup', 'gpu': 0, 'iterations': 15}</td>\n",
       "    </tr>\n",
       "    <tr>\n",
       "      <th>51</th>\n",
       "      <td>53</td>\n",
       "      <td>KMeans</td>\n",
       "      <td>{'core': 0, 'file': '/home/qub1/rodinia_3.1/data/kmeans/kdd_cup', 'gpu': 0, 'iterations': 15}</td>\n",
       "    </tr>\n",
       "    <tr>\n",
       "      <th>52</th>\n",
       "      <td>54</td>\n",
       "      <td>KMeans</td>\n",
       "      <td>{'core': 0, 'file': '/home/qub1/rodinia_3.1/data/kmeans/kdd_cup', 'gpu': 0, 'iterations': 15}</td>\n",
       "    </tr>\n",
       "    <tr>\n",
       "      <th>53</th>\n",
       "      <td>55</td>\n",
       "      <td>KMeans</td>\n",
       "      <td>{'core': 0, 'file': '/home/qub1/rodinia_3.1/data/kmeans/kdd_cup', 'gpu': 0, 'iterations': 15}</td>\n",
       "    </tr>\n",
       "    <tr>\n",
       "      <th>54</th>\n",
       "      <td>56</td>\n",
       "      <td>KMeans</td>\n",
       "      <td>{'core': 0, 'file': '/home/qub1/rodinia_3.1/data/kmeans/kdd_cup', 'gpu': 0, 'iterations': 15}</td>\n",
       "    </tr>\n",
       "    <tr>\n",
       "      <th>55</th>\n",
       "      <td>57</td>\n",
       "      <td>KMeans</td>\n",
       "      <td>{'core': 0, 'file': '/home/qub1/rodinia_3.1/data/kmeans/kdd_cup', 'gpu': 0, 'iterations': 15}</td>\n",
       "    </tr>\n",
       "    <tr>\n",
       "      <th>56</th>\n",
       "      <td>58</td>\n",
       "      <td>KMeans</td>\n",
       "      <td>{'core': 0, 'file': '/home/qub1/rodinia_3.1/data/kmeans/kdd_cup', 'gpu': 0, 'iterations': 15}</td>\n",
       "    </tr>\n",
       "    <tr>\n",
       "      <th>57</th>\n",
       "      <td>59</td>\n",
       "      <td>KMeans</td>\n",
       "      <td>{'core': 0, 'file': '/home/qub1/rodinia_3.1/data/kmeans/kdd_cup', 'gpu': 0, 'iterations': 15}</td>\n",
       "    </tr>\n",
       "    <tr>\n",
       "      <th>58</th>\n",
       "      <td>60</td>\n",
       "      <td>KMeans</td>\n",
       "      <td>{'core': 0, 'file': '/home/qub1/rodinia_3.1/data/kmeans/kdd_cup', 'gpu': 0, 'iterations': 15}</td>\n",
       "    </tr>\n",
       "    <tr>\n",
       "      <th>59</th>\n",
       "      <td>61</td>\n",
       "      <td>KMeans</td>\n",
       "      <td>{'core': 0, 'file': '/home/qub1/rodinia_3.1/data/kmeans/kdd_cup', 'gpu': 0, 'iterations': 15}</td>\n",
       "    </tr>\n",
       "    <tr>\n",
       "      <th>60</th>\n",
       "      <td>62</td>\n",
       "      <td>KMeans</td>\n",
       "      <td>{'core': 0, 'file': '/home/qub1/rodinia_3.1/data/kmeans/kdd_cup', 'gpu': 0, 'iterations': 15}</td>\n",
       "    </tr>\n",
       "    <tr>\n",
       "      <th>61</th>\n",
       "      <td>63</td>\n",
       "      <td>KMeans</td>\n",
       "      <td>{'core': 0, 'file': '/home/qub1/rodinia_3.1/data/kmeans/kdd_cup', 'gpu': 0, 'iterations': 15}</td>\n",
       "    </tr>\n",
       "    <tr>\n",
       "      <th>62</th>\n",
       "      <td>64</td>\n",
       "      <td>KMeans</td>\n",
       "      <td>{'core': 0, 'file': '/home/qub1/rodinia_3.1/data/kmeans/kdd_cup', 'gpu': 0, 'iterations': 15}</td>\n",
       "    </tr>\n",
       "    <tr>\n",
       "      <th>63</th>\n",
       "      <td>65</td>\n",
       "      <td>KMeans</td>\n",
       "      <td>{'core': 0, 'file': '/home/qub1/rodinia_3.1/data/kmeans/kdd_cup', 'gpu': 0, 'iterations': 15}</td>\n",
       "    </tr>\n",
       "    <tr>\n",
       "      <th>64</th>\n",
       "      <td>66</td>\n",
       "      <td>KMeans</td>\n",
       "      <td>{'core': 0, 'file': '/home/qub1/rodinia_3.1/data/kmeans/kdd_cup', 'gpu': 0, 'iterations': 15}</td>\n",
       "    </tr>\n",
       "    <tr>\n",
       "      <th>65</th>\n",
       "      <td>67</td>\n",
       "      <td>KMeans</td>\n",
       "      <td>{'core': 0, 'file': '/home/qub1/rodinia_3.1/data/kmeans/kdd_cup', 'gpu': 0, 'iterations': 15}</td>\n",
       "    </tr>\n",
       "    <tr>\n",
       "      <th>66</th>\n",
       "      <td>68</td>\n",
       "      <td>KMeans</td>\n",
       "      <td>{'core': 0, 'file': '/home/qub1/rodinia_3.1/data/kmeans/kdd_cup', 'gpu': 0, 'iterations': 15}</td>\n",
       "    </tr>\n",
       "    <tr>\n",
       "      <th>67</th>\n",
       "      <td>69</td>\n",
       "      <td>KMeans</td>\n",
       "      <td>{'core': 0, 'file': '/home/qub1/rodinia_3.1/data/kmeans/kdd_cup', 'gpu': 0, 'iterations': 15}</td>\n",
       "    </tr>\n",
       "    <tr>\n",
       "      <th>68</th>\n",
       "      <td>70</td>\n",
       "      <td>KMeans</td>\n",
       "      <td>{'core': 0, 'file': '/home/qub1/rodinia_3.1/data/kmeans/kdd_cup', 'gpu': 0, 'iterations': 15}</td>\n",
       "    </tr>\n",
       "    <tr>\n",
       "      <th>69</th>\n",
       "      <td>71</td>\n",
       "      <td>KMeans</td>\n",
       "      <td>{'core': 0, 'file': '/home/qub1/rodinia_3.1/data/kmeans/kdd_cup', 'gpu': 0, 'iterations': 15}</td>\n",
       "    </tr>\n",
       "    <tr>\n",
       "      <th>70</th>\n",
       "      <td>72</td>\n",
       "      <td>KMeans</td>\n",
       "      <td>{'core': 0, 'file': '/home/qub1/rodinia_3.1/data/kmeans/kdd_cup', 'gpu': 0, 'iterations': 15}</td>\n",
       "    </tr>\n",
       "    <tr>\n",
       "      <th>71</th>\n",
       "      <td>73</td>\n",
       "      <td>KMeans</td>\n",
       "      <td>{'core': 0, 'file': '/home/qub1/rodinia_3.1/data/kmeans/kdd_cup', 'gpu': 0, 'iterations': 15}</td>\n",
       "    </tr>\n",
       "    <tr>\n",
       "      <th>72</th>\n",
       "      <td>74</td>\n",
       "      <td>KMeans</td>\n",
       "      <td>{'core': 0, 'file': '/home/qub1/rodinia_3.1/data/kmeans/kdd_cup', 'gpu': 0, 'iterations': 15}</td>\n",
       "    </tr>\n",
       "    <tr>\n",
       "      <th>73</th>\n",
       "      <td>75</td>\n",
       "      <td>KMeans</td>\n",
       "      <td>{'core': 0, 'file': '/home/qub1/rodinia_3.1/data/kmeans/kdd_cup', 'gpu': 0, 'iterations': 15}</td>\n",
       "    </tr>\n",
       "    <tr>\n",
       "      <th>74</th>\n",
       "      <td>76</td>\n",
       "      <td>KMeans</td>\n",
       "      <td>{'core': 0, 'file': '/home/qub1/rodinia_3.1/data/kmeans/kdd_cup', 'gpu': 0, 'iterations': 15}</td>\n",
       "    </tr>\n",
       "    <tr>\n",
       "      <th>75</th>\n",
       "      <td>77</td>\n",
       "      <td>KMeans</td>\n",
       "      <td>{'core': 0, 'file': '/home/qub1/rodinia_3.1/data/kmeans/kdd_cup', 'gpu': 0, 'iterations': 15}</td>\n",
       "    </tr>\n",
       "    <tr>\n",
       "      <th>76</th>\n",
       "      <td>78</td>\n",
       "      <td>KMeans</td>\n",
       "      <td>{'core': 0, 'file': '/home/qub1/rodinia_3.1/data/kmeans/kdd_cup', 'gpu': 0, 'iterations': 15}</td>\n",
       "    </tr>\n",
       "    <tr>\n",
       "      <th>77</th>\n",
       "      <td>79</td>\n",
       "      <td>KMeans</td>\n",
       "      <td>{'core': 0, 'file': '/home/qub1/rodinia_3.1/data/kmeans/kdd_cup', 'gpu': 0, 'iterations': 15}</td>\n",
       "    </tr>\n",
       "    <tr>\n",
       "      <th>78</th>\n",
       "      <td>80</td>\n",
       "      <td>KMeans</td>\n",
       "      <td>{'core': 0, 'file': '/home/qub1/rodinia_3.1/data/kmeans/kdd_cup', 'gpu': 0, 'iterations': 15}</td>\n",
       "    </tr>\n",
       "    <tr>\n",
       "      <th>79</th>\n",
       "      <td>81</td>\n",
       "      <td>KMeans</td>\n",
       "      <td>{'core': 0, 'file': '/home/qub1/rodinia_3.1/data/kmeans/kdd_cup', 'gpu': 0, 'iterations': 15}</td>\n",
       "    </tr>\n",
       "    <tr>\n",
       "      <th>80</th>\n",
       "      <td>82</td>\n",
       "      <td>KMeans</td>\n",
       "      <td>{'core': 0, 'file': '/home/qub1/rodinia_3.1/data/kmeans/kdd_cup', 'gpu': 0, 'iterations': 15}</td>\n",
       "    </tr>\n",
       "    <tr>\n",
       "      <th>81</th>\n",
       "      <td>83</td>\n",
       "      <td>KMeans</td>\n",
       "      <td>{'core': 0, 'file': '/home/qub1/rodinia_3.1/data/kmeans/kdd_cup', 'gpu': 0, 'iterations': 15}</td>\n",
       "    </tr>\n",
       "    <tr>\n",
       "      <th>82</th>\n",
       "      <td>84</td>\n",
       "      <td>KMeans</td>\n",
       "      <td>{'core': 0, 'file': '/home/qub1/rodinia_3.1/data/kmeans/kdd_cup', 'gpu': 0, 'iterations': 15}</td>\n",
       "    </tr>\n",
       "    <tr>\n",
       "      <th>83</th>\n",
       "      <td>85</td>\n",
       "      <td>KMeans</td>\n",
       "      <td>{'core': 0, 'file': '/home/qub1/rodinia_3.1/data/kmeans/kdd_cup', 'gpu': 0, 'iterations': 15}</td>\n",
       "    </tr>\n",
       "    <tr>\n",
       "      <th>84</th>\n",
       "      <td>86</td>\n",
       "      <td>KMeans</td>\n",
       "      <td>{'core': 0, 'file': '/home/qub1/rodinia_3.1/data/kmeans/kdd_cup', 'gpu': 0, 'iterations': 15}</td>\n",
       "    </tr>\n",
       "    <tr>\n",
       "      <th>85</th>\n",
       "      <td>87</td>\n",
       "      <td>KMeans</td>\n",
       "      <td>{'core': 0, 'file': '/home/qub1/rodinia_3.1/data/kmeans/kdd_cup', 'gpu': 0, 'iterations': 15}</td>\n",
       "    </tr>\n",
       "    <tr>\n",
       "      <th>86</th>\n",
       "      <td>88</td>\n",
       "      <td>KMeans</td>\n",
       "      <td>{'core': 0, 'file': '/home/qub1/rodinia_3.1/data/kmeans/kdd_cup', 'gpu': 0, 'iterations': 15}</td>\n",
       "    </tr>\n",
       "    <tr>\n",
       "      <th>87</th>\n",
       "      <td>89</td>\n",
       "      <td>KMeans</td>\n",
       "      <td>{'core': 0, 'file': '/home/qub1/rodinia_3.1/data/kmeans/kdd_cup', 'gpu': 0, 'iterations': 15}</td>\n",
       "    </tr>\n",
       "    <tr>\n",
       "      <th>88</th>\n",
       "      <td>90</td>\n",
       "      <td>KMeans</td>\n",
       "      <td>{'core': 0, 'file': '/home/qub1/rodinia_3.1/data/kmeans/kdd_cup', 'gpu': 0, 'iterations': 15}</td>\n",
       "    </tr>\n",
       "    <tr>\n",
       "      <th>89</th>\n",
       "      <td>91</td>\n",
       "      <td>KMeans</td>\n",
       "      <td>{'core': 0, 'file': '/home/qub1/rodinia_3.1/data/kmeans/kdd_cup', 'gpu': 0, 'iterations': 15}</td>\n",
       "    </tr>\n",
       "    <tr>\n",
       "      <th>90</th>\n",
       "      <td>92</td>\n",
       "      <td>KMeans</td>\n",
       "      <td>{'core': 0, 'file': '/home/qub1/rodinia_3.1/data/kmeans/kdd_cup', 'gpu': 0, 'iterations': 15}</td>\n",
       "    </tr>\n",
       "    <tr>\n",
       "      <th>91</th>\n",
       "      <td>93</td>\n",
       "      <td>KMeans</td>\n",
       "      <td>{'core': 0, 'file': '/home/qub1/rodinia_3.1/data/kmeans/kdd_cup', 'gpu': 0, 'iterations': 15}</td>\n",
       "    </tr>\n",
       "    <tr>\n",
       "      <th>92</th>\n",
       "      <td>94</td>\n",
       "      <td>KMeans</td>\n",
       "      <td>{'core': 0, 'file': '/home/qub1/rodinia_3.1/data/kmeans/kdd_cup', 'gpu': 0, 'iterations': 15}</td>\n",
       "    </tr>\n",
       "    <tr>\n",
       "      <th>93</th>\n",
       "      <td>95</td>\n",
       "      <td>KMeans</td>\n",
       "      <td>{'core': 0, 'file': '/home/qub1/rodinia_3.1/data/kmeans/kdd_cup', 'gpu': 0, 'iterations': 15}</td>\n",
       "    </tr>\n",
       "    <tr>\n",
       "      <th>94</th>\n",
       "      <td>96</td>\n",
       "      <td>KMeans</td>\n",
       "      <td>{'core': 0, 'file': '/home/qub1/rodinia_3.1/data/kmeans/kdd_cup', 'gpu': 0, 'iterations': 15}</td>\n",
       "    </tr>\n",
       "    <tr>\n",
       "      <th>95</th>\n",
       "      <td>97</td>\n",
       "      <td>KMeans</td>\n",
       "      <td>{'core': 0, 'file': '/home/qub1/rodinia_3.1/data/kmeans/kdd_cup', 'gpu': 0, 'iterations': 15}</td>\n",
       "    </tr>\n",
       "    <tr>\n",
       "      <th>96</th>\n",
       "      <td>98</td>\n",
       "      <td>KMeans</td>\n",
       "      <td>{'core': 0, 'file': '/home/qub1/rodinia_3.1/data/kmeans/kdd_cup', 'gpu': 0, 'iterations': 15}</td>\n",
       "    </tr>\n",
       "    <tr>\n",
       "      <th>97</th>\n",
       "      <td>99</td>\n",
       "      <td>KMeans</td>\n",
       "      <td>{'core': 0, 'file': '/home/qub1/rodinia_3.1/data/kmeans/kdd_cup', 'gpu': 0, 'iterations': 15}</td>\n",
       "    </tr>\n",
       "    <tr>\n",
       "      <th>98</th>\n",
       "      <td>100</td>\n",
       "      <td>KMeans</td>\n",
       "      <td>{'core': 0, 'file': '/home/qub1/rodinia_3.1/data/kmeans/kdd_cup', 'gpu': 0, 'iterations': 15}</td>\n",
       "    </tr>\n",
       "    <tr>\n",
       "      <th>99</th>\n",
       "      <td>101</td>\n",
       "      <td>Matrix Multiply</td>\n",
       "      <td>{'core': 0, 'gpu': 0, 'iterations': 15, 'matrixAHeight': 1536, 'matrixAWidth': 1536, 'matrixBHeight': 1536, 'matrixBWidth': 1536}</td>\n",
       "    </tr>\n",
       "    <tr>\n",
       "      <th>100</th>\n",
       "      <td>102</td>\n",
       "      <td>Matrix Multiply</td>\n",
       "      <td>{'core': 0, 'gpu': 0, 'iterations': 15, 'matrixAHeight': 1536, 'matrixAWidth': 1536, 'matrixBHeight': 1536, 'matrixBWidth': 1536}</td>\n",
       "    </tr>\n",
       "    <tr>\n",
       "      <th>101</th>\n",
       "      <td>103</td>\n",
       "      <td>Matrix Multiply</td>\n",
       "      <td>{'core': 0, 'gpu': 0, 'iterations': 15, 'matrixAHeight': 1536, 'matrixAWidth': 1536, 'matrixBHeight': 1536, 'matrixBWidth': 1536}</td>\n",
       "    </tr>\n",
       "    <tr>\n",
       "      <th>102</th>\n",
       "      <td>104</td>\n",
       "      <td>Matrix Multiply</td>\n",
       "      <td>{'core': 0, 'gpu': 0, 'iterations': 15, 'matrixAHeight': 1536, 'matrixAWidth': 1536, 'matrixBHeight': 1536, 'matrixBWidth': 1536}</td>\n",
       "    </tr>\n",
       "    <tr>\n",
       "      <th>103</th>\n",
       "      <td>105</td>\n",
       "      <td>Matrix Multiply</td>\n",
       "      <td>{'core': 0, 'gpu': 0, 'iterations': 15, 'matrixAHeight': 1536, 'matrixAWidth': 1536, 'matrixBHeight': 1536, 'matrixBWidth': 1536}</td>\n",
       "    </tr>\n",
       "    <tr>\n",
       "      <th>104</th>\n",
       "      <td>106</td>\n",
       "      <td>Matrix Multiply</td>\n",
       "      <td>{'core': 0, 'gpu': 0, 'iterations': 15, 'matrixAHeight': 1536, 'matrixAWidth': 1536, 'matrixBHeight': 1536, 'matrixBWidth': 1536}</td>\n",
       "    </tr>\n",
       "    <tr>\n",
       "      <th>105</th>\n",
       "      <td>107</td>\n",
       "      <td>Matrix Multiply</td>\n",
       "      <td>{'core': 0, 'gpu': 0, 'iterations': 15, 'matrixAHeight': 1536, 'matrixAWidth': 1536, 'matrixBHeight': 1536, 'matrixBWidth': 1536}</td>\n",
       "    </tr>\n",
       "    <tr>\n",
       "      <th>106</th>\n",
       "      <td>108</td>\n",
       "      <td>Matrix Multiply</td>\n",
       "      <td>{'core': 0, 'gpu': 0, 'iterations': 15, 'matrixAHeight': 1536, 'matrixAWidth': 1536, 'matrixBHeight': 1536, 'matrixBWidth': 1536}</td>\n",
       "    </tr>\n",
       "    <tr>\n",
       "      <th>107</th>\n",
       "      <td>109</td>\n",
       "      <td>Matrix Multiply</td>\n",
       "      <td>{'core': 0, 'gpu': 0, 'iterations': 15, 'matrixAHeight': 1536, 'matrixAWidth': 1536, 'matrixBHeight': 1536, 'matrixBWidth': 1536}</td>\n",
       "    </tr>\n",
       "    <tr>\n",
       "      <th>108</th>\n",
       "      <td>110</td>\n",
       "      <td>Matrix Multiply</td>\n",
       "      <td>{'core': 0, 'gpu': 0, 'iterations': 15, 'matrixAHeight': 1536, 'matrixAWidth': 1536, 'matrixBHeight': 1536, 'matrixBWidth': 1536}</td>\n",
       "    </tr>\n",
       "    <tr>\n",
       "      <th>109</th>\n",
       "      <td>111</td>\n",
       "      <td>KMeans</td>\n",
       "      <td>{'core': 0, 'file': '/home/qub1/rodinia_3.1/data/kmeans/kdd_cup', 'gpu': 0, 'iterations': 75}</td>\n",
       "    </tr>\n",
       "    <tr>\n",
       "      <th>110</th>\n",
       "      <td>112</td>\n",
       "      <td>KMeans</td>\n",
       "      <td>{'core': 0, 'file': '/home/qub1/rodinia_3.1/data/kmeans/kdd_cup', 'gpu': 0, 'iterations': 75}</td>\n",
       "    </tr>\n",
       "    <tr>\n",
       "      <th>111</th>\n",
       "      <td>113</td>\n",
       "      <td>KMeans</td>\n",
       "      <td>{'core': 0, 'file': '/home/qub1/rodinia_3.1/data/kmeans/kdd_cup', 'gpu': 0, 'iterations': 75}</td>\n",
       "    </tr>\n",
       "    <tr>\n",
       "      <th>112</th>\n",
       "      <td>114</td>\n",
       "      <td>KMeans</td>\n",
       "      <td>{'core': 0, 'file': '/home/qub1/rodinia_3.1/data/kmeans/kdd_cup', 'gpu': 0, 'iterations': 75}</td>\n",
       "    </tr>\n",
       "    <tr>\n",
       "      <th>113</th>\n",
       "      <td>115</td>\n",
       "      <td>KMeans</td>\n",
       "      <td>{'core': 0, 'file': '/home/qub1/rodinia_3.1/data/kmeans/kdd_cup', 'gpu': 0, 'iterations': 75}</td>\n",
       "    </tr>\n",
       "    <tr>\n",
       "      <th>114</th>\n",
       "      <td>116</td>\n",
       "      <td>KMeans</td>\n",
       "      <td>{'core': 0, 'file': '/home/qub1/rodinia_3.1/data/kmeans/kdd_cup', 'gpu': 0, 'iterations': 75}</td>\n",
       "    </tr>\n",
       "    <tr>\n",
       "      <th>115</th>\n",
       "      <td>117</td>\n",
       "      <td>KMeans</td>\n",
       "      <td>{'core': 0, 'file': '/home/qub1/rodinia_3.1/data/kmeans/kdd_cup', 'gpu': 0, 'iterations': 75}</td>\n",
       "    </tr>\n",
       "    <tr>\n",
       "      <th>116</th>\n",
       "      <td>118</td>\n",
       "      <td>KMeans</td>\n",
       "      <td>{'core': 0, 'file': '/home/qub1/rodinia_3.1/data/kmeans/kdd_cup', 'gpu': 0, 'iterations': 75}</td>\n",
       "    </tr>\n",
       "    <tr>\n",
       "      <th>117</th>\n",
       "      <td>119</td>\n",
       "      <td>KMeans</td>\n",
       "      <td>{'core': 0, 'file': '/home/qub1/rodinia_3.1/data/kmeans/kdd_cup', 'gpu': 0, 'iterations': 75}</td>\n",
       "    </tr>\n",
       "    <tr>\n",
       "      <th>118</th>\n",
       "      <td>120</td>\n",
       "      <td>KMeans</td>\n",
       "      <td>{'core': 0, 'file': '/home/qub1/rodinia_3.1/data/kmeans/kdd_cup', 'gpu': 0, 'iterations': 75}</td>\n",
       "    </tr>\n",
       "    <tr>\n",
       "      <th>119</th>\n",
       "      <td>121</td>\n",
       "      <td>Matrix Multiply</td>\n",
       "      <td>{'core': 0, 'gpu': 0, 'iterations': 3, 'matrixAHeight': 1536, 'matrixAWidth': 1536, 'matrixBHeight': 1536, 'matrixBWidth': 1536}</td>\n",
       "    </tr>\n",
       "    <tr>\n",
       "      <th>120</th>\n",
       "      <td>122</td>\n",
       "      <td>KMeans</td>\n",
       "      <td>{'core': 0, 'file': '/home/qub1/rodinia_3.1/data/kmeans/kdd_cup', 'gpu': 0, 'iterations': 15}</td>\n",
       "    </tr>\n",
       "    <tr>\n",
       "      <th>121</th>\n",
       "      <td>123</td>\n",
       "      <td>Matrix Multiply (EnergyMonitor)</td>\n",
       "      <td>{'core': 0, 'gpu': 0, 'iterations': 15, 'matrixAHeight': 1536, 'matrixAWidth': 1536, 'matrixBHeight': 1536, 'matrixBWidth': 1536}</td>\n",
       "    </tr>\n",
       "    <tr>\n",
       "      <th>122</th>\n",
       "      <td>124</td>\n",
       "      <td>Matrix Multiply (EnergyMonitor)</td>\n",
       "      <td>{'core': 0, 'gpu': 0, 'iterations': 15, 'matrixAHeight': 1536, 'matrixAWidth': 1536, 'matrixBHeight': 1536, 'matrixBWidth': 1536}</td>\n",
       "    </tr>\n",
       "    <tr>\n",
       "      <th>123</th>\n",
       "      <td>125</td>\n",
       "      <td>Matrix Multiply (EnergyMonitor)</td>\n",
       "      <td>{'core': 0, 'gpu': 0, 'iterations': 15, 'matrixAHeight': 1536, 'matrixAWidth': 1536, 'matrixBHeight': 1536, 'matrixBWidth': 1536}</td>\n",
       "    </tr>\n",
       "    <tr>\n",
       "      <th>124</th>\n",
       "      <td>126</td>\n",
       "      <td>Matrix Multiply (EnergyMonitor)</td>\n",
       "      <td>{'core': 0, 'gpu': 0, 'iterations': 15, 'matrixAHeight': 1536, 'matrixAWidth': 1536, 'matrixBHeight': 1536, 'matrixBWidth': 1536}</td>\n",
       "    </tr>\n",
       "    <tr>\n",
       "      <th>125</th>\n",
       "      <td>127</td>\n",
       "      <td>Matrix Multiply (EnergyMonitor)</td>\n",
       "      <td>{'core': 0, 'gpu': 0, 'iterations': 15, 'matrixAHeight': 1536, 'matrixAWidth': 1536, 'matrixBHeight': 1536, 'matrixBWidth': 1536}</td>\n",
       "    </tr>\n",
       "    <tr>\n",
       "      <th>126</th>\n",
       "      <td>128</td>\n",
       "      <td>Matrix Multiply (EnergyMonitor)</td>\n",
       "      <td>{'core': 0, 'gpu': 0, 'iterations': 15, 'matrixAHeight': 1536, 'matrixAWidth': 1536, 'matrixBHeight': 1536, 'matrixBWidth': 1536}</td>\n",
       "    </tr>\n",
       "    <tr>\n",
       "      <th>127</th>\n",
       "      <td>129</td>\n",
       "      <td>Matrix Multiply (EnergyMonitor)</td>\n",
       "      <td>{'core': 0, 'gpu': 0, 'iterations': 15, 'matrixAHeight': 1536, 'matrixAWidth': 1536, 'matrixBHeight': 1536, 'matrixBWidth': 1536}</td>\n",
       "    </tr>\n",
       "    <tr>\n",
       "      <th>128</th>\n",
       "      <td>130</td>\n",
       "      <td>Matrix Multiply (EnergyMonitor)</td>\n",
       "      <td>{'core': 0, 'gpu': 0, 'iterations': 15, 'matrixAHeight': 1536, 'matrixAWidth': 1536, 'matrixBHeight': 1536, 'matrixBWidth': 1536}</td>\n",
       "    </tr>\n",
       "    <tr>\n",
       "      <th>129</th>\n",
       "      <td>131</td>\n",
       "      <td>Matrix Multiply (EnergyMonitor)</td>\n",
       "      <td>{'core': 0, 'gpu': 0, 'iterations': 15, 'matrixAHeight': 1536, 'matrixAWidth': 1536, 'matrixBHeight': 1536, 'matrixBWidth': 1536}</td>\n",
       "    </tr>\n",
       "    <tr>\n",
       "      <th>130</th>\n",
       "      <td>132</td>\n",
       "      <td>Matrix Multiply (EnergyMonitor)</td>\n",
       "      <td>{'core': 0, 'gpu': 0, 'iterations': 15, 'matrixAHeight': 1536, 'matrixAWidth': 1536, 'matrixBHeight': 1536, 'matrixBWidth': 1536}</td>\n",
       "    </tr>\n",
       "    <tr>\n",
       "      <th>131</th>\n",
       "      <td>133</td>\n",
       "      <td>KMeans (EnergyMonitor)</td>\n",
       "      <td>{'core': 0, 'file': '/home/qub1/rodinia_3.1/data/kmeans/kdd_cup', 'gpu': 0, 'iterations': 75}</td>\n",
       "    </tr>\n",
       "    <tr>\n",
       "      <th>132</th>\n",
       "      <td>134</td>\n",
       "      <td>KMeans (EnergyMonitor)</td>\n",
       "      <td>{'core': 0, 'file': '/home/qub1/rodinia_3.1/data/kmeans/kdd_cup', 'gpu': 0, 'iterations': 75}</td>\n",
       "    </tr>\n",
       "    <tr>\n",
       "      <th>133</th>\n",
       "      <td>135</td>\n",
       "      <td>KMeans (EnergyMonitor)</td>\n",
       "      <td>{'core': 0, 'file': '/home/qub1/rodinia_3.1/data/kmeans/kdd_cup', 'gpu': 0, 'iterations': 75}</td>\n",
       "    </tr>\n",
       "    <tr>\n",
       "      <th>134</th>\n",
       "      <td>136</td>\n",
       "      <td>KMeans (EnergyMonitor)</td>\n",
       "      <td>{'core': 0, 'file': '/home/qub1/rodinia_3.1/data/kmeans/kdd_cup', 'gpu': 0, 'iterations': 75}</td>\n",
       "    </tr>\n",
       "    <tr>\n",
       "      <th>135</th>\n",
       "      <td>137</td>\n",
       "      <td>KMeans (EnergyMonitor)</td>\n",
       "      <td>{'core': 0, 'file': '/home/qub1/rodinia_3.1/data/kmeans/kdd_cup', 'gpu': 0, 'iterations': 75}</td>\n",
       "    </tr>\n",
       "    <tr>\n",
       "      <th>136</th>\n",
       "      <td>138</td>\n",
       "      <td>KMeans (EnergyMonitor)</td>\n",
       "      <td>{'core': 0, 'file': '/home/qub1/rodinia_3.1/data/kmeans/kdd_cup', 'gpu': 0, 'iterations': 75}</td>\n",
       "    </tr>\n",
       "    <tr>\n",
       "      <th>137</th>\n",
       "      <td>139</td>\n",
       "      <td>KMeans (EnergyMonitor)</td>\n",
       "      <td>{'core': 0, 'file': '/home/qub1/rodinia_3.1/data/kmeans/kdd_cup', 'gpu': 0, 'iterations': 75}</td>\n",
       "    </tr>\n",
       "    <tr>\n",
       "      <th>138</th>\n",
       "      <td>140</td>\n",
       "      <td>KMeans (EnergyMonitor)</td>\n",
       "      <td>{'core': 0, 'file': '/home/qub1/rodinia_3.1/data/kmeans/kdd_cup', 'gpu': 0, 'iterations': 75}</td>\n",
       "    </tr>\n",
       "    <tr>\n",
       "      <th>139</th>\n",
       "      <td>141</td>\n",
       "      <td>KMeans (EnergyMonitor)</td>\n",
       "      <td>{'core': 0, 'file': '/home/qub1/rodinia_3.1/data/kmeans/kdd_cup', 'gpu': 0, 'iterations': 75}</td>\n",
       "    </tr>\n",
       "    <tr>\n",
       "      <th>140</th>\n",
       "      <td>142</td>\n",
       "      <td>KMeans (EnergyMonitor)</td>\n",
       "      <td>{'core': 0, 'file': '/home/qub1/rodinia_3.1/data/kmeans/kdd_cup', 'gpu': 0, 'iterations': 75}</td>\n",
       "    </tr>\n",
       "    <tr>\n",
       "      <th>141</th>\n",
       "      <td>143</td>\n",
       "      <td>Matrix Multiply (EnergyMonitor)</td>\n",
       "      <td>{'core': 0, 'gpu': 0, 'iterations': 15, 'matrixAHeight': 1536, 'matrixAWidth': 1536, 'matrixBHeight': 1536, 'matrixBWidth': 1536}</td>\n",
       "    </tr>\n",
       "    <tr>\n",
       "      <th>142</th>\n",
       "      <td>144</td>\n",
       "      <td>Matrix Multiply (EnergyMonitor)</td>\n",
       "      <td>{'core': 0, 'gpu': 0, 'iterations': 15, 'matrixAHeight': 1536, 'matrixAWidth': 1536, 'matrixBHeight': 1536, 'matrixBWidth': 1536}</td>\n",
       "    </tr>\n",
       "    <tr>\n",
       "      <th>143</th>\n",
       "      <td>145</td>\n",
       "      <td>Matrix Multiply (EnergyMonitor)</td>\n",
       "      <td>{'core': 0, 'gpu': 0, 'iterations': 15, 'matrixAHeight': 1536, 'matrixAWidth': 1536, 'matrixBHeight': 1536, 'matrixBWidth': 1536}</td>\n",
       "    </tr>\n",
       "    <tr>\n",
       "      <th>144</th>\n",
       "      <td>146</td>\n",
       "      <td>Matrix Multiply (EnergyMonitor)</td>\n",
       "      <td>{'core': 0, 'gpu': 0, 'iterations': 15, 'matrixAHeight': 1536, 'matrixAWidth': 1536, 'matrixBHeight': 1536, 'matrixBWidth': 1536}</td>\n",
       "    </tr>\n",
       "    <tr>\n",
       "      <th>145</th>\n",
       "      <td>147</td>\n",
       "      <td>KMeans (EnergyMonitor)</td>\n",
       "      <td>{'core': 0, 'file': '/home/qub1/rodinia_3.1/data/kmeans/kdd_cup', 'gpu': 0, 'iterations': 75}</td>\n",
       "    </tr>\n",
       "    <tr>\n",
       "      <th>146</th>\n",
       "      <td>148</td>\n",
       "      <td>KMeans (EnergyMonitor)</td>\n",
       "      <td>{'core': 0, 'file': '/home/qub1/rodinia_3.1/data/kmeans/kdd_cup', 'gpu': 0, 'iterations': 75}</td>\n",
       "    </tr>\n",
       "    <tr>\n",
       "      <th>147</th>\n",
       "      <td>149</td>\n",
       "      <td>KMeans (EnergyMonitor)</td>\n",
       "      <td>{'core': 0, 'file': '/home/qub1/rodinia_3.1/data/kmeans/kdd_cup', 'gpu': 0, 'iterations': 75}</td>\n",
       "    </tr>\n",
       "    <tr>\n",
       "      <th>148</th>\n",
       "      <td>150</td>\n",
       "      <td>KMeans (EnergyMonitor)</td>\n",
       "      <td>{'core': 0, 'file': '/home/qub1/rodinia_3.1/data/kmeans/kdd_cup', 'gpu': 0, 'iterations': 75}</td>\n",
       "    </tr>\n",
       "    <tr>\n",
       "      <th>149</th>\n",
       "      <td>151</td>\n",
       "      <td>Matrix Multiply</td>\n",
       "      <td>{'core': 0, 'gpu': 0, 'iterations': 15, 'matrixAHeight': 1536, 'matrixAWidth': 1536, 'matrixBHeight': 1536, 'matrixBWidth': 1536, 'maximumCPUClockRate': 12000000000.0, 'maximumGPUClockRate': 2190000000.0, 'minimumCPUClockRate': 12000000000.0, 'minimumGPUClockRate': 2190000000.0}</td>\n",
       "    </tr>\n",
       "    <tr>\n",
       "      <th>150</th>\n",
       "      <td>152</td>\n",
       "      <td>Matrix Multiply</td>\n",
       "      <td>{'core': 0, 'gpu': 0, 'iterations': 15, 'matrixAHeight': 1536, 'matrixAWidth': 1536, 'matrixBHeight': 1536, 'matrixBWidth': 1536, 'maximumCPUClockRate': 12000000000.0, 'maximumGPUClockRate': 2190000000.0, 'minimumCPUClockRate': 12000000000.0, 'minimumGPUClockRate': 2190000000.0}</td>\n",
       "    </tr>\n",
       "    <tr>\n",
       "      <th>151</th>\n",
       "      <td>153</td>\n",
       "      <td>Matrix Multiply</td>\n",
       "      <td>{'core': 0, 'gpu': 0, 'iterations': 15, 'matrixAHeight': 1536, 'matrixAWidth': 1536, 'matrixBHeight': 1536, 'matrixBWidth': 1536, 'maximumCPUClockRate': 12000000000.0, 'maximumGPUClockRate': 2190000000.0, 'minimumCPUClockRate': 12000000000.0, 'minimumGPUClockRate': 2190000000.0}</td>\n",
       "    </tr>\n",
       "    <tr>\n",
       "      <th>152</th>\n",
       "      <td>154</td>\n",
       "      <td>Matrix Multiply</td>\n",
       "      <td>{'core': 0, 'gpu': 0, 'iterations': 15, 'matrixAHeight': 1536, 'matrixAWidth': 1536, 'matrixBHeight': 1536, 'matrixBWidth': 1536, 'maximumCPUClockRate': 12000000000.0, 'maximumGPUClockRate': 2190000000.0, 'minimumCPUClockRate': 12000000000.0, 'minimumGPUClockRate': 2190000000.0}</td>\n",
       "    </tr>\n",
       "    <tr>\n",
       "      <th>153</th>\n",
       "      <td>155</td>\n",
       "      <td>KMeans</td>\n",
       "      <td>{'core': 0, 'file': '/home/qub1/rodinia_3.1/data/kmeans/kdd_cup', 'gpu': 0, 'iterations': 75, 'maximumCPUClockRate': 12000000000.0, 'maximumGPUClockRate': 2190000000.0, 'minimumCPUClockRate': 12000000000.0, 'minimumGPUClockRate': 2190000000.0}</td>\n",
       "    </tr>\n",
       "    <tr>\n",
       "      <th>154</th>\n",
       "      <td>156</td>\n",
       "      <td>KMeans</td>\n",
       "      <td>{'core': 0, 'file': '/home/qub1/rodinia_3.1/data/kmeans/kdd_cup', 'gpu': 0, 'iterations': 75, 'maximumCPUClockRate': 12000000000.0, 'maximumGPUClockRate': 2190000000.0, 'minimumCPUClockRate': 12000000000.0, 'minimumGPUClockRate': 2190000000.0}</td>\n",
       "    </tr>\n",
       "    <tr>\n",
       "      <th>155</th>\n",
       "      <td>157</td>\n",
       "      <td>KMeans</td>\n",
       "      <td>{'core': 0, 'file': '/home/qub1/rodinia_3.1/data/kmeans/kdd_cup', 'gpu': 0, 'iterations': 75, 'maximumCPUClockRate': 12000000000.0, 'maximumGPUClockRate': 2190000000.0, 'minimumCPUClockRate': 12000000000.0, 'minimumGPUClockRate': 2190000000.0}</td>\n",
       "    </tr>\n",
       "    <tr>\n",
       "      <th>156</th>\n",
       "      <td>158</td>\n",
       "      <td>KMeans</td>\n",
       "      <td>{'core': 0, 'file': '/home/qub1/rodinia_3.1/data/kmeans/kdd_cup', 'gpu': 0, 'iterations': 75, 'maximumCPUClockRate': 12000000000.0, 'maximumGPUClockRate': 2190000000.0, 'minimumCPUClockRate': 12000000000.0, 'minimumGPUClockRate': 2190000000.0}</td>\n",
       "    </tr>\n",
       "    <tr>\n",
       "      <th>157</th>\n",
       "      <td>159</td>\n",
       "      <td>Matrix Multiply</td>\n",
       "      <td>{'core': 0, 'gpu': 0, 'iterations': 15, 'matrixAHeight': 1536, 'matrixAWidth': 1536, 'matrixBHeight': 1536, 'matrixBWidth': 1536, 'maximumCPUClockRate': 12000000000.0, 'maximumGPUClockRate': 2190000000.0, 'minimumCPUClockRate': 12000000000.0, 'minimumGPUClockRate': 2190000000.0}</td>\n",
       "    </tr>\n",
       "    <tr>\n",
       "      <th>158</th>\n",
       "      <td>160</td>\n",
       "      <td>KMeans</td>\n",
       "      <td>{'core': 0, 'file': '/home/qub1/rodinia_3.1/data/kmeans/kdd_cup', 'gpu': 0, 'iterations': 75, 'maximumCPUClockRate': 12000000000.0, 'maximumGPUClockRate': 2190000000.0, 'minimumCPUClockRate': 12000000000.0, 'minimumGPUClockRate': 2190000000.0}</td>\n",
       "    </tr>\n",
       "    <tr>\n",
       "      <th>159</th>\n",
       "      <td>161</td>\n",
       "      <td>Matrix Multiply (EnergyMonitor)</td>\n",
       "      <td>{'core': 0, 'gpu': 0, 'iterations': 15, 'matrixAHeight': 1536, 'matrixAWidth': 1536, 'matrixBHeight': 1536, 'matrixBWidth': 1536}</td>\n",
       "    </tr>\n",
       "    <tr>\n",
       "      <th>160</th>\n",
       "      <td>162</td>\n",
       "      <td>KMeans (EnergyMonitor)</td>\n",
       "      <td>{'core': 0, 'file': '/home/qub1/rodinia_3.1/data/kmeans/kdd_cup', 'gpu': 0, 'iterations': 75}</td>\n",
       "    </tr>\n",
       "  </tbody>\n",
       "</table>\n",
       "</div>"
      ],
      "text/plain": [
       "      ID                            Label  \\\n",
       "0      1                  Matrix Multiply   \n",
       "1      2                  Matrix Multiply   \n",
       "2      3                  Matrix Multiply   \n",
       "3      4                  Matrix Multiply   \n",
       "4      5                  Matrix Multiply   \n",
       "5      6                  Matrix Multiply   \n",
       "6      7                  Matrix Multiply   \n",
       "7      8                  Matrix Multiply   \n",
       "8      9                  Matrix Multiply   \n",
       "9     10                  Matrix Multiply   \n",
       "10    11                  Matrix Multiply   \n",
       "11    12                  Matrix Multiply   \n",
       "12    13                  Matrix Multiply   \n",
       "13    14                  Matrix Multiply   \n",
       "14    15                  Matrix Multiply   \n",
       "15    16                  Matrix Multiply   \n",
       "16    17                  Matrix Multiply   \n",
       "17    18                  Matrix Multiply   \n",
       "18    19                  Matrix Multiply   \n",
       "19    21                  Matrix Multiply   \n",
       "20    22                  Matrix Multiply   \n",
       "21    23                  Matrix Multiply   \n",
       "22    24                  Matrix Multiply   \n",
       "23    25                  Matrix Multiply   \n",
       "24    26                  Matrix Multiply   \n",
       "25    27                  Matrix Multiply   \n",
       "26    28                  Matrix Multiply   \n",
       "27    29                  Matrix Multiply   \n",
       "28    30                  Matrix Multiply   \n",
       "29    31                  Matrix Multiply   \n",
       "30    32                  Matrix Multiply   \n",
       "31    33                  Matrix Multiply   \n",
       "32    34                  Matrix Multiply   \n",
       "33    35                  Matrix Multiply   \n",
       "34    36                  Matrix Multiply   \n",
       "35    37                  Matrix Multiply   \n",
       "36    38                  Matrix Multiply   \n",
       "37    39                  Matrix Multiply   \n",
       "38    40                  Matrix Multiply   \n",
       "39    41                  Matrix Multiply   \n",
       "40    42                  Matrix Multiply   \n",
       "41    43                  Matrix Multiply   \n",
       "42    44                  Matrix Multiply   \n",
       "43    45                  Matrix Multiply   \n",
       "44    46                  Matrix Multiply   \n",
       "45    47                  Matrix Multiply   \n",
       "46    48                  Matrix Multiply   \n",
       "47    49                  Matrix Multiply   \n",
       "48    50                  Matrix Multiply   \n",
       "49    51                           KMeans   \n",
       "50    52                           KMeans   \n",
       "51    53                           KMeans   \n",
       "52    54                           KMeans   \n",
       "53    55                           KMeans   \n",
       "54    56                           KMeans   \n",
       "55    57                           KMeans   \n",
       "56    58                           KMeans   \n",
       "57    59                           KMeans   \n",
       "58    60                           KMeans   \n",
       "59    61                           KMeans   \n",
       "60    62                           KMeans   \n",
       "61    63                           KMeans   \n",
       "62    64                           KMeans   \n",
       "63    65                           KMeans   \n",
       "64    66                           KMeans   \n",
       "65    67                           KMeans   \n",
       "66    68                           KMeans   \n",
       "67    69                           KMeans   \n",
       "68    70                           KMeans   \n",
       "69    71                           KMeans   \n",
       "70    72                           KMeans   \n",
       "71    73                           KMeans   \n",
       "72    74                           KMeans   \n",
       "73    75                           KMeans   \n",
       "74    76                           KMeans   \n",
       "75    77                           KMeans   \n",
       "76    78                           KMeans   \n",
       "77    79                           KMeans   \n",
       "78    80                           KMeans   \n",
       "79    81                           KMeans   \n",
       "80    82                           KMeans   \n",
       "81    83                           KMeans   \n",
       "82    84                           KMeans   \n",
       "83    85                           KMeans   \n",
       "84    86                           KMeans   \n",
       "85    87                           KMeans   \n",
       "86    88                           KMeans   \n",
       "87    89                           KMeans   \n",
       "88    90                           KMeans   \n",
       "89    91                           KMeans   \n",
       "90    92                           KMeans   \n",
       "91    93                           KMeans   \n",
       "92    94                           KMeans   \n",
       "93    95                           KMeans   \n",
       "94    96                           KMeans   \n",
       "95    97                           KMeans   \n",
       "96    98                           KMeans   \n",
       "97    99                           KMeans   \n",
       "98   100                           KMeans   \n",
       "99   101                  Matrix Multiply   \n",
       "100  102                  Matrix Multiply   \n",
       "101  103                  Matrix Multiply   \n",
       "102  104                  Matrix Multiply   \n",
       "103  105                  Matrix Multiply   \n",
       "104  106                  Matrix Multiply   \n",
       "105  107                  Matrix Multiply   \n",
       "106  108                  Matrix Multiply   \n",
       "107  109                  Matrix Multiply   \n",
       "108  110                  Matrix Multiply   \n",
       "109  111                           KMeans   \n",
       "110  112                           KMeans   \n",
       "111  113                           KMeans   \n",
       "112  114                           KMeans   \n",
       "113  115                           KMeans   \n",
       "114  116                           KMeans   \n",
       "115  117                           KMeans   \n",
       "116  118                           KMeans   \n",
       "117  119                           KMeans   \n",
       "118  120                           KMeans   \n",
       "119  121                  Matrix Multiply   \n",
       "120  122                           KMeans   \n",
       "121  123  Matrix Multiply (EnergyMonitor)   \n",
       "122  124  Matrix Multiply (EnergyMonitor)   \n",
       "123  125  Matrix Multiply (EnergyMonitor)   \n",
       "124  126  Matrix Multiply (EnergyMonitor)   \n",
       "125  127  Matrix Multiply (EnergyMonitor)   \n",
       "126  128  Matrix Multiply (EnergyMonitor)   \n",
       "127  129  Matrix Multiply (EnergyMonitor)   \n",
       "128  130  Matrix Multiply (EnergyMonitor)   \n",
       "129  131  Matrix Multiply (EnergyMonitor)   \n",
       "130  132  Matrix Multiply (EnergyMonitor)   \n",
       "131  133           KMeans (EnergyMonitor)   \n",
       "132  134           KMeans (EnergyMonitor)   \n",
       "133  135           KMeans (EnergyMonitor)   \n",
       "134  136           KMeans (EnergyMonitor)   \n",
       "135  137           KMeans (EnergyMonitor)   \n",
       "136  138           KMeans (EnergyMonitor)   \n",
       "137  139           KMeans (EnergyMonitor)   \n",
       "138  140           KMeans (EnergyMonitor)   \n",
       "139  141           KMeans (EnergyMonitor)   \n",
       "140  142           KMeans (EnergyMonitor)   \n",
       "141  143  Matrix Multiply (EnergyMonitor)   \n",
       "142  144  Matrix Multiply (EnergyMonitor)   \n",
       "143  145  Matrix Multiply (EnergyMonitor)   \n",
       "144  146  Matrix Multiply (EnergyMonitor)   \n",
       "145  147           KMeans (EnergyMonitor)   \n",
       "146  148           KMeans (EnergyMonitor)   \n",
       "147  149           KMeans (EnergyMonitor)   \n",
       "148  150           KMeans (EnergyMonitor)   \n",
       "149  151                  Matrix Multiply   \n",
       "150  152                  Matrix Multiply   \n",
       "151  153                  Matrix Multiply   \n",
       "152  154                  Matrix Multiply   \n",
       "153  155                           KMeans   \n",
       "154  156                           KMeans   \n",
       "155  157                           KMeans   \n",
       "156  158                           KMeans   \n",
       "157  159                  Matrix Multiply   \n",
       "158  160                           KMeans   \n",
       "159  161  Matrix Multiply (EnergyMonitor)   \n",
       "160  162           KMeans (EnergyMonitor)   \n",
       "\n",
       "                                                                                                                                                                                                                                                                                     Profile  \n",
       "0                                                                                                                                                           {'core': 0, 'gpu': 0, 'iterations': 3, 'matrixAHeight': 1536, 'matrixAWidth': 1536, 'matrixBHeight': 1536, 'matrixBWidth': 1536}  \n",
       "1                                                                                                                                                           {'core': 0, 'gpu': 0, 'iterations': 3, 'matrixAHeight': 1536, 'matrixAWidth': 1536, 'matrixBHeight': 1536, 'matrixBWidth': 1536}  \n",
       "2                                                                                                                                                           {'core': 0, 'gpu': 0, 'iterations': 3, 'matrixAHeight': 1536, 'matrixAWidth': 1536, 'matrixBHeight': 1536, 'matrixBWidth': 1536}  \n",
       "3                                                                                                                                                           {'core': 0, 'gpu': 0, 'iterations': 3, 'matrixAHeight': 1536, 'matrixAWidth': 1536, 'matrixBHeight': 1536, 'matrixBWidth': 1536}  \n",
       "4                                                                                                                                                           {'core': 0, 'gpu': 0, 'iterations': 3, 'matrixAHeight': 1536, 'matrixAWidth': 1536, 'matrixBHeight': 1536, 'matrixBWidth': 1536}  \n",
       "5                                                                                                                                                           {'core': 0, 'gpu': 0, 'iterations': 3, 'matrixAHeight': 1536, 'matrixAWidth': 1536, 'matrixBHeight': 1536, 'matrixBWidth': 1536}  \n",
       "6                                                                                                                                                           {'core': 0, 'gpu': 0, 'iterations': 3, 'matrixAHeight': 1536, 'matrixAWidth': 1536, 'matrixBHeight': 1536, 'matrixBWidth': 1536}  \n",
       "7                                                                                                                                                           {'core': 0, 'gpu': 0, 'iterations': 3, 'matrixAHeight': 1536, 'matrixAWidth': 1536, 'matrixBHeight': 1536, 'matrixBWidth': 1536}  \n",
       "8                                                                                                                                                           {'core': 0, 'gpu': 0, 'iterations': 3, 'matrixAHeight': 1536, 'matrixAWidth': 1536, 'matrixBHeight': 1536, 'matrixBWidth': 1536}  \n",
       "9                                                                                                                                                           {'core': 0, 'gpu': 0, 'iterations': 3, 'matrixAHeight': 1536, 'matrixAWidth': 1536, 'matrixBHeight': 1536, 'matrixBWidth': 1536}  \n",
       "10                                                                                                                                                          {'core': 0, 'gpu': 0, 'iterations': 3, 'matrixAHeight': 1536, 'matrixAWidth': 1536, 'matrixBHeight': 1536, 'matrixBWidth': 1536}  \n",
       "11                                                                                                                                                          {'core': 0, 'gpu': 0, 'iterations': 3, 'matrixAHeight': 1536, 'matrixAWidth': 1536, 'matrixBHeight': 1536, 'matrixBWidth': 1536}  \n",
       "12                                                                                                                                                          {'core': 0, 'gpu': 0, 'iterations': 3, 'matrixAHeight': 1536, 'matrixAWidth': 1536, 'matrixBHeight': 1536, 'matrixBWidth': 1536}  \n",
       "13                                                                                                                                                          {'core': 0, 'gpu': 0, 'iterations': 3, 'matrixAHeight': 1536, 'matrixAWidth': 1536, 'matrixBHeight': 1536, 'matrixBWidth': 1536}  \n",
       "14                                                                                                                                                          {'core': 0, 'gpu': 0, 'iterations': 3, 'matrixAHeight': 1536, 'matrixAWidth': 1536, 'matrixBHeight': 1536, 'matrixBWidth': 1536}  \n",
       "15                                                                                                                                                          {'core': 0, 'gpu': 0, 'iterations': 3, 'matrixAHeight': 1536, 'matrixAWidth': 1536, 'matrixBHeight': 1536, 'matrixBWidth': 1536}  \n",
       "16                                                                                                                                                          {'core': 0, 'gpu': 0, 'iterations': 3, 'matrixAHeight': 1536, 'matrixAWidth': 1536, 'matrixBHeight': 1536, 'matrixBWidth': 1536}  \n",
       "17                                                                                                                                                          {'core': 0, 'gpu': 0, 'iterations': 3, 'matrixAHeight': 1536, 'matrixAWidth': 1536, 'matrixBHeight': 1536, 'matrixBWidth': 1536}  \n",
       "18                                                                                                                                                          {'core': 0, 'gpu': 0, 'iterations': 3, 'matrixAHeight': 1536, 'matrixAWidth': 1536, 'matrixBHeight': 1536, 'matrixBWidth': 1536}  \n",
       "19                                                                                                                                                          {'core': 0, 'gpu': 0, 'iterations': 3, 'matrixAHeight': 1536, 'matrixAWidth': 1536, 'matrixBHeight': 1536, 'matrixBWidth': 1536}  \n",
       "20                                                                                                                                                          {'core': 0, 'gpu': 0, 'iterations': 3, 'matrixAHeight': 1536, 'matrixAWidth': 1536, 'matrixBHeight': 1536, 'matrixBWidth': 1536}  \n",
       "21                                                                                                                                                          {'core': 0, 'gpu': 0, 'iterations': 3, 'matrixAHeight': 1536, 'matrixAWidth': 1536, 'matrixBHeight': 1536, 'matrixBWidth': 1536}  \n",
       "22                                                                                                                                                          {'core': 0, 'gpu': 0, 'iterations': 3, 'matrixAHeight': 1536, 'matrixAWidth': 1536, 'matrixBHeight': 1536, 'matrixBWidth': 1536}  \n",
       "23                                                                                                                                                          {'core': 0, 'gpu': 0, 'iterations': 3, 'matrixAHeight': 1536, 'matrixAWidth': 1536, 'matrixBHeight': 1536, 'matrixBWidth': 1536}  \n",
       "24                                                                                                                                                          {'core': 0, 'gpu': 0, 'iterations': 3, 'matrixAHeight': 1536, 'matrixAWidth': 1536, 'matrixBHeight': 1536, 'matrixBWidth': 1536}  \n",
       "25                                                                                                                                                          {'core': 0, 'gpu': 0, 'iterations': 3, 'matrixAHeight': 1536, 'matrixAWidth': 1536, 'matrixBHeight': 1536, 'matrixBWidth': 1536}  \n",
       "26                                                                                                                                                          {'core': 0, 'gpu': 0, 'iterations': 3, 'matrixAHeight': 1536, 'matrixAWidth': 1536, 'matrixBHeight': 1536, 'matrixBWidth': 1536}  \n",
       "27                                                                                                                                                          {'core': 0, 'gpu': 0, 'iterations': 3, 'matrixAHeight': 1536, 'matrixAWidth': 1536, 'matrixBHeight': 1536, 'matrixBWidth': 1536}  \n",
       "28                                                                                                                                                          {'core': 0, 'gpu': 0, 'iterations': 3, 'matrixAHeight': 1536, 'matrixAWidth': 1536, 'matrixBHeight': 1536, 'matrixBWidth': 1536}  \n",
       "29                                                                                                                                                          {'core': 0, 'gpu': 0, 'iterations': 3, 'matrixAHeight': 1536, 'matrixAWidth': 1536, 'matrixBHeight': 1536, 'matrixBWidth': 1536}  \n",
       "30                                                                                                                                                          {'core': 0, 'gpu': 0, 'iterations': 3, 'matrixAHeight': 1536, 'matrixAWidth': 1536, 'matrixBHeight': 1536, 'matrixBWidth': 1536}  \n",
       "31                                                                                                                                                          {'core': 0, 'gpu': 0, 'iterations': 3, 'matrixAHeight': 1536, 'matrixAWidth': 1536, 'matrixBHeight': 1536, 'matrixBWidth': 1536}  \n",
       "32                                                                                                                                                          {'core': 0, 'gpu': 0, 'iterations': 3, 'matrixAHeight': 1536, 'matrixAWidth': 1536, 'matrixBHeight': 1536, 'matrixBWidth': 1536}  \n",
       "33                                                                                                                                                          {'core': 0, 'gpu': 0, 'iterations': 3, 'matrixAHeight': 1536, 'matrixAWidth': 1536, 'matrixBHeight': 1536, 'matrixBWidth': 1536}  \n",
       "34                                                                                                                                                          {'core': 0, 'gpu': 0, 'iterations': 3, 'matrixAHeight': 1536, 'matrixAWidth': 1536, 'matrixBHeight': 1536, 'matrixBWidth': 1536}  \n",
       "35                                                                                                                                                          {'core': 0, 'gpu': 0, 'iterations': 3, 'matrixAHeight': 1536, 'matrixAWidth': 1536, 'matrixBHeight': 1536, 'matrixBWidth': 1536}  \n",
       "36                                                                                                                                                          {'core': 0, 'gpu': 0, 'iterations': 3, 'matrixAHeight': 1536, 'matrixAWidth': 1536, 'matrixBHeight': 1536, 'matrixBWidth': 1536}  \n",
       "37                                                                                                                                                          {'core': 0, 'gpu': 0, 'iterations': 3, 'matrixAHeight': 1536, 'matrixAWidth': 1536, 'matrixBHeight': 1536, 'matrixBWidth': 1536}  \n",
       "38                                                                                                                                                          {'core': 0, 'gpu': 0, 'iterations': 3, 'matrixAHeight': 1536, 'matrixAWidth': 1536, 'matrixBHeight': 1536, 'matrixBWidth': 1536}  \n",
       "39                                                                                                                                                          {'core': 0, 'gpu': 0, 'iterations': 3, 'matrixAHeight': 1536, 'matrixAWidth': 1536, 'matrixBHeight': 1536, 'matrixBWidth': 1536}  \n",
       "40                                                                                                                                                          {'core': 0, 'gpu': 0, 'iterations': 3, 'matrixAHeight': 1536, 'matrixAWidth': 1536, 'matrixBHeight': 1536, 'matrixBWidth': 1536}  \n",
       "41                                                                                                                                                          {'core': 0, 'gpu': 0, 'iterations': 3, 'matrixAHeight': 1536, 'matrixAWidth': 1536, 'matrixBHeight': 1536, 'matrixBWidth': 1536}  \n",
       "42                                                                                                                                                          {'core': 0, 'gpu': 0, 'iterations': 3, 'matrixAHeight': 1536, 'matrixAWidth': 1536, 'matrixBHeight': 1536, 'matrixBWidth': 1536}  \n",
       "43                                                                                                                                                          {'core': 0, 'gpu': 0, 'iterations': 3, 'matrixAHeight': 1536, 'matrixAWidth': 1536, 'matrixBHeight': 1536, 'matrixBWidth': 1536}  \n",
       "44                                                                                                                                                          {'core': 0, 'gpu': 0, 'iterations': 3, 'matrixAHeight': 1536, 'matrixAWidth': 1536, 'matrixBHeight': 1536, 'matrixBWidth': 1536}  \n",
       "45                                                                                                                                                          {'core': 0, 'gpu': 0, 'iterations': 3, 'matrixAHeight': 1536, 'matrixAWidth': 1536, 'matrixBHeight': 1536, 'matrixBWidth': 1536}  \n",
       "46                                                                                                                                                          {'core': 0, 'gpu': 0, 'iterations': 3, 'matrixAHeight': 1536, 'matrixAWidth': 1536, 'matrixBHeight': 1536, 'matrixBWidth': 1536}  \n",
       "47                                                                                                                                                          {'core': 0, 'gpu': 0, 'iterations': 3, 'matrixAHeight': 1536, 'matrixAWidth': 1536, 'matrixBHeight': 1536, 'matrixBWidth': 1536}  \n",
       "48                                                                                                                                                          {'core': 0, 'gpu': 0, 'iterations': 3, 'matrixAHeight': 1536, 'matrixAWidth': 1536, 'matrixBHeight': 1536, 'matrixBWidth': 1536}  \n",
       "49                                                                                                                                                                                             {'core': 0, 'file': '/home/qub1/rodinia_3.1/data/kmeans/kdd_cup', 'gpu': 0, 'iterations': 15}  \n",
       "50                                                                                                                                                                                             {'core': 0, 'file': '/home/qub1/rodinia_3.1/data/kmeans/kdd_cup', 'gpu': 0, 'iterations': 15}  \n",
       "51                                                                                                                                                                                             {'core': 0, 'file': '/home/qub1/rodinia_3.1/data/kmeans/kdd_cup', 'gpu': 0, 'iterations': 15}  \n",
       "52                                                                                                                                                                                             {'core': 0, 'file': '/home/qub1/rodinia_3.1/data/kmeans/kdd_cup', 'gpu': 0, 'iterations': 15}  \n",
       "53                                                                                                                                                                                             {'core': 0, 'file': '/home/qub1/rodinia_3.1/data/kmeans/kdd_cup', 'gpu': 0, 'iterations': 15}  \n",
       "54                                                                                                                                                                                             {'core': 0, 'file': '/home/qub1/rodinia_3.1/data/kmeans/kdd_cup', 'gpu': 0, 'iterations': 15}  \n",
       "55                                                                                                                                                                                             {'core': 0, 'file': '/home/qub1/rodinia_3.1/data/kmeans/kdd_cup', 'gpu': 0, 'iterations': 15}  \n",
       "56                                                                                                                                                                                             {'core': 0, 'file': '/home/qub1/rodinia_3.1/data/kmeans/kdd_cup', 'gpu': 0, 'iterations': 15}  \n",
       "57                                                                                                                                                                                             {'core': 0, 'file': '/home/qub1/rodinia_3.1/data/kmeans/kdd_cup', 'gpu': 0, 'iterations': 15}  \n",
       "58                                                                                                                                                                                             {'core': 0, 'file': '/home/qub1/rodinia_3.1/data/kmeans/kdd_cup', 'gpu': 0, 'iterations': 15}  \n",
       "59                                                                                                                                                                                             {'core': 0, 'file': '/home/qub1/rodinia_3.1/data/kmeans/kdd_cup', 'gpu': 0, 'iterations': 15}  \n",
       "60                                                                                                                                                                                             {'core': 0, 'file': '/home/qub1/rodinia_3.1/data/kmeans/kdd_cup', 'gpu': 0, 'iterations': 15}  \n",
       "61                                                                                                                                                                                             {'core': 0, 'file': '/home/qub1/rodinia_3.1/data/kmeans/kdd_cup', 'gpu': 0, 'iterations': 15}  \n",
       "62                                                                                                                                                                                             {'core': 0, 'file': '/home/qub1/rodinia_3.1/data/kmeans/kdd_cup', 'gpu': 0, 'iterations': 15}  \n",
       "63                                                                                                                                                                                             {'core': 0, 'file': '/home/qub1/rodinia_3.1/data/kmeans/kdd_cup', 'gpu': 0, 'iterations': 15}  \n",
       "64                                                                                                                                                                                             {'core': 0, 'file': '/home/qub1/rodinia_3.1/data/kmeans/kdd_cup', 'gpu': 0, 'iterations': 15}  \n",
       "65                                                                                                                                                                                             {'core': 0, 'file': '/home/qub1/rodinia_3.1/data/kmeans/kdd_cup', 'gpu': 0, 'iterations': 15}  \n",
       "66                                                                                                                                                                                             {'core': 0, 'file': '/home/qub1/rodinia_3.1/data/kmeans/kdd_cup', 'gpu': 0, 'iterations': 15}  \n",
       "67                                                                                                                                                                                             {'core': 0, 'file': '/home/qub1/rodinia_3.1/data/kmeans/kdd_cup', 'gpu': 0, 'iterations': 15}  \n",
       "68                                                                                                                                                                                             {'core': 0, 'file': '/home/qub1/rodinia_3.1/data/kmeans/kdd_cup', 'gpu': 0, 'iterations': 15}  \n",
       "69                                                                                                                                                                                             {'core': 0, 'file': '/home/qub1/rodinia_3.1/data/kmeans/kdd_cup', 'gpu': 0, 'iterations': 15}  \n",
       "70                                                                                                                                                                                             {'core': 0, 'file': '/home/qub1/rodinia_3.1/data/kmeans/kdd_cup', 'gpu': 0, 'iterations': 15}  \n",
       "71                                                                                                                                                                                             {'core': 0, 'file': '/home/qub1/rodinia_3.1/data/kmeans/kdd_cup', 'gpu': 0, 'iterations': 15}  \n",
       "72                                                                                                                                                                                             {'core': 0, 'file': '/home/qub1/rodinia_3.1/data/kmeans/kdd_cup', 'gpu': 0, 'iterations': 15}  \n",
       "73                                                                                                                                                                                             {'core': 0, 'file': '/home/qub1/rodinia_3.1/data/kmeans/kdd_cup', 'gpu': 0, 'iterations': 15}  \n",
       "74                                                                                                                                                                                             {'core': 0, 'file': '/home/qub1/rodinia_3.1/data/kmeans/kdd_cup', 'gpu': 0, 'iterations': 15}  \n",
       "75                                                                                                                                                                                             {'core': 0, 'file': '/home/qub1/rodinia_3.1/data/kmeans/kdd_cup', 'gpu': 0, 'iterations': 15}  \n",
       "76                                                                                                                                                                                             {'core': 0, 'file': '/home/qub1/rodinia_3.1/data/kmeans/kdd_cup', 'gpu': 0, 'iterations': 15}  \n",
       "77                                                                                                                                                                                             {'core': 0, 'file': '/home/qub1/rodinia_3.1/data/kmeans/kdd_cup', 'gpu': 0, 'iterations': 15}  \n",
       "78                                                                                                                                                                                             {'core': 0, 'file': '/home/qub1/rodinia_3.1/data/kmeans/kdd_cup', 'gpu': 0, 'iterations': 15}  \n",
       "79                                                                                                                                                                                             {'core': 0, 'file': '/home/qub1/rodinia_3.1/data/kmeans/kdd_cup', 'gpu': 0, 'iterations': 15}  \n",
       "80                                                                                                                                                                                             {'core': 0, 'file': '/home/qub1/rodinia_3.1/data/kmeans/kdd_cup', 'gpu': 0, 'iterations': 15}  \n",
       "81                                                                                                                                                                                             {'core': 0, 'file': '/home/qub1/rodinia_3.1/data/kmeans/kdd_cup', 'gpu': 0, 'iterations': 15}  \n",
       "82                                                                                                                                                                                             {'core': 0, 'file': '/home/qub1/rodinia_3.1/data/kmeans/kdd_cup', 'gpu': 0, 'iterations': 15}  \n",
       "83                                                                                                                                                                                             {'core': 0, 'file': '/home/qub1/rodinia_3.1/data/kmeans/kdd_cup', 'gpu': 0, 'iterations': 15}  \n",
       "84                                                                                                                                                                                             {'core': 0, 'file': '/home/qub1/rodinia_3.1/data/kmeans/kdd_cup', 'gpu': 0, 'iterations': 15}  \n",
       "85                                                                                                                                                                                             {'core': 0, 'file': '/home/qub1/rodinia_3.1/data/kmeans/kdd_cup', 'gpu': 0, 'iterations': 15}  \n",
       "86                                                                                                                                                                                             {'core': 0, 'file': '/home/qub1/rodinia_3.1/data/kmeans/kdd_cup', 'gpu': 0, 'iterations': 15}  \n",
       "87                                                                                                                                                                                             {'core': 0, 'file': '/home/qub1/rodinia_3.1/data/kmeans/kdd_cup', 'gpu': 0, 'iterations': 15}  \n",
       "88                                                                                                                                                                                             {'core': 0, 'file': '/home/qub1/rodinia_3.1/data/kmeans/kdd_cup', 'gpu': 0, 'iterations': 15}  \n",
       "89                                                                                                                                                                                             {'core': 0, 'file': '/home/qub1/rodinia_3.1/data/kmeans/kdd_cup', 'gpu': 0, 'iterations': 15}  \n",
       "90                                                                                                                                                                                             {'core': 0, 'file': '/home/qub1/rodinia_3.1/data/kmeans/kdd_cup', 'gpu': 0, 'iterations': 15}  \n",
       "91                                                                                                                                                                                             {'core': 0, 'file': '/home/qub1/rodinia_3.1/data/kmeans/kdd_cup', 'gpu': 0, 'iterations': 15}  \n",
       "92                                                                                                                                                                                             {'core': 0, 'file': '/home/qub1/rodinia_3.1/data/kmeans/kdd_cup', 'gpu': 0, 'iterations': 15}  \n",
       "93                                                                                                                                                                                             {'core': 0, 'file': '/home/qub1/rodinia_3.1/data/kmeans/kdd_cup', 'gpu': 0, 'iterations': 15}  \n",
       "94                                                                                                                                                                                             {'core': 0, 'file': '/home/qub1/rodinia_3.1/data/kmeans/kdd_cup', 'gpu': 0, 'iterations': 15}  \n",
       "95                                                                                                                                                                                             {'core': 0, 'file': '/home/qub1/rodinia_3.1/data/kmeans/kdd_cup', 'gpu': 0, 'iterations': 15}  \n",
       "96                                                                                                                                                                                             {'core': 0, 'file': '/home/qub1/rodinia_3.1/data/kmeans/kdd_cup', 'gpu': 0, 'iterations': 15}  \n",
       "97                                                                                                                                                                                             {'core': 0, 'file': '/home/qub1/rodinia_3.1/data/kmeans/kdd_cup', 'gpu': 0, 'iterations': 15}  \n",
       "98                                                                                                                                                                                             {'core': 0, 'file': '/home/qub1/rodinia_3.1/data/kmeans/kdd_cup', 'gpu': 0, 'iterations': 15}  \n",
       "99                                                                                                                                                         {'core': 0, 'gpu': 0, 'iterations': 15, 'matrixAHeight': 1536, 'matrixAWidth': 1536, 'matrixBHeight': 1536, 'matrixBWidth': 1536}  \n",
       "100                                                                                                                                                        {'core': 0, 'gpu': 0, 'iterations': 15, 'matrixAHeight': 1536, 'matrixAWidth': 1536, 'matrixBHeight': 1536, 'matrixBWidth': 1536}  \n",
       "101                                                                                                                                                        {'core': 0, 'gpu': 0, 'iterations': 15, 'matrixAHeight': 1536, 'matrixAWidth': 1536, 'matrixBHeight': 1536, 'matrixBWidth': 1536}  \n",
       "102                                                                                                                                                        {'core': 0, 'gpu': 0, 'iterations': 15, 'matrixAHeight': 1536, 'matrixAWidth': 1536, 'matrixBHeight': 1536, 'matrixBWidth': 1536}  \n",
       "103                                                                                                                                                        {'core': 0, 'gpu': 0, 'iterations': 15, 'matrixAHeight': 1536, 'matrixAWidth': 1536, 'matrixBHeight': 1536, 'matrixBWidth': 1536}  \n",
       "104                                                                                                                                                        {'core': 0, 'gpu': 0, 'iterations': 15, 'matrixAHeight': 1536, 'matrixAWidth': 1536, 'matrixBHeight': 1536, 'matrixBWidth': 1536}  \n",
       "105                                                                                                                                                        {'core': 0, 'gpu': 0, 'iterations': 15, 'matrixAHeight': 1536, 'matrixAWidth': 1536, 'matrixBHeight': 1536, 'matrixBWidth': 1536}  \n",
       "106                                                                                                                                                        {'core': 0, 'gpu': 0, 'iterations': 15, 'matrixAHeight': 1536, 'matrixAWidth': 1536, 'matrixBHeight': 1536, 'matrixBWidth': 1536}  \n",
       "107                                                                                                                                                        {'core': 0, 'gpu': 0, 'iterations': 15, 'matrixAHeight': 1536, 'matrixAWidth': 1536, 'matrixBHeight': 1536, 'matrixBWidth': 1536}  \n",
       "108                                                                                                                                                        {'core': 0, 'gpu': 0, 'iterations': 15, 'matrixAHeight': 1536, 'matrixAWidth': 1536, 'matrixBHeight': 1536, 'matrixBWidth': 1536}  \n",
       "109                                                                                                                                                                                            {'core': 0, 'file': '/home/qub1/rodinia_3.1/data/kmeans/kdd_cup', 'gpu': 0, 'iterations': 75}  \n",
       "110                                                                                                                                                                                            {'core': 0, 'file': '/home/qub1/rodinia_3.1/data/kmeans/kdd_cup', 'gpu': 0, 'iterations': 75}  \n",
       "111                                                                                                                                                                                            {'core': 0, 'file': '/home/qub1/rodinia_3.1/data/kmeans/kdd_cup', 'gpu': 0, 'iterations': 75}  \n",
       "112                                                                                                                                                                                            {'core': 0, 'file': '/home/qub1/rodinia_3.1/data/kmeans/kdd_cup', 'gpu': 0, 'iterations': 75}  \n",
       "113                                                                                                                                                                                            {'core': 0, 'file': '/home/qub1/rodinia_3.1/data/kmeans/kdd_cup', 'gpu': 0, 'iterations': 75}  \n",
       "114                                                                                                                                                                                            {'core': 0, 'file': '/home/qub1/rodinia_3.1/data/kmeans/kdd_cup', 'gpu': 0, 'iterations': 75}  \n",
       "115                                                                                                                                                                                            {'core': 0, 'file': '/home/qub1/rodinia_3.1/data/kmeans/kdd_cup', 'gpu': 0, 'iterations': 75}  \n",
       "116                                                                                                                                                                                            {'core': 0, 'file': '/home/qub1/rodinia_3.1/data/kmeans/kdd_cup', 'gpu': 0, 'iterations': 75}  \n",
       "117                                                                                                                                                                                            {'core': 0, 'file': '/home/qub1/rodinia_3.1/data/kmeans/kdd_cup', 'gpu': 0, 'iterations': 75}  \n",
       "118                                                                                                                                                                                            {'core': 0, 'file': '/home/qub1/rodinia_3.1/data/kmeans/kdd_cup', 'gpu': 0, 'iterations': 75}  \n",
       "119                                                                                                                                                         {'core': 0, 'gpu': 0, 'iterations': 3, 'matrixAHeight': 1536, 'matrixAWidth': 1536, 'matrixBHeight': 1536, 'matrixBWidth': 1536}  \n",
       "120                                                                                                                                                                                            {'core': 0, 'file': '/home/qub1/rodinia_3.1/data/kmeans/kdd_cup', 'gpu': 0, 'iterations': 15}  \n",
       "121                                                                                                                                                        {'core': 0, 'gpu': 0, 'iterations': 15, 'matrixAHeight': 1536, 'matrixAWidth': 1536, 'matrixBHeight': 1536, 'matrixBWidth': 1536}  \n",
       "122                                                                                                                                                        {'core': 0, 'gpu': 0, 'iterations': 15, 'matrixAHeight': 1536, 'matrixAWidth': 1536, 'matrixBHeight': 1536, 'matrixBWidth': 1536}  \n",
       "123                                                                                                                                                        {'core': 0, 'gpu': 0, 'iterations': 15, 'matrixAHeight': 1536, 'matrixAWidth': 1536, 'matrixBHeight': 1536, 'matrixBWidth': 1536}  \n",
       "124                                                                                                                                                        {'core': 0, 'gpu': 0, 'iterations': 15, 'matrixAHeight': 1536, 'matrixAWidth': 1536, 'matrixBHeight': 1536, 'matrixBWidth': 1536}  \n",
       "125                                                                                                                                                        {'core': 0, 'gpu': 0, 'iterations': 15, 'matrixAHeight': 1536, 'matrixAWidth': 1536, 'matrixBHeight': 1536, 'matrixBWidth': 1536}  \n",
       "126                                                                                                                                                        {'core': 0, 'gpu': 0, 'iterations': 15, 'matrixAHeight': 1536, 'matrixAWidth': 1536, 'matrixBHeight': 1536, 'matrixBWidth': 1536}  \n",
       "127                                                                                                                                                        {'core': 0, 'gpu': 0, 'iterations': 15, 'matrixAHeight': 1536, 'matrixAWidth': 1536, 'matrixBHeight': 1536, 'matrixBWidth': 1536}  \n",
       "128                                                                                                                                                        {'core': 0, 'gpu': 0, 'iterations': 15, 'matrixAHeight': 1536, 'matrixAWidth': 1536, 'matrixBHeight': 1536, 'matrixBWidth': 1536}  \n",
       "129                                                                                                                                                        {'core': 0, 'gpu': 0, 'iterations': 15, 'matrixAHeight': 1536, 'matrixAWidth': 1536, 'matrixBHeight': 1536, 'matrixBWidth': 1536}  \n",
       "130                                                                                                                                                        {'core': 0, 'gpu': 0, 'iterations': 15, 'matrixAHeight': 1536, 'matrixAWidth': 1536, 'matrixBHeight': 1536, 'matrixBWidth': 1536}  \n",
       "131                                                                                                                                                                                            {'core': 0, 'file': '/home/qub1/rodinia_3.1/data/kmeans/kdd_cup', 'gpu': 0, 'iterations': 75}  \n",
       "132                                                                                                                                                                                            {'core': 0, 'file': '/home/qub1/rodinia_3.1/data/kmeans/kdd_cup', 'gpu': 0, 'iterations': 75}  \n",
       "133                                                                                                                                                                                            {'core': 0, 'file': '/home/qub1/rodinia_3.1/data/kmeans/kdd_cup', 'gpu': 0, 'iterations': 75}  \n",
       "134                                                                                                                                                                                            {'core': 0, 'file': '/home/qub1/rodinia_3.1/data/kmeans/kdd_cup', 'gpu': 0, 'iterations': 75}  \n",
       "135                                                                                                                                                                                            {'core': 0, 'file': '/home/qub1/rodinia_3.1/data/kmeans/kdd_cup', 'gpu': 0, 'iterations': 75}  \n",
       "136                                                                                                                                                                                            {'core': 0, 'file': '/home/qub1/rodinia_3.1/data/kmeans/kdd_cup', 'gpu': 0, 'iterations': 75}  \n",
       "137                                                                                                                                                                                            {'core': 0, 'file': '/home/qub1/rodinia_3.1/data/kmeans/kdd_cup', 'gpu': 0, 'iterations': 75}  \n",
       "138                                                                                                                                                                                            {'core': 0, 'file': '/home/qub1/rodinia_3.1/data/kmeans/kdd_cup', 'gpu': 0, 'iterations': 75}  \n",
       "139                                                                                                                                                                                            {'core': 0, 'file': '/home/qub1/rodinia_3.1/data/kmeans/kdd_cup', 'gpu': 0, 'iterations': 75}  \n",
       "140                                                                                                                                                                                            {'core': 0, 'file': '/home/qub1/rodinia_3.1/data/kmeans/kdd_cup', 'gpu': 0, 'iterations': 75}  \n",
       "141                                                                                                                                                        {'core': 0, 'gpu': 0, 'iterations': 15, 'matrixAHeight': 1536, 'matrixAWidth': 1536, 'matrixBHeight': 1536, 'matrixBWidth': 1536}  \n",
       "142                                                                                                                                                        {'core': 0, 'gpu': 0, 'iterations': 15, 'matrixAHeight': 1536, 'matrixAWidth': 1536, 'matrixBHeight': 1536, 'matrixBWidth': 1536}  \n",
       "143                                                                                                                                                        {'core': 0, 'gpu': 0, 'iterations': 15, 'matrixAHeight': 1536, 'matrixAWidth': 1536, 'matrixBHeight': 1536, 'matrixBWidth': 1536}  \n",
       "144                                                                                                                                                        {'core': 0, 'gpu': 0, 'iterations': 15, 'matrixAHeight': 1536, 'matrixAWidth': 1536, 'matrixBHeight': 1536, 'matrixBWidth': 1536}  \n",
       "145                                                                                                                                                                                            {'core': 0, 'file': '/home/qub1/rodinia_3.1/data/kmeans/kdd_cup', 'gpu': 0, 'iterations': 75}  \n",
       "146                                                                                                                                                                                            {'core': 0, 'file': '/home/qub1/rodinia_3.1/data/kmeans/kdd_cup', 'gpu': 0, 'iterations': 75}  \n",
       "147                                                                                                                                                                                            {'core': 0, 'file': '/home/qub1/rodinia_3.1/data/kmeans/kdd_cup', 'gpu': 0, 'iterations': 75}  \n",
       "148                                                                                                                                                                                            {'core': 0, 'file': '/home/qub1/rodinia_3.1/data/kmeans/kdd_cup', 'gpu': 0, 'iterations': 75}  \n",
       "149  {'core': 0, 'gpu': 0, 'iterations': 15, 'matrixAHeight': 1536, 'matrixAWidth': 1536, 'matrixBHeight': 1536, 'matrixBWidth': 1536, 'maximumCPUClockRate': 12000000000.0, 'maximumGPUClockRate': 2190000000.0, 'minimumCPUClockRate': 12000000000.0, 'minimumGPUClockRate': 2190000000.0}  \n",
       "150  {'core': 0, 'gpu': 0, 'iterations': 15, 'matrixAHeight': 1536, 'matrixAWidth': 1536, 'matrixBHeight': 1536, 'matrixBWidth': 1536, 'maximumCPUClockRate': 12000000000.0, 'maximumGPUClockRate': 2190000000.0, 'minimumCPUClockRate': 12000000000.0, 'minimumGPUClockRate': 2190000000.0}  \n",
       "151  {'core': 0, 'gpu': 0, 'iterations': 15, 'matrixAHeight': 1536, 'matrixAWidth': 1536, 'matrixBHeight': 1536, 'matrixBWidth': 1536, 'maximumCPUClockRate': 12000000000.0, 'maximumGPUClockRate': 2190000000.0, 'minimumCPUClockRate': 12000000000.0, 'minimumGPUClockRate': 2190000000.0}  \n",
       "152  {'core': 0, 'gpu': 0, 'iterations': 15, 'matrixAHeight': 1536, 'matrixAWidth': 1536, 'matrixBHeight': 1536, 'matrixBWidth': 1536, 'maximumCPUClockRate': 12000000000.0, 'maximumGPUClockRate': 2190000000.0, 'minimumCPUClockRate': 12000000000.0, 'minimumGPUClockRate': 2190000000.0}  \n",
       "153                                      {'core': 0, 'file': '/home/qub1/rodinia_3.1/data/kmeans/kdd_cup', 'gpu': 0, 'iterations': 75, 'maximumCPUClockRate': 12000000000.0, 'maximumGPUClockRate': 2190000000.0, 'minimumCPUClockRate': 12000000000.0, 'minimumGPUClockRate': 2190000000.0}  \n",
       "154                                      {'core': 0, 'file': '/home/qub1/rodinia_3.1/data/kmeans/kdd_cup', 'gpu': 0, 'iterations': 75, 'maximumCPUClockRate': 12000000000.0, 'maximumGPUClockRate': 2190000000.0, 'minimumCPUClockRate': 12000000000.0, 'minimumGPUClockRate': 2190000000.0}  \n",
       "155                                      {'core': 0, 'file': '/home/qub1/rodinia_3.1/data/kmeans/kdd_cup', 'gpu': 0, 'iterations': 75, 'maximumCPUClockRate': 12000000000.0, 'maximumGPUClockRate': 2190000000.0, 'minimumCPUClockRate': 12000000000.0, 'minimumGPUClockRate': 2190000000.0}  \n",
       "156                                      {'core': 0, 'file': '/home/qub1/rodinia_3.1/data/kmeans/kdd_cup', 'gpu': 0, 'iterations': 75, 'maximumCPUClockRate': 12000000000.0, 'maximumGPUClockRate': 2190000000.0, 'minimumCPUClockRate': 12000000000.0, 'minimumGPUClockRate': 2190000000.0}  \n",
       "157  {'core': 0, 'gpu': 0, 'iterations': 15, 'matrixAHeight': 1536, 'matrixAWidth': 1536, 'matrixBHeight': 1536, 'matrixBWidth': 1536, 'maximumCPUClockRate': 12000000000.0, 'maximumGPUClockRate': 2190000000.0, 'minimumCPUClockRate': 12000000000.0, 'minimumGPUClockRate': 2190000000.0}  \n",
       "158                                      {'core': 0, 'file': '/home/qub1/rodinia_3.1/data/kmeans/kdd_cup', 'gpu': 0, 'iterations': 75, 'maximumCPUClockRate': 12000000000.0, 'maximumGPUClockRate': 2190000000.0, 'minimumCPUClockRate': 12000000000.0, 'minimumGPUClockRate': 2190000000.0}  \n",
       "159                                                                                                                                                        {'core': 0, 'gpu': 0, 'iterations': 15, 'matrixAHeight': 1536, 'matrixAWidth': 1536, 'matrixBHeight': 1536, 'matrixBWidth': 1536}  \n",
       "160                                                                                                                                                                                            {'core': 0, 'file': '/home/qub1/rodinia_3.1/data/kmeans/kdd_cup', 'gpu': 0, 'iterations': 75}  "
      ]
     },
     "metadata": {},
     "output_type": "display_data"
    }
   ],
   "source": [
    "# Load all profiler sessions\n",
    "complete_data_set = DataSet(ProfilerSession.load_all(database))\n",
    "\n",
    "# Visualize the profiler session data\n",
    "overview_plot = complete_data_set.table_plot\n",
    "overview_plot.maximum_rows = 1000\n",
    "overview_plot.plot()"
   ]
  },
  {
   "cell_type": "markdown",
   "metadata": {},
   "source": [
    "## Visualize a Profiler Session\n",
    "\n",
    "Define the ID of the test you wish to visualize below."
   ]
  },
  {
   "cell_type": "code",
   "execution_count": 4,
   "metadata": {
    "pycharm": {
     "name": "#%%\n"
    }
   },
   "outputs": [],
   "source": [
    "#profiler_session_id = complete_data_set.data[-1].id\n",
    "profiler_session_id = 151\n",
    "data_set = DataSet([profiler_session for profiler_session in complete_data_set.data if profiler_session.id == profiler_session_id])"
   ]
  },
  {
   "cell_type": "markdown",
   "metadata": {},
   "source": [
    "### Summary\n",
    "\n",
    "These are the specifications of the system with which the profiler session was performed."
   ]
  },
  {
   "cell_type": "code",
   "execution_count": 5,
   "metadata": {
    "pycharm": {
     "name": "#%%\n"
    }
   },
   "outputs": [
    {
     "name": "stdout",
     "output_type": "stream",
     "text": [
      "{'GPUs': [{'Brand': 'GeForce',\n",
      "           'Compute Capability Major Version': 7,\n",
      "           'Compute Capability Minor Version': 5,\n",
      "           'Default Auto Boosted Clocks Enabled': None,\n",
      "           'Default Power Limit (W)': '260.0',\n",
      "           'Memory Size (B)': '8.3 GB',\n",
      "           'Name': 'GeForce RTX 2080',\n",
      "           'PCIe Link Width (B)': '16 Bytes',\n",
      "           'Supported Core Clock Rates (Hz)': [''],\n",
      "           'Supported Memory Clock Rates (Hz)': ['']}],\n",
      " 'Label': 'Matrix Multiply'}\n"
     ]
    }
   ],
   "source": [
    "pprint.pprint(data_set.data[0].summary)"
   ]
  },
  {
   "cell_type": "markdown",
   "metadata": {},
   "source": [
    "### Profile\n",
    "\n",
    "This is the profile with which the profiler session was performed."
   ]
  },
  {
   "cell_type": "code",
   "execution_count": 6,
   "metadata": {
    "pycharm": {
     "name": "#%%\n"
    }
   },
   "outputs": [
    {
     "name": "stdout",
     "output_type": "stream",
     "text": [
      "{'core': 0,\n",
      " 'gpu': 0,\n",
      " 'iterations': 15,\n",
      " 'matrixAHeight': 1536,\n",
      " 'matrixAWidth': 1536,\n",
      " 'matrixBHeight': 1536,\n",
      " 'matrixBWidth': 1536,\n",
      " 'maximumCPUClockRate': 12000000000.0,\n",
      " 'maximumGPUClockRate': 2190000000.0,\n",
      " 'minimumCPUClockRate': 12000000000.0,\n",
      " 'minimumGPUClockRate': 2190000000.0}\n"
     ]
    }
   ],
   "source": [
    "pprint.pprint(data_set.data[0].profile)"
   ]
  },
  {
   "cell_type": "markdown",
   "metadata": {},
   "source": [
    "### Overview\n",
    "\n",
    "The graph image below summarizes the graphs above."
   ]
  },
  {
   "cell_type": "code",
   "execution_count": 7,
   "metadata": {
    "pycharm": {
     "name": "#%%\n"
    }
   },
   "outputs": [],
   "source": [
    "# data_set.data[0].overview_multi_plot.plot()"
   ]
  },
  {
   "cell_type": "markdown",
   "metadata": {},
   "source": [
    "### Switches\n",
    "\n",
    "The graphs below shows the status of configuration switches over time."
   ]
  },
  {
   "cell_type": "code",
   "execution_count": 8,
   "metadata": {
    "pycharm": {
     "name": "#%%\n"
    }
   },
   "outputs": [
    {
     "data": {
      "application/vnd.jupyter.widget-view+json": {
       "model_id": "7a283f551cd8476b8465a97dd4f5753c",
       "version_major": 2,
       "version_minor": 0
      },
      "text/plain": [
       "Canvas(toolbar=Toolbar(toolitems=[('Home', 'Reset original view', 'home', 'home'), ('Back', 'Back to previous …"
      ]
     },
     "metadata": {},
     "output_type": "display_data"
    },
    {
     "name": "stderr",
     "output_type": "stream",
     "text": [
      "No handles with labels found to put in legend.\n"
     ]
    }
   ],
   "source": [
    "data_set.data[0].switches_timeseries_plot.plot()"
   ]
  },
  {
   "cell_type": "markdown",
   "metadata": {},
   "source": [
    "### Timespan\n",
    "\n",
    "The graphs below shows the time spent on different types of operations over time."
   ]
  },
  {
   "cell_type": "code",
   "execution_count": 9,
   "metadata": {},
   "outputs": [
    {
     "data": {
      "application/vnd.jupyter.widget-view+json": {
       "model_id": "79501c44d8f1404bba2e99d85f0f7c1f",
       "version_major": 2,
       "version_minor": 0
      },
      "text/plain": [
       "Canvas(toolbar=Toolbar(toolitems=[('Home', 'Reset original view', 'home', 'home'), ('Back', 'Back to previous …"
      ]
     },
     "metadata": {},
     "output_type": "display_data"
    }
   ],
   "source": [
    "timespan_timeseries_plot = data_set.data[0].timespan_timeseries_plot(use_ear=False)\n",
    "timespan_timeseries_plot.plot_series = { key: timespan_timeseries_plot.plot_series[key] for key in timespan_timeseries_plot.plot_series if (key.startswith(\"Runtime\") or key.startswith(\"EAR\") or key.startswith(\"CPU 0 Core 0\"))}\n",
    "timespan_timeseries_plot.plot()"
   ]
  },
  {
   "cell_type": "markdown",
   "metadata": {},
   "source": [
    "### Power Consumption\n",
    "\n",
    "The graphs below shows the power consumption over time."
   ]
  },
  {
   "cell_type": "code",
   "execution_count": 10,
   "metadata": {
    "pycharm": {
     "name": "#%%\n"
    }
   },
   "outputs": [
    {
     "data": {
      "application/vnd.jupyter.widget-view+json": {
       "model_id": "ec17219ada154825b85586d1745a46de",
       "version_major": 2,
       "version_minor": 0
      },
      "text/plain": [
       "Canvas(toolbar=Toolbar(toolitems=[('Home', 'Reset original view', 'home', 'home'), ('Back', 'Back to previous …"
      ]
     },
     "metadata": {},
     "output_type": "display_data"
    }
   ],
   "source": [
    "power_consumption_timeseries_plot = data_set.data[0].power_consumption_timeseries_plot(plot_limits=False, use_ear=False)\n",
    "#power_consumption_timeseries_plot.plot_series = { key: power_consumption_timeseries_plot.plot_series[key] for key in power_consumption_timeseries_plot.plot_series if (key.startswith(\"CPU 1\") or key.startswith(\"EAR\") or key.startswith(\"CPU 0\") and (not key.startswith(\"CPU 0 Core\") or key.startswith(\"CPU 0 Core 0\"))) or key.startswith(\"GPU 0\") or key.startswith(\"Node\")}\n",
    "power_consumption_timeseries_plot.plot_series = { key: power_consumption_timeseries_plot.plot_series[key] for key in power_consumption_timeseries_plot.plot_series if (key.startswith(\"EAR\") or key.startswith(\"CPU 0\") and (not key.startswith(\"CPU 0 Core\") or key.startswith(\"CPU 0 Core 0\"))) or key.startswith(\"GPU 0\") or key.startswith(\"Node\")}\n",
    "power_consumption_timeseries_plot.plot()"
   ]
  },
  {
   "cell_type": "markdown",
   "metadata": {},
   "source": [
    "### Energy Consumption\n",
    "\n",
    "The graphs below shows the total energy consumption over time."
   ]
  },
  {
   "cell_type": "code",
   "execution_count": 11,
   "metadata": {
    "pycharm": {
     "name": "#%%\n"
    }
   },
   "outputs": [
    {
     "data": {
      "application/vnd.jupyter.widget-view+json": {
       "model_id": "e9e8f0f76752440b99fa656ce55ff763",
       "version_major": 2,
       "version_minor": 0
      },
      "text/plain": [
       "Canvas(toolbar=Toolbar(toolitems=[('Home', 'Reset original view', 'home', 'home'), ('Back', 'Back to previous …"
      ]
     },
     "metadata": {},
     "output_type": "display_data"
    },
    {
     "data": {
      "application/vnd.jupyter.widget-view+json": {
       "model_id": "bec55b5c68334668b0da5cc0efa1f6d0",
       "version_major": 2,
       "version_minor": 0
      },
      "text/plain": [
       "Canvas(toolbar=Toolbar(toolitems=[('Home', 'Reset original view', 'home', 'home'), ('Back', 'Back to previous …"
      ]
     },
     "metadata": {},
     "output_type": "display_data"
    }
   ],
   "source": [
    "# Plot in Joules\n",
    "energy_consumption_plot_j = data_set.data[0].energy_consumption_timeseries_plot(use_ear=False)\n",
    "energy_consumption_plot_j.plot_series = { key: energy_consumption_plot_j.plot_series[key] for key in energy_consumption_plot_j.plot_series if (key.startswith(\"EAR\") or key.startswith(\"CPU 0\") and (not key.startswith(\"CPU 0 Core\") or key.startswith(\"CPU 0 Core 0\"))) or key.startswith(\"GPU 0\") or key.startswith(\"Node\")}\n",
    "energy_consumption_plot_j.plot()\n",
    "\n",
    "# Plot in Watt Hours\n",
    "energy_consumption_plot_wh = data_set.data[0].energy_consumption_timeseries_plot(unit_string=\"Wh\", modifier=Plot.j_to_wh, use_ear=False)\n",
    "energy_consumption_plot_wh.plot_series = { key: energy_consumption_plot_wh.plot_series[key] for key in energy_consumption_plot_wh.plot_series if (key.startswith(\"EAR\") or key.startswith(\"CPU 0\") and (not key.startswith(\"CPU 0 Core\") or key.startswith(\"CPU 0 Core 0\"))) or key.startswith(\"GPU 0\") or key.startswith(\"Node\")}\n",
    "energy_consumption_plot_wh.plot()"
   ]
  },
  {
   "cell_type": "markdown",
   "metadata": {},
   "source": [
    "### Clock Rates\n",
    "\n",
    "The graph below shows the clock rate over time."
   ]
  },
  {
   "cell_type": "code",
   "execution_count": 12,
   "metadata": {
    "pycharm": {
     "name": "#%%\n"
    }
   },
   "outputs": [
    {
     "data": {
      "application/vnd.jupyter.widget-view+json": {
       "model_id": "13862aac06d941f287e8dcb2edce63ec",
       "version_major": 2,
       "version_minor": 0
      },
      "text/plain": [
       "Canvas(toolbar=Toolbar(toolitems=[('Home', 'Reset original view', 'home', 'home'), ('Back', 'Back to previous …"
      ]
     },
     "metadata": {},
     "output_type": "display_data"
    }
   ],
   "source": [
    "clock_rate_timeseries_plot = data_set.data[0].clock_rate_timeseries_plot(plot_limits=True, use_ear=False)\n",
    "clock_rate_timeseries_plot.plot_series = { key: clock_rate_timeseries_plot.plot_series[key] for key in clock_rate_timeseries_plot.plot_series if (key.startswith(\"EAR\") or key.startswith(\"CPU 0\") and (not key.startswith(\"CPU 0 Core\") or key.startswith(\"CPU 0 Core 0\"))) or key.startswith(\"GPU 0\")}\n",
    "clock_rate_timeseries_plot.plot()"
   ]
  },
  {
   "cell_type": "markdown",
   "metadata": {},
   "source": [
    "### Instructions Per Cycle\n",
    "\n",
    "The graph below shows the utilization rates over time."
   ]
  },
  {
   "cell_type": "code",
   "execution_count": 13,
   "metadata": {
    "pycharm": {
     "name": "#%%\n"
    }
   },
   "outputs": [
    {
     "data": {
      "application/vnd.jupyter.widget-view+json": {
       "model_id": "3b1ad46122c546088113444ad3a09e35",
       "version_major": 2,
       "version_minor": 0
      },
      "text/plain": [
       "Canvas(toolbar=Toolbar(toolitems=[('Home', 'Reset original view', 'home', 'home'), ('Back', 'Back to previous …"
      ]
     },
     "metadata": {},
     "output_type": "display_data"
    },
    {
     "name": "stderr",
     "output_type": "stream",
     "text": [
      "No handles with labels found to put in legend.\n"
     ]
    }
   ],
   "source": [
    "data_set.data[0].instructions_per_cycle_timeseries_plot.plot()"
   ]
  },
  {
   "cell_type": "markdown",
   "metadata": {},
   "source": [
    "### Utilization Rates\n",
    "\n",
    "The graph below shows the utilization rates over time."
   ]
  },
  {
   "cell_type": "code",
   "execution_count": 14,
   "metadata": {
    "pycharm": {
     "name": "#%%\n"
    }
   },
   "outputs": [
    {
     "data": {
      "application/vnd.jupyter.widget-view+json": {
       "model_id": "630a3a1ca0864b9cbcb6c84b7db736aa",
       "version_major": 2,
       "version_minor": 0
      },
      "text/plain": [
       "Canvas(toolbar=Toolbar(toolitems=[('Home', 'Reset original view', 'home', 'home'), ('Back', 'Back to previous …"
      ]
     },
     "metadata": {},
     "output_type": "display_data"
    }
   ],
   "source": [
    "utilization_rate_timeseries_plot = data_set.data[0].utilization_rate_timeseries_plot\n",
    "utilization_rate_timeseries_plot.plot_series = { key: utilization_rate_timeseries_plot.plot_series[key] for key in utilization_rate_timeseries_plot.plot_series if (key.startswith(\"CPU 0\") and (not key.startswith(\"CPU 0 Core\") or key.startswith(\"CPU 0 Core 0\"))) or key.startswith(\"GPU 0\") or key.startswith(\"Node\")}\n",
    "utilization_rate_timeseries_plot.plot()"
   ]
  },
  {
   "cell_type": "markdown",
   "metadata": {},
   "source": [
    "### Events\n",
    "\n",
    "The graph below shows the events over time."
   ]
  },
  {
   "cell_type": "code",
   "execution_count": 15,
   "metadata": {
    "pycharm": {
     "name": "#%%\n"
    }
   },
   "outputs": [
    {
     "data": {
      "application/vnd.jupyter.widget-view+json": {
       "model_id": "b8f025524549406f8f563053f1572d1a",
       "version_major": 2,
       "version_minor": 0
      },
      "text/plain": [
       "Canvas(toolbar=Toolbar(toolitems=[('Home', 'Reset original view', 'home', 'home'), ('Back', 'Back to previous …"
      ]
     },
     "metadata": {},
     "output_type": "display_data"
    }
   ],
   "source": [
    "for events_plot in data_set.data[0].events_event_plot()[:1]:\n",
    "    events_plot.plot()"
   ]
  },
  {
   "cell_type": "markdown",
   "metadata": {},
   "source": [
    "### States\n",
    "\n",
    "The graph below shows the states of the EnergyMonitor over time."
   ]
  },
  {
   "cell_type": "code",
   "execution_count": 16,
   "metadata": {
    "pycharm": {
     "name": "#%%\n"
    }
   },
   "outputs": [
    {
     "data": {
      "application/vnd.jupyter.widget-view+json": {
       "model_id": "44fbfeeda5b74e46aef905acc6e1aae1",
       "version_major": 2,
       "version_minor": 0
      },
      "text/plain": [
       "Canvas(toolbar=Toolbar(toolitems=[('Home', 'Reset original view', 'home', 'home'), ('Back', 'Back to previous …"
      ]
     },
     "metadata": {},
     "output_type": "display_data"
    }
   ],
   "source": [
    "data_set.data[0].states_event_plot().plot()"
   ]
  },
  {
   "cell_type": "markdown",
   "metadata": {},
   "source": [
    "### Fan Speed\n",
    "\n",
    "The graphs below shows the fan speed over time."
   ]
  },
  {
   "cell_type": "code",
   "execution_count": 17,
   "metadata": {
    "pycharm": {
     "name": "#%%\n"
    }
   },
   "outputs": [
    {
     "data": {
      "application/vnd.jupyter.widget-view+json": {
       "model_id": "c308eebfac864942b3fe96dfdf978616",
       "version_major": 2,
       "version_minor": 0
      },
      "text/plain": [
       "Canvas(toolbar=Toolbar(toolitems=[('Home', 'Reset original view', 'home', 'home'), ('Back', 'Back to previous …"
      ]
     },
     "metadata": {},
     "output_type": "display_data"
    }
   ],
   "source": [
    "data_set.data[0].fan_speed_timeseries_plot.plot()"
   ]
  },
  {
   "cell_type": "markdown",
   "metadata": {},
   "source": [
    "### Memory Consumption\n",
    "\n",
    "The graphs below shows the memory consumption over time."
   ]
  },
  {
   "cell_type": "code",
   "execution_count": 18,
   "metadata": {
    "pycharm": {
     "name": "#%%\n"
    }
   },
   "outputs": [
    {
     "data": {
      "application/vnd.jupyter.widget-view+json": {
       "model_id": "8fb87ee7e1524d4395b06a9eb33f0362",
       "version_major": 2,
       "version_minor": 0
      },
      "text/plain": [
       "Canvas(toolbar=Toolbar(toolitems=[('Home', 'Reset original view', 'home', 'home'), ('Back', 'Back to previous …"
      ]
     },
     "metadata": {},
     "output_type": "display_data"
    }
   ],
   "source": [
    "data_set.data[0].memory_consumption_timeseries_plot(plot_sizes=False).plot()"
   ]
  },
  {
   "cell_type": "markdown",
   "metadata": {},
   "source": [
    "### Processes\n",
    "\n",
    "The graphs below shows the amount of processes over time."
   ]
  },
  {
   "cell_type": "code",
   "execution_count": 19,
   "metadata": {
    "pycharm": {
     "name": "#%%\n"
    }
   },
   "outputs": [
    {
     "data": {
      "application/vnd.jupyter.widget-view+json": {
       "model_id": "4c9eb0750d3644748fe2054846f99cb1",
       "version_major": 2,
       "version_minor": 0
      },
      "text/plain": [
       "Canvas(toolbar=Toolbar(toolitems=[('Home', 'Reset original view', 'home', 'home'), ('Back', 'Back to previous …"
      ]
     },
     "metadata": {},
     "output_type": "display_data"
    }
   ],
   "source": [
    "data_set.data[0].processes_timeseries_plot.plot()"
   ]
  },
  {
   "cell_type": "markdown",
   "metadata": {},
   "source": [
    "### Temperature\n",
    "\n",
    "The graphs below shows the temperature over time."
   ]
  },
  {
   "cell_type": "code",
   "execution_count": 20,
   "metadata": {
    "pycharm": {
     "name": "#%%\n"
    }
   },
   "outputs": [
    {
     "data": {
      "application/vnd.jupyter.widget-view+json": {
       "model_id": "977b5b465be54fe8a19b8b11e6eeab80",
       "version_major": 2,
       "version_minor": 0
      },
      "text/plain": [
       "Canvas(toolbar=Toolbar(toolitems=[('Home', 'Reset original view', 'home', 'home'), ('Back', 'Back to previous …"
      ]
     },
     "metadata": {},
     "output_type": "display_data"
    }
   ],
   "source": [
    "temperature_timeseries_plot = data_set.data[0].temperature_timeseries_plot\n",
    "temperature_timeseries_plot.plot_series = { key: temperature_timeseries_plot.plot_series[key] for key in temperature_timeseries_plot.plot_series if (key.startswith(\"CPU 0\") and (not key.startswith(\"CPU 0 Core\") or key.startswith(\"CPU 0 Core 0\"))) or key.startswith(\"GPU 0\") or key.startswith(\"Node\")}\n",
    "temperature_timeseries_plot.plot()"
   ]
  },
  {
   "cell_type": "markdown",
   "metadata": {},
   "source": [
    "### Correlations\n",
    "\n",
    "The graphs below shows the Pearson correlation heatmap for each performance variable."
   ]
  },
  {
   "cell_type": "code",
   "execution_count": 21,
   "metadata": {
    "pycharm": {
     "name": "#%%\n"
    }
   },
   "outputs": [],
   "source": [
    "#data_set.data[0].monitor_data_correlations_plot.plot()\n"
   ]
  }
 ],
 "metadata": {
  "kernelspec": {
   "display_name": "Python 3",
   "language": "python",
   "name": "python3"
  },
  "language_info": {
   "codemirror_mode": {
    "name": "ipython",
    "version": 3
   },
   "file_extension": ".py",
   "mimetype": "text/x-python",
   "name": "python",
   "nbconvert_exporter": "python",
   "pygments_lexer": "ipython3",
   "version": "3.8.5"
  },
  "widgets": {
   "application/vnd.jupyter.widget-state+json": {
    "state": {},
    "version_major": 2,
    "version_minor": 0
   }
  }
 },
 "nbformat": 4,
 "nbformat_minor": 4
}
