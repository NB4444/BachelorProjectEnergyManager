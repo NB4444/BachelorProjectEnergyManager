{
 "cells": [
  {
   "cell_type": "code",
   "execution_count": 1,
   "metadata": {
    "pycharm": {
     "name": "#%%\n"
    }
   },
   "outputs": [],
   "source": [
    "%matplotlib widget\n",
    "\n",
    "import pathlib\n",
    "import pprint\n",
    "\n",
    "from Visualizer.DataSet import DataSet\n",
    "from Visualizer.Monitoring.Persistence.ProfilerSession import ProfilerSession\n",
    "from Visualizer.Plotting.Plot import Plot"
   ]
  },
  {
   "cell_type": "markdown",
   "metadata": {},
   "source": [
    "# Profiler Session Visualizer\n",
    "\n",
    "This notebook can visualize a specific profiler session."
   ]
  },
  {
   "cell_type": "markdown",
   "metadata": {},
   "source": [
    "## Configuration\n",
    "\n",
    "Configure the project settings below.\n",
    "The default configuration should be okay.\n",
    "Make sure that you have run at least one profiler session with the EnergyManager and have generated a database, otherwise this notebook will fail."
   ]
  },
  {
   "cell_type": "code",
   "execution_count": 2,
   "metadata": {
    "pycharm": {
     "name": "#%%\n"
    }
   },
   "outputs": [],
   "source": [
    "source_directory = pathlib.Path().parent.absolute()\n",
    "project_directory = f\"{source_directory}/..\"\n",
    "database = f\"{project_directory}/../EnergyManager/Resources/Test Results/database.sqlite\""
   ]
  },
  {
   "cell_type": "markdown",
   "metadata": {},
   "source": [
    "## Profiler Sessions Overview\n",
    "\n",
    "Below all profiler sessions are shown."
   ]
  },
  {
   "cell_type": "code",
   "execution_count": 3,
   "metadata": {
    "pycharm": {
     "name": "#%%\n"
    }
   },
   "outputs": [
    {
     "data": {
      "text/html": [
       "<div>\n",
       "<style scoped>\n",
       "    .dataframe tbody tr th:only-of-type {\n",
       "        vertical-align: middle;\n",
       "    }\n",
       "\n",
       "    .dataframe tbody tr th {\n",
       "        vertical-align: top;\n",
       "    }\n",
       "\n",
       "    .dataframe thead th {\n",
       "        text-align: right;\n",
       "    }\n",
       "</style>\n",
       "<table border=\"1\" class=\"dataframe\">\n",
       "  <thead>\n",
       "    <tr style=\"text-align: right;\">\n",
       "      <th></th>\n",
       "      <th>ID</th>\n",
       "      <th>Label</th>\n",
       "      <th>Profile</th>\n",
       "    </tr>\n",
       "  </thead>\n",
       "  <tbody>\n",
       "    <tr>\n",
       "      <th>0</th>\n",
       "      <td>1</td>\n",
       "      <td>Fixed Frequency Matrix Multiply</td>\n",
       "      <td>{'core': 0, 'gpu': 0, 'matrixAHeight': 960, 'matrixAWidth': 960, 'matrixBHeight': 960, 'matrixBWidth': 960, 'maximumCPUClockRate': 8137931024, 'maximumGPUClockRate': 1797931266, 'minimumCPUClockRate': 8137931024, 'minimumGPUClockRate': 1797931266}</td>\n",
       "    </tr>\n",
       "    <tr>\n",
       "      <th>1</th>\n",
       "      <td>2</td>\n",
       "      <td>Fixed Frequency Matrix Multiply</td>\n",
       "      <td>{'core': 0, 'gpu': 0, 'matrixAHeight': 960, 'matrixAWidth': 960, 'matrixBHeight': 960, 'matrixBWidth': 960, 'maximumCPUClockRate': 8137931024, 'maximumGPUClockRate': 1797931266, 'minimumCPUClockRate': 8137931024, 'minimumGPUClockRate': 1797931266}</td>\n",
       "    </tr>\n",
       "    <tr>\n",
       "      <th>2</th>\n",
       "      <td>3</td>\n",
       "      <td>Fixed Frequency Matrix Multiply</td>\n",
       "      <td>{'core': 0, 'gpu': 0, 'matrixAHeight': 960, 'matrixAWidth': 960, 'matrixBHeight': 960, 'matrixBWidth': 960, 'maximumCPUClockRate': 8137931024, 'maximumGPUClockRate': 1797931266, 'minimumCPUClockRate': 8137931024, 'minimumGPUClockRate': 1797931266}</td>\n",
       "    </tr>\n",
       "    <tr>\n",
       "      <th>3</th>\n",
       "      <td>4</td>\n",
       "      <td>Fixed Frequency Matrix Multiply</td>\n",
       "      <td>{'core': 0, 'gpu': 0, 'matrixAHeight': 960, 'matrixAWidth': 960, 'matrixBHeight': 960, 'matrixBWidth': 960, 'maximumCPUClockRate': 7365517232, 'maximumGPUClockRate': 1716207163, 'minimumCPUClockRate': 7365517232, 'minimumGPUClockRate': 1716207163}</td>\n",
       "    </tr>\n",
       "    <tr>\n",
       "      <th>4</th>\n",
       "      <td>5</td>\n",
       "      <td>Fixed Frequency Matrix Multiply</td>\n",
       "      <td>{'core': 0, 'gpu': 0, 'matrixAHeight': 960, 'matrixAWidth': 960, 'matrixBHeight': 960, 'matrixBWidth': 960, 'maximumCPUClockRate': 7365517232, 'maximumGPUClockRate': 1716207163, 'minimumCPUClockRate': 7365517232, 'minimumGPUClockRate': 1716207163}</td>\n",
       "    </tr>\n",
       "    <tr>\n",
       "      <th>5</th>\n",
       "      <td>6</td>\n",
       "      <td>Fixed Frequency Matrix Multiply</td>\n",
       "      <td>{'core': 0, 'gpu': 0, 'matrixAHeight': 960, 'matrixAWidth': 960, 'matrixBHeight': 960, 'matrixBWidth': 960, 'maximumCPUClockRate': 7365517232, 'maximumGPUClockRate': 1716207163, 'minimumCPUClockRate': 7365517232, 'minimumGPUClockRate': 1716207163}</td>\n",
       "    </tr>\n",
       "    <tr>\n",
       "      <th>6</th>\n",
       "      <td>7</td>\n",
       "      <td>Fixed Frequency Matrix Multiply</td>\n",
       "      <td>{'core': 0, 'gpu': 0, 'matrixAHeight': 960, 'matrixAWidth': 960, 'matrixBHeight': 960, 'matrixBWidth': 960, 'maximumCPUClockRate': 2731034480, 'maximumGPUClockRate': 163449206, 'minimumCPUClockRate': 2731034480, 'minimumGPUClockRate': 163449206}</td>\n",
       "    </tr>\n",
       "    <tr>\n",
       "      <th>7</th>\n",
       "      <td>8</td>\n",
       "      <td>Fixed Frequency Matrix Multiply</td>\n",
       "      <td>{'core': 0, 'gpu': 0, 'matrixAHeight': 960, 'matrixAWidth': 960, 'matrixBHeight': 960, 'matrixBWidth': 960, 'maximumCPUClockRate': 2731034480, 'maximumGPUClockRate': 163449206, 'minimumCPUClockRate': 2731034480, 'minimumGPUClockRate': 163449206}</td>\n",
       "    </tr>\n",
       "    <tr>\n",
       "      <th>8</th>\n",
       "      <td>9</td>\n",
       "      <td>Fixed Frequency Matrix Multiply</td>\n",
       "      <td>{'core': 0, 'gpu': 0, 'matrixAHeight': 960, 'matrixAWidth': 960, 'matrixBHeight': 960, 'matrixBWidth': 960, 'maximumCPUClockRate': 2731034480, 'maximumGPUClockRate': 163449206, 'minimumCPUClockRate': 2731034480, 'minimumGPUClockRate': 163449206}</td>\n",
       "    </tr>\n",
       "    <tr>\n",
       "      <th>9</th>\n",
       "      <td>10</td>\n",
       "      <td>Fixed Frequency Matrix Multiply</td>\n",
       "      <td>{'core': 0, 'gpu': 0, 'matrixAHeight': 960, 'matrixAWidth': 960, 'matrixBHeight': 960, 'matrixBWidth': 960, 'maximumCPUClockRate': 6593103440, 'maximumGPUClockRate': 1144138442, 'minimumCPUClockRate': 6593103440, 'minimumGPUClockRate': 1144138442}</td>\n",
       "    </tr>\n",
       "    <tr>\n",
       "      <th>10</th>\n",
       "      <td>11</td>\n",
       "      <td>Fixed Frequency Matrix Multiply</td>\n",
       "      <td>{'core': 0, 'gpu': 0, 'matrixAHeight': 960, 'matrixAWidth': 960, 'matrixBHeight': 960, 'matrixBWidth': 960, 'maximumCPUClockRate': 6593103440, 'maximumGPUClockRate': 1144138442, 'minimumCPUClockRate': 6593103440, 'minimumGPUClockRate': 1144138442}</td>\n",
       "    </tr>\n",
       "    <tr>\n",
       "      <th>11</th>\n",
       "      <td>12</td>\n",
       "      <td>Fixed Frequency Matrix Multiply</td>\n",
       "      <td>{'core': 0, 'gpu': 0, 'matrixAHeight': 960, 'matrixAWidth': 960, 'matrixBHeight': 960, 'matrixBWidth': 960, 'maximumCPUClockRate': 6593103440, 'maximumGPUClockRate': 1144138442, 'minimumCPUClockRate': 6593103440, 'minimumGPUClockRate': 1144138442}</td>\n",
       "    </tr>\n",
       "    <tr>\n",
       "      <th>12</th>\n",
       "      <td>13</td>\n",
       "      <td>Fixed Frequency Matrix Multiply</td>\n",
       "      <td>{'core': 0, 'gpu': 0, 'matrixAHeight': 960, 'matrixAWidth': 960, 'matrixBHeight': 960, 'matrixBWidth': 960, 'maximumCPUClockRate': 8524137920, 'maximumGPUClockRate': 408621515, 'minimumCPUClockRate': 8524137920, 'minimumGPUClockRate': 408621515}</td>\n",
       "    </tr>\n",
       "    <tr>\n",
       "      <th>13</th>\n",
       "      <td>14</td>\n",
       "      <td>Fixed Frequency Matrix Multiply</td>\n",
       "      <td>{'core': 0, 'gpu': 0, 'matrixAHeight': 960, 'matrixAWidth': 960, 'matrixBHeight': 960, 'matrixBWidth': 960, 'maximumCPUClockRate': 8524137920, 'maximumGPUClockRate': 408621515, 'minimumCPUClockRate': 8524137920, 'minimumGPUClockRate': 408621515}</td>\n",
       "    </tr>\n",
       "    <tr>\n",
       "      <th>14</th>\n",
       "      <td>15</td>\n",
       "      <td>Fixed Frequency Matrix Multiply</td>\n",
       "      <td>{'core': 0, 'gpu': 0, 'matrixAHeight': 960, 'matrixAWidth': 960, 'matrixBHeight': 960, 'matrixBWidth': 960, 'maximumCPUClockRate': 8524137920, 'maximumGPUClockRate': 408621515, 'minimumCPUClockRate': 8524137920, 'minimumGPUClockRate': 408621515}</td>\n",
       "    </tr>\n",
       "    <tr>\n",
       "      <th>15</th>\n",
       "      <td>16</td>\n",
       "      <td>Fixed Frequency Matrix Multiply</td>\n",
       "      <td>{'core': 0, 'gpu': 0, 'matrixAHeight': 960, 'matrixAWidth': 960, 'matrixBHeight': 960, 'matrixBWidth': 960, 'maximumCPUClockRate': 11999999984, 'maximumGPUClockRate': 1225862545, 'minimumCPUClockRate': 11999999984, 'minimumGPUClockRate': 1225862545}</td>\n",
       "    </tr>\n",
       "    <tr>\n",
       "      <th>16</th>\n",
       "      <td>17</td>\n",
       "      <td>Fixed Frequency Matrix Multiply</td>\n",
       "      <td>{'core': 0, 'gpu': 0, 'matrixAHeight': 960, 'matrixAWidth': 960, 'matrixBHeight': 960, 'matrixBWidth': 960, 'maximumCPUClockRate': 11999999984, 'maximumGPUClockRate': 1225862545, 'minimumCPUClockRate': 11999999984, 'minimumGPUClockRate': 1225862545}</td>\n",
       "    </tr>\n",
       "    <tr>\n",
       "      <th>17</th>\n",
       "      <td>18</td>\n",
       "      <td>Fixed Frequency Matrix Multiply</td>\n",
       "      <td>{'core': 0, 'gpu': 0, 'matrixAHeight': 960, 'matrixAWidth': 960, 'matrixBHeight': 960, 'matrixBWidth': 960, 'maximumCPUClockRate': 11999999984, 'maximumGPUClockRate': 1225862545, 'minimumCPUClockRate': 11999999984, 'minimumGPUClockRate': 1225862545}</td>\n",
       "    </tr>\n",
       "    <tr>\n",
       "      <th>18</th>\n",
       "      <td>19</td>\n",
       "      <td>Fixed Frequency Matrix Multiply</td>\n",
       "      <td>{'core': 0, 'gpu': 0, 'matrixAHeight': 960, 'matrixAWidth': 960, 'matrixBHeight': 960, 'matrixBWidth': 960, 'maximumCPUClockRate': 6206896544, 'maximumGPUClockRate': 1961379472, 'minimumCPUClockRate': 6206896544, 'minimumGPUClockRate': 1961379472}</td>\n",
       "    </tr>\n",
       "    <tr>\n",
       "      <th>19</th>\n",
       "      <td>20</td>\n",
       "      <td>Fixed Frequency Matrix Multiply</td>\n",
       "      <td>{'core': 0, 'gpu': 0, 'matrixAHeight': 960, 'matrixAWidth': 960, 'matrixBHeight': 960, 'matrixBWidth': 960, 'maximumCPUClockRate': 6206896544, 'maximumGPUClockRate': 1961379472, 'minimumCPUClockRate': 6206896544, 'minimumGPUClockRate': 1961379472}</td>\n",
       "    </tr>\n",
       "    <tr>\n",
       "      <th>20</th>\n",
       "      <td>21</td>\n",
       "      <td>Fixed Frequency Matrix Multiply</td>\n",
       "      <td>{'core': 0, 'gpu': 0, 'matrixAHeight': 960, 'matrixAWidth': 960, 'matrixBHeight': 960, 'matrixBWidth': 960, 'maximumCPUClockRate': 6206896544, 'maximumGPUClockRate': 1961379472, 'minimumCPUClockRate': 6206896544, 'minimumGPUClockRate': 1961379472}</td>\n",
       "    </tr>\n",
       "    <tr>\n",
       "      <th>21</th>\n",
       "      <td>22</td>\n",
       "      <td>Fixed Frequency Matrix Multiply</td>\n",
       "      <td>{'core': 0, 'gpu': 0, 'matrixAHeight': 960, 'matrixAWidth': 960, 'matrixBHeight': 960, 'matrixBWidth': 960, 'maximumCPUClockRate': 6593103440, 'maximumGPUClockRate': 490345618, 'minimumCPUClockRate': 6593103440, 'minimumGPUClockRate': 490345618}</td>\n",
       "    </tr>\n",
       "    <tr>\n",
       "      <th>22</th>\n",
       "      <td>23</td>\n",
       "      <td>Fixed Frequency Matrix Multiply</td>\n",
       "      <td>{'core': 0, 'gpu': 0, 'matrixAHeight': 960, 'matrixAWidth': 960, 'matrixBHeight': 960, 'matrixBWidth': 960, 'maximumCPUClockRate': 6593103440, 'maximumGPUClockRate': 490345618, 'minimumCPUClockRate': 6593103440, 'minimumGPUClockRate': 490345618}</td>\n",
       "    </tr>\n",
       "    <tr>\n",
       "      <th>23</th>\n",
       "      <td>24</td>\n",
       "      <td>Fixed Frequency Matrix Multiply</td>\n",
       "      <td>{'core': 0, 'gpu': 0, 'matrixAHeight': 960, 'matrixAWidth': 960, 'matrixBHeight': 960, 'matrixBWidth': 960, 'maximumCPUClockRate': 6593103440, 'maximumGPUClockRate': 490345618, 'minimumCPUClockRate': 6593103440, 'minimumGPUClockRate': 490345618}</td>\n",
       "    </tr>\n",
       "    <tr>\n",
       "      <th>24</th>\n",
       "      <td>25</td>\n",
       "      <td>Fixed Frequency Matrix Multiply</td>\n",
       "      <td>{'core': 0, 'gpu': 0, 'matrixAHeight': 960, 'matrixAWidth': 960, 'matrixBHeight': 960, 'matrixBWidth': 960, 'maximumCPUClockRate': 8910344816, 'maximumGPUClockRate': 1307586648, 'minimumCPUClockRate': 8910344816, 'minimumGPUClockRate': 1307586648}</td>\n",
       "    </tr>\n",
       "    <tr>\n",
       "      <th>...</th>\n",
       "      <td>...</td>\n",
       "      <td>...</td>\n",
       "      <td>...</td>\n",
       "    </tr>\n",
       "    <tr>\n",
       "      <th>4673</th>\n",
       "      <td>4780</td>\n",
       "      <td>BFS</td>\n",
       "      <td>{'file': '/home/qub1/rodinia_3.1/data/bfs/graph1MW_6.txt'}</td>\n",
       "    </tr>\n",
       "    <tr>\n",
       "      <th>4674</th>\n",
       "      <td>4781</td>\n",
       "      <td>BFS</td>\n",
       "      <td>{'file': '/home/qub1/rodinia_3.1/data/bfs/graph1MW_6.txt'}</td>\n",
       "    </tr>\n",
       "    <tr>\n",
       "      <th>4675</th>\n",
       "      <td>4782</td>\n",
       "      <td>BFS</td>\n",
       "      <td>{'file': '/home/qub1/rodinia_3.1/data/bfs/graph1MW_6.txt'}</td>\n",
       "    </tr>\n",
       "    <tr>\n",
       "      <th>4676</th>\n",
       "      <td>4783</td>\n",
       "      <td>BFS</td>\n",
       "      <td>{'file': '/home/qub1/rodinia_3.1/data/bfs/graph1MW_6.txt'}</td>\n",
       "    </tr>\n",
       "    <tr>\n",
       "      <th>4677</th>\n",
       "      <td>4784</td>\n",
       "      <td>BFS</td>\n",
       "      <td>{'file': '/home/qub1/rodinia_3.1/data/bfs/graph1MW_6.txt'}</td>\n",
       "    </tr>\n",
       "    <tr>\n",
       "      <th>4678</th>\n",
       "      <td>4785</td>\n",
       "      <td>BFS</td>\n",
       "      <td>{'file': '/home/qub1/rodinia_3.1/data/bfs/graph1MW_6.txt'}</td>\n",
       "    </tr>\n",
       "    <tr>\n",
       "      <th>4679</th>\n",
       "      <td>4786</td>\n",
       "      <td>BFS</td>\n",
       "      <td>{'file': '/home/qub1/rodinia_3.1/data/bfs/graph1MW_6.txt'}</td>\n",
       "    </tr>\n",
       "    <tr>\n",
       "      <th>4680</th>\n",
       "      <td>4787</td>\n",
       "      <td>BFS</td>\n",
       "      <td>{'file': '/home/qub1/rodinia_3.1/data/bfs/graph1MW_6.txt'}</td>\n",
       "    </tr>\n",
       "    <tr>\n",
       "      <th>4681</th>\n",
       "      <td>4788</td>\n",
       "      <td>BFS</td>\n",
       "      <td>{'file': '/home/qub1/rodinia_3.1/data/bfs/graph1MW_6.txt'}</td>\n",
       "    </tr>\n",
       "    <tr>\n",
       "      <th>4682</th>\n",
       "      <td>4789</td>\n",
       "      <td>BFS</td>\n",
       "      <td>{'file': '/home/qub1/rodinia_3.1/data/bfs/graph1MW_6.txt'}</td>\n",
       "    </tr>\n",
       "    <tr>\n",
       "      <th>4683</th>\n",
       "      <td>4790</td>\n",
       "      <td>BFS</td>\n",
       "      <td>{'file': '/home/qub1/rodinia_3.1/data/bfs/graph1MW_6.txt'}</td>\n",
       "    </tr>\n",
       "    <tr>\n",
       "      <th>4684</th>\n",
       "      <td>4791</td>\n",
       "      <td>BFS</td>\n",
       "      <td>{'file': '/home/qub1/rodinia_3.1/data/bfs/graph1MW_6.txt'}</td>\n",
       "    </tr>\n",
       "    <tr>\n",
       "      <th>4685</th>\n",
       "      <td>4792</td>\n",
       "      <td>BFS</td>\n",
       "      <td>{'file': '/home/qub1/rodinia_3.1/data/bfs/graph1MW_6.txt'}</td>\n",
       "    </tr>\n",
       "    <tr>\n",
       "      <th>4686</th>\n",
       "      <td>4793</td>\n",
       "      <td>BFS</td>\n",
       "      <td>{'file': '/home/qub1/rodinia_3.1/data/bfs/graph1MW_6.txt'}</td>\n",
       "    </tr>\n",
       "    <tr>\n",
       "      <th>4687</th>\n",
       "      <td>4794</td>\n",
       "      <td>BFS</td>\n",
       "      <td>{'file': '/home/qub1/rodinia_3.1/data/bfs/graph1MW_6.txt'}</td>\n",
       "    </tr>\n",
       "    <tr>\n",
       "      <th>4688</th>\n",
       "      <td>4795</td>\n",
       "      <td>BFS</td>\n",
       "      <td>{'file': '/home/qub1/rodinia_3.1/data/bfs/graph1MW_6.txt'}</td>\n",
       "    </tr>\n",
       "    <tr>\n",
       "      <th>4689</th>\n",
       "      <td>4796</td>\n",
       "      <td>BFS</td>\n",
       "      <td>{'file': '/home/qub1/rodinia_3.1/data/bfs/graph1MW_6.txt'}</td>\n",
       "    </tr>\n",
       "    <tr>\n",
       "      <th>4690</th>\n",
       "      <td>4797</td>\n",
       "      <td>BFS</td>\n",
       "      <td>{'file': '/home/qub1/rodinia_3.1/data/bfs/graph1MW_6.txt'}</td>\n",
       "    </tr>\n",
       "    <tr>\n",
       "      <th>4691</th>\n",
       "      <td>4798</td>\n",
       "      <td>BFS</td>\n",
       "      <td>{'file': '/home/qub1/rodinia_3.1/data/bfs/graph1MW_6.txt'}</td>\n",
       "    </tr>\n",
       "    <tr>\n",
       "      <th>4692</th>\n",
       "      <td>4799</td>\n",
       "      <td>BFS</td>\n",
       "      <td>{'file': '/home/qub1/rodinia_3.1/data/bfs/graph1MW_6.txt'}</td>\n",
       "    </tr>\n",
       "    <tr>\n",
       "      <th>4693</th>\n",
       "      <td>4800</td>\n",
       "      <td>BFS</td>\n",
       "      <td>{'file': '/home/qub1/rodinia_3.1/data/bfs/graph1MW_6.txt'}</td>\n",
       "    </tr>\n",
       "    <tr>\n",
       "      <th>4694</th>\n",
       "      <td>4801</td>\n",
       "      <td>BFS</td>\n",
       "      <td>{'file': '/home/qub1/rodinia_3.1/data/bfs/graph1MW_6.txt'}</td>\n",
       "    </tr>\n",
       "    <tr>\n",
       "      <th>4695</th>\n",
       "      <td>4802</td>\n",
       "      <td>BFS</td>\n",
       "      <td>{'file': '/home/qub1/rodinia_3.1/data/bfs/graph1MW_6.txt'}</td>\n",
       "    </tr>\n",
       "    <tr>\n",
       "      <th>4696</th>\n",
       "      <td>4803</td>\n",
       "      <td>BFS</td>\n",
       "      <td>{'file': '/home/qub1/rodinia_3.1/data/bfs/graph1MW_6.txt'}</td>\n",
       "    </tr>\n",
       "    <tr>\n",
       "      <th>4697</th>\n",
       "      <td>4804</td>\n",
       "      <td>BFS</td>\n",
       "      <td>{'file': '/home/qub1/rodinia_3.1/data/bfs/graph1MW_6.txt'}</td>\n",
       "    </tr>\n",
       "  </tbody>\n",
       "</table>\n",
       "<p>4698 rows × 3 columns</p>\n",
       "</div>"
      ],
      "text/plain": [
       "        ID                            Label  \\\n",
       "0        1  Fixed Frequency Matrix Multiply   \n",
       "1        2  Fixed Frequency Matrix Multiply   \n",
       "2        3  Fixed Frequency Matrix Multiply   \n",
       "3        4  Fixed Frequency Matrix Multiply   \n",
       "4        5  Fixed Frequency Matrix Multiply   \n",
       "5        6  Fixed Frequency Matrix Multiply   \n",
       "6        7  Fixed Frequency Matrix Multiply   \n",
       "7        8  Fixed Frequency Matrix Multiply   \n",
       "8        9  Fixed Frequency Matrix Multiply   \n",
       "9       10  Fixed Frequency Matrix Multiply   \n",
       "10      11  Fixed Frequency Matrix Multiply   \n",
       "11      12  Fixed Frequency Matrix Multiply   \n",
       "12      13  Fixed Frequency Matrix Multiply   \n",
       "13      14  Fixed Frequency Matrix Multiply   \n",
       "14      15  Fixed Frequency Matrix Multiply   \n",
       "15      16  Fixed Frequency Matrix Multiply   \n",
       "16      17  Fixed Frequency Matrix Multiply   \n",
       "17      18  Fixed Frequency Matrix Multiply   \n",
       "18      19  Fixed Frequency Matrix Multiply   \n",
       "19      20  Fixed Frequency Matrix Multiply   \n",
       "20      21  Fixed Frequency Matrix Multiply   \n",
       "21      22  Fixed Frequency Matrix Multiply   \n",
       "22      23  Fixed Frequency Matrix Multiply   \n",
       "23      24  Fixed Frequency Matrix Multiply   \n",
       "24      25  Fixed Frequency Matrix Multiply   \n",
       "...    ...                              ...   \n",
       "4673  4780                              BFS   \n",
       "4674  4781                              BFS   \n",
       "4675  4782                              BFS   \n",
       "4676  4783                              BFS   \n",
       "4677  4784                              BFS   \n",
       "4678  4785                              BFS   \n",
       "4679  4786                              BFS   \n",
       "4680  4787                              BFS   \n",
       "4681  4788                              BFS   \n",
       "4682  4789                              BFS   \n",
       "4683  4790                              BFS   \n",
       "4684  4791                              BFS   \n",
       "4685  4792                              BFS   \n",
       "4686  4793                              BFS   \n",
       "4687  4794                              BFS   \n",
       "4688  4795                              BFS   \n",
       "4689  4796                              BFS   \n",
       "4690  4797                              BFS   \n",
       "4691  4798                              BFS   \n",
       "4692  4799                              BFS   \n",
       "4693  4800                              BFS   \n",
       "4694  4801                              BFS   \n",
       "4695  4802                              BFS   \n",
       "4696  4803                              BFS   \n",
       "4697  4804                              BFS   \n",
       "\n",
       "                                                                                                                                                                                                                                                        Profile  \n",
       "0       {'core': 0, 'gpu': 0, 'matrixAHeight': 960, 'matrixAWidth': 960, 'matrixBHeight': 960, 'matrixBWidth': 960, 'maximumCPUClockRate': 8137931024, 'maximumGPUClockRate': 1797931266, 'minimumCPUClockRate': 8137931024, 'minimumGPUClockRate': 1797931266}  \n",
       "1       {'core': 0, 'gpu': 0, 'matrixAHeight': 960, 'matrixAWidth': 960, 'matrixBHeight': 960, 'matrixBWidth': 960, 'maximumCPUClockRate': 8137931024, 'maximumGPUClockRate': 1797931266, 'minimumCPUClockRate': 8137931024, 'minimumGPUClockRate': 1797931266}  \n",
       "2       {'core': 0, 'gpu': 0, 'matrixAHeight': 960, 'matrixAWidth': 960, 'matrixBHeight': 960, 'matrixBWidth': 960, 'maximumCPUClockRate': 8137931024, 'maximumGPUClockRate': 1797931266, 'minimumCPUClockRate': 8137931024, 'minimumGPUClockRate': 1797931266}  \n",
       "3       {'core': 0, 'gpu': 0, 'matrixAHeight': 960, 'matrixAWidth': 960, 'matrixBHeight': 960, 'matrixBWidth': 960, 'maximumCPUClockRate': 7365517232, 'maximumGPUClockRate': 1716207163, 'minimumCPUClockRate': 7365517232, 'minimumGPUClockRate': 1716207163}  \n",
       "4       {'core': 0, 'gpu': 0, 'matrixAHeight': 960, 'matrixAWidth': 960, 'matrixBHeight': 960, 'matrixBWidth': 960, 'maximumCPUClockRate': 7365517232, 'maximumGPUClockRate': 1716207163, 'minimumCPUClockRate': 7365517232, 'minimumGPUClockRate': 1716207163}  \n",
       "5       {'core': 0, 'gpu': 0, 'matrixAHeight': 960, 'matrixAWidth': 960, 'matrixBHeight': 960, 'matrixBWidth': 960, 'maximumCPUClockRate': 7365517232, 'maximumGPUClockRate': 1716207163, 'minimumCPUClockRate': 7365517232, 'minimumGPUClockRate': 1716207163}  \n",
       "6         {'core': 0, 'gpu': 0, 'matrixAHeight': 960, 'matrixAWidth': 960, 'matrixBHeight': 960, 'matrixBWidth': 960, 'maximumCPUClockRate': 2731034480, 'maximumGPUClockRate': 163449206, 'minimumCPUClockRate': 2731034480, 'minimumGPUClockRate': 163449206}  \n",
       "7         {'core': 0, 'gpu': 0, 'matrixAHeight': 960, 'matrixAWidth': 960, 'matrixBHeight': 960, 'matrixBWidth': 960, 'maximumCPUClockRate': 2731034480, 'maximumGPUClockRate': 163449206, 'minimumCPUClockRate': 2731034480, 'minimumGPUClockRate': 163449206}  \n",
       "8         {'core': 0, 'gpu': 0, 'matrixAHeight': 960, 'matrixAWidth': 960, 'matrixBHeight': 960, 'matrixBWidth': 960, 'maximumCPUClockRate': 2731034480, 'maximumGPUClockRate': 163449206, 'minimumCPUClockRate': 2731034480, 'minimumGPUClockRate': 163449206}  \n",
       "9       {'core': 0, 'gpu': 0, 'matrixAHeight': 960, 'matrixAWidth': 960, 'matrixBHeight': 960, 'matrixBWidth': 960, 'maximumCPUClockRate': 6593103440, 'maximumGPUClockRate': 1144138442, 'minimumCPUClockRate': 6593103440, 'minimumGPUClockRate': 1144138442}  \n",
       "10      {'core': 0, 'gpu': 0, 'matrixAHeight': 960, 'matrixAWidth': 960, 'matrixBHeight': 960, 'matrixBWidth': 960, 'maximumCPUClockRate': 6593103440, 'maximumGPUClockRate': 1144138442, 'minimumCPUClockRate': 6593103440, 'minimumGPUClockRate': 1144138442}  \n",
       "11      {'core': 0, 'gpu': 0, 'matrixAHeight': 960, 'matrixAWidth': 960, 'matrixBHeight': 960, 'matrixBWidth': 960, 'maximumCPUClockRate': 6593103440, 'maximumGPUClockRate': 1144138442, 'minimumCPUClockRate': 6593103440, 'minimumGPUClockRate': 1144138442}  \n",
       "12        {'core': 0, 'gpu': 0, 'matrixAHeight': 960, 'matrixAWidth': 960, 'matrixBHeight': 960, 'matrixBWidth': 960, 'maximumCPUClockRate': 8524137920, 'maximumGPUClockRate': 408621515, 'minimumCPUClockRate': 8524137920, 'minimumGPUClockRate': 408621515}  \n",
       "13        {'core': 0, 'gpu': 0, 'matrixAHeight': 960, 'matrixAWidth': 960, 'matrixBHeight': 960, 'matrixBWidth': 960, 'maximumCPUClockRate': 8524137920, 'maximumGPUClockRate': 408621515, 'minimumCPUClockRate': 8524137920, 'minimumGPUClockRate': 408621515}  \n",
       "14        {'core': 0, 'gpu': 0, 'matrixAHeight': 960, 'matrixAWidth': 960, 'matrixBHeight': 960, 'matrixBWidth': 960, 'maximumCPUClockRate': 8524137920, 'maximumGPUClockRate': 408621515, 'minimumCPUClockRate': 8524137920, 'minimumGPUClockRate': 408621515}  \n",
       "15    {'core': 0, 'gpu': 0, 'matrixAHeight': 960, 'matrixAWidth': 960, 'matrixBHeight': 960, 'matrixBWidth': 960, 'maximumCPUClockRate': 11999999984, 'maximumGPUClockRate': 1225862545, 'minimumCPUClockRate': 11999999984, 'minimumGPUClockRate': 1225862545}  \n",
       "16    {'core': 0, 'gpu': 0, 'matrixAHeight': 960, 'matrixAWidth': 960, 'matrixBHeight': 960, 'matrixBWidth': 960, 'maximumCPUClockRate': 11999999984, 'maximumGPUClockRate': 1225862545, 'minimumCPUClockRate': 11999999984, 'minimumGPUClockRate': 1225862545}  \n",
       "17    {'core': 0, 'gpu': 0, 'matrixAHeight': 960, 'matrixAWidth': 960, 'matrixBHeight': 960, 'matrixBWidth': 960, 'maximumCPUClockRate': 11999999984, 'maximumGPUClockRate': 1225862545, 'minimumCPUClockRate': 11999999984, 'minimumGPUClockRate': 1225862545}  \n",
       "18      {'core': 0, 'gpu': 0, 'matrixAHeight': 960, 'matrixAWidth': 960, 'matrixBHeight': 960, 'matrixBWidth': 960, 'maximumCPUClockRate': 6206896544, 'maximumGPUClockRate': 1961379472, 'minimumCPUClockRate': 6206896544, 'minimumGPUClockRate': 1961379472}  \n",
       "19      {'core': 0, 'gpu': 0, 'matrixAHeight': 960, 'matrixAWidth': 960, 'matrixBHeight': 960, 'matrixBWidth': 960, 'maximumCPUClockRate': 6206896544, 'maximumGPUClockRate': 1961379472, 'minimumCPUClockRate': 6206896544, 'minimumGPUClockRate': 1961379472}  \n",
       "20      {'core': 0, 'gpu': 0, 'matrixAHeight': 960, 'matrixAWidth': 960, 'matrixBHeight': 960, 'matrixBWidth': 960, 'maximumCPUClockRate': 6206896544, 'maximumGPUClockRate': 1961379472, 'minimumCPUClockRate': 6206896544, 'minimumGPUClockRate': 1961379472}  \n",
       "21        {'core': 0, 'gpu': 0, 'matrixAHeight': 960, 'matrixAWidth': 960, 'matrixBHeight': 960, 'matrixBWidth': 960, 'maximumCPUClockRate': 6593103440, 'maximumGPUClockRate': 490345618, 'minimumCPUClockRate': 6593103440, 'minimumGPUClockRate': 490345618}  \n",
       "22        {'core': 0, 'gpu': 0, 'matrixAHeight': 960, 'matrixAWidth': 960, 'matrixBHeight': 960, 'matrixBWidth': 960, 'maximumCPUClockRate': 6593103440, 'maximumGPUClockRate': 490345618, 'minimumCPUClockRate': 6593103440, 'minimumGPUClockRate': 490345618}  \n",
       "23        {'core': 0, 'gpu': 0, 'matrixAHeight': 960, 'matrixAWidth': 960, 'matrixBHeight': 960, 'matrixBWidth': 960, 'maximumCPUClockRate': 6593103440, 'maximumGPUClockRate': 490345618, 'minimumCPUClockRate': 6593103440, 'minimumGPUClockRate': 490345618}  \n",
       "24      {'core': 0, 'gpu': 0, 'matrixAHeight': 960, 'matrixAWidth': 960, 'matrixBHeight': 960, 'matrixBWidth': 960, 'maximumCPUClockRate': 8910344816, 'maximumGPUClockRate': 1307586648, 'minimumCPUClockRate': 8910344816, 'minimumGPUClockRate': 1307586648}  \n",
       "...                                                                                                                                                                                                                                                         ...  \n",
       "4673                                                                                                                                                                                                 {'file': '/home/qub1/rodinia_3.1/data/bfs/graph1MW_6.txt'}  \n",
       "4674                                                                                                                                                                                                 {'file': '/home/qub1/rodinia_3.1/data/bfs/graph1MW_6.txt'}  \n",
       "4675                                                                                                                                                                                                 {'file': '/home/qub1/rodinia_3.1/data/bfs/graph1MW_6.txt'}  \n",
       "4676                                                                                                                                                                                                 {'file': '/home/qub1/rodinia_3.1/data/bfs/graph1MW_6.txt'}  \n",
       "4677                                                                                                                                                                                                 {'file': '/home/qub1/rodinia_3.1/data/bfs/graph1MW_6.txt'}  \n",
       "4678                                                                                                                                                                                                 {'file': '/home/qub1/rodinia_3.1/data/bfs/graph1MW_6.txt'}  \n",
       "4679                                                                                                                                                                                                 {'file': '/home/qub1/rodinia_3.1/data/bfs/graph1MW_6.txt'}  \n",
       "4680                                                                                                                                                                                                 {'file': '/home/qub1/rodinia_3.1/data/bfs/graph1MW_6.txt'}  \n",
       "4681                                                                                                                                                                                                 {'file': '/home/qub1/rodinia_3.1/data/bfs/graph1MW_6.txt'}  \n",
       "4682                                                                                                                                                                                                 {'file': '/home/qub1/rodinia_3.1/data/bfs/graph1MW_6.txt'}  \n",
       "4683                                                                                                                                                                                                 {'file': '/home/qub1/rodinia_3.1/data/bfs/graph1MW_6.txt'}  \n",
       "4684                                                                                                                                                                                                 {'file': '/home/qub1/rodinia_3.1/data/bfs/graph1MW_6.txt'}  \n",
       "4685                                                                                                                                                                                                 {'file': '/home/qub1/rodinia_3.1/data/bfs/graph1MW_6.txt'}  \n",
       "4686                                                                                                                                                                                                 {'file': '/home/qub1/rodinia_3.1/data/bfs/graph1MW_6.txt'}  \n",
       "4687                                                                                                                                                                                                 {'file': '/home/qub1/rodinia_3.1/data/bfs/graph1MW_6.txt'}  \n",
       "4688                                                                                                                                                                                                 {'file': '/home/qub1/rodinia_3.1/data/bfs/graph1MW_6.txt'}  \n",
       "4689                                                                                                                                                                                                 {'file': '/home/qub1/rodinia_3.1/data/bfs/graph1MW_6.txt'}  \n",
       "4690                                                                                                                                                                                                 {'file': '/home/qub1/rodinia_3.1/data/bfs/graph1MW_6.txt'}  \n",
       "4691                                                                                                                                                                                                 {'file': '/home/qub1/rodinia_3.1/data/bfs/graph1MW_6.txt'}  \n",
       "4692                                                                                                                                                                                                 {'file': '/home/qub1/rodinia_3.1/data/bfs/graph1MW_6.txt'}  \n",
       "4693                                                                                                                                                                                                 {'file': '/home/qub1/rodinia_3.1/data/bfs/graph1MW_6.txt'}  \n",
       "4694                                                                                                                                                                                                 {'file': '/home/qub1/rodinia_3.1/data/bfs/graph1MW_6.txt'}  \n",
       "4695                                                                                                                                                                                                 {'file': '/home/qub1/rodinia_3.1/data/bfs/graph1MW_6.txt'}  \n",
       "4696                                                                                                                                                                                                 {'file': '/home/qub1/rodinia_3.1/data/bfs/graph1MW_6.txt'}  \n",
       "4697                                                                                                                                                                                                 {'file': '/home/qub1/rodinia_3.1/data/bfs/graph1MW_6.txt'}  \n",
       "\n",
       "[4698 rows x 3 columns]"
      ]
     },
     "metadata": {},
     "output_type": "display_data"
    }
   ],
   "source": [
    "# Load all profiler sessions\n",
    "complete_data_set = DataSet(ProfilerSession.load_all(database))\n",
    "\n",
    "# Visualize the profiler session data\n",
    "complete_data_set.table_plot.plot()"
   ]
  },
  {
   "cell_type": "markdown",
   "metadata": {},
   "source": [
    "## Visualize a Profiler Session\n",
    "\n",
    "Define the ID of the test you wish to visualize below."
   ]
  },
  {
   "cell_type": "code",
   "execution_count": 4,
   "metadata": {
    "pycharm": {
     "name": "#%%\n"
    }
   },
   "outputs": [],
   "source": [
    "# profiler_session_id = complete_data_set.data[-1].id\n",
    "profiler_session_id = 1\n",
    "data_set = DataSet([profiler_session for profiler_session in complete_data_set.data if profiler_session.id == profiler_session_id])"
   ]
  },
  {
   "cell_type": "markdown",
   "metadata": {},
   "source": [
    "### Summary\n",
    "\n",
    "These are the specifications of the system with which the profiler session was performed."
   ]
  },
  {
   "cell_type": "code",
   "execution_count": 5,
   "metadata": {
    "pycharm": {
     "name": "#%%\n"
    }
   },
   "outputs": [
    {
     "name": "stdout",
     "output_type": "stream",
     "text": [
      "{'GPUs': [{'Brand': 'GeForce',\n",
      "           'Compute Capability Major Version': 7,\n",
      "           'Compute Capability Minor Version': 5,\n",
      "           'Default Auto Boosted Clocks Enabled': None,\n",
      "           'Default Power Limit (W)': '260.0',\n",
      "           'Memory Size (B)': '8.3 GB',\n",
      "           'Name': 'GeForce RTX 2080',\n",
      "           'PCIe Link Width (B)': '16 Bytes',\n",
      "           'Supported Core Clock Rates (Hz)': [''],\n",
      "           'Supported Memory Clock Rates (Hz)': ['']}],\n",
      " 'Label': 'Fixed Frequency Matrix Multiply'}\n"
     ]
    }
   ],
   "source": [
    "pprint.pprint(data_set.data[0].summary)"
   ]
  },
  {
   "cell_type": "markdown",
   "metadata": {},
   "source": [
    "### Profile\n",
    "\n",
    "This is the profile with which the profiler session was performed."
   ]
  },
  {
   "cell_type": "code",
   "execution_count": 6,
   "metadata": {
    "pycharm": {
     "name": "#%%\n"
    }
   },
   "outputs": [
    {
     "name": "stdout",
     "output_type": "stream",
     "text": [
      "{'core': 0,\n",
      " 'gpu': 0,\n",
      " 'matrixAHeight': 960,\n",
      " 'matrixAWidth': 960,\n",
      " 'matrixBHeight': 960,\n",
      " 'matrixBWidth': 960,\n",
      " 'maximumCPUClockRate': 8137931024,\n",
      " 'maximumGPUClockRate': 1797931266,\n",
      " 'minimumCPUClockRate': 8137931024,\n",
      " 'minimumGPUClockRate': 1797931266}\n"
     ]
    }
   ],
   "source": [
    "pprint.pprint(data_set.data[0].profile)"
   ]
  },
  {
   "cell_type": "markdown",
   "metadata": {},
   "source": [
    "### Overview\n",
    "\n",
    "The graph image below summarizes the graphs above."
   ]
  },
  {
   "cell_type": "code",
   "execution_count": 7,
   "metadata": {
    "pycharm": {
     "name": "#%%\n"
    }
   },
   "outputs": [],
   "source": [
    "# data_set.data[0].overview_multi_plot.plot()"
   ]
  },
  {
   "cell_type": "markdown",
   "metadata": {},
   "source": [
    "### Switches\n",
    "\n",
    "The graphs below shows the status of configuration switches over time."
   ]
  },
  {
   "cell_type": "code",
   "execution_count": 8,
   "metadata": {
    "pycharm": {
     "name": "#%%\n"
    }
   },
   "outputs": [
    {
     "data": {
      "application/vnd.jupyter.widget-view+json": {
       "model_id": "6284137b8bbb4eeb9d892ff51bebdc33",
       "version_major": 2,
       "version_minor": 0
      },
      "text/plain": [
       "Canvas(toolbar=Toolbar(toolitems=[('Home', 'Reset original view', 'home', 'home'), ('Back', 'Back to previous …"
      ]
     },
     "metadata": {},
     "output_type": "display_data"
    },
    {
     "name": "stderr",
     "output_type": "stream",
     "text": [
      "No handles with labels found to put in legend.\n"
     ]
    }
   ],
   "source": [
    "data_set.data[0].switches_timeseries_plot.plot()"
   ]
  },
  {
   "cell_type": "markdown",
   "metadata": {},
   "source": [
    "### Clock Rates\n",
    "\n",
    "The graph below shows the clock rate over time."
   ]
  },
  {
   "cell_type": "code",
   "execution_count": 9,
   "metadata": {
    "pycharm": {
     "name": "#%%\n"
    }
   },
   "outputs": [
    {
     "data": {
      "application/vnd.jupyter.widget-view+json": {
       "model_id": "52f22b94026b4040aa9c912493408acd",
       "version_major": 2,
       "version_minor": 0
      },
      "text/plain": [
       "Canvas(toolbar=Toolbar(toolitems=[('Home', 'Reset original view', 'home', 'home'), ('Back', 'Back to previous …"
      ]
     },
     "metadata": {},
     "output_type": "display_data"
    }
   ],
   "source": [
    "clock_rate_timeseries_plot = data_set.data[0].clock_rate_timeseries_plot(plot_limits=True)\n",
    "clock_rate_timeseries_plot.plot_series = { key: clock_rate_timeseries_plot.plot_series[key] for key in clock_rate_timeseries_plot.plot_series if (key.startswith(\"CPU 0\") and (not key.startswith(\"CPU 0 Core\") or key.startswith(\"CPU 0 Core 0\"))) or key.startswith(\"GPU 0\") or key.startswith(\"Node\")}\n",
    "clock_rate_timeseries_plot.plot()"
   ]
  },
  {
   "cell_type": "markdown",
   "metadata": {},
   "source": [
    "### Utilization Rates\n",
    "\n",
    "The graph below shows the utilization rates over time."
   ]
  },
  {
   "cell_type": "code",
   "execution_count": 10,
   "metadata": {
    "pycharm": {
     "name": "#%%\n"
    }
   },
   "outputs": [
    {
     "data": {
      "application/vnd.jupyter.widget-view+json": {
       "model_id": "4d480cd89a4c427ebfea70aad27043e3",
       "version_major": 2,
       "version_minor": 0
      },
      "text/plain": [
       "Canvas(toolbar=Toolbar(toolitems=[('Home', 'Reset original view', 'home', 'home'), ('Back', 'Back to previous …"
      ]
     },
     "metadata": {},
     "output_type": "display_data"
    }
   ],
   "source": [
    "utilization_rate_timeseries_plot = data_set.data[0].utilization_rate_timeseries_plot\n",
    "utilization_rate_timeseries_plot.plot_series = { key: utilization_rate_timeseries_plot.plot_series[key] for key in utilization_rate_timeseries_plot.plot_series if (key.startswith(\"CPU 0\") and (not key.startswith(\"CPU 0 Core\") or key.startswith(\"CPU 0 Core 0\"))) or key.startswith(\"GPU 0\") or key.startswith(\"Node\")}\n",
    "utilization_rate_timeseries_plot.plot()"
   ]
  },
  {
   "cell_type": "markdown",
   "metadata": {},
   "source": [
    "### Power Consumption\n",
    "\n",
    "The graphs below shows the power consumption over time."
   ]
  },
  {
   "cell_type": "code",
   "execution_count": 11,
   "metadata": {
    "pycharm": {
     "name": "#%%\n"
    }
   },
   "outputs": [
    {
     "data": {
      "application/vnd.jupyter.widget-view+json": {
       "model_id": "7a440510b6cb4f4c812fcc5e5692b94e",
       "version_major": 2,
       "version_minor": 0
      },
      "text/plain": [
       "Canvas(toolbar=Toolbar(toolitems=[('Home', 'Reset original view', 'home', 'home'), ('Back', 'Back to previous …"
      ]
     },
     "metadata": {},
     "output_type": "display_data"
    }
   ],
   "source": [
    "power_consumption_timeseries_plot = data_set.data[0].power_consumption_timeseries_plot(plot_limits=True)\n",
    "power_consumption_timeseries_plot.plot_series = { key: power_consumption_timeseries_plot.plot_series[key] for key in power_consumption_timeseries_plot.plot_series if (key.startswith(\"CPU 0\") and (not key.startswith(\"CPU 0 Core\") or key.startswith(\"CPU 0 Core 0\"))) or key.startswith(\"GPU 0\") or key.startswith(\"Node\")}\n",
    "power_consumption_timeseries_plot.plot()"
   ]
  },
  {
   "cell_type": "markdown",
   "metadata": {},
   "source": [
    "### Energy Consumption\n",
    "\n",
    "The graphs below shows the total energy consumption over time."
   ]
  },
  {
   "cell_type": "code",
   "execution_count": 12,
   "metadata": {
    "pycharm": {
     "name": "#%%\n"
    }
   },
   "outputs": [
    {
     "data": {
      "application/vnd.jupyter.widget-view+json": {
       "model_id": "47a6788c67a74bb7b6d6eb8778aeaac3",
       "version_major": 2,
       "version_minor": 0
      },
      "text/plain": [
       "Canvas(toolbar=Toolbar(toolitems=[('Home', 'Reset original view', 'home', 'home'), ('Back', 'Back to previous …"
      ]
     },
     "metadata": {},
     "output_type": "display_data"
    },
    {
     "data": {
      "application/vnd.jupyter.widget-view+json": {
       "model_id": "741df478aab44468982a6b39f0062031",
       "version_major": 2,
       "version_minor": 0
      },
      "text/plain": [
       "Canvas(toolbar=Toolbar(toolitems=[('Home', 'Reset original view', 'home', 'home'), ('Back', 'Back to previous …"
      ]
     },
     "metadata": {},
     "output_type": "display_data"
    }
   ],
   "source": [
    "# Plot in Joules\n",
    "energy_consumption_plot_j = data_set.data[0].energy_consumption_timeseries_plot()\n",
    "energy_consumption_plot_j.plot_series = { key: energy_consumption_plot_j.plot_series[key] for key in energy_consumption_plot_j.plot_series if (key.startswith(\"CPU 0\") and (not key.startswith(\"CPU 0 Core\") or key.startswith(\"CPU 0 Core 0\"))) or key.startswith(\"GPU 0\") or key.startswith(\"Node\")}\n",
    "energy_consumption_plot_j.plot()\n",
    "\n",
    "# Plot in Watt Hours\n",
    "energy_consumption_plot_wh = data_set.data[0].energy_consumption_timeseries_plot(unit_string=\"Wh\", modifier=Plot.j_to_wh)\n",
    "energy_consumption_plot_wh.plot_series = { key: energy_consumption_plot_wh.plot_series[key] for key in energy_consumption_plot_wh.plot_series if (key.startswith(\"CPU 0\") and (not key.startswith(\"CPU 0 Core\") or key.startswith(\"CPU 0 Core 0\"))) or key.startswith(\"GPU 0\") or key.startswith(\"Node\")}\n",
    "energy_consumption_plot_wh.plot()"
   ]
  },
  {
   "cell_type": "markdown",
   "metadata": {},
   "source": [
    "### Fan Speed\n",
    "\n",
    "The graphs below shows the fan speed over time."
   ]
  },
  {
   "cell_type": "code",
   "execution_count": 13,
   "metadata": {
    "pycharm": {
     "name": "#%%\n"
    }
   },
   "outputs": [
    {
     "data": {
      "application/vnd.jupyter.widget-view+json": {
       "model_id": "2189daff30884928bcab18906e7a72ba",
       "version_major": 2,
       "version_minor": 0
      },
      "text/plain": [
       "Canvas(toolbar=Toolbar(toolitems=[('Home', 'Reset original view', 'home', 'home'), ('Back', 'Back to previous …"
      ]
     },
     "metadata": {},
     "output_type": "display_data"
    },
    {
     "name": "stderr",
     "output_type": "stream",
     "text": [
      "/data/Cloud/Nextcloud/Education/Vrije Universiteit/Master Project/Project/Visualizer/Source/Visualizer/Plotting/AxesPlot.py:86: UserWarning: Attempting to set identical bottom == top == 0 results in singular transformations; automatically expanding.\n",
      "  setter(((minimum - abs(0.1 * minimum)) if minimum < 0 else 0) if self_minimum is None else self_minimum, (maximum + abs(0.1 * maximum)) if self_maximum is None else self_maximum)\n"
     ]
    }
   ],
   "source": [
    "data_set.data[0].fan_speed_timeseries_plot.plot()"
   ]
  },
  {
   "cell_type": "markdown",
   "metadata": {},
   "source": [
    "### Memory Consumption\n",
    "\n",
    "The graphs below shows the memory consumption over time."
   ]
  },
  {
   "cell_type": "code",
   "execution_count": 14,
   "metadata": {
    "pycharm": {
     "name": "#%%\n"
    }
   },
   "outputs": [
    {
     "data": {
      "application/vnd.jupyter.widget-view+json": {
       "model_id": "8745814e988049738c2b14f81bc5552b",
       "version_major": 2,
       "version_minor": 0
      },
      "text/plain": [
       "Canvas(toolbar=Toolbar(toolitems=[('Home', 'Reset original view', 'home', 'home'), ('Back', 'Back to previous …"
      ]
     },
     "metadata": {},
     "output_type": "display_data"
    }
   ],
   "source": [
    "data_set.data[0].memory_consumption_timeseries_plot(plot_sizes=True).plot()"
   ]
  },
  {
   "cell_type": "markdown",
   "metadata": {},
   "source": [
    "### Processes\n",
    "\n",
    "The graphs below shows the amount of processes over time."
   ]
  },
  {
   "cell_type": "code",
   "execution_count": 15,
   "metadata": {
    "pycharm": {
     "name": "#%%\n"
    }
   },
   "outputs": [
    {
     "data": {
      "application/vnd.jupyter.widget-view+json": {
       "model_id": "10605b5fdd204b83a5d076446c1aff30",
       "version_major": 2,
       "version_minor": 0
      },
      "text/plain": [
       "Canvas(toolbar=Toolbar(toolitems=[('Home', 'Reset original view', 'home', 'home'), ('Back', 'Back to previous …"
      ]
     },
     "metadata": {},
     "output_type": "display_data"
    }
   ],
   "source": [
    "data_set.data[0].processes_timeseries_plot.plot()"
   ]
  },
  {
   "cell_type": "markdown",
   "metadata": {},
   "source": [
    "### Temperature\n",
    "\n",
    "The graphs below shows the temperature over time."
   ]
  },
  {
   "cell_type": "code",
   "execution_count": 16,
   "metadata": {
    "pycharm": {
     "name": "#%%\n"
    }
   },
   "outputs": [
    {
     "data": {
      "application/vnd.jupyter.widget-view+json": {
       "model_id": "f641664053b84990aee572a858051613",
       "version_major": 2,
       "version_minor": 0
      },
      "text/plain": [
       "Canvas(toolbar=Toolbar(toolitems=[('Home', 'Reset original view', 'home', 'home'), ('Back', 'Back to previous …"
      ]
     },
     "metadata": {},
     "output_type": "display_data"
    }
   ],
   "source": [
    "temperature_timeseries_plot = data_set.data[0].temperature_timeseries_plot\n",
    "temperature_timeseries_plot.plot_series = { key: temperature_timeseries_plot.plot_series[key] for key in temperature_timeseries_plot.plot_series if (key.startswith(\"CPU 0\") and (not key.startswith(\"CPU 0 Core\") or key.startswith(\"CPU 0 Core 0\"))) or key.startswith(\"GPU 0\") or key.startswith(\"Node\")}\n",
    "temperature_timeseries_plot.plot()"
   ]
  },
  {
   "cell_type": "markdown",
   "metadata": {},
   "source": [
    "### Correlations\n",
    "\n",
    "The graphs below shows the Pearson correlation heatmap for each performance variable."
   ]
  },
  {
   "cell_type": "code",
   "execution_count": 17,
   "metadata": {
    "pycharm": {
     "name": "#%%\n"
    }
   },
   "outputs": [
    {
     "data": {
      "application/vnd.jupyter.widget-view+json": {
       "model_id": "265ae34560c64401ab7a5ac4dd4224ae",
       "version_major": 2,
       "version_minor": 0
      },
      "text/plain": [
       "Canvas(toolbar=Toolbar(toolitems=[('Home', 'Reset original view', 'home', 'home'), ('Back', 'Back to previous …"
      ]
     },
     "metadata": {},
     "output_type": "display_data"
    },
    {
     "data": {
      "application/vnd.jupyter.widget-view+json": {
       "model_id": "0e0b8c232edb4437b8759b23c45a7154",
       "version_major": 2,
       "version_minor": 0
      },
      "text/plain": [
       "Canvas(toolbar=Toolbar(toolitems=[('Home', 'Reset original view', 'home', 'home'), ('Back', 'Back to previous …"
      ]
     },
     "metadata": {},
     "output_type": "display_data"
    }
   ],
   "source": [
    "data_set.data[0].monitor_data_correlations_plot.plot()\n"
   ]
  }
 ],
 "metadata": {
  "kernelspec": {
   "display_name": "Python 3",
   "language": "python",
   "name": "python3"
  },
  "language_info": {
   "codemirror_mode": {
    "name": "ipython",
    "version": 3
   },
   "file_extension": ".py",
   "mimetype": "text/x-python",
   "name": "python",
   "nbconvert_exporter": "python",
   "pygments_lexer": "ipython3",
   "version": "3.8.5"
  },
  "widgets": {
   "application/vnd.jupyter.widget-state+json": {
    "state": {
     "0dc25b156cf44ab5b6b13a5c139b2f47": {
      "model_module": "jupyter-matplotlib",
      "model_module_version": "^0.7.4",
      "model_name": "ToolbarModel",
      "state": {
       "layout": "IPY_MODEL_1a5951e576da4938b6e029de1dfd5d0d",
       "toolitems": [
        [
         "Home",
         "Reset original view",
         "home",
         "home"
        ],
        [
         "Back",
         "Back to previous view",
         "arrow-left",
         "back"
        ],
        [
         "Forward",
         "Forward to next view",
         "arrow-right",
         "forward"
        ],
        [
         "Pan",
         "Left button pans, Right button zooms\nx/y fixes axis, CTRL fixes aspect",
         "arrows",
         "pan"
        ],
        [
         "Zoom",
         "Zoom to rectangle\nx/y fixes axis, CTRL fixes aspect",
         "square-o",
         "zoom"
        ],
        [
         "Download",
         "Download plot",
         "floppy-o",
         "save_figure"
        ]
       ]
      }
     },
     "0e0b8c232edb4437b8759b23c45a7154": {
      "model_module": "jupyter-matplotlib",
      "model_module_version": "^0.7.4",
      "model_name": "MPLCanvasModel",
      "state": {
       "_cursor": "default",
       "_figure_label": "Figure 12",
       "_height": 2500,
       "_width": 7500,
       "layout": "IPY_MODEL_1beaabe7f56b44b9813752e77e90105b",
       "toolbar": "IPY_MODEL_49469ec8c9b34840a23edbd816a1209c",
       "toolbar_position": "left"
      }
     },
     "10605b5fdd204b83a5d076446c1aff30": {
      "model_module": "jupyter-matplotlib",
      "model_module_version": "^0.7.4",
      "model_name": "MPLCanvasModel",
      "state": {
       "_cursor": "default",
       "_figure_label": "Figure 9",
       "_height": 500,
       "_width": 1500,
       "layout": "IPY_MODEL_6957f08f5aed4875bd91953801dfbc7a",
       "toolbar": "IPY_MODEL_607304c96246424ebd842dbdd2121500",
       "toolbar_position": "left"
      }
     },
     "106ee8ff9bb74537a118b46a42c8260c": {
      "model_module": "@jupyter-widgets/base",
      "model_module_version": "1.2.0",
      "model_name": "LayoutModel",
      "state": {}
     },
     "1a5951e576da4938b6e029de1dfd5d0d": {
      "model_module": "@jupyter-widgets/base",
      "model_module_version": "1.2.0",
      "model_name": "LayoutModel",
      "state": {}
     },
     "1b2cb5842f6246b7b0c566e84c9b3cb4": {
      "model_module": "jupyter-matplotlib",
      "model_module_version": "^0.7.4",
      "model_name": "ToolbarModel",
      "state": {
       "layout": "IPY_MODEL_44bc6888161e4de3b0be0c6233f66895",
       "toolitems": [
        [
         "Home",
         "Reset original view",
         "home",
         "home"
        ],
        [
         "Back",
         "Back to previous view",
         "arrow-left",
         "back"
        ],
        [
         "Forward",
         "Forward to next view",
         "arrow-right",
         "forward"
        ],
        [
         "Pan",
         "Left button pans, Right button zooms\nx/y fixes axis, CTRL fixes aspect",
         "arrows",
         "pan"
        ],
        [
         "Zoom",
         "Zoom to rectangle\nx/y fixes axis, CTRL fixes aspect",
         "square-o",
         "zoom"
        ],
        [
         "Download",
         "Download plot",
         "floppy-o",
         "save_figure"
        ]
       ]
      }
     },
     "1beaabe7f56b44b9813752e77e90105b": {
      "model_module": "@jupyter-widgets/base",
      "model_module_version": "1.2.0",
      "model_name": "LayoutModel",
      "state": {}
     },
     "1d3b6e19cfd043a898770710649d6c93": {
      "model_module": "jupyter-matplotlib",
      "model_module_version": "^0.7.4",
      "model_name": "ToolbarModel",
      "state": {
       "layout": "IPY_MODEL_c49d871a63364ae3b9c1696b62f9c797",
       "toolitems": [
        [
         "Home",
         "Reset original view",
         "home",
         "home"
        ],
        [
         "Back",
         "Back to previous view",
         "arrow-left",
         "back"
        ],
        [
         "Forward",
         "Forward to next view",
         "arrow-right",
         "forward"
        ],
        [
         "Pan",
         "Left button pans, Right button zooms\nx/y fixes axis, CTRL fixes aspect",
         "arrows",
         "pan"
        ],
        [
         "Zoom",
         "Zoom to rectangle\nx/y fixes axis, CTRL fixes aspect",
         "square-o",
         "zoom"
        ],
        [
         "Download",
         "Download plot",
         "floppy-o",
         "save_figure"
        ]
       ]
      }
     },
     "2189daff30884928bcab18906e7a72ba": {
      "model_module": "jupyter-matplotlib",
      "model_module_version": "^0.7.4",
      "model_name": "MPLCanvasModel",
      "state": {
       "_cursor": "default",
       "_figure_label": "Figure 7",
       "_height": 500,
       "_width": 1500,
       "layout": "IPY_MODEL_51fe68078e814aab9ddbf5273f12fdd3",
       "toolbar": "IPY_MODEL_b1a9800366a241b7a6e1031e09ecc507",
       "toolbar_position": "left"
      }
     },
     "265ae34560c64401ab7a5ac4dd4224ae": {
      "model_module": "jupyter-matplotlib",
      "model_module_version": "^0.7.4",
      "model_name": "MPLCanvasModel",
      "state": {
       "_cursor": "default",
       "_figure_label": "Figure 11",
       "_height": 500,
       "_width": 1500,
       "layout": "IPY_MODEL_9ffbcf6dd9d34a9fa488d79fc7673550",
       "toolbar": "IPY_MODEL_b71de4331b0c4d46a31f98e78f45085a",
       "toolbar_position": "left"
      }
     },
     "2dcc8f8ac6d64ad0b88cae0d9210e4b5": {
      "model_module": "@jupyter-widgets/base",
      "model_module_version": "1.2.0",
      "model_name": "LayoutModel",
      "state": {}
     },
     "3f2e5824ec4145ddb9e446ddcb51d76c": {
      "model_module": "@jupyter-widgets/base",
      "model_module_version": "1.2.0",
      "model_name": "LayoutModel",
      "state": {}
     },
     "44bc6888161e4de3b0be0c6233f66895": {
      "model_module": "@jupyter-widgets/base",
      "model_module_version": "1.2.0",
      "model_name": "LayoutModel",
      "state": {}
     },
     "47a6788c67a74bb7b6d6eb8778aeaac3": {
      "model_module": "jupyter-matplotlib",
      "model_module_version": "^0.7.4",
      "model_name": "MPLCanvasModel",
      "state": {
       "_cursor": "default",
       "_figure_label": "Figure 5",
       "_height": 500,
       "_width": 1500,
       "layout": "IPY_MODEL_c674b99af48e4e27a50e97a7d8dc3c51",
       "toolbar": "IPY_MODEL_53b23b7038984ca58f5b5409768d4f8c",
       "toolbar_position": "left"
      }
     },
     "49469ec8c9b34840a23edbd816a1209c": {
      "model_module": "jupyter-matplotlib",
      "model_module_version": "^0.7.4",
      "model_name": "ToolbarModel",
      "state": {
       "layout": "IPY_MODEL_64fefcd04696446aac6d6be8f5768b14",
       "toolitems": [
        [
         "Home",
         "Reset original view",
         "home",
         "home"
        ],
        [
         "Back",
         "Back to previous view",
         "arrow-left",
         "back"
        ],
        [
         "Forward",
         "Forward to next view",
         "arrow-right",
         "forward"
        ],
        [
         "Pan",
         "Left button pans, Right button zooms\nx/y fixes axis, CTRL fixes aspect",
         "arrows",
         "pan"
        ],
        [
         "Zoom",
         "Zoom to rectangle\nx/y fixes axis, CTRL fixes aspect",
         "square-o",
         "zoom"
        ],
        [
         "Download",
         "Download plot",
         "floppy-o",
         "save_figure"
        ]
       ]
      }
     },
     "4d480cd89a4c427ebfea70aad27043e3": {
      "model_module": "jupyter-matplotlib",
      "model_module_version": "^0.7.4",
      "model_name": "MPLCanvasModel",
      "state": {
       "_cursor": "default",
       "_figure_label": "Figure 3",
       "_height": 500,
       "_image_mode": "diff",
       "_width": 1500,
       "layout": "IPY_MODEL_5f5e47c4af2b439c8066a0bda9ae93e5",
       "toolbar": "IPY_MODEL_920c022fc6d54c77aa2a3579b02e0a4e",
       "toolbar_position": "left"
      }
     },
     "4dd1629cc32743759d6f6a16136bd919": {
      "model_module": "@jupyter-widgets/base",
      "model_module_version": "1.2.0",
      "model_name": "LayoutModel",
      "state": {}
     },
     "50e4a905af8e4c0d9402c43da11cbf48": {
      "model_module": "@jupyter-widgets/base",
      "model_module_version": "1.2.0",
      "model_name": "LayoutModel",
      "state": {}
     },
     "51fe68078e814aab9ddbf5273f12fdd3": {
      "model_module": "@jupyter-widgets/base",
      "model_module_version": "1.2.0",
      "model_name": "LayoutModel",
      "state": {}
     },
     "52f22b94026b4040aa9c912493408acd": {
      "model_module": "jupyter-matplotlib",
      "model_module_version": "^0.7.4",
      "model_name": "MPLCanvasModel",
      "state": {
       "_cursor": "default",
       "_figure_label": "Figure 2",
       "_height": 500,
       "_image_mode": "diff",
       "_width": 1500,
       "layout": "IPY_MODEL_5fa8854800bd4c659d3741b7494e0877",
       "toolbar": "IPY_MODEL_d2c1fe7d46014ab18cc06fc06781f5b2",
       "toolbar_position": "left"
      }
     },
     "53b23b7038984ca58f5b5409768d4f8c": {
      "model_module": "jupyter-matplotlib",
      "model_module_version": "^0.7.4",
      "model_name": "ToolbarModel",
      "state": {
       "layout": "IPY_MODEL_6f245cc1cac647dc92465828133311a4",
       "toolitems": [
        [
         "Home",
         "Reset original view",
         "home",
         "home"
        ],
        [
         "Back",
         "Back to previous view",
         "arrow-left",
         "back"
        ],
        [
         "Forward",
         "Forward to next view",
         "arrow-right",
         "forward"
        ],
        [
         "Pan",
         "Left button pans, Right button zooms\nx/y fixes axis, CTRL fixes aspect",
         "arrows",
         "pan"
        ],
        [
         "Zoom",
         "Zoom to rectangle\nx/y fixes axis, CTRL fixes aspect",
         "square-o",
         "zoom"
        ],
        [
         "Download",
         "Download plot",
         "floppy-o",
         "save_figure"
        ]
       ]
      }
     },
     "5656ef1e5eb84b51af99aec54ea391ec": {
      "model_module": "@jupyter-widgets/base",
      "model_module_version": "1.2.0",
      "model_name": "LayoutModel",
      "state": {}
     },
     "5f5e47c4af2b439c8066a0bda9ae93e5": {
      "model_module": "@jupyter-widgets/base",
      "model_module_version": "1.2.0",
      "model_name": "LayoutModel",
      "state": {}
     },
     "5f6529767d024578b8695266bfa375ff": {
      "model_module": "@jupyter-widgets/base",
      "model_module_version": "1.2.0",
      "model_name": "LayoutModel",
      "state": {}
     },
     "5fa8854800bd4c659d3741b7494e0877": {
      "model_module": "@jupyter-widgets/base",
      "model_module_version": "1.2.0",
      "model_name": "LayoutModel",
      "state": {}
     },
     "607304c96246424ebd842dbdd2121500": {
      "model_module": "jupyter-matplotlib",
      "model_module_version": "^0.7.4",
      "model_name": "ToolbarModel",
      "state": {
       "layout": "IPY_MODEL_4dd1629cc32743759d6f6a16136bd919",
       "toolitems": [
        [
         "Home",
         "Reset original view",
         "home",
         "home"
        ],
        [
         "Back",
         "Back to previous view",
         "arrow-left",
         "back"
        ],
        [
         "Forward",
         "Forward to next view",
         "arrow-right",
         "forward"
        ],
        [
         "Pan",
         "Left button pans, Right button zooms\nx/y fixes axis, CTRL fixes aspect",
         "arrows",
         "pan"
        ],
        [
         "Zoom",
         "Zoom to rectangle\nx/y fixes axis, CTRL fixes aspect",
         "square-o",
         "zoom"
        ],
        [
         "Download",
         "Download plot",
         "floppy-o",
         "save_figure"
        ]
       ]
      }
     },
     "6284137b8bbb4eeb9d892ff51bebdc33": {
      "model_module": "jupyter-matplotlib",
      "model_module_version": "^0.7.4",
      "model_name": "MPLCanvasModel",
      "state": {
       "_cursor": "default",
       "_figure_label": "Figure 1",
       "_height": 500,
       "_width": 1500,
       "layout": "IPY_MODEL_e2db2af8ba964753afb5d643684ac61a",
       "toolbar": "IPY_MODEL_1b2cb5842f6246b7b0c566e84c9b3cb4",
       "toolbar_position": "left"
      }
     },
     "64fefcd04696446aac6d6be8f5768b14": {
      "model_module": "@jupyter-widgets/base",
      "model_module_version": "1.2.0",
      "model_name": "LayoutModel",
      "state": {}
     },
     "6957f08f5aed4875bd91953801dfbc7a": {
      "model_module": "@jupyter-widgets/base",
      "model_module_version": "1.2.0",
      "model_name": "LayoutModel",
      "state": {}
     },
     "6f245cc1cac647dc92465828133311a4": {
      "model_module": "@jupyter-widgets/base",
      "model_module_version": "1.2.0",
      "model_name": "LayoutModel",
      "state": {}
     },
     "741df478aab44468982a6b39f0062031": {
      "model_module": "jupyter-matplotlib",
      "model_module_version": "^0.7.4",
      "model_name": "MPLCanvasModel",
      "state": {
       "_cursor": "default",
       "_figure_label": "Figure 6",
       "_height": 500,
       "_width": 1500,
       "layout": "IPY_MODEL_b6010caaa9634f8ab4dd7868bd9e1504",
       "toolbar": "IPY_MODEL_0dc25b156cf44ab5b6b13a5c139b2f47",
       "toolbar_position": "left"
      }
     },
     "7a440510b6cb4f4c812fcc5e5692b94e": {
      "model_module": "jupyter-matplotlib",
      "model_module_version": "^0.7.4",
      "model_name": "MPLCanvasModel",
      "state": {
       "_cursor": "default",
       "_figure_label": "Figure 4",
       "_height": 500,
       "_width": 1500,
       "layout": "IPY_MODEL_50e4a905af8e4c0d9402c43da11cbf48",
       "toolbar": "IPY_MODEL_1d3b6e19cfd043a898770710649d6c93",
       "toolbar_position": "left"
      }
     },
     "7a5c9e55b21140df8dbaa46a77a33b00": {
      "model_module": "@jupyter-widgets/base",
      "model_module_version": "1.2.0",
      "model_name": "LayoutModel",
      "state": {}
     },
     "8348fe357a354ad5a4e1c0953dbb59a3": {
      "model_module": "@jupyter-widgets/base",
      "model_module_version": "1.2.0",
      "model_name": "LayoutModel",
      "state": {}
     },
     "8745814e988049738c2b14f81bc5552b": {
      "model_module": "jupyter-matplotlib",
      "model_module_version": "^0.7.4",
      "model_name": "MPLCanvasModel",
      "state": {
       "_cursor": "default",
       "_figure_label": "Figure 8",
       "_height": 500,
       "_width": 1500,
       "layout": "IPY_MODEL_5f6529767d024578b8695266bfa375ff",
       "toolbar": "IPY_MODEL_d4b32b65800d4a4199031e6f77c96b04",
       "toolbar_position": "left"
      }
     },
     "920c022fc6d54c77aa2a3579b02e0a4e": {
      "model_module": "jupyter-matplotlib",
      "model_module_version": "^0.7.4",
      "model_name": "ToolbarModel",
      "state": {
       "layout": "IPY_MODEL_8348fe357a354ad5a4e1c0953dbb59a3",
       "toolitems": [
        [
         "Home",
         "Reset original view",
         "home",
         "home"
        ],
        [
         "Back",
         "Back to previous view",
         "arrow-left",
         "back"
        ],
        [
         "Forward",
         "Forward to next view",
         "arrow-right",
         "forward"
        ],
        [
         "Pan",
         "Left button pans, Right button zooms\nx/y fixes axis, CTRL fixes aspect",
         "arrows",
         "pan"
        ],
        [
         "Zoom",
         "Zoom to rectangle\nx/y fixes axis, CTRL fixes aspect",
         "square-o",
         "zoom"
        ],
        [
         "Download",
         "Download plot",
         "floppy-o",
         "save_figure"
        ]
       ]
      }
     },
     "9ffbcf6dd9d34a9fa488d79fc7673550": {
      "model_module": "@jupyter-widgets/base",
      "model_module_version": "1.2.0",
      "model_name": "LayoutModel",
      "state": {}
     },
     "b1a9800366a241b7a6e1031e09ecc507": {
      "model_module": "jupyter-matplotlib",
      "model_module_version": "^0.7.4",
      "model_name": "ToolbarModel",
      "state": {
       "layout": "IPY_MODEL_5656ef1e5eb84b51af99aec54ea391ec",
       "toolitems": [
        [
         "Home",
         "Reset original view",
         "home",
         "home"
        ],
        [
         "Back",
         "Back to previous view",
         "arrow-left",
         "back"
        ],
        [
         "Forward",
         "Forward to next view",
         "arrow-right",
         "forward"
        ],
        [
         "Pan",
         "Left button pans, Right button zooms\nx/y fixes axis, CTRL fixes aspect",
         "arrows",
         "pan"
        ],
        [
         "Zoom",
         "Zoom to rectangle\nx/y fixes axis, CTRL fixes aspect",
         "square-o",
         "zoom"
        ],
        [
         "Download",
         "Download plot",
         "floppy-o",
         "save_figure"
        ]
       ]
      }
     },
     "b6010caaa9634f8ab4dd7868bd9e1504": {
      "model_module": "@jupyter-widgets/base",
      "model_module_version": "1.2.0",
      "model_name": "LayoutModel",
      "state": {}
     },
     "b71de4331b0c4d46a31f98e78f45085a": {
      "model_module": "jupyter-matplotlib",
      "model_module_version": "^0.7.4",
      "model_name": "ToolbarModel",
      "state": {
       "layout": "IPY_MODEL_7a5c9e55b21140df8dbaa46a77a33b00",
       "toolitems": [
        [
         "Home",
         "Reset original view",
         "home",
         "home"
        ],
        [
         "Back",
         "Back to previous view",
         "arrow-left",
         "back"
        ],
        [
         "Forward",
         "Forward to next view",
         "arrow-right",
         "forward"
        ],
        [
         "Pan",
         "Left button pans, Right button zooms\nx/y fixes axis, CTRL fixes aspect",
         "arrows",
         "pan"
        ],
        [
         "Zoom",
         "Zoom to rectangle\nx/y fixes axis, CTRL fixes aspect",
         "square-o",
         "zoom"
        ],
        [
         "Download",
         "Download plot",
         "floppy-o",
         "save_figure"
        ]
       ]
      }
     },
     "c49d871a63364ae3b9c1696b62f9c797": {
      "model_module": "@jupyter-widgets/base",
      "model_module_version": "1.2.0",
      "model_name": "LayoutModel",
      "state": {}
     },
     "c674b99af48e4e27a50e97a7d8dc3c51": {
      "model_module": "@jupyter-widgets/base",
      "model_module_version": "1.2.0",
      "model_name": "LayoutModel",
      "state": {}
     },
     "d2c1fe7d46014ab18cc06fc06781f5b2": {
      "model_module": "jupyter-matplotlib",
      "model_module_version": "^0.7.4",
      "model_name": "ToolbarModel",
      "state": {
       "layout": "IPY_MODEL_ff7ab2048edd4bb284b1d1cfd3ab7780",
       "toolitems": [
        [
         "Home",
         "Reset original view",
         "home",
         "home"
        ],
        [
         "Back",
         "Back to previous view",
         "arrow-left",
         "back"
        ],
        [
         "Forward",
         "Forward to next view",
         "arrow-right",
         "forward"
        ],
        [
         "Pan",
         "Left button pans, Right button zooms\nx/y fixes axis, CTRL fixes aspect",
         "arrows",
         "pan"
        ],
        [
         "Zoom",
         "Zoom to rectangle\nx/y fixes axis, CTRL fixes aspect",
         "square-o",
         "zoom"
        ],
        [
         "Download",
         "Download plot",
         "floppy-o",
         "save_figure"
        ]
       ]
      }
     },
     "d4b32b65800d4a4199031e6f77c96b04": {
      "model_module": "jupyter-matplotlib",
      "model_module_version": "^0.7.4",
      "model_name": "ToolbarModel",
      "state": {
       "layout": "IPY_MODEL_2dcc8f8ac6d64ad0b88cae0d9210e4b5",
       "toolitems": [
        [
         "Home",
         "Reset original view",
         "home",
         "home"
        ],
        [
         "Back",
         "Back to previous view",
         "arrow-left",
         "back"
        ],
        [
         "Forward",
         "Forward to next view",
         "arrow-right",
         "forward"
        ],
        [
         "Pan",
         "Left button pans, Right button zooms\nx/y fixes axis, CTRL fixes aspect",
         "arrows",
         "pan"
        ],
        [
         "Zoom",
         "Zoom to rectangle\nx/y fixes axis, CTRL fixes aspect",
         "square-o",
         "zoom"
        ],
        [
         "Download",
         "Download plot",
         "floppy-o",
         "save_figure"
        ]
       ]
      }
     },
     "e2db2af8ba964753afb5d643684ac61a": {
      "model_module": "@jupyter-widgets/base",
      "model_module_version": "1.2.0",
      "model_name": "LayoutModel",
      "state": {}
     },
     "f08679ee5b194ec796a99c35d0415009": {
      "model_module": "jupyter-matplotlib",
      "model_module_version": "^0.7.4",
      "model_name": "ToolbarModel",
      "state": {
       "layout": "IPY_MODEL_3f2e5824ec4145ddb9e446ddcb51d76c",
       "toolitems": [
        [
         "Home",
         "Reset original view",
         "home",
         "home"
        ],
        [
         "Back",
         "Back to previous view",
         "arrow-left",
         "back"
        ],
        [
         "Forward",
         "Forward to next view",
         "arrow-right",
         "forward"
        ],
        [
         "Pan",
         "Left button pans, Right button zooms\nx/y fixes axis, CTRL fixes aspect",
         "arrows",
         "pan"
        ],
        [
         "Zoom",
         "Zoom to rectangle\nx/y fixes axis, CTRL fixes aspect",
         "square-o",
         "zoom"
        ],
        [
         "Download",
         "Download plot",
         "floppy-o",
         "save_figure"
        ]
       ]
      }
     },
     "f641664053b84990aee572a858051613": {
      "model_module": "jupyter-matplotlib",
      "model_module_version": "^0.7.4",
      "model_name": "MPLCanvasModel",
      "state": {
       "_cursor": "default",
       "_figure_label": "Figure 10",
       "_height": 500,
       "_width": 1500,
       "layout": "IPY_MODEL_106ee8ff9bb74537a118b46a42c8260c",
       "toolbar": "IPY_MODEL_f08679ee5b194ec796a99c35d0415009",
       "toolbar_position": "left"
      }
     },
     "ff7ab2048edd4bb284b1d1cfd3ab7780": {
      "model_module": "@jupyter-widgets/base",
      "model_module_version": "1.2.0",
      "model_name": "LayoutModel",
      "state": {}
     }
    },
    "version_major": 2,
    "version_minor": 0
   }
  }
 },
 "nbformat": 4,
 "nbformat_minor": 4
}
