{
 "cells": [
  {
   "cell_type": "code",
   "execution_count": 1,
   "metadata": {
    "pycharm": {
     "name": "#%%\n"
    }
   },
   "outputs": [],
   "source": [
    "%matplotlib widget\n",
    "\n",
    "import pathlib\n",
    "import pprint\n",
    "\n",
    "from Visualizer.DataSet import DataSet\n",
    "from Visualizer.Monitoring.Persistence.ProfilerSession import ProfilerSession\n",
    "from Visualizer.Plotting.Plot import Plot"
   ]
  },
  {
   "cell_type": "markdown",
   "metadata": {},
   "source": [
    "# Profiler Session Visualizer\n",
    "\n",
    "This notebook can visualize a specific profiler session."
   ]
  },
  {
   "cell_type": "markdown",
   "metadata": {},
   "source": [
    "## Configuration\n",
    "\n",
    "Configure the project settings below.\n",
    "The default configuration should be okay.\n",
    "Make sure that you have run at least one profiler session with the EnergyManager and have generated a database, otherwise this notebook will fail."
   ]
  },
  {
   "cell_type": "code",
   "execution_count": 2,
   "metadata": {
    "pycharm": {
     "name": "#%%\n"
    }
   },
   "outputs": [],
   "source": [
    "source_directory = pathlib.Path().parent.absolute()\n",
    "project_directory = f\"{source_directory}/..\"\n",
    "database = f\"{project_directory}/../EnergyManager/Resources/Test Results/database.sqlite\""
   ]
  },
  {
   "cell_type": "markdown",
   "metadata": {},
   "source": [
    "## Profiler Sessions Overview\n",
    "\n",
    "Below all profiler sessions are shown."
   ]
  },
  {
   "cell_type": "code",
   "execution_count": 3,
   "metadata": {
    "pycharm": {
     "name": "#%%\n"
    }
   },
   "outputs": [
    {
     "data": {
      "text/html": [
       "<div>\n",
       "<style scoped>\n",
       "    .dataframe tbody tr th:only-of-type {\n",
       "        vertical-align: middle;\n",
       "    }\n",
       "\n",
       "    .dataframe tbody tr th {\n",
       "        vertical-align: top;\n",
       "    }\n",
       "\n",
       "    .dataframe thead th {\n",
       "        text-align: right;\n",
       "    }\n",
       "</style>\n",
       "<table border=\"1\" class=\"dataframe\">\n",
       "  <thead>\n",
       "    <tr style=\"text-align: right;\">\n",
       "      <th></th>\n",
       "      <th>ID</th>\n",
       "      <th>Label</th>\n",
       "      <th>Profile</th>\n",
       "    </tr>\n",
       "  </thead>\n",
       "  <tbody>\n",
       "    <tr>\n",
       "      <th>0</th>\n",
       "      <td>1</td>\n",
       "      <td>Fixed Frequency Matrix Multiply</td>\n",
       "      <td>{'core': 0, 'gpu': 0, 'matrixAHeight': 960, 'matrixAWidth': 960, 'matrixBHeight': 960, 'matrixBWidth': 960, 'maximumCPUClockRate': 8137931024, 'maximumGPUClockRate': 1797931266, 'minimumCPUClockRate': 8137931024, 'minimumGPUClockRate': 1797931266}</td>\n",
       "    </tr>\n",
       "    <tr>\n",
       "      <th>1</th>\n",
       "      <td>2</td>\n",
       "      <td>Fixed Frequency Matrix Multiply</td>\n",
       "      <td>{'core': 0, 'gpu': 0, 'matrixAHeight': 960, 'matrixAWidth': 960, 'matrixBHeight': 960, 'matrixBWidth': 960, 'maximumCPUClockRate': 8137931024, 'maximumGPUClockRate': 1797931266, 'minimumCPUClockRate': 8137931024, 'minimumGPUClockRate': 1797931266}</td>\n",
       "    </tr>\n",
       "    <tr>\n",
       "      <th>2</th>\n",
       "      <td>3</td>\n",
       "      <td>Fixed Frequency Matrix Multiply</td>\n",
       "      <td>{'core': 0, 'gpu': 0, 'matrixAHeight': 960, 'matrixAWidth': 960, 'matrixBHeight': 960, 'matrixBWidth': 960, 'maximumCPUClockRate': 8137931024, 'maximumGPUClockRate': 1797931266, 'minimumCPUClockRate': 8137931024, 'minimumGPUClockRate': 1797931266}</td>\n",
       "    </tr>\n",
       "    <tr>\n",
       "      <th>3</th>\n",
       "      <td>4</td>\n",
       "      <td>Fixed Frequency Matrix Multiply</td>\n",
       "      <td>{'core': 0, 'gpu': 0, 'matrixAHeight': 960, 'matrixAWidth': 960, 'matrixBHeight': 960, 'matrixBWidth': 960, 'maximumCPUClockRate': 7365517232, 'maximumGPUClockRate': 1716207163, 'minimumCPUClockRate': 7365517232, 'minimumGPUClockRate': 1716207163}</td>\n",
       "    </tr>\n",
       "    <tr>\n",
       "      <th>4</th>\n",
       "      <td>5</td>\n",
       "      <td>Fixed Frequency Matrix Multiply</td>\n",
       "      <td>{'core': 0, 'gpu': 0, 'matrixAHeight': 960, 'matrixAWidth': 960, 'matrixBHeight': 960, 'matrixBWidth': 960, 'maximumCPUClockRate': 7365517232, 'maximumGPUClockRate': 1716207163, 'minimumCPUClockRate': 7365517232, 'minimumGPUClockRate': 1716207163}</td>\n",
       "    </tr>\n",
       "    <tr>\n",
       "      <th>5</th>\n",
       "      <td>6</td>\n",
       "      <td>Fixed Frequency Matrix Multiply</td>\n",
       "      <td>{'core': 0, 'gpu': 0, 'matrixAHeight': 960, 'matrixAWidth': 960, 'matrixBHeight': 960, 'matrixBWidth': 960, 'maximumCPUClockRate': 7365517232, 'maximumGPUClockRate': 1716207163, 'minimumCPUClockRate': 7365517232, 'minimumGPUClockRate': 1716207163}</td>\n",
       "    </tr>\n",
       "    <tr>\n",
       "      <th>6</th>\n",
       "      <td>7</td>\n",
       "      <td>Fixed Frequency Matrix Multiply</td>\n",
       "      <td>{'core': 0, 'gpu': 0, 'matrixAHeight': 960, 'matrixAWidth': 960, 'matrixBHeight': 960, 'matrixBWidth': 960, 'maximumCPUClockRate': 2731034480, 'maximumGPUClockRate': 163449206, 'minimumCPUClockRate': 2731034480, 'minimumGPUClockRate': 163449206}</td>\n",
       "    </tr>\n",
       "    <tr>\n",
       "      <th>7</th>\n",
       "      <td>8</td>\n",
       "      <td>Fixed Frequency Matrix Multiply</td>\n",
       "      <td>{'core': 0, 'gpu': 0, 'matrixAHeight': 960, 'matrixAWidth': 960, 'matrixBHeight': 960, 'matrixBWidth': 960, 'maximumCPUClockRate': 2731034480, 'maximumGPUClockRate': 163449206, 'minimumCPUClockRate': 2731034480, 'minimumGPUClockRate': 163449206}</td>\n",
       "    </tr>\n",
       "    <tr>\n",
       "      <th>8</th>\n",
       "      <td>9</td>\n",
       "      <td>Fixed Frequency Matrix Multiply</td>\n",
       "      <td>{'core': 0, 'gpu': 0, 'matrixAHeight': 960, 'matrixAWidth': 960, 'matrixBHeight': 960, 'matrixBWidth': 960, 'maximumCPUClockRate': 2731034480, 'maximumGPUClockRate': 163449206, 'minimumCPUClockRate': 2731034480, 'minimumGPUClockRate': 163449206}</td>\n",
       "    </tr>\n",
       "    <tr>\n",
       "      <th>9</th>\n",
       "      <td>10</td>\n",
       "      <td>Fixed Frequency Matrix Multiply</td>\n",
       "      <td>{'core': 0, 'gpu': 0, 'matrixAHeight': 960, 'matrixAWidth': 960, 'matrixBHeight': 960, 'matrixBWidth': 960, 'maximumCPUClockRate': 6593103440, 'maximumGPUClockRate': 1144138442, 'minimumCPUClockRate': 6593103440, 'minimumGPUClockRate': 1144138442}</td>\n",
       "    </tr>\n",
       "    <tr>\n",
       "      <th>10</th>\n",
       "      <td>11</td>\n",
       "      <td>Fixed Frequency Matrix Multiply</td>\n",
       "      <td>{'core': 0, 'gpu': 0, 'matrixAHeight': 960, 'matrixAWidth': 960, 'matrixBHeight': 960, 'matrixBWidth': 960, 'maximumCPUClockRate': 6593103440, 'maximumGPUClockRate': 1144138442, 'minimumCPUClockRate': 6593103440, 'minimumGPUClockRate': 1144138442}</td>\n",
       "    </tr>\n",
       "    <tr>\n",
       "      <th>11</th>\n",
       "      <td>12</td>\n",
       "      <td>Fixed Frequency Matrix Multiply</td>\n",
       "      <td>{'core': 0, 'gpu': 0, 'matrixAHeight': 960, 'matrixAWidth': 960, 'matrixBHeight': 960, 'matrixBWidth': 960, 'maximumCPUClockRate': 6593103440, 'maximumGPUClockRate': 1144138442, 'minimumCPUClockRate': 6593103440, 'minimumGPUClockRate': 1144138442}</td>\n",
       "    </tr>\n",
       "    <tr>\n",
       "      <th>12</th>\n",
       "      <td>13</td>\n",
       "      <td>Fixed Frequency Matrix Multiply</td>\n",
       "      <td>{'core': 0, 'gpu': 0, 'matrixAHeight': 960, 'matrixAWidth': 960, 'matrixBHeight': 960, 'matrixBWidth': 960, 'maximumCPUClockRate': 8524137920, 'maximumGPUClockRate': 408621515, 'minimumCPUClockRate': 8524137920, 'minimumGPUClockRate': 408621515}</td>\n",
       "    </tr>\n",
       "    <tr>\n",
       "      <th>13</th>\n",
       "      <td>14</td>\n",
       "      <td>Fixed Frequency Matrix Multiply</td>\n",
       "      <td>{'core': 0, 'gpu': 0, 'matrixAHeight': 960, 'matrixAWidth': 960, 'matrixBHeight': 960, 'matrixBWidth': 960, 'maximumCPUClockRate': 8524137920, 'maximumGPUClockRate': 408621515, 'minimumCPUClockRate': 8524137920, 'minimumGPUClockRate': 408621515}</td>\n",
       "    </tr>\n",
       "    <tr>\n",
       "      <th>14</th>\n",
       "      <td>15</td>\n",
       "      <td>Fixed Frequency Matrix Multiply</td>\n",
       "      <td>{'core': 0, 'gpu': 0, 'matrixAHeight': 960, 'matrixAWidth': 960, 'matrixBHeight': 960, 'matrixBWidth': 960, 'maximumCPUClockRate': 8524137920, 'maximumGPUClockRate': 408621515, 'minimumCPUClockRate': 8524137920, 'minimumGPUClockRate': 408621515}</td>\n",
       "    </tr>\n",
       "    <tr>\n",
       "      <th>15</th>\n",
       "      <td>16</td>\n",
       "      <td>Fixed Frequency Matrix Multiply</td>\n",
       "      <td>{'core': 0, 'gpu': 0, 'matrixAHeight': 960, 'matrixAWidth': 960, 'matrixBHeight': 960, 'matrixBWidth': 960, 'maximumCPUClockRate': 11999999984, 'maximumGPUClockRate': 1225862545, 'minimumCPUClockRate': 11999999984, 'minimumGPUClockRate': 1225862545}</td>\n",
       "    </tr>\n",
       "    <tr>\n",
       "      <th>16</th>\n",
       "      <td>17</td>\n",
       "      <td>Fixed Frequency Matrix Multiply</td>\n",
       "      <td>{'core': 0, 'gpu': 0, 'matrixAHeight': 960, 'matrixAWidth': 960, 'matrixBHeight': 960, 'matrixBWidth': 960, 'maximumCPUClockRate': 11999999984, 'maximumGPUClockRate': 1225862545, 'minimumCPUClockRate': 11999999984, 'minimumGPUClockRate': 1225862545}</td>\n",
       "    </tr>\n",
       "    <tr>\n",
       "      <th>17</th>\n",
       "      <td>18</td>\n",
       "      <td>Fixed Frequency Matrix Multiply</td>\n",
       "      <td>{'core': 0, 'gpu': 0, 'matrixAHeight': 960, 'matrixAWidth': 960, 'matrixBHeight': 960, 'matrixBWidth': 960, 'maximumCPUClockRate': 11999999984, 'maximumGPUClockRate': 1225862545, 'minimumCPUClockRate': 11999999984, 'minimumGPUClockRate': 1225862545}</td>\n",
       "    </tr>\n",
       "    <tr>\n",
       "      <th>18</th>\n",
       "      <td>19</td>\n",
       "      <td>Fixed Frequency Matrix Multiply</td>\n",
       "      <td>{'core': 0, 'gpu': 0, 'matrixAHeight': 960, 'matrixAWidth': 960, 'matrixBHeight': 960, 'matrixBWidth': 960, 'maximumCPUClockRate': 6206896544, 'maximumGPUClockRate': 1961379472, 'minimumCPUClockRate': 6206896544, 'minimumGPUClockRate': 1961379472}</td>\n",
       "    </tr>\n",
       "    <tr>\n",
       "      <th>19</th>\n",
       "      <td>20</td>\n",
       "      <td>Fixed Frequency Matrix Multiply</td>\n",
       "      <td>{'core': 0, 'gpu': 0, 'matrixAHeight': 960, 'matrixAWidth': 960, 'matrixBHeight': 960, 'matrixBWidth': 960, 'maximumCPUClockRate': 6206896544, 'maximumGPUClockRate': 1961379472, 'minimumCPUClockRate': 6206896544, 'minimumGPUClockRate': 1961379472}</td>\n",
       "    </tr>\n",
       "    <tr>\n",
       "      <th>20</th>\n",
       "      <td>21</td>\n",
       "      <td>Fixed Frequency Matrix Multiply</td>\n",
       "      <td>{'core': 0, 'gpu': 0, 'matrixAHeight': 960, 'matrixAWidth': 960, 'matrixBHeight': 960, 'matrixBWidth': 960, 'maximumCPUClockRate': 6206896544, 'maximumGPUClockRate': 1961379472, 'minimumCPUClockRate': 6206896544, 'minimumGPUClockRate': 1961379472}</td>\n",
       "    </tr>\n",
       "    <tr>\n",
       "      <th>21</th>\n",
       "      <td>22</td>\n",
       "      <td>Fixed Frequency Matrix Multiply</td>\n",
       "      <td>{'core': 0, 'gpu': 0, 'matrixAHeight': 960, 'matrixAWidth': 960, 'matrixBHeight': 960, 'matrixBWidth': 960, 'maximumCPUClockRate': 6593103440, 'maximumGPUClockRate': 490345618, 'minimumCPUClockRate': 6593103440, 'minimumGPUClockRate': 490345618}</td>\n",
       "    </tr>\n",
       "    <tr>\n",
       "      <th>22</th>\n",
       "      <td>23</td>\n",
       "      <td>Fixed Frequency Matrix Multiply</td>\n",
       "      <td>{'core': 0, 'gpu': 0, 'matrixAHeight': 960, 'matrixAWidth': 960, 'matrixBHeight': 960, 'matrixBWidth': 960, 'maximumCPUClockRate': 6593103440, 'maximumGPUClockRate': 490345618, 'minimumCPUClockRate': 6593103440, 'minimumGPUClockRate': 490345618}</td>\n",
       "    </tr>\n",
       "    <tr>\n",
       "      <th>23</th>\n",
       "      <td>24</td>\n",
       "      <td>Fixed Frequency Matrix Multiply</td>\n",
       "      <td>{'core': 0, 'gpu': 0, 'matrixAHeight': 960, 'matrixAWidth': 960, 'matrixBHeight': 960, 'matrixBWidth': 960, 'maximumCPUClockRate': 6593103440, 'maximumGPUClockRate': 490345618, 'minimumCPUClockRate': 6593103440, 'minimumGPUClockRate': 490345618}</td>\n",
       "    </tr>\n",
       "    <tr>\n",
       "      <th>24</th>\n",
       "      <td>25</td>\n",
       "      <td>Fixed Frequency Matrix Multiply</td>\n",
       "      <td>{'core': 0, 'gpu': 0, 'matrixAHeight': 960, 'matrixAWidth': 960, 'matrixBHeight': 960, 'matrixBWidth': 960, 'maximumCPUClockRate': 8910344816, 'maximumGPUClockRate': 1307586648, 'minimumCPUClockRate': 8910344816, 'minimumGPUClockRate': 1307586648}</td>\n",
       "    </tr>\n",
       "    <tr>\n",
       "      <th>...</th>\n",
       "      <td>...</td>\n",
       "      <td>...</td>\n",
       "      <td>...</td>\n",
       "    </tr>\n",
       "    <tr>\n",
       "      <th>5100</th>\n",
       "      <td>5210</td>\n",
       "      <td>Fixed Frequency Matrix Multiply With Sleep</td>\n",
       "      <td>{'core': 0, 'gpu': 0, 'iterations': 3, 'matrixAHeight': 960, 'matrixAWidth': 960, 'matrixBHeight': 960, 'matrixBWidth': 960, 'maximumCPUClockRate': 11999999999, 'maximumGPUClockRate': 730000666, 'minimumCPUClockRate': 11999999999, 'minimumGPUClockRate': 730000666}</td>\n",
       "    </tr>\n",
       "    <tr>\n",
       "      <th>5101</th>\n",
       "      <td>5211</td>\n",
       "      <td>Fixed Frequency Matrix Multiply With Sleep</td>\n",
       "      <td>{'core': 0, 'gpu': 0, 'iterations': 3, 'matrixAHeight': 960, 'matrixAWidth': 960, 'matrixBHeight': 960, 'matrixBWidth': 960, 'maximumCPUClockRate': 800000000, 'maximumGPUClockRate': 1460000332, 'minimumCPUClockRate': 800000000, 'minimumGPUClockRate': 1460000332}</td>\n",
       "    </tr>\n",
       "    <tr>\n",
       "      <th>5102</th>\n",
       "      <td>5212</td>\n",
       "      <td>Fixed Frequency Matrix Multiply With Sleep</td>\n",
       "      <td>{'core': 0, 'gpu': 0, 'iterations': 3, 'matrixAHeight': 960, 'matrixAWidth': 960, 'matrixBHeight': 960, 'matrixBWidth': 960, 'maximumCPUClockRate': 800000000, 'maximumGPUClockRate': 1460000332, 'minimumCPUClockRate': 800000000, 'minimumGPUClockRate': 1460000332}</td>\n",
       "    </tr>\n",
       "    <tr>\n",
       "      <th>5103</th>\n",
       "      <td>5213</td>\n",
       "      <td>Fixed Frequency Matrix Multiply With Sleep</td>\n",
       "      <td>{'core': 0, 'gpu': 0, 'iterations': 3, 'matrixAHeight': 960, 'matrixAWidth': 960, 'matrixBHeight': 960, 'matrixBWidth': 960, 'maximumCPUClockRate': 8266666666, 'maximumGPUClockRate': 1460000332, 'minimumCPUClockRate': 8266666666, 'minimumGPUClockRate': 1460000332}</td>\n",
       "    </tr>\n",
       "    <tr>\n",
       "      <th>5104</th>\n",
       "      <td>5214</td>\n",
       "      <td>Fixed Frequency Matrix Multiply With Sleep</td>\n",
       "      <td>{'core': 0, 'gpu': 0, 'iterations': 3, 'matrixAHeight': 960, 'matrixAWidth': 960, 'matrixBHeight': 960, 'matrixBWidth': 960, 'maximumCPUClockRate': 8266666666, 'maximumGPUClockRate': 1460000332, 'minimumCPUClockRate': 8266666666, 'minimumGPUClockRate': 1460000332}</td>\n",
       "    </tr>\n",
       "    <tr>\n",
       "      <th>5105</th>\n",
       "      <td>5215</td>\n",
       "      <td>Fixed Frequency Matrix Multiply With Sleep</td>\n",
       "      <td>{'core': 0, 'gpu': 0, 'iterations': 3, 'matrixAHeight': 960, 'matrixAWidth': 960, 'matrixBHeight': 960, 'matrixBWidth': 960, 'maximumCPUClockRate': 11999999999, 'maximumGPUClockRate': 2189999998, 'minimumCPUClockRate': 11999999999, 'minimumGPUClockRate': 2189999998}</td>\n",
       "    </tr>\n",
       "    <tr>\n",
       "      <th>5106</th>\n",
       "      <td>5216</td>\n",
       "      <td>Fixed Frequency Matrix Multiply With Sleep</td>\n",
       "      <td>{'core': 0, 'gpu': 0, 'iterations': 3, 'matrixAHeight': 960, 'matrixAWidth': 960, 'matrixBHeight': 960, 'matrixBWidth': 960, 'maximumCPUClockRate': 11999999999, 'maximumGPUClockRate': 2189999998, 'minimumCPUClockRate': 11999999999, 'minimumGPUClockRate': 2189999998}</td>\n",
       "    </tr>\n",
       "    <tr>\n",
       "      <th>5107</th>\n",
       "      <td>5217</td>\n",
       "      <td>Fixed Frequency Matrix Multiply With Sleep</td>\n",
       "      <td>{'core': 0, 'gpu': 0, 'iterations': 3, 'matrixAHeight': 960, 'matrixAWidth': 960, 'matrixBHeight': 960, 'matrixBWidth': 960, 'maximumCPUClockRate': 800000000, 'maximumGPUClockRate': 1000, 'minimumCPUClockRate': 800000000, 'minimumGPUClockRate': 1000}</td>\n",
       "    </tr>\n",
       "    <tr>\n",
       "      <th>5108</th>\n",
       "      <td>5218</td>\n",
       "      <td>Fixed Frequency Matrix Multiply With Sleep</td>\n",
       "      <td>{'core': 0, 'gpu': 0, 'iterations': 3, 'matrixAHeight': 960, 'matrixAWidth': 960, 'matrixBHeight': 960, 'matrixBWidth': 960, 'maximumCPUClockRate': 800000000, 'maximumGPUClockRate': 1000, 'minimumCPUClockRate': 800000000, 'minimumGPUClockRate': 1000}</td>\n",
       "    </tr>\n",
       "    <tr>\n",
       "      <th>5109</th>\n",
       "      <td>5219</td>\n",
       "      <td>Fixed Frequency Matrix Multiply With Sleep</td>\n",
       "      <td>{'core': 0, 'gpu': 0, 'iterations': 3, 'matrixAHeight': 960, 'matrixAWidth': 960, 'matrixBHeight': 960, 'matrixBWidth': 960, 'maximumCPUClockRate': 11999999999, 'maximumGPUClockRate': 1460000332, 'minimumCPUClockRate': 11999999999, 'minimumGPUClockRate': 1460000332}</td>\n",
       "    </tr>\n",
       "    <tr>\n",
       "      <th>5110</th>\n",
       "      <td>5220</td>\n",
       "      <td>Fixed Frequency Matrix Multiply With Sleep</td>\n",
       "      <td>{'core': 0, 'gpu': 0, 'iterations': 3, 'matrixAHeight': 960, 'matrixAWidth': 960, 'matrixBHeight': 960, 'matrixBWidth': 960, 'maximumCPUClockRate': 11999999999, 'maximumGPUClockRate': 1460000332, 'minimumCPUClockRate': 11999999999, 'minimumGPUClockRate': 1460000332}</td>\n",
       "    </tr>\n",
       "    <tr>\n",
       "      <th>5111</th>\n",
       "      <td>5221</td>\n",
       "      <td>Fixed Frequency Matrix Multiply With Sleep</td>\n",
       "      <td>{'core': 0, 'gpu': 0, 'iterations': 3, 'matrixAHeight': 960, 'matrixAWidth': 960, 'matrixBHeight': 960, 'matrixBWidth': 960, 'maximumCPUClockRate': 4533333333, 'maximumGPUClockRate': 730000666, 'minimumCPUClockRate': 4533333333, 'minimumGPUClockRate': 730000666}</td>\n",
       "    </tr>\n",
       "    <tr>\n",
       "      <th>5112</th>\n",
       "      <td>5222</td>\n",
       "      <td>Fixed Frequency Matrix Multiply With Sleep</td>\n",
       "      <td>{'core': 0, 'gpu': 0, 'iterations': 3, 'matrixAHeight': 960, 'matrixAWidth': 960, 'matrixBHeight': 960, 'matrixBWidth': 960, 'maximumCPUClockRate': 4533333333, 'maximumGPUClockRate': 730000666, 'minimumCPUClockRate': 4533333333, 'minimumGPUClockRate': 730000666}</td>\n",
       "    </tr>\n",
       "    <tr>\n",
       "      <th>5113</th>\n",
       "      <td>5223</td>\n",
       "      <td>Fixed Frequency Matrix Multiply With Sleep</td>\n",
       "      <td>{'core': 0, 'gpu': 0, 'iterations': 3, 'matrixAHeight': 960, 'matrixAWidth': 960, 'matrixBHeight': 960, 'matrixBWidth': 960, 'maximumCPUClockRate': 11999999999, 'maximumGPUClockRate': 1000, 'minimumCPUClockRate': 11999999999, 'minimumGPUClockRate': 1000}</td>\n",
       "    </tr>\n",
       "    <tr>\n",
       "      <th>5114</th>\n",
       "      <td>5224</td>\n",
       "      <td>Fixed Frequency Matrix Multiply With Sleep</td>\n",
       "      <td>{'core': 0, 'gpu': 0, 'iterations': 3, 'matrixAHeight': 960, 'matrixAWidth': 960, 'matrixBHeight': 960, 'matrixBWidth': 960, 'maximumCPUClockRate': 11999999999, 'maximumGPUClockRate': 1000, 'minimumCPUClockRate': 11999999999, 'minimumGPUClockRate': 1000}</td>\n",
       "    </tr>\n",
       "    <tr>\n",
       "      <th>5115</th>\n",
       "      <td>5225</td>\n",
       "      <td>Fixed Frequency Matrix Multiply With Sleep</td>\n",
       "      <td>{'core': 0, 'gpu': 0, 'iterations': 3, 'matrixAHeight': 960, 'matrixAWidth': 960, 'matrixBHeight': 960, 'matrixBWidth': 960, 'maximumCPUClockRate': 800000000, 'maximumGPUClockRate': 730000666, 'minimumCPUClockRate': 800000000, 'minimumGPUClockRate': 730000666}</td>\n",
       "    </tr>\n",
       "    <tr>\n",
       "      <th>5116</th>\n",
       "      <td>5226</td>\n",
       "      <td>Fixed Frequency Matrix Multiply With Sleep</td>\n",
       "      <td>{'core': 0, 'gpu': 0, 'iterations': 3, 'matrixAHeight': 960, 'matrixAWidth': 960, 'matrixBHeight': 960, 'matrixBWidth': 960, 'maximumCPUClockRate': 800000000, 'maximumGPUClockRate': 730000666, 'minimumCPUClockRate': 800000000, 'minimumGPUClockRate': 730000666}</td>\n",
       "    </tr>\n",
       "    <tr>\n",
       "      <th>5117</th>\n",
       "      <td>5227</td>\n",
       "      <td>Fixed Frequency Matrix Multiply With Sleep</td>\n",
       "      <td>{'core': 0, 'gpu': 0, 'iterations': 3, 'matrixAHeight': 960, 'matrixAWidth': 960, 'matrixBHeight': 960, 'matrixBWidth': 960, 'maximumCPUClockRate': 4533333333, 'maximumGPUClockRate': 1000, 'minimumCPUClockRate': 4533333333, 'minimumGPUClockRate': 1000}</td>\n",
       "    </tr>\n",
       "    <tr>\n",
       "      <th>5118</th>\n",
       "      <td>5228</td>\n",
       "      <td>Fixed Frequency Matrix Multiply With Sleep</td>\n",
       "      <td>{'core': 0, 'gpu': 0, 'iterations': 3, 'matrixAHeight': 960, 'matrixAWidth': 960, 'matrixBHeight': 960, 'matrixBWidth': 960, 'maximumCPUClockRate': 4533333333, 'maximumGPUClockRate': 1000, 'minimumCPUClockRate': 4533333333, 'minimumGPUClockRate': 1000}</td>\n",
       "    </tr>\n",
       "    <tr>\n",
       "      <th>5119</th>\n",
       "      <td>5229</td>\n",
       "      <td>Fixed Frequency Matrix Multiply With Sleep</td>\n",
       "      <td>{'core': 0, 'gpu': 0, 'iterations': 3, 'matrixAHeight': 960, 'matrixAWidth': 960, 'matrixBHeight': 960, 'matrixBWidth': 960, 'maximumCPUClockRate': 4533333333, 'maximumGPUClockRate': 1460000332, 'minimumCPUClockRate': 4533333333, 'minimumGPUClockRate': 1460000332}</td>\n",
       "    </tr>\n",
       "    <tr>\n",
       "      <th>5120</th>\n",
       "      <td>5230</td>\n",
       "      <td>Fixed Frequency Matrix Multiply With Sleep</td>\n",
       "      <td>{'core': 0, 'gpu': 0, 'iterations': 3, 'matrixAHeight': 960, 'matrixAWidth': 960, 'matrixBHeight': 960, 'matrixBWidth': 960, 'maximumCPUClockRate': 4533333333, 'maximumGPUClockRate': 1460000332, 'minimumCPUClockRate': 4533333333, 'minimumGPUClockRate': 1460000332}</td>\n",
       "    </tr>\n",
       "    <tr>\n",
       "      <th>5121</th>\n",
       "      <td>5231</td>\n",
       "      <td>Fixed Frequency Matrix Multiply With Sleep</td>\n",
       "      <td>{'core': 0, 'gpu': 0, 'iterations': 3, 'matrixAHeight': 960, 'matrixAWidth': 960, 'matrixBHeight': 960, 'matrixBWidth': 960, 'maximumCPUClockRate': 8266666666, 'maximumGPUClockRate': 2189999998, 'minimumCPUClockRate': 8266666666, 'minimumGPUClockRate': 2189999998}</td>\n",
       "    </tr>\n",
       "    <tr>\n",
       "      <th>5122</th>\n",
       "      <td>5232</td>\n",
       "      <td>Fixed Frequency Matrix Multiply With Sleep</td>\n",
       "      <td>{'core': 0, 'gpu': 0, 'iterations': 3, 'matrixAHeight': 960, 'matrixAWidth': 960, 'matrixBHeight': 960, 'matrixBWidth': 960, 'maximumCPUClockRate': 8266666666, 'maximumGPUClockRate': 2189999998, 'minimumCPUClockRate': 8266666666, 'minimumGPUClockRate': 2189999998}</td>\n",
       "    </tr>\n",
       "    <tr>\n",
       "      <th>5123</th>\n",
       "      <td>5233</td>\n",
       "      <td>Matrix Multiply With Sleep</td>\n",
       "      <td>{'core': 0, 'gpu': 0, 'iterations': 3, 'matrixAHeight': 960, 'matrixAWidth': 960, 'matrixBHeight': 960, 'matrixBWidth': 960}</td>\n",
       "    </tr>\n",
       "    <tr>\n",
       "      <th>5124</th>\n",
       "      <td>5234</td>\n",
       "      <td>Matrix Multiply With Sleep</td>\n",
       "      <td>{'core': 0, 'gpu': 0, 'iterations': 3, 'matrixAHeight': 960, 'matrixAWidth': 960, 'matrixBHeight': 960, 'matrixBWidth': 960}</td>\n",
       "    </tr>\n",
       "  </tbody>\n",
       "</table>\n",
       "<p>5125 rows × 3 columns</p>\n",
       "</div>"
      ],
      "text/plain": [
       "        ID                                       Label  \\\n",
       "0        1             Fixed Frequency Matrix Multiply   \n",
       "1        2             Fixed Frequency Matrix Multiply   \n",
       "2        3             Fixed Frequency Matrix Multiply   \n",
       "3        4             Fixed Frequency Matrix Multiply   \n",
       "4        5             Fixed Frequency Matrix Multiply   \n",
       "5        6             Fixed Frequency Matrix Multiply   \n",
       "6        7             Fixed Frequency Matrix Multiply   \n",
       "7        8             Fixed Frequency Matrix Multiply   \n",
       "8        9             Fixed Frequency Matrix Multiply   \n",
       "9       10             Fixed Frequency Matrix Multiply   \n",
       "10      11             Fixed Frequency Matrix Multiply   \n",
       "11      12             Fixed Frequency Matrix Multiply   \n",
       "12      13             Fixed Frequency Matrix Multiply   \n",
       "13      14             Fixed Frequency Matrix Multiply   \n",
       "14      15             Fixed Frequency Matrix Multiply   \n",
       "15      16             Fixed Frequency Matrix Multiply   \n",
       "16      17             Fixed Frequency Matrix Multiply   \n",
       "17      18             Fixed Frequency Matrix Multiply   \n",
       "18      19             Fixed Frequency Matrix Multiply   \n",
       "19      20             Fixed Frequency Matrix Multiply   \n",
       "20      21             Fixed Frequency Matrix Multiply   \n",
       "21      22             Fixed Frequency Matrix Multiply   \n",
       "22      23             Fixed Frequency Matrix Multiply   \n",
       "23      24             Fixed Frequency Matrix Multiply   \n",
       "24      25             Fixed Frequency Matrix Multiply   \n",
       "...    ...                                         ...   \n",
       "5100  5210  Fixed Frequency Matrix Multiply With Sleep   \n",
       "5101  5211  Fixed Frequency Matrix Multiply With Sleep   \n",
       "5102  5212  Fixed Frequency Matrix Multiply With Sleep   \n",
       "5103  5213  Fixed Frequency Matrix Multiply With Sleep   \n",
       "5104  5214  Fixed Frequency Matrix Multiply With Sleep   \n",
       "5105  5215  Fixed Frequency Matrix Multiply With Sleep   \n",
       "5106  5216  Fixed Frequency Matrix Multiply With Sleep   \n",
       "5107  5217  Fixed Frequency Matrix Multiply With Sleep   \n",
       "5108  5218  Fixed Frequency Matrix Multiply With Sleep   \n",
       "5109  5219  Fixed Frequency Matrix Multiply With Sleep   \n",
       "5110  5220  Fixed Frequency Matrix Multiply With Sleep   \n",
       "5111  5221  Fixed Frequency Matrix Multiply With Sleep   \n",
       "5112  5222  Fixed Frequency Matrix Multiply With Sleep   \n",
       "5113  5223  Fixed Frequency Matrix Multiply With Sleep   \n",
       "5114  5224  Fixed Frequency Matrix Multiply With Sleep   \n",
       "5115  5225  Fixed Frequency Matrix Multiply With Sleep   \n",
       "5116  5226  Fixed Frequency Matrix Multiply With Sleep   \n",
       "5117  5227  Fixed Frequency Matrix Multiply With Sleep   \n",
       "5118  5228  Fixed Frequency Matrix Multiply With Sleep   \n",
       "5119  5229  Fixed Frequency Matrix Multiply With Sleep   \n",
       "5120  5230  Fixed Frequency Matrix Multiply With Sleep   \n",
       "5121  5231  Fixed Frequency Matrix Multiply With Sleep   \n",
       "5122  5232  Fixed Frequency Matrix Multiply With Sleep   \n",
       "5123  5233                  Matrix Multiply With Sleep   \n",
       "5124  5234                  Matrix Multiply With Sleep   \n",
       "\n",
       "                                                                                                                                                                                                                                                                         Profile  \n",
       "0                        {'core': 0, 'gpu': 0, 'matrixAHeight': 960, 'matrixAWidth': 960, 'matrixBHeight': 960, 'matrixBWidth': 960, 'maximumCPUClockRate': 8137931024, 'maximumGPUClockRate': 1797931266, 'minimumCPUClockRate': 8137931024, 'minimumGPUClockRate': 1797931266}  \n",
       "1                        {'core': 0, 'gpu': 0, 'matrixAHeight': 960, 'matrixAWidth': 960, 'matrixBHeight': 960, 'matrixBWidth': 960, 'maximumCPUClockRate': 8137931024, 'maximumGPUClockRate': 1797931266, 'minimumCPUClockRate': 8137931024, 'minimumGPUClockRate': 1797931266}  \n",
       "2                        {'core': 0, 'gpu': 0, 'matrixAHeight': 960, 'matrixAWidth': 960, 'matrixBHeight': 960, 'matrixBWidth': 960, 'maximumCPUClockRate': 8137931024, 'maximumGPUClockRate': 1797931266, 'minimumCPUClockRate': 8137931024, 'minimumGPUClockRate': 1797931266}  \n",
       "3                        {'core': 0, 'gpu': 0, 'matrixAHeight': 960, 'matrixAWidth': 960, 'matrixBHeight': 960, 'matrixBWidth': 960, 'maximumCPUClockRate': 7365517232, 'maximumGPUClockRate': 1716207163, 'minimumCPUClockRate': 7365517232, 'minimumGPUClockRate': 1716207163}  \n",
       "4                        {'core': 0, 'gpu': 0, 'matrixAHeight': 960, 'matrixAWidth': 960, 'matrixBHeight': 960, 'matrixBWidth': 960, 'maximumCPUClockRate': 7365517232, 'maximumGPUClockRate': 1716207163, 'minimumCPUClockRate': 7365517232, 'minimumGPUClockRate': 1716207163}  \n",
       "5                        {'core': 0, 'gpu': 0, 'matrixAHeight': 960, 'matrixAWidth': 960, 'matrixBHeight': 960, 'matrixBWidth': 960, 'maximumCPUClockRate': 7365517232, 'maximumGPUClockRate': 1716207163, 'minimumCPUClockRate': 7365517232, 'minimumGPUClockRate': 1716207163}  \n",
       "6                          {'core': 0, 'gpu': 0, 'matrixAHeight': 960, 'matrixAWidth': 960, 'matrixBHeight': 960, 'matrixBWidth': 960, 'maximumCPUClockRate': 2731034480, 'maximumGPUClockRate': 163449206, 'minimumCPUClockRate': 2731034480, 'minimumGPUClockRate': 163449206}  \n",
       "7                          {'core': 0, 'gpu': 0, 'matrixAHeight': 960, 'matrixAWidth': 960, 'matrixBHeight': 960, 'matrixBWidth': 960, 'maximumCPUClockRate': 2731034480, 'maximumGPUClockRate': 163449206, 'minimumCPUClockRate': 2731034480, 'minimumGPUClockRate': 163449206}  \n",
       "8                          {'core': 0, 'gpu': 0, 'matrixAHeight': 960, 'matrixAWidth': 960, 'matrixBHeight': 960, 'matrixBWidth': 960, 'maximumCPUClockRate': 2731034480, 'maximumGPUClockRate': 163449206, 'minimumCPUClockRate': 2731034480, 'minimumGPUClockRate': 163449206}  \n",
       "9                        {'core': 0, 'gpu': 0, 'matrixAHeight': 960, 'matrixAWidth': 960, 'matrixBHeight': 960, 'matrixBWidth': 960, 'maximumCPUClockRate': 6593103440, 'maximumGPUClockRate': 1144138442, 'minimumCPUClockRate': 6593103440, 'minimumGPUClockRate': 1144138442}  \n",
       "10                       {'core': 0, 'gpu': 0, 'matrixAHeight': 960, 'matrixAWidth': 960, 'matrixBHeight': 960, 'matrixBWidth': 960, 'maximumCPUClockRate': 6593103440, 'maximumGPUClockRate': 1144138442, 'minimumCPUClockRate': 6593103440, 'minimumGPUClockRate': 1144138442}  \n",
       "11                       {'core': 0, 'gpu': 0, 'matrixAHeight': 960, 'matrixAWidth': 960, 'matrixBHeight': 960, 'matrixBWidth': 960, 'maximumCPUClockRate': 6593103440, 'maximumGPUClockRate': 1144138442, 'minimumCPUClockRate': 6593103440, 'minimumGPUClockRate': 1144138442}  \n",
       "12                         {'core': 0, 'gpu': 0, 'matrixAHeight': 960, 'matrixAWidth': 960, 'matrixBHeight': 960, 'matrixBWidth': 960, 'maximumCPUClockRate': 8524137920, 'maximumGPUClockRate': 408621515, 'minimumCPUClockRate': 8524137920, 'minimumGPUClockRate': 408621515}  \n",
       "13                         {'core': 0, 'gpu': 0, 'matrixAHeight': 960, 'matrixAWidth': 960, 'matrixBHeight': 960, 'matrixBWidth': 960, 'maximumCPUClockRate': 8524137920, 'maximumGPUClockRate': 408621515, 'minimumCPUClockRate': 8524137920, 'minimumGPUClockRate': 408621515}  \n",
       "14                         {'core': 0, 'gpu': 0, 'matrixAHeight': 960, 'matrixAWidth': 960, 'matrixBHeight': 960, 'matrixBWidth': 960, 'maximumCPUClockRate': 8524137920, 'maximumGPUClockRate': 408621515, 'minimumCPUClockRate': 8524137920, 'minimumGPUClockRate': 408621515}  \n",
       "15                     {'core': 0, 'gpu': 0, 'matrixAHeight': 960, 'matrixAWidth': 960, 'matrixBHeight': 960, 'matrixBWidth': 960, 'maximumCPUClockRate': 11999999984, 'maximumGPUClockRate': 1225862545, 'minimumCPUClockRate': 11999999984, 'minimumGPUClockRate': 1225862545}  \n",
       "16                     {'core': 0, 'gpu': 0, 'matrixAHeight': 960, 'matrixAWidth': 960, 'matrixBHeight': 960, 'matrixBWidth': 960, 'maximumCPUClockRate': 11999999984, 'maximumGPUClockRate': 1225862545, 'minimumCPUClockRate': 11999999984, 'minimumGPUClockRate': 1225862545}  \n",
       "17                     {'core': 0, 'gpu': 0, 'matrixAHeight': 960, 'matrixAWidth': 960, 'matrixBHeight': 960, 'matrixBWidth': 960, 'maximumCPUClockRate': 11999999984, 'maximumGPUClockRate': 1225862545, 'minimumCPUClockRate': 11999999984, 'minimumGPUClockRate': 1225862545}  \n",
       "18                       {'core': 0, 'gpu': 0, 'matrixAHeight': 960, 'matrixAWidth': 960, 'matrixBHeight': 960, 'matrixBWidth': 960, 'maximumCPUClockRate': 6206896544, 'maximumGPUClockRate': 1961379472, 'minimumCPUClockRate': 6206896544, 'minimumGPUClockRate': 1961379472}  \n",
       "19                       {'core': 0, 'gpu': 0, 'matrixAHeight': 960, 'matrixAWidth': 960, 'matrixBHeight': 960, 'matrixBWidth': 960, 'maximumCPUClockRate': 6206896544, 'maximumGPUClockRate': 1961379472, 'minimumCPUClockRate': 6206896544, 'minimumGPUClockRate': 1961379472}  \n",
       "20                       {'core': 0, 'gpu': 0, 'matrixAHeight': 960, 'matrixAWidth': 960, 'matrixBHeight': 960, 'matrixBWidth': 960, 'maximumCPUClockRate': 6206896544, 'maximumGPUClockRate': 1961379472, 'minimumCPUClockRate': 6206896544, 'minimumGPUClockRate': 1961379472}  \n",
       "21                         {'core': 0, 'gpu': 0, 'matrixAHeight': 960, 'matrixAWidth': 960, 'matrixBHeight': 960, 'matrixBWidth': 960, 'maximumCPUClockRate': 6593103440, 'maximumGPUClockRate': 490345618, 'minimumCPUClockRate': 6593103440, 'minimumGPUClockRate': 490345618}  \n",
       "22                         {'core': 0, 'gpu': 0, 'matrixAHeight': 960, 'matrixAWidth': 960, 'matrixBHeight': 960, 'matrixBWidth': 960, 'maximumCPUClockRate': 6593103440, 'maximumGPUClockRate': 490345618, 'minimumCPUClockRate': 6593103440, 'minimumGPUClockRate': 490345618}  \n",
       "23                         {'core': 0, 'gpu': 0, 'matrixAHeight': 960, 'matrixAWidth': 960, 'matrixBHeight': 960, 'matrixBWidth': 960, 'maximumCPUClockRate': 6593103440, 'maximumGPUClockRate': 490345618, 'minimumCPUClockRate': 6593103440, 'minimumGPUClockRate': 490345618}  \n",
       "24                       {'core': 0, 'gpu': 0, 'matrixAHeight': 960, 'matrixAWidth': 960, 'matrixBHeight': 960, 'matrixBWidth': 960, 'maximumCPUClockRate': 8910344816, 'maximumGPUClockRate': 1307586648, 'minimumCPUClockRate': 8910344816, 'minimumGPUClockRate': 1307586648}  \n",
       "...                                                                                                                                                                                                                                                                          ...  \n",
       "5100    {'core': 0, 'gpu': 0, 'iterations': 3, 'matrixAHeight': 960, 'matrixAWidth': 960, 'matrixBHeight': 960, 'matrixBWidth': 960, 'maximumCPUClockRate': 11999999999, 'maximumGPUClockRate': 730000666, 'minimumCPUClockRate': 11999999999, 'minimumGPUClockRate': 730000666}  \n",
       "5101      {'core': 0, 'gpu': 0, 'iterations': 3, 'matrixAHeight': 960, 'matrixAWidth': 960, 'matrixBHeight': 960, 'matrixBWidth': 960, 'maximumCPUClockRate': 800000000, 'maximumGPUClockRate': 1460000332, 'minimumCPUClockRate': 800000000, 'minimumGPUClockRate': 1460000332}  \n",
       "5102      {'core': 0, 'gpu': 0, 'iterations': 3, 'matrixAHeight': 960, 'matrixAWidth': 960, 'matrixBHeight': 960, 'matrixBWidth': 960, 'maximumCPUClockRate': 800000000, 'maximumGPUClockRate': 1460000332, 'minimumCPUClockRate': 800000000, 'minimumGPUClockRate': 1460000332}  \n",
       "5103    {'core': 0, 'gpu': 0, 'iterations': 3, 'matrixAHeight': 960, 'matrixAWidth': 960, 'matrixBHeight': 960, 'matrixBWidth': 960, 'maximumCPUClockRate': 8266666666, 'maximumGPUClockRate': 1460000332, 'minimumCPUClockRate': 8266666666, 'minimumGPUClockRate': 1460000332}  \n",
       "5104    {'core': 0, 'gpu': 0, 'iterations': 3, 'matrixAHeight': 960, 'matrixAWidth': 960, 'matrixBHeight': 960, 'matrixBWidth': 960, 'maximumCPUClockRate': 8266666666, 'maximumGPUClockRate': 1460000332, 'minimumCPUClockRate': 8266666666, 'minimumGPUClockRate': 1460000332}  \n",
       "5105  {'core': 0, 'gpu': 0, 'iterations': 3, 'matrixAHeight': 960, 'matrixAWidth': 960, 'matrixBHeight': 960, 'matrixBWidth': 960, 'maximumCPUClockRate': 11999999999, 'maximumGPUClockRate': 2189999998, 'minimumCPUClockRate': 11999999999, 'minimumGPUClockRate': 2189999998}  \n",
       "5106  {'core': 0, 'gpu': 0, 'iterations': 3, 'matrixAHeight': 960, 'matrixAWidth': 960, 'matrixBHeight': 960, 'matrixBWidth': 960, 'maximumCPUClockRate': 11999999999, 'maximumGPUClockRate': 2189999998, 'minimumCPUClockRate': 11999999999, 'minimumGPUClockRate': 2189999998}  \n",
       "5107                  {'core': 0, 'gpu': 0, 'iterations': 3, 'matrixAHeight': 960, 'matrixAWidth': 960, 'matrixBHeight': 960, 'matrixBWidth': 960, 'maximumCPUClockRate': 800000000, 'maximumGPUClockRate': 1000, 'minimumCPUClockRate': 800000000, 'minimumGPUClockRate': 1000}  \n",
       "5108                  {'core': 0, 'gpu': 0, 'iterations': 3, 'matrixAHeight': 960, 'matrixAWidth': 960, 'matrixBHeight': 960, 'matrixBWidth': 960, 'maximumCPUClockRate': 800000000, 'maximumGPUClockRate': 1000, 'minimumCPUClockRate': 800000000, 'minimumGPUClockRate': 1000}  \n",
       "5109  {'core': 0, 'gpu': 0, 'iterations': 3, 'matrixAHeight': 960, 'matrixAWidth': 960, 'matrixBHeight': 960, 'matrixBWidth': 960, 'maximumCPUClockRate': 11999999999, 'maximumGPUClockRate': 1460000332, 'minimumCPUClockRate': 11999999999, 'minimumGPUClockRate': 1460000332}  \n",
       "5110  {'core': 0, 'gpu': 0, 'iterations': 3, 'matrixAHeight': 960, 'matrixAWidth': 960, 'matrixBHeight': 960, 'matrixBWidth': 960, 'maximumCPUClockRate': 11999999999, 'maximumGPUClockRate': 1460000332, 'minimumCPUClockRate': 11999999999, 'minimumGPUClockRate': 1460000332}  \n",
       "5111      {'core': 0, 'gpu': 0, 'iterations': 3, 'matrixAHeight': 960, 'matrixAWidth': 960, 'matrixBHeight': 960, 'matrixBWidth': 960, 'maximumCPUClockRate': 4533333333, 'maximumGPUClockRate': 730000666, 'minimumCPUClockRate': 4533333333, 'minimumGPUClockRate': 730000666}  \n",
       "5112      {'core': 0, 'gpu': 0, 'iterations': 3, 'matrixAHeight': 960, 'matrixAWidth': 960, 'matrixBHeight': 960, 'matrixBWidth': 960, 'maximumCPUClockRate': 4533333333, 'maximumGPUClockRate': 730000666, 'minimumCPUClockRate': 4533333333, 'minimumGPUClockRate': 730000666}  \n",
       "5113              {'core': 0, 'gpu': 0, 'iterations': 3, 'matrixAHeight': 960, 'matrixAWidth': 960, 'matrixBHeight': 960, 'matrixBWidth': 960, 'maximumCPUClockRate': 11999999999, 'maximumGPUClockRate': 1000, 'minimumCPUClockRate': 11999999999, 'minimumGPUClockRate': 1000}  \n",
       "5114              {'core': 0, 'gpu': 0, 'iterations': 3, 'matrixAHeight': 960, 'matrixAWidth': 960, 'matrixBHeight': 960, 'matrixBWidth': 960, 'maximumCPUClockRate': 11999999999, 'maximumGPUClockRate': 1000, 'minimumCPUClockRate': 11999999999, 'minimumGPUClockRate': 1000}  \n",
       "5115        {'core': 0, 'gpu': 0, 'iterations': 3, 'matrixAHeight': 960, 'matrixAWidth': 960, 'matrixBHeight': 960, 'matrixBWidth': 960, 'maximumCPUClockRate': 800000000, 'maximumGPUClockRate': 730000666, 'minimumCPUClockRate': 800000000, 'minimumGPUClockRate': 730000666}  \n",
       "5116        {'core': 0, 'gpu': 0, 'iterations': 3, 'matrixAHeight': 960, 'matrixAWidth': 960, 'matrixBHeight': 960, 'matrixBWidth': 960, 'maximumCPUClockRate': 800000000, 'maximumGPUClockRate': 730000666, 'minimumCPUClockRate': 800000000, 'minimumGPUClockRate': 730000666}  \n",
       "5117                {'core': 0, 'gpu': 0, 'iterations': 3, 'matrixAHeight': 960, 'matrixAWidth': 960, 'matrixBHeight': 960, 'matrixBWidth': 960, 'maximumCPUClockRate': 4533333333, 'maximumGPUClockRate': 1000, 'minimumCPUClockRate': 4533333333, 'minimumGPUClockRate': 1000}  \n",
       "5118                {'core': 0, 'gpu': 0, 'iterations': 3, 'matrixAHeight': 960, 'matrixAWidth': 960, 'matrixBHeight': 960, 'matrixBWidth': 960, 'maximumCPUClockRate': 4533333333, 'maximumGPUClockRate': 1000, 'minimumCPUClockRate': 4533333333, 'minimumGPUClockRate': 1000}  \n",
       "5119    {'core': 0, 'gpu': 0, 'iterations': 3, 'matrixAHeight': 960, 'matrixAWidth': 960, 'matrixBHeight': 960, 'matrixBWidth': 960, 'maximumCPUClockRate': 4533333333, 'maximumGPUClockRate': 1460000332, 'minimumCPUClockRate': 4533333333, 'minimumGPUClockRate': 1460000332}  \n",
       "5120    {'core': 0, 'gpu': 0, 'iterations': 3, 'matrixAHeight': 960, 'matrixAWidth': 960, 'matrixBHeight': 960, 'matrixBWidth': 960, 'maximumCPUClockRate': 4533333333, 'maximumGPUClockRate': 1460000332, 'minimumCPUClockRate': 4533333333, 'minimumGPUClockRate': 1460000332}  \n",
       "5121    {'core': 0, 'gpu': 0, 'iterations': 3, 'matrixAHeight': 960, 'matrixAWidth': 960, 'matrixBHeight': 960, 'matrixBWidth': 960, 'maximumCPUClockRate': 8266666666, 'maximumGPUClockRate': 2189999998, 'minimumCPUClockRate': 8266666666, 'minimumGPUClockRate': 2189999998}  \n",
       "5122    {'core': 0, 'gpu': 0, 'iterations': 3, 'matrixAHeight': 960, 'matrixAWidth': 960, 'matrixBHeight': 960, 'matrixBWidth': 960, 'maximumCPUClockRate': 8266666666, 'maximumGPUClockRate': 2189999998, 'minimumCPUClockRate': 8266666666, 'minimumGPUClockRate': 2189999998}  \n",
       "5123                                                                                                                                                {'core': 0, 'gpu': 0, 'iterations': 3, 'matrixAHeight': 960, 'matrixAWidth': 960, 'matrixBHeight': 960, 'matrixBWidth': 960}  \n",
       "5124                                                                                                                                                {'core': 0, 'gpu': 0, 'iterations': 3, 'matrixAHeight': 960, 'matrixAWidth': 960, 'matrixBHeight': 960, 'matrixBWidth': 960}  \n",
       "\n",
       "[5125 rows x 3 columns]"
      ]
     },
     "metadata": {},
     "output_type": "display_data"
    }
   ],
   "source": [
    "# Load all profiler sessions\n",
    "complete_data_set = DataSet(ProfilerSession.load_all(database))\n",
    "\n",
    "# Visualize the profiler session data\n",
    "complete_data_set.table_plot.plot()"
   ]
  },
  {
   "cell_type": "markdown",
   "metadata": {},
   "source": [
    "## Visualize a Profiler Session\n",
    "\n",
    "Define the ID of the test you wish to visualize below."
   ]
  },
  {
   "cell_type": "code",
   "execution_count": 4,
   "metadata": {
    "pycharm": {
     "name": "#%%\n"
    }
   },
   "outputs": [],
   "source": [
    "#profiler_session_id = complete_data_set.data[-1].id\n",
    "profiler_session_id = 23\n",
    "data_set = DataSet([profiler_session for profiler_session in complete_data_set.data if profiler_session.id == profiler_session_id])"
   ]
  },
  {
   "cell_type": "markdown",
   "metadata": {},
   "source": [
    "### Summary\n",
    "\n",
    "These are the specifications of the system with which the profiler session was performed."
   ]
  },
  {
   "cell_type": "code",
   "execution_count": 5,
   "metadata": {
    "pycharm": {
     "name": "#%%\n"
    }
   },
   "outputs": [
    {
     "name": "stdout",
     "output_type": "stream",
     "text": [
      "{'GPUs': [{'Brand': 'GeForce',\n",
      "           'Compute Capability Major Version': 7,\n",
      "           'Compute Capability Minor Version': 5,\n",
      "           'Default Auto Boosted Clocks Enabled': None,\n",
      "           'Default Power Limit (W)': '260.0',\n",
      "           'Memory Size (B)': '8.3 GB',\n",
      "           'Name': 'GeForce RTX 2080',\n",
      "           'PCIe Link Width (B)': '16 Bytes',\n",
      "           'Supported Core Clock Rates (Hz)': [''],\n",
      "           'Supported Memory Clock Rates (Hz)': ['']}],\n",
      " 'Label': 'Fixed Frequency Matrix Multiply'}\n"
     ]
    }
   ],
   "source": [
    "pprint.pprint(data_set.data[0].summary)"
   ]
  },
  {
   "cell_type": "markdown",
   "metadata": {},
   "source": [
    "### Profile\n",
    "\n",
    "This is the profile with which the profiler session was performed."
   ]
  },
  {
   "cell_type": "code",
   "execution_count": 6,
   "metadata": {
    "pycharm": {
     "name": "#%%\n"
    }
   },
   "outputs": [
    {
     "name": "stdout",
     "output_type": "stream",
     "text": [
      "{'core': 0,\n",
      " 'gpu': 0,\n",
      " 'matrixAHeight': 960,\n",
      " 'matrixAWidth': 960,\n",
      " 'matrixBHeight': 960,\n",
      " 'matrixBWidth': 960,\n",
      " 'maximumCPUClockRate': 6593103440,\n",
      " 'maximumGPUClockRate': 490345618,\n",
      " 'minimumCPUClockRate': 6593103440,\n",
      " 'minimumGPUClockRate': 490345618}\n"
     ]
    }
   ],
   "source": [
    "pprint.pprint(data_set.data[0].profile)"
   ]
  },
  {
   "cell_type": "markdown",
   "metadata": {},
   "source": [
    "### Overview\n",
    "\n",
    "The graph image below summarizes the graphs above."
   ]
  },
  {
   "cell_type": "code",
   "execution_count": 7,
   "metadata": {
    "pycharm": {
     "name": "#%%\n"
    }
   },
   "outputs": [],
   "source": [
    "# data_set.data[0].overview_multi_plot.plot()"
   ]
  },
  {
   "cell_type": "markdown",
   "metadata": {},
   "source": [
    "### Switches\n",
    "\n",
    "The graphs below shows the status of configuration switches over time."
   ]
  },
  {
   "cell_type": "code",
   "execution_count": 8,
   "metadata": {
    "pycharm": {
     "name": "#%%\n"
    }
   },
   "outputs": [
    {
     "data": {
      "application/vnd.jupyter.widget-view+json": {
       "model_id": "f32bc8fdf35a456f84aa4ee8ce2b300a",
       "version_major": 2,
       "version_minor": 0
      },
      "text/plain": [
       "Canvas(toolbar=Toolbar(toolitems=[('Home', 'Reset original view', 'home', 'home'), ('Back', 'Back to previous …"
      ]
     },
     "metadata": {},
     "output_type": "display_data"
    },
    {
     "name": "stderr",
     "output_type": "stream",
     "text": [
      "No handles with labels found to put in legend.\n"
     ]
    }
   ],
   "source": [
    "data_set.data[0].switches_timeseries_plot.plot()"
   ]
  },
  {
   "cell_type": "markdown",
   "metadata": {},
   "source": [
    "### Timespan\n",
    "\n",
    "The graphs below shows the time spent on different types of operations over time."
   ]
  },
  {
   "cell_type": "code",
   "execution_count": 9,
   "metadata": {},
   "outputs": [
    {
     "data": {
      "application/vnd.jupyter.widget-view+json": {
       "model_id": "378632e3c766445e83152fd57401830c",
       "version_major": 2,
       "version_minor": 0
      },
      "text/plain": [
       "Canvas(toolbar=Toolbar(toolitems=[('Home', 'Reset original view', 'home', 'home'), ('Back', 'Back to previous …"
      ]
     },
     "metadata": {},
     "output_type": "display_data"
    },
    {
     "name": "stderr",
     "output_type": "stream",
     "text": [
      "/data/Cloud/Nextcloud/Education/Vrije Universiteit/Master Project/Project/Visualizer/Source/Visualizer/Plotting/AxesPlot.py:134: UserWarning: Tight layout not applied. The bottom and top margins cannot be made large enough to accommodate all axes decorations. \n",
      "  self.figure.tight_layout()\n"
     ]
    }
   ],
   "source": [
    "timespan_timeseries_plot = data_set.data[0].timespan_timeseries_plot\n",
    "# timespan_timeseries_plot.plot_series = { key: timespan_timeseries_plot.plot_series[key] for key in timespan_timeseries_plot.plot_series if (key.startswith(\"CPU 0 Core 0\"))}\n",
    "timespan_timeseries_plot.plot()"
   ]
  },
  {
   "cell_type": "markdown",
   "metadata": {},
   "source": [
    "### Clock Rates\n",
    "\n",
    "The graph below shows the clock rate over time."
   ]
  },
  {
   "cell_type": "code",
   "execution_count": 10,
   "metadata": {
    "pycharm": {
     "name": "#%%\n"
    }
   },
   "outputs": [
    {
     "data": {
      "application/vnd.jupyter.widget-view+json": {
       "model_id": "6a0d487160bd4c4aab4894c502bfb4bb",
       "version_major": 2,
       "version_minor": 0
      },
      "text/plain": [
       "Canvas(toolbar=Toolbar(toolitems=[('Home', 'Reset original view', 'home', 'home'), ('Back', 'Back to previous …"
      ]
     },
     "metadata": {},
     "output_type": "display_data"
    }
   ],
   "source": [
    "clock_rate_timeseries_plot = data_set.data[0].clock_rate_timeseries_plot(plot_limits=True)\n",
    "clock_rate_timeseries_plot.plot_series = { key: clock_rate_timeseries_plot.plot_series[key] for key in clock_rate_timeseries_plot.plot_series if (key.startswith(\"CPU 0\") and (not key.startswith(\"CPU 0 Core\") or key.startswith(\"CPU 0 Core 0\"))) or key.startswith(\"GPU 0\")}\n",
    "clock_rate_timeseries_plot.plot()"
   ]
  },
  {
   "cell_type": "markdown",
   "metadata": {},
   "source": [
    "### Utilization Rates\n",
    "\n",
    "The graph below shows the utilization rates over time."
   ]
  },
  {
   "cell_type": "code",
   "execution_count": 11,
   "metadata": {
    "pycharm": {
     "name": "#%%\n"
    }
   },
   "outputs": [
    {
     "data": {
      "application/vnd.jupyter.widget-view+json": {
       "model_id": "73b00093d6fe40b4bd1b13e2b5dad8fb",
       "version_major": 2,
       "version_minor": 0
      },
      "text/plain": [
       "Canvas(toolbar=Toolbar(toolitems=[('Home', 'Reset original view', 'home', 'home'), ('Back', 'Back to previous …"
      ]
     },
     "metadata": {},
     "output_type": "display_data"
    }
   ],
   "source": [
    "utilization_rate_timeseries_plot = data_set.data[0].utilization_rate_timeseries_plot\n",
    "utilization_rate_timeseries_plot.plot_series = { key: utilization_rate_timeseries_plot.plot_series[key] for key in utilization_rate_timeseries_plot.plot_series if (key.startswith(\"CPU 0\") and (not key.startswith(\"CPU 0 Core\") or key.startswith(\"CPU 0 Core 0\"))) or key.startswith(\"GPU 0\") or key.startswith(\"Node\")}\n",
    "utilization_rate_timeseries_plot.plot()"
   ]
  },
  {
   "cell_type": "markdown",
   "metadata": {},
   "source": [
    "### Power Consumption\n",
    "\n",
    "The graphs below shows the power consumption over time."
   ]
  },
  {
   "cell_type": "code",
   "execution_count": 12,
   "metadata": {
    "pycharm": {
     "name": "#%%\n"
    }
   },
   "outputs": [
    {
     "data": {
      "application/vnd.jupyter.widget-view+json": {
       "model_id": "3e38c2aac70c4ef7aba0ef0ff8f1d5d8",
       "version_major": 2,
       "version_minor": 0
      },
      "text/plain": [
       "Canvas(toolbar=Toolbar(toolitems=[('Home', 'Reset original view', 'home', 'home'), ('Back', 'Back to previous …"
      ]
     },
     "metadata": {},
     "output_type": "display_data"
    }
   ],
   "source": [
    "power_consumption_timeseries_plot = data_set.data[0].power_consumption_timeseries_plot(plot_limits=True)\n",
    "power_consumption_timeseries_plot.plot_series = { key: power_consumption_timeseries_plot.plot_series[key] for key in power_consumption_timeseries_plot.plot_series if (key.startswith(\"CPU 0\") and (not key.startswith(\"CPU 0 Core\") or key.startswith(\"CPU 0 Core 0\"))) or key.startswith(\"GPU 0\") or key.startswith(\"Node\")}\n",
    "power_consumption_timeseries_plot.plot()"
   ]
  },
  {
   "cell_type": "markdown",
   "metadata": {},
   "source": [
    "### Energy Consumption\n",
    "\n",
    "The graphs below shows the total energy consumption over time."
   ]
  },
  {
   "cell_type": "code",
   "execution_count": 13,
   "metadata": {
    "pycharm": {
     "name": "#%%\n"
    }
   },
   "outputs": [
    {
     "data": {
      "application/vnd.jupyter.widget-view+json": {
       "model_id": "01f7d227f0734750b2f951fd2b76f97a",
       "version_major": 2,
       "version_minor": 0
      },
      "text/plain": [
       "Canvas(toolbar=Toolbar(toolitems=[('Home', 'Reset original view', 'home', 'home'), ('Back', 'Back to previous …"
      ]
     },
     "metadata": {},
     "output_type": "display_data"
    },
    {
     "data": {
      "application/vnd.jupyter.widget-view+json": {
       "model_id": "357eb1a24b174afea43cda6121ad17f4",
       "version_major": 2,
       "version_minor": 0
      },
      "text/plain": [
       "Canvas(toolbar=Toolbar(toolitems=[('Home', 'Reset original view', 'home', 'home'), ('Back', 'Back to previous …"
      ]
     },
     "metadata": {},
     "output_type": "display_data"
    }
   ],
   "source": [
    "# Plot in Joules\n",
    "energy_consumption_plot_j = data_set.data[0].energy_consumption_timeseries_plot()\n",
    "energy_consumption_plot_j.plot_series = { key: energy_consumption_plot_j.plot_series[key] for key in energy_consumption_plot_j.plot_series if (key.startswith(\"CPU 0\") and (not key.startswith(\"CPU 0 Core\") or key.startswith(\"CPU 0 Core 0\"))) or key.startswith(\"GPU 0\") or key.startswith(\"Node\")}\n",
    "energy_consumption_plot_j.plot()\n",
    "\n",
    "# Plot in Watt Hours\n",
    "energy_consumption_plot_wh = data_set.data[0].energy_consumption_timeseries_plot(unit_string=\"Wh\", modifier=Plot.j_to_wh)\n",
    "energy_consumption_plot_wh.plot_series = { key: energy_consumption_plot_wh.plot_series[key] for key in energy_consumption_plot_wh.plot_series if (key.startswith(\"CPU 0\") and (not key.startswith(\"CPU 0 Core\") or key.startswith(\"CPU 0 Core 0\"))) or key.startswith(\"GPU 0\") or key.startswith(\"Node\")}\n",
    "energy_consumption_plot_wh.plot()"
   ]
  },
  {
   "cell_type": "markdown",
   "metadata": {},
   "source": [
    "### Fan Speed\n",
    "\n",
    "The graphs below shows the fan speed over time."
   ]
  },
  {
   "cell_type": "code",
   "execution_count": 14,
   "metadata": {
    "pycharm": {
     "name": "#%%\n"
    }
   },
   "outputs": [
    {
     "data": {
      "application/vnd.jupyter.widget-view+json": {
       "model_id": "cba701cd52e94cd5b78d92bfc80f78f6",
       "version_major": 2,
       "version_minor": 0
      },
      "text/plain": [
       "Canvas(toolbar=Toolbar(toolitems=[('Home', 'Reset original view', 'home', 'home'), ('Back', 'Back to previous …"
      ]
     },
     "metadata": {},
     "output_type": "display_data"
    }
   ],
   "source": [
    "data_set.data[0].fan_speed_timeseries_plot.plot()"
   ]
  },
  {
   "cell_type": "markdown",
   "metadata": {},
   "source": [
    "### Memory Consumption\n",
    "\n",
    "The graphs below shows the memory consumption over time."
   ]
  },
  {
   "cell_type": "code",
   "execution_count": 15,
   "metadata": {
    "pycharm": {
     "name": "#%%\n"
    }
   },
   "outputs": [
    {
     "data": {
      "application/vnd.jupyter.widget-view+json": {
       "model_id": "563b816010114c8f872570bb6716ab3d",
       "version_major": 2,
       "version_minor": 0
      },
      "text/plain": [
       "Canvas(toolbar=Toolbar(toolitems=[('Home', 'Reset original view', 'home', 'home'), ('Back', 'Back to previous …"
      ]
     },
     "metadata": {},
     "output_type": "display_data"
    }
   ],
   "source": [
    "data_set.data[0].memory_consumption_timeseries_plot(plot_sizes=False).plot()"
   ]
  },
  {
   "cell_type": "markdown",
   "metadata": {},
   "source": [
    "### Processes\n",
    "\n",
    "The graphs below shows the amount of processes over time."
   ]
  },
  {
   "cell_type": "code",
   "execution_count": 16,
   "metadata": {
    "pycharm": {
     "name": "#%%\n"
    }
   },
   "outputs": [
    {
     "data": {
      "application/vnd.jupyter.widget-view+json": {
       "model_id": "319e49b3a21b44639b9fde08fb2ff9ca",
       "version_major": 2,
       "version_minor": 0
      },
      "text/plain": [
       "Canvas(toolbar=Toolbar(toolitems=[('Home', 'Reset original view', 'home', 'home'), ('Back', 'Back to previous …"
      ]
     },
     "metadata": {},
     "output_type": "display_data"
    }
   ],
   "source": [
    "data_set.data[0].processes_timeseries_plot.plot()"
   ]
  },
  {
   "cell_type": "markdown",
   "metadata": {},
   "source": [
    "### Temperature\n",
    "\n",
    "The graphs below shows the temperature over time."
   ]
  },
  {
   "cell_type": "code",
   "execution_count": 17,
   "metadata": {
    "pycharm": {
     "name": "#%%\n"
    }
   },
   "outputs": [
    {
     "data": {
      "application/vnd.jupyter.widget-view+json": {
       "model_id": "809f21e5afbb469897490fdef4459a42",
       "version_major": 2,
       "version_minor": 0
      },
      "text/plain": [
       "Canvas(toolbar=Toolbar(toolitems=[('Home', 'Reset original view', 'home', 'home'), ('Back', 'Back to previous …"
      ]
     },
     "metadata": {},
     "output_type": "display_data"
    }
   ],
   "source": [
    "temperature_timeseries_plot = data_set.data[0].temperature_timeseries_plot\n",
    "temperature_timeseries_plot.plot_series = { key: temperature_timeseries_plot.plot_series[key] for key in temperature_timeseries_plot.plot_series if (key.startswith(\"CPU 0\") and (not key.startswith(\"CPU 0 Core\") or key.startswith(\"CPU 0 Core 0\"))) or key.startswith(\"GPU 0\") or key.startswith(\"Node\")}\n",
    "temperature_timeseries_plot.plot()"
   ]
  },
  {
   "cell_type": "markdown",
   "metadata": {},
   "source": [
    "### Correlations\n",
    "\n",
    "The graphs below shows the Pearson correlation heatmap for each performance variable."
   ]
  },
  {
   "cell_type": "code",
   "execution_count": 18,
   "metadata": {
    "pycharm": {
     "name": "#%%\n"
    }
   },
   "outputs": [
    {
     "data": {
      "application/vnd.jupyter.widget-view+json": {
       "model_id": "a9624ec752ca41199ecfb35b867c3466",
       "version_major": 2,
       "version_minor": 0
      },
      "text/plain": [
       "Canvas(toolbar=Toolbar(toolitems=[('Home', 'Reset original view', 'home', 'home'), ('Back', 'Back to previous …"
      ]
     },
     "metadata": {},
     "output_type": "display_data"
    },
    {
     "data": {
      "application/vnd.jupyter.widget-view+json": {
       "model_id": "4cbaa3bc4cbb4569b592d2ff8d63c765",
       "version_major": 2,
       "version_minor": 0
      },
      "text/plain": [
       "Canvas(toolbar=Toolbar(toolitems=[('Home', 'Reset original view', 'home', 'home'), ('Back', 'Back to previous …"
      ]
     },
     "metadata": {},
     "output_type": "display_data"
    }
   ],
   "source": [
    "data_set.data[0].monitor_data_correlations_plot.plot()\n"
   ]
  }
 ],
 "metadata": {
  "kernelspec": {
   "display_name": "Python 3",
   "language": "python",
   "name": "python3"
  },
  "language_info": {
   "codemirror_mode": {
    "name": "ipython",
    "version": 3
   },
   "file_extension": ".py",
   "mimetype": "text/x-python",
   "name": "python",
   "nbconvert_exporter": "python",
   "pygments_lexer": "ipython3",
   "version": "3.8.5"
  },
  "widgets": {
   "application/vnd.jupyter.widget-state+json": {
    "state": {},
    "version_major": 2,
    "version_minor": 0
   }
  }
 },
 "nbformat": 4,
 "nbformat_minor": 4
}
