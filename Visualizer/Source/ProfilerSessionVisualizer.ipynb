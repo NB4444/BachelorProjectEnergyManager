{
 "cells": [
  {
   "cell_type": "code",
   "execution_count": 1,
   "metadata": {
    "pycharm": {
     "name": "#%%\n"
    }
   },
   "outputs": [],
   "source": [
    "%matplotlib widget\n",
    "\n",
    "import pathlib\n",
    "import pprint\n",
    "\n",
    "from Visualizer.DataSet import DataSet\n",
    "from Visualizer.Monitoring.Persistence.ProfilerSession import ProfilerSession\n",
    "from Visualizer.Plotting.Plot import Plot"
   ]
  },
  {
   "cell_type": "markdown",
   "metadata": {},
   "source": [
    "# Profiler Session Visualizer\n",
    "\n",
    "This notebook can visualize a specific profiler session."
   ]
  },
  {
   "cell_type": "markdown",
   "metadata": {},
   "source": [
    "## Configuration\n",
    "\n",
    "Configure the project settings below.\n",
    "The default configuration should be okay.\n",
    "Make sure that you have run at least one profiler session with the EnergyManager and have generated a database, otherwise this notebook will fail."
   ]
  },
  {
   "cell_type": "code",
   "execution_count": 2,
   "metadata": {
    "pycharm": {
     "name": "#%%\n"
    }
   },
   "outputs": [],
   "source": [
    "source_directory = pathlib.Path().parent.absolute()\n",
    "project_directory = f\"{source_directory}/..\"\n",
    "#database = f\"{project_directory}/../Resources/Data/MatrixMultiply.sqlite\"\n",
    "#database = f\"{project_directory}/../Resources/Data/KMeans.sqlite\"\n",
    "database = f\"{project_directory}/../Resources/Data/Database.sqlite\""
   ]
  },
  {
   "cell_type": "markdown",
   "metadata": {},
   "source": [
    "## Profiler Sessions Overview\n",
    "\n",
    "Below all profiler sessions are shown."
   ]
  },
  {
   "cell_type": "code",
   "execution_count": 3,
   "metadata": {
    "pycharm": {
     "name": "#%%\n"
    }
   },
   "outputs": [
    {
     "data": {
      "text/html": [
       "<div>\n",
       "<style scoped>\n",
       "    .dataframe tbody tr th:only-of-type {\n",
       "        vertical-align: middle;\n",
       "    }\n",
       "\n",
       "    .dataframe tbody tr th {\n",
       "        vertical-align: top;\n",
       "    }\n",
       "\n",
       "    .dataframe thead th {\n",
       "        text-align: right;\n",
       "    }\n",
       "</style>\n",
       "<table border=\"1\" class=\"dataframe\">\n",
       "  <thead>\n",
       "    <tr style=\"text-align: right;\">\n",
       "      <th></th>\n",
       "      <th>ID</th>\n",
       "      <th>Label</th>\n",
       "      <th>Profile</th>\n",
       "    </tr>\n",
       "  </thead>\n",
       "  <tbody>\n",
       "    <tr>\n",
       "      <th>0</th>\n",
       "      <td>1</td>\n",
       "      <td>Matrix Multiply (EnergyMonitor Simple)</td>\n",
       "      <td>{'core': 0, 'gpu': 0, 'iterations': 15, 'matrixAHeight': 1536, 'matrixAWidth': 1536, 'matrixBHeight': 1536, 'matrixBWidth': 1536}</td>\n",
       "    </tr>\n",
       "    <tr>\n",
       "      <th>1</th>\n",
       "      <td>2</td>\n",
       "      <td>Matrix Multiply (EnergyMonitor Smart)</td>\n",
       "      <td>{'core': 0, 'gpu': 0, 'iterations': 15, 'matrixAHeight': 1536, 'matrixAWidth': 1536, 'matrixBHeight': 1536, 'matrixBWidth': 1536}</td>\n",
       "    </tr>\n",
       "    <tr>\n",
       "      <th>2</th>\n",
       "      <td>3</td>\n",
       "      <td>KMeans (EnergyMonitor Simple)</td>\n",
       "      <td>{'core': 0, 'file': '/home/qub1/rodinia_3.1/data/kmeans/kdd_cup', 'gpu': 0, 'iterations': 75}</td>\n",
       "    </tr>\n",
       "    <tr>\n",
       "      <th>3</th>\n",
       "      <td>4</td>\n",
       "      <td>KMeans (EnergyMonitor Smart)</td>\n",
       "      <td>{'core': 0, 'file': '/home/qub1/rodinia_3.1/data/kmeans/kdd_cup', 'gpu': 0, 'iterations': 75}</td>\n",
       "    </tr>\n",
       "    <tr>\n",
       "      <th>4</th>\n",
       "      <td>5</td>\n",
       "      <td>Jacobi</td>\n",
       "      <td>{'core': 0, 'domainHeight': 1000, 'domainWidth': 1000, 'gpu': 0, 'iterations': 15, 'topologyHeight': 1, 'topologyWidth': 1}</td>\n",
       "    </tr>\n",
       "    <tr>\n",
       "      <th>5</th>\n",
       "      <td>6</td>\n",
       "      <td>Jacobi</td>\n",
       "      <td>{'core': 0, 'domainHeight': 1000, 'domainWidth': 1000, 'gpu': 0, 'iterations': 75, 'topologyHeight': 1, 'topologyWidth': 1}</td>\n",
       "    </tr>\n",
       "    <tr>\n",
       "      <th>6</th>\n",
       "      <td>7</td>\n",
       "      <td>Fixed Frequency Jacobi</td>\n",
       "      <td>{'core': 0, 'domainHeight': 1000, 'domainWidth': 1000, 'gpu': 0, 'iterations': 15, 'maximumCPUClockRate': 4533333333.333333, 'maximumGPUClockRate': 1417111111.111111, 'minimumCPUClockRate': 4533333333.333333, 'minimumGPUClockRate': 1417111111.111111, 'topologyHeight': 1, 'topologyWidth': 1}</td>\n",
       "    </tr>\n",
       "    <tr>\n",
       "      <th>7</th>\n",
       "      <td>8</td>\n",
       "      <td>Fixed Frequency Jacobi</td>\n",
       "      <td>{'core': 0, 'domainHeight': 1000, 'domainWidth': 1000, 'gpu': 0, 'iterations': 15, 'maximumCPUClockRate': 8266666666.666666, 'maximumGPUClockRate': 1417111111.111111, 'minimumCPUClockRate': 8266666666.666666, 'minimumGPUClockRate': 1417111111.111111, 'topologyHeight': 1, 'topologyWidth': 1}</td>\n",
       "    </tr>\n",
       "    <tr>\n",
       "      <th>8</th>\n",
       "      <td>9</td>\n",
       "      <td>Fixed Frequency Jacobi</td>\n",
       "      <td>{'core': 0, 'domainHeight': 1000, 'domainWidth': 1000, 'gpu': 0, 'iterations': 15, 'maximumCPUClockRate': 3288888888.888889, 'maximumGPUClockRate': 850666666.666667, 'minimumCPUClockRate': 3288888888.888889, 'minimumGPUClockRate': 850666666.666667, 'topologyHeight': 1, 'topologyWidth': 1}</td>\n",
       "    </tr>\n",
       "    <tr>\n",
       "      <th>9</th>\n",
       "      <td>10</td>\n",
       "      <td>Fixed Frequency Jacobi</td>\n",
       "      <td>{'core': 0, 'domainHeight': 1000, 'domainWidth': 1000, 'gpu': 0, 'iterations': 15, 'maximumCPUClockRate': 3288888888.888889, 'maximumGPUClockRate': 2550000000.0, 'minimumCPUClockRate': 3288888888.888889, 'minimumGPUClockRate': 2550000000.0, 'topologyHeight': 1, 'topologyWidth': 1}</td>\n",
       "    </tr>\n",
       "    <tr>\n",
       "      <th>10</th>\n",
       "      <td>11</td>\n",
       "      <td>Fixed Frequency Jacobi</td>\n",
       "      <td>{'core': 0, 'domainHeight': 1000, 'domainWidth': 1000, 'gpu': 0, 'iterations': 15, 'maximumCPUClockRate': 12000000000.0, 'maximumGPUClockRate': 1000000.0, 'minimumCPUClockRate': 12000000000.0, 'minimumGPUClockRate': 1000000.0, 'topologyHeight': 1, 'topologyWidth': 1}</td>\n",
       "    </tr>\n",
       "    <tr>\n",
       "      <th>11</th>\n",
       "      <td>12</td>\n",
       "      <td>Fixed Frequency Jacobi</td>\n",
       "      <td>{'core': 0, 'domainHeight': 1000, 'domainWidth': 1000, 'gpu': 0, 'iterations': 15, 'maximumCPUClockRate': 8266666666.666666, 'maximumGPUClockRate': 1983555555.555555, 'minimumCPUClockRate': 8266666666.666666, 'minimumGPUClockRate': 1983555555.555555, 'topologyHeight': 1, 'topologyWidth': 1}</td>\n",
       "    </tr>\n",
       "    <tr>\n",
       "      <th>12</th>\n",
       "      <td>13</td>\n",
       "      <td>Fixed Frequency Jacobi</td>\n",
       "      <td>{'core': 0, 'domainHeight': 1000, 'domainWidth': 1000, 'gpu': 0, 'iterations': 15, 'maximumCPUClockRate': 9511111111.11111, 'maximumGPUClockRate': 850666666.666667, 'minimumCPUClockRate': 9511111111.11111, 'minimumGPUClockRate': 850666666.666667, 'topologyHeight': 1, 'topologyWidth': 1}</td>\n",
       "    </tr>\n",
       "    <tr>\n",
       "      <th>13</th>\n",
       "      <td>14</td>\n",
       "      <td>Fixed Frequency Jacobi</td>\n",
       "      <td>{'core': 0, 'domainHeight': 1000, 'domainWidth': 1000, 'gpu': 0, 'iterations': 15, 'maximumCPUClockRate': 8266666666.666666, 'maximumGPUClockRate': 1000000.0, 'minimumCPUClockRate': 8266666666.666666, 'minimumGPUClockRate': 1000000.0, 'topologyHeight': 1, 'topologyWidth': 1}</td>\n",
       "    </tr>\n",
       "    <tr>\n",
       "      <th>14</th>\n",
       "      <td>15</td>\n",
       "      <td>Fixed Frequency Jacobi</td>\n",
       "      <td>{'core': 0, 'domainHeight': 1000, 'domainWidth': 1000, 'gpu': 0, 'iterations': 15, 'maximumCPUClockRate': 8266666666.666666, 'maximumGPUClockRate': 2550000000.0, 'minimumCPUClockRate': 8266666666.666666, 'minimumGPUClockRate': 2550000000.0, 'topologyHeight': 1, 'topologyWidth': 1}</td>\n",
       "    </tr>\n",
       "    <tr>\n",
       "      <th>15</th>\n",
       "      <td>16</td>\n",
       "      <td>Fixed Frequency Jacobi</td>\n",
       "      <td>{'core': 0, 'domainHeight': 1000, 'domainWidth': 1000, 'gpu': 0, 'iterations': 15, 'maximumCPUClockRate': 7022222222.222222, 'maximumGPUClockRate': 850666666.666667, 'minimumCPUClockRate': 7022222222.222222, 'minimumGPUClockRate': 850666666.666667, 'topologyHeight': 1, 'topologyWidth': 1}</td>\n",
       "    </tr>\n",
       "    <tr>\n",
       "      <th>16</th>\n",
       "      <td>17</td>\n",
       "      <td>Fixed Frequency Jacobi</td>\n",
       "      <td>{'core': 0, 'domainHeight': 1000, 'domainWidth': 1000, 'gpu': 0, 'iterations': 15, 'maximumCPUClockRate': 9511111111.11111, 'maximumGPUClockRate': 1983555555.555555, 'minimumCPUClockRate': 9511111111.11111, 'minimumGPUClockRate': 1983555555.555555, 'topologyHeight': 1, 'topologyWidth': 1}</td>\n",
       "    </tr>\n",
       "    <tr>\n",
       "      <th>17</th>\n",
       "      <td>18</td>\n",
       "      <td>Fixed Frequency Jacobi</td>\n",
       "      <td>{'core': 0, 'domainHeight': 1000, 'domainWidth': 1000, 'gpu': 0, 'iterations': 15, 'maximumCPUClockRate': 800000000.0, 'maximumGPUClockRate': 850666666.666667, 'minimumCPUClockRate': 800000000.0, 'minimumGPUClockRate': 850666666.666667, 'topologyHeight': 1, 'topologyWidth': 1}</td>\n",
       "    </tr>\n",
       "    <tr>\n",
       "      <th>18</th>\n",
       "      <td>19</td>\n",
       "      <td>Fixed Frequency Jacobi</td>\n",
       "      <td>{'core': 0, 'domainHeight': 1000, 'domainWidth': 1000, 'gpu': 0, 'iterations': 15, 'maximumCPUClockRate': 8266666666.666666, 'maximumGPUClockRate': 284222222.222222, 'minimumCPUClockRate': 8266666666.666666, 'minimumGPUClockRate': 284222222.222222, 'topologyHeight': 1, 'topologyWidth': 1}</td>\n",
       "    </tr>\n",
       "    <tr>\n",
       "      <th>19</th>\n",
       "      <td>20</td>\n",
       "      <td>Fixed Frequency Jacobi</td>\n",
       "      <td>{'core': 0, 'domainHeight': 1000, 'domainWidth': 1000, 'gpu': 0, 'iterations': 15, 'maximumCPUClockRate': 800000000.0, 'maximumGPUClockRate': 1000000.0, 'minimumCPUClockRate': 800000000.0, 'minimumGPUClockRate': 1000000.0, 'topologyHeight': 1, 'topologyWidth': 1}</td>\n",
       "    </tr>\n",
       "    <tr>\n",
       "      <th>20</th>\n",
       "      <td>21</td>\n",
       "      <td>Fixed Frequency Jacobi</td>\n",
       "      <td>{'core': 0, 'domainHeight': 1000, 'domainWidth': 1000, 'gpu': 0, 'iterations': 15, 'maximumCPUClockRate': 2044444444.444444, 'maximumGPUClockRate': 1700333333.333333, 'minimumCPUClockRate': 2044444444.444444, 'minimumGPUClockRate': 1700333333.333333, 'topologyHeight': 1, 'topologyWidth': 1}</td>\n",
       "    </tr>\n",
       "    <tr>\n",
       "      <th>21</th>\n",
       "      <td>22</td>\n",
       "      <td>Fixed Frequency Jacobi</td>\n",
       "      <td>{'core': 0, 'domainHeight': 1000, 'domainWidth': 1000, 'gpu': 0, 'iterations': 15, 'maximumCPUClockRate': 3288888888.888889, 'maximumGPUClockRate': 1983555555.555555, 'minimumCPUClockRate': 3288888888.888889, 'minimumGPUClockRate': 1983555555.555555, 'topologyHeight': 1, 'topologyWidth': 1}</td>\n",
       "    </tr>\n",
       "    <tr>\n",
       "      <th>22</th>\n",
       "      <td>23</td>\n",
       "      <td>Fixed Frequency Jacobi</td>\n",
       "      <td>{'core': 0, 'domainHeight': 1000, 'domainWidth': 1000, 'gpu': 0, 'iterations': 15, 'maximumCPUClockRate': 3288888888.888889, 'maximumGPUClockRate': 284222222.222222, 'minimumCPUClockRate': 3288888888.888889, 'minimumGPUClockRate': 284222222.222222, 'topologyHeight': 1, 'topologyWidth': 1}</td>\n",
       "    </tr>\n",
       "    <tr>\n",
       "      <th>23</th>\n",
       "      <td>24</td>\n",
       "      <td>Fixed Frequency Jacobi</td>\n",
       "      <td>{'core': 0, 'domainHeight': 1000, 'domainWidth': 1000, 'gpu': 0, 'iterations': 15, 'maximumCPUClockRate': 800000000.0, 'maximumGPUClockRate': 2266777777.777778, 'minimumCPUClockRate': 800000000.0, 'minimumGPUClockRate': 2266777777.777778, 'topologyHeight': 1, 'topologyWidth': 1}</td>\n",
       "    </tr>\n",
       "    <tr>\n",
       "      <th>24</th>\n",
       "      <td>25</td>\n",
       "      <td>Fixed Frequency Jacobi</td>\n",
       "      <td>{'core': 0, 'domainHeight': 1000, 'domainWidth': 1000, 'gpu': 0, 'iterations': 15, 'maximumCPUClockRate': 5777777777.777778, 'maximumGPUClockRate': 1700333333.333333, 'minimumCPUClockRate': 5777777777.777778, 'minimumGPUClockRate': 1700333333.333333, 'topologyHeight': 1, 'topologyWidth': 1}</td>\n",
       "    </tr>\n",
       "    <tr>\n",
       "      <th>25</th>\n",
       "      <td>26</td>\n",
       "      <td>Fixed Frequency Jacobi</td>\n",
       "      <td>{'core': 0, 'domainHeight': 1000, 'domainWidth': 1000, 'gpu': 0, 'iterations': 15, 'maximumCPUClockRate': 8266666666.666666, 'maximumGPUClockRate': 850666666.666667, 'minimumCPUClockRate': 8266666666.666666, 'minimumGPUClockRate': 850666666.666667, 'topologyHeight': 1, 'topologyWidth': 1}</td>\n",
       "    </tr>\n",
       "    <tr>\n",
       "      <th>26</th>\n",
       "      <td>27</td>\n",
       "      <td>Fixed Frequency Jacobi</td>\n",
       "      <td>{'core': 0, 'domainHeight': 1000, 'domainWidth': 1000, 'gpu': 0, 'iterations': 15, 'maximumCPUClockRate': 10755555555.555555, 'maximumGPUClockRate': 1000000.0, 'minimumCPUClockRate': 10755555555.555555, 'minimumGPUClockRate': 1000000.0, 'topologyHeight': 1, 'topologyWidth': 1}</td>\n",
       "    </tr>\n",
       "    <tr>\n",
       "      <th>27</th>\n",
       "      <td>28</td>\n",
       "      <td>Fixed Frequency Jacobi</td>\n",
       "      <td>{'core': 0, 'domainHeight': 1000, 'domainWidth': 1000, 'gpu': 0, 'iterations': 15, 'maximumCPUClockRate': 10755555555.555555, 'maximumGPUClockRate': 2550000000.0, 'minimumCPUClockRate': 10755555555.555555, 'minimumGPUClockRate': 2550000000.0, 'topologyHeight': 1, 'topologyWidth': 1}</td>\n",
       "    </tr>\n",
       "    <tr>\n",
       "      <th>28</th>\n",
       "      <td>29</td>\n",
       "      <td>Fixed Frequency Jacobi</td>\n",
       "      <td>{'core': 0, 'domainHeight': 1000, 'domainWidth': 1000, 'gpu': 0, 'iterations': 15, 'maximumCPUClockRate': 10755555555.555555, 'maximumGPUClockRate': 284222222.222222, 'minimumCPUClockRate': 10755555555.555555, 'minimumGPUClockRate': 284222222.222222, 'topologyHeight': 1, 'topologyWidth': 1}</td>\n",
       "    </tr>\n",
       "    <tr>\n",
       "      <th>29</th>\n",
       "      <td>30</td>\n",
       "      <td>Fixed Frequency Jacobi</td>\n",
       "      <td>{'core': 0, 'domainHeight': 1000, 'domainWidth': 1000, 'gpu': 0, 'iterations': 15, 'maximumCPUClockRate': 10755555555.555555, 'maximumGPUClockRate': 1983555555.555555, 'minimumCPUClockRate': 10755555555.555555, 'minimumGPUClockRate': 1983555555.555555, 'topologyHeight': 1, 'topologyWidth': 1}</td>\n",
       "    </tr>\n",
       "    <tr>\n",
       "      <th>30</th>\n",
       "      <td>31</td>\n",
       "      <td>Fixed Frequency Jacobi</td>\n",
       "      <td>{'core': 0, 'domainHeight': 1000, 'domainWidth': 1000, 'gpu': 0, 'iterations': 15, 'maximumCPUClockRate': 10755555555.555555, 'maximumGPUClockRate': 1700333333.333333, 'minimumCPUClockRate': 10755555555.555555, 'minimumGPUClockRate': 1700333333.333333, 'topologyHeight': 1, 'topologyWidth': 1}</td>\n",
       "    </tr>\n",
       "    <tr>\n",
       "      <th>31</th>\n",
       "      <td>32</td>\n",
       "      <td>Fixed Frequency Jacobi</td>\n",
       "      <td>{'core': 0, 'domainHeight': 1000, 'domainWidth': 1000, 'gpu': 0, 'iterations': 15, 'maximumCPUClockRate': 12000000000.0, 'maximumGPUClockRate': 567444444.444444, 'minimumCPUClockRate': 12000000000.0, 'minimumGPUClockRate': 567444444.444444, 'topologyHeight': 1, 'topologyWidth': 1}</td>\n",
       "    </tr>\n",
       "    <tr>\n",
       "      <th>32</th>\n",
       "      <td>33</td>\n",
       "      <td>Fixed Frequency Jacobi</td>\n",
       "      <td>{'core': 0, 'domainHeight': 1000, 'domainWidth': 1000, 'gpu': 0, 'iterations': 15, 'maximumCPUClockRate': 4533333333.333333, 'maximumGPUClockRate': 1700333333.333333, 'minimumCPUClockRate': 4533333333.333333, 'minimumGPUClockRate': 1700333333.333333, 'topologyHeight': 1, 'topologyWidth': 1}</td>\n",
       "    </tr>\n",
       "    <tr>\n",
       "      <th>33</th>\n",
       "      <td>34</td>\n",
       "      <td>Fixed Frequency Jacobi</td>\n",
       "      <td>{'core': 0, 'domainHeight': 1000, 'domainWidth': 1000, 'gpu': 0, 'iterations': 15, 'maximumCPUClockRate': 12000000000.0, 'maximumGPUClockRate': 1700333333.333333, 'minimumCPUClockRate': 12000000000.0, 'minimumGPUClockRate': 1700333333.333333, 'topologyHeight': 1, 'topologyWidth': 1}</td>\n",
       "    </tr>\n",
       "    <tr>\n",
       "      <th>34</th>\n",
       "      <td>35</td>\n",
       "      <td>Fixed Frequency Jacobi</td>\n",
       "      <td>{'core': 0, 'domainHeight': 1000, 'domainWidth': 1000, 'gpu': 0, 'iterations': 15, 'maximumCPUClockRate': 9511111111.11111, 'maximumGPUClockRate': 2266777777.777778, 'minimumCPUClockRate': 9511111111.11111, 'minimumGPUClockRate': 2266777777.777778, 'topologyHeight': 1, 'topologyWidth': 1}</td>\n",
       "    </tr>\n",
       "    <tr>\n",
       "      <th>35</th>\n",
       "      <td>36</td>\n",
       "      <td>Fixed Frequency Jacobi</td>\n",
       "      <td>{'core': 0, 'domainHeight': 1000, 'domainWidth': 1000, 'gpu': 0, 'iterations': 15, 'maximumCPUClockRate': 4533333333.333333, 'maximumGPUClockRate': 284222222.222222, 'minimumCPUClockRate': 4533333333.333333, 'minimumGPUClockRate': 284222222.222222, 'topologyHeight': 1, 'topologyWidth': 1}</td>\n",
       "    </tr>\n",
       "    <tr>\n",
       "      <th>36</th>\n",
       "      <td>37</td>\n",
       "      <td>Fixed Frequency Jacobi</td>\n",
       "      <td>{'core': 0, 'domainHeight': 1000, 'domainWidth': 1000, 'gpu': 0, 'iterations': 15, 'maximumCPUClockRate': 9511111111.11111, 'maximumGPUClockRate': 1700333333.333333, 'minimumCPUClockRate': 9511111111.11111, 'minimumGPUClockRate': 1700333333.333333, 'topologyHeight': 1, 'topologyWidth': 1}</td>\n",
       "    </tr>\n",
       "    <tr>\n",
       "      <th>37</th>\n",
       "      <td>38</td>\n",
       "      <td>Fixed Frequency Jacobi</td>\n",
       "      <td>{'core': 0, 'domainHeight': 1000, 'domainWidth': 1000, 'gpu': 0, 'iterations': 15, 'maximumCPUClockRate': 10755555555.555555, 'maximumGPUClockRate': 850666666.666667, 'minimumCPUClockRate': 10755555555.555555, 'minimumGPUClockRate': 850666666.666667, 'topologyHeight': 1, 'topologyWidth': 1}</td>\n",
       "    </tr>\n",
       "    <tr>\n",
       "      <th>38</th>\n",
       "      <td>39</td>\n",
       "      <td>Fixed Frequency Jacobi</td>\n",
       "      <td>{'core': 0, 'domainHeight': 1000, 'domainWidth': 1000, 'gpu': 0, 'iterations': 15, 'maximumCPUClockRate': 5777777777.777778, 'maximumGPUClockRate': 1983555555.555555, 'minimumCPUClockRate': 5777777777.777778, 'minimumGPUClockRate': 1983555555.555555, 'topologyHeight': 1, 'topologyWidth': 1}</td>\n",
       "    </tr>\n",
       "    <tr>\n",
       "      <th>39</th>\n",
       "      <td>40</td>\n",
       "      <td>Fixed Frequency Jacobi</td>\n",
       "      <td>{'core': 0, 'domainHeight': 1000, 'domainWidth': 1000, 'gpu': 0, 'iterations': 15, 'maximumCPUClockRate': 3288888888.888889, 'maximumGPUClockRate': 2266777777.777778, 'minimumCPUClockRate': 3288888888.888889, 'minimumGPUClockRate': 2266777777.777778, 'topologyHeight': 1, 'topologyWidth': 1}</td>\n",
       "    </tr>\n",
       "    <tr>\n",
       "      <th>40</th>\n",
       "      <td>41</td>\n",
       "      <td>Fixed Frequency Jacobi</td>\n",
       "      <td>{'core': 0, 'domainHeight': 1000, 'domainWidth': 1000, 'gpu': 0, 'iterations': 15, 'maximumCPUClockRate': 5777777777.777778, 'maximumGPUClockRate': 1000000.0, 'minimumCPUClockRate': 5777777777.777778, 'minimumGPUClockRate': 1000000.0, 'topologyHeight': 1, 'topologyWidth': 1}</td>\n",
       "    </tr>\n",
       "    <tr>\n",
       "      <th>41</th>\n",
       "      <td>42</td>\n",
       "      <td>Fixed Frequency Jacobi</td>\n",
       "      <td>{'core': 0, 'domainHeight': 1000, 'domainWidth': 1000, 'gpu': 0, 'iterations': 15, 'maximumCPUClockRate': 7022222222.222222, 'maximumGPUClockRate': 1133888888.888889, 'minimumCPUClockRate': 7022222222.222222, 'minimumGPUClockRate': 1133888888.888889, 'topologyHeight': 1, 'topologyWidth': 1}</td>\n",
       "    </tr>\n",
       "    <tr>\n",
       "      <th>42</th>\n",
       "      <td>43</td>\n",
       "      <td>Fixed Frequency Jacobi</td>\n",
       "      <td>{'core': 0, 'domainHeight': 1000, 'domainWidth': 1000, 'gpu': 0, 'iterations': 15, 'maximumCPUClockRate': 2044444444.444444, 'maximumGPUClockRate': 1133888888.888889, 'minimumCPUClockRate': 2044444444.444444, 'minimumGPUClockRate': 1133888888.888889, 'topologyHeight': 1, 'topologyWidth': 1}</td>\n",
       "    </tr>\n",
       "    <tr>\n",
       "      <th>43</th>\n",
       "      <td>44</td>\n",
       "      <td>Fixed Frequency Jacobi</td>\n",
       "      <td>{'core': 0, 'domainHeight': 1000, 'domainWidth': 1000, 'gpu': 0, 'iterations': 15, 'maximumCPUClockRate': 800000000.0, 'maximumGPUClockRate': 284222222.222222, 'minimumCPUClockRate': 800000000.0, 'minimumGPUClockRate': 284222222.222222, 'topologyHeight': 1, 'topologyWidth': 1}</td>\n",
       "    </tr>\n",
       "    <tr>\n",
       "      <th>44</th>\n",
       "      <td>45</td>\n",
       "      <td>Fixed Frequency Jacobi</td>\n",
       "      <td>{'core': 0, 'domainHeight': 1000, 'domainWidth': 1000, 'gpu': 0, 'iterations': 15, 'maximumCPUClockRate': 7022222222.222222, 'maximumGPUClockRate': 1000000.0, 'minimumCPUClockRate': 7022222222.222222, 'minimumGPUClockRate': 1000000.0, 'topologyHeight': 1, 'topologyWidth': 1}</td>\n",
       "    </tr>\n",
       "    <tr>\n",
       "      <th>45</th>\n",
       "      <td>46</td>\n",
       "      <td>Fixed Frequency Jacobi</td>\n",
       "      <td>{'core': 0, 'domainHeight': 1000, 'domainWidth': 1000, 'gpu': 0, 'iterations': 15, 'maximumCPUClockRate': 5777777777.777778, 'maximumGPUClockRate': 1417111111.111111, 'minimumCPUClockRate': 5777777777.777778, 'minimumGPUClockRate': 1417111111.111111, 'topologyHeight': 1, 'topologyWidth': 1}</td>\n",
       "    </tr>\n",
       "    <tr>\n",
       "      <th>46</th>\n",
       "      <td>47</td>\n",
       "      <td>Fixed Frequency Jacobi</td>\n",
       "      <td>{'core': 0, 'domainHeight': 1000, 'domainWidth': 1000, 'gpu': 0, 'iterations': 15, 'maximumCPUClockRate': 12000000000.0, 'maximumGPUClockRate': 2550000000.0, 'minimumCPUClockRate': 12000000000.0, 'minimumGPUClockRate': 2550000000.0, 'topologyHeight': 1, 'topologyWidth': 1}</td>\n",
       "    </tr>\n",
       "    <tr>\n",
       "      <th>47</th>\n",
       "      <td>48</td>\n",
       "      <td>Fixed Frequency Jacobi</td>\n",
       "      <td>{'core': 0, 'domainHeight': 1000, 'domainWidth': 1000, 'gpu': 0, 'iterations': 15, 'maximumCPUClockRate': 2044444444.444444, 'maximumGPUClockRate': 850666666.666667, 'minimumCPUClockRate': 2044444444.444444, 'minimumGPUClockRate': 850666666.666667, 'topologyHeight': 1, 'topologyWidth': 1}</td>\n",
       "    </tr>\n",
       "    <tr>\n",
       "      <th>48</th>\n",
       "      <td>49</td>\n",
       "      <td>Fixed Frequency Jacobi</td>\n",
       "      <td>{'core': 0, 'domainHeight': 1000, 'domainWidth': 1000, 'gpu': 0, 'iterations': 15, 'maximumCPUClockRate': 2044444444.444444, 'maximumGPUClockRate': 2550000000.0, 'minimumCPUClockRate': 2044444444.444444, 'minimumGPUClockRate': 2550000000.0, 'topologyHeight': 1, 'topologyWidth': 1}</td>\n",
       "    </tr>\n",
       "    <tr>\n",
       "      <th>49</th>\n",
       "      <td>50</td>\n",
       "      <td>Fixed Frequency Jacobi</td>\n",
       "      <td>{'core': 0, 'domainHeight': 1000, 'domainWidth': 1000, 'gpu': 0, 'iterations': 15, 'maximumCPUClockRate': 12000000000.0, 'maximumGPUClockRate': 2266777777.777778, 'minimumCPUClockRate': 12000000000.0, 'minimumGPUClockRate': 2266777777.777778, 'topologyHeight': 1, 'topologyWidth': 1}</td>\n",
       "    </tr>\n",
       "    <tr>\n",
       "      <th>50</th>\n",
       "      <td>51</td>\n",
       "      <td>Fixed Frequency Jacobi</td>\n",
       "      <td>{'core': 0, 'domainHeight': 1000, 'domainWidth': 1000, 'gpu': 0, 'iterations': 15, 'maximumCPUClockRate': 7022222222.222222, 'maximumGPUClockRate': 284222222.222222, 'minimumCPUClockRate': 7022222222.222222, 'minimumGPUClockRate': 284222222.222222, 'topologyHeight': 1, 'topologyWidth': 1}</td>\n",
       "    </tr>\n",
       "    <tr>\n",
       "      <th>51</th>\n",
       "      <td>52</td>\n",
       "      <td>Fixed Frequency Jacobi</td>\n",
       "      <td>{'core': 0, 'domainHeight': 1000, 'domainWidth': 1000, 'gpu': 0, 'iterations': 15, 'maximumCPUClockRate': 5777777777.777778, 'maximumGPUClockRate': 2550000000.0, 'minimumCPUClockRate': 5777777777.777778, 'minimumGPUClockRate': 2550000000.0, 'topologyHeight': 1, 'topologyWidth': 1}</td>\n",
       "    </tr>\n",
       "    <tr>\n",
       "      <th>52</th>\n",
       "      <td>53</td>\n",
       "      <td>Fixed Frequency Jacobi</td>\n",
       "      <td>{'core': 0, 'domainHeight': 1000, 'domainWidth': 1000, 'gpu': 0, 'iterations': 15, 'maximumCPUClockRate': 4533333333.333333, 'maximumGPUClockRate': 1000000.0, 'minimumCPUClockRate': 4533333333.333333, 'minimumGPUClockRate': 1000000.0, 'topologyHeight': 1, 'topologyWidth': 1}</td>\n",
       "    </tr>\n",
       "    <tr>\n",
       "      <th>53</th>\n",
       "      <td>54</td>\n",
       "      <td>Fixed Frequency Jacobi</td>\n",
       "      <td>{'core': 0, 'domainHeight': 1000, 'domainWidth': 1000, 'gpu': 0, 'iterations': 15, 'maximumCPUClockRate': 2044444444.444444, 'maximumGPUClockRate': 2266777777.777778, 'minimumCPUClockRate': 2044444444.444444, 'minimumGPUClockRate': 2266777777.777778, 'topologyHeight': 1, 'topologyWidth': 1}</td>\n",
       "    </tr>\n",
       "    <tr>\n",
       "      <th>54</th>\n",
       "      <td>55</td>\n",
       "      <td>Fixed Frequency Jacobi</td>\n",
       "      <td>{'core': 0, 'domainHeight': 1000, 'domainWidth': 1000, 'gpu': 0, 'iterations': 15, 'maximumCPUClockRate': 10755555555.555555, 'maximumGPUClockRate': 1417111111.111111, 'minimumCPUClockRate': 10755555555.555555, 'minimumGPUClockRate': 1417111111.111111, 'topologyHeight': 1, 'topologyWidth': 1}</td>\n",
       "    </tr>\n",
       "    <tr>\n",
       "      <th>55</th>\n",
       "      <td>56</td>\n",
       "      <td>Fixed Frequency Jacobi</td>\n",
       "      <td>{'core': 0, 'domainHeight': 1000, 'domainWidth': 1000, 'gpu': 0, 'iterations': 15, 'maximumCPUClockRate': 7022222222.222222, 'maximumGPUClockRate': 2266777777.777778, 'minimumCPUClockRate': 7022222222.222222, 'minimumGPUClockRate': 2266777777.777778, 'topologyHeight': 1, 'topologyWidth': 1}</td>\n",
       "    </tr>\n",
       "    <tr>\n",
       "      <th>56</th>\n",
       "      <td>57</td>\n",
       "      <td>Fixed Frequency Jacobi</td>\n",
       "      <td>{'core': 0, 'domainHeight': 1000, 'domainWidth': 1000, 'gpu': 0, 'iterations': 15, 'maximumCPUClockRate': 10755555555.555555, 'maximumGPUClockRate': 567444444.444444, 'minimumCPUClockRate': 10755555555.555555, 'minimumGPUClockRate': 567444444.444444, 'topologyHeight': 1, 'topologyWidth': 1}</td>\n",
       "    </tr>\n",
       "    <tr>\n",
       "      <th>57</th>\n",
       "      <td>58</td>\n",
       "      <td>Fixed Frequency Jacobi</td>\n",
       "      <td>{'core': 0, 'domainHeight': 1000, 'domainWidth': 1000, 'gpu': 0, 'iterations': 15, 'maximumCPUClockRate': 8266666666.666666, 'maximumGPUClockRate': 1133888888.888889, 'minimumCPUClockRate': 8266666666.666666, 'minimumGPUClockRate': 1133888888.888889, 'topologyHeight': 1, 'topologyWidth': 1}</td>\n",
       "    </tr>\n",
       "    <tr>\n",
       "      <th>58</th>\n",
       "      <td>59</td>\n",
       "      <td>Fixed Frequency Jacobi</td>\n",
       "      <td>{'core': 0, 'domainHeight': 1000, 'domainWidth': 1000, 'gpu': 0, 'iterations': 15, 'maximumCPUClockRate': 8266666666.666666, 'maximumGPUClockRate': 2266777777.777778, 'minimumCPUClockRate': 8266666666.666666, 'minimumGPUClockRate': 2266777777.777778, 'topologyHeight': 1, 'topologyWidth': 1}</td>\n",
       "    </tr>\n",
       "    <tr>\n",
       "      <th>59</th>\n",
       "      <td>60</td>\n",
       "      <td>Fixed Frequency Jacobi</td>\n",
       "      <td>{'core': 0, 'domainHeight': 1000, 'domainWidth': 1000, 'gpu': 0, 'iterations': 15, 'maximumCPUClockRate': 2044444444.444444, 'maximumGPUClockRate': 1983555555.555555, 'minimumCPUClockRate': 2044444444.444444, 'minimumGPUClockRate': 1983555555.555555, 'topologyHeight': 1, 'topologyWidth': 1}</td>\n",
       "    </tr>\n",
       "    <tr>\n",
       "      <th>60</th>\n",
       "      <td>61</td>\n",
       "      <td>Fixed Frequency Jacobi</td>\n",
       "      <td>{'core': 0, 'domainHeight': 1000, 'domainWidth': 1000, 'gpu': 0, 'iterations': 15, 'maximumCPUClockRate': 3288888888.888889, 'maximumGPUClockRate': 1133888888.888889, 'minimumCPUClockRate': 3288888888.888889, 'minimumGPUClockRate': 1133888888.888889, 'topologyHeight': 1, 'topologyWidth': 1}</td>\n",
       "    </tr>\n",
       "    <tr>\n",
       "      <th>61</th>\n",
       "      <td>62</td>\n",
       "      <td>Fixed Frequency Jacobi</td>\n",
       "      <td>{'core': 0, 'domainHeight': 1000, 'domainWidth': 1000, 'gpu': 0, 'iterations': 15, 'maximumCPUClockRate': 3288888888.888889, 'maximumGPUClockRate': 567444444.444444, 'minimumCPUClockRate': 3288888888.888889, 'minimumGPUClockRate': 567444444.444444, 'topologyHeight': 1, 'topologyWidth': 1}</td>\n",
       "    </tr>\n",
       "    <tr>\n",
       "      <th>62</th>\n",
       "      <td>63</td>\n",
       "      <td>Fixed Frequency Jacobi</td>\n",
       "      <td>{'core': 0, 'domainHeight': 1000, 'domainWidth': 1000, 'gpu': 0, 'iterations': 15, 'maximumCPUClockRate': 2044444444.444444, 'maximumGPUClockRate': 1000000.0, 'minimumCPUClockRate': 2044444444.444444, 'minimumGPUClockRate': 1000000.0, 'topologyHeight': 1, 'topologyWidth': 1}</td>\n",
       "    </tr>\n",
       "    <tr>\n",
       "      <th>63</th>\n",
       "      <td>64</td>\n",
       "      <td>Fixed Frequency Jacobi</td>\n",
       "      <td>{'core': 0, 'domainHeight': 1000, 'domainWidth': 1000, 'gpu': 0, 'iterations': 15, 'maximumCPUClockRate': 3288888888.888889, 'maximumGPUClockRate': 1000000.0, 'minimumCPUClockRate': 3288888888.888889, 'minimumGPUClockRate': 1000000.0, 'topologyHeight': 1, 'topologyWidth': 1}</td>\n",
       "    </tr>\n",
       "    <tr>\n",
       "      <th>64</th>\n",
       "      <td>65</td>\n",
       "      <td>Fixed Frequency Jacobi</td>\n",
       "      <td>{'core': 0, 'domainHeight': 1000, 'domainWidth': 1000, 'gpu': 0, 'iterations': 15, 'maximumCPUClockRate': 800000000.0, 'maximumGPUClockRate': 1700333333.333333, 'minimumCPUClockRate': 800000000.0, 'minimumGPUClockRate': 1700333333.333333, 'topologyHeight': 1, 'topologyWidth': 1}</td>\n",
       "    </tr>\n",
       "    <tr>\n",
       "      <th>65</th>\n",
       "      <td>66</td>\n",
       "      <td>Fixed Frequency Jacobi</td>\n",
       "      <td>{'core': 0, 'domainHeight': 1000, 'domainWidth': 1000, 'gpu': 0, 'iterations': 15, 'maximumCPUClockRate': 4533333333.333333, 'maximumGPUClockRate': 1133888888.888889, 'minimumCPUClockRate': 4533333333.333333, 'minimumGPUClockRate': 1133888888.888889, 'topologyHeight': 1, 'topologyWidth': 1}</td>\n",
       "    </tr>\n",
       "    <tr>\n",
       "      <th>66</th>\n",
       "      <td>67</td>\n",
       "      <td>Fixed Frequency Jacobi</td>\n",
       "      <td>{'core': 0, 'domainHeight': 1000, 'domainWidth': 1000, 'gpu': 0, 'iterations': 15, 'maximumCPUClockRate': 800000000.0, 'maximumGPUClockRate': 2550000000.0, 'minimumCPUClockRate': 800000000.0, 'minimumGPUClockRate': 2550000000.0, 'topologyHeight': 1, 'topologyWidth': 1}</td>\n",
       "    </tr>\n",
       "    <tr>\n",
       "      <th>67</th>\n",
       "      <td>68</td>\n",
       "      <td>Fixed Frequency Jacobi</td>\n",
       "      <td>{'core': 0, 'domainHeight': 1000, 'domainWidth': 1000, 'gpu': 0, 'iterations': 15, 'maximumCPUClockRate': 3288888888.888889, 'maximumGPUClockRate': 1417111111.111111, 'minimumCPUClockRate': 3288888888.888889, 'minimumGPUClockRate': 1417111111.111111, 'topologyHeight': 1, 'topologyWidth': 1}</td>\n",
       "    </tr>\n",
       "    <tr>\n",
       "      <th>68</th>\n",
       "      <td>69</td>\n",
       "      <td>Fixed Frequency Jacobi</td>\n",
       "      <td>{'core': 0, 'domainHeight': 1000, 'domainWidth': 1000, 'gpu': 0, 'iterations': 15, 'maximumCPUClockRate': 9511111111.11111, 'maximumGPUClockRate': 284222222.222222, 'minimumCPUClockRate': 9511111111.11111, 'minimumGPUClockRate': 284222222.222222, 'topologyHeight': 1, 'topologyWidth': 1}</td>\n",
       "    </tr>\n",
       "    <tr>\n",
       "      <th>69</th>\n",
       "      <td>70</td>\n",
       "      <td>Fixed Frequency Jacobi</td>\n",
       "      <td>{'core': 0, 'domainHeight': 1000, 'domainWidth': 1000, 'gpu': 0, 'iterations': 15, 'maximumCPUClockRate': 5777777777.777778, 'maximumGPUClockRate': 567444444.444444, 'minimumCPUClockRate': 5777777777.777778, 'minimumGPUClockRate': 567444444.444444, 'topologyHeight': 1, 'topologyWidth': 1}</td>\n",
       "    </tr>\n",
       "    <tr>\n",
       "      <th>70</th>\n",
       "      <td>71</td>\n",
       "      <td>Fixed Frequency Jacobi</td>\n",
       "      <td>{'core': 0, 'domainHeight': 1000, 'domainWidth': 1000, 'gpu': 0, 'iterations': 15, 'maximumCPUClockRate': 7022222222.222222, 'maximumGPUClockRate': 1983555555.555555, 'minimumCPUClockRate': 7022222222.222222, 'minimumGPUClockRate': 1983555555.555555, 'topologyHeight': 1, 'topologyWidth': 1}</td>\n",
       "    </tr>\n",
       "    <tr>\n",
       "      <th>71</th>\n",
       "      <td>72</td>\n",
       "      <td>Fixed Frequency Jacobi</td>\n",
       "      <td>{'core': 0, 'domainHeight': 1000, 'domainWidth': 1000, 'gpu': 0, 'iterations': 15, 'maximumCPUClockRate': 9511111111.11111, 'maximumGPUClockRate': 1417111111.111111, 'minimumCPUClockRate': 9511111111.11111, 'minimumGPUClockRate': 1417111111.111111, 'topologyHeight': 1, 'topologyWidth': 1}</td>\n",
       "    </tr>\n",
       "    <tr>\n",
       "      <th>72</th>\n",
       "      <td>73</td>\n",
       "      <td>Fixed Frequency Jacobi</td>\n",
       "      <td>{'core': 0, 'domainHeight': 1000, 'domainWidth': 1000, 'gpu': 0, 'iterations': 15, 'maximumCPUClockRate': 4533333333.333333, 'maximumGPUClockRate': 1983555555.555555, 'minimumCPUClockRate': 4533333333.333333, 'minimumGPUClockRate': 1983555555.555555, 'topologyHeight': 1, 'topologyWidth': 1}</td>\n",
       "    </tr>\n",
       "    <tr>\n",
       "      <th>73</th>\n",
       "      <td>74</td>\n",
       "      <td>Fixed Frequency Jacobi</td>\n",
       "      <td>{'core': 0, 'domainHeight': 1000, 'domainWidth': 1000, 'gpu': 0, 'iterations': 15, 'maximumCPUClockRate': 5777777777.777778, 'maximumGPUClockRate': 1133888888.888889, 'minimumCPUClockRate': 5777777777.777778, 'minimumGPUClockRate': 1133888888.888889, 'topologyHeight': 1, 'topologyWidth': 1}</td>\n",
       "    </tr>\n",
       "    <tr>\n",
       "      <th>74</th>\n",
       "      <td>75</td>\n",
       "      <td>Fixed Frequency Jacobi</td>\n",
       "      <td>{'core': 0, 'domainHeight': 1000, 'domainWidth': 1000, 'gpu': 0, 'iterations': 15, 'maximumCPUClockRate': 800000000.0, 'maximumGPUClockRate': 1983555555.555555, 'minimumCPUClockRate': 800000000.0, 'minimumGPUClockRate': 1983555555.555555, 'topologyHeight': 1, 'topologyWidth': 1}</td>\n",
       "    </tr>\n",
       "    <tr>\n",
       "      <th>75</th>\n",
       "      <td>76</td>\n",
       "      <td>Fixed Frequency Jacobi</td>\n",
       "      <td>{'core': 0, 'domainHeight': 1000, 'domainWidth': 1000, 'gpu': 0, 'iterations': 15, 'maximumCPUClockRate': 8266666666.666666, 'maximumGPUClockRate': 1700333333.333333, 'minimumCPUClockRate': 8266666666.666666, 'minimumGPUClockRate': 1700333333.333333, 'topologyHeight': 1, 'topologyWidth': 1}</td>\n",
       "    </tr>\n",
       "    <tr>\n",
       "      <th>76</th>\n",
       "      <td>77</td>\n",
       "      <td>Fixed Frequency Jacobi</td>\n",
       "      <td>{'core': 0, 'domainHeight': 1000, 'domainWidth': 1000, 'gpu': 0, 'iterations': 15, 'maximumCPUClockRate': 8266666666.666666, 'maximumGPUClockRate': 567444444.444444, 'minimumCPUClockRate': 8266666666.666666, 'minimumGPUClockRate': 567444444.444444, 'topologyHeight': 1, 'topologyWidth': 1}</td>\n",
       "    </tr>\n",
       "    <tr>\n",
       "      <th>77</th>\n",
       "      <td>78</td>\n",
       "      <td>Fixed Frequency Jacobi</td>\n",
       "      <td>{'core': 0, 'domainHeight': 1000, 'domainWidth': 1000, 'gpu': 0, 'iterations': 15, 'maximumCPUClockRate': 7022222222.222222, 'maximumGPUClockRate': 1417111111.111111, 'minimumCPUClockRate': 7022222222.222222, 'minimumGPUClockRate': 1417111111.111111, 'topologyHeight': 1, 'topologyWidth': 1}</td>\n",
       "    </tr>\n",
       "    <tr>\n",
       "      <th>78</th>\n",
       "      <td>79</td>\n",
       "      <td>Fixed Frequency Jacobi</td>\n",
       "      <td>{'core': 0, 'domainHeight': 1000, 'domainWidth': 1000, 'gpu': 0, 'iterations': 15, 'maximumCPUClockRate': 800000000.0, 'maximumGPUClockRate': 1133888888.888889, 'minimumCPUClockRate': 800000000.0, 'minimumGPUClockRate': 1133888888.888889, 'topologyHeight': 1, 'topologyWidth': 1}</td>\n",
       "    </tr>\n",
       "    <tr>\n",
       "      <th>79</th>\n",
       "      <td>80</td>\n",
       "      <td>Fixed Frequency Jacobi</td>\n",
       "      <td>{'core': 0, 'domainHeight': 1000, 'domainWidth': 1000, 'gpu': 0, 'iterations': 15, 'maximumCPUClockRate': 9511111111.11111, 'maximumGPUClockRate': 1133888888.888889, 'minimumCPUClockRate': 9511111111.11111, 'minimumGPUClockRate': 1133888888.888889, 'topologyHeight': 1, 'topologyWidth': 1}</td>\n",
       "    </tr>\n",
       "    <tr>\n",
       "      <th>80</th>\n",
       "      <td>81</td>\n",
       "      <td>Fixed Frequency Jacobi</td>\n",
       "      <td>{'core': 0, 'domainHeight': 1000, 'domainWidth': 1000, 'gpu': 0, 'iterations': 15, 'maximumCPUClockRate': 3288888888.888889, 'maximumGPUClockRate': 1700333333.333333, 'minimumCPUClockRate': 3288888888.888889, 'minimumGPUClockRate': 1700333333.333333, 'topologyHeight': 1, 'topologyWidth': 1}</td>\n",
       "    </tr>\n",
       "    <tr>\n",
       "      <th>81</th>\n",
       "      <td>82</td>\n",
       "      <td>Fixed Frequency Jacobi</td>\n",
       "      <td>{'core': 0, 'domainHeight': 1000, 'domainWidth': 1000, 'gpu': 0, 'iterations': 15, 'maximumCPUClockRate': 7022222222.222222, 'maximumGPUClockRate': 2550000000.0, 'minimumCPUClockRate': 7022222222.222222, 'minimumGPUClockRate': 2550000000.0, 'topologyHeight': 1, 'topologyWidth': 1}</td>\n",
       "    </tr>\n",
       "    <tr>\n",
       "      <th>82</th>\n",
       "      <td>83</td>\n",
       "      <td>Fixed Frequency Jacobi</td>\n",
       "      <td>{'core': 0, 'domainHeight': 1000, 'domainWidth': 1000, 'gpu': 0, 'iterations': 15, 'maximumCPUClockRate': 2044444444.444444, 'maximumGPUClockRate': 567444444.444444, 'minimumCPUClockRate': 2044444444.444444, 'minimumGPUClockRate': 567444444.444444, 'topologyHeight': 1, 'topologyWidth': 1}</td>\n",
       "    </tr>\n",
       "    <tr>\n",
       "      <th>83</th>\n",
       "      <td>84</td>\n",
       "      <td>Fixed Frequency Jacobi</td>\n",
       "      <td>{'core': 0, 'domainHeight': 1000, 'domainWidth': 1000, 'gpu': 0, 'iterations': 15, 'maximumCPUClockRate': 4533333333.333333, 'maximumGPUClockRate': 2550000000.0, 'minimumCPUClockRate': 4533333333.333333, 'minimumGPUClockRate': 2550000000.0, 'topologyHeight': 1, 'topologyWidth': 1}</td>\n",
       "    </tr>\n",
       "    <tr>\n",
       "      <th>84</th>\n",
       "      <td>85</td>\n",
       "      <td>Fixed Frequency Jacobi</td>\n",
       "      <td>{'core': 0, 'domainHeight': 1000, 'domainWidth': 1000, 'gpu': 0, 'iterations': 15, 'maximumCPUClockRate': 10755555555.555555, 'maximumGPUClockRate': 1133888888.888889, 'minimumCPUClockRate': 10755555555.555555, 'minimumGPUClockRate': 1133888888.888889, 'topologyHeight': 1, 'topologyWidth': 1}</td>\n",
       "    </tr>\n",
       "    <tr>\n",
       "      <th>85</th>\n",
       "      <td>86</td>\n",
       "      <td>Fixed Frequency Jacobi</td>\n",
       "      <td>{'core': 0, 'domainHeight': 1000, 'domainWidth': 1000, 'gpu': 0, 'iterations': 15, 'maximumCPUClockRate': 9511111111.11111, 'maximumGPUClockRate': 2550000000.0, 'minimumCPUClockRate': 9511111111.11111, 'minimumGPUClockRate': 2550000000.0, 'topologyHeight': 1, 'topologyWidth': 1}</td>\n",
       "    </tr>\n",
       "    <tr>\n",
       "      <th>86</th>\n",
       "      <td>87</td>\n",
       "      <td>Fixed Frequency Jacobi</td>\n",
       "      <td>{'core': 0, 'domainHeight': 1000, 'domainWidth': 1000, 'gpu': 0, 'iterations': 15, 'maximumCPUClockRate': 7022222222.222222, 'maximumGPUClockRate': 1700333333.333333, 'minimumCPUClockRate': 7022222222.222222, 'minimumGPUClockRate': 1700333333.333333, 'topologyHeight': 1, 'topologyWidth': 1}</td>\n",
       "    </tr>\n",
       "    <tr>\n",
       "      <th>87</th>\n",
       "      <td>88</td>\n",
       "      <td>Fixed Frequency Jacobi</td>\n",
       "      <td>{'core': 0, 'domainHeight': 1000, 'domainWidth': 1000, 'gpu': 0, 'iterations': 15, 'maximumCPUClockRate': 5777777777.777778, 'maximumGPUClockRate': 850666666.666667, 'minimumCPUClockRate': 5777777777.777778, 'minimumGPUClockRate': 850666666.666667, 'topologyHeight': 1, 'topologyWidth': 1}</td>\n",
       "    </tr>\n",
       "    <tr>\n",
       "      <th>88</th>\n",
       "      <td>89</td>\n",
       "      <td>Fixed Frequency Jacobi</td>\n",
       "      <td>{'core': 0, 'domainHeight': 1000, 'domainWidth': 1000, 'gpu': 0, 'iterations': 15, 'maximumCPUClockRate': 10755555555.555555, 'maximumGPUClockRate': 2266777777.777778, 'minimumCPUClockRate': 10755555555.555555, 'minimumGPUClockRate': 2266777777.777778, 'topologyHeight': 1, 'topologyWidth': 1}</td>\n",
       "    </tr>\n",
       "    <tr>\n",
       "      <th>89</th>\n",
       "      <td>90</td>\n",
       "      <td>Fixed Frequency Jacobi</td>\n",
       "      <td>{'core': 0, 'domainHeight': 1000, 'domainWidth': 1000, 'gpu': 0, 'iterations': 15, 'maximumCPUClockRate': 4533333333.333333, 'maximumGPUClockRate': 850666666.666667, 'minimumCPUClockRate': 4533333333.333333, 'minimumGPUClockRate': 850666666.666667, 'topologyHeight': 1, 'topologyWidth': 1}</td>\n",
       "    </tr>\n",
       "    <tr>\n",
       "      <th>90</th>\n",
       "      <td>91</td>\n",
       "      <td>Fixed Frequency Jacobi</td>\n",
       "      <td>{'core': 0, 'domainHeight': 1000, 'domainWidth': 1000, 'gpu': 0, 'iterations': 15, 'maximumCPUClockRate': 2044444444.444444, 'maximumGPUClockRate': 1417111111.111111, 'minimumCPUClockRate': 2044444444.444444, 'minimumGPUClockRate': 1417111111.111111, 'topologyHeight': 1, 'topologyWidth': 1}</td>\n",
       "    </tr>\n",
       "    <tr>\n",
       "      <th>91</th>\n",
       "      <td>92</td>\n",
       "      <td>Fixed Frequency Jacobi</td>\n",
       "      <td>{'core': 0, 'domainHeight': 1000, 'domainWidth': 1000, 'gpu': 0, 'iterations': 15, 'maximumCPUClockRate': 4533333333.333333, 'maximumGPUClockRate': 2266777777.777778, 'minimumCPUClockRate': 4533333333.333333, 'minimumGPUClockRate': 2266777777.777778, 'topologyHeight': 1, 'topologyWidth': 1}</td>\n",
       "    </tr>\n",
       "    <tr>\n",
       "      <th>92</th>\n",
       "      <td>93</td>\n",
       "      <td>Fixed Frequency Jacobi</td>\n",
       "      <td>{'core': 0, 'domainHeight': 1000, 'domainWidth': 1000, 'gpu': 0, 'iterations': 15, 'maximumCPUClockRate': 800000000.0, 'maximumGPUClockRate': 567444444.444444, 'minimumCPUClockRate': 800000000.0, 'minimumGPUClockRate': 567444444.444444, 'topologyHeight': 1, 'topologyWidth': 1}</td>\n",
       "    </tr>\n",
       "    <tr>\n",
       "      <th>93</th>\n",
       "      <td>94</td>\n",
       "      <td>Fixed Frequency Jacobi</td>\n",
       "      <td>{'core': 0, 'domainHeight': 1000, 'domainWidth': 1000, 'gpu': 0, 'iterations': 15, 'maximumCPUClockRate': 5777777777.777778, 'maximumGPUClockRate': 2266777777.777778, 'minimumCPUClockRate': 5777777777.777778, 'minimumGPUClockRate': 2266777777.777778, 'topologyHeight': 1, 'topologyWidth': 1}</td>\n",
       "    </tr>\n",
       "    <tr>\n",
       "      <th>94</th>\n",
       "      <td>95</td>\n",
       "      <td>Fixed Frequency Jacobi</td>\n",
       "      <td>{'core': 0, 'domainHeight': 1000, 'domainWidth': 1000, 'gpu': 0, 'iterations': 15, 'maximumCPUClockRate': 2044444444.444444, 'maximumGPUClockRate': 284222222.222222, 'minimumCPUClockRate': 2044444444.444444, 'minimumGPUClockRate': 284222222.222222, 'topologyHeight': 1, 'topologyWidth': 1}</td>\n",
       "    </tr>\n",
       "    <tr>\n",
       "      <th>95</th>\n",
       "      <td>96</td>\n",
       "      <td>Fixed Frequency Jacobi</td>\n",
       "      <td>{'core': 0, 'domainHeight': 1000, 'domainWidth': 1000, 'gpu': 0, 'iterations': 15, 'maximumCPUClockRate': 12000000000.0, 'maximumGPUClockRate': 1983555555.555555, 'minimumCPUClockRate': 12000000000.0, 'minimumGPUClockRate': 1983555555.555555, 'topologyHeight': 1, 'topologyWidth': 1}</td>\n",
       "    </tr>\n",
       "    <tr>\n",
       "      <th>96</th>\n",
       "      <td>97</td>\n",
       "      <td>Fixed Frequency Jacobi</td>\n",
       "      <td>{'core': 0, 'domainHeight': 1000, 'domainWidth': 1000, 'gpu': 0, 'iterations': 15, 'maximumCPUClockRate': 12000000000.0, 'maximumGPUClockRate': 284222222.222222, 'minimumCPUClockRate': 12000000000.0, 'minimumGPUClockRate': 284222222.222222, 'topologyHeight': 1, 'topologyWidth': 1}</td>\n",
       "    </tr>\n",
       "    <tr>\n",
       "      <th>97</th>\n",
       "      <td>98</td>\n",
       "      <td>Fixed Frequency Jacobi</td>\n",
       "      <td>{'core': 0, 'domainHeight': 1000, 'domainWidth': 1000, 'gpu': 0, 'iterations': 15, 'maximumCPUClockRate': 12000000000.0, 'maximumGPUClockRate': 850666666.666667, 'minimumCPUClockRate': 12000000000.0, 'minimumGPUClockRate': 850666666.666667, 'topologyHeight': 1, 'topologyWidth': 1}</td>\n",
       "    </tr>\n",
       "    <tr>\n",
       "      <th>98</th>\n",
       "      <td>99</td>\n",
       "      <td>Fixed Frequency Jacobi</td>\n",
       "      <td>{'core': 0, 'domainHeight': 1000, 'domainWidth': 1000, 'gpu': 0, 'iterations': 15, 'maximumCPUClockRate': 800000000.0, 'maximumGPUClockRate': 1417111111.111111, 'minimumCPUClockRate': 800000000.0, 'minimumGPUClockRate': 1417111111.111111, 'topologyHeight': 1, 'topologyWidth': 1}</td>\n",
       "    </tr>\n",
       "    <tr>\n",
       "      <th>99</th>\n",
       "      <td>100</td>\n",
       "      <td>Fixed Frequency Jacobi</td>\n",
       "      <td>{'core': 0, 'domainHeight': 1000, 'domainWidth': 1000, 'gpu': 0, 'iterations': 15, 'maximumCPUClockRate': 7022222222.222222, 'maximumGPUClockRate': 567444444.444444, 'minimumCPUClockRate': 7022222222.222222, 'minimumGPUClockRate': 567444444.444444, 'topologyHeight': 1, 'topologyWidth': 1}</td>\n",
       "    </tr>\n",
       "    <tr>\n",
       "      <th>100</th>\n",
       "      <td>101</td>\n",
       "      <td>Fixed Frequency Jacobi</td>\n",
       "      <td>{'core': 0, 'domainHeight': 1000, 'domainWidth': 1000, 'gpu': 0, 'iterations': 15, 'maximumCPUClockRate': 4533333333.333333, 'maximumGPUClockRate': 567444444.444444, 'minimumCPUClockRate': 4533333333.333333, 'minimumGPUClockRate': 567444444.444444, 'topologyHeight': 1, 'topologyWidth': 1}</td>\n",
       "    </tr>\n",
       "    <tr>\n",
       "      <th>101</th>\n",
       "      <td>102</td>\n",
       "      <td>Fixed Frequency Jacobi</td>\n",
       "      <td>{'core': 0, 'domainHeight': 1000, 'domainWidth': 1000, 'gpu': 0, 'iterations': 15, 'maximumCPUClockRate': 5777777777.777778, 'maximumGPUClockRate': 284222222.222222, 'minimumCPUClockRate': 5777777777.777778, 'minimumGPUClockRate': 284222222.222222, 'topologyHeight': 1, 'topologyWidth': 1}</td>\n",
       "    </tr>\n",
       "    <tr>\n",
       "      <th>102</th>\n",
       "      <td>103</td>\n",
       "      <td>Fixed Frequency Jacobi</td>\n",
       "      <td>{'core': 0, 'domainHeight': 1000, 'domainWidth': 1000, 'gpu': 0, 'iterations': 15, 'maximumCPUClockRate': 12000000000.0, 'maximumGPUClockRate': 1133888888.888889, 'minimumCPUClockRate': 12000000000.0, 'minimumGPUClockRate': 1133888888.888889, 'topologyHeight': 1, 'topologyWidth': 1}</td>\n",
       "    </tr>\n",
       "    <tr>\n",
       "      <th>103</th>\n",
       "      <td>104</td>\n",
       "      <td>Fixed Frequency Jacobi</td>\n",
       "      <td>{'core': 0, 'domainHeight': 1000, 'domainWidth': 1000, 'gpu': 0, 'iterations': 15, 'maximumCPUClockRate': 9511111111.11111, 'maximumGPUClockRate': 1000000.0, 'minimumCPUClockRate': 9511111111.11111, 'minimumGPUClockRate': 1000000.0, 'topologyHeight': 1, 'topologyWidth': 1}</td>\n",
       "    </tr>\n",
       "    <tr>\n",
       "      <th>104</th>\n",
       "      <td>105</td>\n",
       "      <td>Fixed Frequency Jacobi</td>\n",
       "      <td>{'core': 0, 'domainHeight': 1000, 'domainWidth': 1000, 'gpu': 0, 'iterations': 15, 'maximumCPUClockRate': 12000000000.0, 'maximumGPUClockRate': 1417111111.111111, 'minimumCPUClockRate': 12000000000.0, 'minimumGPUClockRate': 1417111111.111111, 'topologyHeight': 1, 'topologyWidth': 1}</td>\n",
       "    </tr>\n",
       "    <tr>\n",
       "      <th>105</th>\n",
       "      <td>106</td>\n",
       "      <td>Fixed Frequency Jacobi</td>\n",
       "      <td>{'core': 0, 'domainHeight': 1000, 'domainWidth': 1000, 'gpu': 0, 'iterations': 15, 'maximumCPUClockRate': 9511111111.11111, 'maximumGPUClockRate': 567444444.444444, 'minimumCPUClockRate': 9511111111.11111, 'minimumGPUClockRate': 567444444.444444, 'topologyHeight': 1, 'topologyWidth': 1}</td>\n",
       "    </tr>\n",
       "    <tr>\n",
       "      <th>106</th>\n",
       "      <td>107</td>\n",
       "      <td>Jacobi (EnergyMonitor Simple)</td>\n",
       "      <td>{'core': 0, 'domainHeight': 1000, 'domainWidth': 1000, 'gpu': 0, 'iterations': 75, 'topologyHeight': 1, 'topologyWidth': 1}</td>\n",
       "    </tr>\n",
       "    <tr>\n",
       "      <th>107</th>\n",
       "      <td>108</td>\n",
       "      <td>Jacobi (EnergyMonitor Smart)</td>\n",
       "      <td>{'core': 0, 'domainHeight': 1000, 'domainWidth': 1000, 'gpu': 0, 'iterations': 75, 'topologyHeight': 1, 'topologyWidth': 1}</td>\n",
       "    </tr>\n",
       "    <tr>\n",
       "      <th>108</th>\n",
       "      <td>109</td>\n",
       "      <td>Matrix Multiply (EnergyMonitor Simple)</td>\n",
       "      <td>{'core': 0, 'gpu': 0, 'iterations': 15, 'matrixAHeight': 1536, 'matrixAWidth': 1536, 'matrixBHeight': 1536, 'matrixBWidth': 1536}</td>\n",
       "    </tr>\n",
       "    <tr>\n",
       "      <th>109</th>\n",
       "      <td>110</td>\n",
       "      <td>Matrix Multiply (EnergyMonitor Smart)</td>\n",
       "      <td>{'core': 0, 'gpu': 0, 'iterations': 15, 'matrixAHeight': 1536, 'matrixAWidth': 1536, 'matrixBHeight': 1536, 'matrixBWidth': 1536}</td>\n",
       "    </tr>\n",
       "    <tr>\n",
       "      <th>110</th>\n",
       "      <td>111</td>\n",
       "      <td>KMeans (EnergyMonitor Simple)</td>\n",
       "      <td>{'core': 0, 'file': '/home/qub1/rodinia_3.1/data/kmeans/kdd_cup', 'gpu': 0, 'iterations': 75}</td>\n",
       "    </tr>\n",
       "    <tr>\n",
       "      <th>111</th>\n",
       "      <td>112</td>\n",
       "      <td>KMeans (EnergyMonitor Smart)</td>\n",
       "      <td>{'core': 0, 'file': '/home/qub1/rodinia_3.1/data/kmeans/kdd_cup', 'gpu': 0, 'iterations': 75}</td>\n",
       "    </tr>\n",
       "    <tr>\n",
       "      <th>112</th>\n",
       "      <td>113</td>\n",
       "      <td>Jacobi</td>\n",
       "      <td>{'core': 0, 'domainHeight': 1000, 'domainWidth': 1000, 'gpu': 0, 'iterations': 15, 'topologyHeight': 1, 'topologyWidth': 1}</td>\n",
       "    </tr>\n",
       "    <tr>\n",
       "      <th>113</th>\n",
       "      <td>114</td>\n",
       "      <td>Jacobi</td>\n",
       "      <td>{'core': 0, 'domainHeight': 1000, 'domainWidth': 1000, 'gpu': 0, 'iterations': 15, 'topologyHeight': 1, 'topologyWidth': 1}</td>\n",
       "    </tr>\n",
       "    <tr>\n",
       "      <th>114</th>\n",
       "      <td>115</td>\n",
       "      <td>Jacobi</td>\n",
       "      <td>{'core': 0, 'domainHeight': 1000, 'domainWidth': 1000, 'gpu': 0, 'iterations': 15, 'topologyHeight': 1, 'topologyWidth': 1}</td>\n",
       "    </tr>\n",
       "    <tr>\n",
       "      <th>115</th>\n",
       "      <td>116</td>\n",
       "      <td>Jacobi</td>\n",
       "      <td>{'core': 0, 'domainHeight': 1000, 'domainWidth': 1000, 'gpu': 0, 'iterations': 15, 'topologyHeight': 1, 'topologyWidth': 1}</td>\n",
       "    </tr>\n",
       "    <tr>\n",
       "      <th>116</th>\n",
       "      <td>117</td>\n",
       "      <td>Jacobi</td>\n",
       "      <td>{'core': 0, 'domainHeight': 1000, 'domainWidth': 1000, 'gpu': 0, 'iterations': 15, 'topologyHeight': 1, 'topologyWidth': 1}</td>\n",
       "    </tr>\n",
       "    <tr>\n",
       "      <th>117</th>\n",
       "      <td>118</td>\n",
       "      <td>Jacobi</td>\n",
       "      <td>{'core': 0, 'domainHeight': 1000, 'domainWidth': 1000, 'gpu': 0, 'iterations': 15, 'topologyHeight': 1, 'topologyWidth': 1}</td>\n",
       "    </tr>\n",
       "    <tr>\n",
       "      <th>118</th>\n",
       "      <td>119</td>\n",
       "      <td>Jacobi</td>\n",
       "      <td>{'core': 0, 'domainHeight': 1000, 'domainWidth': 1000, 'gpu': 0, 'iterations': 15, 'topologyHeight': 1, 'topologyWidth': 1}</td>\n",
       "    </tr>\n",
       "    <tr>\n",
       "      <th>119</th>\n",
       "      <td>120</td>\n",
       "      <td>Jacobi</td>\n",
       "      <td>{'core': 0, 'domainHeight': 1000, 'domainWidth': 1000, 'gpu': 0, 'iterations': 15, 'topologyHeight': 1, 'topologyWidth': 1}</td>\n",
       "    </tr>\n",
       "    <tr>\n",
       "      <th>120</th>\n",
       "      <td>121</td>\n",
       "      <td>Jacobi</td>\n",
       "      <td>{'core': 0, 'domainHeight': 1000, 'domainWidth': 1000, 'gpu': 0, 'iterations': 15, 'topologyHeight': 1, 'topologyWidth': 1}</td>\n",
       "    </tr>\n",
       "    <tr>\n",
       "      <th>121</th>\n",
       "      <td>122</td>\n",
       "      <td>Jacobi</td>\n",
       "      <td>{'core': 0, 'domainHeight': 1000, 'domainWidth': 1000, 'gpu': 0, 'iterations': 75, 'topologyHeight': 1, 'topologyWidth': 1}</td>\n",
       "    </tr>\n",
       "    <tr>\n",
       "      <th>122</th>\n",
       "      <td>123</td>\n",
       "      <td>Jacobi</td>\n",
       "      <td>{'core': 0, 'domainHeight': 1000, 'domainWidth': 1000, 'gpu': 0, 'iterations': 75, 'topologyHeight': 1, 'topologyWidth': 1}</td>\n",
       "    </tr>\n",
       "    <tr>\n",
       "      <th>123</th>\n",
       "      <td>124</td>\n",
       "      <td>Jacobi</td>\n",
       "      <td>{'core': 0, 'domainHeight': 1000, 'domainWidth': 1000, 'gpu': 0, 'iterations': 75, 'topologyHeight': 1, 'topologyWidth': 1}</td>\n",
       "    </tr>\n",
       "    <tr>\n",
       "      <th>124</th>\n",
       "      <td>125</td>\n",
       "      <td>Jacobi</td>\n",
       "      <td>{'core': 0, 'domainHeight': 1000, 'domainWidth': 1000, 'gpu': 0, 'iterations': 75, 'topologyHeight': 1, 'topologyWidth': 1}</td>\n",
       "    </tr>\n",
       "    <tr>\n",
       "      <th>125</th>\n",
       "      <td>126</td>\n",
       "      <td>Jacobi</td>\n",
       "      <td>{'core': 0, 'domainHeight': 1000, 'domainWidth': 1000, 'gpu': 0, 'iterations': 75, 'topologyHeight': 1, 'topologyWidth': 1}</td>\n",
       "    </tr>\n",
       "    <tr>\n",
       "      <th>126</th>\n",
       "      <td>127</td>\n",
       "      <td>Jacobi</td>\n",
       "      <td>{'core': 0, 'domainHeight': 1000, 'domainWidth': 1000, 'gpu': 0, 'iterations': 75, 'topologyHeight': 1, 'topologyWidth': 1}</td>\n",
       "    </tr>\n",
       "    <tr>\n",
       "      <th>127</th>\n",
       "      <td>128</td>\n",
       "      <td>Jacobi</td>\n",
       "      <td>{'core': 0, 'domainHeight': 1000, 'domainWidth': 1000, 'gpu': 0, 'iterations': 75, 'topologyHeight': 1, 'topologyWidth': 1}</td>\n",
       "    </tr>\n",
       "    <tr>\n",
       "      <th>128</th>\n",
       "      <td>129</td>\n",
       "      <td>Jacobi</td>\n",
       "      <td>{'core': 0, 'domainHeight': 1000, 'domainWidth': 1000, 'gpu': 0, 'iterations': 75, 'topologyHeight': 1, 'topologyWidth': 1}</td>\n",
       "    </tr>\n",
       "    <tr>\n",
       "      <th>129</th>\n",
       "      <td>130</td>\n",
       "      <td>Jacobi</td>\n",
       "      <td>{'core': 0, 'domainHeight': 1000, 'domainWidth': 1000, 'gpu': 0, 'iterations': 75, 'topologyHeight': 1, 'topologyWidth': 1}</td>\n",
       "    </tr>\n",
       "    <tr>\n",
       "      <th>130</th>\n",
       "      <td>131</td>\n",
       "      <td>Jacobi</td>\n",
       "      <td>{'core': 0, 'domainHeight': 1000, 'domainWidth': 1000, 'gpu': 0, 'iterations': 15, 'topologyHeight': 1, 'topologyWidth': 1}</td>\n",
       "    </tr>\n",
       "    <tr>\n",
       "      <th>131</th>\n",
       "      <td>132</td>\n",
       "      <td>Jacobi</td>\n",
       "      <td>{'core': 0, 'domainHeight': 1000, 'domainWidth': 1000, 'gpu': 0, 'iterations': 75, 'topologyHeight': 1, 'topologyWidth': 1}</td>\n",
       "    </tr>\n",
       "    <tr>\n",
       "      <th>132</th>\n",
       "      <td>133</td>\n",
       "      <td>Matrix Multiply</td>\n",
       "      <td>{'core': 0, 'gpu': 0, 'iterations': 3, 'matrixAHeight': 1536, 'matrixAWidth': 1536, 'matrixBHeight': 1536, 'matrixBWidth': 1536}</td>\n",
       "    </tr>\n",
       "    <tr>\n",
       "      <th>133</th>\n",
       "      <td>134</td>\n",
       "      <td>Matrix Multiply</td>\n",
       "      <td>{'core': 0, 'gpu': 0, 'iterations': 15, 'matrixAHeight': 1536, 'matrixAWidth': 1536, 'matrixBHeight': 1536, 'matrixBWidth': 1536, 'maximumCPUClockRate': 12000000000.0, 'maximumGPUClockRate': 2550000000.0, 'minimumCPUClockRate': 12000000000.0, 'minimumGPUClockRate': 2550000000.0}</td>\n",
       "    </tr>\n",
       "    <tr>\n",
       "      <th>134</th>\n",
       "      <td>135</td>\n",
       "      <td>KMeans</td>\n",
       "      <td>{'core': 0, 'file': '/home/qub1/rodinia_3.1/data/kmeans/kdd_cup', 'gpu': 0, 'iterations': 15}</td>\n",
       "    </tr>\n",
       "    <tr>\n",
       "      <th>135</th>\n",
       "      <td>136</td>\n",
       "      <td>KMeans</td>\n",
       "      <td>{'core': 0, 'file': '/home/qub1/rodinia_3.1/data/kmeans/kdd_cup', 'gpu': 0, 'iterations': 75, 'maximumCPUClockRate': 12000000000.0, 'maximumGPUClockRate': 2550000000.0, 'minimumCPUClockRate': 12000000000.0, 'minimumGPUClockRate': 2550000000.0}</td>\n",
       "    </tr>\n",
       "    <tr>\n",
       "      <th>136</th>\n",
       "      <td>137</td>\n",
       "      <td>Matrix Multiply</td>\n",
       "      <td>{'core': 0, 'gpu': 0, 'iterations': 3, 'matrixAHeight': 1536, 'matrixAWidth': 1536, 'matrixBHeight': 1536, 'matrixBWidth': 1536}</td>\n",
       "    </tr>\n",
       "    <tr>\n",
       "      <th>137</th>\n",
       "      <td>138</td>\n",
       "      <td>Matrix Multiply</td>\n",
       "      <td>{'core': 0, 'gpu': 0, 'iterations': 15, 'matrixAHeight': 1536, 'matrixAWidth': 1536, 'matrixBHeight': 1536, 'matrixBWidth': 1536}</td>\n",
       "    </tr>\n",
       "    <tr>\n",
       "      <th>138</th>\n",
       "      <td>139</td>\n",
       "      <td>KMeans</td>\n",
       "      <td>{'core': 0, 'file': '/home/qub1/rodinia_3.1/data/kmeans/kdd_cup', 'gpu': 0, 'iterations': 15}</td>\n",
       "    </tr>\n",
       "    <tr>\n",
       "      <th>139</th>\n",
       "      <td>140</td>\n",
       "      <td>KMeans</td>\n",
       "      <td>{'core': 0, 'file': '/home/qub1/rodinia_3.1/data/kmeans/kdd_cup', 'gpu': 0, 'iterations': 75}</td>\n",
       "    </tr>\n",
       "    <tr>\n",
       "      <th>140</th>\n",
       "      <td>141</td>\n",
       "      <td>Matrix Multiply</td>\n",
       "      <td>{'core': 0, 'gpu': 0, 'iterations': 3, 'matrixAHeight': 1536, 'matrixAWidth': 1536, 'matrixBHeight': 1536, 'matrixBWidth': 1536}</td>\n",
       "    </tr>\n",
       "    <tr>\n",
       "      <th>141</th>\n",
       "      <td>142</td>\n",
       "      <td>Matrix Multiply</td>\n",
       "      <td>{'core': 0, 'gpu': 0, 'iterations': 15, 'matrixAHeight': 1536, 'matrixAWidth': 1536, 'matrixBHeight': 1536, 'matrixBWidth': 1536}</td>\n",
       "    </tr>\n",
       "    <tr>\n",
       "      <th>142</th>\n",
       "      <td>143</td>\n",
       "      <td>KMeans</td>\n",
       "      <td>{'core': 0, 'file': '/home/qub1/rodinia_3.1/data/kmeans/kdd_cup', 'gpu': 0, 'iterations': 15}</td>\n",
       "    </tr>\n",
       "    <tr>\n",
       "      <th>143</th>\n",
       "      <td>144</td>\n",
       "      <td>KMeans</td>\n",
       "      <td>{'core': 0, 'file': '/home/qub1/rodinia_3.1/data/kmeans/kdd_cup', 'gpu': 0, 'iterations': 75}</td>\n",
       "    </tr>\n",
       "    <tr>\n",
       "      <th>144</th>\n",
       "      <td>145</td>\n",
       "      <td>Jacobi</td>\n",
       "      <td>{'core': 0, 'domainHeight': 1000, 'domainWidth': 1000, 'gpu': 0, 'iterations': 15, 'topologyHeight': 1, 'topologyWidth': 1}</td>\n",
       "    </tr>\n",
       "    <tr>\n",
       "      <th>145</th>\n",
       "      <td>146</td>\n",
       "      <td>Jacobi</td>\n",
       "      <td>{'core': 0, 'domainHeight': 1000, 'domainWidth': 1000, 'gpu': 0, 'iterations': 75, 'topologyHeight': 1, 'topologyWidth': 1}</td>\n",
       "    </tr>\n",
       "    <tr>\n",
       "      <th>146</th>\n",
       "      <td>147</td>\n",
       "      <td>Jacobi (EnergyMonitor Simple)</td>\n",
       "      <td>{'core': 0, 'domainHeight': 1000, 'domainWidth': 1000, 'gpu': 0, 'iterations': 75, 'topologyHeight': 1, 'topologyWidth': 1}</td>\n",
       "    </tr>\n",
       "    <tr>\n",
       "      <th>147</th>\n",
       "      <td>148</td>\n",
       "      <td>Jacobi (EnergyMonitor Smart)</td>\n",
       "      <td>{'core': 0, 'domainHeight': 1000, 'domainWidth': 1000, 'gpu': 0, 'iterations': 75, 'topologyHeight': 1, 'topologyWidth': 1}</td>\n",
       "    </tr>\n",
       "    <tr>\n",
       "      <th>148</th>\n",
       "      <td>149</td>\n",
       "      <td>Jacobi</td>\n",
       "      <td>{'core': 0, 'domainHeight': 1000, 'domainWidth': 1000, 'gpu': 0, 'iterations': 15, 'topologyHeight': 1, 'topologyWidth': 1}</td>\n",
       "    </tr>\n",
       "    <tr>\n",
       "      <th>149</th>\n",
       "      <td>150</td>\n",
       "      <td>Jacobi</td>\n",
       "      <td>{'core': 0, 'domainHeight': 1000, 'domainWidth': 1000, 'gpu': 0, 'iterations': 75, 'topologyHeight': 1, 'topologyWidth': 1}</td>\n",
       "    </tr>\n",
       "    <tr>\n",
       "      <th>150</th>\n",
       "      <td>151</td>\n",
       "      <td>Jacobi (EnergyMonitor Simple)</td>\n",
       "      <td>{'core': 0, 'domainHeight': 1000, 'domainWidth': 1000, 'gpu': 0, 'iterations': 75, 'topologyHeight': 1, 'topologyWidth': 1}</td>\n",
       "    </tr>\n",
       "    <tr>\n",
       "      <th>151</th>\n",
       "      <td>152</td>\n",
       "      <td>Jacobi (EnergyMonitor Smart)</td>\n",
       "      <td>{'core': 0, 'domainHeight': 1000, 'domainWidth': 1000, 'gpu': 0, 'iterations': 75, 'topologyHeight': 1, 'topologyWidth': 1}</td>\n",
       "    </tr>\n",
       "    <tr>\n",
       "      <th>152</th>\n",
       "      <td>153</td>\n",
       "      <td>Matrix Multiply</td>\n",
       "      <td>{'core': 0, 'gpu': 0, 'iterations': 3, 'matrixAHeight': 1536, 'matrixAWidth': 1536, 'matrixBHeight': 1536, 'matrixBWidth': 1536}</td>\n",
       "    </tr>\n",
       "    <tr>\n",
       "      <th>153</th>\n",
       "      <td>154</td>\n",
       "      <td>Matrix Multiply</td>\n",
       "      <td>{'core': 0, 'gpu': 0, 'iterations': 15, 'matrixAHeight': 1536, 'matrixAWidth': 1536, 'matrixBHeight': 1536, 'matrixBWidth': 1536}</td>\n",
       "    </tr>\n",
       "    <tr>\n",
       "      <th>154</th>\n",
       "      <td>155</td>\n",
       "      <td>Matrix Multiply (EnergyMonitor Simple)</td>\n",
       "      <td>{'core': 0, 'gpu': 0, 'iterations': 15, 'matrixAHeight': 1536, 'matrixAWidth': 1536, 'matrixBHeight': 1536, 'matrixBWidth': 1536}</td>\n",
       "    </tr>\n",
       "    <tr>\n",
       "      <th>155</th>\n",
       "      <td>156</td>\n",
       "      <td>Matrix Multiply (EnergyMonitor Smart)</td>\n",
       "      <td>{'core': 0, 'gpu': 0, 'iterations': 15, 'matrixAHeight': 1536, 'matrixAWidth': 1536, 'matrixBHeight': 1536, 'matrixBWidth': 1536}</td>\n",
       "    </tr>\n",
       "    <tr>\n",
       "      <th>156</th>\n",
       "      <td>157</td>\n",
       "      <td>KMeans</td>\n",
       "      <td>{'core': 0, 'file': '/home/qub1/rodinia_3.1/data/kmeans/kdd_cup', 'gpu': 0, 'iterations': 15}</td>\n",
       "    </tr>\n",
       "    <tr>\n",
       "      <th>157</th>\n",
       "      <td>158</td>\n",
       "      <td>KMeans</td>\n",
       "      <td>{'core': 0, 'file': '/home/qub1/rodinia_3.1/data/kmeans/kdd_cup', 'gpu': 0, 'iterations': 75}</td>\n",
       "    </tr>\n",
       "    <tr>\n",
       "      <th>158</th>\n",
       "      <td>159</td>\n",
       "      <td>KMeans (EnergyMonitor Simple)</td>\n",
       "      <td>{'core': 0, 'file': '/home/qub1/rodinia_3.1/data/kmeans/kdd_cup', 'gpu': 0, 'iterations': 75}</td>\n",
       "    </tr>\n",
       "    <tr>\n",
       "      <th>159</th>\n",
       "      <td>160</td>\n",
       "      <td>KMeans (EnergyMonitor Smart)</td>\n",
       "      <td>{'core': 0, 'file': '/home/qub1/rodinia_3.1/data/kmeans/kdd_cup', 'gpu': 0, 'iterations': 75}</td>\n",
       "    </tr>\n",
       "    <tr>\n",
       "      <th>160</th>\n",
       "      <td>161</td>\n",
       "      <td>KMeans</td>\n",
       "      <td>{'core': 0, 'file': '/home/qub1/rodinia_3.1/data/kmeans/kdd_cup', 'gpu': 0, 'iterations': 75}</td>\n",
       "    </tr>\n",
       "    <tr>\n",
       "      <th>161</th>\n",
       "      <td>162</td>\n",
       "      <td>KMeans</td>\n",
       "      <td>{'core': 0, 'file': '/home/qub1/rodinia_3.1/data/kmeans/kdd_cup', 'gpu': 0, 'iterations': 75}</td>\n",
       "    </tr>\n",
       "  </tbody>\n",
       "</table>\n",
       "</div>"
      ],
      "text/plain": [
       "      ID                                   Label  \\\n",
       "0      1  Matrix Multiply (EnergyMonitor Simple)   \n",
       "1      2   Matrix Multiply (EnergyMonitor Smart)   \n",
       "2      3           KMeans (EnergyMonitor Simple)   \n",
       "3      4            KMeans (EnergyMonitor Smart)   \n",
       "4      5                                  Jacobi   \n",
       "5      6                                  Jacobi   \n",
       "6      7                  Fixed Frequency Jacobi   \n",
       "7      8                  Fixed Frequency Jacobi   \n",
       "8      9                  Fixed Frequency Jacobi   \n",
       "9     10                  Fixed Frequency Jacobi   \n",
       "10    11                  Fixed Frequency Jacobi   \n",
       "11    12                  Fixed Frequency Jacobi   \n",
       "12    13                  Fixed Frequency Jacobi   \n",
       "13    14                  Fixed Frequency Jacobi   \n",
       "14    15                  Fixed Frequency Jacobi   \n",
       "15    16                  Fixed Frequency Jacobi   \n",
       "16    17                  Fixed Frequency Jacobi   \n",
       "17    18                  Fixed Frequency Jacobi   \n",
       "18    19                  Fixed Frequency Jacobi   \n",
       "19    20                  Fixed Frequency Jacobi   \n",
       "20    21                  Fixed Frequency Jacobi   \n",
       "21    22                  Fixed Frequency Jacobi   \n",
       "22    23                  Fixed Frequency Jacobi   \n",
       "23    24                  Fixed Frequency Jacobi   \n",
       "24    25                  Fixed Frequency Jacobi   \n",
       "25    26                  Fixed Frequency Jacobi   \n",
       "26    27                  Fixed Frequency Jacobi   \n",
       "27    28                  Fixed Frequency Jacobi   \n",
       "28    29                  Fixed Frequency Jacobi   \n",
       "29    30                  Fixed Frequency Jacobi   \n",
       "30    31                  Fixed Frequency Jacobi   \n",
       "31    32                  Fixed Frequency Jacobi   \n",
       "32    33                  Fixed Frequency Jacobi   \n",
       "33    34                  Fixed Frequency Jacobi   \n",
       "34    35                  Fixed Frequency Jacobi   \n",
       "35    36                  Fixed Frequency Jacobi   \n",
       "36    37                  Fixed Frequency Jacobi   \n",
       "37    38                  Fixed Frequency Jacobi   \n",
       "38    39                  Fixed Frequency Jacobi   \n",
       "39    40                  Fixed Frequency Jacobi   \n",
       "40    41                  Fixed Frequency Jacobi   \n",
       "41    42                  Fixed Frequency Jacobi   \n",
       "42    43                  Fixed Frequency Jacobi   \n",
       "43    44                  Fixed Frequency Jacobi   \n",
       "44    45                  Fixed Frequency Jacobi   \n",
       "45    46                  Fixed Frequency Jacobi   \n",
       "46    47                  Fixed Frequency Jacobi   \n",
       "47    48                  Fixed Frequency Jacobi   \n",
       "48    49                  Fixed Frequency Jacobi   \n",
       "49    50                  Fixed Frequency Jacobi   \n",
       "50    51                  Fixed Frequency Jacobi   \n",
       "51    52                  Fixed Frequency Jacobi   \n",
       "52    53                  Fixed Frequency Jacobi   \n",
       "53    54                  Fixed Frequency Jacobi   \n",
       "54    55                  Fixed Frequency Jacobi   \n",
       "55    56                  Fixed Frequency Jacobi   \n",
       "56    57                  Fixed Frequency Jacobi   \n",
       "57    58                  Fixed Frequency Jacobi   \n",
       "58    59                  Fixed Frequency Jacobi   \n",
       "59    60                  Fixed Frequency Jacobi   \n",
       "60    61                  Fixed Frequency Jacobi   \n",
       "61    62                  Fixed Frequency Jacobi   \n",
       "62    63                  Fixed Frequency Jacobi   \n",
       "63    64                  Fixed Frequency Jacobi   \n",
       "64    65                  Fixed Frequency Jacobi   \n",
       "65    66                  Fixed Frequency Jacobi   \n",
       "66    67                  Fixed Frequency Jacobi   \n",
       "67    68                  Fixed Frequency Jacobi   \n",
       "68    69                  Fixed Frequency Jacobi   \n",
       "69    70                  Fixed Frequency Jacobi   \n",
       "70    71                  Fixed Frequency Jacobi   \n",
       "71    72                  Fixed Frequency Jacobi   \n",
       "72    73                  Fixed Frequency Jacobi   \n",
       "73    74                  Fixed Frequency Jacobi   \n",
       "74    75                  Fixed Frequency Jacobi   \n",
       "75    76                  Fixed Frequency Jacobi   \n",
       "76    77                  Fixed Frequency Jacobi   \n",
       "77    78                  Fixed Frequency Jacobi   \n",
       "78    79                  Fixed Frequency Jacobi   \n",
       "79    80                  Fixed Frequency Jacobi   \n",
       "80    81                  Fixed Frequency Jacobi   \n",
       "81    82                  Fixed Frequency Jacobi   \n",
       "82    83                  Fixed Frequency Jacobi   \n",
       "83    84                  Fixed Frequency Jacobi   \n",
       "84    85                  Fixed Frequency Jacobi   \n",
       "85    86                  Fixed Frequency Jacobi   \n",
       "86    87                  Fixed Frequency Jacobi   \n",
       "87    88                  Fixed Frequency Jacobi   \n",
       "88    89                  Fixed Frequency Jacobi   \n",
       "89    90                  Fixed Frequency Jacobi   \n",
       "90    91                  Fixed Frequency Jacobi   \n",
       "91    92                  Fixed Frequency Jacobi   \n",
       "92    93                  Fixed Frequency Jacobi   \n",
       "93    94                  Fixed Frequency Jacobi   \n",
       "94    95                  Fixed Frequency Jacobi   \n",
       "95    96                  Fixed Frequency Jacobi   \n",
       "96    97                  Fixed Frequency Jacobi   \n",
       "97    98                  Fixed Frequency Jacobi   \n",
       "98    99                  Fixed Frequency Jacobi   \n",
       "99   100                  Fixed Frequency Jacobi   \n",
       "100  101                  Fixed Frequency Jacobi   \n",
       "101  102                  Fixed Frequency Jacobi   \n",
       "102  103                  Fixed Frequency Jacobi   \n",
       "103  104                  Fixed Frequency Jacobi   \n",
       "104  105                  Fixed Frequency Jacobi   \n",
       "105  106                  Fixed Frequency Jacobi   \n",
       "106  107           Jacobi (EnergyMonitor Simple)   \n",
       "107  108            Jacobi (EnergyMonitor Smart)   \n",
       "108  109  Matrix Multiply (EnergyMonitor Simple)   \n",
       "109  110   Matrix Multiply (EnergyMonitor Smart)   \n",
       "110  111           KMeans (EnergyMonitor Simple)   \n",
       "111  112            KMeans (EnergyMonitor Smart)   \n",
       "112  113                                  Jacobi   \n",
       "113  114                                  Jacobi   \n",
       "114  115                                  Jacobi   \n",
       "115  116                                  Jacobi   \n",
       "116  117                                  Jacobi   \n",
       "117  118                                  Jacobi   \n",
       "118  119                                  Jacobi   \n",
       "119  120                                  Jacobi   \n",
       "120  121                                  Jacobi   \n",
       "121  122                                  Jacobi   \n",
       "122  123                                  Jacobi   \n",
       "123  124                                  Jacobi   \n",
       "124  125                                  Jacobi   \n",
       "125  126                                  Jacobi   \n",
       "126  127                                  Jacobi   \n",
       "127  128                                  Jacobi   \n",
       "128  129                                  Jacobi   \n",
       "129  130                                  Jacobi   \n",
       "130  131                                  Jacobi   \n",
       "131  132                                  Jacobi   \n",
       "132  133                         Matrix Multiply   \n",
       "133  134                         Matrix Multiply   \n",
       "134  135                                  KMeans   \n",
       "135  136                                  KMeans   \n",
       "136  137                         Matrix Multiply   \n",
       "137  138                         Matrix Multiply   \n",
       "138  139                                  KMeans   \n",
       "139  140                                  KMeans   \n",
       "140  141                         Matrix Multiply   \n",
       "141  142                         Matrix Multiply   \n",
       "142  143                                  KMeans   \n",
       "143  144                                  KMeans   \n",
       "144  145                                  Jacobi   \n",
       "145  146                                  Jacobi   \n",
       "146  147           Jacobi (EnergyMonitor Simple)   \n",
       "147  148            Jacobi (EnergyMonitor Smart)   \n",
       "148  149                                  Jacobi   \n",
       "149  150                                  Jacobi   \n",
       "150  151           Jacobi (EnergyMonitor Simple)   \n",
       "151  152            Jacobi (EnergyMonitor Smart)   \n",
       "152  153                         Matrix Multiply   \n",
       "153  154                         Matrix Multiply   \n",
       "154  155  Matrix Multiply (EnergyMonitor Simple)   \n",
       "155  156   Matrix Multiply (EnergyMonitor Smart)   \n",
       "156  157                                  KMeans   \n",
       "157  158                                  KMeans   \n",
       "158  159           KMeans (EnergyMonitor Simple)   \n",
       "159  160            KMeans (EnergyMonitor Smart)   \n",
       "160  161                                  KMeans   \n",
       "161  162                                  KMeans   \n",
       "\n",
       "                                                                                                                                                                                                                                                                                                   Profile  \n",
       "0                                                                                                                                                                        {'core': 0, 'gpu': 0, 'iterations': 15, 'matrixAHeight': 1536, 'matrixAWidth': 1536, 'matrixBHeight': 1536, 'matrixBWidth': 1536}  \n",
       "1                                                                                                                                                                        {'core': 0, 'gpu': 0, 'iterations': 15, 'matrixAHeight': 1536, 'matrixAWidth': 1536, 'matrixBHeight': 1536, 'matrixBWidth': 1536}  \n",
       "2                                                                                                                                                                                                            {'core': 0, 'file': '/home/qub1/rodinia_3.1/data/kmeans/kdd_cup', 'gpu': 0, 'iterations': 75}  \n",
       "3                                                                                                                                                                                                            {'core': 0, 'file': '/home/qub1/rodinia_3.1/data/kmeans/kdd_cup', 'gpu': 0, 'iterations': 75}  \n",
       "4                                                                                                                                                                              {'core': 0, 'domainHeight': 1000, 'domainWidth': 1000, 'gpu': 0, 'iterations': 15, 'topologyHeight': 1, 'topologyWidth': 1}  \n",
       "5                                                                                                                                                                              {'core': 0, 'domainHeight': 1000, 'domainWidth': 1000, 'gpu': 0, 'iterations': 75, 'topologyHeight': 1, 'topologyWidth': 1}  \n",
       "6      {'core': 0, 'domainHeight': 1000, 'domainWidth': 1000, 'gpu': 0, 'iterations': 15, 'maximumCPUClockRate': 4533333333.333333, 'maximumGPUClockRate': 1417111111.111111, 'minimumCPUClockRate': 4533333333.333333, 'minimumGPUClockRate': 1417111111.111111, 'topologyHeight': 1, 'topologyWidth': 1}  \n",
       "7      {'core': 0, 'domainHeight': 1000, 'domainWidth': 1000, 'gpu': 0, 'iterations': 15, 'maximumCPUClockRate': 8266666666.666666, 'maximumGPUClockRate': 1417111111.111111, 'minimumCPUClockRate': 8266666666.666666, 'minimumGPUClockRate': 1417111111.111111, 'topologyHeight': 1, 'topologyWidth': 1}  \n",
       "8        {'core': 0, 'domainHeight': 1000, 'domainWidth': 1000, 'gpu': 0, 'iterations': 15, 'maximumCPUClockRate': 3288888888.888889, 'maximumGPUClockRate': 850666666.666667, 'minimumCPUClockRate': 3288888888.888889, 'minimumGPUClockRate': 850666666.666667, 'topologyHeight': 1, 'topologyWidth': 1}  \n",
       "9                {'core': 0, 'domainHeight': 1000, 'domainWidth': 1000, 'gpu': 0, 'iterations': 15, 'maximumCPUClockRate': 3288888888.888889, 'maximumGPUClockRate': 2550000000.0, 'minimumCPUClockRate': 3288888888.888889, 'minimumGPUClockRate': 2550000000.0, 'topologyHeight': 1, 'topologyWidth': 1}  \n",
       "10                             {'core': 0, 'domainHeight': 1000, 'domainWidth': 1000, 'gpu': 0, 'iterations': 15, 'maximumCPUClockRate': 12000000000.0, 'maximumGPUClockRate': 1000000.0, 'minimumCPUClockRate': 12000000000.0, 'minimumGPUClockRate': 1000000.0, 'topologyHeight': 1, 'topologyWidth': 1}  \n",
       "11     {'core': 0, 'domainHeight': 1000, 'domainWidth': 1000, 'gpu': 0, 'iterations': 15, 'maximumCPUClockRate': 8266666666.666666, 'maximumGPUClockRate': 1983555555.555555, 'minimumCPUClockRate': 8266666666.666666, 'minimumGPUClockRate': 1983555555.555555, 'topologyHeight': 1, 'topologyWidth': 1}  \n",
       "12         {'core': 0, 'domainHeight': 1000, 'domainWidth': 1000, 'gpu': 0, 'iterations': 15, 'maximumCPUClockRate': 9511111111.11111, 'maximumGPUClockRate': 850666666.666667, 'minimumCPUClockRate': 9511111111.11111, 'minimumGPUClockRate': 850666666.666667, 'topologyHeight': 1, 'topologyWidth': 1}  \n",
       "13                     {'core': 0, 'domainHeight': 1000, 'domainWidth': 1000, 'gpu': 0, 'iterations': 15, 'maximumCPUClockRate': 8266666666.666666, 'maximumGPUClockRate': 1000000.0, 'minimumCPUClockRate': 8266666666.666666, 'minimumGPUClockRate': 1000000.0, 'topologyHeight': 1, 'topologyWidth': 1}  \n",
       "14               {'core': 0, 'domainHeight': 1000, 'domainWidth': 1000, 'gpu': 0, 'iterations': 15, 'maximumCPUClockRate': 8266666666.666666, 'maximumGPUClockRate': 2550000000.0, 'minimumCPUClockRate': 8266666666.666666, 'minimumGPUClockRate': 2550000000.0, 'topologyHeight': 1, 'topologyWidth': 1}  \n",
       "15       {'core': 0, 'domainHeight': 1000, 'domainWidth': 1000, 'gpu': 0, 'iterations': 15, 'maximumCPUClockRate': 7022222222.222222, 'maximumGPUClockRate': 850666666.666667, 'minimumCPUClockRate': 7022222222.222222, 'minimumGPUClockRate': 850666666.666667, 'topologyHeight': 1, 'topologyWidth': 1}  \n",
       "16       {'core': 0, 'domainHeight': 1000, 'domainWidth': 1000, 'gpu': 0, 'iterations': 15, 'maximumCPUClockRate': 9511111111.11111, 'maximumGPUClockRate': 1983555555.555555, 'minimumCPUClockRate': 9511111111.11111, 'minimumGPUClockRate': 1983555555.555555, 'topologyHeight': 1, 'topologyWidth': 1}  \n",
       "17                   {'core': 0, 'domainHeight': 1000, 'domainWidth': 1000, 'gpu': 0, 'iterations': 15, 'maximumCPUClockRate': 800000000.0, 'maximumGPUClockRate': 850666666.666667, 'minimumCPUClockRate': 800000000.0, 'minimumGPUClockRate': 850666666.666667, 'topologyHeight': 1, 'topologyWidth': 1}  \n",
       "18       {'core': 0, 'domainHeight': 1000, 'domainWidth': 1000, 'gpu': 0, 'iterations': 15, 'maximumCPUClockRate': 8266666666.666666, 'maximumGPUClockRate': 284222222.222222, 'minimumCPUClockRate': 8266666666.666666, 'minimumGPUClockRate': 284222222.222222, 'topologyHeight': 1, 'topologyWidth': 1}  \n",
       "19                                 {'core': 0, 'domainHeight': 1000, 'domainWidth': 1000, 'gpu': 0, 'iterations': 15, 'maximumCPUClockRate': 800000000.0, 'maximumGPUClockRate': 1000000.0, 'minimumCPUClockRate': 800000000.0, 'minimumGPUClockRate': 1000000.0, 'topologyHeight': 1, 'topologyWidth': 1}  \n",
       "20     {'core': 0, 'domainHeight': 1000, 'domainWidth': 1000, 'gpu': 0, 'iterations': 15, 'maximumCPUClockRate': 2044444444.444444, 'maximumGPUClockRate': 1700333333.333333, 'minimumCPUClockRate': 2044444444.444444, 'minimumGPUClockRate': 1700333333.333333, 'topologyHeight': 1, 'topologyWidth': 1}  \n",
       "21     {'core': 0, 'domainHeight': 1000, 'domainWidth': 1000, 'gpu': 0, 'iterations': 15, 'maximumCPUClockRate': 3288888888.888889, 'maximumGPUClockRate': 1983555555.555555, 'minimumCPUClockRate': 3288888888.888889, 'minimumGPUClockRate': 1983555555.555555, 'topologyHeight': 1, 'topologyWidth': 1}  \n",
       "22       {'core': 0, 'domainHeight': 1000, 'domainWidth': 1000, 'gpu': 0, 'iterations': 15, 'maximumCPUClockRate': 3288888888.888889, 'maximumGPUClockRate': 284222222.222222, 'minimumCPUClockRate': 3288888888.888889, 'minimumGPUClockRate': 284222222.222222, 'topologyHeight': 1, 'topologyWidth': 1}  \n",
       "23                 {'core': 0, 'domainHeight': 1000, 'domainWidth': 1000, 'gpu': 0, 'iterations': 15, 'maximumCPUClockRate': 800000000.0, 'maximumGPUClockRate': 2266777777.777778, 'minimumCPUClockRate': 800000000.0, 'minimumGPUClockRate': 2266777777.777778, 'topologyHeight': 1, 'topologyWidth': 1}  \n",
       "24     {'core': 0, 'domainHeight': 1000, 'domainWidth': 1000, 'gpu': 0, 'iterations': 15, 'maximumCPUClockRate': 5777777777.777778, 'maximumGPUClockRate': 1700333333.333333, 'minimumCPUClockRate': 5777777777.777778, 'minimumGPUClockRate': 1700333333.333333, 'topologyHeight': 1, 'topologyWidth': 1}  \n",
       "25       {'core': 0, 'domainHeight': 1000, 'domainWidth': 1000, 'gpu': 0, 'iterations': 15, 'maximumCPUClockRate': 8266666666.666666, 'maximumGPUClockRate': 850666666.666667, 'minimumCPUClockRate': 8266666666.666666, 'minimumGPUClockRate': 850666666.666667, 'topologyHeight': 1, 'topologyWidth': 1}  \n",
       "26                   {'core': 0, 'domainHeight': 1000, 'domainWidth': 1000, 'gpu': 0, 'iterations': 15, 'maximumCPUClockRate': 10755555555.555555, 'maximumGPUClockRate': 1000000.0, 'minimumCPUClockRate': 10755555555.555555, 'minimumGPUClockRate': 1000000.0, 'topologyHeight': 1, 'topologyWidth': 1}  \n",
       "27             {'core': 0, 'domainHeight': 1000, 'domainWidth': 1000, 'gpu': 0, 'iterations': 15, 'maximumCPUClockRate': 10755555555.555555, 'maximumGPUClockRate': 2550000000.0, 'minimumCPUClockRate': 10755555555.555555, 'minimumGPUClockRate': 2550000000.0, 'topologyHeight': 1, 'topologyWidth': 1}  \n",
       "28     {'core': 0, 'domainHeight': 1000, 'domainWidth': 1000, 'gpu': 0, 'iterations': 15, 'maximumCPUClockRate': 10755555555.555555, 'maximumGPUClockRate': 284222222.222222, 'minimumCPUClockRate': 10755555555.555555, 'minimumGPUClockRate': 284222222.222222, 'topologyHeight': 1, 'topologyWidth': 1}  \n",
       "29   {'core': 0, 'domainHeight': 1000, 'domainWidth': 1000, 'gpu': 0, 'iterations': 15, 'maximumCPUClockRate': 10755555555.555555, 'maximumGPUClockRate': 1983555555.555555, 'minimumCPUClockRate': 10755555555.555555, 'minimumGPUClockRate': 1983555555.555555, 'topologyHeight': 1, 'topologyWidth': 1}  \n",
       "30   {'core': 0, 'domainHeight': 1000, 'domainWidth': 1000, 'gpu': 0, 'iterations': 15, 'maximumCPUClockRate': 10755555555.555555, 'maximumGPUClockRate': 1700333333.333333, 'minimumCPUClockRate': 10755555555.555555, 'minimumGPUClockRate': 1700333333.333333, 'topologyHeight': 1, 'topologyWidth': 1}  \n",
       "31               {'core': 0, 'domainHeight': 1000, 'domainWidth': 1000, 'gpu': 0, 'iterations': 15, 'maximumCPUClockRate': 12000000000.0, 'maximumGPUClockRate': 567444444.444444, 'minimumCPUClockRate': 12000000000.0, 'minimumGPUClockRate': 567444444.444444, 'topologyHeight': 1, 'topologyWidth': 1}  \n",
       "32     {'core': 0, 'domainHeight': 1000, 'domainWidth': 1000, 'gpu': 0, 'iterations': 15, 'maximumCPUClockRate': 4533333333.333333, 'maximumGPUClockRate': 1700333333.333333, 'minimumCPUClockRate': 4533333333.333333, 'minimumGPUClockRate': 1700333333.333333, 'topologyHeight': 1, 'topologyWidth': 1}  \n",
       "33             {'core': 0, 'domainHeight': 1000, 'domainWidth': 1000, 'gpu': 0, 'iterations': 15, 'maximumCPUClockRate': 12000000000.0, 'maximumGPUClockRate': 1700333333.333333, 'minimumCPUClockRate': 12000000000.0, 'minimumGPUClockRate': 1700333333.333333, 'topologyHeight': 1, 'topologyWidth': 1}  \n",
       "34       {'core': 0, 'domainHeight': 1000, 'domainWidth': 1000, 'gpu': 0, 'iterations': 15, 'maximumCPUClockRate': 9511111111.11111, 'maximumGPUClockRate': 2266777777.777778, 'minimumCPUClockRate': 9511111111.11111, 'minimumGPUClockRate': 2266777777.777778, 'topologyHeight': 1, 'topologyWidth': 1}  \n",
       "35       {'core': 0, 'domainHeight': 1000, 'domainWidth': 1000, 'gpu': 0, 'iterations': 15, 'maximumCPUClockRate': 4533333333.333333, 'maximumGPUClockRate': 284222222.222222, 'minimumCPUClockRate': 4533333333.333333, 'minimumGPUClockRate': 284222222.222222, 'topologyHeight': 1, 'topologyWidth': 1}  \n",
       "36       {'core': 0, 'domainHeight': 1000, 'domainWidth': 1000, 'gpu': 0, 'iterations': 15, 'maximumCPUClockRate': 9511111111.11111, 'maximumGPUClockRate': 1700333333.333333, 'minimumCPUClockRate': 9511111111.11111, 'minimumGPUClockRate': 1700333333.333333, 'topologyHeight': 1, 'topologyWidth': 1}  \n",
       "37     {'core': 0, 'domainHeight': 1000, 'domainWidth': 1000, 'gpu': 0, 'iterations': 15, 'maximumCPUClockRate': 10755555555.555555, 'maximumGPUClockRate': 850666666.666667, 'minimumCPUClockRate': 10755555555.555555, 'minimumGPUClockRate': 850666666.666667, 'topologyHeight': 1, 'topologyWidth': 1}  \n",
       "38     {'core': 0, 'domainHeight': 1000, 'domainWidth': 1000, 'gpu': 0, 'iterations': 15, 'maximumCPUClockRate': 5777777777.777778, 'maximumGPUClockRate': 1983555555.555555, 'minimumCPUClockRate': 5777777777.777778, 'minimumGPUClockRate': 1983555555.555555, 'topologyHeight': 1, 'topologyWidth': 1}  \n",
       "39     {'core': 0, 'domainHeight': 1000, 'domainWidth': 1000, 'gpu': 0, 'iterations': 15, 'maximumCPUClockRate': 3288888888.888889, 'maximumGPUClockRate': 2266777777.777778, 'minimumCPUClockRate': 3288888888.888889, 'minimumGPUClockRate': 2266777777.777778, 'topologyHeight': 1, 'topologyWidth': 1}  \n",
       "40                     {'core': 0, 'domainHeight': 1000, 'domainWidth': 1000, 'gpu': 0, 'iterations': 15, 'maximumCPUClockRate': 5777777777.777778, 'maximumGPUClockRate': 1000000.0, 'minimumCPUClockRate': 5777777777.777778, 'minimumGPUClockRate': 1000000.0, 'topologyHeight': 1, 'topologyWidth': 1}  \n",
       "41     {'core': 0, 'domainHeight': 1000, 'domainWidth': 1000, 'gpu': 0, 'iterations': 15, 'maximumCPUClockRate': 7022222222.222222, 'maximumGPUClockRate': 1133888888.888889, 'minimumCPUClockRate': 7022222222.222222, 'minimumGPUClockRate': 1133888888.888889, 'topologyHeight': 1, 'topologyWidth': 1}  \n",
       "42     {'core': 0, 'domainHeight': 1000, 'domainWidth': 1000, 'gpu': 0, 'iterations': 15, 'maximumCPUClockRate': 2044444444.444444, 'maximumGPUClockRate': 1133888888.888889, 'minimumCPUClockRate': 2044444444.444444, 'minimumGPUClockRate': 1133888888.888889, 'topologyHeight': 1, 'topologyWidth': 1}  \n",
       "43                   {'core': 0, 'domainHeight': 1000, 'domainWidth': 1000, 'gpu': 0, 'iterations': 15, 'maximumCPUClockRate': 800000000.0, 'maximumGPUClockRate': 284222222.222222, 'minimumCPUClockRate': 800000000.0, 'minimumGPUClockRate': 284222222.222222, 'topologyHeight': 1, 'topologyWidth': 1}  \n",
       "44                     {'core': 0, 'domainHeight': 1000, 'domainWidth': 1000, 'gpu': 0, 'iterations': 15, 'maximumCPUClockRate': 7022222222.222222, 'maximumGPUClockRate': 1000000.0, 'minimumCPUClockRate': 7022222222.222222, 'minimumGPUClockRate': 1000000.0, 'topologyHeight': 1, 'topologyWidth': 1}  \n",
       "45     {'core': 0, 'domainHeight': 1000, 'domainWidth': 1000, 'gpu': 0, 'iterations': 15, 'maximumCPUClockRate': 5777777777.777778, 'maximumGPUClockRate': 1417111111.111111, 'minimumCPUClockRate': 5777777777.777778, 'minimumGPUClockRate': 1417111111.111111, 'topologyHeight': 1, 'topologyWidth': 1}  \n",
       "46                       {'core': 0, 'domainHeight': 1000, 'domainWidth': 1000, 'gpu': 0, 'iterations': 15, 'maximumCPUClockRate': 12000000000.0, 'maximumGPUClockRate': 2550000000.0, 'minimumCPUClockRate': 12000000000.0, 'minimumGPUClockRate': 2550000000.0, 'topologyHeight': 1, 'topologyWidth': 1}  \n",
       "47       {'core': 0, 'domainHeight': 1000, 'domainWidth': 1000, 'gpu': 0, 'iterations': 15, 'maximumCPUClockRate': 2044444444.444444, 'maximumGPUClockRate': 850666666.666667, 'minimumCPUClockRate': 2044444444.444444, 'minimumGPUClockRate': 850666666.666667, 'topologyHeight': 1, 'topologyWidth': 1}  \n",
       "48               {'core': 0, 'domainHeight': 1000, 'domainWidth': 1000, 'gpu': 0, 'iterations': 15, 'maximumCPUClockRate': 2044444444.444444, 'maximumGPUClockRate': 2550000000.0, 'minimumCPUClockRate': 2044444444.444444, 'minimumGPUClockRate': 2550000000.0, 'topologyHeight': 1, 'topologyWidth': 1}  \n",
       "49             {'core': 0, 'domainHeight': 1000, 'domainWidth': 1000, 'gpu': 0, 'iterations': 15, 'maximumCPUClockRate': 12000000000.0, 'maximumGPUClockRate': 2266777777.777778, 'minimumCPUClockRate': 12000000000.0, 'minimumGPUClockRate': 2266777777.777778, 'topologyHeight': 1, 'topologyWidth': 1}  \n",
       "50       {'core': 0, 'domainHeight': 1000, 'domainWidth': 1000, 'gpu': 0, 'iterations': 15, 'maximumCPUClockRate': 7022222222.222222, 'maximumGPUClockRate': 284222222.222222, 'minimumCPUClockRate': 7022222222.222222, 'minimumGPUClockRate': 284222222.222222, 'topologyHeight': 1, 'topologyWidth': 1}  \n",
       "51               {'core': 0, 'domainHeight': 1000, 'domainWidth': 1000, 'gpu': 0, 'iterations': 15, 'maximumCPUClockRate': 5777777777.777778, 'maximumGPUClockRate': 2550000000.0, 'minimumCPUClockRate': 5777777777.777778, 'minimumGPUClockRate': 2550000000.0, 'topologyHeight': 1, 'topologyWidth': 1}  \n",
       "52                     {'core': 0, 'domainHeight': 1000, 'domainWidth': 1000, 'gpu': 0, 'iterations': 15, 'maximumCPUClockRate': 4533333333.333333, 'maximumGPUClockRate': 1000000.0, 'minimumCPUClockRate': 4533333333.333333, 'minimumGPUClockRate': 1000000.0, 'topologyHeight': 1, 'topologyWidth': 1}  \n",
       "53     {'core': 0, 'domainHeight': 1000, 'domainWidth': 1000, 'gpu': 0, 'iterations': 15, 'maximumCPUClockRate': 2044444444.444444, 'maximumGPUClockRate': 2266777777.777778, 'minimumCPUClockRate': 2044444444.444444, 'minimumGPUClockRate': 2266777777.777778, 'topologyHeight': 1, 'topologyWidth': 1}  \n",
       "54   {'core': 0, 'domainHeight': 1000, 'domainWidth': 1000, 'gpu': 0, 'iterations': 15, 'maximumCPUClockRate': 10755555555.555555, 'maximumGPUClockRate': 1417111111.111111, 'minimumCPUClockRate': 10755555555.555555, 'minimumGPUClockRate': 1417111111.111111, 'topologyHeight': 1, 'topologyWidth': 1}  \n",
       "55     {'core': 0, 'domainHeight': 1000, 'domainWidth': 1000, 'gpu': 0, 'iterations': 15, 'maximumCPUClockRate': 7022222222.222222, 'maximumGPUClockRate': 2266777777.777778, 'minimumCPUClockRate': 7022222222.222222, 'minimumGPUClockRate': 2266777777.777778, 'topologyHeight': 1, 'topologyWidth': 1}  \n",
       "56     {'core': 0, 'domainHeight': 1000, 'domainWidth': 1000, 'gpu': 0, 'iterations': 15, 'maximumCPUClockRate': 10755555555.555555, 'maximumGPUClockRate': 567444444.444444, 'minimumCPUClockRate': 10755555555.555555, 'minimumGPUClockRate': 567444444.444444, 'topologyHeight': 1, 'topologyWidth': 1}  \n",
       "57     {'core': 0, 'domainHeight': 1000, 'domainWidth': 1000, 'gpu': 0, 'iterations': 15, 'maximumCPUClockRate': 8266666666.666666, 'maximumGPUClockRate': 1133888888.888889, 'minimumCPUClockRate': 8266666666.666666, 'minimumGPUClockRate': 1133888888.888889, 'topologyHeight': 1, 'topologyWidth': 1}  \n",
       "58     {'core': 0, 'domainHeight': 1000, 'domainWidth': 1000, 'gpu': 0, 'iterations': 15, 'maximumCPUClockRate': 8266666666.666666, 'maximumGPUClockRate': 2266777777.777778, 'minimumCPUClockRate': 8266666666.666666, 'minimumGPUClockRate': 2266777777.777778, 'topologyHeight': 1, 'topologyWidth': 1}  \n",
       "59     {'core': 0, 'domainHeight': 1000, 'domainWidth': 1000, 'gpu': 0, 'iterations': 15, 'maximumCPUClockRate': 2044444444.444444, 'maximumGPUClockRate': 1983555555.555555, 'minimumCPUClockRate': 2044444444.444444, 'minimumGPUClockRate': 1983555555.555555, 'topologyHeight': 1, 'topologyWidth': 1}  \n",
       "60     {'core': 0, 'domainHeight': 1000, 'domainWidth': 1000, 'gpu': 0, 'iterations': 15, 'maximumCPUClockRate': 3288888888.888889, 'maximumGPUClockRate': 1133888888.888889, 'minimumCPUClockRate': 3288888888.888889, 'minimumGPUClockRate': 1133888888.888889, 'topologyHeight': 1, 'topologyWidth': 1}  \n",
       "61       {'core': 0, 'domainHeight': 1000, 'domainWidth': 1000, 'gpu': 0, 'iterations': 15, 'maximumCPUClockRate': 3288888888.888889, 'maximumGPUClockRate': 567444444.444444, 'minimumCPUClockRate': 3288888888.888889, 'minimumGPUClockRate': 567444444.444444, 'topologyHeight': 1, 'topologyWidth': 1}  \n",
       "62                     {'core': 0, 'domainHeight': 1000, 'domainWidth': 1000, 'gpu': 0, 'iterations': 15, 'maximumCPUClockRate': 2044444444.444444, 'maximumGPUClockRate': 1000000.0, 'minimumCPUClockRate': 2044444444.444444, 'minimumGPUClockRate': 1000000.0, 'topologyHeight': 1, 'topologyWidth': 1}  \n",
       "63                     {'core': 0, 'domainHeight': 1000, 'domainWidth': 1000, 'gpu': 0, 'iterations': 15, 'maximumCPUClockRate': 3288888888.888889, 'maximumGPUClockRate': 1000000.0, 'minimumCPUClockRate': 3288888888.888889, 'minimumGPUClockRate': 1000000.0, 'topologyHeight': 1, 'topologyWidth': 1}  \n",
       "64                 {'core': 0, 'domainHeight': 1000, 'domainWidth': 1000, 'gpu': 0, 'iterations': 15, 'maximumCPUClockRate': 800000000.0, 'maximumGPUClockRate': 1700333333.333333, 'minimumCPUClockRate': 800000000.0, 'minimumGPUClockRate': 1700333333.333333, 'topologyHeight': 1, 'topologyWidth': 1}  \n",
       "65     {'core': 0, 'domainHeight': 1000, 'domainWidth': 1000, 'gpu': 0, 'iterations': 15, 'maximumCPUClockRate': 4533333333.333333, 'maximumGPUClockRate': 1133888888.888889, 'minimumCPUClockRate': 4533333333.333333, 'minimumGPUClockRate': 1133888888.888889, 'topologyHeight': 1, 'topologyWidth': 1}  \n",
       "66                           {'core': 0, 'domainHeight': 1000, 'domainWidth': 1000, 'gpu': 0, 'iterations': 15, 'maximumCPUClockRate': 800000000.0, 'maximumGPUClockRate': 2550000000.0, 'minimumCPUClockRate': 800000000.0, 'minimumGPUClockRate': 2550000000.0, 'topologyHeight': 1, 'topologyWidth': 1}  \n",
       "67     {'core': 0, 'domainHeight': 1000, 'domainWidth': 1000, 'gpu': 0, 'iterations': 15, 'maximumCPUClockRate': 3288888888.888889, 'maximumGPUClockRate': 1417111111.111111, 'minimumCPUClockRate': 3288888888.888889, 'minimumGPUClockRate': 1417111111.111111, 'topologyHeight': 1, 'topologyWidth': 1}  \n",
       "68         {'core': 0, 'domainHeight': 1000, 'domainWidth': 1000, 'gpu': 0, 'iterations': 15, 'maximumCPUClockRate': 9511111111.11111, 'maximumGPUClockRate': 284222222.222222, 'minimumCPUClockRate': 9511111111.11111, 'minimumGPUClockRate': 284222222.222222, 'topologyHeight': 1, 'topologyWidth': 1}  \n",
       "69       {'core': 0, 'domainHeight': 1000, 'domainWidth': 1000, 'gpu': 0, 'iterations': 15, 'maximumCPUClockRate': 5777777777.777778, 'maximumGPUClockRate': 567444444.444444, 'minimumCPUClockRate': 5777777777.777778, 'minimumGPUClockRate': 567444444.444444, 'topologyHeight': 1, 'topologyWidth': 1}  \n",
       "70     {'core': 0, 'domainHeight': 1000, 'domainWidth': 1000, 'gpu': 0, 'iterations': 15, 'maximumCPUClockRate': 7022222222.222222, 'maximumGPUClockRate': 1983555555.555555, 'minimumCPUClockRate': 7022222222.222222, 'minimumGPUClockRate': 1983555555.555555, 'topologyHeight': 1, 'topologyWidth': 1}  \n",
       "71       {'core': 0, 'domainHeight': 1000, 'domainWidth': 1000, 'gpu': 0, 'iterations': 15, 'maximumCPUClockRate': 9511111111.11111, 'maximumGPUClockRate': 1417111111.111111, 'minimumCPUClockRate': 9511111111.11111, 'minimumGPUClockRate': 1417111111.111111, 'topologyHeight': 1, 'topologyWidth': 1}  \n",
       "72     {'core': 0, 'domainHeight': 1000, 'domainWidth': 1000, 'gpu': 0, 'iterations': 15, 'maximumCPUClockRate': 4533333333.333333, 'maximumGPUClockRate': 1983555555.555555, 'minimumCPUClockRate': 4533333333.333333, 'minimumGPUClockRate': 1983555555.555555, 'topologyHeight': 1, 'topologyWidth': 1}  \n",
       "73     {'core': 0, 'domainHeight': 1000, 'domainWidth': 1000, 'gpu': 0, 'iterations': 15, 'maximumCPUClockRate': 5777777777.777778, 'maximumGPUClockRate': 1133888888.888889, 'minimumCPUClockRate': 5777777777.777778, 'minimumGPUClockRate': 1133888888.888889, 'topologyHeight': 1, 'topologyWidth': 1}  \n",
       "74                 {'core': 0, 'domainHeight': 1000, 'domainWidth': 1000, 'gpu': 0, 'iterations': 15, 'maximumCPUClockRate': 800000000.0, 'maximumGPUClockRate': 1983555555.555555, 'minimumCPUClockRate': 800000000.0, 'minimumGPUClockRate': 1983555555.555555, 'topologyHeight': 1, 'topologyWidth': 1}  \n",
       "75     {'core': 0, 'domainHeight': 1000, 'domainWidth': 1000, 'gpu': 0, 'iterations': 15, 'maximumCPUClockRate': 8266666666.666666, 'maximumGPUClockRate': 1700333333.333333, 'minimumCPUClockRate': 8266666666.666666, 'minimumGPUClockRate': 1700333333.333333, 'topologyHeight': 1, 'topologyWidth': 1}  \n",
       "76       {'core': 0, 'domainHeight': 1000, 'domainWidth': 1000, 'gpu': 0, 'iterations': 15, 'maximumCPUClockRate': 8266666666.666666, 'maximumGPUClockRate': 567444444.444444, 'minimumCPUClockRate': 8266666666.666666, 'minimumGPUClockRate': 567444444.444444, 'topologyHeight': 1, 'topologyWidth': 1}  \n",
       "77     {'core': 0, 'domainHeight': 1000, 'domainWidth': 1000, 'gpu': 0, 'iterations': 15, 'maximumCPUClockRate': 7022222222.222222, 'maximumGPUClockRate': 1417111111.111111, 'minimumCPUClockRate': 7022222222.222222, 'minimumGPUClockRate': 1417111111.111111, 'topologyHeight': 1, 'topologyWidth': 1}  \n",
       "78                 {'core': 0, 'domainHeight': 1000, 'domainWidth': 1000, 'gpu': 0, 'iterations': 15, 'maximumCPUClockRate': 800000000.0, 'maximumGPUClockRate': 1133888888.888889, 'minimumCPUClockRate': 800000000.0, 'minimumGPUClockRate': 1133888888.888889, 'topologyHeight': 1, 'topologyWidth': 1}  \n",
       "79       {'core': 0, 'domainHeight': 1000, 'domainWidth': 1000, 'gpu': 0, 'iterations': 15, 'maximumCPUClockRate': 9511111111.11111, 'maximumGPUClockRate': 1133888888.888889, 'minimumCPUClockRate': 9511111111.11111, 'minimumGPUClockRate': 1133888888.888889, 'topologyHeight': 1, 'topologyWidth': 1}  \n",
       "80     {'core': 0, 'domainHeight': 1000, 'domainWidth': 1000, 'gpu': 0, 'iterations': 15, 'maximumCPUClockRate': 3288888888.888889, 'maximumGPUClockRate': 1700333333.333333, 'minimumCPUClockRate': 3288888888.888889, 'minimumGPUClockRate': 1700333333.333333, 'topologyHeight': 1, 'topologyWidth': 1}  \n",
       "81               {'core': 0, 'domainHeight': 1000, 'domainWidth': 1000, 'gpu': 0, 'iterations': 15, 'maximumCPUClockRate': 7022222222.222222, 'maximumGPUClockRate': 2550000000.0, 'minimumCPUClockRate': 7022222222.222222, 'minimumGPUClockRate': 2550000000.0, 'topologyHeight': 1, 'topologyWidth': 1}  \n",
       "82       {'core': 0, 'domainHeight': 1000, 'domainWidth': 1000, 'gpu': 0, 'iterations': 15, 'maximumCPUClockRate': 2044444444.444444, 'maximumGPUClockRate': 567444444.444444, 'minimumCPUClockRate': 2044444444.444444, 'minimumGPUClockRate': 567444444.444444, 'topologyHeight': 1, 'topologyWidth': 1}  \n",
       "83               {'core': 0, 'domainHeight': 1000, 'domainWidth': 1000, 'gpu': 0, 'iterations': 15, 'maximumCPUClockRate': 4533333333.333333, 'maximumGPUClockRate': 2550000000.0, 'minimumCPUClockRate': 4533333333.333333, 'minimumGPUClockRate': 2550000000.0, 'topologyHeight': 1, 'topologyWidth': 1}  \n",
       "84   {'core': 0, 'domainHeight': 1000, 'domainWidth': 1000, 'gpu': 0, 'iterations': 15, 'maximumCPUClockRate': 10755555555.555555, 'maximumGPUClockRate': 1133888888.888889, 'minimumCPUClockRate': 10755555555.555555, 'minimumGPUClockRate': 1133888888.888889, 'topologyHeight': 1, 'topologyWidth': 1}  \n",
       "85                 {'core': 0, 'domainHeight': 1000, 'domainWidth': 1000, 'gpu': 0, 'iterations': 15, 'maximumCPUClockRate': 9511111111.11111, 'maximumGPUClockRate': 2550000000.0, 'minimumCPUClockRate': 9511111111.11111, 'minimumGPUClockRate': 2550000000.0, 'topologyHeight': 1, 'topologyWidth': 1}  \n",
       "86     {'core': 0, 'domainHeight': 1000, 'domainWidth': 1000, 'gpu': 0, 'iterations': 15, 'maximumCPUClockRate': 7022222222.222222, 'maximumGPUClockRate': 1700333333.333333, 'minimumCPUClockRate': 7022222222.222222, 'minimumGPUClockRate': 1700333333.333333, 'topologyHeight': 1, 'topologyWidth': 1}  \n",
       "87       {'core': 0, 'domainHeight': 1000, 'domainWidth': 1000, 'gpu': 0, 'iterations': 15, 'maximumCPUClockRate': 5777777777.777778, 'maximumGPUClockRate': 850666666.666667, 'minimumCPUClockRate': 5777777777.777778, 'minimumGPUClockRate': 850666666.666667, 'topologyHeight': 1, 'topologyWidth': 1}  \n",
       "88   {'core': 0, 'domainHeight': 1000, 'domainWidth': 1000, 'gpu': 0, 'iterations': 15, 'maximumCPUClockRate': 10755555555.555555, 'maximumGPUClockRate': 2266777777.777778, 'minimumCPUClockRate': 10755555555.555555, 'minimumGPUClockRate': 2266777777.777778, 'topologyHeight': 1, 'topologyWidth': 1}  \n",
       "89       {'core': 0, 'domainHeight': 1000, 'domainWidth': 1000, 'gpu': 0, 'iterations': 15, 'maximumCPUClockRate': 4533333333.333333, 'maximumGPUClockRate': 850666666.666667, 'minimumCPUClockRate': 4533333333.333333, 'minimumGPUClockRate': 850666666.666667, 'topologyHeight': 1, 'topologyWidth': 1}  \n",
       "90     {'core': 0, 'domainHeight': 1000, 'domainWidth': 1000, 'gpu': 0, 'iterations': 15, 'maximumCPUClockRate': 2044444444.444444, 'maximumGPUClockRate': 1417111111.111111, 'minimumCPUClockRate': 2044444444.444444, 'minimumGPUClockRate': 1417111111.111111, 'topologyHeight': 1, 'topologyWidth': 1}  \n",
       "91     {'core': 0, 'domainHeight': 1000, 'domainWidth': 1000, 'gpu': 0, 'iterations': 15, 'maximumCPUClockRate': 4533333333.333333, 'maximumGPUClockRate': 2266777777.777778, 'minimumCPUClockRate': 4533333333.333333, 'minimumGPUClockRate': 2266777777.777778, 'topologyHeight': 1, 'topologyWidth': 1}  \n",
       "92                   {'core': 0, 'domainHeight': 1000, 'domainWidth': 1000, 'gpu': 0, 'iterations': 15, 'maximumCPUClockRate': 800000000.0, 'maximumGPUClockRate': 567444444.444444, 'minimumCPUClockRate': 800000000.0, 'minimumGPUClockRate': 567444444.444444, 'topologyHeight': 1, 'topologyWidth': 1}  \n",
       "93     {'core': 0, 'domainHeight': 1000, 'domainWidth': 1000, 'gpu': 0, 'iterations': 15, 'maximumCPUClockRate': 5777777777.777778, 'maximumGPUClockRate': 2266777777.777778, 'minimumCPUClockRate': 5777777777.777778, 'minimumGPUClockRate': 2266777777.777778, 'topologyHeight': 1, 'topologyWidth': 1}  \n",
       "94       {'core': 0, 'domainHeight': 1000, 'domainWidth': 1000, 'gpu': 0, 'iterations': 15, 'maximumCPUClockRate': 2044444444.444444, 'maximumGPUClockRate': 284222222.222222, 'minimumCPUClockRate': 2044444444.444444, 'minimumGPUClockRate': 284222222.222222, 'topologyHeight': 1, 'topologyWidth': 1}  \n",
       "95             {'core': 0, 'domainHeight': 1000, 'domainWidth': 1000, 'gpu': 0, 'iterations': 15, 'maximumCPUClockRate': 12000000000.0, 'maximumGPUClockRate': 1983555555.555555, 'minimumCPUClockRate': 12000000000.0, 'minimumGPUClockRate': 1983555555.555555, 'topologyHeight': 1, 'topologyWidth': 1}  \n",
       "96               {'core': 0, 'domainHeight': 1000, 'domainWidth': 1000, 'gpu': 0, 'iterations': 15, 'maximumCPUClockRate': 12000000000.0, 'maximumGPUClockRate': 284222222.222222, 'minimumCPUClockRate': 12000000000.0, 'minimumGPUClockRate': 284222222.222222, 'topologyHeight': 1, 'topologyWidth': 1}  \n",
       "97               {'core': 0, 'domainHeight': 1000, 'domainWidth': 1000, 'gpu': 0, 'iterations': 15, 'maximumCPUClockRate': 12000000000.0, 'maximumGPUClockRate': 850666666.666667, 'minimumCPUClockRate': 12000000000.0, 'minimumGPUClockRate': 850666666.666667, 'topologyHeight': 1, 'topologyWidth': 1}  \n",
       "98                 {'core': 0, 'domainHeight': 1000, 'domainWidth': 1000, 'gpu': 0, 'iterations': 15, 'maximumCPUClockRate': 800000000.0, 'maximumGPUClockRate': 1417111111.111111, 'minimumCPUClockRate': 800000000.0, 'minimumGPUClockRate': 1417111111.111111, 'topologyHeight': 1, 'topologyWidth': 1}  \n",
       "99       {'core': 0, 'domainHeight': 1000, 'domainWidth': 1000, 'gpu': 0, 'iterations': 15, 'maximumCPUClockRate': 7022222222.222222, 'maximumGPUClockRate': 567444444.444444, 'minimumCPUClockRate': 7022222222.222222, 'minimumGPUClockRate': 567444444.444444, 'topologyHeight': 1, 'topologyWidth': 1}  \n",
       "100      {'core': 0, 'domainHeight': 1000, 'domainWidth': 1000, 'gpu': 0, 'iterations': 15, 'maximumCPUClockRate': 4533333333.333333, 'maximumGPUClockRate': 567444444.444444, 'minimumCPUClockRate': 4533333333.333333, 'minimumGPUClockRate': 567444444.444444, 'topologyHeight': 1, 'topologyWidth': 1}  \n",
       "101      {'core': 0, 'domainHeight': 1000, 'domainWidth': 1000, 'gpu': 0, 'iterations': 15, 'maximumCPUClockRate': 5777777777.777778, 'maximumGPUClockRate': 284222222.222222, 'minimumCPUClockRate': 5777777777.777778, 'minimumGPUClockRate': 284222222.222222, 'topologyHeight': 1, 'topologyWidth': 1}  \n",
       "102            {'core': 0, 'domainHeight': 1000, 'domainWidth': 1000, 'gpu': 0, 'iterations': 15, 'maximumCPUClockRate': 12000000000.0, 'maximumGPUClockRate': 1133888888.888889, 'minimumCPUClockRate': 12000000000.0, 'minimumGPUClockRate': 1133888888.888889, 'topologyHeight': 1, 'topologyWidth': 1}  \n",
       "103                      {'core': 0, 'domainHeight': 1000, 'domainWidth': 1000, 'gpu': 0, 'iterations': 15, 'maximumCPUClockRate': 9511111111.11111, 'maximumGPUClockRate': 1000000.0, 'minimumCPUClockRate': 9511111111.11111, 'minimumGPUClockRate': 1000000.0, 'topologyHeight': 1, 'topologyWidth': 1}  \n",
       "104            {'core': 0, 'domainHeight': 1000, 'domainWidth': 1000, 'gpu': 0, 'iterations': 15, 'maximumCPUClockRate': 12000000000.0, 'maximumGPUClockRate': 1417111111.111111, 'minimumCPUClockRate': 12000000000.0, 'minimumGPUClockRate': 1417111111.111111, 'topologyHeight': 1, 'topologyWidth': 1}  \n",
       "105        {'core': 0, 'domainHeight': 1000, 'domainWidth': 1000, 'gpu': 0, 'iterations': 15, 'maximumCPUClockRate': 9511111111.11111, 'maximumGPUClockRate': 567444444.444444, 'minimumCPUClockRate': 9511111111.11111, 'minimumGPUClockRate': 567444444.444444, 'topologyHeight': 1, 'topologyWidth': 1}  \n",
       "106                                                                                                                                                                            {'core': 0, 'domainHeight': 1000, 'domainWidth': 1000, 'gpu': 0, 'iterations': 75, 'topologyHeight': 1, 'topologyWidth': 1}  \n",
       "107                                                                                                                                                                            {'core': 0, 'domainHeight': 1000, 'domainWidth': 1000, 'gpu': 0, 'iterations': 75, 'topologyHeight': 1, 'topologyWidth': 1}  \n",
       "108                                                                                                                                                                      {'core': 0, 'gpu': 0, 'iterations': 15, 'matrixAHeight': 1536, 'matrixAWidth': 1536, 'matrixBHeight': 1536, 'matrixBWidth': 1536}  \n",
       "109                                                                                                                                                                      {'core': 0, 'gpu': 0, 'iterations': 15, 'matrixAHeight': 1536, 'matrixAWidth': 1536, 'matrixBHeight': 1536, 'matrixBWidth': 1536}  \n",
       "110                                                                                                                                                                                                          {'core': 0, 'file': '/home/qub1/rodinia_3.1/data/kmeans/kdd_cup', 'gpu': 0, 'iterations': 75}  \n",
       "111                                                                                                                                                                                                          {'core': 0, 'file': '/home/qub1/rodinia_3.1/data/kmeans/kdd_cup', 'gpu': 0, 'iterations': 75}  \n",
       "112                                                                                                                                                                            {'core': 0, 'domainHeight': 1000, 'domainWidth': 1000, 'gpu': 0, 'iterations': 15, 'topologyHeight': 1, 'topologyWidth': 1}  \n",
       "113                                                                                                                                                                            {'core': 0, 'domainHeight': 1000, 'domainWidth': 1000, 'gpu': 0, 'iterations': 15, 'topologyHeight': 1, 'topologyWidth': 1}  \n",
       "114                                                                                                                                                                            {'core': 0, 'domainHeight': 1000, 'domainWidth': 1000, 'gpu': 0, 'iterations': 15, 'topologyHeight': 1, 'topologyWidth': 1}  \n",
       "115                                                                                                                                                                            {'core': 0, 'domainHeight': 1000, 'domainWidth': 1000, 'gpu': 0, 'iterations': 15, 'topologyHeight': 1, 'topologyWidth': 1}  \n",
       "116                                                                                                                                                                            {'core': 0, 'domainHeight': 1000, 'domainWidth': 1000, 'gpu': 0, 'iterations': 15, 'topologyHeight': 1, 'topologyWidth': 1}  \n",
       "117                                                                                                                                                                            {'core': 0, 'domainHeight': 1000, 'domainWidth': 1000, 'gpu': 0, 'iterations': 15, 'topologyHeight': 1, 'topologyWidth': 1}  \n",
       "118                                                                                                                                                                            {'core': 0, 'domainHeight': 1000, 'domainWidth': 1000, 'gpu': 0, 'iterations': 15, 'topologyHeight': 1, 'topologyWidth': 1}  \n",
       "119                                                                                                                                                                            {'core': 0, 'domainHeight': 1000, 'domainWidth': 1000, 'gpu': 0, 'iterations': 15, 'topologyHeight': 1, 'topologyWidth': 1}  \n",
       "120                                                                                                                                                                            {'core': 0, 'domainHeight': 1000, 'domainWidth': 1000, 'gpu': 0, 'iterations': 15, 'topologyHeight': 1, 'topologyWidth': 1}  \n",
       "121                                                                                                                                                                            {'core': 0, 'domainHeight': 1000, 'domainWidth': 1000, 'gpu': 0, 'iterations': 75, 'topologyHeight': 1, 'topologyWidth': 1}  \n",
       "122                                                                                                                                                                            {'core': 0, 'domainHeight': 1000, 'domainWidth': 1000, 'gpu': 0, 'iterations': 75, 'topologyHeight': 1, 'topologyWidth': 1}  \n",
       "123                                                                                                                                                                            {'core': 0, 'domainHeight': 1000, 'domainWidth': 1000, 'gpu': 0, 'iterations': 75, 'topologyHeight': 1, 'topologyWidth': 1}  \n",
       "124                                                                                                                                                                            {'core': 0, 'domainHeight': 1000, 'domainWidth': 1000, 'gpu': 0, 'iterations': 75, 'topologyHeight': 1, 'topologyWidth': 1}  \n",
       "125                                                                                                                                                                            {'core': 0, 'domainHeight': 1000, 'domainWidth': 1000, 'gpu': 0, 'iterations': 75, 'topologyHeight': 1, 'topologyWidth': 1}  \n",
       "126                                                                                                                                                                            {'core': 0, 'domainHeight': 1000, 'domainWidth': 1000, 'gpu': 0, 'iterations': 75, 'topologyHeight': 1, 'topologyWidth': 1}  \n",
       "127                                                                                                                                                                            {'core': 0, 'domainHeight': 1000, 'domainWidth': 1000, 'gpu': 0, 'iterations': 75, 'topologyHeight': 1, 'topologyWidth': 1}  \n",
       "128                                                                                                                                                                            {'core': 0, 'domainHeight': 1000, 'domainWidth': 1000, 'gpu': 0, 'iterations': 75, 'topologyHeight': 1, 'topologyWidth': 1}  \n",
       "129                                                                                                                                                                            {'core': 0, 'domainHeight': 1000, 'domainWidth': 1000, 'gpu': 0, 'iterations': 75, 'topologyHeight': 1, 'topologyWidth': 1}  \n",
       "130                                                                                                                                                                            {'core': 0, 'domainHeight': 1000, 'domainWidth': 1000, 'gpu': 0, 'iterations': 15, 'topologyHeight': 1, 'topologyWidth': 1}  \n",
       "131                                                                                                                                                                            {'core': 0, 'domainHeight': 1000, 'domainWidth': 1000, 'gpu': 0, 'iterations': 75, 'topologyHeight': 1, 'topologyWidth': 1}  \n",
       "132                                                                                                                                                                       {'core': 0, 'gpu': 0, 'iterations': 3, 'matrixAHeight': 1536, 'matrixAWidth': 1536, 'matrixBHeight': 1536, 'matrixBWidth': 1536}  \n",
       "133                {'core': 0, 'gpu': 0, 'iterations': 15, 'matrixAHeight': 1536, 'matrixAWidth': 1536, 'matrixBHeight': 1536, 'matrixBWidth': 1536, 'maximumCPUClockRate': 12000000000.0, 'maximumGPUClockRate': 2550000000.0, 'minimumCPUClockRate': 12000000000.0, 'minimumGPUClockRate': 2550000000.0}  \n",
       "134                                                                                                                                                                                                          {'core': 0, 'file': '/home/qub1/rodinia_3.1/data/kmeans/kdd_cup', 'gpu': 0, 'iterations': 15}  \n",
       "135                                                    {'core': 0, 'file': '/home/qub1/rodinia_3.1/data/kmeans/kdd_cup', 'gpu': 0, 'iterations': 75, 'maximumCPUClockRate': 12000000000.0, 'maximumGPUClockRate': 2550000000.0, 'minimumCPUClockRate': 12000000000.0, 'minimumGPUClockRate': 2550000000.0}  \n",
       "136                                                                                                                                                                       {'core': 0, 'gpu': 0, 'iterations': 3, 'matrixAHeight': 1536, 'matrixAWidth': 1536, 'matrixBHeight': 1536, 'matrixBWidth': 1536}  \n",
       "137                                                                                                                                                                      {'core': 0, 'gpu': 0, 'iterations': 15, 'matrixAHeight': 1536, 'matrixAWidth': 1536, 'matrixBHeight': 1536, 'matrixBWidth': 1536}  \n",
       "138                                                                                                                                                                                                          {'core': 0, 'file': '/home/qub1/rodinia_3.1/data/kmeans/kdd_cup', 'gpu': 0, 'iterations': 15}  \n",
       "139                                                                                                                                                                                                          {'core': 0, 'file': '/home/qub1/rodinia_3.1/data/kmeans/kdd_cup', 'gpu': 0, 'iterations': 75}  \n",
       "140                                                                                                                                                                       {'core': 0, 'gpu': 0, 'iterations': 3, 'matrixAHeight': 1536, 'matrixAWidth': 1536, 'matrixBHeight': 1536, 'matrixBWidth': 1536}  \n",
       "141                                                                                                                                                                      {'core': 0, 'gpu': 0, 'iterations': 15, 'matrixAHeight': 1536, 'matrixAWidth': 1536, 'matrixBHeight': 1536, 'matrixBWidth': 1536}  \n",
       "142                                                                                                                                                                                                          {'core': 0, 'file': '/home/qub1/rodinia_3.1/data/kmeans/kdd_cup', 'gpu': 0, 'iterations': 15}  \n",
       "143                                                                                                                                                                                                          {'core': 0, 'file': '/home/qub1/rodinia_3.1/data/kmeans/kdd_cup', 'gpu': 0, 'iterations': 75}  \n",
       "144                                                                                                                                                                            {'core': 0, 'domainHeight': 1000, 'domainWidth': 1000, 'gpu': 0, 'iterations': 15, 'topologyHeight': 1, 'topologyWidth': 1}  \n",
       "145                                                                                                                                                                            {'core': 0, 'domainHeight': 1000, 'domainWidth': 1000, 'gpu': 0, 'iterations': 75, 'topologyHeight': 1, 'topologyWidth': 1}  \n",
       "146                                                                                                                                                                            {'core': 0, 'domainHeight': 1000, 'domainWidth': 1000, 'gpu': 0, 'iterations': 75, 'topologyHeight': 1, 'topologyWidth': 1}  \n",
       "147                                                                                                                                                                            {'core': 0, 'domainHeight': 1000, 'domainWidth': 1000, 'gpu': 0, 'iterations': 75, 'topologyHeight': 1, 'topologyWidth': 1}  \n",
       "148                                                                                                                                                                            {'core': 0, 'domainHeight': 1000, 'domainWidth': 1000, 'gpu': 0, 'iterations': 15, 'topologyHeight': 1, 'topologyWidth': 1}  \n",
       "149                                                                                                                                                                            {'core': 0, 'domainHeight': 1000, 'domainWidth': 1000, 'gpu': 0, 'iterations': 75, 'topologyHeight': 1, 'topologyWidth': 1}  \n",
       "150                                                                                                                                                                            {'core': 0, 'domainHeight': 1000, 'domainWidth': 1000, 'gpu': 0, 'iterations': 75, 'topologyHeight': 1, 'topologyWidth': 1}  \n",
       "151                                                                                                                                                                            {'core': 0, 'domainHeight': 1000, 'domainWidth': 1000, 'gpu': 0, 'iterations': 75, 'topologyHeight': 1, 'topologyWidth': 1}  \n",
       "152                                                                                                                                                                       {'core': 0, 'gpu': 0, 'iterations': 3, 'matrixAHeight': 1536, 'matrixAWidth': 1536, 'matrixBHeight': 1536, 'matrixBWidth': 1536}  \n",
       "153                                                                                                                                                                      {'core': 0, 'gpu': 0, 'iterations': 15, 'matrixAHeight': 1536, 'matrixAWidth': 1536, 'matrixBHeight': 1536, 'matrixBWidth': 1536}  \n",
       "154                                                                                                                                                                      {'core': 0, 'gpu': 0, 'iterations': 15, 'matrixAHeight': 1536, 'matrixAWidth': 1536, 'matrixBHeight': 1536, 'matrixBWidth': 1536}  \n",
       "155                                                                                                                                                                      {'core': 0, 'gpu': 0, 'iterations': 15, 'matrixAHeight': 1536, 'matrixAWidth': 1536, 'matrixBHeight': 1536, 'matrixBWidth': 1536}  \n",
       "156                                                                                                                                                                                                          {'core': 0, 'file': '/home/qub1/rodinia_3.1/data/kmeans/kdd_cup', 'gpu': 0, 'iterations': 15}  \n",
       "157                                                                                                                                                                                                          {'core': 0, 'file': '/home/qub1/rodinia_3.1/data/kmeans/kdd_cup', 'gpu': 0, 'iterations': 75}  \n",
       "158                                                                                                                                                                                                          {'core': 0, 'file': '/home/qub1/rodinia_3.1/data/kmeans/kdd_cup', 'gpu': 0, 'iterations': 75}  \n",
       "159                                                                                                                                                                                                          {'core': 0, 'file': '/home/qub1/rodinia_3.1/data/kmeans/kdd_cup', 'gpu': 0, 'iterations': 75}  \n",
       "160                                                                                                                                                                                                          {'core': 0, 'file': '/home/qub1/rodinia_3.1/data/kmeans/kdd_cup', 'gpu': 0, 'iterations': 75}  \n",
       "161                                                                                                                                                                                                          {'core': 0, 'file': '/home/qub1/rodinia_3.1/data/kmeans/kdd_cup', 'gpu': 0, 'iterations': 75}  "
      ]
     },
     "metadata": {},
     "output_type": "display_data"
    }
   ],
   "source": [
    "# Load all profiler sessions\n",
    "complete_data_set = DataSet(ProfilerSession.load_all(database))\n",
    "\n",
    "# Visualize the profiler session data\n",
    "overview_plot = complete_data_set.table_plot\n",
    "overview_plot.maximum_rows = 1000\n",
    "overview_plot.plot()"
   ]
  },
  {
   "cell_type": "markdown",
   "metadata": {},
   "source": [
    "## Visualize a Profiler Session\n",
    "\n",
    "Define the ID of the test you wish to visualize below."
   ]
  },
  {
   "cell_type": "code",
   "execution_count": 4,
   "metadata": {
    "pycharm": {
     "name": "#%%\n"
    }
   },
   "outputs": [],
   "source": [
    "#profiler_session_id = complete_data_set.data[-1].id\n",
    "profiler_session_id = 124\n",
    "data_set = DataSet([profiler_session for profiler_session in complete_data_set.data if profiler_session.id == profiler_session_id])"
   ]
  },
  {
   "cell_type": "markdown",
   "metadata": {},
   "source": [
    "### Summary\n",
    "\n",
    "These are the specifications of the system with which the profiler session was performed."
   ]
  },
  {
   "cell_type": "code",
   "execution_count": 5,
   "metadata": {
    "pycharm": {
     "name": "#%%\n"
    }
   },
   "outputs": [
    {
     "name": "stdout",
     "output_type": "stream",
     "text": [
      "{'GPUs': [{'Brand': 'GeForce',\n",
      "           'Compute Capability Major Version': 7,\n",
      "           'Compute Capability Minor Version': 5,\n",
      "           'Default Auto Boosted Clocks Enabled': None,\n",
      "           'Default Power Limit (W)': '260.0',\n",
      "           'Memory Size (B)': '8.3 GB',\n",
      "           'Name': 'GeForce RTX 2080',\n",
      "           'PCIe Link Width (B)': '16 Bytes',\n",
      "           'Supported Core Clock Rates (Hz)': [''],\n",
      "           'Supported Memory Clock Rates (Hz)': ['']}],\n",
      " 'Label': 'Jacobi'}\n"
     ]
    }
   ],
   "source": [
    "pprint.pprint(data_set.data[0].summary)"
   ]
  },
  {
   "cell_type": "markdown",
   "metadata": {},
   "source": [
    "### Profile\n",
    "\n",
    "This is the profile with which the profiler session was performed."
   ]
  },
  {
   "cell_type": "code",
   "execution_count": 6,
   "metadata": {
    "pycharm": {
     "name": "#%%\n"
    }
   },
   "outputs": [
    {
     "name": "stdout",
     "output_type": "stream",
     "text": [
      "{'core': 0,\n",
      " 'domainHeight': 1000,\n",
      " 'domainWidth': 1000,\n",
      " 'gpu': 0,\n",
      " 'iterations': 75,\n",
      " 'topologyHeight': 1,\n",
      " 'topologyWidth': 1}\n"
     ]
    }
   ],
   "source": [
    "pprint.pprint(data_set.data[0].profile)"
   ]
  },
  {
   "cell_type": "markdown",
   "metadata": {},
   "source": [
    "### Overview\n",
    "\n",
    "The graph image below summarizes the graphs above."
   ]
  },
  {
   "cell_type": "code",
   "execution_count": 7,
   "metadata": {
    "pycharm": {
     "name": "#%%\n"
    }
   },
   "outputs": [],
   "source": [
    "# data_set.data[0].overview_multi_plot.plot()"
   ]
  },
  {
   "cell_type": "markdown",
   "metadata": {},
   "source": [
    "### Switches\n",
    "\n",
    "The graphs below shows the status of configuration switches over time."
   ]
  },
  {
   "cell_type": "code",
   "execution_count": 8,
   "metadata": {
    "pycharm": {
     "name": "#%%\n"
    }
   },
   "outputs": [
    {
     "data": {
      "application/vnd.jupyter.widget-view+json": {
       "model_id": "4d88aeaed4534490b842c03d35bde727",
       "version_major": 2,
       "version_minor": 0
      },
      "text/plain": [
       "Canvas(toolbar=Toolbar(toolitems=[('Home', 'Reset original view', 'home', 'home'), ('Back', 'Back to previous …"
      ]
     },
     "metadata": {},
     "output_type": "display_data"
    },
    {
     "name": "stderr",
     "output_type": "stream",
     "text": [
      "No handles with labels found to put in legend.\n"
     ]
    }
   ],
   "source": [
    "data_set.data[0].switches_timeseries_plot.plot()"
   ]
  },
  {
   "cell_type": "markdown",
   "metadata": {},
   "source": [
    "### Timespan\n",
    "\n",
    "The graphs below shows the time spent on different types of operations over time."
   ]
  },
  {
   "cell_type": "code",
   "execution_count": 9,
   "metadata": {},
   "outputs": [
    {
     "data": {
      "application/vnd.jupyter.widget-view+json": {
       "model_id": "956fc1cff407415981c18baa04e3f8c4",
       "version_major": 2,
       "version_minor": 0
      },
      "text/plain": [
       "Canvas(toolbar=Toolbar(toolitems=[('Home', 'Reset original view', 'home', 'home'), ('Back', 'Back to previous …"
      ]
     },
     "metadata": {},
     "output_type": "display_data"
    }
   ],
   "source": [
    "timespan_timeseries_plot = data_set.data[0].timespan_timeseries_plot(use_ear=False)\n",
    "timespan_timeseries_plot.plot_series = { key: timespan_timeseries_plot.plot_series[key] for key in timespan_timeseries_plot.plot_series if (key.startswith(\"Runtime\") or key.startswith(\"EAR\") or key.startswith(\"CPU 0 Core 0\"))}\n",
    "timespan_timeseries_plot.plot()"
   ]
  },
  {
   "cell_type": "markdown",
   "metadata": {},
   "source": [
    "### Power Consumption\n",
    "\n",
    "The graphs below shows the power consumption over time."
   ]
  },
  {
   "cell_type": "code",
   "execution_count": 10,
   "metadata": {
    "pycharm": {
     "name": "#%%\n"
    }
   },
   "outputs": [
    {
     "data": {
      "application/vnd.jupyter.widget-view+json": {
       "model_id": "c7681ebf6d38480dbd57e54453e3b538",
       "version_major": 2,
       "version_minor": 0
      },
      "text/plain": [
       "Canvas(toolbar=Toolbar(toolitems=[('Home', 'Reset original view', 'home', 'home'), ('Back', 'Back to previous …"
      ]
     },
     "metadata": {},
     "output_type": "display_data"
    }
   ],
   "source": [
    "power_consumption_timeseries_plot = data_set.data[0].power_consumption_timeseries_plot(plot_limits=False, use_ear=False)\n",
    "#power_consumption_timeseries_plot.plot_series = { key: power_consumption_timeseries_plot.plot_series[key] for key in power_consumption_timeseries_plot.plot_series if (key.startswith(\"CPU 1\") or key.startswith(\"EAR\") or key.startswith(\"CPU 0\") and (not key.startswith(\"CPU 0 Core\") or key.startswith(\"CPU 0 Core 0\"))) or key.startswith(\"GPU 0\") or key.startswith(\"Node\")}\n",
    "power_consumption_timeseries_plot.plot_series = { key: power_consumption_timeseries_plot.plot_series[key] for key in power_consumption_timeseries_plot.plot_series if (key.startswith(\"EAR\") or key.startswith(\"CPU 0\") and (not key.startswith(\"CPU 0 Core\") or key.startswith(\"CPU 0 Core 0\"))) or key.startswith(\"GPU 0\") or key.startswith(\"Node\")}\n",
    "power_consumption_timeseries_plot.plot()"
   ]
  },
  {
   "cell_type": "markdown",
   "metadata": {},
   "source": [
    "### Energy Consumption\n",
    "\n",
    "The graphs below shows the total energy consumption over time."
   ]
  },
  {
   "cell_type": "code",
   "execution_count": 11,
   "metadata": {
    "pycharm": {
     "name": "#%%\n"
    }
   },
   "outputs": [
    {
     "data": {
      "application/vnd.jupyter.widget-view+json": {
       "model_id": "c7338e5d049f499f9052e8dfcfbeb637",
       "version_major": 2,
       "version_minor": 0
      },
      "text/plain": [
       "Canvas(toolbar=Toolbar(toolitems=[('Home', 'Reset original view', 'home', 'home'), ('Back', 'Back to previous …"
      ]
     },
     "metadata": {},
     "output_type": "display_data"
    },
    {
     "data": {
      "application/vnd.jupyter.widget-view+json": {
       "model_id": "efb303eb2af341c7acb835205e660a8a",
       "version_major": 2,
       "version_minor": 0
      },
      "text/plain": [
       "Canvas(toolbar=Toolbar(toolitems=[('Home', 'Reset original view', 'home', 'home'), ('Back', 'Back to previous …"
      ]
     },
     "metadata": {},
     "output_type": "display_data"
    }
   ],
   "source": [
    "# Plot in Joules\n",
    "energy_consumption_plot_j = data_set.data[0].energy_consumption_timeseries_plot(use_ear=False)\n",
    "energy_consumption_plot_j.plot_series = { key: energy_consumption_plot_j.plot_series[key] for key in energy_consumption_plot_j.plot_series if (key.startswith(\"EAR\") or key.startswith(\"CPU 0\") and (not key.startswith(\"CPU 0 Core\") or key.startswith(\"CPU 0 Core 0\"))) or key.startswith(\"GPU 0\") or key.startswith(\"Node\")}\n",
    "energy_consumption_plot_j.plot()\n",
    "\n",
    "# Plot in Watt Hours\n",
    "energy_consumption_plot_wh = data_set.data[0].energy_consumption_timeseries_plot(unit_string=\"Wh\", modifier=Plot.j_to_wh, use_ear=False)\n",
    "energy_consumption_plot_wh.plot_series = { key: energy_consumption_plot_wh.plot_series[key] for key in energy_consumption_plot_wh.plot_series if (key.startswith(\"EAR\") or key.startswith(\"CPU 0\") and (not key.startswith(\"CPU 0 Core\") or key.startswith(\"CPU 0 Core 0\"))) or key.startswith(\"GPU 0\") or key.startswith(\"Node\")}\n",
    "energy_consumption_plot_wh.plot()"
   ]
  },
  {
   "cell_type": "markdown",
   "metadata": {},
   "source": [
    "### Clock Rates\n",
    "\n",
    "The graph below shows the clock rate over time."
   ]
  },
  {
   "cell_type": "code",
   "execution_count": 12,
   "metadata": {
    "pycharm": {
     "name": "#%%\n"
    }
   },
   "outputs": [
    {
     "data": {
      "application/vnd.jupyter.widget-view+json": {
       "model_id": "745b0ba0c78f41e986f22f7d00279fac",
       "version_major": 2,
       "version_minor": 0
      },
      "text/plain": [
       "Canvas(toolbar=Toolbar(toolitems=[('Home', 'Reset original view', 'home', 'home'), ('Back', 'Back to previous …"
      ]
     },
     "metadata": {},
     "output_type": "display_data"
    }
   ],
   "source": [
    "clock_rate_timeseries_plot = data_set.data[0].clock_rate_timeseries_plot(plot_limits=True, use_ear=False)\n",
    "clock_rate_timeseries_plot.plot_series = { key: clock_rate_timeseries_plot.plot_series[key] for key in clock_rate_timeseries_plot.plot_series if (key.startswith(\"EAR\") or key.startswith(\"CPU 0\") and (not key.startswith(\"CPU 0 Core\") or key.startswith(\"CPU 0 Core 0\"))) or key.startswith(\"GPU 0\")}\n",
    "clock_rate_timeseries_plot.plot()"
   ]
  },
  {
   "cell_type": "markdown",
   "metadata": {},
   "source": [
    "### Instructions Per Cycle\n",
    "\n",
    "The graph below shows the utilization rates over time."
   ]
  },
  {
   "cell_type": "code",
   "execution_count": 13,
   "metadata": {
    "pycharm": {
     "name": "#%%\n"
    }
   },
   "outputs": [
    {
     "data": {
      "application/vnd.jupyter.widget-view+json": {
       "model_id": "bd7219c895344cc0a6f68f7ab14b6849",
       "version_major": 2,
       "version_minor": 0
      },
      "text/plain": [
       "Canvas(toolbar=Toolbar(toolitems=[('Home', 'Reset original view', 'home', 'home'), ('Back', 'Back to previous …"
      ]
     },
     "metadata": {},
     "output_type": "display_data"
    },
    {
     "name": "stderr",
     "output_type": "stream",
     "text": [
      "No handles with labels found to put in legend.\n"
     ]
    }
   ],
   "source": [
    "data_set.data[0].instructions_per_cycle_timeseries_plot.plot()"
   ]
  },
  {
   "cell_type": "markdown",
   "metadata": {},
   "source": [
    "### Utilization Rates\n",
    "\n",
    "The graph below shows the utilization rates over time."
   ]
  },
  {
   "cell_type": "code",
   "execution_count": 14,
   "metadata": {
    "pycharm": {
     "name": "#%%\n"
    }
   },
   "outputs": [
    {
     "data": {
      "application/vnd.jupyter.widget-view+json": {
       "model_id": "17e225df70d4490580786d30a6901df7",
       "version_major": 2,
       "version_minor": 0
      },
      "text/plain": [
       "Canvas(toolbar=Toolbar(toolitems=[('Home', 'Reset original view', 'home', 'home'), ('Back', 'Back to previous …"
      ]
     },
     "metadata": {},
     "output_type": "display_data"
    }
   ],
   "source": [
    "utilization_rate_timeseries_plot = data_set.data[0].utilization_rate_timeseries_plot\n",
    "utilization_rate_timeseries_plot.plot_series = { key: utilization_rate_timeseries_plot.plot_series[key] for key in utilization_rate_timeseries_plot.plot_series if (key.startswith(\"CPU 0\") and (not key.startswith(\"CPU 0 Core\") or key.startswith(\"CPU 0 Core 0\"))) or key.startswith(\"GPU 0\") or key.startswith(\"Node\")}\n",
    "utilization_rate_timeseries_plot.plot()"
   ]
  },
  {
   "cell_type": "markdown",
   "metadata": {},
   "source": [
    "### Events\n",
    "\n",
    "The graph below shows the events over time."
   ]
  },
  {
   "cell_type": "code",
   "execution_count": 15,
   "metadata": {
    "pycharm": {
     "name": "#%%\n"
    }
   },
   "outputs": [
    {
     "data": {
      "application/vnd.jupyter.widget-view+json": {
       "model_id": "5aa19b0acee54d78b6b67790128526f1",
       "version_major": 2,
       "version_minor": 0
      },
      "text/plain": [
       "Canvas(toolbar=Toolbar(toolitems=[('Home', 'Reset original view', 'home', 'home'), ('Back', 'Back to previous …"
      ]
     },
     "metadata": {},
     "output_type": "display_data"
    }
   ],
   "source": [
    "for events_plot in data_set.data[0].events_event_plot()[:1]:\n",
    "    events_plot.plot()"
   ]
  },
  {
   "cell_type": "markdown",
   "metadata": {},
   "source": [
    "### States\n",
    "\n",
    "The graph below shows the states of the EnergyMonitor over time."
   ]
  },
  {
   "cell_type": "code",
   "execution_count": 16,
   "metadata": {
    "pycharm": {
     "name": "#%%\n"
    }
   },
   "outputs": [
    {
     "data": {
      "application/vnd.jupyter.widget-view+json": {
       "model_id": "4a086124339743eebd4236a59683db39",
       "version_major": 2,
       "version_minor": 0
      },
      "text/plain": [
       "Canvas(toolbar=Toolbar(toolitems=[('Home', 'Reset original view', 'home', 'home'), ('Back', 'Back to previous …"
      ]
     },
     "metadata": {},
     "output_type": "display_data"
    }
   ],
   "source": [
    "data_set.data[0].states_event_plot().plot()"
   ]
  },
  {
   "cell_type": "markdown",
   "metadata": {},
   "source": [
    "### Fan Speed\n",
    "\n",
    "The graphs below shows the fan speed over time."
   ]
  },
  {
   "cell_type": "code",
   "execution_count": 17,
   "metadata": {
    "pycharm": {
     "name": "#%%\n"
    }
   },
   "outputs": [
    {
     "data": {
      "application/vnd.jupyter.widget-view+json": {
       "model_id": "c9f0290e69b948ee97d7075868955006",
       "version_major": 2,
       "version_minor": 0
      },
      "text/plain": [
       "Canvas(toolbar=Toolbar(toolitems=[('Home', 'Reset original view', 'home', 'home'), ('Back', 'Back to previous …"
      ]
     },
     "metadata": {},
     "output_type": "display_data"
    }
   ],
   "source": [
    "data_set.data[0].fan_speed_timeseries_plot.plot()"
   ]
  },
  {
   "cell_type": "markdown",
   "metadata": {},
   "source": [
    "### Memory Consumption\n",
    "\n",
    "The graphs below shows the memory consumption over time."
   ]
  },
  {
   "cell_type": "code",
   "execution_count": 18,
   "metadata": {
    "pycharm": {
     "name": "#%%\n"
    }
   },
   "outputs": [
    {
     "data": {
      "application/vnd.jupyter.widget-view+json": {
       "model_id": "91e72977a5ae41848342654cf0b7d48d",
       "version_major": 2,
       "version_minor": 0
      },
      "text/plain": [
       "Canvas(toolbar=Toolbar(toolitems=[('Home', 'Reset original view', 'home', 'home'), ('Back', 'Back to previous …"
      ]
     },
     "metadata": {},
     "output_type": "display_data"
    }
   ],
   "source": [
    "data_set.data[0].memory_consumption_timeseries_plot(plot_sizes=False).plot()"
   ]
  },
  {
   "cell_type": "markdown",
   "metadata": {},
   "source": [
    "### Processes\n",
    "\n",
    "The graphs below shows the amount of processes over time."
   ]
  },
  {
   "cell_type": "code",
   "execution_count": 19,
   "metadata": {
    "pycharm": {
     "name": "#%%\n"
    }
   },
   "outputs": [
    {
     "data": {
      "application/vnd.jupyter.widget-view+json": {
       "model_id": "02aa8e7df1654a8c9fa9fc2d70e3b888",
       "version_major": 2,
       "version_minor": 0
      },
      "text/plain": [
       "Canvas(toolbar=Toolbar(toolitems=[('Home', 'Reset original view', 'home', 'home'), ('Back', 'Back to previous …"
      ]
     },
     "metadata": {},
     "output_type": "display_data"
    }
   ],
   "source": [
    "data_set.data[0].processes_timeseries_plot.plot()"
   ]
  },
  {
   "cell_type": "markdown",
   "metadata": {},
   "source": [
    "### Temperature\n",
    "\n",
    "The graphs below shows the temperature over time."
   ]
  },
  {
   "cell_type": "code",
   "execution_count": 20,
   "metadata": {
    "pycharm": {
     "name": "#%%\n"
    }
   },
   "outputs": [
    {
     "data": {
      "application/vnd.jupyter.widget-view+json": {
       "model_id": "9b1115c2a5bb4cd397295de966243d17",
       "version_major": 2,
       "version_minor": 0
      },
      "text/plain": [
       "Canvas(toolbar=Toolbar(toolitems=[('Home', 'Reset original view', 'home', 'home'), ('Back', 'Back to previous …"
      ]
     },
     "metadata": {},
     "output_type": "display_data"
    }
   ],
   "source": [
    "temperature_timeseries_plot = data_set.data[0].temperature_timeseries_plot\n",
    "temperature_timeseries_plot.plot_series = { key: temperature_timeseries_plot.plot_series[key] for key in temperature_timeseries_plot.plot_series if (key.startswith(\"CPU 0\") and (not key.startswith(\"CPU 0 Core\") or key.startswith(\"CPU 0 Core 0\"))) or key.startswith(\"GPU 0\") or key.startswith(\"Node\")}\n",
    "temperature_timeseries_plot.plot()"
   ]
  },
  {
   "cell_type": "markdown",
   "metadata": {},
   "source": [
    "### Correlations\n",
    "\n",
    "The graphs below shows the Pearson correlation heatmap for each performance variable."
   ]
  },
  {
   "cell_type": "code",
   "execution_count": 21,
   "metadata": {
    "pycharm": {
     "name": "#%%\n"
    }
   },
   "outputs": [],
   "source": [
    "#data_set.data[0].monitor_data_correlations_plot.plot()\n"
   ]
  }
 ],
 "metadata": {
  "kernelspec": {
   "display_name": "Python 3",
   "language": "python",
   "name": "python3"
  },
  "language_info": {
   "codemirror_mode": {
    "name": "ipython",
    "version": 3
   },
   "file_extension": ".py",
   "mimetype": "text/x-python",
   "name": "python",
   "nbconvert_exporter": "python",
   "pygments_lexer": "ipython3",
   "version": "3.8.5"
  },
  "widgets": {
   "application/vnd.jupyter.widget-state+json": {
    "state": {},
    "version_major": 2,
    "version_minor": 0
   }
  }
 },
 "nbformat": 4,
 "nbformat_minor": 4
}
