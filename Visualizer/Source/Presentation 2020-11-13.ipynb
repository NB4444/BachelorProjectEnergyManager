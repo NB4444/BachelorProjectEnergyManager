{
 "cells": [
  {
   "cell_type": "code",
   "execution_count": 1,
   "metadata": {},
   "outputs": [],
   "source": [
    "%matplotlib widget\n",
    "\n",
    "import pathlib\n",
    "import pprint\n",
    "\n",
    "from Visualizer.ControlledDataSet import ControlComparison, ControlledDataSet\n",
    "from Visualizer.DataSet import DataSet\n",
    "from Visualizer.Monitoring.Persistence.ProfilerSession import ProfilerSession"
   ]
  },
  {
   "cell_type": "code",
   "execution_count": 2,
   "metadata": {},
   "outputs": [],
   "source": [
    "# Load the complete data set\n",
    "source_directory = pathlib.Path().parent.absolute()\n",
    "project_directory = f\"{source_directory}/..\"\n",
    "database = f\"{project_directory}/../Resources/Data/OldDatabase.sqlite\"\n",
    "complete_data_set = DataSet(ProfilerSession.load_all(database))\n",
    "\n",
    "# Load the individual data sets per application type and configuration\n",
    "fixed_frequency_matrix_multiply_data_set = DataSet([profiler_session for profiler_session in complete_data_set.data if profiler_session.label == \"Fixed Frequency Matrix Multiply\" and profiler_session.profile.get(\"matrixAWidth\") == 32 * 30 and \"iterations\" not in profiler_session.profile])\n",
    "matrix_multiply_data_set = DataSet([profiler_session for profiler_session in complete_data_set.data if profiler_session.label == \"Matrix Multiply\" and profiler_session.profile.get(\"matrixAWidth\") == 32 * 30 and \"iterations\" not in profiler_session.profile])\n",
    "fixed_frequency_long_matrix_multiply_data_set = DataSet([profiler_session for profiler_session in complete_data_set.data if profiler_session.label == \"Fixed Frequency Matrix Multiply\" and profiler_session.profile.get(\"matrixAWidth\") == 32 * 30 and profiler_session.profile.get(\"iterations\") == 4])\n",
    "long_matrix_multiply_data_set = DataSet([profiler_session for profiler_session in complete_data_set.data if profiler_session.label == \"Matrix Multiply\" and profiler_session.profile.get(\"matrixAWidth\") == 32 * 30 and profiler_session.profile.get(\"iterations\") == 4])\n",
    "\n",
    "fixed_frequency_kmeans_data_set = DataSet([profiler_session for profiler_session in complete_data_set.data if profiler_session.label == \"Fixed Frequency KMeans\" and \"file\" in profiler_session.profile and profiler_session.profile[\"file\"].endswith(\"kdd_cup\") and \"iterations\" not in profiler_session.profile])\n",
    "kmeans_data_set = DataSet([profiler_session for profiler_session in complete_data_set.data if profiler_session.label == \"KMeans\" and \"file\" in profiler_session.profile and profiler_session.profile[\"file\"].endswith(\"kdd_cup\") and \"iterations\" not in profiler_session.profile])\n",
    "fixed_frequency_long_kmeans_data_set = DataSet([profiler_session for profiler_session in complete_data_set.data if profiler_session.label == \"Fixed Frequency KMeans\" and \"file\" in profiler_session.profile and profiler_session.profile[\"file\"].endswith(\"kdd_cup\") and profiler_session.profile.get(\"iterations\") == 4])\n",
    "long_kmeans_data_set = DataSet([profiler_session for profiler_session in complete_data_set.data if profiler_session.label == \"KMeans\" and \"file\" in profiler_session.profile and profiler_session.profile[\"file\"].endswith(\"kdd_cup\") and profiler_session.profile.get(\"iterations\") == 4])\n",
    "\n",
    "# Convert the data sets to separate sets of data and associated control data\n",
    "matrix_multiply_controlled_data_set = ControlledDataSet(\n",
    "    data_set=fixed_frequency_matrix_multiply_data_set,\n",
    "    control_data_set=matrix_multiply_data_set\n",
    ")\n",
    "long_matrix_multiply_controlled_data_set = ControlledDataSet(\n",
    "    data_set=fixed_frequency_long_matrix_multiply_data_set,\n",
    "    control_data_set=long_matrix_multiply_data_set\n",
    ")\n",
    "\n",
    "kmeans_controlled_data_set = ControlledDataSet(\n",
    "    data_set=fixed_frequency_kmeans_data_set,\n",
    "    control_data_set=kmeans_data_set\n",
    ")\n",
    "long_kmeans_controlled_data_set = ControlledDataSet(\n",
    "    data_set=fixed_frequency_long_kmeans_data_set,\n",
    "    control_data_set=long_kmeans_data_set\n",
    ")"
   ]
  },
  {
   "cell_type": "markdown",
   "metadata": {},
   "source": [
    "# Effects of CPU and GPU Frequency on Runtime and Energy Consumption"
   ]
  },
  {
   "cell_type": "markdown",
   "metadata": {},
   "source": [
    "## Matrix Multiply\n",
    "\n",
    "- Performed using the samples from **CUDA 10.1**\n",
    "- Uses a matrix size of `960`"
   ]
  },
  {
   "cell_type": "markdown",
   "metadata": {},
   "source": [
    "### Control Data\n",
    "\n",
    "- Plot shows runs of matrix multiply with default configuration\n",
    "    - Device **frequencies unrestricted**\n",
    "- Runtime averages about `0.55 seconds`\n",
    "- Energy consumption averages about `80 joules`"
   ]
  },
  {
   "cell_type": "code",
   "execution_count": 3,
   "metadata": {},
   "outputs": [
    {
     "data": {
      "application/vnd.jupyter.widget-view+json": {
       "model_id": "bcd7498aa0eb42e0b59363ea0adc347d",
       "version_major": 2,
       "version_minor": 0
      },
      "text/plain": [
       "Canvas(toolbar=Toolbar(toolitems=[('Home', 'Reset original view', 'home', 'home'), ('Back', 'Back to previous …"
      ]
     },
     "metadata": {},
     "output_type": "display_data"
    }
   ],
   "source": [
    "matrix_multiply_data_set.energy_consumption_vs_runtime_scatter_plot(normalized=False).plot()"
   ]
  },
  {
   "cell_type": "markdown",
   "metadata": {},
   "source": [
    "### Experimental Data\n",
    "\n",
    "- This plot shows runs of **matrix multiply** where the **frequencies have been restricted**\n",
    "- **Similar colors** have **similar frequency restrictions**\n",
    "- **Runtime** mostly dominated by **GPU frequency**\n",
    "- **Energy consumption** dominated by **CPU frequency**\n",
    "- Different frequency restrictions result in similar runtimes and different energy consumptions\n",
    "    - **Changing the frequency** can **save energy without increasing runtime**"
   ]
  },
  {
   "cell_type": "code",
   "execution_count": 4,
   "metadata": {},
   "outputs": [
    {
     "data": {
      "application/vnd.jupyter.widget-view+json": {
       "model_id": "2f18e18baf314934a38511b37c4f172a",
       "version_major": 2,
       "version_minor": 0
      },
      "text/plain": [
       "Canvas(toolbar=Toolbar(toolitems=[('Home', 'Reset original view', 'home', 'home'), ('Back', 'Back to previous …"
      ]
     },
     "metadata": {},
     "output_type": "display_data"
    }
   ],
   "source": [
    "fixed_frequency_matrix_multiply_data_set.energy_consumption_vs_runtime_scatter_plot(normalized=False).plot()"
   ]
  },
  {
   "cell_type": "markdown",
   "metadata": {},
   "source": [
    "- This next plot shows the same data, but instead each point is **compared to the average of the control data**\n",
    "- This results in the **energy savings** and **runtime increase** for each run compared to control data"
   ]
  },
  {
   "cell_type": "code",
   "execution_count": 5,
   "metadata": {},
   "outputs": [
    {
     "data": {
      "application/vnd.jupyter.widget-view+json": {
       "model_id": "c8ff852e0395422699f1ff78b3f3d936",
       "version_major": 2,
       "version_minor": 0
      },
      "text/plain": [
       "Canvas(toolbar=Toolbar(toolitems=[('Home', 'Reset original view', 'home', 'home'), ('Back', 'Back to previous …"
      ]
     },
     "metadata": {},
     "output_type": "display_data"
    }
   ],
   "source": [
    "matrix_multiply_controlled_data_set.energy_savings_vs_runtime_increase_plot(normalized=False, control_comparison=ControlComparison.MEAN).plot()"
   ]
  },
  {
   "cell_type": "markdown",
   "metadata": {},
   "source": [
    "- The most interesting portion is everything in the **top left corner**\n",
    "    - These are runs that **save energy and time** compared to the control data\n",
    "- For most of these points, **GPU frequency is at or near the maximum**\n",
    "    - This also suggests that **changing GPU frequencies** for **GPU bound applications** does **not** lead to **energy savings**\n",
    "    - **CPU frequency** seems to be the **major factor** in **determining energy savings** for **GPU bound applications**"
   ]
  },
  {
   "cell_type": "code",
   "execution_count": 6,
   "metadata": {},
   "outputs": [
    {
     "data": {
      "application/vnd.jupyter.widget-view+json": {
       "model_id": "7eaf28cfdc744972a9776428806d7f74",
       "version_major": 2,
       "version_minor": 0
      },
      "text/plain": [
       "Canvas(toolbar=Toolbar(toolitems=[('Home', 'Reset original view', 'home', 'home'), ('Back', 'Back to previous …"
      ]
     },
     "metadata": {},
     "output_type": "display_data"
    }
   ],
   "source": [
    "plot = matrix_multiply_controlled_data_set.energy_savings_vs_runtime_increase_plot(normalized=False, control_comparison=ControlComparison.MEAN)\n",
    "plot.x_max = 0\n",
    "plot.y_min = 0\n",
    "plot.plot()"
   ]
  },
  {
   "cell_type": "markdown",
   "metadata": {},
   "source": [
    "- Plot shows the **effect of different CPU and GPU frequencies on runtime**\n",
    "- Different **CPU frequencies have a minor impact**\n",
    "- **Low GPU frequencies have a major impact**\n",
    "    - Impact becomes smaller as the clock rate increases\n",
    "    - Again points to the application being **GPU bound**"
   ]
  },
  {
   "cell_type": "code",
   "execution_count": 7,
   "metadata": {},
   "outputs": [
    {
     "data": {
      "application/vnd.jupyter.widget-view+json": {
       "model_id": "0bae34c759c74ed18bbfab045e4653c6",
       "version_major": 2,
       "version_minor": 0
      },
      "text/plain": [
       "Canvas(toolbar=Toolbar(toolitems=[('Home', 'Reset original view', 'home', 'home'), ('Back', 'Back to previous …"
      ]
     },
     "metadata": {},
     "output_type": "display_data"
    }
   ],
   "source": [
    "fixed_frequency_matrix_multiply_data_set.core_clock_rate_vs_gpu_clock_rate_vs_runtime_scatter_plot().plot()"
   ]
  },
  {
   "cell_type": "markdown",
   "metadata": {},
   "source": [
    "- This graph plots the same data, but **compared to the average control data**\n",
    "- Runs that save time are on the upper end of the frequency spectrum as expected"
   ]
  },
  {
   "cell_type": "code",
   "execution_count": 8,
   "metadata": {},
   "outputs": [
    {
     "data": {
      "application/vnd.jupyter.widget-view+json": {
       "model_id": "746a2c28e1fc4d2ea3db89e37285e116",
       "version_major": 2,
       "version_minor": 0
      },
      "text/plain": [
       "Canvas(toolbar=Toolbar(toolitems=[('Home', 'Reset original view', 'home', 'home'), ('Back', 'Back to previous …"
      ]
     },
     "metadata": {},
     "output_type": "display_data"
    }
   ],
   "source": [
    "matrix_multiply_controlled_data_set.core_clock_rate_vs_gpu_clock_rate_vs_runtime_increase_scatter_plot(control_comparison=ControlComparison.MEAN).plot()"
   ]
  },
  {
   "cell_type": "markdown",
   "metadata": {},
   "source": [
    "- The next graph plots the **effects on energy consumption**\n",
    "- **Low GPU frequencies** seem to **increase energy consumption by a lot**\n",
    "    - Probably due to the observed **increase in runtime**\n",
    "    - Beyond `1 GHz` the impact of GPU frequency is minimal\n",
    "- **Low CPU frequencies reduce** the **energy consumption**\n",
    "    - GPU bound applications have the CPU waiting for the GPU\n",
    "    - **Lowering the CPU frequency decreases idle time on the CPU** while the GPU is busy\n",
    "    - In contrast to GPU frequency, **lower frequencies save energy**"
   ]
  },
  {
   "cell_type": "code",
   "execution_count": 9,
   "metadata": {},
   "outputs": [
    {
     "data": {
      "application/vnd.jupyter.widget-view+json": {
       "model_id": "ff8c349d92064c3e94ff5f1cc8694fa4",
       "version_major": 2,
       "version_minor": 0
      },
      "text/plain": [
       "Canvas(toolbar=Toolbar(toolitems=[('Home', 'Reset original view', 'home', 'home'), ('Back', 'Back to previous …"
      ]
     },
     "metadata": {},
     "output_type": "display_data"
    }
   ],
   "source": [
    "fixed_frequency_matrix_multiply_data_set.core_clock_rate_vs_gpu_clock_rate_vs_energy_consumption_scatter_plot().plot()"
   ]
  },
  {
   "cell_type": "markdown",
   "metadata": {},
   "source": [
    "- This graph plots the same data, but again **compared to the average control data**\n",
    "- **Runs that save energy** compared to the control data tend to have a **high GPU frequency** and a **low to medium CPU frequency**"
   ]
  },
  {
   "cell_type": "code",
   "execution_count": 10,
   "metadata": {},
   "outputs": [
    {
     "data": {
      "application/vnd.jupyter.widget-view+json": {
       "model_id": "8294354edd76403f8536f69ab56f8699",
       "version_major": 2,
       "version_minor": 0
      },
      "text/plain": [
       "Canvas(toolbar=Toolbar(toolitems=[('Home', 'Reset original view', 'home', 'home'), ('Back', 'Back to previous …"
      ]
     },
     "metadata": {},
     "output_type": "display_data"
    }
   ],
   "source": [
    "matrix_multiply_controlled_data_set.core_clock_rate_vs_gpu_clock_rate_vs_energy_savings_scatter_plot(control_comparison=ControlComparison.MEAN).plot()"
   ]
  },
  {
   "cell_type": "markdown",
   "metadata": {},
   "source": [
    "## K-Means\n",
    "\n",
    "- Performed with Rodinia 3.1\n",
    "- Used `kdd_cup` data set"
   ]
  },
  {
   "cell_type": "markdown",
   "metadata": {},
   "source": [
    "### Control Data\n",
    "\n",
    "- Plot shows runs of **k-means** with **unrestricted frequencies**\n",
    "- Runtime averages about `0.68 seconds`\n",
    "- Energy consumption averages about `65 joules`"
   ]
  },
  {
   "cell_type": "code",
   "execution_count": 11,
   "metadata": {},
   "outputs": [
    {
     "data": {
      "application/vnd.jupyter.widget-view+json": {
       "model_id": "ea0c986374fc4dfc8356e7294836951e",
       "version_major": 2,
       "version_minor": 0
      },
      "text/plain": [
       "Canvas(toolbar=Toolbar(toolitems=[('Home', 'Reset original view', 'home', 'home'), ('Back', 'Back to previous …"
      ]
     },
     "metadata": {},
     "output_type": "display_data"
    }
   ],
   "source": [
    "kmeans_data_set.energy_consumption_vs_runtime_scatter_plot(normalized=False).plot()"
   ]
  },
  {
   "cell_type": "markdown",
   "metadata": {},
   "source": [
    "### Experimental Data\n",
    "\n",
    "- This plot shows runs of matrix multiply where the frequencies have been restricted\n",
    "- **Runtime** mostly dominated by **CPU frequency**\n",
    "- **Energy consumption** dominated by **GPU frequency**\n",
    "- Application seems to be **CPU bound**\n",
    "- Different frequency restrictions result in similar runtimes and different energy consumptions\n",
    "    - Changing the frequency can save energy without increasing runtime"
   ]
  },
  {
   "cell_type": "code",
   "execution_count": 12,
   "metadata": {},
   "outputs": [
    {
     "data": {
      "application/vnd.jupyter.widget-view+json": {
       "model_id": "ecad5f96be7749949adedf7cf491258a",
       "version_major": 2,
       "version_minor": 0
      },
      "text/plain": [
       "Canvas(toolbar=Toolbar(toolitems=[('Home', 'Reset original view', 'home', 'home'), ('Back', 'Back to previous …"
      ]
     },
     "metadata": {},
     "output_type": "display_data"
    }
   ],
   "source": [
    "fixed_frequency_kmeans_data_set.energy_consumption_vs_runtime_scatter_plot(normalized=False).plot()"
   ]
  },
  {
   "cell_type": "markdown",
   "metadata": {},
   "source": [
    "- This next plot again shows the same data **compared to the average of the control data**\n",
    "- In contrast to matrix multiply, k-means has **no runs where runtime is decreased**"
   ]
  },
  {
   "cell_type": "code",
   "execution_count": 13,
   "metadata": {},
   "outputs": [
    {
     "data": {
      "application/vnd.jupyter.widget-view+json": {
       "model_id": "92a499d0ce23483c9ded02249adc5150",
       "version_major": 2,
       "version_minor": 0
      },
      "text/plain": [
       "Canvas(toolbar=Toolbar(toolitems=[('Home', 'Reset original view', 'home', 'home'), ('Back', 'Back to previous …"
      ]
     },
     "metadata": {},
     "output_type": "display_data"
    }
   ],
   "source": [
    "kmeans_controlled_data_set.energy_savings_vs_runtime_increase_plot(normalized=False, control_comparison=ControlComparison.MEAN).plot()"
   ]
  },
  {
   "cell_type": "markdown",
   "metadata": {},
   "source": [
    "- However, there are a few runs that **save energy**, but **not many** in the entire data set\n",
    "- This suggests that **CPU bound** applications offer **less opportunities** to **save energy**"
   ]
  },
  {
   "cell_type": "code",
   "execution_count": 14,
   "metadata": {},
   "outputs": [
    {
     "data": {
      "application/vnd.jupyter.widget-view+json": {
       "model_id": "a6b193302ada470a8a3f172249fc3737",
       "version_major": 2,
       "version_minor": 0
      },
      "text/plain": [
       "Canvas(toolbar=Toolbar(toolitems=[('Home', 'Reset original view', 'home', 'home'), ('Back', 'Back to previous …"
      ]
     },
     "metadata": {},
     "output_type": "display_data"
    }
   ],
   "source": [
    "plot = kmeans_controlled_data_set.energy_savings_vs_runtime_increase_plot(normalized=False, control_comparison=ControlComparison.MEAN)\n",
    "plot.y_min = 0\n",
    "plot.plot()"
   ]
  },
  {
   "cell_type": "markdown",
   "metadata": {},
   "source": [
    "- Plot shows the **effect of different CPU and GPU frequencies on runtime**\n",
    "- Different **GPU frequencies have no impact**\n",
    "- **Low GPU frequencies have a major impact**\n",
    "    - Impact becomes smaller as the clock rate increases\n",
    "    - Again points to the application being **CPU bound**"
   ]
  },
  {
   "cell_type": "code",
   "execution_count": 15,
   "metadata": {},
   "outputs": [
    {
     "data": {
      "application/vnd.jupyter.widget-view+json": {
       "model_id": "a0048ac545c94c7483c1a90680295504",
       "version_major": 2,
       "version_minor": 0
      },
      "text/plain": [
       "Canvas(toolbar=Toolbar(toolitems=[('Home', 'Reset original view', 'home', 'home'), ('Back', 'Back to previous …"
      ]
     },
     "metadata": {},
     "output_type": "display_data"
    }
   ],
   "source": [
    "fixed_frequency_kmeans_data_set.core_clock_rate_vs_gpu_clock_rate_vs_runtime_scatter_plot().plot()"
   ]
  },
  {
   "cell_type": "markdown",
   "metadata": {},
   "source": [
    "- This graph plots the same data, but **compared to the average control data**\n",
    "- As shown in the previous graphs, **no runs save time**"
   ]
  },
  {
   "cell_type": "code",
   "execution_count": 16,
   "metadata": {},
   "outputs": [
    {
     "data": {
      "application/vnd.jupyter.widget-view+json": {
       "model_id": "e0b97f588cea45c38e39cdd42f1c21d6",
       "version_major": 2,
       "version_minor": 0
      },
      "text/plain": [
       "Canvas(toolbar=Toolbar(toolitems=[('Home', 'Reset original view', 'home', 'home'), ('Back', 'Back to previous …"
      ]
     },
     "metadata": {},
     "output_type": "display_data"
    }
   ],
   "source": [
    "kmeans_controlled_data_set.core_clock_rate_vs_gpu_clock_rate_vs_runtime_increase_scatter_plot(control_comparison=ControlComparison.MEAN).plot()"
   ]
  },
  {
   "cell_type": "markdown",
   "metadata": {},
   "source": [
    "- The next graph plots the **effects on energy consumption**\n",
    "- **Low CPU frequencies** seem to **increase energy consumption by a lot**\n",
    "    - Probably due to the observed **increase in runtime**\n",
    "    - Beyond `0.4 GHz` the impact of CPU frequency is minimal\n",
    "- **GPU frequencies** have a **minimal impact** on **energy consumption**\n",
    "    - CPU bound applications have the GPU waiting for the CPU\n",
    "    - Apparently, **reducing GPU frequency** does **not lead** to **major energy savings** for **CPU bound** applications"
   ]
  },
  {
   "cell_type": "code",
   "execution_count": 17,
   "metadata": {},
   "outputs": [
    {
     "data": {
      "application/vnd.jupyter.widget-view+json": {
       "model_id": "08665ae54a7e43e4a879e6613b86ab5e",
       "version_major": 2,
       "version_minor": 0
      },
      "text/plain": [
       "Canvas(toolbar=Toolbar(toolitems=[('Home', 'Reset original view', 'home', 'home'), ('Back', 'Back to previous …"
      ]
     },
     "metadata": {},
     "output_type": "display_data"
    }
   ],
   "source": [
    "fixed_frequency_kmeans_data_set.core_clock_rate_vs_gpu_clock_rate_vs_energy_consumption_scatter_plot().plot()"
   ]
  },
  {
   "cell_type": "markdown",
   "metadata": {},
   "source": [
    "- This graph plots the same data, but again **compared to the average control data**\n",
    "- The few **runs that save energy** seem to have **higher CPU frequencies** and **lower GPU frequencies** but the data is **inconclusive**"
   ]
  },
  {
   "cell_type": "code",
   "execution_count": 18,
   "metadata": {},
   "outputs": [
    {
     "data": {
      "application/vnd.jupyter.widget-view+json": {
       "model_id": "2aea237776fb423c8d1a95194682593a",
       "version_major": 2,
       "version_minor": 0
      },
      "text/plain": [
       "Canvas(toolbar=Toolbar(toolitems=[('Home', 'Reset original view', 'home', 'home'), ('Back', 'Back to previous …"
      ]
     },
     "metadata": {},
     "output_type": "display_data"
    }
   ],
   "source": [
    "kmeans_controlled_data_set.core_clock_rate_vs_gpu_clock_rate_vs_energy_savings_scatter_plot(control_comparison=ControlComparison.MEAN).plot()"
   ]
  },
  {
   "cell_type": "markdown",
   "metadata": {},
   "source": [
    "# Effects of CPU and GPU Frequency on Workload Patterns"
   ]
  },
  {
   "cell_type": "markdown",
   "metadata": {},
   "source": [
    "## Matrix Multiply\n",
    "\n",
    "- Performed using the samples from **CUDA 10.1**\n",
    "- Uses a matrix size of `960`\n",
    "- All runs pinned to `core 0`\n",
    "- Each run contains `4 executions` of matrix multiply to clearly show **periodic behavior**"
   ]
  },
  {
   "cell_type": "markdown",
   "metadata": {},
   "source": [
    "### Data Overview\n",
    "\n",
    "- The next plots shows the **occurrence of different CPU utilization rates** in the control data set\n",
    "- The average **CPU utilization rate** seems to be around `40%`"
   ]
  },
  {
   "cell_type": "code",
   "execution_count": 19,
   "metadata": {},
   "outputs": [
    {
     "data": {
      "application/vnd.jupyter.widget-view+json": {
       "model_id": "e9acb43c0cef46d0989a8dbc14055860",
       "version_major": 2,
       "version_minor": 0
      },
      "text/plain": [
       "Canvas(toolbar=Toolbar(toolitems=[('Home', 'Reset original view', 'home', 'home'), ('Back', 'Back to previous …"
      ]
     },
     "metadata": {},
     "output_type": "display_data"
    }
   ],
   "source": [
    "for histogram_plot in matrix_multiply_controlled_data_set.data_set.utilization_rate_histogram_plots(bins=30, title_filter=\"CPUCoreMonitor.0.\"):\n",
    "    histogram_plot.plot()"
   ]
  },
  {
   "cell_type": "markdown",
   "metadata": {},
   "source": [
    "- The next plots shows the **occurrence of different GPU utilization rates** in the entire control data set\n",
    "- The average **GPU utilization rate** is spread evenly"
   ]
  },
  {
   "cell_type": "code",
   "execution_count": 20,
   "metadata": {},
   "outputs": [
    {
     "data": {
      "application/vnd.jupyter.widget-view+json": {
       "model_id": "21ef241f5c144460921626776a732607",
       "version_major": 2,
       "version_minor": 0
      },
      "text/plain": [
       "Canvas(toolbar=Toolbar(toolitems=[('Home', 'Reset original view', 'home', 'home'), ('Back', 'Back to previous …"
      ]
     },
     "metadata": {},
     "output_type": "display_data"
    }
   ],
   "source": [
    "for histogram_plot in matrix_multiply_controlled_data_set.data_set.utilization_rate_histogram_plots(bins=30, title_filter=\"GPUMonitor.0.\"):\n",
    "    histogram_plot.plot()"
   ]
  },
  {
   "cell_type": "markdown",
   "metadata": {},
   "source": [
    "### Usage Pattern\n",
    "\n",
    "- This section shows a run that is representative of the observed utilization pattern\n",
    "- Below information about the system on which the run was performed is shown"
   ]
  },
  {
   "cell_type": "code",
   "execution_count": 21,
   "metadata": {},
   "outputs": [
    {
     "name": "stdout",
     "output_type": "stream",
     "text": [
      "{'GPUs': [{'Brand': 'GeForce',\n",
      "           'Compute Capability Major Version': 7,\n",
      "           'Compute Capability Minor Version': 5,\n",
      "           'Default Auto Boosted Clocks Enabled': None,\n",
      "           'Default Power Limit (W)': '260.0',\n",
      "           'Memory Size (B)': '8.3 GB',\n",
      "           'Name': 'GeForce RTX 2080',\n",
      "           'PCIe Link Width (B)': '16 Bytes',\n",
      "           'Supported Core Clock Rates (Hz)': [''],\n",
      "           'Supported Memory Clock Rates (Hz)': ['']}],\n",
      " 'Label': 'Fixed Frequency Matrix Multiply'}\n"
     ]
    }
   ],
   "source": [
    "profiler_session = [profiler_session for profiler_session in complete_data_set.data if profiler_session.id == 4809][0]\n",
    "pprint.pprint(profiler_session.summary)"
   ]
  },
  {
   "cell_type": "markdown",
   "metadata": {},
   "source": [
    "- The next plot shows **device utilization rate over time**\n",
    "- The **dips** in **CPU utilization rate** seem to **correlate with the start** of each iteration\n",
    "- The **CPU utilization rate** seems to remain near `100%`\n",
    "    - Possible explanation is the use of `cudaDeviceSynchronize()` on the **CPU**\n",
    "        - This puts the **CPU** in a **busy** loop waiting on the **GPU** to complete all work\n",
    "        - The **busy** loop costs more energy\n",
    "        - `cudaDeviceSynchronize()` is called twice in the code\n",
    "            - Matches the amount of peaks per iteration in the graph"
   ]
  },
  {
   "cell_type": "code",
   "execution_count": 22,
   "metadata": {},
   "outputs": [
    {
     "data": {
      "application/vnd.jupyter.widget-view+json": {
       "model_id": "56be2d40b1fc485d8cbfe897fa273cb1",
       "version_major": 2,
       "version_minor": 0
      },
      "text/plain": [
       "Canvas(toolbar=Toolbar(toolitems=[('Home', 'Reset original view', 'home', 'home'), ('Back', 'Back to previous …"
      ]
     },
     "metadata": {},
     "output_type": "display_data"
    }
   ],
   "source": [
    "plot = profiler_session.utilization_rate_timeseries_plot\n",
    "plot.plot_series = { key: plot.plot_series[key] for key in plot.plot_series if key.startswith(\"CPU 0 Core 0\") or key.startswith(\"GPU 0\") }\n",
    "plot.plot()"
   ]
  },
  {
   "cell_type": "markdown",
   "metadata": {},
   "source": [
    "- The following plot shows the **power consumption over time**\n",
    "- As expected, it remains relatively constant since both **CPU and GPU utilization rate** is at `100%`\n",
    "    - Nonetheless, dips can be observed whenever a new iteration starts"
   ]
  },
  {
   "cell_type": "code",
   "execution_count": 23,
   "metadata": {},
   "outputs": [
    {
     "data": {
      "application/vnd.jupyter.widget-view+json": {
       "model_id": "847ffe3478ae4f37ae3e5e44bdb67433",
       "version_major": 2,
       "version_minor": 0
      },
      "text/plain": [
       "Canvas(toolbar=Toolbar(toolitems=[('Home', 'Reset original view', 'home', 'home'), ('Back', 'Back to previous …"
      ]
     },
     "metadata": {},
     "output_type": "display_data"
    }
   ],
   "source": [
    "plot = profiler_session.power_consumption_timeseries_plot(plot_limits=False)\n",
    "#plot.plot_series = { key: plot.plot_series[key] for key in plot.plot_series if key.startswith(\"CPU 0 Core 0\") or key.startswith(\"GPU 0\") or key.startswith(\"Node\") }\n",
    "plot.plot()"
   ]
  },
  {
   "cell_type": "markdown",
   "metadata": {},
   "source": [
    "- This graph shows the **memory consumption over time**\n",
    "- The matrices do not consume a lot of memory\n",
    "- Dips can be observed at the start of each iteration"
   ]
  },
  {
   "cell_type": "code",
   "execution_count": 24,
   "metadata": {},
   "outputs": [
    {
     "name": "stderr",
     "output_type": "stream",
     "text": [
      "/data/Cloud/Nextcloud/Development/Projects/EnergyManager/Visualizer/Source/Visualizer/Plotting/FigurePlot.py:14: RuntimeWarning: More than 20 figures have been opened. Figures created through the pyplot interface (`matplotlib.pyplot.figure`) are retained until explicitly closed and may consume too much memory. (To control this warning, see the rcParam `figure.max_open_warning`).\n",
      "  self.figure = pyplot.figure(figsize=(15, 5))\n"
     ]
    },
    {
     "data": {
      "application/vnd.jupyter.widget-view+json": {
       "model_id": "6c31b3104b8b43d4b7457e1f37c17f94",
       "version_major": 2,
       "version_minor": 0
      },
      "text/plain": [
       "Canvas(toolbar=Toolbar(toolitems=[('Home', 'Reset original view', 'home', 'home'), ('Back', 'Back to previous …"
      ]
     },
     "metadata": {},
     "output_type": "display_data"
    }
   ],
   "source": [
    "profiler_session.memory_consumption_timeseries_plot(plot_sizes=False).plot()"
   ]
  },
  {
   "cell_type": "markdown",
   "metadata": {},
   "source": [
    "## K-Means\n",
    "\n",
    "- Performed with **Rodinia 3.1**\n",
    "- Used `kdd_cup` data set\n",
    "- All runs pinned to `core 0`\n",
    "- Each run contains `4 executions` of k-means to clearly show **periodic behavior**"
   ]
  },
  {
   "cell_type": "markdown",
   "metadata": {},
   "source": [
    "### Data Overview\n",
    "\n",
    "- The next plots shows the **occurrence of different CPU utilization rates** in the control data set\n",
    "- The most common **CPU utilization rates** seems to be spread between `0-50%`"
   ]
  },
  {
   "cell_type": "code",
   "execution_count": 25,
   "metadata": {},
   "outputs": [
    {
     "data": {
      "application/vnd.jupyter.widget-view+json": {
       "model_id": "eecd4520abb44d7caddb7027d28966e2",
       "version_major": 2,
       "version_minor": 0
      },
      "text/plain": [
       "Canvas(toolbar=Toolbar(toolitems=[('Home', 'Reset original view', 'home', 'home'), ('Back', 'Back to previous …"
      ]
     },
     "metadata": {},
     "output_type": "display_data"
    }
   ],
   "source": [
    "for histogram_plot in kmeans_controlled_data_set.data_set.utilization_rate_histogram_plots(bins=30, title_filter=\"CPUCoreMonitor.0.\"):\n",
    "    histogram_plot.plot()"
   ]
  },
  {
   "cell_type": "markdown",
   "metadata": {},
   "source": [
    "- The next plots shows the **occurrence of different GPU utilization rates** in the entire control data set\n",
    "- The average **GPU utilization rate** is spread evenly"
   ]
  },
  {
   "cell_type": "code",
   "execution_count": 26,
   "metadata": {},
   "outputs": [
    {
     "data": {
      "application/vnd.jupyter.widget-view+json": {
       "model_id": "7aaa294d461b400eab156932a777ef58",
       "version_major": 2,
       "version_minor": 0
      },
      "text/plain": [
       "Canvas(toolbar=Toolbar(toolitems=[('Home', 'Reset original view', 'home', 'home'), ('Back', 'Back to previous …"
      ]
     },
     "metadata": {},
     "output_type": "display_data"
    }
   ],
   "source": [
    "for histogram_plot in kmeans_controlled_data_set.data_set.utilization_rate_histogram_plots(bins=30, title_filter=\"GPUMonitor.0.\"):\n",
    "    histogram_plot.plot()"
   ]
  },
  {
   "cell_type": "markdown",
   "metadata": {},
   "source": [
    "### Usage Pattern\n",
    "\n",
    "- This section shows a run that is representative of the observed utilization pattern\n",
    "- Below information about the system on which the run was performed is shown"
   ]
  },
  {
   "cell_type": "code",
   "execution_count": 27,
   "metadata": {},
   "outputs": [],
   "source": [
    "profiler_session = [profiler_session for profiler_session in complete_data_set.data if profiler_session.id == 4861][0]"
   ]
  },
  {
   "cell_type": "markdown",
   "metadata": {},
   "source": [
    "- The next plot shows **device utilization rate over time**\n",
    "- Iterations not readily apparent in the data\n",
    "- The **CPU utilization rate** switches between `0%` and `100%`\n",
    "    - Again, a possible explanation is the use of `cudaDeviceSynchronize()` on the **CPU**\n",
    "- **GPU utilization** moves up and down but does not reach `100%`"
   ]
  },
  {
   "cell_type": "code",
   "execution_count": 28,
   "metadata": {},
   "outputs": [
    {
     "data": {
      "application/vnd.jupyter.widget-view+json": {
       "model_id": "e713256f68024ad29a65aeb50ffcf322",
       "version_major": 2,
       "version_minor": 0
      },
      "text/plain": [
       "Canvas(toolbar=Toolbar(toolitems=[('Home', 'Reset original view', 'home', 'home'), ('Back', 'Back to previous …"
      ]
     },
     "metadata": {},
     "output_type": "display_data"
    }
   ],
   "source": [
    "plot = profiler_session.utilization_rate_timeseries_plot\n",
    "plot.plot_series = { key: plot.plot_series[key] for key in plot.plot_series if key.startswith(\"CPU 0 Core 0\") or key.startswith(\"GPU 0\") }\n",
    "plot.plot()"
   ]
  },
  {
   "cell_type": "markdown",
   "metadata": {},
   "source": [
    "- The following plot shows the **power consumption over time**\n",
    "- There is an initial dip, which is probably when **data is being read from disk**\n",
    "    - This data is probably **cached in subsequent iterations**, thus resulting in only one spike\n",
    "- It remains relatively constant over time"
   ]
  },
  {
   "cell_type": "code",
   "execution_count": 29,
   "metadata": {},
   "outputs": [
    {
     "data": {
      "application/vnd.jupyter.widget-view+json": {
       "model_id": "2730dc9759cc40cfae9ff726520bf0bd",
       "version_major": 2,
       "version_minor": 0
      },
      "text/plain": [
       "Canvas(toolbar=Toolbar(toolitems=[('Home', 'Reset original view', 'home', 'home'), ('Back', 'Back to previous …"
      ]
     },
     "metadata": {},
     "output_type": "display_data"
    }
   ],
   "source": [
    "plot = profiler_session.power_consumption_timeseries_plot(plot_limits=False)\n",
    "plot.plot_series = { key: plot.plot_series[key] for key in plot.plot_series if key.startswith(\"CPU 0 Core 0\") or key.startswith(\"GPU 0\") or key.startswith(\"Node\") }\n",
    "plot.plot()"
   ]
  },
  {
   "cell_type": "markdown",
   "metadata": {},
   "source": [
    "- This graph shows the **memory consumption over time**\n",
    "- The data does not consume a lot of memory\n",
    "- Here, dips can be observed at the start of each new iteration"
   ]
  },
  {
   "cell_type": "code",
   "execution_count": 30,
   "metadata": {},
   "outputs": [
    {
     "data": {
      "application/vnd.jupyter.widget-view+json": {
       "model_id": "6dc9fa5229c1434882b822d98c0552f8",
       "version_major": 2,
       "version_minor": 0
      },
      "text/plain": [
       "Canvas(toolbar=Toolbar(toolitems=[('Home', 'Reset original view', 'home', 'home'), ('Back', 'Back to previous …"
      ]
     },
     "metadata": {},
     "output_type": "display_data"
    }
   ],
   "source": [
    "profiler_session.memory_consumption_timeseries_plot(plot_sizes=False).plot()"
   ]
  },
  {
   "cell_type": "markdown",
   "metadata": {},
   "source": [
    "# Investigating High CPU Usage"
   ]
  },
  {
   "cell_type": "markdown",
   "metadata": {},
   "source": [
    "- Using **matrix multiply**\n",
    "- Performed using the samples from **CUDA 10.1**\n",
    "- Uses a matrix size of `960`\n",
    "- All runs pinned to `core 0`\n",
    "- Each run contains `3 executions` of matrix multiply to show **periodic behavior**"
   ]
  },
  {
   "cell_type": "markdown",
   "metadata": {},
   "source": [
    "## Method\n",
    "\n",
    "- To investigate the **high CPU usage** we looked at `cudaDeviceSynchronize()` as a possible cause\n",
    "- **3 versions** of the source code were tested to observe the **effect on the utilization pattern**\n",
    "    1. A version **without explicit synchronization** calls like `cudaDeviceSynchronize()`\n",
    "        - Will still synchronize on data transfers\n",
    "        - Shows if the device is doing anything besides busy waiting\n",
    "    2. A version with **sleep** calls instead of **explicit synchronization** calls\n",
    "        - Will still synchronize on data transfers\n",
    "        - Shows if the sleep call reduces the time spent at `100%` **CPU utilization**\n",
    "            - That would indicate that the device is in a busy wait loop\n",
    "    3. A version with **sleep** calls and **explicit synchronization** calls\n",
    "        - Tests the impact of the explicit synchronization calls"
   ]
  },
  {
   "cell_type": "markdown",
   "metadata": {},
   "source": [
    "## Without Explicit Synchronization\n",
    "\n",
    "- This section shows a run where all **explicit synchronziation** calls were **removed**"
   ]
  },
  {
   "cell_type": "code",
   "execution_count": 31,
   "metadata": {},
   "outputs": [],
   "source": [
    "profiler_session = [profiler_session for profiler_session in complete_data_set.data if profiler_session.id == 5003][0]"
   ]
  },
  {
   "cell_type": "markdown",
   "metadata": {},
   "source": [
    "- The next plot shows **device utilization rate over time**\n",
    "- Simply **removing the explicit synchronization** calls **does not seem to affect the observed behavior**"
   ]
  },
  {
   "cell_type": "code",
   "execution_count": 32,
   "metadata": {},
   "outputs": [
    {
     "data": {
      "application/vnd.jupyter.widget-view+json": {
       "model_id": "e8056325dcbc4831917f4fd92cea067b",
       "version_major": 2,
       "version_minor": 0
      },
      "text/plain": [
       "Canvas(toolbar=Toolbar(toolitems=[('Home', 'Reset original view', 'home', 'home'), ('Back', 'Back to previous …"
      ]
     },
     "metadata": {},
     "output_type": "display_data"
    }
   ],
   "source": [
    "plot = profiler_session.utilization_rate_timeseries_plot\n",
    "plot.plot_series = { key: plot.plot_series[key] for key in plot.plot_series if key.startswith(\"CPU 0 Core 0\") or key.startswith(\"GPU 0\") }\n",
    "plot.plot()"
   ]
  },
  {
   "cell_type": "markdown",
   "metadata": {},
   "source": [
    "- The next plot shows the power consumption is also still similar to the version with explicit synchronization"
   ]
  },
  {
   "cell_type": "code",
   "execution_count": 33,
   "metadata": {},
   "outputs": [
    {
     "data": {
      "application/vnd.jupyter.widget-view+json": {
       "model_id": "a1301e618a8f41fb83336c1d11ecd99b",
       "version_major": 2,
       "version_minor": 0
      },
      "text/plain": [
       "Canvas(toolbar=Toolbar(toolitems=[('Home', 'Reset original view', 'home', 'home'), ('Back', 'Back to previous …"
      ]
     },
     "metadata": {},
     "output_type": "display_data"
    }
   ],
   "source": [
    "plot = profiler_session.power_consumption_timeseries_plot(plot_limits=False)\n",
    "plot.plot_series = { key: plot.plot_series[key] for key in plot.plot_series if key.startswith(\"CPU 0 Core 0\") or key.startswith(\"GPU 0\") or key.startswith(\"Node\") }\n",
    "plot.plot()"
   ]
  },
  {
   "cell_type": "markdown",
   "metadata": {},
   "source": [
    "## With Sleep Instead of Explicit Synchronization\n",
    "\n",
    "- This section shows a run where all **explicit synchronziation** calls were **replaced** with **sleep** calls\n",
    "- Each **sleep** call takes `2 seconds`"
   ]
  },
  {
   "cell_type": "code",
   "execution_count": 34,
   "metadata": {},
   "outputs": [],
   "source": [
    "profiler_session = [profiler_session for profiler_session in complete_data_set.data if profiler_session.id == 5166][0]"
   ]
  },
  {
   "cell_type": "markdown",
   "metadata": {},
   "source": [
    "- The next plot shows **device utilization rate over time**\n",
    "- The effect of the **sleep** calls is immediately apparent as 2 second long dips in **CPU utilization** at the start of each run\n",
    "    - The time per iteration is still similar, which suggests that our hypothesis is correct\n",
    "    - The high **CPU utilization** seems to be caused by the busy wait loop"
   ]
  },
  {
   "cell_type": "code",
   "execution_count": 35,
   "metadata": {},
   "outputs": [
    {
     "data": {
      "application/vnd.jupyter.widget-view+json": {
       "model_id": "adffa7bbaf75439bbfe4c1ea24a570cb",
       "version_major": 2,
       "version_minor": 0
      },
      "text/plain": [
       "Canvas(toolbar=Toolbar(toolitems=[('Home', 'Reset original view', 'home', 'home'), ('Back', 'Back to previous …"
      ]
     },
     "metadata": {},
     "output_type": "display_data"
    }
   ],
   "source": [
    "plot = profiler_session.utilization_rate_timeseries_plot\n",
    "plot.plot_series = { key: plot.plot_series[key] for key in plot.plot_series if key.startswith(\"CPU 0 Core 0\") or key.startswith(\"GPU 0\") }\n",
    "plot.plot()"
   ]
  },
  {
   "cell_type": "markdown",
   "metadata": {},
   "source": [
    "- The next plot shows that the **dips in power consumption** at the start of each iteration are now **more pronounced**\n",
    "    - This suggests that by reducing the **CPU frequency** in a **busy loop** we can **save energy**"
   ]
  },
  {
   "cell_type": "code",
   "execution_count": 36,
   "metadata": {},
   "outputs": [
    {
     "data": {
      "application/vnd.jupyter.widget-view+json": {
       "model_id": "d7daf643b79f4f5088f9d384dd12aa20",
       "version_major": 2,
       "version_minor": 0
      },
      "text/plain": [
       "Canvas(toolbar=Toolbar(toolitems=[('Home', 'Reset original view', 'home', 'home'), ('Back', 'Back to previous …"
      ]
     },
     "metadata": {},
     "output_type": "display_data"
    }
   ],
   "source": [
    "plot = profiler_session.power_consumption_timeseries_plot(plot_limits=False)\n",
    "plot.plot_series = { key: plot.plot_series[key] for key in plot.plot_series if key.startswith(\"CPU 0 Core 0\") or key.startswith(\"GPU 0\") or key.startswith(\"Node\") }\n",
    "plot.plot()"
   ]
  },
  {
   "cell_type": "markdown",
   "metadata": {},
   "source": [
    "## With Sleep and Explicit Synchronization\n",
    "\n",
    "- This section shows a run where all **explicit synchronziation** calls **preceded** with **sleep** calls\n",
    "- Each **sleep** call takes `2 seconds`"
   ]
  },
  {
   "cell_type": "code",
   "execution_count": 37,
   "metadata": {},
   "outputs": [],
   "source": [
    "profiler_session = [profiler_session for profiler_session in complete_data_set.data if profiler_session.id == 5202][0]"
   ]
  },
  {
   "cell_type": "markdown",
   "metadata": {},
   "source": [
    "- The next plot shows **device utilization rate over time**\n",
    "- The **sleep** calls appear to have the **same effect** as in the previous run\n",
    "    - This seems to confirm the suspicion that **explicit synchronization is not needed**\n",
    "    - Synchronization will occur on memory access when results are copied back to the CPU"
   ]
  },
  {
   "cell_type": "code",
   "execution_count": 38,
   "metadata": {},
   "outputs": [
    {
     "data": {
      "application/vnd.jupyter.widget-view+json": {
       "model_id": "de52f99d34974d6ea1d4715e21f3743d",
       "version_major": 2,
       "version_minor": 0
      },
      "text/plain": [
       "Canvas(toolbar=Toolbar(toolitems=[('Home', 'Reset original view', 'home', 'home'), ('Back', 'Back to previous …"
      ]
     },
     "metadata": {},
     "output_type": "display_data"
    }
   ],
   "source": [
    "plot = profiler_session.utilization_rate_timeseries_plot\n",
    "plot.plot_series = { key: plot.plot_series[key] for key in plot.plot_series if key.startswith(\"CPU 0 Core 0\") or key.startswith(\"GPU 0\") }\n",
    "plot.plot()"
   ]
  },
  {
   "cell_type": "markdown",
   "metadata": {},
   "source": [
    "- The power consumption pattern seems to be similar to the previous version as well\n",
    "    - The dips for every iteration are slightly less pronounced but still visible"
   ]
  },
  {
   "cell_type": "code",
   "execution_count": 39,
   "metadata": {},
   "outputs": [
    {
     "data": {
      "application/vnd.jupyter.widget-view+json": {
       "model_id": "25b2e344c7e54c2cba6c9ab861974337",
       "version_major": 2,
       "version_minor": 0
      },
      "text/plain": [
       "Canvas(toolbar=Toolbar(toolitems=[('Home', 'Reset original view', 'home', 'home'), ('Back', 'Back to previous …"
      ]
     },
     "metadata": {},
     "output_type": "display_data"
    }
   ],
   "source": [
    "plot = profiler_session.power_consumption_timeseries_plot(plot_limits=False)\n",
    "plot.plot_series = { key: plot.plot_series[key] for key in plot.plot_series if key.startswith(\"CPU 0 Core 0\") or key.startswith(\"GPU 0\") or key.startswith(\"Node\") }\n",
    "plot.plot()"
   ]
  }
 ],
 "metadata": {
  "kernelspec": {
   "display_name": "Python 3",
   "language": "python",
   "name": "python3"
  },
  "language_info": {
   "codemirror_mode": {
    "name": "ipython",
    "version": 3
   },
   "file_extension": ".py",
   "mimetype": "text/x-python",
   "name": "python",
   "nbconvert_exporter": "python",
   "pygments_lexer": "ipython3",
   "version": "3.8.5"
  },
  "widgets": {
   "application/vnd.jupyter.widget-state+json": {
    "state": {},
    "version_major": 2,
    "version_minor": 0
   }
  }
 },
 "nbformat": 4,
 "nbformat_minor": 4
}
